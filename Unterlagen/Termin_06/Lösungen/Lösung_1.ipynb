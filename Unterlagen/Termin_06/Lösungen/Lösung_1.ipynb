{
 "cells": [
  {
   "cell_type": "markdown",
   "metadata": {},
   "source": [
    "# Übungen"
   ]
  },
  {
   "cell_type": "markdown",
   "metadata": {},
   "source": [
    "## Übung 1: **Summe der Zahlen einer Liste** mittels `while`-Schleife\n",
    "\n",
    "Gegeben sei eine Liste von Zahlen. Schreiben Sie ein Programm, dass die Summer der Zahlen in der Liste berechnet und ausgibt."
   ]
  },
  {
   "cell_type": "code",
   "execution_count": 8,
   "metadata": {},
   "outputs": [
    {
     "name": "stdout",
     "output_type": "stream",
     "text": [
      "Endergebnis = 0\n"
     ]
    }
   ],
   "source": [
    "a = [] #[5, 7, 1, 8, 3, 0]\n",
    "\n",
    "aktueller_Wert = 0 #a[0]\n",
    "index = 0 #1\n",
    "\n",
    "\n",
    "while index < len(a):\n",
    "    \n",
    "    print(f\"Zwischensumme = {aktueller_Wert}\")\n",
    "    print(f\"\\tIndex = {index}, Nächster Wert = {a[index]}\")\n",
    "\n",
    "    aktueller_Wert = aktueller_Wert + a[index]\n",
    "    index = index + 1\n",
    "\n",
    "\n",
    "print(f\"Endergebnis = {aktueller_Wert}\")\n",
    "\n"
   ]
  },
  {
   "cell_type": "markdown",
   "metadata": {},
   "source": [
    "## Übung 2: **Mittelwert der Zahlen einer Liste** mittels `while`-Schleife\n",
    "\n",
    "Gegeben sei eine Liste von Zahlen. Schreiben Sie ein Programm, dass den Mittelwert der Zahlen in der Liste berechnet und ausgibt."
   ]
  },
  {
   "cell_type": "code",
   "execution_count": 9,
   "metadata": {},
   "outputs": [
    {
     "name": "stdout",
     "output_type": "stream",
     "text": [
      "Zwischensumme = 0\n",
      "\tIndex = 0, Nächster Wert = 5\n",
      "Zwischensumme = 0.8333333333333334\n",
      "\tIndex = 1, Nächster Wert = 7\n",
      "Zwischensumme = 2.0\n",
      "\tIndex = 2, Nächster Wert = 1\n",
      "Zwischensumme = 2.1666666666666665\n",
      "\tIndex = 3, Nächster Wert = 8\n",
      "Zwischensumme = 3.5\n",
      "\tIndex = 4, Nächster Wert = 3\n",
      "Zwischensumme = 4.0\n",
      "\tIndex = 5, Nächster Wert = 10\n",
      "Mittelwert = 5.666666666666667\n"
     ]
    }
   ],
   "source": [
    "# TODO\n",
    "\n",
    "a = [5, 7, 1, 8, 3, 10]\n",
    "\n",
    "aktueller_Wert = 0 #a[0]\n",
    "index = 0 #1\n",
    "\n",
    "\n",
    "while index < len(a):\n",
    "    \n",
    "    print(f\"Zwischensumme = {aktueller_Wert}\")\n",
    "    print(f\"\\tIndex = {index}, Nächster Wert = {a[index]}\")\n",
    "\n",
    "    aktueller_Wert = aktueller_Wert + (a[index] / len(a))\n",
    "    index = index + 1\n",
    "\n",
    "\n",
    "print(f\"Mittelwert = {aktueller_Wert}\")\n",
    "#print(f\"Anzahl der Zahlen in der Lister = {len(a)}\")\n",
    "\n",
    "#Mittelwert = aktueller_Wert# / len(a)\n",
    "#print(f\"Mittelwertberechnung = {aktueller_Wert} durch {len(a)}\")\n",
    "#print(f\"Mittelwert = {Mittelwert}\")"
   ]
  },
  {
   "cell_type": "markdown",
   "metadata": {},
   "source": [
    "## Übung 3: **Standardabweichung der Zahlen einer Liste** mittels `while`-Schleife\n",
    "\n",
    "Gegeben sei eine Liste von Zahlen. Schreiben Sie ein Programm, dass die Standardabweichung der Zahlen in der Liste berechnet und ausgibt.\n",
    "\n",
    "*Tip: Zur Berechnung der Standardabweichung müssen Sie auch den Mittelwert berechnen.*"
   ]
  },
  {
   "cell_type": "code",
   "execution_count": 17,
   "metadata": {},
   "outputs": [],
   "source": [
    "a = [1, 3, 5, 9, 12]"
   ]
  },
  {
   "cell_type": "code",
   "execution_count": 22,
   "metadata": {},
   "outputs": [
    {
     "name": "stdout",
     "output_type": "stream",
     "text": [
      "Zwischensumme = 0\n",
      "\tIndex = 0, Nächster Wert = 1.0\n",
      "Zwischensumme = 1.0\n",
      "\tIndex = 1, Nächster Wert = 3\n",
      "Zwischensumme = 4.0\n",
      "\tIndex = 2, Nächster Wert = 5\n",
      "Zwischensumme = 9.0\n",
      "\tIndex = 3, Nächster Wert = 9\n",
      "Zwischensumme = 18.0\n",
      "\tIndex = 4, Nächster Wert = 12\n",
      "Summen = 30.0\n",
      "Anzahl der Zahlen in der Lister = 5\n",
      "Mittelwertberechnung = 30.0 durch 5\n",
      "Mittelwert = 6.0\n",
      "zwischenergebnis: 34.0\n",
      "zwischenergebnis: 35.0\n",
      "zwischenergebnis: 44.0\n",
      "zwischenergebnis: 80.0\n",
      "Zwischenergebnis Varianzen = 80.0\n",
      "Varianz = 16.0\n",
      "Standardabweichung = 4.0\n"
     ]
    }
   ],
   "source": [
    "# LANGFORM\n",
    "\n",
    "# Funktioniert nur, wenn die Liste mindestens einen Eintrag hat!\n",
    "\n",
    "# Schritt 1: Mittelwert berechnen (nach bekanntem Verfahren)\n",
    "\n",
    "aktueller_Wert = 0 #a[0]\n",
    "index = 0 #1\n",
    "\n",
    "while index < len(a):\n",
    "    \n",
    "    print(f\"Zwischensumme = {aktueller_Wert}\")\n",
    "    print(f\"\\tIndex = {index}, Nächster Wert = {a[index]}\")\n",
    "\n",
    "    aktueller_Wert = aktueller_Wert + a[index]\n",
    "    index = index + 1\n",
    "\n",
    "\n",
    "print(f\"Summen = {aktueller_Wert}\")\n",
    "print(f\"Anzahl der Zahlen in der Lister = {len(a)}\")\n",
    "\n",
    "Mittelwert = aktueller_Wert / len(a)\n",
    "print(f\"Mittelwertberechnung = {aktueller_Wert} durch {len(a)}\")\n",
    "print(f\"Mittelwert = {Mittelwert}\")\n",
    "\n",
    "# Schritt 2: Varianz berechnen (nutzt den Mittelwert)\n",
    "\n",
    "varianz_Summe = 0 #(a[0] - Mittelwert) ** 2\n",
    "index2 = 0 #1\n",
    "\n",
    "while index2 < len(a):\n",
    "    \n",
    "    varianz_Summe = varianz_Summe + (( a[index2]) - Mittelwert) ** 2\n",
    "    print (f\"zwischenergebnis: {varianz_Summe}\")\n",
    "    index2 = index2 + 1\n",
    "\n",
    "print(f\"Zwischenergebnis Varianzen = {varianz_Summe}\")\n",
    "Varianz = varianz_Summe / len(a)\n",
    "print(f\"Varianz = {Varianz}\")\n",
    "\n",
    "# Schritt 3: Standardabweichung berechnen\n",
    "\n",
    "Standardabweichung = Varianz ** 0.5\n",
    "print(f\"Standardabweichung = {Standardabweichung}\")\n"
   ]
  },
  {
   "cell_type": "code",
   "execution_count": 19,
   "metadata": {},
   "outputs": [
    {
     "name": "stdout",
     "output_type": "stream",
     "text": [
      "Varianz of the given list: 16.0\n",
      "Standard deviation of the given list: 4.0\n"
     ]
    }
   ],
   "source": [
    "# KURZFORM!\n",
    "\n",
    "import math\n",
    "\n",
    "# copy and paste:\n",
    "mean = sum(a) / len(a)\n",
    "var = sum((l - mean) ** 2 for l in a) / len(a)\n",
    "st = math.sqrt(var)\n",
    "\n",
    "print(f\"Varianz of the given list: {var}\")\n",
    "print(f\"Standard deviation of the given list: {st}\")"
   ]
  },
  {
   "cell_type": "markdown",
   "metadata": {},
   "source": [
    "## Übung 4: **Median der Zahlen einer Liste** mittels `while`-Schleife berechnen\n",
    "\n",
    "Gegeben sei eine Liste von Zahlen. Schreiben Sie ein Programm, dass den Median der Zahlen in der Liste berechnet und ausgibt.\n",
    "\n",
    "*Tip: Für die Berechnung des Medians bietet es sich an, die Liste zunächst zu sortieren.*"
   ]
  },
  {
   "cell_type": "code",
   "execution_count": 27,
   "metadata": {},
   "outputs": [
    {
     "name": "stdout",
     "output_type": "stream",
     "text": [
      "Endergebnis = [0, 2, 4, 5, 6, 7, 9]\n",
      "b = 1\n",
      "c = 3\n",
      "Median = 5\n"
     ]
    }
   ],
   "source": [
    "a = [4, 6, 2, 7, 0, 9, 5]\n",
    "\n",
    "# Schritt 1: Liste sortieren\n",
    "\n",
    "letzter_index = len(a) - 1\n",
    "\n",
    "while letzter_index > 0:\n",
    "\n",
    "    # Liste ausgeben\n",
    "\n",
    "\n",
    "\n",
    "    # Den letzten Wert zwischenspeichern\n",
    "\n",
    "    letzter_wert = a[letzter_index]\n",
    "\n",
    "    # Den größten Wert und seine Position suchen\n",
    "\n",
    "    maximum_index = 0\n",
    "    maximum_wert = a[0]\n",
    "\n",
    "    aktueller_index = 1\n",
    "\n",
    "    while aktueller_index <= letzter_index:\n",
    "\n",
    "        if a[aktueller_index] > maximum_wert:\n",
    "\n",
    "            maximum_index = aktueller_index\n",
    "            maximum_wert = a[maximum_index]\n",
    "\n",
    "        aktueller_index = aktueller_index + 1\n",
    "\n",
    "    # Den größten Wert ans Ende der Liste stellen\n",
    "\n",
    "    a[letzter_index] = maximum_wert\n",
    "    a[maximum_index] = letzter_wert\n",
    "\n",
    "    # Liste ausgeben\n",
    "\n",
    "  \n",
    "    # Den letzten Index aktualisieren\n",
    "\n",
    "    letzter_index = letzter_index - 1\n",
    "\n",
    "print(f\"Endergebnis = {a}\")\n",
    "\n",
    "# Schritt 2: Median auslesen\n",
    "\n",
    "index = 0\n",
    "\n",
    "b = len(a)%2 # Listenlänge gerade oder ungerade?\n",
    "print(f\"b = {b}\")\n",
    "\n",
    "if b < 1:\n",
    "    # Fall 1: Listenlänge gerade!\n",
    "\n",
    "    c = len(a)//2\n",
    "    print(f\"c = {c}\")\n",
    "    Median = (a[c]+a[c-1])/2\n",
    "    print(f\"Median = {Median}\")\n",
    "    print(f\"Für den Median musste ein Mittelwert berechnet werden\")\n",
    "else:\n",
    "    # Fall 2: Listenlänge ungerade!\n",
    "\n",
    "    c = len(a)//2\n",
    "    print(f\"c = {c}\")\n",
    "    Median = a[c]\n",
    "    print(f\"Median = {Median}\")"
   ]
  }
 ],
 "metadata": {
  "kernelspec": {
   "display_name": "Python 3",
   "language": "python",
   "name": "python3"
  },
  "language_info": {
   "codemirror_mode": {
    "name": "ipython",
    "version": 3
   },
   "file_extension": ".py",
   "mimetype": "text/x-python",
   "name": "python",
   "nbconvert_exporter": "python",
   "pygments_lexer": "ipython3",
   "version": "3.12.2"
  }
 },
 "nbformat": 4,
 "nbformat_minor": 2
}
