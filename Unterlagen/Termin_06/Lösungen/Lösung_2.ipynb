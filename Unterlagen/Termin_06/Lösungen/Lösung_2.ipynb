{
 "cells": [
  {
   "cell_type": "code",
   "execution_count": 2,
   "metadata": {},
   "outputs": [
    {
     "name": "stdout",
     "output_type": "stream",
     "text": [
      "Summe aller Zahlen in der Liste = 200\n"
     ]
    }
   ],
   "source": [
    "#Summe der Zahlen einer Liste mittels while-Schleife\n",
    "\n",
    "a = [5, 7, 1, 8, 3, 20, 0, 140, 6, 10]\n",
    "\n",
    "summe = 0\n",
    "\n",
    "index = 0\n",
    "\n",
    "while index < len(a):\n",
    "\n",
    "    summe = summe + a[index]\n",
    "\n",
    "    index = index + 1\n",
    "\n",
    "print(f\"Summe aller Zahlen in der Liste = {summe}\")"
   ]
  },
  {
   "cell_type": "code",
   "execution_count": 1,
   "metadata": {},
   "outputs": [
    {
     "name": "stdout",
     "output_type": "stream",
     "text": [
      "Mittelwert aller Zahlen in der Liste = 20.0\n"
     ]
    }
   ],
   "source": [
    "#Mittelwert der Zahlen einer Liste mittels while-Schleife\n",
    "\n",
    "a = [5, 7, 1, 8, 3, 20, 0, 140, 6, 10]\n",
    "\n",
    "summe = 0\n",
    "\n",
    "index = 0\n",
    "\n",
    "while index < len(a):\n",
    "\n",
    "    summe = summe + a[index]\n",
    "\n",
    "    # Mittelwert bei jedem Schleifendurchlauf neu berechnen (rechenintensiv)\n",
    "    #mittelwert = summe / len(a)\n",
    "\n",
    "    index = index + 1\n",
    "\n",
    "# Mittelwert am Ende einmalig berechnen\n",
    "mittelwert = summe / len(a)\n",
    "\n",
    "print(f\"Mittelwert aller Zahlen in der Liste = {mittelwert}\")"
   ]
  },
  {
   "cell_type": "code",
   "execution_count": 13,
   "metadata": {},
   "outputs": [
    {
     "name": "stdout",
     "output_type": "stream",
     "text": [
      "Standardabweichung der Zahlen in der Liste = 42.53625904253139\n"
     ]
    }
   ],
   "source": [
    "#Standardabweichung der Zahlen einer Liste mittels while-Schleife\n",
    "\n",
    "a = [5, 7, 1, 8, 3, 20, 0, 140, 6, 10]\n",
    "\n",
    "# Schritt 1: Mittelwert berechnen\n",
    "\n",
    "# Kurzform für die Berechnung des Mittelwertes\n",
    "summe = sum(a)\n",
    "mittelwert = summe / len(a)\n",
    "\n",
    "# Schritt 2: Standardabweichung berechnen\n",
    "\n",
    "index = 0\n",
    "beobachtungswert = 0\n",
    "\n",
    "while index < len(a):\n",
    "    \n",
    "    beobachtungswert = beobachtungswert + (a[index] - mittelwert)**2        # ** = hoch\n",
    "\n",
    "    # Rechenintensiv (Rechnungen eigentlich nicht notwendig, nur beim letzten Schleifendurchlauf)\n",
    "    #standardabweichung = (beobachtungswert / (len(a) - 1))**0.5             \n",
    "    \n",
    "    index = index + 1\n",
    "\n",
    "standardabweichung = (beobachtungswert / (len(a) - 1))**0.5\n",
    "\n",
    "print(f\"Standardabweichung der Zahlen in der Liste = {standardabweichung}\")"
   ]
  }
 ],
 "metadata": {
  "kernelspec": {
   "display_name": "Python 3",
   "language": "python",
   "name": "python3"
  },
  "language_info": {
   "codemirror_mode": {
    "name": "ipython",
    "version": 3
   },
   "file_extension": ".py",
   "mimetype": "text/x-python",
   "name": "python",
   "nbconvert_exporter": "python",
   "pygments_lexer": "ipython3",
   "version": "3.12.2"
  }
 },
 "nbformat": 4,
 "nbformat_minor": 2
}
