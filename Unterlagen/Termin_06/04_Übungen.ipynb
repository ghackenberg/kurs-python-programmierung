{
 "cells": [
  {
   "cell_type": "markdown",
   "metadata": {},
   "source": [
    "# Übungen"
   ]
  },
  {
   "cell_type": "markdown",
   "metadata": {},
   "source": [
    "## Übung 1: **Summe der Zahlen einer Liste** mittels `while`-Schleife\n",
    "\n",
    "Gegeben sei eine Liste von Zahlen. Schreiben Sie ein Programm, dass die Summer der Zahlen in der Liste berechnet und ausgibt."
   ]
  },
  {
   "cell_type": "code",
   "execution_count": null,
   "metadata": {},
   "outputs": [],
   "source": [
    "# TODO"
   ]
  },
  {
   "cell_type": "markdown",
   "metadata": {},
   "source": [
    "## Übung 2: **Mittelwert der Zahlen einer Liste** mittels `while`-Schleife\n",
    "\n",
    "Gegeben sei eine Liste von Zahlen. Schreiben Sie ein Programm, dass den Mittelwert der Zahlen in der Liste berechnet und ausgibt."
   ]
  },
  {
   "cell_type": "code",
   "execution_count": null,
   "metadata": {},
   "outputs": [],
   "source": [
    "# TODO"
   ]
  },
  {
   "cell_type": "markdown",
   "metadata": {},
   "source": [
    "## Übung 3: **Standardabweichung der Zahlen einer Liste** mittels `while`-Schleife\n",
    "\n",
    "Gegeben sei eine Liste von Zahlen. Schreiben Sie ein Programm, dass die Standardabweichung der Zahlen in der Liste berechnet und ausgibt.\n",
    "\n",
    "*Tip: Zur Berechnung der Standardabweichung müssen Sie auch den Mittelwert berechnen.*"
   ]
  },
  {
   "cell_type": "code",
   "execution_count": null,
   "metadata": {},
   "outputs": [],
   "source": [
    "# TODO"
   ]
  },
  {
   "cell_type": "markdown",
   "metadata": {},
   "source": [
    "## Übung 4: **Median der Zahlen einer Liste** mittels `while`-Schleife berechnen\n",
    "\n",
    "Gegeben sei eine Liste von Zahlen. Schreiben Sie ein Programm, dass den Median der Zahlen in der Liste berechnet und ausgibt.\n",
    "\n",
    "*Tip: Für die Berechnung des Medians bietet es sich an, die Liste zunächst zu sortieren.*"
   ]
  },
  {
   "cell_type": "code",
   "execution_count": null,
   "metadata": {},
   "outputs": [],
   "source": [
    "# TODO"
   ]
  }
 ],
 "metadata": {
  "kernelspec": {
   "display_name": "Python 3",
   "language": "python",
   "name": "python3"
  },
  "language_info": {
   "name": "python",
   "version": "3.12.1"
  }
 },
 "nbformat": 4,
 "nbformat_minor": 2
}
