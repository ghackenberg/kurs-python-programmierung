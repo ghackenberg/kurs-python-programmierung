{
 "cells": [
  {
   "cell_type": "code",
   "execution_count": 1,
   "metadata": {},
   "outputs": [
    {
     "name": "stdout",
     "output_type": "stream",
     "text": [
      "Durchlauf 1! : 1\n",
      "Durchlauf 2! : 2\n",
      "Durchlauf 3! : 6\n",
      "Durchlauf 4! : 24\n"
     ]
    },
    {
     "name": "stdout",
     "output_type": "stream",
     "text": [
      "Danke!\n",
      "1\n",
      "Danke!\n",
      "Erste Zahl: 0.0\n",
      "Das war keine Zahl!\n",
      "Das war keine Zahl!\n",
      "Danke!\n",
      "Zweite Zahl: 0.0\n",
      "Danke!\n",
      "Operator: +\n",
      "Ergebnis: 0.0\n"
     ]
    }
   ],
   "source": [
    "#Beispiel 1 - Fakultät\n",
    "\n",
    "ergebnis = 1\n",
    "nmax = 5\n",
    "\n",
    "index = 1\n",
    "\n",
    "while index<nmax:\n",
    "    ergebnis=ergebnis*index\n",
    "    \n",
    "    print(f\"Durchlauf {index}! : {ergebnis}\")\n",
    "    \n",
    "    index= index+1\n",
    "\n",
    "\n"
   ]
  },
  {
   "cell_type": "code",
   "execution_count": null,
   "metadata": {},
   "outputs": [],
   "source": [
    "\n",
    "\n",
    "#Beispiel 2 - Robuste Zahleneingabe mit max. Versuchen\n",
    "\n",
    "zahl = None\n",
    "index = 0\n",
    "maxVersuche = 3\n",
    "\n",
    "while True:\n",
    "    index=index+1\n",
    "    if index<maxVersuche:\n",
    "        try:\n",
    "            string = input(\"Bitte eine Zahl eingeben:\")\n",
    "            zahl = int(string)\n",
    "            print(\"Danke!\")\n",
    "            print(zahl)\n",
    "            break\n",
    "        except:\n",
    "             print(\"Das war keine Zahl!\")\n",
    "\n",
    "    else:\n",
    "        print(\"Keine weiteren Versuche mehr möglich!\")\n",
    "        break\n",
    "\n"
   ]
  },
  {
   "cell_type": "code",
   "execution_count": 3,
   "metadata": {},
   "outputs": [
    {
     "name": "stdout",
     "output_type": "stream",
     "text": [
      "Danke!\n",
      "Erste Zahl: 3.0\n",
      "Danke!\n",
      "Zweite Zahl: 0.0\n",
      "Das war kein Operator!\n",
      "Das war kein Operator!\n",
      "Das war kein Operator!\n",
      "Das war kein Operator!\n",
      "Das war kein Operator!\n",
      "Danke!\n",
      "Operator: +\n",
      "Ergebnis: 3.0\n"
     ]
    }
   ],
   "source": [
    "\n",
    "\n",
    "\n",
    "#Beispiel 3 - Taschenrechner\n",
    "    \n",
    "Zahl1 = None\n",
    "\n",
    "while True:\n",
    "    try:\n",
    "        string = input(\"Bitte die erste Zahl zur Berechnung eingeben:\")\n",
    "        Zahl1 = float(string)\n",
    "        print(\"Danke!\")\n",
    "        break\n",
    "    except:\n",
    "        print(\"Das war keine Zahl!\")\n",
    "        continue\n",
    "\n",
    "print(f\"Erste Zahl: {Zahl1}\")\n",
    "\n",
    "Zahl2 = None\n",
    "\n",
    "while True:\n",
    "    try:\n",
    "        string = input(\"Bitte die zweite Zahl zur Berechnung eingeben:\")\n",
    "        Zahl2 = float(string)\n",
    "        print(\"Danke!\")\n",
    "        break\n",
    "    except:\n",
    "        print(\"Das war keine Zahl!\")\n",
    "        continue\n",
    "\n",
    "print(f\"Zweite Zahl: {Zahl2}\")\n",
    "\n",
    "Operator = None\n",
    "\n",
    "while True:\n",
    "    string = input(\"Bitte einen Operator (+,-,*,/) eingeben:\")\n",
    "    if string == '/' and Zahl2 == 0:\n",
    "        print(\"Division durch 0 nicht möglich! Bitte anderen Operator wählen.\")\n",
    "    elif string in ['+','-','*','/']:\n",
    "        Operator=string\n",
    "        print(\"Danke!\")\n",
    "        break\n",
    "    else:\n",
    "        print(\"Das war kein Operator!\")\n",
    "\n",
    "print(f\"Operator: {Operator}\")\n",
    "\n",
    "match Operator:\n",
    "    case '+':\n",
    "        print(f\"Ergebnis: {Zahl1+Zahl2}\")\n",
    "    case '-':\n",
    "        print(f\"Ergebnis: {Zahl1-Zahl2}\")\n",
    "    case '*':\n",
    "        print(f\"Ergebnis: {Zahl1*Zahl2}\")\n",
    "    case '/':\n",
    "        print(f\"Ergebnis: {Zahl1/Zahl2}\")\n"
   ]
  }
 ],
 "metadata": {
  "kernelspec": {
   "display_name": "Python 3",
   "language": "python",
   "name": "python3"
  },
  "language_info": {
   "codemirror_mode": {
    "name": "ipython",
    "version": 3
   },
   "file_extension": ".py",
   "mimetype": "text/x-python",
   "name": "python",
   "nbconvert_exporter": "python",
   "pygments_lexer": "ipython3",
   "version": "3.12.1"
  }
 },
 "nbformat": 4,
 "nbformat_minor": 2
}
