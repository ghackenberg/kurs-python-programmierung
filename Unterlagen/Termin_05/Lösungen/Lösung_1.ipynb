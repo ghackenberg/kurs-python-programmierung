{
 "cells": [
  {
   "cell_type": "markdown",
   "metadata": {},
   "source": [
    "# Übungen"
   ]
  },
  {
   "cell_type": "markdown",
   "metadata": {},
   "source": [
    "## Übung 1: Fakultätsfunktion `n!`\n",
    "\n",
    "Berechnung der Fakultätsfunktion mit Hilfe einer `while` Schleife. Als Vorlage kann die Implementierung der Exponentialfunktion dienen (siehe oben). Die Anzahl der Schleifendurchläufe müssen wieder geeignet eingeschränkt werden."
   ]
  },
  {
   "cell_type": "code",
   "execution_count": null,
   "metadata": {},
   "outputs": [],
   "source": [
    "# TODO\n",
    "n = int(input(\"Geben Sie bitte eine ganze Zahl ein: \"))\n",
    "\n",
    "def Fakultät(n):\n",
    "    x = 1\n",
    "    s = 1\n",
    "    if n==0:\n",
    "         s = 1\n",
    "    else:\n",
    "        while (x < n):\n",
    "         x = x + 1\n",
    "         s = s * x\n",
    "\n",
    "    return(s)\n",
    "\n",
    "print (Fakultät(n))"
   ]
  },
  {
   "cell_type": "markdown",
   "metadata": {},
   "source": [
    "## Übung 2: Erweiterte \"robuste\" Zahleneingabe\n",
    "\n",
    "Robuste Zahleneingabe, die nach einer maximalen Anzahl an Fehlschlägen und Wiederholungen mit einer Fehlermeldung abbricht."
   ]
  },
  {
   "cell_type": "code",
   "execution_count": null,
   "metadata": {},
   "outputs": [],
   "source": [
    "# TODO\n",
    "zahl = None\n",
    "Versuche = 4\n",
    "n = 0\n",
    "while True:\n",
    "    try:\n",
    "        string = input(\"Bitte eine Zahl eingeben:\")\n",
    "        zahl = int(string)\n",
    "        print(f\"Danke! {string}\")\n",
    "        break\n",
    "    except:\n",
    "        print(f\"Versuch{n+1}: \"  f\"das ist keine Zahl: {string}\")\n",
    "        n = n + 1\n",
    "        if Versuche == n:\n",
    "            print (\"keine Versuche mehr! ABBRUCH\")\n",
    "            break\n",
    "        continue"
   ]
  },
  {
   "cell_type": "markdown",
   "metadata": {},
   "source": [
    "## Übung 3: Taschenrechner\n",
    "\n",
    "Robuste Abfrage zweier Gleitkommazahlen und eines Operators (+, -, *, /). Durchführung der Berechnung und Ausgabe des Berechnungsergebnisses.\n",
    "\n",
    "*Tip: Schleife und Try-Except für robuste Zahleneingabe. Schleife und Match-Case für robuste Operatoreingabe. Match-Case für Berechnung. Print für Ausgabe des Ergebnisses.*"
   ]
  },
  {
   "cell_type": "code",
   "execution_count": 3,
   "metadata": {},
   "outputs": [
    {
     "name": "stdout",
     "output_type": "stream",
     "text": [
      "das ist keine Zahl\n",
      "das ist keine Zahl\n",
      "das ist keine Zahl\n",
      "das ist keine Zahl\n",
      "das ist keine Zahl\n",
      "Ergebnis der Multplikation ist: 72.0\n"
     ]
    }
   ],
   "source": [
    "def ZahlEinlesen(Nummer):\n",
    "    while True:\n",
    "        try:\n",
    "            return float(input(f\"Bitte die {Nummer}. Zahl eingeben:\"))\n",
    "        except:\n",
    "            print(f\"das ist keine Zahl\")\n",
    "\n",
    "zahl1 = ZahlEinlesen(1)\n",
    "zahl2 = ZahlEinlesen(2)\n",
    "\n",
    "while True:\n",
    "    Operation = input(\"+ , - , * , / \")\n",
    "\n",
    "    match Operation:\n",
    "        case '+':\n",
    "            print(f\"Ergebnis der Addition ist: {zahl1 + zahl2}\")\n",
    "            break\n",
    "        \n",
    "        case '-':\n",
    "            print(f\"Ergebnis der Subtraktion ist: {zahl1 - zahl2}\")\n",
    "            break\n",
    "            \n",
    "        case '*':\n",
    "            print(f\"Ergebnis der Multplikation ist: {zahl1 * zahl2}\")\n",
    "            break\n",
    "            \n",
    "        case '/':\n",
    "            if zahl2 == 0:\n",
    "                print(\"Fehler!\")\n",
    "            else:\n",
    "                print(f\"Ergebnis der Division ist: {zahl1 / zahl2}\")\n",
    "                break\n",
    "            \n",
    "        case other:\n",
    "            print(\"nicht möglich\")\n",
    "\n",
    "\n"
   ]
  }
 ],
 "metadata": {
  "kernelspec": {
   "display_name": "Python 3",
   "language": "python",
   "name": "python3"
  },
  "language_info": {
   "codemirror_mode": {
    "name": "ipython",
    "version": 3
   },
   "file_extension": ".py",
   "mimetype": "text/x-python",
   "name": "python",
   "nbconvert_exporter": "python",
   "pygments_lexer": "ipython3",
   "version": "3.12.1"
  }
 },
 "nbformat": 4,
 "nbformat_minor": 2
}
