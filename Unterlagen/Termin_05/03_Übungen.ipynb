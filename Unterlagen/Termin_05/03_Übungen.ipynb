{
 "cells": [
  {
   "cell_type": "markdown",
   "metadata": {},
   "source": [
    "# Übungen"
   ]
  },
  {
   "cell_type": "markdown",
   "metadata": {},
   "source": [
    "## Übung 1: Fakultätsfunktion `n!`\n",
    "\n",
    "Berechnung der Fakultätsfunktion mit Hilfe einer `while` Schleife. Als Vorlage kann die Implementierung der Exponentialfunktion dienen (siehe oben). Die Anzahl der Schleifendurchläufe müssen wieder geeignet eingeschränkt werden."
   ]
  },
  {
   "cell_type": "code",
   "execution_count": null,
   "metadata": {},
   "outputs": [],
   "source": [
    "# TODO"
   ]
  },
  {
   "cell_type": "markdown",
   "metadata": {},
   "source": [
    "## Übung 2: Erweiterte \"robuste\" Zahleneingabe\n",
    "\n",
    "Robuste Zahleneingabe, die nach einer maximalen Anzahl an Fehlschlägen und Wiederholungen mit einer Fehlermeldung abbricht."
   ]
  },
  {
   "cell_type": "code",
   "execution_count": null,
   "metadata": {},
   "outputs": [],
   "source": [
    "# TODO"
   ]
  },
  {
   "cell_type": "markdown",
   "metadata": {},
   "source": [
    "## Übung 3: Taschenrechner\n",
    "\n",
    "Robuste Abfrage zweier Gleitkommazahlen und eines Operators (+, -, *, /). Durchführung der Berechnung und Ausgabe des Berechnungsergebnisses.\n",
    "\n",
    "*Tip: Schleife und Try-Except für robuste Zahleneingabe. Schleife und Match-Case für robuste Operatoreingabe. Match-Case für Berechnung. Print für Ausgabe des Ergebnisses.*"
   ]
  },
  {
   "cell_type": "code",
   "execution_count": null,
   "metadata": {},
   "outputs": [],
   "source": [
    "# TODO"
   ]
  }
 ],
 "metadata": {
  "language_info": {
   "name": "python"
  }
 },
 "nbformat": 4,
 "nbformat_minor": 2
}
