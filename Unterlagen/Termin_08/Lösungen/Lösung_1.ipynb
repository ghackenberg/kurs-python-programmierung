{
 "cells": [
  {
   "cell_type": "code",
   "execution_count": 1,
   "metadata": {},
   "outputs": [
    {
     "name": "stdout",
     "output_type": "stream",
     "text": [
      "letzter Index = 7, letzter Wert = -1\n",
      "Maximum Index = 5, Maximum Wert = 9\n",
      "letzter Index = 6, letzter Wert = 5\n",
      "Maximum Index = 3, Maximum Wert = 7\n",
      "letzter Index = 5, letzter Wert = -1\n",
      "Maximum Index = 1, Maximum Wert = 6\n",
      "letzter Index = 4, letzter Wert = 0\n",
      "Maximum Index = 3, Maximum Wert = 5\n",
      "letzter Index = 3, letzter Wert = 0\n",
      "Maximum Index = 0, Maximum Wert = 4\n",
      "letzter Index = 2, letzter Wert = 2\n",
      "Maximum Index = 2, Maximum Wert = 2\n",
      "letzter Index = 1, letzter Wert = -1\n",
      "Maximum Index = 0, Maximum Wert = 0\n",
      "\n"
     ]
    }
   ],
   "source": [
    "# Übung 1 - Sortierung einer Liste mit Zahlen mittels for-Schleife\n",
    "\n",
    "a = [4, 6, 2, 7, 0, 9, 5, -1]\n",
    "\n",
    "letzter_index = len(a) - 1\n",
    "\n",
    "for i in range(letzter_index, 0, -1):\n",
    "\n",
    "    letzter_wert = a[i]                                 # letzten Wert zwischenspeichern\n",
    "\n",
    "    maximum_index = 0                                   # größten Wert und seine Position suchen\n",
    "    maximum_wert = a[0]\n",
    "\n",
    "    for aktueller_index in range(1,i+1):                # i+1 -> einschließlich i\n",
    "        \n",
    "        if a[aktueller_index] > maximum_wert:\n",
    "\n",
    "            maximum_index = aktueller_index\n",
    "            maximum_wert = a[maximum_index]\n",
    "\n",
    "    a[i] = maximum_wert                                 # größten Wert ans Ende der Liste stellen\n",
    "    a[maximum_index] = letzter_wert\n",
    "\n",
    "    print(f\"letzter Index = {i}, letzter Wert = {letzter_wert}\")\n",
    "    print(f\"Maximum Index = {maximum_index}, Maximum Wert = {maximum_wert}\")\n",
    "\n",
    "print()\n",
    "print(f\"\\tEndergebnis = {a}\")                           # Sortierte Liste ausgeben\n",
    "\n"
   ]
  },
  {
   "cell_type": "code",
   "execution_count": 21,
   "metadata": {},
   "outputs": [
    {
     "name": "stdout",
     "output_type": "stream",
     "text": [
      "fibonacci(0) = 0\n",
      "fibonacci(1) = 1\n",
      "fibonacci(2) = 1\n",
      "fibonacci(3) = 2\n",
      "fibonacci(4) = 3\n",
      "fibonacci(5) = 5\n"
     ]
    }
   ],
   "source": [
    "# Übung 2 - Fibonacci-Funktion mittels Rekursion\n",
    "\n",
    "def fibonacci(n: int) -> int:\n",
    "    \n",
    "    if n <= 0:\n",
    "        return 0\n",
    "    elif n==1:\n",
    "        return 1\n",
    "    else:\n",
    "        return fibonacci(n-1) + fibonacci(n-2)      # Fibonacci-Formel: F(n-1) + F(n-2) für n>=3\n",
    "\n",
    "zahl = int(input(\"Bitte Zahle eingeben!\"))\n",
    "\n",
    "for i in range(zahl+1):                             # +1 damit eingegebene Zahl auch berechnet wird\n",
    "    print(f\"fibonacci({i}) = {fibonacci(i)}\")"
   ]
  },
  {
   "cell_type": "code",
   "execution_count": 3,
   "metadata": {},
   "outputs": [
    {
     "name": "stdout",
     "output_type": "stream",
     "text": [
      "Die Baumtiefe ist:  6\n"
     ]
    }
   ],
   "source": [
    "# Übung 3 - Baumtiefe mittels Rekursion\n",
    "\n",
    "def baumtiefe_list(baum):\n",
    "    \n",
    "    if type(baum) is list:\n",
    "\n",
    "        kindtiefe_max = 0\n",
    "\n",
    "        for daten in baum:\n",
    "            kindtiefe = baumtiefe_list(daten)\n",
    "            kindtiefe_max = max(kindtiefe_max, kindtiefe)\n",
    "    \n",
    "        return kindtiefe_max + 1        # +1 für Root\n",
    "    \n",
    "    else: \n",
    "        return 1                        # nur Root\n",
    "\n",
    "#Baumliste\n",
    "baum_list = [['a','b','c',['f', 'g',['x', 'y', 'z',['E']], 'h']], 'S']\n",
    "\n",
    "print(\"Die Baumtiefe ist: \", baumtiefe_list(baum_list))"
   ]
  },
  {
   "cell_type": "code",
   "execution_count": 9,
   "metadata": {},
   "outputs": [
    {
     "name": "stdout",
     "output_type": "stream",
     "text": [
      "Bereiche von 0 bis 5 :\n",
      "\tzahlenliste[2] = 7\n",
      "Bereiche von 2 bis 5 :\n",
      "\tzahlenliste[3] = 9\n",
      "Bereiche von 3 bis 5 :\n",
      "\tzahlenliste[4] = 12\n",
      "zahlenliste[4] = 12\n",
      "12 wurde an der Stelle 4 gefunden.\n"
     ]
    }
   ],
   "source": [
    "# Übung 4 - Binärsuche mittels Rekursion\n",
    "\n",
    "def binärsuche(zahlenliste, gesuchte_zahl, untere_grenze, obere_grenze):\n",
    "    print(f\"Bereiche von {untere_grenze} bis {obere_grenze} :\")\n",
    "\n",
    "    # Mittleren Wert des aktuellen Bereichs bestimmen\n",
    "    mitte_index = untere_grenze + (obere_grenze - untere_grenze) // 2\n",
    "    mitte_wert = zahlenliste[mitte_index]\n",
    "    print(f\"\\tzahlenliste[{mitte_index}] = {mitte_wert}\")\n",
    "\n",
    "    if mitte_wert == gesuchte_zahl:\n",
    "        # Mittlerer Wert ist gleich der gesuchten Zahl\n",
    "        print(f\"zahlenliste[{mitte_index}] = {gesuchte_zahl}\")\n",
    "        return mitte_index\n",
    "\n",
    "    elif mitte_wert < gesuchte_zahl:\n",
    "        # Mittlerer Wert ist kleiner als die gesuchte Zahl\n",
    "        if untere_grenze != mitte_index:\n",
    "            return binärsuche(zahlenliste, gesuchte_zahl, mitte_index, obere_grenze)\n",
    "        else:\n",
    "            raise Exception(\"Zahl nicht gefunden!\")\n",
    "\n",
    "    elif mitte_wert > gesuchte_zahl:\n",
    "        # Mittlerer Wert ist größer als die gesuchte Zahl\n",
    "        if obere_grenze != mitte_index:\n",
    "            return binärsuche(zahlenliste, gesuchte_zahl, untere_grenze, mitte_index)\n",
    "        else:\n",
    "            raise Exception(\"Zahl nicht gefunden!\")\n",
    "        \n",
    "    else:\n",
    "        print(\"Zahl nicht gefunden!\")\n",
    "        \n",
    "zahlenliste = [1, 5, 7, 9, 12, 33]\n",
    "gesuchte_zahl = int(input(\"Bitte gesuchte Zahl eingeben!\"))\n",
    "\n",
    "# Binärsuche\n",
    "ergebnis_index = binärsuche(zahlenliste, gesuchte_zahl, 0, len(zahlenliste) - 1)\n",
    "\n",
    "if ergebnis_index is not None:\n",
    "    print(f\"{gesuchte_zahl} wurde an der Stelle {ergebnis_index} gefunden.\")\n",
    "else:\n",
    "    print(f\"Zahl nicht gefunden!\")"
   ]
  },
  {
   "cell_type": "code",
   "execution_count": null,
   "metadata": {},
   "outputs": [],
   "source": [
    "# Übung 5 - Pfadauflistung (dict) mittels Rekursion\n",
    "\n"
   ]
  },
  {
   "cell_type": "code",
   "execution_count": null,
   "metadata": {},
   "outputs": [],
   "source": [
    "# Übung 6 - Kürzeste Pfade (dict) mittels Rekursion\n",
    "\n"
   ]
  }
 ],
 "metadata": {
  "kernelspec": {
   "display_name": "Python 3",
   "language": "python",
   "name": "python3"
  },
  "language_info": {
   "codemirror_mode": {
    "name": "ipython",
    "version": 3
   },
   "file_extension": ".py",
   "mimetype": "text/x-python",
   "name": "python",
   "nbconvert_exporter": "python",
   "pygments_lexer": "ipython3",
   "version": "3.12.2"
  }
 },
 "nbformat": 4,
 "nbformat_minor": 2
}
