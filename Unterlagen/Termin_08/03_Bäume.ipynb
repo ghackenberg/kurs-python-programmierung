{
 "cells": [
  {
   "cell_type": "markdown",
   "metadata": {},
   "source": [
    "# Bäume\n",
    "\n",
    "Bäume sind eine beliebte Datenstruktur in der Informatik. Die bekannteste Anwendung ist sicherlich der Dateisystembaum bestehend aus Geräten, Ordnern und Dateien. Geräte repräsentieren dabei die Wurzel des Baumes. Die Datein sind hingegen die Blätter. Dies ist in folgender Grafik noch einmal dargestellt.\n",
    "\n",
    "![](Diagramme/Bäume/Dateisystem.png)"
   ]
  },
  {
   "cell_type": "markdown",
   "metadata": {},
   "source": [
    "## 1. Datenstrukturen"
   ]
  },
  {
   "cell_type": "markdown",
   "metadata": {},
   "source": [
    "### 1.1. Geschachtelte Listen\n",
    "\n",
    "Nur Blattknoten enthalten Daten!"
   ]
  },
  {
   "cell_type": "markdown",
   "metadata": {},
   "source": [
    "#### Beispiel 1:\n",
    "\n",
    "Baum, der nur aus einem Wurzelknoten besteht.\n",
    "\n",
    "![](Diagramme/Bäume/Listen/Baum_01.png)"
   ]
  },
  {
   "cell_type": "code",
   "execution_count": 110,
   "metadata": {},
   "outputs": [],
   "source": [
    "baum_list_1 = 1"
   ]
  },
  {
   "cell_type": "markdown",
   "metadata": {},
   "source": [
    "baum = [1, 2]"
   ]
  },
  {
   "cell_type": "markdown",
   "metadata": {},
   "source": [
    "#### Beispiel 2:\n",
    "\n",
    "Baum, der aus einem Wurzelknoten und zwei Kindknoten besteht.\n",
    "\n",
    "![](Diagramme/Bäume/Listen/Baum_02.png)"
   ]
  },
  {
   "cell_type": "code",
   "execution_count": 111,
   "metadata": {},
   "outputs": [],
   "source": [
    "baum_list_2 = [1, 2]"
   ]
  },
  {
   "cell_type": "markdown",
   "metadata": {},
   "source": [
    "#### Beispiel 3:\n",
    "\n",
    "Baum, der aus einem Wurzelknoten, zwei Kindknoten, und einem Kindeskindknoten besteht.\n",
    "\n",
    "![](Diagramme/Bäume/Listen/Baum_03.png)"
   ]
  },
  {
   "cell_type": "code",
   "execution_count": 112,
   "metadata": {},
   "outputs": [],
   "source": [
    "baum_list_3 = [[1], 2]"
   ]
  },
  {
   "cell_type": "markdown",
   "metadata": {},
   "source": [
    "#### Beispiel 4:\n",
    "\n",
    "Baum, der aus einem Wurzelknoten, zwei Kindknoten, zwei Kindeskindknoten, und einem Kindknoten dritter Ordnung besteht.\n",
    "\n",
    "![](Diagramme/Bäume/Listen/Baum_04.png)"
   ]
  },
  {
   "cell_type": "code",
   "execution_count": 113,
   "metadata": {},
   "outputs": [],
   "source": [
    "baum_list_4 = [[[1], 2], 3]"
   ]
  },
  {
   "cell_type": "markdown",
   "metadata": {},
   "source": [
    "### 1.2. Geschachtelte Abbildungen\n",
    "\n",
    "Auch innere Knoten enhalten Daten!"
   ]
  },
  {
   "cell_type": "markdown",
   "metadata": {},
   "source": [
    "#### Beispiel 1:\n",
    "\n",
    "Baum, der nur aus einem Wurzelknoten besteht.\n",
    "\n",
    "![](Diagramme/Bäume/Abbildungen/Baum_01.png)"
   ]
  },
  {
   "cell_type": "code",
   "execution_count": 114,
   "metadata": {},
   "outputs": [],
   "source": [
    "baum_dict_1 = {}"
   ]
  },
  {
   "cell_type": "markdown",
   "metadata": {},
   "source": [
    "#### Beispiel 2:\n",
    "\n",
    "Baum, der aus einem Wurzelknoten und zwei Kindknoten besteht.\n",
    "\n",
    "![](Diagramme/Bäume/Abbildungen/Baum_02.png)"
   ]
  },
  {
   "cell_type": "code",
   "execution_count": 115,
   "metadata": {},
   "outputs": [],
   "source": [
    "baum_dict_2 = { 1: {}, 2: {} }"
   ]
  },
  {
   "cell_type": "markdown",
   "metadata": {},
   "source": [
    "#### Beispiel 3:\n",
    "\n",
    "Baum, der aus einem Wurzelknoten, zwei Kindknoten, und einem Kindeskindknoten besteht.\n",
    "\n",
    "![](Diagramme/Bäume/Abbildungen/Baum_03.png)"
   ]
  },
  {
   "cell_type": "code",
   "execution_count": 116,
   "metadata": {},
   "outputs": [],
   "source": [
    "baum_dict_3 = { 1: { 2: {} }, 3: {} }"
   ]
  },
  {
   "cell_type": "markdown",
   "metadata": {},
   "source": [
    "#### Beispiel 4:\n",
    "\n",
    "Baum, der aus einem Wurzelknoten, zwei Kindknoten, einem Kindeskindknoten, und einem Kindknoten dritter Ordnung besteht.\n",
    "\n",
    "![](Diagramme/Bäume/Abbildungen/Baum_04.png)"
   ]
  },
  {
   "cell_type": "code",
   "execution_count": 117,
   "metadata": {},
   "outputs": [],
   "source": [
    "baum_dict_4 = { \"A\": { \"B\": { \"Dieser Knoten hat extra Daten!\": {} } }, \"C\": {} }"
   ]
  },
  {
   "cell_type": "markdown",
   "metadata": {},
   "source": [
    "## 2. Blattpfade"
   ]
  },
  {
   "cell_type": "markdown",
   "metadata": {},
   "source": [
    "### 2.1. Geschachtelte Listen"
   ]
  },
  {
   "cell_type": "code",
   "execution_count": 118,
   "metadata": {},
   "outputs": [],
   "source": [
    "def blattpfade_list(baum: list | int, prefix: str = \"\"):\n",
    "\n",
    "    if type(baum) is list:\n",
    "\n",
    "        for element in baum:\n",
    "\n",
    "            blattpfade_list(element, f\"{prefix} -\")\n",
    "\n",
    "    else:\n",
    "        \n",
    "        print(f\"{prefix} {baum}\")"
   ]
  },
  {
   "cell_type": "markdown",
   "metadata": {},
   "source": [
    "#### Beispiel 1:\n",
    "\n",
    "![](Diagramme/Bäume/Listen/Baum_01.png)"
   ]
  },
  {
   "cell_type": "code",
   "execution_count": 119,
   "metadata": {},
   "outputs": [
    {
     "name": "stdout",
     "output_type": "stream",
     "text": [
      " 1\n"
     ]
    }
   ],
   "source": [
    "blattpfade_list(baum_list_1)"
   ]
  },
  {
   "cell_type": "markdown",
   "metadata": {},
   "source": [
    "#### Beispiel 2:\n",
    "\n",
    "![](Diagramme/Bäume/Listen/Baum_02.png)"
   ]
  },
  {
   "cell_type": "code",
   "execution_count": 120,
   "metadata": {},
   "outputs": [
    {
     "name": "stdout",
     "output_type": "stream",
     "text": [
      " - 1\n",
      " - 2\n"
     ]
    }
   ],
   "source": [
    "blattpfade_list(baum_list_2)"
   ]
  },
  {
   "cell_type": "markdown",
   "metadata": {},
   "source": [
    "#### Beispiel 3:\n",
    "\n",
    "![](Diagramme/Bäume/Listen/Baum_03.png)"
   ]
  },
  {
   "cell_type": "code",
   "execution_count": 121,
   "metadata": {},
   "outputs": [
    {
     "name": "stdout",
     "output_type": "stream",
     "text": [
      " - - 1\n",
      " - 2\n"
     ]
    }
   ],
   "source": [
    "blattpfade_list(baum_list_3)"
   ]
  },
  {
   "cell_type": "markdown",
   "metadata": {},
   "source": [
    "#### Beispiel 4:\n",
    "\n",
    "![](Diagramme/Bäume/Listen/Baum_04.png)"
   ]
  },
  {
   "cell_type": "code",
   "execution_count": 122,
   "metadata": {},
   "outputs": [
    {
     "name": "stdout",
     "output_type": "stream",
     "text": [
      " - - - 1\n",
      " - - 2\n",
      " - 3\n"
     ]
    }
   ],
   "source": [
    "blattpfade_list(baum_list_4)"
   ]
  },
  {
   "cell_type": "markdown",
   "metadata": {},
   "source": [
    "### 2.2. Geschachtelte Abbildungen"
   ]
  },
  {
   "cell_type": "code",
   "execution_count": 123,
   "metadata": {},
   "outputs": [],
   "source": [
    "def blattpfade_dict(baum, prefix: str = \"root\"):\n",
    "\n",
    "    if len(baum) > 0:\n",
    "\n",
    "        for element in baum:\n",
    "            \n",
    "            blattpfade_dict(baum[element], f\"{prefix} / {element}\")\n",
    "\n",
    "    else:\n",
    "\n",
    "        print(f\"{prefix}\")"
   ]
  },
  {
   "cell_type": "markdown",
   "metadata": {},
   "source": [
    "#### Beispiel 1:\n",
    "\n",
    "![](Diagramme/Bäume/Abbildungen/Baum_01.png)"
   ]
  },
  {
   "cell_type": "code",
   "execution_count": 124,
   "metadata": {},
   "outputs": [
    {
     "name": "stdout",
     "output_type": "stream",
     "text": [
      "root\n"
     ]
    }
   ],
   "source": [
    "blattpfade_dict(baum_dict_1)"
   ]
  },
  {
   "cell_type": "markdown",
   "metadata": {},
   "source": [
    "#### Beispiel 2:\n",
    "\n",
    "![](Diagramme/Bäume/Abbildungen/Baum_02.png)"
   ]
  },
  {
   "cell_type": "code",
   "execution_count": 125,
   "metadata": {},
   "outputs": [
    {
     "name": "stdout",
     "output_type": "stream",
     "text": [
      "root / 1\n",
      "root / 2\n"
     ]
    }
   ],
   "source": [
    "blattpfade_dict(baum_dict_2)"
   ]
  },
  {
   "cell_type": "markdown",
   "metadata": {},
   "source": [
    "#### Beispiel 3:\n",
    "\n",
    "![](Diagramme/Bäume/Abbildungen/Baum_03.png)"
   ]
  },
  {
   "cell_type": "code",
   "execution_count": 126,
   "metadata": {},
   "outputs": [
    {
     "name": "stdout",
     "output_type": "stream",
     "text": [
      "root / 1 / 2\n",
      "root / 3\n"
     ]
    }
   ],
   "source": [
    "blattpfade_dict(baum_dict_3)"
   ]
  },
  {
   "cell_type": "markdown",
   "metadata": {},
   "source": [
    "#### Beispiel 4:\n",
    "\n",
    "![](Diagramme/Bäume/Abbildungen/Baum_04.png)"
   ]
  },
  {
   "cell_type": "code",
   "execution_count": 127,
   "metadata": {},
   "outputs": [
    {
     "name": "stdout",
     "output_type": "stream",
     "text": [
      "root / A / B / Dieser Knoten hat extra Daten!\n",
      "root / C\n"
     ]
    }
   ],
   "source": [
    "blattpfade_dict(baum_dict_4)"
   ]
  },
  {
   "cell_type": "markdown",
   "metadata": {},
   "source": [
    "## 3. Baumtiefe"
   ]
  },
  {
   "cell_type": "markdown",
   "metadata": {},
   "source": [
    "### 3.1. Geschachtelte Listen"
   ]
  },
  {
   "cell_type": "code",
   "execution_count": 128,
   "metadata": {},
   "outputs": [],
   "source": [
    "def baumtiefe_list(baum):\n",
    "    \n",
    "    if type(baum) is list:\n",
    "\n",
    "        # Baum ist innerer Knoten\n",
    "\n",
    "        kindtiefe_max = 0\n",
    "\n",
    "        for element in baum:\n",
    "\n",
    "            kindtiefe = baumtiefe_list(element)\n",
    "            \n",
    "            kindtiefe_max = max(kindtiefe_max, kindtiefe)\n",
    "\n",
    "        return kindtiefe_max + 1\n",
    "    \n",
    "    else:\n",
    "\n",
    "        # Baum ist Blattknoten\n",
    "\n",
    "        return 1"
   ]
  },
  {
   "cell_type": "markdown",
   "metadata": {},
   "source": [
    "#### Beispiel 1:\n",
    "\n",
    "![](Diagramme/Bäume/Listen/Baum_01.png)"
   ]
  },
  {
   "cell_type": "code",
   "execution_count": 129,
   "metadata": {},
   "outputs": [
    {
     "data": {
      "text/plain": [
       "1"
      ]
     },
     "execution_count": 129,
     "metadata": {},
     "output_type": "execute_result"
    }
   ],
   "source": [
    "baumtiefe_list(baum_list_1)"
   ]
  },
  {
   "cell_type": "markdown",
   "metadata": {},
   "source": [
    "#### Beispiel 2:\n",
    "\n",
    "![](Diagramme/Bäume/Listen/Baum_02.png)"
   ]
  },
  {
   "cell_type": "code",
   "execution_count": 130,
   "metadata": {},
   "outputs": [
    {
     "data": {
      "text/plain": [
       "2"
      ]
     },
     "execution_count": 130,
     "metadata": {},
     "output_type": "execute_result"
    }
   ],
   "source": [
    "baumtiefe_list(baum_list_2)"
   ]
  },
  {
   "cell_type": "markdown",
   "metadata": {},
   "source": [
    "#### Beispiel 3:\n",
    "\n",
    "![](Diagramme/Bäume/Listen/Baum_03.png)"
   ]
  },
  {
   "cell_type": "code",
   "execution_count": 131,
   "metadata": {},
   "outputs": [
    {
     "data": {
      "text/plain": [
       "3"
      ]
     },
     "execution_count": 131,
     "metadata": {},
     "output_type": "execute_result"
    }
   ],
   "source": [
    "baumtiefe_list(baum_list_3)"
   ]
  },
  {
   "cell_type": "markdown",
   "metadata": {},
   "source": [
    "#### Beispiel 4:\n",
    "\n",
    "![](Diagramme/Bäume/Listen/Baum_04.png)"
   ]
  },
  {
   "cell_type": "code",
   "execution_count": 132,
   "metadata": {},
   "outputs": [
    {
     "data": {
      "text/plain": [
       "4"
      ]
     },
     "execution_count": 132,
     "metadata": {},
     "output_type": "execute_result"
    }
   ],
   "source": [
    "baumtiefe_list(baum_list_4)"
   ]
  },
  {
   "cell_type": "markdown",
   "metadata": {},
   "source": [
    "### 3.2. Geschachtelte Abbildungen"
   ]
  },
  {
   "cell_type": "code",
   "execution_count": 133,
   "metadata": {},
   "outputs": [],
   "source": [
    "def baumtiefe_dict(baum):\n",
    "        \n",
    "    kindtiefe_max = 0\n",
    "    \n",
    "    for element in baum:\n",
    "\n",
    "        kind = baum[element]\n",
    "\n",
    "        kindtiefe = baumtiefe_dict(kind)\n",
    "\n",
    "        kindtiefe_max = max(kindtiefe_max, kindtiefe)\n",
    "\n",
    "    return kindtiefe_max + 1"
   ]
  },
  {
   "cell_type": "markdown",
   "metadata": {},
   "source": [
    "#### Beispiel 1:\n",
    "\n",
    "![](Diagramme/Bäume/Abbildungen/Baum_01.png)"
   ]
  },
  {
   "cell_type": "code",
   "execution_count": 134,
   "metadata": {},
   "outputs": [
    {
     "data": {
      "text/plain": [
       "1"
      ]
     },
     "execution_count": 134,
     "metadata": {},
     "output_type": "execute_result"
    }
   ],
   "source": [
    "baumtiefe_dict(baum_dict_1)"
   ]
  },
  {
   "cell_type": "markdown",
   "metadata": {},
   "source": [
    "#### Beispiel 2:\n",
    "\n",
    "![](Diagramme/Bäume/Abbildungen/Baum_02.png)"
   ]
  },
  {
   "cell_type": "code",
   "execution_count": 135,
   "metadata": {},
   "outputs": [
    {
     "data": {
      "text/plain": [
       "2"
      ]
     },
     "execution_count": 135,
     "metadata": {},
     "output_type": "execute_result"
    }
   ],
   "source": [
    "baumtiefe_dict(baum_dict_2)"
   ]
  },
  {
   "cell_type": "markdown",
   "metadata": {},
   "source": [
    "#### Beispiel 3:\n",
    "\n",
    "![](Diagramme/Bäume/Abbildungen/Baum_03.png)"
   ]
  },
  {
   "cell_type": "code",
   "execution_count": 136,
   "metadata": {},
   "outputs": [
    {
     "data": {
      "text/plain": [
       "3"
      ]
     },
     "execution_count": 136,
     "metadata": {},
     "output_type": "execute_result"
    }
   ],
   "source": [
    "baumtiefe_dict(baum_dict_3)"
   ]
  },
  {
   "cell_type": "markdown",
   "metadata": {},
   "source": [
    "#### Beispiel 4:\n",
    "\n",
    "![](Diagramme/Bäume/Abbildungen/Baum_04.png)"
   ]
  },
  {
   "cell_type": "code",
   "execution_count": 137,
   "metadata": {},
   "outputs": [
    {
     "data": {
      "text/plain": [
       "4"
      ]
     },
     "execution_count": 137,
     "metadata": {},
     "output_type": "execute_result"
    }
   ],
   "source": [
    "baumtiefe_dict(baum_dict_4)"
   ]
  }
 ],
 "metadata": {
  "kernelspec": {
   "display_name": "Python 3",
   "language": "python",
   "name": "python3"
  },
  "language_info": {
   "codemirror_mode": {
    "name": "ipython",
    "version": 3
   },
   "file_extension": ".py",
   "mimetype": "text/x-python",
   "name": "python",
   "nbconvert_exporter": "python",
   "pygments_lexer": "ipython3",
   "version": "3.12.1"
  }
 },
 "nbformat": 4,
 "nbformat_minor": 2
}
