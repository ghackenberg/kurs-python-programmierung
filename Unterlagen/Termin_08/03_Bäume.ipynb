{
 "cells": [
  {
   "cell_type": "markdown",
   "metadata": {},
   "source": [
    "# Bäume\n",
    "\n",
    "Bäume sind eine beliebte Datenstruktur in der Informatik. Die bekannteste Anwendung ist sicherlich der Dateisystembaum bestehend aus Geräten, Ordnern und Dateien. Geräte repräsentieren dabei die Wurzel des Baumes. Die Datein sind hingegen die Blätter. Dies ist in folgender Grafik noch einmal dargestellt.\n",
    "\n",
    "![](Diagramme/Bäume/Dateisystem.png)"
   ]
  },
  {
   "cell_type": "markdown",
   "metadata": {},
   "source": [
    "## 1. Datenstrukturen"
   ]
  },
  {
   "cell_type": "markdown",
   "metadata": {},
   "source": [
    "### 1.1. Geschachtelte Listen\n",
    "\n",
    "Nur Blattknoten enthalten Daten!"
   ]
  },
  {
   "cell_type": "markdown",
   "metadata": {},
   "source": [
    "#### Beispiel 1:\n",
    "\n",
    "Baum, der nur aus einem Wurzelknoten besteht.\n",
    "\n",
    "![](Diagramme/Bäume/Listen/Baum_01.png)"
   ]
  },
  {
   "cell_type": "code",
   "execution_count": 82,
   "metadata": {},
   "outputs": [],
   "source": [
    "baum_list_1 = 1"
   ]
  },
  {
   "cell_type": "markdown",
   "metadata": {},
   "source": [
    "baum = [1, 2]"
   ]
  },
  {
   "cell_type": "markdown",
   "metadata": {},
   "source": [
    "#### Beispiel 2:\n",
    "\n",
    "Baum, der aus einem Wurzelknoten und zwei Kindknoten besteht.\n",
    "\n",
    "![](Diagramme/Bäume/Listen/Baum_02.png)"
   ]
  },
  {
   "cell_type": "code",
   "execution_count": 83,
   "metadata": {},
   "outputs": [],
   "source": [
    "baum_list_2 = [1, 2]"
   ]
  },
  {
   "cell_type": "markdown",
   "metadata": {},
   "source": [
    "#### Beispiel 3:\n",
    "\n",
    "Baum, der aus einem Wurzelknoten, zwei Kindknoten, und einem Kindeskindknoten besteht.\n",
    "\n",
    "![](Diagramme/Bäume/Listen/Baum_03.png)"
   ]
  },
  {
   "cell_type": "code",
   "execution_count": 84,
   "metadata": {},
   "outputs": [],
   "source": [
    "baum_list_3 = [[1], 2]"
   ]
  },
  {
   "cell_type": "markdown",
   "metadata": {},
   "source": [
    "#### Beispiel 4:\n",
    "\n",
    "Baum, der aus einem Wurzelknoten, zwei Kindknoten, zwei Kindeskindknoten, und einem Kindknoten dritter Ordnung besteht.\n",
    "\n",
    "![](Diagramme/Bäume/Listen/Baum_04.png)"
   ]
  },
  {
   "cell_type": "code",
   "execution_count": 85,
   "metadata": {},
   "outputs": [],
   "source": [
    "baum_list_4 = [[[1], 2], 3]"
   ]
  },
  {
   "cell_type": "markdown",
   "metadata": {},
   "source": [
    "### 1.2. Geschachtelte Abbildungen\n",
    "\n",
    "Auch innere Knoten enhalten Daten!"
   ]
  },
  {
   "cell_type": "markdown",
   "metadata": {},
   "source": [
    "#### Beispiel 1:\n",
    "\n",
    "Baum, der nur aus einem Wurzelknoten besteht.\n",
    "\n",
    "![](Diagramme/Bäume/Abbildungen/Baum_01.png)"
   ]
  },
  {
   "cell_type": "code",
   "execution_count": 86,
   "metadata": {},
   "outputs": [],
   "source": [
    "baum_dict_1 = {}"
   ]
  },
  {
   "cell_type": "markdown",
   "metadata": {},
   "source": [
    "#### Beispiel 2:\n",
    "\n",
    "Baum, der aus einem Wurzelknoten und zwei Kindknoten besteht.\n",
    "\n",
    "![](Diagramme/Bäume/Abbildungen/Baum_02.png)"
   ]
  },
  {
   "cell_type": "code",
   "execution_count": 87,
   "metadata": {},
   "outputs": [],
   "source": [
    "baum_dict_2 = { 1: {}, 2: {} }"
   ]
  },
  {
   "cell_type": "markdown",
   "metadata": {},
   "source": [
    "#### Beispiel 3:\n",
    "\n",
    "Baum, der aus einem Wurzelknoten, zwei Kindknoten, und einem Kindeskindknoten besteht.\n",
    "\n",
    "![](Diagramme/Bäume/Abbildungen/Baum_03.png)"
   ]
  },
  {
   "cell_type": "code",
   "execution_count": 88,
   "metadata": {},
   "outputs": [],
   "source": [
    "baum_dict_3 = { 1: { 2: {} }, 3: {} }"
   ]
  },
  {
   "cell_type": "markdown",
   "metadata": {},
   "source": [
    "#### Beispiel 4:\n",
    "\n",
    "Baum, der aus einem Wurzelknoten, zwei Kindknoten, einem Kindeskindknoten, und einem Kindknoten dritter Ordnung besteht.\n",
    "\n",
    "![](Diagramme/Bäume/Abbildungen/Baum_04.png)"
   ]
  },
  {
   "cell_type": "code",
   "execution_count": 89,
   "metadata": {},
   "outputs": [],
   "source": [
    "baum_dict_4 = { 1: { 2: { 3: {} } }, 4: {} }"
   ]
  },
  {
   "cell_type": "markdown",
   "metadata": {},
   "source": [
    "## 2. Blattpfade"
   ]
  },
  {
   "cell_type": "markdown",
   "metadata": {},
   "source": [
    "### 2.1. Geschachtelte Listen"
   ]
  },
  {
   "cell_type": "code",
   "execution_count": 90,
   "metadata": {},
   "outputs": [],
   "source": [
    "def blattpfade_list(baum: list | int, prefix: str = \"\"):\n",
    "\n",
    "    if type(baum) is list:\n",
    "\n",
    "        for element in baum:\n",
    "\n",
    "            blattpfade_list(element, f\"{prefix} -\")\n",
    "\n",
    "    else:\n",
    "        \n",
    "        print(f\"{prefix} {baum}\")"
   ]
  },
  {
   "cell_type": "markdown",
   "metadata": {},
   "source": [
    "#### Beispiel 1:\n",
    "\n",
    "![](Diagramme/Bäume/Listen/Baum_01.png)"
   ]
  },
  {
   "cell_type": "code",
   "execution_count": 91,
   "metadata": {},
   "outputs": [
    {
     "name": "stdout",
     "output_type": "stream",
     "text": [
      "baum = 1\n",
      "\n",
      " 1\n"
     ]
    }
   ],
   "source": [
    "blattpfade_list(baum_list_1)"
   ]
  },
  {
   "cell_type": "markdown",
   "metadata": {},
   "source": [
    "#### Beispiel 2:\n",
    "\n",
    "![](Diagramme/Bäume/Listen/Baum_02.png)"
   ]
  },
  {
   "cell_type": "code",
   "execution_count": 92,
   "metadata": {},
   "outputs": [
    {
     "name": "stdout",
     "output_type": "stream",
     "text": [
      "baum = [1, 2]\n",
      "\n",
      " - 1\n",
      " - 2\n"
     ]
    }
   ],
   "source": [
    "blattpfade_list(baum_list_2)"
   ]
  },
  {
   "cell_type": "markdown",
   "metadata": {},
   "source": [
    "#### Beispiel 3:\n",
    "\n",
    "![](Diagramme/Bäume/Listen/Baum_03.png)"
   ]
  },
  {
   "cell_type": "code",
   "execution_count": 93,
   "metadata": {},
   "outputs": [
    {
     "name": "stdout",
     "output_type": "stream",
     "text": [
      "baum = [[1], 2]\n",
      "\n",
      " - - 1\n",
      " - 2\n"
     ]
    }
   ],
   "source": [
    "blattpfade_list(baum_list_3)"
   ]
  },
  {
   "cell_type": "markdown",
   "metadata": {},
   "source": [
    "#### Beispiel 4:"
   ]
  },
  {
   "cell_type": "code",
   "execution_count": 94,
   "metadata": {},
   "outputs": [
    {
     "name": "stdout",
     "output_type": "stream",
     "text": [
      "baum = [[[1], 2], 3]\n",
      "\n",
      " - - - 1\n",
      " - - 2\n",
      " - 3\n"
     ]
    }
   ],
   "source": [
    "blattpfade_list(baum_list_4)"
   ]
  },
  {
   "cell_type": "markdown",
   "metadata": {},
   "source": [
    "### 2.2. Geschachtelte Abbildungen"
   ]
  },
  {
   "cell_type": "code",
   "execution_count": 95,
   "metadata": {},
   "outputs": [],
   "source": [
    "def blattpfade_dict(baum, prefix: str = \"root\"):\n",
    "\n",
    "    if len(baum) > 0:\n",
    "\n",
    "        for element in baum:\n",
    "            \n",
    "            blattpfade_dict(baum[element], f\"{prefix} / {element}\")\n",
    "\n",
    "    else:\n",
    "\n",
    "        print(f\"{prefix}\")"
   ]
  },
  {
   "cell_type": "markdown",
   "metadata": {},
   "source": [
    "#### Beispiel 1:\n",
    "\n",
    "![](Diagramme/Bäume/Abbildungen/Baum_01.png)"
   ]
  },
  {
   "cell_type": "code",
   "execution_count": 96,
   "metadata": {},
   "outputs": [
    {
     "name": "stdout",
     "output_type": "stream",
     "text": [
      "baum = {}\n",
      "\n",
      "root\n"
     ]
    }
   ],
   "source": [
    "blattpfade_dict(baum_dict_1)"
   ]
  },
  {
   "cell_type": "markdown",
   "metadata": {},
   "source": [
    "#### Beispiel 2:\n",
    "\n",
    "![](Diagramme/Bäume/Abbildungen/Baum_02.png)"
   ]
  },
  {
   "cell_type": "code",
   "execution_count": 97,
   "metadata": {},
   "outputs": [
    {
     "name": "stdout",
     "output_type": "stream",
     "text": [
      "baum = {1: {}, 2: {}}\n",
      "\n",
      "root / 1\n",
      "root / 2\n"
     ]
    }
   ],
   "source": [
    "blattpfade_dict(baum_dict_2)"
   ]
  },
  {
   "cell_type": "markdown",
   "metadata": {},
   "source": [
    "#### Beispiel 3:\n",
    "\n",
    "![](Diagramme/Bäume/Abbildungen/Baum_03.png)"
   ]
  },
  {
   "cell_type": "code",
   "execution_count": 98,
   "metadata": {},
   "outputs": [
    {
     "name": "stdout",
     "output_type": "stream",
     "text": [
      "baum = {1: {2: {}}, 3: {}}\n",
      "\n",
      "root / 1 / 2\n",
      "root / 3\n"
     ]
    }
   ],
   "source": [
    "blattpfade_dict(baum_dict_3)"
   ]
  },
  {
   "cell_type": "markdown",
   "metadata": {},
   "source": [
    "#### Beispiel 4:\n",
    "\n",
    "![](Diagramme/Bäume/Abbildungen/Baum_04.png)"
   ]
  },
  {
   "cell_type": "code",
   "execution_count": 99,
   "metadata": {},
   "outputs": [
    {
     "name": "stdout",
     "output_type": "stream",
     "text": [
      "baum = {1: {2: {3: {}}}, 4: {}}\n",
      "\n",
      "root / 1 / 2 / 3\n",
      "root / 4\n"
     ]
    }
   ],
   "source": [
    "blattpfade_dict(baum_dict_4)"
   ]
  },
  {
   "cell_type": "markdown",
   "metadata": {},
   "source": [
    "## 3. Baumtiefe"
   ]
  },
  {
   "cell_type": "markdown",
   "metadata": {},
   "source": [
    "### 3.1. Geschachtelte Listen"
   ]
  },
  {
   "cell_type": "code",
   "execution_count": 100,
   "metadata": {},
   "outputs": [],
   "source": [
    "def baumtiefe_list(baum):\n",
    "    \n",
    "    if type(baum) is list:\n",
    "\n",
    "        kindtiefe_max = 0\n",
    "\n",
    "        for element in baum:\n",
    "\n",
    "            kindtiefe = baumtiefe_list(element)\n",
    "            \n",
    "            kindtiefe_max = max(kindtiefe_max, kindtiefe)\n",
    "\n",
    "        return kindtiefe_max + 1\n",
    "    \n",
    "    else:\n",
    "\n",
    "        return 1"
   ]
  },
  {
   "cell_type": "markdown",
   "metadata": {},
   "source": [
    "#### Beispiel 1:\n",
    "\n",
    "![](Diagramme/Bäume/Listen/Baum_01.png)"
   ]
  },
  {
   "cell_type": "code",
   "execution_count": 101,
   "metadata": {},
   "outputs": [
    {
     "name": "stdout",
     "output_type": "stream",
     "text": [
      "baum = 1\n",
      "\n"
     ]
    },
    {
     "data": {
      "text/plain": [
       "1"
      ]
     },
     "execution_count": 101,
     "metadata": {},
     "output_type": "execute_result"
    }
   ],
   "source": [
    "baumtiefe_list(baum_list_1)"
   ]
  },
  {
   "cell_type": "markdown",
   "metadata": {},
   "source": [
    "#### Beispiel 2:\n",
    "\n",
    "![](Diagramme/Bäume/Listen/Baum_02.png)"
   ]
  },
  {
   "cell_type": "code",
   "execution_count": 102,
   "metadata": {},
   "outputs": [
    {
     "name": "stdout",
     "output_type": "stream",
     "text": [
      "baum = [1, 2]\n",
      "\n"
     ]
    },
    {
     "data": {
      "text/plain": [
       "2"
      ]
     },
     "execution_count": 102,
     "metadata": {},
     "output_type": "execute_result"
    }
   ],
   "source": [
    "baumtiefe_list(baum_list_2)"
   ]
  },
  {
   "cell_type": "markdown",
   "metadata": {},
   "source": [
    "#### Beispiel 3:\n",
    "\n",
    "![](Diagramme/Bäume/Listen/Baum_03.png)"
   ]
  },
  {
   "cell_type": "code",
   "execution_count": 103,
   "metadata": {},
   "outputs": [
    {
     "name": "stdout",
     "output_type": "stream",
     "text": [
      "baum = [[1], 2]\n",
      "\n"
     ]
    },
    {
     "data": {
      "text/plain": [
       "3"
      ]
     },
     "execution_count": 103,
     "metadata": {},
     "output_type": "execute_result"
    }
   ],
   "source": [
    "baumtiefe_list(baum_list_3)"
   ]
  },
  {
   "cell_type": "markdown",
   "metadata": {},
   "source": [
    "#### Beispiel 4:\n",
    "\n",
    "![](Diagramme/Bäume/Listen/Baum_04.png)"
   ]
  },
  {
   "cell_type": "code",
   "execution_count": 104,
   "metadata": {},
   "outputs": [
    {
     "name": "stdout",
     "output_type": "stream",
     "text": [
      "baum = [[[1], 2], 3]\n",
      "\n"
     ]
    },
    {
     "data": {
      "text/plain": [
       "4"
      ]
     },
     "execution_count": 104,
     "metadata": {},
     "output_type": "execute_result"
    }
   ],
   "source": [
    "baumtiefe_list(baum_list_4)"
   ]
  },
  {
   "cell_type": "markdown",
   "metadata": {},
   "source": [
    "### 3.2. Geschachtelte Abbildungen"
   ]
  },
  {
   "cell_type": "code",
   "execution_count": 105,
   "metadata": {},
   "outputs": [],
   "source": [
    "def baumtiefe_dict(baum):\n",
    "        \n",
    "        kindtiefe_max = 0\n",
    "        \n",
    "        for element in baum:\n",
    "\n",
    "            kind = baum[element]\n",
    "\n",
    "            kindtiefe = baumtiefe_dict(kind)\n",
    "\n",
    "            kindtiefe_max = max(kindtiefe_max, kindtiefe)\n",
    "\n",
    "        return kindtiefe_max + 1"
   ]
  },
  {
   "cell_type": "markdown",
   "metadata": {},
   "source": [
    "#### Beispiel 1:\n",
    "\n",
    "![](Diagramme/Bäume/Abbildungen/Baum_01.png)"
   ]
  },
  {
   "cell_type": "code",
   "execution_count": 106,
   "metadata": {},
   "outputs": [
    {
     "data": {
      "text/plain": [
       "1"
      ]
     },
     "execution_count": 106,
     "metadata": {},
     "output_type": "execute_result"
    }
   ],
   "source": [
    "baumtiefe_dict(baum_dict_1)"
   ]
  },
  {
   "cell_type": "markdown",
   "metadata": {},
   "source": [
    "#### Beispiel 2:\n",
    "\n",
    "![](Diagramme/Bäume/Abbildungen/Baum_02.png)"
   ]
  },
  {
   "cell_type": "code",
   "execution_count": 107,
   "metadata": {},
   "outputs": [
    {
     "data": {
      "text/plain": [
       "2"
      ]
     },
     "execution_count": 107,
     "metadata": {},
     "output_type": "execute_result"
    }
   ],
   "source": [
    "baumtiefe_dict(baum_dict_2)"
   ]
  },
  {
   "cell_type": "markdown",
   "metadata": {},
   "source": [
    "#### Beispiel 3:\n",
    "\n",
    "![](Diagramme/Bäume/Abbildungen/Baum_03.png)"
   ]
  },
  {
   "cell_type": "code",
   "execution_count": 108,
   "metadata": {},
   "outputs": [
    {
     "data": {
      "text/plain": [
       "3"
      ]
     },
     "execution_count": 108,
     "metadata": {},
     "output_type": "execute_result"
    }
   ],
   "source": [
    "baumtiefe_dict(baum_dict_3)"
   ]
  },
  {
   "cell_type": "markdown",
   "metadata": {},
   "source": [
    "#### Beispiel 4:\n",
    "\n",
    "![](Diagramme/Bäume/Abbildungen/Baum_04.png)"
   ]
  },
  {
   "cell_type": "code",
   "execution_count": null,
   "metadata": {},
   "outputs": [],
   "source": [
    "baumtiefe_dict(baum_dict_4)"
   ]
  }
 ],
 "metadata": {
  "kernelspec": {
   "display_name": "Python 3",
   "language": "python",
   "name": "python3"
  },
  "language_info": {
   "codemirror_mode": {
    "name": "ipython",
    "version": 3
   },
   "file_extension": ".py",
   "mimetype": "text/x-python",
   "name": "python",
   "nbconvert_exporter": "python",
   "pygments_lexer": "ipython3",
   "version": "3.12.1"
  }
 },
 "nbformat": 4,
 "nbformat_minor": 2
}
