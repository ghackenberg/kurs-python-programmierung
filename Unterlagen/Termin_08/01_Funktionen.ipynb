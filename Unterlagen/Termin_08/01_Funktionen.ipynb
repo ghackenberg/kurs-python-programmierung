{
 "cells": [
  {
   "cell_type": "markdown",
   "metadata": {},
   "source": [
    "# Funktionen"
   ]
  },
  {
   "cell_type": "markdown",
   "metadata": {},
   "source": [
    "## 1. Einfache Funktionen"
   ]
  },
  {
   "cell_type": "markdown",
   "metadata": {},
   "source": [
    "### 1.1. Funktionsdefinition"
   ]
  },
  {
   "cell_type": "code",
   "execution_count": 2,
   "metadata": {},
   "outputs": [],
   "source": [
    "# Funktionssignatur\n",
    "\n",
    "def funktionsName(parameter1, parameter2):\n",
    "\n",
    "    # Funktionskörper\n",
    "    \n",
    "    print(\"Funktionsaufruf\")\n",
    "    print(f\"parameter1 = {parameter1}\")\n",
    "    print(f\"parameter2 = {parameter2}\")\n",
    "    print()"
   ]
  },
  {
   "cell_type": "markdown",
   "metadata": {},
   "source": [
    "### 1.2. Funktionsaufrufe"
   ]
  },
  {
   "cell_type": "code",
   "execution_count": 5,
   "metadata": {},
   "outputs": [
    {
     "name": "stdout",
     "output_type": "stream",
     "text": [
      "Funktionsaufruf\n",
      "parameter1 = 1\n",
      "parameter2 = 2\n",
      "\n",
      "Funktionsaufruf\n",
      "parameter1 = 1\n",
      "parameter2 = a\n",
      "\n",
      "Funktionsaufruf\n",
      "parameter1 = a\n",
      "parameter2 = b\n",
      "\n",
      "Funktionsaufruf\n",
      "parameter1 = 56\n",
      "parameter2 = True\n",
      "\n"
     ]
    },
    {
     "ename": "TypeError",
     "evalue": "funktionsName() missing 1 required positional argument: 'parameter2'",
     "output_type": "error",
     "traceback": [
      "\u001b[1;31m---------------------------------------------------------------------------\u001b[0m",
      "\u001b[1;31mTypeError\u001b[0m                                 Traceback (most recent call last)",
      "Cell \u001b[1;32mIn[5], line 14\u001b[0m\n\u001b[0;32m     11\u001b[0m funktionsName(parameter2\u001b[38;5;241m=\u001b[39m\u001b[38;5;28;01mTrue\u001b[39;00m, parameter1\u001b[38;5;241m=\u001b[39m\u001b[38;5;241m56\u001b[39m)\n\u001b[0;32m     13\u001b[0m \u001b[38;5;66;03m# Parameter müssen übergeben werden!\u001b[39;00m\n\u001b[1;32m---> 14\u001b[0m \u001b[43mfunktionsName\u001b[49m\u001b[43m(\u001b[49m\u001b[38;5;241;43m1\u001b[39;49m\u001b[43m)\u001b[49m\n",
      "\u001b[1;31mTypeError\u001b[0m: funktionsName() missing 1 required positional argument: 'parameter2'"
     ]
    }
   ],
   "source": [
    "# Zwei Zahlen übergeben\n",
    "funktionsName(1, 2)\n",
    "\n",
    "# Eine Zahl un eine Zeichenkette übergeben\n",
    "funktionsName(1, \"a\")\n",
    "\n",
    "# Zwei Zeichenketten übergeben\n",
    "funktionsName(\"a\", \"b\")\n",
    "\n",
    "# Umgekehrte Reihenfolge\n",
    "funktionsName(parameter2=True, parameter1=56)\n",
    "\n",
    "# Werte für beide Parameter müssen übergeben werden!\n",
    "funktionsName(1)"
   ]
  },
  {
   "cell_type": "markdown",
   "metadata": {},
   "source": [
    "## 2. Standardwerte"
   ]
  },
  {
   "cell_type": "markdown",
   "metadata": {},
   "source": [
    "### 2.1. Standardwert für den letzten Parameter"
   ]
  },
  {
   "cell_type": "code",
   "execution_count": 69,
   "metadata": {},
   "outputs": [
    {
     "name": "stdout",
     "output_type": "stream",
     "text": [
      "Funktionsaufruf\n",
      "parameter1 = 1\n",
      "parameter2 = standardwert\n",
      "\n",
      "Funktionsaufruf\n",
      "parameter1 = 1\n",
      "parameter2 = a\n",
      "\n",
      "Funktionsaufruf\n",
      "parameter1 = 1\n",
      "parameter2 = 2\n",
      "\n",
      "Funktionsaufruf\n",
      "parameter1 = a\n",
      "parameter2 = 1\n",
      "\n"
     ]
    }
   ],
   "source": [
    "# Funktionsdefinition mit Standardwert für zweiten Parameter\n",
    "\n",
    "def funktionMitEinemStandardwert(parameter1, parameter2 = \"standardwert\"):\n",
    "    print(\"Funktionsaufruf\")\n",
    "    print(f\"parameter1 = {parameter1}\")\n",
    "    print(f\"parameter2 = {parameter2}\")\n",
    "    print()\n",
    "\n",
    "# Für den zweiten Parameter den Standardwert verwendne\n",
    "funktionMitEinemStandardwert(1)\n",
    "\n",
    "# Für keinen der Parameter den Standardwert verwenden\n",
    "funktionMitEinemStandardwert(1, \"a\")\n",
    "funktionMitEinemStandardwert(1, 2)\n",
    "funktionMitEinemStandardwert(parameter2=1, parameter1=\"a\")"
   ]
  },
  {
   "cell_type": "markdown",
   "metadata": {},
   "source": [
    "### 2.2. Standardwerte für die letzten beiden Parameter"
   ]
  },
  {
   "cell_type": "code",
   "execution_count": 70,
   "metadata": {},
   "outputs": [
    {
     "name": "stdout",
     "output_type": "stream",
     "text": [
      "Funktionsaufruf\n",
      "parameter1 = 175\n",
      "parameter2 = standardwert\n",
      "\n",
      "Funktionsaufruf\n",
      "parameter1 = 1\n",
      "parameter2 = standardwert\n",
      "\n",
      "Funktionsaufruf\n",
      "parameter1 = 175\n",
      "parameter2 = x\n",
      "\n",
      "Funktionsaufruf\n",
      "parameter1 = 45\n",
      "parameter2 = a\n",
      "\n",
      "Funktionsaufruf\n",
      "parameter1 = a\n",
      "parameter2 = 45\n",
      "\n"
     ]
    }
   ],
   "source": [
    "# Funktionsdefinition mit Standardwert für beide Parameter\n",
    "\n",
    "def funktionMitZweiStandardwerten(parameter1 = 175, parameter2 = \"standardwert\"):\n",
    "    print(\"Funktionsaufruf\")\n",
    "    print(f\"parameter1 = {parameter1}\")\n",
    "    print(f\"parameter2 = {parameter2}\")\n",
    "    print()\n",
    "\n",
    "# Für beide Parameter den Standardwert verwenden\n",
    "funktionMitZweiStandardwerten()\n",
    "\n",
    "# Nur für den zweiten Parameter den Standardwert verwenden\n",
    "funktionMitZweiStandardwerten(1)\n",
    "\n",
    "# Nur für den ersten Parameter den Standardwert verwenden\n",
    "funktionMitZweiStandardwerten(parameter2=\"x\")\n",
    "\n",
    "# Für keinden der beiden Parameter den Standardwert verwenden\n",
    "funktionMitZweiStandardwerten(45, \"a\")\n",
    "funktionMitZweiStandardwerten(parameter2=45, parameter1=\"a\")"
   ]
  },
  {
   "cell_type": "markdown",
   "metadata": {},
   "source": [
    "## 3. Typhinweise"
   ]
  },
  {
   "cell_type": "code",
   "execution_count": 71,
   "metadata": {},
   "outputs": [
    {
     "name": "stdout",
     "output_type": "stream",
     "text": [
      "Funktionsaufruf\n",
      "parameter1 = 1\n",
      "parameter2 = a\n",
      "\n",
      "Funktionsaufruf\n",
      "parameter1 = 1\n",
      "parameter2 = 1\n",
      "\n",
      "Funktionsaufruf\n",
      "parameter1 = a\n",
      "parameter2 = 1\n",
      "\n"
     ]
    }
   ],
   "source": [
    "# Funktionsdefinition mit Typhinweisen für die Parameter\n",
    "\n",
    "def funktionMitTyphinweisen(parameter1: int, parameter2: str):\n",
    "    print(\"Funktionsaufruf\")\n",
    "    print(f\"parameter1 = {parameter1}\")\n",
    "    print(f\"parameter2 = {parameter2}\")\n",
    "    print()\n",
    "\n",
    "# Typhinweise haben keinen Einfluss auf die Funktionsaufrufe!\n",
    "\n",
    "funktionMitTyphinweisen(1, \"a\")\n",
    "funktionMitTyphinweisen(1, 1)\n",
    "funktionMitTyphinweisen(\"a\", 1)"
   ]
  },
  {
   "cell_type": "markdown",
   "metadata": {},
   "source": [
    "## 4. Rückgabewerte"
   ]
  },
  {
   "cell_type": "markdown",
   "metadata": {},
   "source": [
    "### 4.1. Rückgaben"
   ]
  },
  {
   "cell_type": "code",
   "execution_count": 1,
   "metadata": {},
   "outputs": [
    {
     "name": "stdout",
     "output_type": "stream",
     "text": [
      "2\n",
      "2\n",
      "1\n"
     ]
    }
   ],
   "source": [
    "def funktionMitRückgabe(parameter1, parameter2):\n",
    "    if parameter1 > parameter2:\n",
    "        return parameter1\n",
    "    else:\n",
    "        return parameter2\n",
    "\n",
    "print(funktionMitRückgabe(1, 2))\n",
    "print(funktionMitRückgabe(2, 1))\n",
    "print(funktionMitRückgabe(1, 1))"
   ]
  },
  {
   "cell_type": "markdown",
   "metadata": {},
   "source": [
    "Wenn eine Funktion ein Tupel zurückgibt, kann das Tupel \"ausgepackt\" werden."
   ]
  },
  {
   "cell_type": "code",
   "execution_count": 30,
   "metadata": {},
   "outputs": [
    {
     "name": "stdout",
     "output_type": "stream",
     "text": [
      "(1, 'a')\n",
      "zahl = 1\n",
      "zeichenkette = a\n"
     ]
    }
   ],
   "source": [
    "def funktionMitZweiRückgaben():\n",
    "    return 1, \"a\"\n",
    "\n",
    "print(funktionMitZweiRückgaben())\n",
    "\n",
    "zahl, zeichenkette = funktionMitZweiRückgaben()\n",
    "\n",
    "print(f\"zahl = {zahl}\")\n",
    "print(f\"zeichenkette = {zeichenkette}\")"
   ]
  },
  {
   "cell_type": "markdown",
   "metadata": {},
   "source": [
    "### 4.2. Ausnahmen"
   ]
  },
  {
   "cell_type": "code",
   "execution_count": 12,
   "metadata": {},
   "outputs": [
    {
     "name": "stdout",
     "output_type": "stream",
     "text": [
      "2\n",
      "2\n"
     ]
    },
    {
     "ename": "Exception",
     "evalue": "Werte sind gleich groß!",
     "output_type": "error",
     "traceback": [
      "\u001b[1;31m---------------------------------------------------------------------------\u001b[0m",
      "\u001b[1;31mException\u001b[0m                                 Traceback (most recent call last)",
      "Cell \u001b[1;32mIn[12], line 11\u001b[0m\n\u001b[0;32m      9\u001b[0m \u001b[38;5;28mprint\u001b[39m(funktionsName6(\u001b[38;5;241m1\u001b[39m, \u001b[38;5;241m2\u001b[39m))\n\u001b[0;32m     10\u001b[0m \u001b[38;5;28mprint\u001b[39m(funktionsName6(\u001b[38;5;241m2\u001b[39m, \u001b[38;5;241m1\u001b[39m))\n\u001b[1;32m---> 11\u001b[0m \u001b[38;5;28mprint\u001b[39m(\u001b[43mfunktionsName6\u001b[49m\u001b[43m(\u001b[49m\u001b[38;5;241;43m1\u001b[39;49m\u001b[43m,\u001b[49m\u001b[43m \u001b[49m\u001b[38;5;241;43m1\u001b[39;49m\u001b[43m)\u001b[49m)\n",
      "Cell \u001b[1;32mIn[12], line 7\u001b[0m, in \u001b[0;36mfunktionsName6\u001b[1;34m(parameter1, parameter2)\u001b[0m\n\u001b[0;32m      5\u001b[0m     \u001b[38;5;28;01mreturn\u001b[39;00m parameter2\n\u001b[0;32m      6\u001b[0m \u001b[38;5;28;01melse\u001b[39;00m:\n\u001b[1;32m----> 7\u001b[0m     \u001b[38;5;28;01mraise\u001b[39;00m \u001b[38;5;167;01mException\u001b[39;00m(\u001b[38;5;124m\"\u001b[39m\u001b[38;5;124mWerte sind gleich groß!\u001b[39m\u001b[38;5;124m\"\u001b[39m)\n",
      "\u001b[1;31mException\u001b[0m: Werte sind gleich groß!"
     ]
    }
   ],
   "source": [
    "def funktionMitAusnahme(parameter1, parameter2):\n",
    "    if parameter1 > parameter2:\n",
    "        return parameter1\n",
    "    elif parameter1 < parameter2:\n",
    "        return parameter2\n",
    "    else:\n",
    "        raise Exception(\"Werte sind gleich groß!\")\n",
    "\n",
    "print(funktionMitAusnahme(1, 2))\n",
    "print(funktionMitAusnahme(2, 1))\n",
    "print(funktionMitAusnahme(1, 1))"
   ]
  },
  {
   "cell_type": "markdown",
   "metadata": {},
   "source": [
    "### 4.3. Generatoren"
   ]
  },
  {
   "cell_type": "code",
   "execution_count": 2,
   "metadata": {},
   "outputs": [
    {
     "name": "stdout",
     "output_type": "stream",
     "text": [
      "Starte Generator\n",
      "Generiere Wert\n",
      "next = 0\n",
      "Inkrementiere Zähler\n",
      "Generiere Wert\n",
      "next = 1\n"
     ]
    }
   ],
   "source": [
    "def funktionAlsGenerator():\n",
    "    print(\"Starte Generator\")\n",
    "    zähler = 0\n",
    "    while True:\n",
    "        print(\"Generiere Wert\")\n",
    "        yield zähler\n",
    "        print(\"Inkrementiere Zähler\")\n",
    "        zähler = zähler + 1\n",
    "\n",
    "prozess = funktionAlsGenerator()\n",
    "\n",
    "print(f\"next = {next(prozess)}\")\n",
    "print(f\"next = {next(prozess)}\")"
   ]
  },
  {
   "cell_type": "markdown",
   "metadata": {},
   "source": [
    "## 5. Unbenannte Parameter"
   ]
  },
  {
   "cell_type": "markdown",
   "metadata": {},
   "source": [
    "### 5.1. Der Parameter `*args`"
   ]
  },
  {
   "cell_type": "code",
   "execution_count": 9,
   "metadata": {},
   "outputs": [
    {
     "name": "stdout",
     "output_type": "stream",
     "text": [
      "args = (1, 'a', True)\n",
      "type(args) = <class 'tuple'>\n",
      "\n",
      "args = ('test', 100)\n",
      "type(args) = <class 'tuple'>\n",
      "\n",
      "args = (True, False, 1000, 'test')\n",
      "type(args) = <class 'tuple'>\n",
      "\n"
     ]
    }
   ],
   "source": [
    "def funktionMitArgumentliste(*args):\n",
    "    print(f\"args = {args}\")\n",
    "    print(f\"type(args) = {type(args)}\")\n",
    "    print()\n",
    "\n",
    "funktionMitArgumentliste(1, \"a\", True)\n",
    "funktionMitArgumentliste(\"test\", 100)\n",
    "funktionMitArgumentliste(True, False, 1000, \"test\")"
   ]
  },
  {
   "cell_type": "markdown",
   "metadata": {},
   "source": [
    "### 5.2. Der Parameter `**kwargs`"
   ]
  },
  {
   "cell_type": "code",
   "execution_count": 11,
   "metadata": {},
   "outputs": [
    {
     "name": "stdout",
     "output_type": "stream",
     "text": [
      "kwargs = {'a': 5, 'b': 'x', 'c': True}\n",
      "type(kwargs) = <class 'dict'>\n",
      "\n",
      "kwargs = {'x': 'test'}\n",
      "type(kwargs) = <class 'dict'>\n",
      "\n",
      "kwargs = {'y': True, 'z': 1000}\n",
      "type(kwargs) = <class 'dict'>\n",
      "\n"
     ]
    }
   ],
   "source": [
    "def funktionMitArgumentdict(**kwargs):\n",
    "    print(f\"kwargs = {kwargs}\")\n",
    "    print(f\"type(kwargs) = {type(kwargs)}\")\n",
    "    print()\n",
    "\n",
    "funktionMitArgumentdict(a=5, b=\"x\", c=True)\n",
    "funktionMitArgumentdict(x=\"test\")\n",
    "funktionMitArgumentdict(y=True, z=1000)"
   ]
  },
  {
   "cell_type": "markdown",
   "metadata": {},
   "source": [
    "### 5.3. Beide Parameter kombiniert"
   ]
  },
  {
   "cell_type": "code",
   "execution_count": 14,
   "metadata": {},
   "outputs": [
    {
     "name": "stdout",
     "output_type": "stream",
     "text": [
      "args = (1, 7, 9)\n",
      "kwargs = {'a': 10, 'b': 'x', 'c': True}\n",
      "\n",
      "args = (1, 'b', True)\n",
      "kwargs = {}\n",
      "\n",
      "args = ()\n",
      "kwargs = {'a': 1, 'b': 2, 'c': 3}\n",
      "\n",
      "args = ()\n",
      "kwargs = {}\n",
      "\n"
     ]
    }
   ],
   "source": [
    "def funktionMitArgumentlisteUndDict(*args, **kwargs):\n",
    "    print(f\"args = {args}\")\n",
    "    print(f\"kwargs = {kwargs}\")\n",
    "    print()\n",
    "\n",
    "# Gefülltest Argument-Tupel und Argument-Dictionary\n",
    "funktionMitArgumentlisteUndDict(1, 7, 9, a=10, b=\"x\", c=True)\n",
    "\n",
    "# Leeres Argument-Dictionary\n",
    "funktionMitArgumentlisteUndDict(1, \"b\", True)\n",
    "\n",
    "# Leeres Argument-Tupel\n",
    "funktionMitArgumentlisteUndDict(a=1, b=2, c=3)\n",
    "\n",
    "# Leeres Argument-Tupel und Argument-Dictionary\n",
    "funktionMitArgumentlisteUndDict()"
   ]
  },
  {
   "cell_type": "markdown",
   "metadata": {},
   "source": [
    "## 6. Anwendungen\n",
    "\n",
    "Grundsätzlich werden Funktion dafür verwendet, größere Programme in kleinere Unterprogramme zu gliedern und somit die Übersichtlichkeit zu verbessern. Außerdem ermöglichen Funktionen die Wiederverwendung von Unterprogrammen wie z.B. bei der Sortierung von Zahlenlisten."
   ]
  },
  {
   "cell_type": "markdown",
   "metadata": {},
   "source": [
    "### 6.1. Zahl einlesen"
   ]
  },
  {
   "cell_type": "code",
   "execution_count": 16,
   "metadata": {},
   "outputs": [
    {
     "name": "stdout",
     "output_type": "stream",
     "text": [
      "zahl1 = 1\n",
      "zahl2 = 6\n"
     ]
    }
   ],
   "source": [
    "def zahlEinlesen():\n",
    "    while True:\n",
    "        try:\n",
    "            return int(input(\"Bitte Zahl eingeben:\"))\n",
    "        except:\n",
    "            print(\"Eingabe konnte nicht verarbeitet werden!\")\n",
    "\n",
    "zahl1 = zahlEinlesen()\n",
    "print(f\"zahl1 = {zahl1}\")\n",
    "\n",
    "zahl2 = zahlEinlesen()\n",
    "print(f\"zahl2 = {zahl2}\")"
   ]
  },
  {
   "cell_type": "markdown",
   "metadata": {},
   "source": [
    "### 6.2. Operator einlesen"
   ]
  },
  {
   "cell_type": "code",
   "execution_count": 18,
   "metadata": {},
   "outputs": [
    {
     "name": "stdout",
     "output_type": "stream",
     "text": [
      "operator = -\n"
     ]
    }
   ],
   "source": [
    "def operatorEinlesen():\n",
    "    while True:\n",
    "        operator = input(\"Bitte Operator eingeben:\")\n",
    "        if operator in [\"+\", \"-\", \"*\", \"/\"]:\n",
    "            return operator\n",
    "        else:\n",
    "            print(\"Eingabe konnte nicht verarbeitet werden!\")\n",
    "\n",
    "operator = operatorEinlesen()\n",
    "print(f\"operator = {operator}\")"
   ]
  },
  {
   "cell_type": "markdown",
   "metadata": {},
   "source": [
    "### 6.3. Maximum"
   ]
  },
  {
   "cell_type": "code",
   "execution_count": 20,
   "metadata": {},
   "outputs": [
    {
     "name": "stdout",
     "output_type": "stream",
     "text": [
      "10\n",
      "-1\n"
     ]
    }
   ],
   "source": [
    "def maximum(liste):\n",
    "    ergebnis = liste[0]\n",
    "    for element in liste:\n",
    "        if element > ergebnis:\n",
    "            ergebnis = element\n",
    "    return ergebnis\n",
    "\n",
    "print(maximum([5, 7, 10, -1]))\n",
    "print(maximum([-1, -6, -10, -2]))"
   ]
  },
  {
   "cell_type": "markdown",
   "metadata": {},
   "source": [
    "### 6.4. Maximum und Position"
   ]
  },
  {
   "cell_type": "code",
   "execution_count": 29,
   "metadata": {},
   "outputs": [
    {
     "name": "stdout",
     "output_type": "stream",
     "text": [
      "(2, 20)\n",
      "(2, 5)\n",
      "index = 4\n",
      "wert = 20\n"
     ]
    }
   ],
   "source": [
    "def maximumMitIndex(liste):\n",
    "    ergebnis_wert = liste[0]\n",
    "    ergebnis_index = 0\n",
    "    for index, wert in enumerate(liste):\n",
    "        if wert > ergebnis_wert:\n",
    "            ergebnis_wert = wert\n",
    "            ergebnis_index = index\n",
    "    return ergebnis_index, ergebnis_wert \n",
    "\n",
    "print(maximumMitIndex([5, 10, 20, -10, -20]))\n",
    "print(maximumMitIndex([-2, -1, 5]))\n",
    "\n",
    "index, wert = maximumMitIndex([-5, 0, 7, -9, 20, -3])\n",
    "print(f\"index = {index}\")\n",
    "print(f\"wert = {wert}\")"
   ]
  },
  {
   "cell_type": "markdown",
   "metadata": {},
   "source": [
    "### 6.5. Sortierung"
   ]
  },
  {
   "cell_type": "code",
   "execution_count": 33,
   "metadata": {},
   "outputs": [
    {
     "name": "stdout",
     "output_type": "stream",
     "text": [
      "[-10, -7, -5, 5, 9, 10, 20]\n",
      "[0, 1, 2, 4, 5, 7, 10]\n"
     ]
    }
   ],
   "source": [
    "def sortierenEinfach(liste):\n",
    "\n",
    "    letzter_index = len(liste) - 1\n",
    "\n",
    "    while letzter_index > 0:\n",
    "\n",
    "        # Den letzten Wert zwischenspeichern\n",
    "\n",
    "        letzter_wert = liste[letzter_index]\n",
    "\n",
    "        # Den größten Wert und seine Position suchen\n",
    "\n",
    "        maximum_index = 0\n",
    "        maximum_wert = liste[0]\n",
    "\n",
    "        aktueller_index = 1\n",
    "\n",
    "        while aktueller_index <= letzter_index:\n",
    "\n",
    "            if liste[aktueller_index] > maximum_wert:\n",
    "\n",
    "                maximum_index = aktueller_index\n",
    "                maximum_wert = liste[maximum_index]\n",
    "\n",
    "            aktueller_index = aktueller_index + 1\n",
    "\n",
    "        # Den größten Wert ans Ende der Liste stellen\n",
    "\n",
    "        liste[letzter_index] = maximum_wert\n",
    "        liste[maximum_index] = letzter_wert\n",
    "\n",
    "        # Den letzten Index aktualisieren\n",
    "\n",
    "        letzter_index = letzter_index - 1\n",
    "    \n",
    "    return liste\n",
    "\n",
    "print(sortierenEinfach([-5, -7, 10, 5, -10, 20, 9]))\n",
    "print(sortierenEinfach([2, 1, 5, 7, 0, 10, 4]))"
   ]
  }
 ],
 "metadata": {
  "kernelspec": {
   "display_name": "Python 3",
   "language": "python",
   "name": "python3"
  },
  "language_info": {
   "codemirror_mode": {
    "name": "ipython",
    "version": 3
   },
   "file_extension": ".py",
   "mimetype": "text/x-python",
   "name": "python",
   "nbconvert_exporter": "python",
   "pygments_lexer": "ipython3",
   "version": "3.12.2"
  }
 },
 "nbformat": 4,
 "nbformat_minor": 2
}
