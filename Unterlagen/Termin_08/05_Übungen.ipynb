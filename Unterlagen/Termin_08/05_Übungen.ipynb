{
 "cells": [
  {
   "cell_type": "markdown",
   "metadata": {},
   "source": [
    "# Übungen"
   ]
  },
  {
   "cell_type": "markdown",
   "metadata": {},
   "source": [
    "## Übung 1: **Sortierung einer Liste mit Zahlen** mittels `for`-Schleife\n",
    "\n",
    "Schreiben Sie den Algorithmus zur Sortierung einer Liste von Zahlen so um, dass er statt einer `while`-Schleife eine `for`-Schleife verwendet.\n",
    "\n",
    "*Tip: Nutzen Sie die Funktion `range` mit negativer Schrittweite dazu.*"
   ]
  },
  {
   "cell_type": "code",
   "execution_count": null,
   "metadata": {},
   "outputs": [],
   "source": [
    "# TODO"
   ]
  },
  {
   "cell_type": "markdown",
   "metadata": {},
   "source": [
    "## Übung 2: **Fibonacci-Funktion** mittel Rekursion\n",
    "\n",
    "Schreiben Sie eine rekursive Funktion, welche die n-te Zahl der Fibonacci-Folge (siehe https://de.wikipedia.org/wiki/Fibonacci-Folge) berechnet und zurückgibt."
   ]
  },
  {
   "cell_type": "code",
   "execution_count": null,
   "metadata": {},
   "outputs": [],
   "source": [
    "# TODO"
   ]
  },
  {
   "cell_type": "markdown",
   "metadata": {},
   "source": [
    "## Übung 3: **Baumtiefe** mittels Rekursion\n",
    "\n",
    "Schreiben Sie eine rekursive Funktion, welche die maximale Länge eines Blattpfades einer Baumstruktur (mit Liste oder Dictionary) berechnet."
   ]
  },
  {
   "cell_type": "code",
   "execution_count": null,
   "metadata": {},
   "outputs": [],
   "source": [
    "# TODO"
   ]
  },
  {
   "cell_type": "markdown",
   "metadata": {},
   "source": [
    "## Übung 4: **Binärsuche** mittels Rekursion\n",
    "\n",
    "Schreiben Sie den Algorithmus für die Binärsuche als rekursive Funktion um."
   ]
  },
  {
   "cell_type": "code",
   "execution_count": null,
   "metadata": {},
   "outputs": [],
   "source": [
    "# TODO"
   ]
  },
  {
   "cell_type": "markdown",
   "metadata": {},
   "source": [
    "## Übung 5: **Pfadauflistung (`dict`)** mittels Rekursion\n",
    "\n",
    "Übersetzen Sie den Algorithmus für die Auflistung von Pfaden auf `dict`-Graphen.\n",
    "\n",
    "*Empfehlung: Nutzen Sie als Beispiel den Navigationsgraphen mit Städten und Distanzen.*"
   ]
  },
  {
   "cell_type": "code",
   "execution_count": null,
   "metadata": {},
   "outputs": [],
   "source": [
    "# TODO"
   ]
  },
  {
   "cell_type": "markdown",
   "metadata": {},
   "source": [
    "## Übung 6: **Kürzeste Pfade (`dict`)** mittels Rekursion\n",
    "\n",
    "Übersetzen Sie den Algorithmus für die Berechnung von kürzesten Pfaden auf `dict`-Graphen.\n",
    "\n",
    "*Empfehlung: Nutzen Sie als Beispiel den Navigationsgraphen mit Städten und Distanzen.*"
   ]
  },
  {
   "cell_type": "code",
   "execution_count": null,
   "metadata": {},
   "outputs": [],
   "source": [
    "# TODO"
   ]
  }
 ],
 "metadata": {
  "language_info": {
   "name": "python"
  }
 },
 "nbformat": 4,
 "nbformat_minor": 2
}
