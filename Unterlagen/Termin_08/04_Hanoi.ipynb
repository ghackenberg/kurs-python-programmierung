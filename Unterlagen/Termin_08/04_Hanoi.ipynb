{
 "cells": [
  {
   "cell_type": "markdown",
   "metadata": {},
   "source": [
    "# Türme von Hanoi\n",
    "\n",
    "Die Türme von Hanoi ist ein Spiel mit drei Stäben mit einem Turm von verschieden großen Scheiben (siehe https://de.wikipedia.org/wiki/T%C3%BCrme_von_Hanoi).\n",
    "\n",
    "![](https://upload.wikimedia.org/wikipedia/commons/0/07/Tower_of_Hanoi.jpeg)\n",
    "\n",
    "Ziel des Spieles ist es, den Turm von einem Stab zu einem anderen Stab zu bewegen. In jedem Spielzug darf nur eine Scheibe bewegt werden. Es darf niemals eine größere auf eine kleiner Scheibe gelegt werden."
   ]
  },
  {
   "cell_type": "markdown",
   "metadata": {},
   "source": [
    "## 1. Langform"
   ]
  },
  {
   "cell_type": "markdown",
   "metadata": {},
   "source": [
    "### 1.1. Spielstand\n",
    "\n",
    "Der Spielstand definiert sich daraus., welche Scheiben auf welchem Stab in welcher Reihenfolge aufgereiht sind."
   ]
  },
  {
   "cell_type": "code",
   "execution_count": null,
   "metadata": {},
   "outputs": [],
   "source": [
    "# Spielfeld initialisieren\n",
    "spielfeld: dict[str, list[int]] = { \"Stab A\": [3, 2, 1], \"Stab B\": [], \"Stab C\": [] }\n",
    "\n",
    "# Berechnung der Turmgröße\n",
    "turmgröße = len(spielfeld[\"Stab A\"])"
   ]
  },
  {
   "cell_type": "markdown",
   "metadata": {},
   "source": [
    "### 1.2 Spielstrategie\n",
    "\n",
    "Die Spielstrategie zerlegt das Gesamtproblem (Turm der Höhe 3 von A nach B) in drei Teilprobleme:\n",
    "\n",
    "1. Turm der Höhe 2 von A nach C\n",
    "2. Scheibe 3 von A nach B\n",
    "3. Turm der Höhe 2 von C nach B\n",
    "\n",
    "Die folgende Darstellung illustriert diese Strategie:\n",
    "\n",
    "![](Türme%20von%20Hanoi.jpg)\n",
    "\n",
    "Und hier das Ganze nun als rekursive Funktion:"
   ]
  },
  {
   "cell_type": "code",
   "execution_count": null,
   "metadata": {},
   "outputs": [
    {
     "name": "stdout",
     "output_type": "stream",
     "text": [
      "{'Stab A': [3, 2, 1], 'Stab B': [], 'Stab C': []}\n",
      "3 Scheiben von Stab A über Stab B nach Stab C\n",
      "\t2 Scheiben von Stab A über Stab C nach Stab B\n",
      "\t\t1 Scheiben von Stab A über Stab B nach Stab C\n",
      "\t\t- Scheibe 1 von Stab A nach Stab C\n",
      "\t\t- {'Stab A': [3, 2], 'Stab B': [], 'Stab C': [1]}\n",
      "\t- Scheibe 2 von Stab A nach Stab B\n",
      "\t- {'Stab A': [3], 'Stab B': [2], 'Stab C': [1]}\n",
      "\t\t1 Scheiben von Stab C über Stab A nach Stab B\n",
      "\t\t- Scheibe 1 von Stab C nach Stab B\n",
      "\t\t- {'Stab A': [3], 'Stab B': [2, 1], 'Stab C': []}\n",
      "- Scheibe 3 von Stab A nach Stab C\n",
      "- {'Stab A': [], 'Stab B': [2, 1], 'Stab C': [3]}\n",
      "\t2 Scheiben von Stab B über Stab A nach Stab C\n",
      "\t\t1 Scheiben von Stab B über Stab C nach Stab A\n",
      "\t\t- Scheibe 1 von Stab B nach Stab A\n",
      "\t\t- {'Stab A': [1], 'Stab B': [2], 'Stab C': [3]}\n",
      "\t- Scheibe 2 von Stab B nach Stab C\n",
      "\t- {'Stab A': [1], 'Stab B': [], 'Stab C': [3, 2]}\n",
      "\t\t1 Scheiben von Stab A über Stab B nach Stab C\n",
      "\t\t- Scheibe 1 von Stab A nach Stab C\n",
      "\t\t- {'Stab A': [], 'Stab B': [], 'Stab C': [3, 2, 1]}\n"
     ]
    }
   ],
   "source": [
    "def hanoi(zahl: int, quelle: str, ablage: str, ziel: str):\n",
    "\n",
    "    if zahl > 0:\n",
    "\n",
    "        # Einrückung berechnen\n",
    "        einrückung = \"\"\n",
    "        for i in range(turmgröße - zahl):\n",
    "            einrückung = einrückung + \"\\t\"\n",
    "        \n",
    "        # Parameter ausgeben\n",
    "        print(f\"{einrückung}{zahl} Scheiben von {quelle} über {ablage} nach {ziel}\")\n",
    "\n",
    "        # Turm ab zweitgrößter Scheibe auf den Zwischenstab legen\n",
    "        hanoi(zahl - 1, quelle, ziel, ablage)\n",
    "\n",
    "        # Größte Scheibe vom Quellstab nehmen\n",
    "        scheibe = spielfeld[quelle].pop()\n",
    "\n",
    "        # Größte Scheibe ausgeben\n",
    "        print(f\"{einrückung}- Scheibe {scheibe} von {quelle} nach {ziel}\")\n",
    "\n",
    "        # Größte Scheibe auf den Zielstab legen\n",
    "        spielfeld[ziel].append(scheibe)\n",
    "\n",
    "        # Spielfeld ausgeben\n",
    "        print(f\"{einrückung}- {spielfeld}\")\n",
    "\n",
    "        # Turm ab zweitgrößter Scheibe vom Zwischenstab auf den Zielstab legen\n",
    "        hanoi(zahl - 1, ablage, quelle, ziel)"
   ]
  },
  {
   "cell_type": "markdown",
   "metadata": {},
   "source": [
    "### 1.3. Spielstart"
   ]
  },
  {
   "cell_type": "code",
   "execution_count": null,
   "metadata": {},
   "outputs": [],
   "source": [
    "# Spielfeld ausgeben\n",
    "print(spielfeld)\n",
    "\n",
    "# Lösung berechnen\n",
    "hanoi(turmgröße, \"Stab A\", \"Stab B\", \"Stab C\")"
   ]
  },
  {
   "cell_type": "markdown",
   "metadata": {},
   "source": [
    "## 2. Kurzform"
   ]
  },
  {
   "cell_type": "code",
   "execution_count": null,
   "metadata": {},
   "outputs": [],
   "source": [
    "def hanoi(zahl: int, quelle: str, ablage: str, ziel: str):\n",
    "\n",
    "    if zahl > 0:\n",
    "\n",
    "        # Turm ab zweitgrößter Scheibe auf den Zwischenstab legen\n",
    "        hanoi(zahl - 1, quelle, ziel, ablage)\n",
    "\n",
    "        # Größte Scheibe vom Quellstab nehmen\n",
    "        scheibe = spielfeld[quelle].pop()\n",
    "\n",
    "        # Größte Scheibe auf den Zielstab legen\n",
    "        spielfeld[ziel].append(scheibe)\n",
    "\n",
    "        # Spielfeld ausgeben\n",
    "        print(f\"Spielzug: oberste Scheibe von {quelle} nach {ziel}\")\n",
    "        print(f\" => Neuer Spielzustand: {spielfeld}\")\n",
    "\n",
    "        # Turm ab zweitgrößter Scheibe vom Zwischenstab auf den Zielstab legen\n",
    "        hanoi(zahl - 1, ablage, quelle, ziel)"
   ]
  },
  {
   "cell_type": "markdown",
   "metadata": {},
   "source": [
    "### Beispiel 1:"
   ]
  },
  {
   "cell_type": "code",
   "execution_count": null,
   "metadata": {},
   "outputs": [
    {
     "name": "stdout",
     "output_type": "stream",
     "text": [
      "{'Stab A': [2, 1], 'Stab B': [], 'Stab C': []}\n",
      "Spielzug: oberste Scheibe von Stab A nach Stab B\n",
      " => Neuer Spielzustand: {'Stab A': [2], 'Stab B': [1], 'Stab C': []}\n",
      "Spielzug: oberste Scheibe von Stab A nach Stab C\n",
      " => Neuer Spielzustand: {'Stab A': [], 'Stab B': [1], 'Stab C': [2]}\n",
      "Spielzug: oberste Scheibe von Stab B nach Stab C\n",
      " => Neuer Spielzustand: {'Stab A': [], 'Stab B': [], 'Stab C': [2, 1]}\n"
     ]
    }
   ],
   "source": [
    "# Spielfeld initialisieren\n",
    "spielfeld: dict[str, list[int]] = { \"Stab A\": [2, 1], \"Stab B\": [], \"Stab C\": [] }\n",
    "\n",
    "# Berechnung der Turmgröße\n",
    "turmgröße = len(spielfeld[\"Stab A\"])\n",
    "\n",
    "# Spielfeld ausgeben\n",
    "print(spielfeld)\n",
    "\n",
    "# Lösung berechnen\n",
    "hanoi(turmgröße, \"Stab A\", \"Stab B\", \"Stab C\")"
   ]
  },
  {
   "cell_type": "markdown",
   "metadata": {},
   "source": [
    "### Beispiel 2:"
   ]
  },
  {
   "cell_type": "code",
   "execution_count": null,
   "metadata": {},
   "outputs": [
    {
     "name": "stdout",
     "output_type": "stream",
     "text": [
      "{'Stab A': [3, 2, 1], 'Stab B': [], 'Stab C': []}\n",
      "Spielzug: oberste Scheibe von Stab A nach Stab C\n",
      " => Neuer Spielzustand: {'Stab A': [3, 2], 'Stab B': [], 'Stab C': [1]}\n",
      "Spielzug: oberste Scheibe von Stab A nach Stab B\n",
      " => Neuer Spielzustand: {'Stab A': [3], 'Stab B': [2], 'Stab C': [1]}\n",
      "Spielzug: oberste Scheibe von Stab C nach Stab B\n",
      " => Neuer Spielzustand: {'Stab A': [3], 'Stab B': [2, 1], 'Stab C': []}\n",
      "Spielzug: oberste Scheibe von Stab A nach Stab C\n",
      " => Neuer Spielzustand: {'Stab A': [], 'Stab B': [2, 1], 'Stab C': [3]}\n",
      "Spielzug: oberste Scheibe von Stab B nach Stab A\n",
      " => Neuer Spielzustand: {'Stab A': [1], 'Stab B': [2], 'Stab C': [3]}\n",
      "Spielzug: oberste Scheibe von Stab B nach Stab C\n",
      " => Neuer Spielzustand: {'Stab A': [1], 'Stab B': [], 'Stab C': [3, 2]}\n",
      "Spielzug: oberste Scheibe von Stab A nach Stab C\n",
      " => Neuer Spielzustand: {'Stab A': [], 'Stab B': [], 'Stab C': [3, 2, 1]}\n"
     ]
    }
   ],
   "source": [
    "# Spielfeld initialisieren\n",
    "spielfeld: dict[str, list[int]] = { \"Stab A\": [3, 2, 1], \"Stab B\": [], \"Stab C\": [] }\n",
    "\n",
    "# Berechnung der Turmgröße\n",
    "turmgröße = len(spielfeld[\"Stab A\"])\n",
    "\n",
    "# Spielfeld ausgeben\n",
    "print(spielfeld)\n",
    "\n",
    "# Lösung berechnen\n",
    "hanoi(turmgröße, \"Stab A\", \"Stab B\", \"Stab C\")"
   ]
  },
  {
   "cell_type": "markdown",
   "metadata": {},
   "source": [
    "### Beispiel 3:"
   ]
  },
  {
   "cell_type": "code",
   "execution_count": null,
   "metadata": {},
   "outputs": [
    {
     "name": "stdout",
     "output_type": "stream",
     "text": [
      "{'Stab A': [4, 3, 2, 1], 'Stab B': [], 'Stab C': []}\n",
      "Spielzug: oberste Scheibe von Stab A nach Stab B\n",
      " => Neuer Spielzustand: {'Stab A': [4, 3, 2], 'Stab B': [1], 'Stab C': []}\n",
      "Spielzug: oberste Scheibe von Stab A nach Stab C\n",
      " => Neuer Spielzustand: {'Stab A': [4, 3], 'Stab B': [1], 'Stab C': [2]}\n",
      "Spielzug: oberste Scheibe von Stab B nach Stab C\n",
      " => Neuer Spielzustand: {'Stab A': [4, 3], 'Stab B': [], 'Stab C': [2, 1]}\n",
      "Spielzug: oberste Scheibe von Stab A nach Stab B\n",
      " => Neuer Spielzustand: {'Stab A': [4], 'Stab B': [3], 'Stab C': [2, 1]}\n",
      "Spielzug: oberste Scheibe von Stab C nach Stab A\n",
      " => Neuer Spielzustand: {'Stab A': [4, 1], 'Stab B': [3], 'Stab C': [2]}\n",
      "Spielzug: oberste Scheibe von Stab C nach Stab B\n",
      " => Neuer Spielzustand: {'Stab A': [4, 1], 'Stab B': [3, 2], 'Stab C': []}\n",
      "Spielzug: oberste Scheibe von Stab A nach Stab B\n",
      " => Neuer Spielzustand: {'Stab A': [4], 'Stab B': [3, 2, 1], 'Stab C': []}\n",
      "Spielzug: oberste Scheibe von Stab A nach Stab C\n",
      " => Neuer Spielzustand: {'Stab A': [], 'Stab B': [3, 2, 1], 'Stab C': [4]}\n",
      "Spielzug: oberste Scheibe von Stab B nach Stab C\n",
      " => Neuer Spielzustand: {'Stab A': [], 'Stab B': [3, 2], 'Stab C': [4, 1]}\n",
      "Spielzug: oberste Scheibe von Stab B nach Stab A\n",
      " => Neuer Spielzustand: {'Stab A': [2], 'Stab B': [3], 'Stab C': [4, 1]}\n",
      "Spielzug: oberste Scheibe von Stab C nach Stab A\n",
      " => Neuer Spielzustand: {'Stab A': [2, 1], 'Stab B': [3], 'Stab C': [4]}\n",
      "Spielzug: oberste Scheibe von Stab B nach Stab C\n",
      " => Neuer Spielzustand: {'Stab A': [2, 1], 'Stab B': [], 'Stab C': [4, 3]}\n",
      "Spielzug: oberste Scheibe von Stab A nach Stab B\n",
      " => Neuer Spielzustand: {'Stab A': [2], 'Stab B': [1], 'Stab C': [4, 3]}\n",
      "Spielzug: oberste Scheibe von Stab A nach Stab C\n",
      " => Neuer Spielzustand: {'Stab A': [], 'Stab B': [1], 'Stab C': [4, 3, 2]}\n",
      "Spielzug: oberste Scheibe von Stab B nach Stab C\n",
      " => Neuer Spielzustand: {'Stab A': [], 'Stab B': [], 'Stab C': [4, 3, 2, 1]}\n"
     ]
    }
   ],
   "source": [
    "# Spielfeld initialisieren\n",
    "spielfeld: dict[str, list[int]] = { \"Stab A\": [4, 3, 2, 1], \"Stab B\": [], \"Stab C\": [] }\n",
    "\n",
    "# Berechnung der Turmgröße\n",
    "turmgröße = len(spielfeld[\"Stab A\"])\n",
    "\n",
    "# Spielfeld ausgeben\n",
    "print(spielfeld)\n",
    "\n",
    "# Lösung berechnen\n",
    "hanoi(turmgröße, \"Stab A\", \"Stab B\", \"Stab C\")"
   ]
  },
  {
   "cell_type": "markdown",
   "metadata": {},
   "source": [
    "### Beispiel 4:"
   ]
  },
  {
   "cell_type": "code",
   "execution_count": null,
   "metadata": {},
   "outputs": [
    {
     "name": "stdout",
     "output_type": "stream",
     "text": [
      "{'Stab A': [5, 4, 3, 2, 1], 'Stab B': [], 'Stab C': []}\n",
      "Spielzug: oberste Scheibe von Stab A nach Stab C\n",
      " => Neuer Spielzustand: {'Stab A': [5, 4, 3, 2], 'Stab B': [], 'Stab C': [1]}\n",
      "Spielzug: oberste Scheibe von Stab A nach Stab B\n",
      " => Neuer Spielzustand: {'Stab A': [5, 4, 3], 'Stab B': [2], 'Stab C': [1]}\n",
      "Spielzug: oberste Scheibe von Stab C nach Stab B\n",
      " => Neuer Spielzustand: {'Stab A': [5, 4, 3], 'Stab B': [2, 1], 'Stab C': []}\n",
      "Spielzug: oberste Scheibe von Stab A nach Stab C\n",
      " => Neuer Spielzustand: {'Stab A': [5, 4], 'Stab B': [2, 1], 'Stab C': [3]}\n",
      "Spielzug: oberste Scheibe von Stab B nach Stab A\n",
      " => Neuer Spielzustand: {'Stab A': [5, 4, 1], 'Stab B': [2], 'Stab C': [3]}\n",
      "Spielzug: oberste Scheibe von Stab B nach Stab C\n",
      " => Neuer Spielzustand: {'Stab A': [5, 4, 1], 'Stab B': [], 'Stab C': [3, 2]}\n",
      "Spielzug: oberste Scheibe von Stab A nach Stab C\n",
      " => Neuer Spielzustand: {'Stab A': [5, 4], 'Stab B': [], 'Stab C': [3, 2, 1]}\n",
      "Spielzug: oberste Scheibe von Stab A nach Stab B\n",
      " => Neuer Spielzustand: {'Stab A': [5], 'Stab B': [4], 'Stab C': [3, 2, 1]}\n",
      "Spielzug: oberste Scheibe von Stab C nach Stab B\n",
      " => Neuer Spielzustand: {'Stab A': [5], 'Stab B': [4, 1], 'Stab C': [3, 2]}\n",
      "Spielzug: oberste Scheibe von Stab C nach Stab A\n",
      " => Neuer Spielzustand: {'Stab A': [5, 2], 'Stab B': [4, 1], 'Stab C': [3]}\n",
      "Spielzug: oberste Scheibe von Stab B nach Stab A\n",
      " => Neuer Spielzustand: {'Stab A': [5, 2, 1], 'Stab B': [4], 'Stab C': [3]}\n",
      "Spielzug: oberste Scheibe von Stab C nach Stab B\n",
      " => Neuer Spielzustand: {'Stab A': [5, 2, 1], 'Stab B': [4, 3], 'Stab C': []}\n",
      "Spielzug: oberste Scheibe von Stab A nach Stab C\n",
      " => Neuer Spielzustand: {'Stab A': [5, 2], 'Stab B': [4, 3], 'Stab C': [1]}\n",
      "Spielzug: oberste Scheibe von Stab A nach Stab B\n",
      " => Neuer Spielzustand: {'Stab A': [5], 'Stab B': [4, 3, 2], 'Stab C': [1]}\n",
      "Spielzug: oberste Scheibe von Stab C nach Stab B\n",
      " => Neuer Spielzustand: {'Stab A': [5], 'Stab B': [4, 3, 2, 1], 'Stab C': []}\n",
      "Spielzug: oberste Scheibe von Stab A nach Stab C\n",
      " => Neuer Spielzustand: {'Stab A': [], 'Stab B': [4, 3, 2, 1], 'Stab C': [5]}\n",
      "Spielzug: oberste Scheibe von Stab B nach Stab A\n",
      " => Neuer Spielzustand: {'Stab A': [1], 'Stab B': [4, 3, 2], 'Stab C': [5]}\n",
      "Spielzug: oberste Scheibe von Stab B nach Stab C\n",
      " => Neuer Spielzustand: {'Stab A': [1], 'Stab B': [4, 3], 'Stab C': [5, 2]}\n",
      "Spielzug: oberste Scheibe von Stab A nach Stab C\n",
      " => Neuer Spielzustand: {'Stab A': [], 'Stab B': [4, 3], 'Stab C': [5, 2, 1]}\n",
      "Spielzug: oberste Scheibe von Stab B nach Stab A\n",
      " => Neuer Spielzustand: {'Stab A': [3], 'Stab B': [4], 'Stab C': [5, 2, 1]}\n",
      "Spielzug: oberste Scheibe von Stab C nach Stab B\n",
      " => Neuer Spielzustand: {'Stab A': [3], 'Stab B': [4, 1], 'Stab C': [5, 2]}\n",
      "Spielzug: oberste Scheibe von Stab C nach Stab A\n",
      " => Neuer Spielzustand: {'Stab A': [3, 2], 'Stab B': [4, 1], 'Stab C': [5]}\n",
      "Spielzug: oberste Scheibe von Stab B nach Stab A\n",
      " => Neuer Spielzustand: {'Stab A': [3, 2, 1], 'Stab B': [4], 'Stab C': [5]}\n",
      "Spielzug: oberste Scheibe von Stab B nach Stab C\n",
      " => Neuer Spielzustand: {'Stab A': [3, 2, 1], 'Stab B': [], 'Stab C': [5, 4]}\n",
      "Spielzug: oberste Scheibe von Stab A nach Stab C\n",
      " => Neuer Spielzustand: {'Stab A': [3, 2], 'Stab B': [], 'Stab C': [5, 4, 1]}\n",
      "Spielzug: oberste Scheibe von Stab A nach Stab B\n",
      " => Neuer Spielzustand: {'Stab A': [3], 'Stab B': [2], 'Stab C': [5, 4, 1]}\n",
      "Spielzug: oberste Scheibe von Stab C nach Stab B\n",
      " => Neuer Spielzustand: {'Stab A': [3], 'Stab B': [2, 1], 'Stab C': [5, 4]}\n",
      "Spielzug: oberste Scheibe von Stab A nach Stab C\n",
      " => Neuer Spielzustand: {'Stab A': [], 'Stab B': [2, 1], 'Stab C': [5, 4, 3]}\n",
      "Spielzug: oberste Scheibe von Stab B nach Stab A\n",
      " => Neuer Spielzustand: {'Stab A': [1], 'Stab B': [2], 'Stab C': [5, 4, 3]}\n",
      "Spielzug: oberste Scheibe von Stab B nach Stab C\n",
      " => Neuer Spielzustand: {'Stab A': [1], 'Stab B': [], 'Stab C': [5, 4, 3, 2]}\n",
      "Spielzug: oberste Scheibe von Stab A nach Stab C\n",
      " => Neuer Spielzustand: {'Stab A': [], 'Stab B': [], 'Stab C': [5, 4, 3, 2, 1]}\n"
     ]
    }
   ],
   "source": [
    "# Spielfeld initialisieren\n",
    "spielfeld: dict[str, list[int]] = { \"Stab A\": [5, 4, 3, 2, 1], \"Stab B\": [], \"Stab C\": [] }\n",
    "\n",
    "# Berechnung der Turmgröße\n",
    "turmgröße = len(spielfeld[\"Stab A\"])\n",
    "\n",
    "# Spielfeld ausgeben\n",
    "print(spielfeld)\n",
    "\n",
    "# Lösung berechnen\n",
    "hanoi(turmgröße, \"Stab A\", \"Stab B\", \"Stab C\")"
   ]
  }
 ],
 "metadata": {
  "language_info": {
   "name": "python"
  }
 },
 "nbformat": 4,
 "nbformat_minor": 2
}
