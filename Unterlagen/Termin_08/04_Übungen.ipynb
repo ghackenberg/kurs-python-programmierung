{
 "cells": [
  {
   "cell_type": "markdown",
   "metadata": {},
   "source": [
    "# Übungen"
   ]
  },
  {
   "cell_type": "markdown",
   "metadata": {},
   "source": [
    "## Übung 1: **Sortierung einer Liste mit Zahlen** mittels `for`-Schleife\n",
    "\n",
    "Schreiben Sie den Algorithmus zur Sortierung einer Liste von Zahlen so um, dass er statt einer `while`-Schleife eine `for`-Schleife verwendet.\n",
    "\n",
    "*Tip: Nutzen Sie die Funktion `range` mit negativer Schrittweite dazu.*"
   ]
  },
  {
   "cell_type": "code",
   "execution_count": null,
   "metadata": {},
   "outputs": [],
   "source": [
    "# TODO"
   ]
  },
  {
   "cell_type": "markdown",
   "metadata": {},
   "source": [
    "## Übung 2: **Fibonacci-Funktion** mittel Rekursion\n",
    "\n",
    "Schreiben Sie eine rekursive Funktion, welche die n-te Zahl der Fibonacci-Folge (siehe https://de.wikipedia.org/wiki/Fibonacci-Folge) berechnet und zurückgibt."
   ]
  },
  {
   "cell_type": "code",
   "execution_count": null,
   "metadata": {},
   "outputs": [],
   "source": [
    "# TODO"
   ]
  },
  {
   "cell_type": "markdown",
   "metadata": {},
   "source": [
    "## Übung 3: **Baumtiefe** mittels Rekursion\n",
    "\n",
    "Schreiben Sie eine rekursive Funktion, welche die maximale Länge eines Blattpfades einer Baumstruktur (mit Liste oder Dictionary) berechnet."
   ]
  },
  {
   "cell_type": "code",
   "execution_count": null,
   "metadata": {},
   "outputs": [],
   "source": [
    "# TODO"
   ]
  },
  {
   "cell_type": "markdown",
   "metadata": {},
   "source": [
    "## Übung 4: **Binärsuche** mittels Rekursion\n",
    "\n",
    "Schreiben Sie den Algorithmus für die Binärsuche als rekursive Funktion um."
   ]
  },
  {
   "cell_type": "code",
   "execution_count": null,
   "metadata": {},
   "outputs": [],
   "source": [
    "# TODO"
   ]
  },
  {
   "cell_type": "code",
   "execution_count": null,
   "metadata": {},
   "outputs": [],
   "source": [
    "# TODO"
   ]
  }
 ],
 "metadata": {
  "kernelspec": {
   "display_name": "Python 3",
   "language": "python",
   "name": "python3"
  },
  "language_info": {
   "codemirror_mode": {
    "name": "ipython",
    "version": 3
   },
   "file_extension": ".py",
   "mimetype": "text/x-python",
   "name": "python",
   "nbconvert_exporter": "python",
   "pygments_lexer": "ipython3",
   "version": "3.12.2"
  }
 },
 "nbformat": 4,
 "nbformat_minor": 2
}
