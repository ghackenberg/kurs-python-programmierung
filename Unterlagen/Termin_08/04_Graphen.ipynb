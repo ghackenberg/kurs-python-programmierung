{
 "cells": [
  {
   "cell_type": "markdown",
   "metadata": {},
   "source": [
    "# Graphen"
   ]
  },
  {
   "cell_type": "markdown",
   "metadata": {},
   "source": [
    "## 1. Datenstrukturen"
   ]
  },
  {
   "cell_type": "code",
   "execution_count": 498,
   "metadata": {},
   "outputs": [],
   "source": [
    "KanteGewicht = int"
   ]
  },
  {
   "cell_type": "markdown",
   "metadata": {},
   "source": [
    "### 1.1. Matrizen\n",
    "\n",
    "Knoten enthalten keine Daten! Kanten sind gerichtet und enthalten ein Gewicht."
   ]
  },
  {
   "cell_type": "code",
   "execution_count": 499,
   "metadata": {},
   "outputs": [],
   "source": [
    "KnotenMatrix = int"
   ]
  },
  {
   "cell_type": "code",
   "execution_count": 500,
   "metadata": {},
   "outputs": [],
   "source": [
    "GraphMatrix = list[list[KanteGewicht]]"
   ]
  },
  {
   "cell_type": "markdown",
   "metadata": {},
   "source": [
    "#### Beispiel 1:\n",
    "\n",
    "Graph mit zwei Knoten und einer Kante.\n",
    "\n",
    "![](Diagramme/Graphen/Matrizen/Beispiel_01.png)"
   ]
  },
  {
   "cell_type": "code",
   "execution_count": 501,
   "metadata": {},
   "outputs": [],
   "source": [
    "graph_matrix_1: GraphMatrix = [\n",
    "    [0, 1],\n",
    "    [0, 0]\n",
    "]"
   ]
  },
  {
   "cell_type": "markdown",
   "metadata": {},
   "source": [
    "#### Beispiel 2:\n",
    "\n",
    "Graph mit drei Knoten, drei Kanten und einem Zyklus.\n",
    "\n",
    "![](Diagramme/Graphen/Matrizen/Beispiel_02.png)"
   ]
  },
  {
   "cell_type": "code",
   "execution_count": 502,
   "metadata": {},
   "outputs": [],
   "source": [
    "graph_matrix_2: GraphMatrix = [\n",
    "    [0, 1, 0],\n",
    "    [0, 0, 1],\n",
    "    [1, 0, 0]\n",
    "]"
   ]
  },
  {
   "cell_type": "markdown",
   "metadata": {},
   "source": [
    "#### Beispiel 3:\n",
    "\n",
    "Graph mit vier Knoten, sechs Kanten, drei alternativen Pfaden, und einem Zyklus.\n",
    "\n",
    "![](Diagramme/Graphen/Matrizen/Beispiel_03.png)"
   ]
  },
  {
   "cell_type": "code",
   "execution_count": 503,
   "metadata": {},
   "outputs": [],
   "source": [
    "graph_matrix_3: GraphMatrix = [\n",
    "    [0, 1, 1, 0],\n",
    "    [0, 0, 1, 1],\n",
    "    [0, 0, 0, 1],\n",
    "    [1, 0, 0, 0]\n",
    "]"
   ]
  },
  {
   "cell_type": "markdown",
   "metadata": {},
   "source": [
    "### 1.2. Abbildungen\n",
    "\n",
    "Knoten können zusätzliche Daten enthalten."
   ]
  },
  {
   "cell_type": "code",
   "execution_count": 504,
   "metadata": {},
   "outputs": [],
   "source": [
    "KnotenDict = str"
   ]
  },
  {
   "cell_type": "code",
   "execution_count": 505,
   "metadata": {},
   "outputs": [],
   "source": [
    "GraphDict = dict[KnotenDict, dict[KnotenDict, KanteGewicht]]"
   ]
  },
  {
   "cell_type": "markdown",
   "metadata": {},
   "source": [
    "#### Beispiel 1:\n",
    "\n",
    "![](Diagramme/Graphen/Abbildungen/Beispiel_01.png)"
   ]
  },
  {
   "cell_type": "code",
   "execution_count": 506,
   "metadata": {},
   "outputs": [],
   "source": [
    "graph_dict_1: GraphDict = {\n",
    "    \"A\": { \"B\": 1 },\n",
    "    \"B\": {}\n",
    "}"
   ]
  },
  {
   "cell_type": "markdown",
   "metadata": {},
   "source": [
    "#### Beispiel 2:\n",
    "\n",
    "![](Diagramme/Graphen/Abbildungen/Beispiel_02.png)"
   ]
  },
  {
   "cell_type": "code",
   "execution_count": 507,
   "metadata": {},
   "outputs": [],
   "source": [
    "graph_dict_2: GraphDict = {\n",
    "    \"A\": { \"B\": 1 },\n",
    "    \"B\": { \"C\": 1 },\n",
    "    \"C\": { \"A\": 1 }\n",
    "}"
   ]
  },
  {
   "cell_type": "markdown",
   "metadata": {},
   "source": [
    "#### Beispiel 3:\n",
    "\n",
    "![](Diagramme/Graphen/Abbildungen/Beispiel_03.png)"
   ]
  },
  {
   "cell_type": "code",
   "execution_count": 508,
   "metadata": {},
   "outputs": [],
   "source": [
    "graph_dict_3: GraphDict = {\n",
    "    \"A\": { \"B\": 1, \"C\": 1 },\n",
    "    \"B\": { \"C\": 1, \"D\": 1 },\n",
    "    \"C\": { \"D\": 1 },\n",
    "    \"D\": { \"A\": 1 }\n",
    "}"
   ]
  },
  {
   "cell_type": "markdown",
   "metadata": {},
   "source": [
    "## 2. Pfadauflistung"
   ]
  },
  {
   "cell_type": "markdown",
   "metadata": {},
   "source": [
    "### 2.1. Matrizen"
   ]
  },
  {
   "cell_type": "code",
   "execution_count": 509,
   "metadata": {},
   "outputs": [],
   "source": [
    "def pfadauflistung_matrix_internal(graph: GraphMatrix, knotenVon: KnotenMatrix, knotenNach: KnotenMatrix, pfad: list[KnotenMatrix], ergebnis: list[list[KnotenMatrix]]):\n",
    "\n",
    "    # Einrückung für Ausgabe berechnen\n",
    "\n",
    "    einrückung = \"\"\n",
    "\n",
    "    for i in range(len(pfad)):\n",
    "        einrückung += \" \"\n",
    "\n",
    "    # Debugausgabe\n",
    "\n",
    "    print(f\"{einrückung}pfadauflistung_matrix_internal(..., {knotenVon}, {knotenNach}, {pfad}, {ergebnis})\")\n",
    "\n",
    "    # Aktuellen Knoten dem Pfad hinzufügen\n",
    "    \n",
    "    pfad.append(knotenVon)\n",
    "\n",
    "    # Prüfen, ob das Ziel erreicht wurde\n",
    "\n",
    "    if knotenVon == knotenNach:\n",
    "\n",
    "        # Fall 1: Ziel erreicht!\n",
    "\n",
    "        # Debugausgabe\n",
    "\n",
    "        print(f\"{einrückung} - Ziel erreicht: {pfad}\")\n",
    "\n",
    "        # Pfad merken!\n",
    "\n",
    "        ergebnis.append(pfad.copy())\n",
    "\n",
    "    else:\n",
    "\n",
    "        # Fall 2: Ziel noch nicht erreicht!\n",
    "\n",
    "        # Nachbarknoten besuchen\n",
    "\n",
    "        for knotenÜber, kanteGewicht in enumerate(graph[knotenVon]):\n",
    "\n",
    "            if kanteGewicht > 0:\n",
    "\n",
    "                # Kante existiert!\n",
    "\n",
    "                if knotenÜber not in pfad:\n",
    "\n",
    "                    # Knoten noch nicht besucht => rekursiver Aufruf!\n",
    "\n",
    "                    pfadauflistung_matrix_internal(graph, knotenÜber, knotenNach, pfad, ergebnis)\n",
    "    \n",
    "    # Aktuellen Knoten wieder aus der Pfadliste löschen\n",
    "    \n",
    "    pfad.pop()\n",
    "\n",
    "    return ergebnis\n",
    "\n",
    "def pfadauflistung_matrix(graph: GraphMatrix, knotenVon: KnotenMatrix, knotenNach: KnotenMatrix):\n",
    "\n",
    "    # Datenstruktur für Speicherung von Pfaden initialisieren\n",
    "\n",
    "    pfad = []\n",
    "\n",
    "    # Datenstruktur für Speicherung von Ergebnissen initialisieren\n",
    "\n",
    "    ergebnis = []\n",
    "\n",
    "    # Berechnung durchführen und Ergebnis zurückgeben\n",
    "    \n",
    "    return pfadauflistung_matrix_internal(graph, knotenVon, knotenNach, pfad, ergebnis)"
   ]
  },
  {
   "cell_type": "markdown",
   "metadata": {},
   "source": [
    "#### Beispiel 1:\n",
    "\n",
    "![](Diagramme/Graphen/Matrizen/Beispiel_01.png)"
   ]
  },
  {
   "cell_type": "code",
   "execution_count": 510,
   "metadata": {},
   "outputs": [
    {
     "name": "stdout",
     "output_type": "stream",
     "text": [
      "pfadauflistung_matrix_internal(..., 0, 0, [], [])\n",
      " - Ziel erreicht: [0]\n"
     ]
    },
    {
     "data": {
      "text/plain": [
       "[[0]]"
      ]
     },
     "execution_count": 510,
     "metadata": {},
     "output_type": "execute_result"
    }
   ],
   "source": [
    "pfadauflistung_matrix(graph_matrix_1, 0, 0)"
   ]
  },
  {
   "cell_type": "code",
   "execution_count": 511,
   "metadata": {},
   "outputs": [
    {
     "name": "stdout",
     "output_type": "stream",
     "text": [
      "pfadauflistung_matrix_internal(..., 0, 1, [], [])\n",
      " pfadauflistung_matrix_internal(..., 1, 1, [0], [])\n",
      "  - Ziel erreicht: [0, 1]\n"
     ]
    },
    {
     "data": {
      "text/plain": [
       "[[0, 1]]"
      ]
     },
     "execution_count": 511,
     "metadata": {},
     "output_type": "execute_result"
    }
   ],
   "source": [
    "pfadauflistung_matrix(graph_matrix_1, 0, 1)"
   ]
  },
  {
   "cell_type": "markdown",
   "metadata": {},
   "source": [
    "#### Beispiel 2:\n",
    "\n",
    "![](Diagramme/Graphen/Matrizen/Beispiel_02.png)"
   ]
  },
  {
   "cell_type": "code",
   "execution_count": 512,
   "metadata": {},
   "outputs": [
    {
     "name": "stdout",
     "output_type": "stream",
     "text": [
      "pfadauflistung_matrix_internal(..., 0, 0, [], [])\n",
      " - Ziel erreicht: [0]\n"
     ]
    },
    {
     "data": {
      "text/plain": [
       "[[0]]"
      ]
     },
     "execution_count": 512,
     "metadata": {},
     "output_type": "execute_result"
    }
   ],
   "source": [
    "pfadauflistung_matrix(graph_matrix_2, 0, 0)"
   ]
  },
  {
   "cell_type": "code",
   "execution_count": 513,
   "metadata": {},
   "outputs": [
    {
     "name": "stdout",
     "output_type": "stream",
     "text": [
      "pfadauflistung_matrix_internal(..., 0, 1, [], [])\n",
      " pfadauflistung_matrix_internal(..., 1, 1, [0], [])\n",
      "  - Ziel erreicht: [0, 1]\n"
     ]
    },
    {
     "data": {
      "text/plain": [
       "[[0, 1]]"
      ]
     },
     "execution_count": 513,
     "metadata": {},
     "output_type": "execute_result"
    }
   ],
   "source": [
    "pfadauflistung_matrix(graph_matrix_2, 0, 1)"
   ]
  },
  {
   "cell_type": "code",
   "execution_count": 514,
   "metadata": {},
   "outputs": [
    {
     "name": "stdout",
     "output_type": "stream",
     "text": [
      "pfadauflistung_matrix_internal(..., 0, 2, [], [])\n",
      " pfadauflistung_matrix_internal(..., 1, 2, [0], [])\n",
      "  pfadauflistung_matrix_internal(..., 2, 2, [0, 1], [])\n",
      "   - Ziel erreicht: [0, 1, 2]\n"
     ]
    },
    {
     "data": {
      "text/plain": [
       "[[0, 1, 2]]"
      ]
     },
     "execution_count": 514,
     "metadata": {},
     "output_type": "execute_result"
    }
   ],
   "source": [
    "pfadauflistung_matrix(graph_matrix_2, 0, 2)"
   ]
  },
  {
   "cell_type": "markdown",
   "metadata": {},
   "source": [
    "#### Beispiel 3:\n",
    "\n",
    "![](Diagramme/Graphen/Matrizen/Beispiel_03.png)"
   ]
  },
  {
   "cell_type": "code",
   "execution_count": 515,
   "metadata": {},
   "outputs": [
    {
     "name": "stdout",
     "output_type": "stream",
     "text": [
      "pfadauflistung_matrix_internal(..., 0, 0, [], [])\n",
      " - Ziel erreicht: [0]\n"
     ]
    },
    {
     "data": {
      "text/plain": [
       "[[0]]"
      ]
     },
     "execution_count": 515,
     "metadata": {},
     "output_type": "execute_result"
    }
   ],
   "source": [
    "pfadauflistung_matrix(graph_matrix_3, 0, 0)"
   ]
  },
  {
   "cell_type": "code",
   "execution_count": 516,
   "metadata": {},
   "outputs": [
    {
     "name": "stdout",
     "output_type": "stream",
     "text": [
      "pfadauflistung_matrix_internal(..., 0, 1, [], [])\n",
      " pfadauflistung_matrix_internal(..., 1, 1, [0], [])\n",
      "  - Ziel erreicht: [0, 1]\n",
      " pfadauflistung_matrix_internal(..., 2, 1, [0], [[0, 1]])\n",
      "  pfadauflistung_matrix_internal(..., 3, 1, [0, 2], [[0, 1]])\n"
     ]
    },
    {
     "data": {
      "text/plain": [
       "[[0, 1]]"
      ]
     },
     "execution_count": 516,
     "metadata": {},
     "output_type": "execute_result"
    }
   ],
   "source": [
    "pfadauflistung_matrix(graph_matrix_3, 0, 1)"
   ]
  },
  {
   "cell_type": "code",
   "execution_count": 517,
   "metadata": {},
   "outputs": [
    {
     "name": "stdout",
     "output_type": "stream",
     "text": [
      "pfadauflistung_matrix_internal(..., 0, 2, [], [])\n",
      " pfadauflistung_matrix_internal(..., 1, 2, [0], [])\n",
      "  pfadauflistung_matrix_internal(..., 2, 2, [0, 1], [])\n",
      "   - Ziel erreicht: [0, 1, 2]\n",
      "  pfadauflistung_matrix_internal(..., 3, 2, [0, 1], [[0, 1, 2]])\n",
      " pfadauflistung_matrix_internal(..., 2, 2, [0], [[0, 1, 2]])\n",
      "  - Ziel erreicht: [0, 2]\n"
     ]
    },
    {
     "data": {
      "text/plain": [
       "[[0, 1, 2], [0, 2]]"
      ]
     },
     "execution_count": 517,
     "metadata": {},
     "output_type": "execute_result"
    }
   ],
   "source": [
    "pfadauflistung_matrix(graph_matrix_3, 0, 2)"
   ]
  },
  {
   "cell_type": "code",
   "execution_count": 518,
   "metadata": {},
   "outputs": [
    {
     "name": "stdout",
     "output_type": "stream",
     "text": [
      "pfadauflistung_matrix_internal(..., 0, 3, [], [])\n",
      " pfadauflistung_matrix_internal(..., 1, 3, [0], [])\n",
      "  pfadauflistung_matrix_internal(..., 2, 3, [0, 1], [])\n",
      "   pfadauflistung_matrix_internal(..., 3, 3, [0, 1, 2], [])\n",
      "    - Ziel erreicht: [0, 1, 2, 3]\n",
      "  pfadauflistung_matrix_internal(..., 3, 3, [0, 1], [[0, 1, 2, 3]])\n",
      "   - Ziel erreicht: [0, 1, 3]\n",
      " pfadauflistung_matrix_internal(..., 2, 3, [0], [[0, 1, 2, 3], [0, 1, 3]])\n",
      "  pfadauflistung_matrix_internal(..., 3, 3, [0, 2], [[0, 1, 2, 3], [0, 1, 3]])\n",
      "   - Ziel erreicht: [0, 2, 3]\n"
     ]
    },
    {
     "data": {
      "text/plain": [
       "[[0, 1, 2, 3], [0, 1, 3], [0, 2, 3]]"
      ]
     },
     "execution_count": 518,
     "metadata": {},
     "output_type": "execute_result"
    }
   ],
   "source": [
    "pfadauflistung_matrix(graph_matrix_3, 0, 3)"
   ]
  },
  {
   "cell_type": "markdown",
   "metadata": {},
   "source": [
    "### 2.2. Abbildungen"
   ]
  },
  {
   "cell_type": "code",
   "execution_count": 519,
   "metadata": {},
   "outputs": [],
   "source": [
    "def pfadauflistung_dict(graph: GraphDict, von: KnotenDict, nach: KnotenDict):\n",
    "\n",
    "    # TODO\n",
    "\n",
    "    pass"
   ]
  },
  {
   "cell_type": "markdown",
   "metadata": {},
   "source": [
    "#### Beispiel 1:\n",
    "\n",
    "![](Diagramme/Graphen/Abbildungen/Beispiel_01.png)"
   ]
  },
  {
   "cell_type": "code",
   "execution_count": 520,
   "metadata": {},
   "outputs": [],
   "source": [
    "pfadauflistung_dict(graph_dict_1, \"A\", \"A\")"
   ]
  },
  {
   "cell_type": "code",
   "execution_count": 521,
   "metadata": {},
   "outputs": [],
   "source": [
    "pfadauflistung_dict(graph_dict_1, \"A\", \"B\")"
   ]
  },
  {
   "cell_type": "markdown",
   "metadata": {},
   "source": [
    "#### Beispiel 2:\n",
    "\n",
    "![](Diagramme/Graphen/Abbildungen/Beispiel_02.png)"
   ]
  },
  {
   "cell_type": "code",
   "execution_count": 522,
   "metadata": {},
   "outputs": [],
   "source": [
    "pfadauflistung_dict(graph_dict_2, \"A\", \"A\")"
   ]
  },
  {
   "cell_type": "code",
   "execution_count": 523,
   "metadata": {},
   "outputs": [],
   "source": [
    "pfadauflistung_dict(graph_dict_2, \"A\", \"B\")"
   ]
  },
  {
   "cell_type": "code",
   "execution_count": 524,
   "metadata": {},
   "outputs": [],
   "source": [
    "pfadauflistung_dict(graph_dict_2, \"A\", \"C\")"
   ]
  },
  {
   "cell_type": "markdown",
   "metadata": {},
   "source": [
    "#### Beispiel 3:\n",
    "\n",
    "![](Diagramme/Graphen/Abbildungen/Beispiel_03.png)"
   ]
  },
  {
   "cell_type": "code",
   "execution_count": 525,
   "metadata": {},
   "outputs": [],
   "source": [
    "pfadauflistung_dict(graph_dict_3, \"A\", \"A\")"
   ]
  },
  {
   "cell_type": "code",
   "execution_count": 526,
   "metadata": {},
   "outputs": [],
   "source": [
    "pfadauflistung_dict(graph_dict_3, \"A\", \"B\")"
   ]
  },
  {
   "cell_type": "code",
   "execution_count": 527,
   "metadata": {},
   "outputs": [],
   "source": [
    "pfadauflistung_dict(graph_dict_3, \"A\", \"C\")"
   ]
  },
  {
   "cell_type": "code",
   "execution_count": 528,
   "metadata": {},
   "outputs": [],
   "source": [
    "pfadauflistung_dict(graph_dict_3, \"A\", \"D\")"
   ]
  },
  {
   "cell_type": "markdown",
   "metadata": {},
   "source": [
    "## 3. Kürzeste Pfade"
   ]
  },
  {
   "cell_type": "markdown",
   "metadata": {},
   "source": [
    "### 3.1. Matrizen"
   ]
  },
  {
   "cell_type": "code",
   "execution_count": 529,
   "metadata": {},
   "outputs": [],
   "source": [
    "def kürzesterpfad_matrix_internal(graph: GraphMatrix, knotenVon: KnotenMatrix, knotenNach: KnotenMatrix, pfad: list[KnotenMatrix], pfadLänge: int):\n",
    "\n",
    "    # Einrückung für Ausgabe berechnen\n",
    "\n",
    "    einrückung = \"\"\n",
    "\n",
    "    for i in range(len(pfad)):\n",
    "        einrückung += \" \"\n",
    "\n",
    "    # Debugausgabe\n",
    "\n",
    "    print(f\"{einrückung}kürzesterpfad_matrix_internal(..., {knotenVon}, {knotenNach}, {pfad}, {pfadLänge})\")\n",
    "\n",
    "    # Ergebnis intialisieren\n",
    "\n",
    "    kürzesterPfad: list[KnotenMatrix] = None\n",
    "    kürzesterPfadLänge = -1\n",
    "\n",
    "    # Aktuellen Knoten dem Pfad hinzufügen\n",
    "    \n",
    "    pfad.append(knotenVon)\n",
    "\n",
    "    # Prüfen, ob das Ziel erreicht wurde\n",
    "\n",
    "    if knotenVon == knotenNach:\n",
    "\n",
    "        # Fall 1: Ziel erreicht!\n",
    "\n",
    "        # Debugausgabe\n",
    "\n",
    "        print(f\"{einrückung} - Ziel erreicht: {pfad}\")\n",
    "\n",
    "        # Pfad merken!\n",
    "\n",
    "        kürzesterPfad = pfad.copy()\n",
    "        kürzesterPfadLänge = pfadLänge\n",
    "\n",
    "    else:\n",
    "\n",
    "        # Fall 2: Ziel noch nicht erreicht!\n",
    "\n",
    "        # Nachbarknoten besuchen\n",
    "\n",
    "        for knotenÜber, kanteGewicht in enumerate(graph[knotenVon]):\n",
    "\n",
    "            if kanteGewicht > 0:\n",
    "\n",
    "                # Kante existiert!\n",
    "\n",
    "                if knotenÜber not in pfad:\n",
    "\n",
    "                    # Knoten noch nicht besucht => rekursiver Aufruf!\n",
    "\n",
    "                    tempPfad, tempPfadLänge = kürzesterpfad_matrix_internal(graph, knotenÜber, knotenNach, pfad, pfadLänge + kanteGewicht)\n",
    "\n",
    "                    # Prüfen, ob ein Pfad gefunden wurde\n",
    "\n",
    "                    if tempPfadLänge >= 0:\n",
    "\n",
    "                        # Prüfen, ob der gefundene Pfad besser ist\n",
    "\n",
    "                        if kürzesterPfadLänge == -1 or tempPfadLänge < kürzesterPfadLänge:\n",
    "\n",
    "                            # Besseren Pfad merken\n",
    "\n",
    "                            kürzesterPfad = tempPfad\n",
    "                            kürzesterPfadLänge = tempPfadLänge\n",
    "    \n",
    "    # Aktuellen Knoten wieder aus der Pfadliste löschen\n",
    "    \n",
    "    pfad.pop()\n",
    "\n",
    "    # Ergebnis zurückgeben\n",
    "\n",
    "    return kürzesterPfad, kürzesterPfadLänge\n",
    "\n",
    "def kürzesterpfad_matrix(graph: GraphMatrix, von: KnotenMatrix, nach: KnotenMatrix):\n",
    "\n",
    "    pfad = []\n",
    "\n",
    "    pfadLänge = 0\n",
    "    \n",
    "    return kürzesterpfad_matrix_internal(graph, von, nach, pfad, pfadLänge)"
   ]
  },
  {
   "cell_type": "markdown",
   "metadata": {},
   "source": [
    "#### Beispiel 1:\n",
    "\n",
    "![](Diagramme/Graphen/Matrizen/Beispiel_01.png)"
   ]
  },
  {
   "cell_type": "code",
   "execution_count": 530,
   "metadata": {},
   "outputs": [
    {
     "name": "stdout",
     "output_type": "stream",
     "text": [
      "kürzesterpfad_matrix_internal(..., 0, 0, [], 0)\n",
      " - Ziel erreicht: [0]\n"
     ]
    },
    {
     "data": {
      "text/plain": [
       "([0], 0)"
      ]
     },
     "execution_count": 530,
     "metadata": {},
     "output_type": "execute_result"
    }
   ],
   "source": [
    "kürzesterpfad_matrix(graph_matrix_1, 0, 0)"
   ]
  },
  {
   "cell_type": "code",
   "execution_count": 531,
   "metadata": {},
   "outputs": [
    {
     "name": "stdout",
     "output_type": "stream",
     "text": [
      "kürzesterpfad_matrix_internal(..., 0, 1, [], 0)\n",
      " kürzesterpfad_matrix_internal(..., 1, 1, [0], 1)\n",
      "  - Ziel erreicht: [0, 1]\n"
     ]
    },
    {
     "data": {
      "text/plain": [
       "([0, 1], 1)"
      ]
     },
     "execution_count": 531,
     "metadata": {},
     "output_type": "execute_result"
    }
   ],
   "source": [
    "kürzesterpfad_matrix(graph_matrix_1, 0, 1)"
   ]
  },
  {
   "cell_type": "markdown",
   "metadata": {},
   "source": [
    "#### Beispiel 2:\n",
    "\n",
    "![](Diagramme/Graphen/Matrizen/Beispiel_02.png)"
   ]
  },
  {
   "cell_type": "code",
   "execution_count": 532,
   "metadata": {},
   "outputs": [
    {
     "name": "stdout",
     "output_type": "stream",
     "text": [
      "kürzesterpfad_matrix_internal(..., 0, 0, [], 0)\n",
      " - Ziel erreicht: [0]\n"
     ]
    },
    {
     "data": {
      "text/plain": [
       "([0], 0)"
      ]
     },
     "execution_count": 532,
     "metadata": {},
     "output_type": "execute_result"
    }
   ],
   "source": [
    "kürzesterpfad_matrix(graph_matrix_2, 0, 0)"
   ]
  },
  {
   "cell_type": "code",
   "execution_count": 533,
   "metadata": {},
   "outputs": [
    {
     "name": "stdout",
     "output_type": "stream",
     "text": [
      "kürzesterpfad_matrix_internal(..., 0, 1, [], 0)\n",
      " kürzesterpfad_matrix_internal(..., 1, 1, [0], 1)\n",
      "  - Ziel erreicht: [0, 1]\n"
     ]
    },
    {
     "data": {
      "text/plain": [
       "([0, 1], 1)"
      ]
     },
     "execution_count": 533,
     "metadata": {},
     "output_type": "execute_result"
    }
   ],
   "source": [
    "kürzesterpfad_matrix(graph_matrix_2, 0, 1)"
   ]
  },
  {
   "cell_type": "code",
   "execution_count": 534,
   "metadata": {},
   "outputs": [
    {
     "name": "stdout",
     "output_type": "stream",
     "text": [
      "kürzesterpfad_matrix_internal(..., 0, 2, [], 0)\n",
      " kürzesterpfad_matrix_internal(..., 1, 2, [0], 1)\n",
      "  kürzesterpfad_matrix_internal(..., 2, 2, [0, 1], 2)\n",
      "   - Ziel erreicht: [0, 1, 2]\n"
     ]
    },
    {
     "data": {
      "text/plain": [
       "([0, 1, 2], 2)"
      ]
     },
     "execution_count": 534,
     "metadata": {},
     "output_type": "execute_result"
    }
   ],
   "source": [
    "kürzesterpfad_matrix(graph_matrix_2, 0, 2)"
   ]
  },
  {
   "cell_type": "markdown",
   "metadata": {},
   "source": [
    "#### Beispiel 3:\n",
    "\n",
    "![](Diagramme/Graphen/Matrizen/Beispiel_03.png)"
   ]
  },
  {
   "cell_type": "code",
   "execution_count": 535,
   "metadata": {},
   "outputs": [
    {
     "name": "stdout",
     "output_type": "stream",
     "text": [
      "kürzesterpfad_matrix_internal(..., 0, 0, [], 0)\n",
      " - Ziel erreicht: [0]\n"
     ]
    },
    {
     "data": {
      "text/plain": [
       "([0], 0)"
      ]
     },
     "execution_count": 535,
     "metadata": {},
     "output_type": "execute_result"
    }
   ],
   "source": [
    "kürzesterpfad_matrix(graph_matrix_3, 0, 0)"
   ]
  },
  {
   "cell_type": "code",
   "execution_count": 536,
   "metadata": {},
   "outputs": [
    {
     "name": "stdout",
     "output_type": "stream",
     "text": [
      "kürzesterpfad_matrix_internal(..., 0, 1, [], 0)\n",
      " kürzesterpfad_matrix_internal(..., 1, 1, [0], 1)\n",
      "  - Ziel erreicht: [0, 1]\n",
      " kürzesterpfad_matrix_internal(..., 2, 1, [0], 1)\n",
      "  kürzesterpfad_matrix_internal(..., 3, 1, [0, 2], 2)\n"
     ]
    },
    {
     "data": {
      "text/plain": [
       "([0, 1], 1)"
      ]
     },
     "execution_count": 536,
     "metadata": {},
     "output_type": "execute_result"
    }
   ],
   "source": [
    "kürzesterpfad_matrix(graph_matrix_3, 0, 1)"
   ]
  },
  {
   "cell_type": "code",
   "execution_count": 537,
   "metadata": {},
   "outputs": [
    {
     "name": "stdout",
     "output_type": "stream",
     "text": [
      "kürzesterpfad_matrix_internal(..., 0, 2, [], 0)\n",
      " kürzesterpfad_matrix_internal(..., 1, 2, [0], 1)\n",
      "  kürzesterpfad_matrix_internal(..., 2, 2, [0, 1], 2)\n",
      "   - Ziel erreicht: [0, 1, 2]\n",
      "  kürzesterpfad_matrix_internal(..., 3, 2, [0, 1], 2)\n",
      " kürzesterpfad_matrix_internal(..., 2, 2, [0], 1)\n",
      "  - Ziel erreicht: [0, 2]\n"
     ]
    },
    {
     "data": {
      "text/plain": [
       "([0, 2], 1)"
      ]
     },
     "execution_count": 537,
     "metadata": {},
     "output_type": "execute_result"
    }
   ],
   "source": [
    "kürzesterpfad_matrix(graph_matrix_3, 0, 2)"
   ]
  },
  {
   "cell_type": "code",
   "execution_count": 538,
   "metadata": {},
   "outputs": [
    {
     "name": "stdout",
     "output_type": "stream",
     "text": [
      "kürzesterpfad_matrix_internal(..., 0, 3, [], 0)\n",
      " kürzesterpfad_matrix_internal(..., 1, 3, [0], 1)\n",
      "  kürzesterpfad_matrix_internal(..., 2, 3, [0, 1], 2)\n",
      "   kürzesterpfad_matrix_internal(..., 3, 3, [0, 1, 2], 3)\n",
      "    - Ziel erreicht: [0, 1, 2, 3]\n",
      "  kürzesterpfad_matrix_internal(..., 3, 3, [0, 1], 2)\n",
      "   - Ziel erreicht: [0, 1, 3]\n",
      " kürzesterpfad_matrix_internal(..., 2, 3, [0], 1)\n",
      "  kürzesterpfad_matrix_internal(..., 3, 3, [0, 2], 2)\n",
      "   - Ziel erreicht: [0, 2, 3]\n"
     ]
    },
    {
     "data": {
      "text/plain": [
       "([0, 1, 3], 2)"
      ]
     },
     "execution_count": 538,
     "metadata": {},
     "output_type": "execute_result"
    }
   ],
   "source": [
    "kürzesterpfad_matrix(graph_matrix_3, 0, 3)"
   ]
  },
  {
   "cell_type": "markdown",
   "metadata": {},
   "source": [
    "### 3.2. Abbildungen"
   ]
  },
  {
   "cell_type": "code",
   "execution_count": 539,
   "metadata": {},
   "outputs": [],
   "source": [
    "def kürzesterpfad_dict(graph: GraphDict, von: KnotenDict, nach: KnotenDict):\n",
    "\n",
    "    # TODO\n",
    "\n",
    "    pass"
   ]
  },
  {
   "cell_type": "markdown",
   "metadata": {},
   "source": [
    "#### Beispiel 1:\n",
    "\n",
    "![](Diagramme/Graphen/Abbildungen/Beispiel_01.png)"
   ]
  },
  {
   "cell_type": "code",
   "execution_count": 540,
   "metadata": {},
   "outputs": [],
   "source": [
    "kürzesterpfad_dict(graph_dict_1, \"A\", \"A\")"
   ]
  },
  {
   "cell_type": "code",
   "execution_count": 541,
   "metadata": {},
   "outputs": [],
   "source": [
    "kürzesterpfad_dict(graph_dict_1, \"A\", \"B\")"
   ]
  },
  {
   "cell_type": "markdown",
   "metadata": {},
   "source": [
    "#### Beispiel 2:\n",
    "\n",
    "![](Diagramme/Graphen/Abbildungen/Beispiel_02.png)"
   ]
  },
  {
   "cell_type": "code",
   "execution_count": 542,
   "metadata": {},
   "outputs": [],
   "source": [
    "kürzesterpfad_dict(graph_dict_2, \"A\", \"A\")"
   ]
  },
  {
   "cell_type": "code",
   "execution_count": 543,
   "metadata": {},
   "outputs": [],
   "source": [
    "kürzesterpfad_dict(graph_dict_2, \"A\", \"B\")"
   ]
  },
  {
   "cell_type": "code",
   "execution_count": 544,
   "metadata": {},
   "outputs": [],
   "source": [
    "kürzesterpfad_dict(graph_dict_2, \"A\", \"C\")"
   ]
  },
  {
   "cell_type": "markdown",
   "metadata": {},
   "source": [
    "#### Beispiel 3:\n",
    "\n",
    "![](Diagramme/Graphen/Abbildungen/Beispiel_03.png)"
   ]
  },
  {
   "cell_type": "code",
   "execution_count": 545,
   "metadata": {},
   "outputs": [],
   "source": [
    "kürzesterpfad_dict(graph_dict_3, \"A\", \"A\")"
   ]
  },
  {
   "cell_type": "code",
   "execution_count": 546,
   "metadata": {},
   "outputs": [],
   "source": [
    "kürzesterpfad_dict(graph_dict_3, \"A\", \"B\")"
   ]
  },
  {
   "cell_type": "code",
   "execution_count": 547,
   "metadata": {},
   "outputs": [],
   "source": [
    "kürzesterpfad_dict(graph_dict_3, \"A\", \"C\")"
   ]
  },
  {
   "cell_type": "code",
   "execution_count": 548,
   "metadata": {},
   "outputs": [],
   "source": [
    "kürzesterpfad_dict(graph_dict_3, \"A\", \"D\")"
   ]
  }
 ],
 "metadata": {
  "kernelspec": {
   "display_name": "Python 3",
   "language": "python",
   "name": "python3"
  },
  "language_info": {
   "codemirror_mode": {
    "name": "ipython",
    "version": 3
   },
   "file_extension": ".py",
   "mimetype": "text/x-python",
   "name": "python",
   "nbconvert_exporter": "python",
   "pygments_lexer": "ipython3",
   "version": "3.12.1"
  }
 },
 "nbformat": 4,
 "nbformat_minor": 2
}
