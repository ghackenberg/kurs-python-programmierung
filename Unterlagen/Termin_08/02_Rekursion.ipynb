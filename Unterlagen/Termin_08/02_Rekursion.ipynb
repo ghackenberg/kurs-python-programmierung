{
 "cells": [
  {
   "cell_type": "markdown",
   "metadata": {},
   "source": [
    "# Rekursion\n",
    "\n",
    "Rekursive Funktionen sind Funktionen, die sich selber aufrufen. Es muss eine Abbruchbedingung für die rekursiven Aufrufe geben, sonst entsteht quasi eine Endlosschleife von rekursiven Funktionsaufrufen."
   ]
  },
  {
   "cell_type": "markdown",
   "metadata": {},
   "source": [
    "## 1. Exponentialfunktion\n",
    "\n",
    "![](Exponentialfunktion.jpg)"
   ]
  },
  {
   "cell_type": "code",
   "execution_count": 71,
   "metadata": {},
   "outputs": [
    {
     "name": "stdout",
     "output_type": "stream",
     "text": [
      "exponentialFunktion(5, 2) = ?\n",
      "exponentialFunktion(5, 1) = ?\n",
      "exponentialFunktion(5, 0) = ?\n",
      "exponentialFunktion(5, 0) = 1\n",
      "exponentialFunktion(5, 1) = 5 * exponentialFunktion(5, 0) = 5 * 1 = 5\n",
      "exponentialFunktion(5, 2) = 5 * exponentialFunktion(5, 1) = 5 * 5 = 25\n"
     ]
    },
    {
     "data": {
      "text/plain": [
       "25"
      ]
     },
     "execution_count": 71,
     "metadata": {},
     "output_type": "execute_result"
    }
   ],
   "source": [
    "def exponetialFunktion(basis: float, exponent: int) -> float:\n",
    "    print(f\"exponentialFunktion({basis}, {exponent}) = ?\")\n",
    "    if exponent == 0:\n",
    "        print(f\"exponentialFunktion({basis}, {exponent}) = 1\")\n",
    "        return 1\n",
    "    else:\n",
    "        zwischenergebnis = exponetialFunktion(basis, exponent - 1)\n",
    "        print(f\"exponentialFunktion({basis}, {exponent}) = {basis} * exponentialFunktion({basis}, {exponent - 1}) = {basis} * {zwischenergebnis} = {basis * zwischenergebnis}\")\n",
    "        return basis * zwischenergebnis\n",
    "\n",
    "exponetialFunktion(5, 2)"
   ]
  },
  {
   "cell_type": "markdown",
   "metadata": {},
   "source": [
    "## 2. Fakultätsfunktion\n",
    "\n",
    "![](Fakultätsfunktion.jpg)"
   ]
  },
  {
   "cell_type": "code",
   "execution_count": 72,
   "metadata": {},
   "outputs": [
    {
     "name": "stdout",
     "output_type": "stream",
     "text": [
      "fakultätsFunktion(0) = 1\n",
      "fakultätsFunktion(1) = 1 * fakultätsFunktion(0) = 1 * 1 = 1\n",
      "fakultätsFunktion(2) = 2 * fakultätsFunktion(1) = 2 * 1 = 2\n",
      "fakultätsFunktion(3) = 3 * fakultätsFunktion(2) = 3 * 2 = 6\n",
      "fakultätsFunktion(4) = 4 * fakultätsFunktion(3) = 4 * 6 = 24\n",
      "fakultätsFunktion(5) = 5 * fakultätsFunktion(4) = 5 * 24 = 120\n"
     ]
    },
    {
     "data": {
      "text/plain": [
       "120"
      ]
     },
     "execution_count": 72,
     "metadata": {},
     "output_type": "execute_result"
    }
   ],
   "source": [
    "def fakultätsFunktion(n: int):\n",
    "    if n == 0:\n",
    "        print(f\"fakultätsFunktion({n}) = 1\")\n",
    "        return 1\n",
    "    else:\n",
    "        zwischenergebnis = fakultätsFunktion(n - 1)\n",
    "        print(f\"fakultätsFunktion({n}) = {n} * fakultätsFunktion({n - 1}) = {n} * {zwischenergebnis} = {n * zwischenergebnis}\")\n",
    "        return n * zwischenergebnis\n",
    "\n",
    "fakultätsFunktion(5)"
   ]
  },
  {
   "cell_type": "markdown",
   "metadata": {},
   "source": [
    "## 3. \"Schnelle\" Sortierung (Quicksort)\n",
    "\n",
    "Quicksort ist ein schneller Algorithmus für die Sortierung von Werten (siehe https://de.wikipedia.org/wiki/Quicksort). Die Grundidee ist, die Liste anhand eines Pivotelements in zwei Teile zu teilen. Der eine Teil enthält alle Element, die kleiner oder gleich dem Pivotelement sind. Der zweite Teil enthält alle Element, die größer dem Pivotelement sind. Danach kann das Verfahren rekursiv auf die beiden Teile angewendet werden. Dadurch kann man sich den Vergleich der Element aus dem einen Teil mit Elementen aus dem anderen Teil sparen.\n",
    "\n",
    "![](Komplexitätsrechnung.jpg)"
   ]
  },
  {
   "cell_type": "markdown",
   "metadata": {},
   "source": [
    "### 3.1. Die Funktion `teile`\n",
    "\n",
    "![](Quicksort%20Nebenfunktion.jpg)"
   ]
  },
  {
   "cell_type": "code",
   "execution_count": 73,
   "metadata": {},
   "outputs": [],
   "source": [
    "def teile(daten: list[int], links: int, rechts: int):\n",
    "\n",
    "    # Pivot Element festlegen\n",
    "    pivot = daten[rechts]\n",
    "    \n",
    "    # Debug\n",
    "    print(f\"Teile daten = {daten}, links = {links}, rechts = {rechts}, pivot = {pivot}\")\n",
    "\n",
    "    # Variablen für die Iteration festlergen\n",
    "    i = links\n",
    "    j = rechts - 1\n",
    "\n",
    "    # Iteration durchführen\n",
    "    while i < j:\n",
    "\n",
    "        # Suche von links größeren Wert\n",
    "        while i < j and daten[i] <= pivot:\n",
    "\n",
    "            # Debug\n",
    "            print(f\"- daten[{i}] = {daten[i]} <= {pivot}\")\n",
    "\n",
    "            i = i + 1\n",
    "\n",
    "        # Suche von rechts kleineren Wert\n",
    "        while j > i and daten[j] > pivot:\n",
    "\n",
    "            # Debug\n",
    "            print(f\"- daten[{j}] = {daten[j]} > {pivot}\")\n",
    "\n",
    "            j = j - 1\n",
    "\n",
    "        # Tausche größeren und kleineren Wert\n",
    "        if daten[i] > daten[j]:\n",
    "\n",
    "            temp = daten[i]\n",
    "            daten[i] = daten[j]\n",
    "            daten[j] = temp\n",
    "\n",
    "            # Debug\n",
    "            print(f\"- daten[{i}] = {daten[j]} > daten[{j}] = {daten[i]} => daten = {daten}\")\n",
    "    \n",
    "    # Tausche größeren Wert und Pivot\n",
    "    if daten[i] > pivot:\n",
    "\n",
    "        temp = daten[i]\n",
    "        daten[i] = pivot\n",
    "        daten[rechts] = temp\n",
    "\n",
    "        # Debug\n",
    "        print(f\"- daten[{i}] = {daten[rechts]} > daten[{rechts}] = {daten[i]} => daten = {daten}\")\n",
    "\n",
    "    else:\n",
    "\n",
    "        i = rechts\n",
    "    \n",
    "    # Debug\n",
    "    print()\n",
    "    \n",
    "    return i"
   ]
  },
  {
   "cell_type": "markdown",
   "metadata": {},
   "source": [
    "#### Schritt 1:"
   ]
  },
  {
   "cell_type": "code",
   "execution_count": 74,
   "metadata": {},
   "outputs": [
    {
     "name": "stdout",
     "output_type": "stream",
     "text": [
      "Teile daten = [5, 3, 0, 1, 2], links = 0, rechts = 4, pivot = 2\n",
      "- daten[0] = 5 > daten[3] = 1 => daten = [1, 3, 0, 5, 2]\n",
      "- daten[0] = 1 <= 2\n",
      "- daten[3] = 5 > 2\n",
      "- daten[1] = 3 > daten[2] = 0 => daten = [1, 0, 3, 5, 2]\n",
      "- daten[1] = 0 <= 2\n",
      "- daten[2] = 3 > daten[4] = 2 => daten = [1, 0, 2, 5, 3]\n",
      "\n",
      "2\n"
     ]
    }
   ],
   "source": [
    "# Schritt 1: Gesamte Liste mit der Zahl 2 in zwei Häflten teilen / umsortieren\n",
    "print(teile([5, 3, 0, 1, 2], 0, 4))"
   ]
  },
  {
   "cell_type": "markdown",
   "metadata": {},
   "source": [
    "#### Schritt 2:"
   ]
  },
  {
   "cell_type": "code",
   "execution_count": 75,
   "metadata": {},
   "outputs": [
    {
     "name": "stdout",
     "output_type": "stream",
     "text": [
      "Teile daten = [1, 0, 2, 5, 3], links = 0, rechts = 1, pivot = 0\n",
      "- daten[0] = 1 > daten[1] = 0 => daten = [0, 1, 2, 5, 3]\n",
      "\n",
      "0\n"
     ]
    }
   ],
   "source": [
    "# Schritt 2: Unter Häflte der Liste mit der Zahl 1 in zwei Hälften teilen / umsortieren\n",
    "print(teile([1, 0, 2, 5, 3], 0, 1))"
   ]
  },
  {
   "cell_type": "markdown",
   "metadata": {},
   "source": [
    "#### Schritt 3:"
   ]
  },
  {
   "cell_type": "code",
   "execution_count": 76,
   "metadata": {},
   "outputs": [
    {
     "name": "stdout",
     "output_type": "stream",
     "text": [
      "Teile daten = [0, 1, 2, 5, 3], links = 3, rechts = 4, pivot = 3\n",
      "- daten[3] = 5 > daten[4] = 3 => daten = [0, 1, 2, 3, 5]\n",
      "\n",
      "3\n"
     ]
    }
   ],
   "source": [
    "# Schritt 3: Obere Hälfte der Liste mit der Zahl 3 in zwei Hälften teilen / umsortieren\n",
    "print(teile([0, 1, 2, 5, 3], 3, 4))"
   ]
  },
  {
   "cell_type": "markdown",
   "metadata": {},
   "source": [
    "### 3.2. Die rekursive Funktion `quicksort`\n",
    "\n",
    "![](Quicksort%20Hauptfunktion.jpg)"
   ]
  },
  {
   "cell_type": "code",
   "execution_count": 77,
   "metadata": {},
   "outputs": [],
   "source": [
    "def quicksort(daten: list[int], links: int = None, rechts: int = None):\n",
    "\n",
    "    # Parameter \"links\" und \"rechts\" initialisieren\n",
    "    if links is None:\n",
    "        links = 0\n",
    "    if rechts is None:\n",
    "        rechts = len(daten) - 1\n",
    "\n",
    "    # Sortierung durchführen\n",
    "    if links < rechts:\n",
    "\n",
    "        # Liste anhand von Pivotelement umsortieren\n",
    "        teiler = teile(daten, links, rechts)\n",
    "\n",
    "        # Linken Teil der Liste rekursiv soriteren\n",
    "        quicksort(daten, links, teiler - 1)\n",
    "\n",
    "        # Rechten Teil der Liste rekursiv sortieren\n",
    "        quicksort(daten, teiler + 1, rechts)\n",
    "    \n",
    "    return daten"
   ]
  },
  {
   "cell_type": "markdown",
   "metadata": {},
   "source": [
    "#### Beispiel 1:"
   ]
  },
  {
   "cell_type": "code",
   "execution_count": 78,
   "metadata": {},
   "outputs": [
    {
     "name": "stdout",
     "output_type": "stream",
     "text": [
      "Teile daten = [1, 0], links = 0, rechts = 1, pivot = 0\n",
      "- daten[0] = 1 > daten[1] = 0 => daten = [0, 1]\n",
      "\n",
      "[0, 1]\n"
     ]
    }
   ],
   "source": [
    "print(quicksort([1, 0]))"
   ]
  },
  {
   "cell_type": "markdown",
   "metadata": {},
   "source": [
    "#### Beispiel 2:"
   ]
  },
  {
   "cell_type": "code",
   "execution_count": 79,
   "metadata": {},
   "outputs": [
    {
     "name": "stdout",
     "output_type": "stream",
     "text": [
      "Teile daten = [1, 2, 0], links = 0, rechts = 2, pivot = 0\n",
      "- daten[1] = 2 > 0\n",
      "- daten[0] = 1 > daten[2] = 0 => daten = [0, 2, 1]\n",
      "\n",
      "Teile daten = [0, 2, 1], links = 1, rechts = 2, pivot = 1\n",
      "- daten[1] = 2 > daten[2] = 1 => daten = [0, 1, 2]\n",
      "\n",
      "[0, 1, 2]\n"
     ]
    }
   ],
   "source": [
    "print(quicksort([1, 2, 0]))"
   ]
  },
  {
   "cell_type": "markdown",
   "metadata": {},
   "source": [
    "#### Beispiel 3:"
   ]
  },
  {
   "cell_type": "code",
   "execution_count": 80,
   "metadata": {},
   "outputs": [
    {
     "name": "stdout",
     "output_type": "stream",
     "text": [
      "Teile daten = [1, 5, 0, 2], links = 0, rechts = 3, pivot = 2\n",
      "- daten[0] = 1 <= 2\n",
      "- daten[1] = 5 > daten[2] = 0 => daten = [1, 0, 5, 2]\n",
      "- daten[1] = 0 <= 2\n",
      "- daten[2] = 5 > daten[3] = 2 => daten = [1, 0, 2, 5]\n",
      "\n",
      "Teile daten = [1, 0, 2, 5], links = 0, rechts = 1, pivot = 0\n",
      "- daten[0] = 1 > daten[1] = 0 => daten = [0, 1, 2, 5]\n",
      "\n",
      "[0, 1, 2, 5]\n"
     ]
    }
   ],
   "source": [
    "print(quicksort([1, 5, 0, 2]))"
   ]
  },
  {
   "cell_type": "markdown",
   "metadata": {},
   "source": [
    "#### Beispiel 4:"
   ]
  },
  {
   "cell_type": "code",
   "execution_count": 81,
   "metadata": {},
   "outputs": [
    {
     "name": "stdout",
     "output_type": "stream",
     "text": [
      "Teile daten = [-1, 5, -3, -10, 20, 0, 15, 15, 21, 0, 3, 5], links = 0, rechts = 11, pivot = 5\n",
      "- daten[0] = -1 <= 5\n",
      "- daten[1] = 5 <= 5\n",
      "- daten[2] = -3 <= 5\n",
      "- daten[3] = -10 <= 5\n",
      "- daten[4] = 20 > daten[10] = 3 => daten = [-1, 5, -3, -10, 3, 0, 15, 15, 21, 0, 20, 5]\n",
      "- daten[4] = 3 <= 5\n",
      "- daten[5] = 0 <= 5\n",
      "- daten[10] = 20 > 5\n",
      "- daten[6] = 15 > daten[9] = 0 => daten = [-1, 5, -3, -10, 3, 0, 0, 15, 21, 15, 20, 5]\n",
      "- daten[6] = 0 <= 5\n",
      "- daten[9] = 15 > 5\n",
      "- daten[8] = 21 > 5\n",
      "- daten[7] = 15 > daten[11] = 5 => daten = [-1, 5, -3, -10, 3, 0, 0, 5, 21, 15, 20, 15]\n",
      "\n",
      "Teile daten = [-1, 5, -3, -10, 3, 0, 0, 5, 21, 15, 20, 15], links = 0, rechts = 6, pivot = 0\n",
      "- daten[0] = -1 <= 0\n",
      "- daten[1] = 5 > daten[5] = 0 => daten = [-1, 0, -3, -10, 3, 5, 0, 5, 21, 15, 20, 15]\n",
      "- daten[1] = 0 <= 0\n",
      "- daten[2] = -3 <= 0\n",
      "- daten[3] = -10 <= 0\n",
      "- daten[5] = 5 > 0\n",
      "- daten[4] = 3 > daten[6] = 0 => daten = [-1, 0, -3, -10, 0, 5, 3, 5, 21, 15, 20, 15]\n",
      "\n",
      "Teile daten = [-1, 0, -3, -10, 0, 5, 3, 5, 21, 15, 20, 15], links = 0, rechts = 3, pivot = -10\n",
      "- daten[2] = -3 > -10\n",
      "- daten[1] = 0 > -10\n",
      "- daten[0] = -1 > daten[3] = -10 => daten = [-10, 0, -3, -1, 0, 5, 3, 5, 21, 15, 20, 15]\n",
      "\n",
      "Teile daten = [-10, 0, -3, -1, 0, 5, 3, 5, 21, 15, 20, 15], links = 1, rechts = 3, pivot = -1\n",
      "- daten[1] = 0 > daten[2] = -3 => daten = [-10, -3, 0, -1, 0, 5, 3, 5, 21, 15, 20, 15]\n",
      "- daten[1] = -3 <= -1\n",
      "- daten[2] = 0 > daten[3] = -1 => daten = [-10, -3, -1, 0, 0, 5, 3, 5, 21, 15, 20, 15]\n",
      "\n",
      "Teile daten = [-10, -3, -1, 0, 0, 5, 3, 5, 21, 15, 20, 15], links = 5, rechts = 6, pivot = 3\n",
      "- daten[5] = 5 > daten[6] = 3 => daten = [-10, -3, -1, 0, 0, 3, 5, 5, 21, 15, 20, 15]\n",
      "\n",
      "Teile daten = [-10, -3, -1, 0, 0, 3, 5, 5, 21, 15, 20, 15], links = 8, rechts = 11, pivot = 15\n",
      "- daten[10] = 20 > 15\n",
      "- daten[8] = 21 > daten[9] = 15 => daten = [-10, -3, -1, 0, 0, 3, 5, 5, 15, 21, 20, 15]\n",
      "- daten[8] = 15 <= 15\n",
      "- daten[9] = 21 > daten[11] = 15 => daten = [-10, -3, -1, 0, 0, 3, 5, 5, 15, 15, 20, 21]\n",
      "\n",
      "Teile daten = [-10, -3, -1, 0, 0, 3, 5, 5, 15, 15, 20, 21], links = 10, rechts = 11, pivot = 21\n",
      "\n",
      "[-10, -3, -1, 0, 0, 3, 5, 5, 15, 15, 20, 21]\n"
     ]
    }
   ],
   "source": [
    "print(quicksort([-1, 5, -3, -10, 20, 0, 15, 15, 21, 0, 3, 5]))"
   ]
  },
  {
   "cell_type": "markdown",
   "metadata": {},
   "source": [
    "## 4. Türme von Hanoi\n",
    "\n",
    "Die Türme von Hanoi ist ein Spiel mit drei Stäben mit einem Turm von verschieden großen Scheiben (siehe https://de.wikipedia.org/wiki/T%C3%BCrme_von_Hanoi).\n",
    "\n",
    "![](https://upload.wikimedia.org/wikipedia/commons/0/07/Tower_of_Hanoi.jpeg)\n",
    "\n",
    "Ziel des Spieles ist es, den Turm von einem Stab zu einem anderen Stab zu bewegen. In jedem Spielzug darf nur eine Scheibe bewegt werden. Es darf niemals eine größere auf eine kleiner Scheibe gelegt werden.\n",
    "\n",
    "![](Türme%20von%20Hanoi.jpg)"
   ]
  },
  {
   "cell_type": "markdown",
   "metadata": {},
   "source": [
    "### 4.1. Langform"
   ]
  },
  {
   "cell_type": "code",
   "execution_count": 82,
   "metadata": {},
   "outputs": [
    {
     "name": "stdout",
     "output_type": "stream",
     "text": [
      "{'Stab A': [3, 2, 1], 'Stab B': [], 'Stab C': []}\n",
      "3 Scheiben von Stab A über Stab B nach Stab C\n",
      "\t2 Scheiben von Stab A über Stab C nach Stab B\n",
      "\t\t1 Scheiben von Stab A über Stab B nach Stab C\n",
      "\t\t- Scheibe 1 von Stab A nach Stab C\n",
      "\t\t- {'Stab A': [3, 2], 'Stab B': [], 'Stab C': [1]}\n",
      "\t- Scheibe 2 von Stab A nach Stab B\n",
      "\t- {'Stab A': [3], 'Stab B': [2], 'Stab C': [1]}\n",
      "\t\t1 Scheiben von Stab C über Stab A nach Stab B\n",
      "\t\t- Scheibe 1 von Stab C nach Stab B\n",
      "\t\t- {'Stab A': [3], 'Stab B': [2, 1], 'Stab C': []}\n",
      "- Scheibe 3 von Stab A nach Stab C\n",
      "- {'Stab A': [], 'Stab B': [2, 1], 'Stab C': [3]}\n",
      "\t2 Scheiben von Stab B über Stab A nach Stab C\n",
      "\t\t1 Scheiben von Stab B über Stab C nach Stab A\n",
      "\t\t- Scheibe 1 von Stab B nach Stab A\n",
      "\t\t- {'Stab A': [1], 'Stab B': [2], 'Stab C': [3]}\n",
      "\t- Scheibe 2 von Stab B nach Stab C\n",
      "\t- {'Stab A': [1], 'Stab B': [], 'Stab C': [3, 2]}\n",
      "\t\t1 Scheiben von Stab A über Stab B nach Stab C\n",
      "\t\t- Scheibe 1 von Stab A nach Stab C\n",
      "\t\t- {'Stab A': [], 'Stab B': [], 'Stab C': [3, 2, 1]}\n"
     ]
    }
   ],
   "source": [
    "# Spielfeld initialisieren\n",
    "spielfeld: dict[str, list[int]] = { \"Stab A\": [3, 2, 1], \"Stab B\": [], \"Stab C\": [] }\n",
    "\n",
    "# Berechnung der Turmgröße\n",
    "turmgröße = len(spielfeld[\"Stab A\"])\n",
    "\n",
    "def hanoi(zahl: int, quelle: str, ablage: str, ziel: str):\n",
    "\n",
    "    if zahl > 0:\n",
    "\n",
    "        # Einrückung berechnen\n",
    "        einrückung = \"\"\n",
    "        for i in range(turmgröße - zahl):\n",
    "            einrückung = einrückung + \"\\t\"\n",
    "        \n",
    "        # Parameter ausgeben\n",
    "        print(f\"{einrückung}{zahl} Scheiben von {quelle} über {ablage} nach {ziel}\")\n",
    "\n",
    "        # Turm ab zweitgrößter Scheibe auf den Zwischenstab legen\n",
    "        hanoi(zahl - 1, quelle, ziel, ablage)\n",
    "\n",
    "        # Größte Scheibe vom Quellstab nehmen\n",
    "        scheibe = spielfeld[quelle].pop()\n",
    "\n",
    "        # Größte Scheibe ausgeben\n",
    "        print(f\"{einrückung}- Scheibe {scheibe} von {quelle} nach {ziel}\")\n",
    "\n",
    "        # Größte Scheibe auf den Zielstab legen\n",
    "        spielfeld[ziel].append(scheibe)\n",
    "\n",
    "        # Spielfeld ausgeben\n",
    "        print(f\"{einrückung}- {spielfeld}\")\n",
    "\n",
    "        # Turm ab zweitgrößter Scheibe vom Zwischenstab auf den Zielstab legen\n",
    "        hanoi(zahl - 1, ablage, quelle, ziel)\n",
    "\n",
    "# Spielfeld ausgeben\n",
    "print(spielfeld)\n",
    "\n",
    "# Lösung berechnen\n",
    "hanoi(turmgröße, \"Stab A\", \"Stab B\", \"Stab C\")"
   ]
  },
  {
   "cell_type": "markdown",
   "metadata": {},
   "source": [
    "### 4.2. Kurzform"
   ]
  },
  {
   "cell_type": "code",
   "execution_count": 83,
   "metadata": {},
   "outputs": [],
   "source": [
    "def hanoi(zahl: int, quelle: str, ablage: str, ziel: str):\n",
    "\n",
    "    if zahl > 0:\n",
    "\n",
    "        # Turm ab zweitgrößter Scheibe auf den Zwischenstab legen\n",
    "        hanoi(zahl - 1, quelle, ziel, ablage)\n",
    "\n",
    "        # Größte Scheibe vom Quellstab nehmen\n",
    "        scheibe = spielfeld[quelle].pop()\n",
    "\n",
    "        # Größte Scheibe auf den Zielstab legen\n",
    "        spielfeld[ziel].append(scheibe)\n",
    "\n",
    "        # Spielfeld ausgeben\n",
    "        print(f\"Spielzug: oberste Scheibe von {quelle} nach {ziel}\")\n",
    "        print(f\" => Neuer Spielzustand: {spielfeld}\")\n",
    "\n",
    "        # Turm ab zweitgrößter Scheibe vom Zwischenstab auf den Zielstab legen\n",
    "        hanoi(zahl - 1, ablage, quelle, ziel)"
   ]
  },
  {
   "cell_type": "markdown",
   "metadata": {},
   "source": [
    "#### Beispiel 1:"
   ]
  },
  {
   "cell_type": "code",
   "execution_count": 84,
   "metadata": {},
   "outputs": [
    {
     "name": "stdout",
     "output_type": "stream",
     "text": [
      "{'Stab A': [2, 1], 'Stab B': [], 'Stab C': []}\n",
      "Spielzug: oberste Scheibe von Stab A nach Stab B\n",
      " => Neuer Spielzustand: {'Stab A': [2], 'Stab B': [1], 'Stab C': []}\n",
      "Spielzug: oberste Scheibe von Stab A nach Stab C\n",
      " => Neuer Spielzustand: {'Stab A': [], 'Stab B': [1], 'Stab C': [2]}\n",
      "Spielzug: oberste Scheibe von Stab B nach Stab C\n",
      " => Neuer Spielzustand: {'Stab A': [], 'Stab B': [], 'Stab C': [2, 1]}\n"
     ]
    }
   ],
   "source": [
    "# Spielfeld initialisieren\n",
    "spielfeld: dict[str, list[int]] = { \"Stab A\": [2, 1], \"Stab B\": [], \"Stab C\": [] }\n",
    "\n",
    "# Berechnung der Turmgröße\n",
    "turmgröße = len(spielfeld[\"Stab A\"])\n",
    "\n",
    "# Spielfeld ausgeben\n",
    "print(spielfeld)\n",
    "\n",
    "# Lösung berechnen\n",
    "hanoi(turmgröße, \"Stab A\", \"Stab B\", \"Stab C\")"
   ]
  },
  {
   "cell_type": "markdown",
   "metadata": {},
   "source": [
    "#### Beispiel 2:"
   ]
  },
  {
   "cell_type": "code",
   "execution_count": 85,
   "metadata": {},
   "outputs": [
    {
     "name": "stdout",
     "output_type": "stream",
     "text": [
      "{'Stab A': [3, 2, 1], 'Stab B': [], 'Stab C': []}\n",
      "Spielzug: oberste Scheibe von Stab A nach Stab C\n",
      " => Neuer Spielzustand: {'Stab A': [3, 2], 'Stab B': [], 'Stab C': [1]}\n",
      "Spielzug: oberste Scheibe von Stab A nach Stab B\n",
      " => Neuer Spielzustand: {'Stab A': [3], 'Stab B': [2], 'Stab C': [1]}\n",
      "Spielzug: oberste Scheibe von Stab C nach Stab B\n",
      " => Neuer Spielzustand: {'Stab A': [3], 'Stab B': [2, 1], 'Stab C': []}\n",
      "Spielzug: oberste Scheibe von Stab A nach Stab C\n",
      " => Neuer Spielzustand: {'Stab A': [], 'Stab B': [2, 1], 'Stab C': [3]}\n",
      "Spielzug: oberste Scheibe von Stab B nach Stab A\n",
      " => Neuer Spielzustand: {'Stab A': [1], 'Stab B': [2], 'Stab C': [3]}\n",
      "Spielzug: oberste Scheibe von Stab B nach Stab C\n",
      " => Neuer Spielzustand: {'Stab A': [1], 'Stab B': [], 'Stab C': [3, 2]}\n",
      "Spielzug: oberste Scheibe von Stab A nach Stab C\n",
      " => Neuer Spielzustand: {'Stab A': [], 'Stab B': [], 'Stab C': [3, 2, 1]}\n"
     ]
    }
   ],
   "source": [
    "# Spielfeld initialisieren\n",
    "spielfeld: dict[str, list[int]] = { \"Stab A\": [3, 2, 1], \"Stab B\": [], \"Stab C\": [] }\n",
    "\n",
    "# Berechnung der Turmgröße\n",
    "turmgröße = len(spielfeld[\"Stab A\"])\n",
    "\n",
    "# Spielfeld ausgeben\n",
    "print(spielfeld)\n",
    "\n",
    "# Lösung berechnen\n",
    "hanoi(turmgröße, \"Stab A\", \"Stab B\", \"Stab C\")"
   ]
  },
  {
   "cell_type": "markdown",
   "metadata": {},
   "source": [
    "#### Beispiel 3:"
   ]
  },
  {
   "cell_type": "code",
   "execution_count": 86,
   "metadata": {},
   "outputs": [
    {
     "name": "stdout",
     "output_type": "stream",
     "text": [
      "{'Stab A': [4, 3, 2, 1], 'Stab B': [], 'Stab C': []}\n",
      "Spielzug: oberste Scheibe von Stab A nach Stab B\n",
      " => Neuer Spielzustand: {'Stab A': [4, 3, 2], 'Stab B': [1], 'Stab C': []}\n",
      "Spielzug: oberste Scheibe von Stab A nach Stab C\n",
      " => Neuer Spielzustand: {'Stab A': [4, 3], 'Stab B': [1], 'Stab C': [2]}\n",
      "Spielzug: oberste Scheibe von Stab B nach Stab C\n",
      " => Neuer Spielzustand: {'Stab A': [4, 3], 'Stab B': [], 'Stab C': [2, 1]}\n",
      "Spielzug: oberste Scheibe von Stab A nach Stab B\n",
      " => Neuer Spielzustand: {'Stab A': [4], 'Stab B': [3], 'Stab C': [2, 1]}\n",
      "Spielzug: oberste Scheibe von Stab C nach Stab A\n",
      " => Neuer Spielzustand: {'Stab A': [4, 1], 'Stab B': [3], 'Stab C': [2]}\n",
      "Spielzug: oberste Scheibe von Stab C nach Stab B\n",
      " => Neuer Spielzustand: {'Stab A': [4, 1], 'Stab B': [3, 2], 'Stab C': []}\n",
      "Spielzug: oberste Scheibe von Stab A nach Stab B\n",
      " => Neuer Spielzustand: {'Stab A': [4], 'Stab B': [3, 2, 1], 'Stab C': []}\n",
      "Spielzug: oberste Scheibe von Stab A nach Stab C\n",
      " => Neuer Spielzustand: {'Stab A': [], 'Stab B': [3, 2, 1], 'Stab C': [4]}\n",
      "Spielzug: oberste Scheibe von Stab B nach Stab C\n",
      " => Neuer Spielzustand: {'Stab A': [], 'Stab B': [3, 2], 'Stab C': [4, 1]}\n",
      "Spielzug: oberste Scheibe von Stab B nach Stab A\n",
      " => Neuer Spielzustand: {'Stab A': [2], 'Stab B': [3], 'Stab C': [4, 1]}\n",
      "Spielzug: oberste Scheibe von Stab C nach Stab A\n",
      " => Neuer Spielzustand: {'Stab A': [2, 1], 'Stab B': [3], 'Stab C': [4]}\n",
      "Spielzug: oberste Scheibe von Stab B nach Stab C\n",
      " => Neuer Spielzustand: {'Stab A': [2, 1], 'Stab B': [], 'Stab C': [4, 3]}\n",
      "Spielzug: oberste Scheibe von Stab A nach Stab B\n",
      " => Neuer Spielzustand: {'Stab A': [2], 'Stab B': [1], 'Stab C': [4, 3]}\n",
      "Spielzug: oberste Scheibe von Stab A nach Stab C\n",
      " => Neuer Spielzustand: {'Stab A': [], 'Stab B': [1], 'Stab C': [4, 3, 2]}\n",
      "Spielzug: oberste Scheibe von Stab B nach Stab C\n",
      " => Neuer Spielzustand: {'Stab A': [], 'Stab B': [], 'Stab C': [4, 3, 2, 1]}\n"
     ]
    }
   ],
   "source": [
    "# Spielfeld initialisieren\n",
    "spielfeld: dict[str, list[int]] = { \"Stab A\": [4, 3, 2, 1], \"Stab B\": [], \"Stab C\": [] }\n",
    "\n",
    "# Berechnung der Turmgröße\n",
    "turmgröße = len(spielfeld[\"Stab A\"])\n",
    "\n",
    "# Spielfeld ausgeben\n",
    "print(spielfeld)\n",
    "\n",
    "# Lösung berechnen\n",
    "hanoi(turmgröße, \"Stab A\", \"Stab B\", \"Stab C\")"
   ]
  },
  {
   "cell_type": "markdown",
   "metadata": {},
   "source": [
    "#### Beispiel 4:"
   ]
  },
  {
   "cell_type": "code",
   "execution_count": 87,
   "metadata": {},
   "outputs": [
    {
     "name": "stdout",
     "output_type": "stream",
     "text": [
      "{'Stab A': [5, 4, 3, 2, 1], 'Stab B': [], 'Stab C': []}\n",
      "Spielzug: oberste Scheibe von Stab A nach Stab C\n",
      " => Neuer Spielzustand: {'Stab A': [5, 4, 3, 2], 'Stab B': [], 'Stab C': [1]}\n",
      "Spielzug: oberste Scheibe von Stab A nach Stab B\n",
      " => Neuer Spielzustand: {'Stab A': [5, 4, 3], 'Stab B': [2], 'Stab C': [1]}\n",
      "Spielzug: oberste Scheibe von Stab C nach Stab B\n",
      " => Neuer Spielzustand: {'Stab A': [5, 4, 3], 'Stab B': [2, 1], 'Stab C': []}\n",
      "Spielzug: oberste Scheibe von Stab A nach Stab C\n",
      " => Neuer Spielzustand: {'Stab A': [5, 4], 'Stab B': [2, 1], 'Stab C': [3]}\n",
      "Spielzug: oberste Scheibe von Stab B nach Stab A\n",
      " => Neuer Spielzustand: {'Stab A': [5, 4, 1], 'Stab B': [2], 'Stab C': [3]}\n",
      "Spielzug: oberste Scheibe von Stab B nach Stab C\n",
      " => Neuer Spielzustand: {'Stab A': [5, 4, 1], 'Stab B': [], 'Stab C': [3, 2]}\n",
      "Spielzug: oberste Scheibe von Stab A nach Stab C\n",
      " => Neuer Spielzustand: {'Stab A': [5, 4], 'Stab B': [], 'Stab C': [3, 2, 1]}\n",
      "Spielzug: oberste Scheibe von Stab A nach Stab B\n",
      " => Neuer Spielzustand: {'Stab A': [5], 'Stab B': [4], 'Stab C': [3, 2, 1]}\n",
      "Spielzug: oberste Scheibe von Stab C nach Stab B\n",
      " => Neuer Spielzustand: {'Stab A': [5], 'Stab B': [4, 1], 'Stab C': [3, 2]}\n",
      "Spielzug: oberste Scheibe von Stab C nach Stab A\n",
      " => Neuer Spielzustand: {'Stab A': [5, 2], 'Stab B': [4, 1], 'Stab C': [3]}\n",
      "Spielzug: oberste Scheibe von Stab B nach Stab A\n",
      " => Neuer Spielzustand: {'Stab A': [5, 2, 1], 'Stab B': [4], 'Stab C': [3]}\n",
      "Spielzug: oberste Scheibe von Stab C nach Stab B\n",
      " => Neuer Spielzustand: {'Stab A': [5, 2, 1], 'Stab B': [4, 3], 'Stab C': []}\n",
      "Spielzug: oberste Scheibe von Stab A nach Stab C\n",
      " => Neuer Spielzustand: {'Stab A': [5, 2], 'Stab B': [4, 3], 'Stab C': [1]}\n",
      "Spielzug: oberste Scheibe von Stab A nach Stab B\n",
      " => Neuer Spielzustand: {'Stab A': [5], 'Stab B': [4, 3, 2], 'Stab C': [1]}\n",
      "Spielzug: oberste Scheibe von Stab C nach Stab B\n",
      " => Neuer Spielzustand: {'Stab A': [5], 'Stab B': [4, 3, 2, 1], 'Stab C': []}\n",
      "Spielzug: oberste Scheibe von Stab A nach Stab C\n",
      " => Neuer Spielzustand: {'Stab A': [], 'Stab B': [4, 3, 2, 1], 'Stab C': [5]}\n",
      "Spielzug: oberste Scheibe von Stab B nach Stab A\n",
      " => Neuer Spielzustand: {'Stab A': [1], 'Stab B': [4, 3, 2], 'Stab C': [5]}\n",
      "Spielzug: oberste Scheibe von Stab B nach Stab C\n",
      " => Neuer Spielzustand: {'Stab A': [1], 'Stab B': [4, 3], 'Stab C': [5, 2]}\n",
      "Spielzug: oberste Scheibe von Stab A nach Stab C\n",
      " => Neuer Spielzustand: {'Stab A': [], 'Stab B': [4, 3], 'Stab C': [5, 2, 1]}\n",
      "Spielzug: oberste Scheibe von Stab B nach Stab A\n",
      " => Neuer Spielzustand: {'Stab A': [3], 'Stab B': [4], 'Stab C': [5, 2, 1]}\n",
      "Spielzug: oberste Scheibe von Stab C nach Stab B\n",
      " => Neuer Spielzustand: {'Stab A': [3], 'Stab B': [4, 1], 'Stab C': [5, 2]}\n",
      "Spielzug: oberste Scheibe von Stab C nach Stab A\n",
      " => Neuer Spielzustand: {'Stab A': [3, 2], 'Stab B': [4, 1], 'Stab C': [5]}\n",
      "Spielzug: oberste Scheibe von Stab B nach Stab A\n",
      " => Neuer Spielzustand: {'Stab A': [3, 2, 1], 'Stab B': [4], 'Stab C': [5]}\n",
      "Spielzug: oberste Scheibe von Stab B nach Stab C\n",
      " => Neuer Spielzustand: {'Stab A': [3, 2, 1], 'Stab B': [], 'Stab C': [5, 4]}\n",
      "Spielzug: oberste Scheibe von Stab A nach Stab C\n",
      " => Neuer Spielzustand: {'Stab A': [3, 2], 'Stab B': [], 'Stab C': [5, 4, 1]}\n",
      "Spielzug: oberste Scheibe von Stab A nach Stab B\n",
      " => Neuer Spielzustand: {'Stab A': [3], 'Stab B': [2], 'Stab C': [5, 4, 1]}\n",
      "Spielzug: oberste Scheibe von Stab C nach Stab B\n",
      " => Neuer Spielzustand: {'Stab A': [3], 'Stab B': [2, 1], 'Stab C': [5, 4]}\n",
      "Spielzug: oberste Scheibe von Stab A nach Stab C\n",
      " => Neuer Spielzustand: {'Stab A': [], 'Stab B': [2, 1], 'Stab C': [5, 4, 3]}\n",
      "Spielzug: oberste Scheibe von Stab B nach Stab A\n",
      " => Neuer Spielzustand: {'Stab A': [1], 'Stab B': [2], 'Stab C': [5, 4, 3]}\n",
      "Spielzug: oberste Scheibe von Stab B nach Stab C\n",
      " => Neuer Spielzustand: {'Stab A': [1], 'Stab B': [], 'Stab C': [5, 4, 3, 2]}\n",
      "Spielzug: oberste Scheibe von Stab A nach Stab C\n",
      " => Neuer Spielzustand: {'Stab A': [], 'Stab B': [], 'Stab C': [5, 4, 3, 2, 1]}\n"
     ]
    }
   ],
   "source": [
    "# Spielfeld initialisieren\n",
    "spielfeld: dict[str, list[int]] = { \"Stab A\": [5, 4, 3, 2, 1], \"Stab B\": [], \"Stab C\": [] }\n",
    "\n",
    "# Berechnung der Turmgröße\n",
    "turmgröße = len(spielfeld[\"Stab A\"])\n",
    "\n",
    "# Spielfeld ausgeben\n",
    "print(spielfeld)\n",
    "\n",
    "# Lösung berechnen\n",
    "hanoi(turmgröße, \"Stab A\", \"Stab B\", \"Stab C\")"
   ]
  }
 ],
 "metadata": {
  "kernelspec": {
   "display_name": "Python 3",
   "language": "python",
   "name": "python3"
  },
  "language_info": {
   "codemirror_mode": {
    "name": "ipython",
    "version": 3
   },
   "file_extension": ".py",
   "mimetype": "text/x-python",
   "name": "python",
   "nbconvert_exporter": "python",
   "pygments_lexer": "ipython3",
   "version": "3.12.1"
  }
 },
 "nbformat": 4,
 "nbformat_minor": 2
}
