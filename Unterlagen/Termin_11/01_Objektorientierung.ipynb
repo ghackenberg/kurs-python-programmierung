{
 "cells": [
  {
   "cell_type": "markdown",
   "metadata": {},
   "source": [
    "# Klassen"
   ]
  },
  {
   "cell_type": "markdown",
   "metadata": {},
   "source": [
    "## 1. Grundlagen"
   ]
  },
  {
   "cell_type": "markdown",
   "metadata": {},
   "source": [
    "### 11. Klassendefinition"
   ]
  },
  {
   "cell_type": "code",
   "execution_count": 72,
   "metadata": {},
   "outputs": [],
   "source": [
    "class KlasseA:\n",
    "\n",
    "    pass"
   ]
  },
  {
   "cell_type": "markdown",
   "metadata": {},
   "source": [
    "### 1.2. Klasseninstanziierung"
   ]
  },
  {
   "cell_type": "code",
   "execution_count": 73,
   "metadata": {},
   "outputs": [
    {
     "data": {
      "text/plain": [
       "<__main__.KlasseA at 0x1a7bc5f9d60>"
      ]
     },
     "execution_count": 73,
     "metadata": {},
     "output_type": "execute_result"
    }
   ],
   "source": [
    "KlasseA()"
   ]
  },
  {
   "cell_type": "code",
   "execution_count": 74,
   "metadata": {},
   "outputs": [
    {
     "data": {
      "text/plain": [
       "__main__.KlasseA"
      ]
     },
     "execution_count": 74,
     "metadata": {},
     "output_type": "execute_result"
    }
   ],
   "source": [
    "type(KlasseA())"
   ]
  },
  {
   "cell_type": "markdown",
   "metadata": {},
   "source": [
    "## 2. Eigenschaften"
   ]
  },
  {
   "cell_type": "markdown",
   "metadata": {},
   "source": [
    "### 2.1. Klassendefinition mit Eigenschaften"
   ]
  },
  {
   "cell_type": "code",
   "execution_count": 75,
   "metadata": {},
   "outputs": [],
   "source": [
    "class KlasseB:\n",
    "\n",
    "    eigenschaftA = 0\n",
    "    eigenschaftB = \"test\"\n",
    "    eigenschaftC = True"
   ]
  },
  {
   "cell_type": "markdown",
   "metadata": {},
   "source": [
    "### 2.2. Klasseninstanziierung"
   ]
  },
  {
   "cell_type": "code",
   "execution_count": 76,
   "metadata": {},
   "outputs": [],
   "source": [
    "instanz1 = KlasseB()"
   ]
  },
  {
   "cell_type": "markdown",
   "metadata": {},
   "source": [
    "### 2.3. Eigenschaftenzugriff"
   ]
  },
  {
   "cell_type": "markdown",
   "metadata": {},
   "source": [
    "#### 2.3.1. Lesend"
   ]
  },
  {
   "cell_type": "code",
   "execution_count": 77,
   "metadata": {},
   "outputs": [
    {
     "data": {
      "text/plain": [
       "0"
      ]
     },
     "execution_count": 77,
     "metadata": {},
     "output_type": "execute_result"
    }
   ],
   "source": [
    "instanz1.eigenschaftA"
   ]
  },
  {
   "cell_type": "code",
   "execution_count": 78,
   "metadata": {},
   "outputs": [
    {
     "data": {
      "text/plain": [
       "'test'"
      ]
     },
     "execution_count": 78,
     "metadata": {},
     "output_type": "execute_result"
    }
   ],
   "source": [
    "instanz1.eigenschaftB"
   ]
  },
  {
   "cell_type": "code",
   "execution_count": 79,
   "metadata": {},
   "outputs": [
    {
     "data": {
      "text/plain": [
       "True"
      ]
     },
     "execution_count": 79,
     "metadata": {},
     "output_type": "execute_result"
    }
   ],
   "source": [
    "instanz1.eigenschaftC"
   ]
  },
  {
   "cell_type": "markdown",
   "metadata": {},
   "source": [
    "#### 2.3.2. Schreibend"
   ]
  },
  {
   "cell_type": "code",
   "execution_count": 80,
   "metadata": {},
   "outputs": [
    {
     "data": {
      "text/plain": [
       "5"
      ]
     },
     "execution_count": 80,
     "metadata": {},
     "output_type": "execute_result"
    }
   ],
   "source": [
    "instanz1.eigenschaftA = 5\n",
    "\n",
    "instanz1.eigenschaftA"
   ]
  },
  {
   "cell_type": "markdown",
   "metadata": {},
   "source": [
    "## 3. Methoden"
   ]
  },
  {
   "cell_type": "markdown",
   "metadata": {},
   "source": [
    "### 3.1. Klassendefinition mit Methoden"
   ]
  },
  {
   "cell_type": "code",
   "execution_count": 81,
   "metadata": {},
   "outputs": [],
   "source": [
    "class KlasseC:\n",
    "\n",
    "    eigenschaftA = 1\n",
    "    eigenschaftB = \"test\"\n",
    "    eigenschaftC = True\n",
    "\n",
    "    def methodeA(self):\n",
    "\n",
    "        return self.eigenschaftA * 2"
   ]
  },
  {
   "cell_type": "markdown",
   "metadata": {},
   "source": [
    "### 3.2. Klasseninstanziierung"
   ]
  },
  {
   "cell_type": "code",
   "execution_count": 82,
   "metadata": {},
   "outputs": [],
   "source": [
    "\n",
    "instanz2 = KlasseC()"
   ]
  },
  {
   "cell_type": "markdown",
   "metadata": {},
   "source": [
    "### 3.3. Eigenschaftenzugriff"
   ]
  },
  {
   "cell_type": "code",
   "execution_count": null,
   "metadata": {},
   "outputs": [],
   "source": [
    "instanz2.eigenschaftA"
   ]
  },
  {
   "cell_type": "code",
   "execution_count": null,
   "metadata": {},
   "outputs": [],
   "source": [
    "instanz2.eigenschaftB"
   ]
  },
  {
   "cell_type": "code",
   "execution_count": null,
   "metadata": {},
   "outputs": [],
   "source": [
    "instanz2.eigenschaftC"
   ]
  },
  {
   "cell_type": "markdown",
   "metadata": {},
   "source": [
    "### 3.4. Methodenaufruf"
   ]
  },
  {
   "cell_type": "code",
   "execution_count": 83,
   "metadata": {},
   "outputs": [
    {
     "data": {
      "text/plain": [
       "2"
      ]
     },
     "execution_count": 83,
     "metadata": {},
     "output_type": "execute_result"
    }
   ],
   "source": [
    "instanz2.methodeA()"
   ]
  },
  {
   "cell_type": "markdown",
   "metadata": {},
   "source": [
    "## 4. Konstruktoren"
   ]
  },
  {
   "cell_type": "markdown",
   "metadata": {},
   "source": [
    "### 4.1. Klassendefinition mit Konstruktoren"
   ]
  },
  {
   "cell_type": "code",
   "execution_count": 84,
   "metadata": {},
   "outputs": [],
   "source": [
    "class KlasseD:\n",
    "\n",
    "    eigenschaftA = 1\n",
    "    eigenschaftB = \"test\"\n",
    "    eigenschaftC = True\n",
    "\n",
    "    def __init__(self, wert: int):\n",
    "\n",
    "        self.eigenschaftA = wert\n",
    "\n",
    "    def methodeA(self):\n",
    "\n",
    "        return self.eigenschaftA * 2"
   ]
  },
  {
   "cell_type": "markdown",
   "metadata": {},
   "source": [
    "### 4.2. Klasseninstanziierung mit Konstruktoren"
   ]
  },
  {
   "cell_type": "code",
   "execution_count": 85,
   "metadata": {},
   "outputs": [],
   "source": [
    "instanz3 = KlasseD(5)"
   ]
  },
  {
   "cell_type": "markdown",
   "metadata": {},
   "source": [
    "### 4.3. Eigenschaftenzugriff"
   ]
  },
  {
   "cell_type": "code",
   "execution_count": 86,
   "metadata": {},
   "outputs": [
    {
     "data": {
      "text/plain": [
       "5"
      ]
     },
     "execution_count": 86,
     "metadata": {},
     "output_type": "execute_result"
    }
   ],
   "source": [
    "instanz3.eigenschaftA"
   ]
  },
  {
   "cell_type": "code",
   "execution_count": 87,
   "metadata": {},
   "outputs": [
    {
     "data": {
      "text/plain": [
       "'test'"
      ]
     },
     "execution_count": 87,
     "metadata": {},
     "output_type": "execute_result"
    }
   ],
   "source": [
    "instanz3.eigenschaftB"
   ]
  },
  {
   "cell_type": "code",
   "execution_count": 88,
   "metadata": {},
   "outputs": [
    {
     "data": {
      "text/plain": [
       "True"
      ]
     },
     "execution_count": 88,
     "metadata": {},
     "output_type": "execute_result"
    }
   ],
   "source": [
    "instanz3.eigenschaftC"
   ]
  },
  {
   "cell_type": "markdown",
   "metadata": {},
   "source": [
    "### 4.4. Methodenaufruf"
   ]
  },
  {
   "cell_type": "code",
   "execution_count": 89,
   "metadata": {},
   "outputs": [
    {
     "data": {
      "text/plain": [
       "10"
      ]
     },
     "execution_count": 89,
     "metadata": {},
     "output_type": "execute_result"
    }
   ],
   "source": [
    "instanz3.methodeA()"
   ]
  },
  {
   "cell_type": "markdown",
   "metadata": {},
   "source": [
    "## 5. Vererbung"
   ]
  },
  {
   "cell_type": "markdown",
   "metadata": {},
   "source": [
    "### 5.1. Klassendefinition mit Vererbung"
   ]
  },
  {
   "cell_type": "code",
   "execution_count": 90,
   "metadata": {},
   "outputs": [],
   "source": [
    "class KlasseE(KlasseD):\n",
    "\n",
    "    eigenschaftD = 3\n",
    "\n",
    "    def __init__(self, wert: int):\n",
    "\n",
    "        super().__init__(wert)\n",
    "\n",
    "    def methodeB(self):\n",
    "\n",
    "        return self.eigenschaftA * self.eigenschaftD"
   ]
  },
  {
   "cell_type": "markdown",
   "metadata": {},
   "source": [
    "### 5.2. Klasseninstanziierung"
   ]
  },
  {
   "cell_type": "code",
   "execution_count": 91,
   "metadata": {},
   "outputs": [],
   "source": [
    "instanz4 = KlasseE(5)"
   ]
  },
  {
   "cell_type": "markdown",
   "metadata": {},
   "source": [
    "### 5.3. Eigenschaftenzugriff"
   ]
  },
  {
   "cell_type": "code",
   "execution_count": 92,
   "metadata": {},
   "outputs": [
    {
     "data": {
      "text/plain": [
       "5"
      ]
     },
     "execution_count": 92,
     "metadata": {},
     "output_type": "execute_result"
    }
   ],
   "source": [
    "instanz4.eigenschaftA"
   ]
  },
  {
   "cell_type": "code",
   "execution_count": 93,
   "metadata": {},
   "outputs": [
    {
     "data": {
      "text/plain": [
       "'test'"
      ]
     },
     "execution_count": 93,
     "metadata": {},
     "output_type": "execute_result"
    }
   ],
   "source": [
    "instanz4.eigenschaftB"
   ]
  },
  {
   "cell_type": "code",
   "execution_count": 94,
   "metadata": {},
   "outputs": [
    {
     "data": {
      "text/plain": [
       "True"
      ]
     },
     "execution_count": 94,
     "metadata": {},
     "output_type": "execute_result"
    }
   ],
   "source": [
    "instanz4.eigenschaftC"
   ]
  },
  {
   "cell_type": "code",
   "execution_count": 95,
   "metadata": {},
   "outputs": [
    {
     "data": {
      "text/plain": [
       "3"
      ]
     },
     "execution_count": 95,
     "metadata": {},
     "output_type": "execute_result"
    }
   ],
   "source": [
    "instanz4.eigenschaftD"
   ]
  },
  {
   "cell_type": "markdown",
   "metadata": {},
   "source": [
    "### 5.4. Methodenaufruf"
   ]
  },
  {
   "cell_type": "code",
   "execution_count": 96,
   "metadata": {},
   "outputs": [
    {
     "data": {
      "text/plain": [
       "10"
      ]
     },
     "execution_count": 96,
     "metadata": {},
     "output_type": "execute_result"
    }
   ],
   "source": [
    "instanz4.methodeA()"
   ]
  },
  {
   "cell_type": "code",
   "execution_count": 97,
   "metadata": {},
   "outputs": [
    {
     "data": {
      "text/plain": [
       "15"
      ]
     },
     "execution_count": 97,
     "metadata": {},
     "output_type": "execute_result"
    }
   ],
   "source": [
    "instanz4.methodeB()"
   ]
  },
  {
   "cell_type": "markdown",
   "metadata": {},
   "source": [
    "## 6. Anwendungen"
   ]
  },
  {
   "cell_type": "markdown",
   "metadata": {},
   "source": [
    "### 6.1. Listen\n",
    "\n",
    "Eine Liste besteht aus Elementen.\n",
    "\n",
    "Es gibt ein Startelement und ein Endelement.\n",
    "\n",
    "Jedes Element hat ein voriges Element, ein nächstes Element, sowie einen Wert.\n",
    "\n",
    "Das erste Element hat kein voriges Element, das letzte Element hat kein nächstes Element.\n",
    "\n",
    "**Illustration der Datenstruktur**\n",
    "\n",
    "![](Diagramme/Liste.png)"
   ]
  },
  {
   "cell_type": "markdown",
   "metadata": {},
   "source": [
    "**Die Klasse `Element`**"
   ]
  },
  {
   "cell_type": "code",
   "execution_count": 9,
   "metadata": {},
   "outputs": [
    {
     "name": "stdout",
     "output_type": "stream",
     "text": [
      "Test1\n",
      "Test2\n",
      "0\n",
      "1\n",
      "-1\n",
      "2\n"
     ]
    }
   ],
   "source": [
    "class Element:\n",
    "    \n",
    "    def __init__(self, voriges, nächstes, wert: str) -> None:\n",
    "        \n",
    "        self.voriges = voriges\n",
    "\n",
    "        self.nächstes = nächstes\n",
    "\n",
    "        self.wert = wert"
   ]
  },
  {
   "cell_type": "markdown",
   "metadata": {},
   "source": [
    "**Die Klasse `Liste`**"
   ]
  },
  {
   "cell_type": "code",
   "execution_count": null,
   "metadata": {},
   "outputs": [],
   "source": [
    "class Liste:\n",
    "\n",
    "    anfang: Element = None\n",
    "\n",
    "    ende: Element = None\n",
    "\n",
    "    def ausgeben(self, position: int) -> str:\n",
    "\n",
    "        iterator = self.anfang\n",
    "\n",
    "        while position > 0 and iterator is not None:\n",
    "            iterator = iterator.nächstes\n",
    "            position = position - 1\n",
    "        \n",
    "        return iterator.wert if iterator is not None else None\n",
    "    \n",
    "    def anhängen(self, wert: str) -> None:\n",
    "\n",
    "        element = Element(self.ende, None, wert)\n",
    "\n",
    "        if self.anfang is None:\n",
    "            self.anfang = element\n",
    "        else:\n",
    "            self.ende.nächstes = element\n",
    "\n",
    "        self.ende = element\n",
    "\n",
    "    def einfügen(self, wert: str, position: int) -> None:\n",
    "\n",
    "        # TODO\n",
    "\n",
    "        pass\n",
    "\n",
    "    def suchen(self, wert: str) -> int:\n",
    "\n",
    "        position = 0\n",
    "\n",
    "        iterator = self.anfang\n",
    "\n",
    "        while iterator is not None:\n",
    "            if iterator.wert == wert:\n",
    "                return position\n",
    "            else:\n",
    "                iterator = iterator.nächstes\n",
    "                position = position + 1\n",
    "        \n",
    "        return -1\n",
    "    \n",
    "    def löschen(self, wert: str) -> int:\n",
    "\n",
    "        # TODO\n",
    "\n",
    "        pass\n",
    "\n",
    "    def entfernen(self, position: int) -> str:\n",
    "\n",
    "        # TODO\n",
    "\n",
    "        pass\n",
    "    \n",
    "    def länge(self) -> int:\n",
    "\n",
    "        länge = 0\n",
    "\n",
    "        iterator = self.anfang\n",
    "\n",
    "        while iterator is not None:\n",
    "            iterator = iterator.nächstes\n",
    "            länge = länge + 1\n",
    "        \n",
    "        return länge"
   ]
  },
  {
   "cell_type": "markdown",
   "metadata": {},
   "source": [
    "**Anwendungsbeispiel**"
   ]
  },
  {
   "cell_type": "code",
   "execution_count": null,
   "metadata": {},
   "outputs": [],
   "source": [
    "liste = Liste()\n",
    "\n",
    "liste.anhängen(\"Test1\")\n",
    "liste.anhängen(\"Test2\")\n",
    "\n",
    "print(liste.ausgeben(0))\n",
    "print(liste.ausgeben(1))\n",
    "\n",
    "print(liste.suchen(\"Test1\"))\n",
    "print(liste.suchen(\"Test2\"))\n",
    "print(liste.suchen(\"Test3\"))\n",
    "\n",
    "print(liste.löschen(\"Test1\"))\n",
    "print(liste.löschen(\"Test2\"))\n",
    "\n",
    "print(liste.länge())"
   ]
  }
 ],
 "metadata": {
  "kernelspec": {
   "display_name": "Python 3",
   "language": "python",
   "name": "python3"
  },
  "language_info": {
   "codemirror_mode": {
    "name": "ipython",
    "version": 3
   },
   "file_extension": ".py",
   "mimetype": "text/x-python",
   "name": "python",
   "nbconvert_exporter": "python",
   "pygments_lexer": "ipython3",
   "version": "3.12.1"
  }
 },
 "nbformat": 4,
 "nbformat_minor": 2
}
