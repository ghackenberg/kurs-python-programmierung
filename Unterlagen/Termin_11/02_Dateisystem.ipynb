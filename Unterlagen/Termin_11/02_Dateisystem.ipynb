{
 "cells": [
  {
   "cell_type": "markdown",
   "metadata": {},
   "source": [
    "# Dateisystem"
   ]
  },
  {
   "cell_type": "markdown",
   "metadata": {},
   "source": [
    "## 1. Datei lesen"
   ]
  },
  {
   "cell_type": "markdown",
   "metadata": {},
   "source": [
    "### 1.1. Einzelne Zeichen lesen"
   ]
  },
  {
   "cell_type": "code",
   "execution_count": 30,
   "metadata": {},
   "outputs": [
    {
     "name": "stdout",
     "output_type": "stream",
     "text": [
      "Zeichen = V\n",
      "Zeichen = o\n",
      "Zeichen = r\n",
      "Zeichen = n\n",
      "Zeichen = a\n",
      "Zeichen = m\n",
      "Zeichen = e\n",
      "Zeichen = ;\n",
      "Zeichen = N\n",
      "Zeichen = a\n",
      "Zeichen = c\n",
      "Zeichen = h\n",
      "Zeichen = n\n",
      "Zeichen = a\n",
      "Zeichen = m\n",
      "Zeichen = e\n",
      "Zeichen = ;\n",
      "Zeichen = A\n",
      "Zeichen = l\n",
      "Zeichen = t\n",
      "Zeichen = e\n",
      "Zeichen = r\n",
      "Zeichen = ;\n",
      "Zeichen = G\n",
      "Zeichen = e\n",
      "Zeichen = s\n",
      "Zeichen = c\n",
      "Zeichen = h\n",
      "Zeichen = l\n",
      "Zeichen = e\n",
      "Zeichen = c\n",
      "Zeichen = h\n",
      "Zeichen = t\n",
      "Zeichen = \n",
      "\n",
      "Zeichen = H\n",
      "Zeichen = a\n",
      "Zeichen = n\n",
      "Zeichen = s\n",
      "Zeichen = ;\n",
      "Zeichen = M\n",
      "Zeichen = u\n",
      "Zeichen = s\n",
      "Zeichen = t\n",
      "Zeichen = e\n",
      "Zeichen = r\n",
      "Zeichen = ;\n",
      "Zeichen = 2\n",
      "Zeichen = 5\n",
      "Zeichen = ;\n",
      "Zeichen = M\n",
      "Zeichen = ä\n",
      "Zeichen = n\n",
      "Zeichen = n\n",
      "Zeichen = l\n",
      "Zeichen = i\n",
      "Zeichen = c\n",
      "Zeichen = h\n",
      "Zeichen = \n",
      "\n",
      "Zeichen = J\n",
      "Zeichen = u\n",
      "Zeichen = l\n",
      "Zeichen = i\n",
      "Zeichen = a\n",
      "Zeichen = ;\n",
      "Zeichen = M\n",
      "Zeichen = u\n",
      "Zeichen = s\n",
      "Zeichen = t\n",
      "Zeichen = e\n",
      "Zeichen = r\n",
      "Zeichen = ;\n",
      "Zeichen = 2\n",
      "Zeichen = 3\n",
      "Zeichen = ;\n",
      "Zeichen = W\n",
      "Zeichen = e\n",
      "Zeichen = i\n",
      "Zeichen = b\n",
      "Zeichen = l\n",
      "Zeichen = i\n",
      "Zeichen = c\n",
      "Zeichen = h\n"
     ]
    }
   ],
   "source": [
    "datei = open(\"Eingabe.csv\", \"r\", encoding='UTF-8')\n",
    "\n",
    "while True:\n",
    "    zeichen = datei.read(1)\n",
    "    if zeichen:\n",
    "        print(f\"Zeichen = {zeichen}\")\n",
    "    else:\n",
    "        break\n",
    "\n",
    "datei.close()"
   ]
  },
  {
   "cell_type": "markdown",
   "metadata": {},
   "source": [
    "### 1.2. Alle Zeichen lesen"
   ]
  },
  {
   "cell_type": "code",
   "execution_count": 31,
   "metadata": {},
   "outputs": [
    {
     "name": "stdout",
     "output_type": "stream",
     "text": [
      "Vorname;Nachname;Alter;Geschlecht\n",
      "Hans;Muster;25;Männlich\n",
      "Julia;Muster;23;Weiblich\n"
     ]
    }
   ],
   "source": [
    "datei = open(\"Eingabe.csv\", \"r\", encoding='UTF-8')\n",
    "\n",
    "print(datei.read())\n",
    "\n",
    "datei.close()"
   ]
  },
  {
   "cell_type": "markdown",
   "metadata": {},
   "source": [
    "### 1.3. Einzelne Zeilen lesen"
   ]
  },
  {
   "cell_type": "markdown",
   "metadata": {},
   "source": [
    "#### 1.3.1. Mittels `readline`"
   ]
  },
  {
   "cell_type": "code",
   "execution_count": 32,
   "metadata": {},
   "outputs": [
    {
     "name": "stdout",
     "output_type": "stream",
     "text": [
      "Zeile: Vorname;Nachname;Alter;Geschlecht\n",
      "\n",
      "Zeile: Hans;Muster;25;Männlich\n",
      "\n",
      "Zeile: Julia;Muster;23;Weiblich\n"
     ]
    }
   ],
   "source": [
    "datei = open(\"Eingabe.csv\", \"r\", encoding='UTF-8')\n",
    "\n",
    "while True:\n",
    "    zeile = datei.readline()\n",
    "    if zeile:\n",
    "        print(f\"Zeile: {zeile}\")\n",
    "    else:\n",
    "        break\n",
    "\n",
    "datei.close()"
   ]
  },
  {
   "cell_type": "markdown",
   "metadata": {},
   "source": [
    "#### 1.3.2. Mittels `for`"
   ]
  },
  {
   "cell_type": "code",
   "execution_count": 33,
   "metadata": {},
   "outputs": [
    {
     "name": "stdout",
     "output_type": "stream",
     "text": [
      "Zeile: Vorname;Nachname;Alter;Geschlecht\n",
      "\n",
      "Zeile: Hans;Muster;25;Männlich\n",
      "\n",
      "Zeile: Julia;Muster;23;Weiblich\n"
     ]
    }
   ],
   "source": [
    "datei = open(\"Eingabe.csv\", \"r\", encoding='UTF-8')\n",
    "\n",
    "for zeile in datei:\n",
    "    print(f\"Zeile: {zeile}\")\n",
    "\n",
    "datei.close()"
   ]
  },
  {
   "cell_type": "markdown",
   "metadata": {},
   "source": [
    "### 1.4. Alle Zeilen lesen"
   ]
  },
  {
   "cell_type": "code",
   "execution_count": 34,
   "metadata": {},
   "outputs": [
    {
     "name": "stdout",
     "output_type": "stream",
     "text": [
      "['Vorname;Nachname;Alter;Geschlecht\\n', 'Hans;Muster;25;Männlich\\n', 'Julia;Muster;23;Weiblich']\n"
     ]
    }
   ],
   "source": [
    "datei = open(\"Eingabe.csv\", \"r\", encoding='UTF-8')\n",
    "\n",
    "print(datei.readlines())\n",
    "\n",
    "datei.close()"
   ]
  },
  {
   "cell_type": "markdown",
   "metadata": {},
   "source": [
    "## 2. Datei schreiben"
   ]
  },
  {
   "cell_type": "markdown",
   "metadata": {},
   "source": [
    "### 2.1. Zeichen schreiben"
   ]
  },
  {
   "cell_type": "code",
   "execution_count": 35,
   "metadata": {},
   "outputs": [],
   "source": [
    "datei = open(\"Ausgabe.csv\", \"w\", encoding='UTF-8')\n",
    "\n",
    "datei.write(\"Test\")\n",
    "\n",
    "datei.close()"
   ]
  },
  {
   "cell_type": "markdown",
   "metadata": {},
   "source": [
    "### 2.2. Zeilen schreiben"
   ]
  },
  {
   "cell_type": "code",
   "execution_count": 38,
   "metadata": {},
   "outputs": [],
   "source": [
    "datei = open(\"Ausgabe.csv\", \"w\", encoding='UTF-8')\n",
    "\n",
    "datei.writelines([\"A\\n\", \"B\\n\", \"C\\n\"])\n",
    "\n",
    "datei.close()"
   ]
  }
 ],
 "metadata": {
  "kernelspec": {
   "display_name": "Python 3",
   "language": "python",
   "name": "python3"
  },
  "language_info": {
   "codemirror_mode": {
    "name": "ipython",
    "version": 3
   },
   "file_extension": ".py",
   "mimetype": "text/x-python",
   "name": "python",
   "nbconvert_exporter": "python",
   "pygments_lexer": "ipython3",
   "version": "3.12.2"
  }
 },
 "nbformat": 4,
 "nbformat_minor": 2
}
