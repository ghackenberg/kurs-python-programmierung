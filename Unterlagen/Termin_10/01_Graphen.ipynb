{
 "cells": [
  {
   "cell_type": "markdown",
   "metadata": {},
   "source": [
    "# Graphen (cont'd)"
   ]
  },
  {
   "cell_type": "markdown",
   "metadata": {},
   "source": [
    "## 1. Datenstrukturen"
   ]
  },
  {
   "cell_type": "code",
   "execution_count": 407,
   "metadata": {},
   "outputs": [],
   "source": [
    "Knoten = int"
   ]
  },
  {
   "cell_type": "code",
   "execution_count": 408,
   "metadata": {},
   "outputs": [],
   "source": [
    "Gewicht = int"
   ]
  },
  {
   "cell_type": "code",
   "execution_count": 409,
   "metadata": {},
   "outputs": [],
   "source": [
    "Graph = list[list[Gewicht]]"
   ]
  },
  {
   "cell_type": "markdown",
   "metadata": {},
   "source": [
    "## 2. Datensätze"
   ]
  },
  {
   "cell_type": "markdown",
   "metadata": {},
   "source": [
    "### 2.1. Beispiel 1\n",
    "\n",
    "![](../Termin_09/Diagramme/Graphen/Matrizen/Beispiel_01.png)"
   ]
  },
  {
   "cell_type": "code",
   "execution_count": 410,
   "metadata": {},
   "outputs": [],
   "source": [
    "graph_1: Graph = [\n",
    "    [0, 1],\n",
    "    [0, 0]\n",
    "]"
   ]
  },
  {
   "cell_type": "markdown",
   "metadata": {},
   "source": [
    "### 2.2. Beispiel 2\n",
    "\n",
    "![](../Termin_09/Diagramme/Graphen/Matrizen/Beispiel_02.png)"
   ]
  },
  {
   "cell_type": "code",
   "execution_count": 411,
   "metadata": {},
   "outputs": [],
   "source": [
    "graph_2: Graph = [\n",
    "    [0, 1, 0],\n",
    "    [0, 0, 1],\n",
    "    [1, 0, 0]\n",
    "]"
   ]
  },
  {
   "cell_type": "markdown",
   "metadata": {},
   "source": [
    "### 2.3. Beispiel 3\n",
    "\n",
    "![](../Termin_09/Diagramme/Graphen/Matrizen/Beispiel_03.png)"
   ]
  },
  {
   "cell_type": "code",
   "execution_count": 412,
   "metadata": {},
   "outputs": [],
   "source": [
    "graph_3: Graph = [\n",
    "    [0, 1, 1, 0],\n",
    "    [0, 0, 1, 1],\n",
    "    [0, 0, 0, 1],\n",
    "    [1, 0, 0, 0]\n",
    "]"
   ]
  },
  {
   "cell_type": "markdown",
   "metadata": {},
   "source": [
    "### 2.4. Beispiel 4\n",
    "\n",
    "![](Diagramme/Beispiel_04.png)"
   ]
  },
  {
   "cell_type": "code",
   "execution_count": 413,
   "metadata": {},
   "outputs": [],
   "source": [
    "graph_4: Graph = [\n",
    "    [0, 1, 0, 0],\n",
    "    [0, 0, 0, 0],\n",
    "    [0, 0, 0, 1],\n",
    "    [0, 0, 0, 0]\n",
    "]"
   ]
  },
  {
   "cell_type": "markdown",
   "metadata": {},
   "source": [
    "## 2. Algorithmen"
   ]
  },
  {
   "cell_type": "markdown",
   "metadata": {},
   "source": [
    "### 2.1. Tiefensuche"
   ]
  },
  {
   "cell_type": "code",
   "execution_count": 414,
   "metadata": {},
   "outputs": [],
   "source": [
    "def besuche(graph: Graph, knoten: Knoten, besucht: list[bool], komponente: list[Knoten]):\n",
    "\n",
    "    # Prüfen ob Knoten bereits besucht wurde\n",
    "    \n",
    "    if not besucht[knoten]:\n",
    "\n",
    "        # Knoten als besucht markieren\n",
    "\n",
    "        besucht[knoten] = True\n",
    "\n",
    "        # Knoten in Zusammenhangskomponente eintragen\n",
    "\n",
    "        komponente.append(knoten)\n",
    "\n",
    "        # Nachbarn besuchen\n",
    "\n",
    "        for nachbar in range(len(graph)):\n",
    "\n",
    "            # Ausgehende Kante prüfen und besuchen\n",
    "\n",
    "            if graph[knoten][nachbar] > 0:\n",
    "\n",
    "                besuche(graph, nachbar, besucht, komponente)\n",
    "\n",
    "            # Eingehende Kante prüfen und besuchen\n",
    "\n",
    "            if graph[nachbar][knoten] > 0:\n",
    "\n",
    "                besuche(graph, nachbar, besucht, komponente)"
   ]
  },
  {
   "cell_type": "markdown",
   "metadata": {},
   "source": [
    "#### Beispiel 1:\n",
    "\n",
    "![](../Termin_09/Diagramme/Graphen/Matrizen/Beispiel_01.png)"
   ]
  },
  {
   "cell_type": "code",
   "execution_count": 415,
   "metadata": {},
   "outputs": [
    {
     "name": "stdout",
     "output_type": "stream",
     "text": [
      "[True, True]\n",
      "[0, 1]\n"
     ]
    }
   ],
   "source": [
    "besucht_1 = [False for knoten in range(len(graph_1))]\n",
    "\n",
    "# Erkunde Graphen von Knoten 0 aus\n",
    "\n",
    "komponente_1 = []\n",
    "\n",
    "besuche(graph_1, 0, besucht_1, komponente_1)\n",
    "\n",
    "print(besucht_1)\n",
    "print(komponente_1)"
   ]
  },
  {
   "cell_type": "markdown",
   "metadata": {},
   "source": [
    "#### Beispiel 2:\n",
    "\n",
    "![](../Termin_09/Diagramme/Graphen/Matrizen/Beispiel_02.png)"
   ]
  },
  {
   "cell_type": "code",
   "execution_count": 416,
   "metadata": {},
   "outputs": [
    {
     "name": "stdout",
     "output_type": "stream",
     "text": [
      "[True, True, True]\n",
      "[1, 0, 2]\n"
     ]
    }
   ],
   "source": [
    "besucht_2 = [False for knoten in range(len(graph_2))]\n",
    "\n",
    "# Erkunde Graphen von Knoten 0 aus\n",
    "\n",
    "komponente_2 = []\n",
    "\n",
    "besuche(graph_2, 1, besucht_2, komponente_2)\n",
    "\n",
    "print(besucht_2)\n",
    "print(komponente_2)"
   ]
  },
  {
   "cell_type": "markdown",
   "metadata": {},
   "source": [
    "#### Beispiel 3:\n",
    "\n",
    "![](../Termin_09/Diagramme/Graphen/Matrizen/Beispiel_03.png)"
   ]
  },
  {
   "cell_type": "code",
   "execution_count": 417,
   "metadata": {},
   "outputs": [
    {
     "name": "stdout",
     "output_type": "stream",
     "text": [
      "[True, True, True, True]\n",
      "[3, 0, 1, 2]\n"
     ]
    }
   ],
   "source": [
    "besucht_3 = [False for knoten in range(len(graph_3))]\n",
    "\n",
    "# Erkunde Graphen von Knoten 0 aus\n",
    "\n",
    "komponente_3 = []\n",
    "\n",
    "besuche(graph_3, 3, besucht_3, komponente_3)\n",
    "\n",
    "print(besucht_3)\n",
    "print(komponente_3)"
   ]
  },
  {
   "cell_type": "markdown",
   "metadata": {},
   "source": [
    "#### Beispiel 4:\n",
    "\n",
    "![](Diagramme/Beispiel_04.png)"
   ]
  },
  {
   "cell_type": "code",
   "execution_count": 418,
   "metadata": {},
   "outputs": [
    {
     "name": "stdout",
     "output_type": "stream",
     "text": [
      "[True, True, False, False]\n",
      "[0, 1]\n",
      "[True, True, True, True]\n",
      "[2, 3]\n"
     ]
    }
   ],
   "source": [
    "\n",
    "\n",
    "besucht_4 = [False for knoten in range(len(graph_4))]\n",
    "\n",
    "# Erkunde Graphen von Knoten 0 aus\n",
    "\n",
    "komponente_4 = []\n",
    "\n",
    "besuche(graph_4, 0, besucht_4, komponente_4)\n",
    "\n",
    "print(besucht_4)\n",
    "print(komponente_4)\n",
    "\n",
    "# Erkunde Graphen von Knoten 2 aus\n",
    "\n",
    "komponente_4 = []\n",
    "\n",
    "besuche(graph_4, 2, besucht_4, komponente_4)\n",
    "\n",
    "print(besucht_4)\n",
    "print(komponente_4)"
   ]
  },
  {
   "cell_type": "markdown",
   "metadata": {},
   "source": [
    "TODO"
   ]
  },
  {
   "cell_type": "code",
   "execution_count": 419,
   "metadata": {},
   "outputs": [
    {
     "name": "stdout",
     "output_type": "stream",
     "text": [
      "[True, False, True, False] [0, 2]\n",
      "[True, True, True, False] [1]\n",
      "[True, True, True, True] [3]\n"
     ]
    }
   ],
   "source": [
    "g = [\n",
    "    [0, 0, 1, 0],\n",
    "    [0, 0, 0, 0],\n",
    "    [0, 0, 0, 0],\n",
    "    [0, 0, 0, 0],\n",
    "]\n",
    "\n",
    "b = [False, False, False, False]\n",
    "\n",
    "k1 = []\n",
    "\n",
    "besuche(g, 0, b, k1)\n",
    "\n",
    "print(b, k1)\n",
    "\n",
    "k2 = []\n",
    "\n",
    "besuche(g, 1, b, k2)\n",
    "\n",
    "print(b, k2)\n",
    "\n",
    "k3 = []\n",
    "\n",
    "besuche(g, 3, b, k3)\n",
    "\n",
    "print(b, k3)"
   ]
  },
  {
   "cell_type": "markdown",
   "metadata": {},
   "source": [
    "### 2.1. Zusammenhangskomponenten\n",
    "\n",
    "**Funktionssignatur:**\n",
    "\n",
    "![](Funktionssignatur.jpg)\n",
    "\n",
    "**Funksionskörper:**"
   ]
  },
  {
   "cell_type": "code",
   "execution_count": 420,
   "metadata": {},
   "outputs": [],
   "source": [
    "def gruppiere(graph: Graph):\n",
    "\n",
    "    # Ergebnisdatenstruktur initialisieren\n",
    "\n",
    "    komponenten: list[list[Knoten]] = []\n",
    "\n",
    "    # Zwischenspeicher initialisieren\n",
    "\n",
    "    besucht = [False for knoten in range(len(graph))]\n",
    "    \n",
    "    print(f\"besucht = {besucht}\")\n",
    "    print(f\"komponenten = {komponenten}\")\n",
    "\n",
    "    # Knoten des Graphen durchlaufen\n",
    "\n",
    "    for knoten in range(len(graph)):\n",
    "\n",
    "        # Prüfen, ob Knoten bereits besucht wurde\n",
    "        \n",
    "        if not besucht[knoten]:\n",
    "\n",
    "            print(f\"besuche knoten {knoten}\")\n",
    "\n",
    "            # Datenstruktur für neue Zusammenhangskomponente initialisieren\n",
    "            \n",
    "            komponente: list[Knoten] = []\n",
    "\n",
    "            # Knoten und alle Nachbarn besuchen und einsammeln\n",
    "            \n",
    "            besuche(graph, knoten, besucht, komponente)\n",
    "\n",
    "            # Zusammenhangskomponente in die Ergebnisdatenstruktur eintragen\n",
    "\n",
    "            komponenten.append(komponente)\n",
    "\n",
    "            print(f\" - besucht = {besucht}\")\n",
    "            print(f\" - komponente = {komponente}\")\n",
    "            print(f\" - komponenten = {komponenten}\")\n",
    "\n",
    "    # Ergebnisdatenstruktur zurückgeben\n",
    "    \n",
    "    return komponenten"
   ]
  },
  {
   "cell_type": "markdown",
   "metadata": {},
   "source": [
    "#### Beispiel 1:\n",
    "\n",
    "![](../Termin_09/Diagramme/Graphen/Matrizen/Beispiel_01.png)"
   ]
  },
  {
   "cell_type": "code",
   "execution_count": 421,
   "metadata": {},
   "outputs": [
    {
     "name": "stdout",
     "output_type": "stream",
     "text": [
      "besucht = [False, False]\n",
      "komponenten = []\n",
      "besuche knoten 0\n",
      " - besucht = [True, True]\n",
      " - komponente = [0, 1]\n",
      " - komponenten = [[0, 1]]\n"
     ]
    },
    {
     "data": {
      "text/plain": [
       "[[0, 1]]"
      ]
     },
     "execution_count": 421,
     "metadata": {},
     "output_type": "execute_result"
    }
   ],
   "source": [
    "gruppiere(graph_1)"
   ]
  },
  {
   "cell_type": "markdown",
   "metadata": {},
   "source": [
    "#### Beispiel 2:\n",
    "\n",
    "![](../Termin_09/Diagramme/Graphen/Matrizen/Beispiel_02.png)"
   ]
  },
  {
   "cell_type": "code",
   "execution_count": 422,
   "metadata": {},
   "outputs": [
    {
     "name": "stdout",
     "output_type": "stream",
     "text": [
      "besucht = [False, False, False]\n",
      "komponenten = []\n",
      "besuche knoten 0\n",
      " - besucht = [True, True, True]\n",
      " - komponente = [0, 1, 2]\n",
      " - komponenten = [[0, 1, 2]]\n"
     ]
    },
    {
     "data": {
      "text/plain": [
       "[[0, 1, 2]]"
      ]
     },
     "execution_count": 422,
     "metadata": {},
     "output_type": "execute_result"
    }
   ],
   "source": [
    "gruppiere(graph_2)"
   ]
  },
  {
   "cell_type": "markdown",
   "metadata": {},
   "source": [
    "#### Beispiel 3:\n",
    "\n",
    "![](../Termin_09/Diagramme/Graphen/Matrizen/Beispiel_03.png)"
   ]
  },
  {
   "cell_type": "code",
   "execution_count": 423,
   "metadata": {},
   "outputs": [
    {
     "name": "stdout",
     "output_type": "stream",
     "text": [
      "besucht = [False, False, False, False]\n",
      "komponenten = []\n",
      "besuche knoten 0\n",
      " - besucht = [True, True, True, True]\n",
      " - komponente = [0, 1, 2, 3]\n",
      " - komponenten = [[0, 1, 2, 3]]\n"
     ]
    },
    {
     "data": {
      "text/plain": [
       "[[0, 1, 2, 3]]"
      ]
     },
     "execution_count": 423,
     "metadata": {},
     "output_type": "execute_result"
    }
   ],
   "source": [
    "gruppiere(graph_3)"
   ]
  },
  {
   "cell_type": "markdown",
   "metadata": {},
   "source": [
    "#### Beispiel 4:\n",
    "\n",
    "![](Diagramme/Beispiel_04.png)"
   ]
  },
  {
   "cell_type": "code",
   "execution_count": 424,
   "metadata": {},
   "outputs": [
    {
     "name": "stdout",
     "output_type": "stream",
     "text": [
      "besucht = [False, False, False, False]\n",
      "komponenten = []\n",
      "besuche knoten 0\n",
      " - besucht = [True, True, False, False]\n",
      " - komponente = [0, 1]\n",
      " - komponenten = [[0, 1]]\n",
      "besuche knoten 2\n",
      " - besucht = [True, True, True, True]\n",
      " - komponente = [2, 3]\n",
      " - komponenten = [[0, 1], [2, 3]]\n"
     ]
    },
    {
     "data": {
      "text/plain": [
       "[[0, 1], [2, 3]]"
      ]
     },
     "execution_count": 424,
     "metadata": {},
     "output_type": "execute_result"
    }
   ],
   "source": [
    "gruppiere(graph_4)"
   ]
  },
  {
   "cell_type": "markdown",
   "metadata": {},
   "source": [
    "#### Beispiel 5:"
   ]
  },
  {
   "cell_type": "code",
   "execution_count": 425,
   "metadata": {},
   "outputs": [
    {
     "name": "stdout",
     "output_type": "stream",
     "text": [
      "besucht = [False, False, False]\n",
      "komponenten = []\n",
      "besuche knoten 0\n",
      " - besucht = [True, False, False]\n",
      " - komponente = [0]\n",
      " - komponenten = [[0]]\n",
      "besuche knoten 1\n",
      " - besucht = [True, True, True]\n",
      " - komponente = [1, 2]\n",
      " - komponenten = [[0], [1, 2]]\n"
     ]
    },
    {
     "data": {
      "text/plain": [
       "[[0], [1, 2]]"
      ]
     },
     "execution_count": 425,
     "metadata": {},
     "output_type": "execute_result"
    }
   ],
   "source": [
    "gruppiere([\n",
    "    [0, 0, 0],\n",
    "    [0, 0, 1],\n",
    "    [0, 0, 0],\n",
    "])"
   ]
  },
  {
   "cell_type": "markdown",
   "metadata": {},
   "source": [
    "#### Beispiel 6:"
   ]
  },
  {
   "cell_type": "code",
   "execution_count": 426,
   "metadata": {},
   "outputs": [
    {
     "name": "stdout",
     "output_type": "stream",
     "text": [
      "besucht = [False, False, False, False, False]\n",
      "komponenten = []\n",
      "besuche knoten 0\n",
      " - besucht = [True, False, False, False, False]\n",
      " - komponente = [0]\n",
      " - komponenten = [[0]]\n",
      "besuche knoten 1\n",
      " - besucht = [True, True, True, False, False]\n",
      " - komponente = [1, 2]\n",
      " - komponenten = [[0], [1, 2]]\n",
      "besuche knoten 3\n",
      " - besucht = [True, True, True, True, True]\n",
      " - komponente = [3, 4]\n",
      " - komponenten = [[0], [1, 2], [3, 4]]\n"
     ]
    },
    {
     "data": {
      "text/plain": [
       "[[0], [1, 2], [3, 4]]"
      ]
     },
     "execution_count": 426,
     "metadata": {},
     "output_type": "execute_result"
    }
   ],
   "source": [
    "gruppiere([\n",
    "    [0, 0, 0, 0, 0],\n",
    "    [0, 0, 1, 0, 0],\n",
    "    [0, 0, 0, 0, 0],\n",
    "    [0, 0, 0, 0, 1],\n",
    "    [0, 0, 0, 0, 0],\n",
    "])"
   ]
  },
  {
   "cell_type": "markdown",
   "metadata": {},
   "source": [
    "#### Beispiel 7:"
   ]
  },
  {
   "cell_type": "code",
   "execution_count": 427,
   "metadata": {},
   "outputs": [
    {
     "name": "stdout",
     "output_type": "stream",
     "text": [
      "besucht = [False, False, False, False, False]\n",
      "komponenten = []\n",
      "besuche knoten 0\n",
      " - besucht = [True, True, True, False, False]\n",
      " - komponente = [0, 1, 2]\n",
      " - komponenten = [[0, 1, 2]]\n",
      "besuche knoten 3\n",
      " - besucht = [True, True, True, True, True]\n",
      " - komponente = [3, 4]\n",
      " - komponenten = [[0, 1, 2], [3, 4]]\n"
     ]
    },
    {
     "data": {
      "text/plain": [
       "[[0, 1, 2], [3, 4]]"
      ]
     },
     "execution_count": 427,
     "metadata": {},
     "output_type": "execute_result"
    }
   ],
   "source": [
    "gruppiere([\n",
    "    [0, 1, 0, 0, 0],\n",
    "    [0, 0, 1, 0, 0],\n",
    "    [0, 0, 0, 0, 0],\n",
    "    [0, 0, 0, 0, 1],\n",
    "    [0, 0, 0, 0, 0],\n",
    "])"
   ]
  },
  {
   "cell_type": "markdown",
   "metadata": {},
   "source": [
    "## 2. Topologische Sortierung"
   ]
  },
  {
   "cell_type": "code",
   "execution_count": 428,
   "metadata": {},
   "outputs": [
    {
     "name": "stdout",
     "output_type": "stream",
     "text": [
      "0 < 1 True\n",
      "0 < 2 False\n",
      "0 < 3 False\n",
      "1 < 0 False\n",
      "1 < 2 False\n",
      "1 < 3 False\n",
      "2 < 0 False\n",
      "2 < 1 False\n",
      "2 < 3 True\n",
      "3 < 0 False\n",
      "3 < 1 False\n",
      "3 < 2 False\n"
     ]
    }
   ],
   "source": [
    "def kleinerTopologisch(graph: Graph, a: Knoten, b: Knoten) -> bool:\n",
    "    if graph[a][b] > 0:\n",
    "        return True\n",
    "    else:\n",
    "        for nachbar in range(len(graph)):\n",
    "            if graph[a][nachbar] > 0:\n",
    "                if kleinerTopologisch(graph, nachbar, b):\n",
    "                    return True\n",
    "    return False\n",
    "\n",
    "g = [\n",
    "    [0, 1, 0, 0],\n",
    "    [0, 0, 0, 0],\n",
    "    [0, 0, 0, 1],\n",
    "    [0, 0, 0, 0]\n",
    "]\n",
    "\n",
    "print(\"0 < 1\", kleinerTopologisch(g, 0, 1))\n",
    "print(\"0 < 2\", kleinerTopologisch(g, 0, 2))\n",
    "print(\"0 < 3\", kleinerTopologisch(g, 0, 3))\n",
    "\n",
    "print(\"1 < 0\", kleinerTopologisch(g, 1, 0))\n",
    "print(\"1 < 2\", kleinerTopologisch(g, 1, 2))\n",
    "print(\"1 < 3\", kleinerTopologisch(g, 1, 3))\n",
    "\n",
    "print(\"2 < 0\", kleinerTopologisch(g, 2, 0))\n",
    "print(\"2 < 1\", kleinerTopologisch(g, 2, 1))\n",
    "print(\"2 < 3\", kleinerTopologisch(g, 2, 3))\n",
    "\n",
    "print(\"3 < 0\", kleinerTopologisch(g, 3, 0))\n",
    "print(\"3 < 1\", kleinerTopologisch(g, 3, 1))\n",
    "print(\"3 < 2\", kleinerTopologisch(g, 3, 2))"
   ]
  },
  {
   "cell_type": "code",
   "execution_count": 429,
   "metadata": {},
   "outputs": [
    {
     "name": "stdout",
     "output_type": "stream",
     "text": [
      "False\n"
     ]
    }
   ],
   "source": [
    "g1 = [\n",
    "    [0, 1, 1],\n",
    "    [0, 0, 0],\n",
    "    [0, 1, 0]\n",
    "]\n",
    "\n",
    "print(kleinerTopologisch(g1, 2, 0))"
   ]
  },
  {
   "cell_type": "code",
   "execution_count": 430,
   "metadata": {},
   "outputs": [],
   "source": [
    "def sortiereTopologisch(graph: Graph) -> list[Knoten]:\n",
    "    \n",
    "    # Knotenliste initialisieren\n",
    "\n",
    "    ergebnis: list[Knoten] = []\n",
    "\n",
    "    for knoten in range(len(graph)):\n",
    "        ergebnis.append(knoten)\n",
    "\n",
    "    # Knotenliste soriteren\n",
    "\n",
    "    for bereich in range(len(graph) - 1):\n",
    "\n",
    "        print(f\"bereich = [0, {len(graph) - bereich})\")\n",
    "\n",
    "        # Maximum suchen\n",
    "\n",
    "        knotenMax = ergebnis[0]\n",
    "        indexMax = 0\n",
    "        \n",
    "        for stelle in range(1, len(graph) - bereich):\n",
    "\n",
    "            knotenCur = ergebnis[stelle]\n",
    "\n",
    "            if kleinerTopologisch(graph, knotenMax, knotenCur):\n",
    "                \n",
    "                knotenMax = knotenCur\n",
    "                indexMax = stelle\n",
    "        \n",
    "        # Größten Knoten ans Ende stellen\n",
    "\n",
    "        print(f\" - knotenMax = {knotenMax}\")\n",
    "\n",
    "        temp = ergebnis[len(graph) - bereich - 1]\n",
    "\n",
    "        ergebnis[len(graph) - bereich - 1] = knotenMax\n",
    "        ergebnis[indexMax] = temp\n",
    "            \n",
    "        print(f\" - ergebnis = {ergebnis}\")\n",
    "\n",
    "    return ergebnis"
   ]
  },
  {
   "cell_type": "code",
   "execution_count": 431,
   "metadata": {},
   "outputs": [
    {
     "name": "stdout",
     "output_type": "stream",
     "text": [
      "bereich = [0, 4)\n",
      " - knotenMax = 1\n",
      " - ergebnis = [0, 3, 2, 1]\n",
      "bereich = [0, 3)\n",
      " - knotenMax = 0\n",
      " - ergebnis = [2, 3, 0, 1]\n",
      "bereich = [0, 2)\n",
      " - knotenMax = 3\n",
      " - ergebnis = [2, 3, 0, 1]\n"
     ]
    },
    {
     "data": {
      "text/plain": [
       "[2, 3, 0, 1]"
      ]
     },
     "execution_count": 431,
     "metadata": {},
     "output_type": "execute_result"
    }
   ],
   "source": [
    "sortiereTopologisch(g)"
   ]
  },
  {
   "cell_type": "code",
   "execution_count": 432,
   "metadata": {},
   "outputs": [
    {
     "name": "stdout",
     "output_type": "stream",
     "text": [
      "bereich = [0, 3)\n",
      " - knotenMax = 1\n",
      " - ergebnis = [0, 2, 1]\n",
      "bereich = [0, 2)\n",
      " - knotenMax = 2\n",
      " - ergebnis = [0, 2, 1]\n"
     ]
    },
    {
     "data": {
      "text/plain": [
       "[0, 2, 1]"
      ]
     },
     "execution_count": 432,
     "metadata": {},
     "output_type": "execute_result"
    }
   ],
   "source": [
    "sortiereTopologisch([\n",
    "    [0, 1, 1],\n",
    "    [0, 0, 0],\n",
    "    [0, 1, 0]\n",
    "])"
   ]
  }
 ],
 "metadata": {
  "kernelspec": {
   "display_name": "Python 3",
   "language": "python",
   "name": "python3"
  },
  "language_info": {
   "codemirror_mode": {
    "name": "ipython",
    "version": 3
   },
   "file_extension": ".py",
   "mimetype": "text/x-python",
   "name": "python",
   "nbconvert_exporter": "python",
   "pygments_lexer": "ipython3",
   "version": "3.12.1"
  }
 },
 "nbformat": 4,
 "nbformat_minor": 2
}
