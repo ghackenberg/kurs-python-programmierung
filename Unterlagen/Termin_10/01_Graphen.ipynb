{
 "cells": [
  {
   "cell_type": "markdown",
   "metadata": {},
   "source": [
    "# Graphen (cont'd)"
   ]
  },
  {
   "cell_type": "markdown",
   "metadata": {},
   "source": [
    "## 1. Datenstrukturen"
   ]
  },
  {
   "cell_type": "code",
   "execution_count": 1,
   "metadata": {},
   "outputs": [],
   "source": [
    "Knoten = int"
   ]
  },
  {
   "cell_type": "code",
   "execution_count": 2,
   "metadata": {},
   "outputs": [],
   "source": [
    "Gewicht = int"
   ]
  },
  {
   "cell_type": "code",
   "execution_count": 3,
   "metadata": {},
   "outputs": [],
   "source": [
    "Graph = list[list[Gewicht]]"
   ]
  },
  {
   "cell_type": "markdown",
   "metadata": {},
   "source": [
    "## 2. Datensätze"
   ]
  },
  {
   "cell_type": "markdown",
   "metadata": {},
   "source": [
    "### 2.1. Beispiel 1\n",
    "\n",
    "![](../Termin_09/Diagramme/Graphen/Matrizen/Beispiel_01.png)"
   ]
  },
  {
   "cell_type": "code",
   "execution_count": 4,
   "metadata": {},
   "outputs": [],
   "source": [
    "graph_1: Graph = [\n",
    "    [0, 1],\n",
    "    [0, 0]\n",
    "]"
   ]
  },
  {
   "cell_type": "markdown",
   "metadata": {},
   "source": [
    "### 2.2. Beispiel 2\n",
    "\n",
    "![](../Termin_09/Diagramme/Graphen/Matrizen/Beispiel_02.png)"
   ]
  },
  {
   "cell_type": "code",
   "execution_count": 5,
   "metadata": {},
   "outputs": [],
   "source": [
    "graph_2: Graph = [\n",
    "    [0, 1, 0],\n",
    "    [0, 0, 1],\n",
    "    [1, 0, 0]\n",
    "]"
   ]
  },
  {
   "cell_type": "markdown",
   "metadata": {},
   "source": [
    "### 2.3. Beispiel 3\n",
    "\n",
    "![](../Termin_09/Diagramme/Graphen/Matrizen/Beispiel_03.png)"
   ]
  },
  {
   "cell_type": "code",
   "execution_count": 6,
   "metadata": {},
   "outputs": [],
   "source": [
    "graph_3: Graph = [\n",
    "    [0, 1, 1, 0],\n",
    "    [0, 0, 1, 1],\n",
    "    [0, 0, 0, 1],\n",
    "    [1, 0, 0, 0]\n",
    "]"
   ]
  },
  {
   "cell_type": "markdown",
   "metadata": {},
   "source": [
    "### 2.4. Beispiel 4\n",
    "\n",
    "![](Diagramme/Beispiel_04.png)"
   ]
  },
  {
   "cell_type": "code",
   "execution_count": 7,
   "metadata": {},
   "outputs": [],
   "source": [
    "graph_4: Graph = [\n",
    "    [0, 1, 0, 0],\n",
    "    [0, 0, 0, 0],\n",
    "    [0, 0, 0, 1],\n",
    "    [0, 0, 0, 0]\n",
    "]"
   ]
  },
  {
   "cell_type": "markdown",
   "metadata": {},
   "source": [
    "## 2. Algorithmen"
   ]
  },
  {
   "cell_type": "markdown",
   "metadata": {},
   "source": [
    "### 2.1. Tiefensuche"
   ]
  },
  {
   "cell_type": "code",
   "execution_count": 8,
   "metadata": {},
   "outputs": [],
   "source": [
    "def besuche(graph: Graph, knoten: Knoten, besucht: list[bool], komponente: list[Knoten]):\n",
    "\n",
    "    # Prüfen ob Knoten bereits besucht wurde\n",
    "    \n",
    "    if not besucht[knoten]:\n",
    "\n",
    "        # Knoten als besucht markieren\n",
    "\n",
    "        besucht[knoten] = True\n",
    "\n",
    "        # Knoten in Zusammenhangskomponente eintragen\n",
    "\n",
    "        komponente.append(knoten)\n",
    "\n",
    "        # Nachbarn besuchen\n",
    "\n",
    "        for nachbar in range(len(graph)):\n",
    "\n",
    "            # Ausgehende Kante prüfen und besuchen\n",
    "\n",
    "            if graph[knoten][nachbar] > 0:\n",
    "\n",
    "                besuche(graph, nachbar, besucht, komponente)\n",
    "\n",
    "            # Eingehende Kante prüfen und besuchen\n",
    "\n",
    "            if graph[nachbar][knoten] > 0:\n",
    "\n",
    "                besuche(graph, nachbar, besucht, komponente)"
   ]
  },
  {
   "cell_type": "markdown",
   "metadata": {},
   "source": [
    "#### Beispiel 1:\n",
    "\n",
    "![](../Termin_09/Diagramme/Graphen/Matrizen/Beispiel_01.png)"
   ]
  },
  {
   "cell_type": "code",
   "execution_count": 9,
   "metadata": {},
   "outputs": [
    {
     "name": "stdout",
     "output_type": "stream",
     "text": [
      "[True, True]\n",
      "[0, 1]\n"
     ]
    }
   ],
   "source": [
    "besucht_1 = [False for knoten in range(len(graph_1))]\n",
    "\n",
    "# Erkunde Graphen von Knoten 0 aus\n",
    "\n",
    "komponente_1 = []\n",
    "\n",
    "besuche(graph_1, 0, besucht_1, komponente_1)\n",
    "\n",
    "print(besucht_1)\n",
    "print(komponente_1)"
   ]
  },
  {
   "cell_type": "markdown",
   "metadata": {},
   "source": [
    "#### Beispiel 2:\n",
    "\n",
    "![](../Termin_09/Diagramme/Graphen/Matrizen/Beispiel_02.png)"
   ]
  },
  {
   "cell_type": "code",
   "execution_count": 10,
   "metadata": {},
   "outputs": [
    {
     "name": "stdout",
     "output_type": "stream",
     "text": [
      "[True, True, True]\n",
      "[0, 1, 2]\n"
     ]
    }
   ],
   "source": [
    "besucht_2 = [False for knoten in range(len(graph_2))]\n",
    "\n",
    "# Erkunde Graphen von Knoten 0 aus\n",
    "\n",
    "komponente_2 = []\n",
    "\n",
    "besuche(graph_2, 0, besucht_2, komponente_2)\n",
    "\n",
    "print(besucht_2)\n",
    "print(komponente_2)"
   ]
  },
  {
   "cell_type": "markdown",
   "metadata": {},
   "source": [
    "#### Beispiel 3:\n",
    "\n",
    "![](../Termin_09/Diagramme/Graphen/Matrizen/Beispiel_03.png)"
   ]
  },
  {
   "cell_type": "code",
   "execution_count": 11,
   "metadata": {},
   "outputs": [
    {
     "name": "stdout",
     "output_type": "stream",
     "text": [
      "[True, True, True, True]\n",
      "[0, 1, 2, 3]\n"
     ]
    }
   ],
   "source": [
    "besucht_3 = [False for knoten in range(len(graph_3))]\n",
    "\n",
    "# Erkunde Graphen von Knoten 0 aus\n",
    "\n",
    "komponente_3 = []\n",
    "\n",
    "besuche(graph_3, 0, besucht_3, komponente_3)\n",
    "\n",
    "print(besucht_3)\n",
    "print(komponente_3)"
   ]
  },
  {
   "cell_type": "markdown",
   "metadata": {},
   "source": [
    "#### Beispiel 4:\n",
    "\n",
    "![](Diagramme/Beispiel_04.png)"
   ]
  },
  {
   "cell_type": "code",
   "execution_count": 12,
   "metadata": {},
   "outputs": [
    {
     "name": "stdout",
     "output_type": "stream",
     "text": [
      "[True, True, False, False]\n",
      "[0, 1]\n",
      "[True, True, True, True]\n",
      "[2, 3]\n"
     ]
    }
   ],
   "source": [
    "\n",
    "\n",
    "besucht_4 = [False for knoten in range(len(graph_4))]\n",
    "\n",
    "# Erkunde Graphen von Knoten 0 aus\n",
    "\n",
    "komponente_4 = []\n",
    "\n",
    "besuche(graph_4, 0, besucht_4, komponente_4)\n",
    "\n",
    "print(besucht_4)\n",
    "print(komponente_4)\n",
    "\n",
    "# Erkunde Graphen von Knoten 2 aus\n",
    "\n",
    "komponente_4 = []\n",
    "\n",
    "besuche(graph_4, 2, besucht_4, komponente_4)\n",
    "\n",
    "print(besucht_4)\n",
    "print(komponente_4)"
   ]
  },
  {
   "cell_type": "markdown",
   "metadata": {},
   "source": [
    "### 2.1. Zusammenhangskomponenten\n",
    "\n",
    "**Funktionssignatur:**\n",
    "\n",
    "![](Funktionssignatur.jpg)\n",
    "\n",
    "**Funksionskörper:**"
   ]
  },
  {
   "cell_type": "code",
   "execution_count": 13,
   "metadata": {},
   "outputs": [],
   "source": [
    "def gruppiere(graph: Graph):\n",
    "\n",
    "    # Ergebnisdatenstruktur initialisieren\n",
    "\n",
    "    komponenten: list[list[Knoten]] = []\n",
    "\n",
    "    # Zwischenspeicher initialisieren\n",
    "\n",
    "    besucht = [False for knoten in range(len(graph))]\n",
    "    \n",
    "    print(f\"besucht = {besucht}\")\n",
    "    print(f\"komponenten = {komponenten}\")\n",
    "\n",
    "    # Knoten des Graphen durchlaufen\n",
    "\n",
    "    for knoten in range(len(graph)):\n",
    "\n",
    "        # Prüfen, ob Knoten bereits besucht wurde\n",
    "        \n",
    "        if not besucht[knoten]:\n",
    "\n",
    "            print(f\"besuche knoten {knoten}\")\n",
    "\n",
    "            # Datenstruktur für neue Zusammenhangskomponente initialisieren\n",
    "            \n",
    "            komponente: list[Knoten] = []\n",
    "\n",
    "            # Knoten und alle Nachbarn besuchen und einsammeln\n",
    "            \n",
    "            besuche(graph, knoten, besucht, komponente)\n",
    "\n",
    "            # Zusammenhangskomponente in die Ergebnisdatenstruktur eintragen\n",
    "\n",
    "            komponenten.append(komponente)\n",
    "\n",
    "            print(f\" - besucht = {besucht}\")\n",
    "            print(f\" - komponente = {komponente}\")\n",
    "            print(f\" - komponenten = {komponenten}\")\n",
    "\n",
    "    # Ergebnisdatenstruktur zurückgeben\n",
    "    \n",
    "    return komponenten"
   ]
  },
  {
   "cell_type": "markdown",
   "metadata": {},
   "source": [
    "#### Beispiel 1:\n",
    "\n",
    "![](../Termin_09/Diagramme/Graphen/Matrizen/Beispiel_01.png)"
   ]
  },
  {
   "cell_type": "code",
   "execution_count": 14,
   "metadata": {},
   "outputs": [
    {
     "name": "stdout",
     "output_type": "stream",
     "text": [
      "besucht = [False, False]\n",
      "komponenten = []\n",
      "besuche knoten 0\n",
      " - besucht = [True, True]\n",
      " - komponente = [0, 1]\n",
      " - komponenten = [[0, 1]]\n"
     ]
    },
    {
     "data": {
      "text/plain": [
       "[[0, 1]]"
      ]
     },
     "execution_count": 14,
     "metadata": {},
     "output_type": "execute_result"
    }
   ],
   "source": [
    "gruppiere(graph_1)"
   ]
  },
  {
   "cell_type": "markdown",
   "metadata": {},
   "source": [
    "#### Beispiel 2:\n",
    "\n",
    "![](../Termin_09/Diagramme/Graphen/Matrizen/Beispiel_02.png)"
   ]
  },
  {
   "cell_type": "code",
   "execution_count": 15,
   "metadata": {},
   "outputs": [
    {
     "name": "stdout",
     "output_type": "stream",
     "text": [
      "besucht = [False, False, False]\n",
      "komponenten = []\n",
      "besuche knoten 0\n",
      " - besucht = [True, True, True]\n",
      " - komponente = [0, 1, 2]\n",
      " - komponenten = [[0, 1, 2]]\n"
     ]
    },
    {
     "data": {
      "text/plain": [
       "[[0, 1, 2]]"
      ]
     },
     "execution_count": 15,
     "metadata": {},
     "output_type": "execute_result"
    }
   ],
   "source": [
    "gruppiere(graph_2)"
   ]
  },
  {
   "cell_type": "markdown",
   "metadata": {},
   "source": [
    "#### Beispiel 3:\n",
    "\n",
    "![](../Termin_09/Diagramme/Graphen/Matrizen/Beispiel_03.png)"
   ]
  },
  {
   "cell_type": "code",
   "execution_count": 16,
   "metadata": {},
   "outputs": [
    {
     "name": "stdout",
     "output_type": "stream",
     "text": [
      "besucht = [False, False, False, False]\n",
      "komponenten = []\n",
      "besuche knoten 0\n",
      " - besucht = [True, True, True, True]\n",
      " - komponente = [0, 1, 2, 3]\n",
      " - komponenten = [[0, 1, 2, 3]]\n"
     ]
    },
    {
     "data": {
      "text/plain": [
       "[[0, 1, 2, 3]]"
      ]
     },
     "execution_count": 16,
     "metadata": {},
     "output_type": "execute_result"
    }
   ],
   "source": [
    "gruppiere(graph_3)"
   ]
  },
  {
   "cell_type": "markdown",
   "metadata": {},
   "source": [
    "#### Beispiel 4:\n",
    "\n",
    "![](Diagramme/Beispiel_04.png)"
   ]
  },
  {
   "cell_type": "code",
   "execution_count": 17,
   "metadata": {},
   "outputs": [
    {
     "name": "stdout",
     "output_type": "stream",
     "text": [
      "besucht = [False, False, False, False]\n",
      "komponenten = []\n",
      "besuche knoten 0\n",
      " - besucht = [True, True, False, False]\n",
      " - komponente = [0, 1]\n",
      " - komponenten = [[0, 1]]\n",
      "besuche knoten 2\n",
      " - besucht = [True, True, True, True]\n",
      " - komponente = [2, 3]\n",
      " - komponenten = [[0, 1], [2, 3]]\n"
     ]
    },
    {
     "data": {
      "text/plain": [
       "[[0, 1], [2, 3]]"
      ]
     },
     "execution_count": 17,
     "metadata": {},
     "output_type": "execute_result"
    }
   ],
   "source": [
    "gruppiere(graph_4)"
   ]
  },
  {
   "cell_type": "markdown",
   "metadata": {},
   "source": [
    "#### Beispiel 5:"
   ]
  },
  {
   "cell_type": "code",
   "execution_count": 18,
   "metadata": {},
   "outputs": [
    {
     "name": "stdout",
     "output_type": "stream",
     "text": [
      "besucht = [False, False, False]\n",
      "komponenten = []\n",
      "besuche knoten 0\n",
      " - besucht = [True, False, False]\n",
      " - komponente = [0]\n",
      " - komponenten = [[0]]\n",
      "besuche knoten 1\n",
      " - besucht = [True, True, True]\n",
      " - komponente = [1, 2]\n",
      " - komponenten = [[0], [1, 2]]\n"
     ]
    },
    {
     "data": {
      "text/plain": [
       "[[0], [1, 2]]"
      ]
     },
     "execution_count": 18,
     "metadata": {},
     "output_type": "execute_result"
    }
   ],
   "source": [
    "gruppiere([\n",
    "    [0, 0, 0],\n",
    "    [0, 0, 1],\n",
    "    [0, 0, 0],\n",
    "])"
   ]
  },
  {
   "cell_type": "markdown",
   "metadata": {},
   "source": [
    "#### Beispiel 6:"
   ]
  },
  {
   "cell_type": "code",
   "execution_count": 19,
   "metadata": {},
   "outputs": [
    {
     "name": "stdout",
     "output_type": "stream",
     "text": [
      "besucht = [False, False, False, False, False]\n",
      "komponenten = []\n",
      "besuche knoten 0\n",
      " - besucht = [True, False, False, False, False]\n",
      " - komponente = [0]\n",
      " - komponenten = [[0]]\n",
      "besuche knoten 1\n",
      " - besucht = [True, True, True, False, False]\n",
      " - komponente = [1, 2]\n",
      " - komponenten = [[0], [1, 2]]\n",
      "besuche knoten 3\n",
      " - besucht = [True, True, True, True, True]\n",
      " - komponente = [3, 4]\n",
      " - komponenten = [[0], [1, 2], [3, 4]]\n"
     ]
    },
    {
     "data": {
      "text/plain": [
       "[[0], [1, 2], [3, 4]]"
      ]
     },
     "execution_count": 19,
     "metadata": {},
     "output_type": "execute_result"
    }
   ],
   "source": [
    "gruppiere([\n",
    "    [0, 0, 0, 0, 0],\n",
    "    [0, 0, 1, 0, 0],\n",
    "    [0, 0, 0, 0, 0],\n",
    "    [0, 0, 0, 0, 1],\n",
    "    [0, 0, 0, 0, 0],\n",
    "])"
   ]
  },
  {
   "cell_type": "markdown",
   "metadata": {},
   "source": [
    "#### Beispiel 7:"
   ]
  },
  {
   "cell_type": "code",
   "execution_count": 20,
   "metadata": {},
   "outputs": [
    {
     "name": "stdout",
     "output_type": "stream",
     "text": [
      "besucht = [False, False, False, False, False]\n",
      "komponenten = []\n",
      "besuche knoten 0\n",
      " - besucht = [True, True, True, False, False]\n",
      " - komponente = [0, 1, 2]\n",
      " - komponenten = [[0, 1, 2]]\n",
      "besuche knoten 3\n",
      " - besucht = [True, True, True, True, True]\n",
      " - komponente = [3, 4]\n",
      " - komponenten = [[0, 1, 2], [3, 4]]\n"
     ]
    },
    {
     "data": {
      "text/plain": [
       "[[0, 1, 2], [3, 4]]"
      ]
     },
     "execution_count": 20,
     "metadata": {},
     "output_type": "execute_result"
    }
   ],
   "source": [
    "gruppiere([\n",
    "    [0, 1, 0, 0, 0],\n",
    "    [0, 0, 1, 0, 0],\n",
    "    [0, 0, 0, 0, 0],\n",
    "    [0, 0, 0, 0, 1],\n",
    "    [0, 0, 0, 0, 0],\n",
    "])"
   ]
  }
 ],
 "metadata": {
  "kernelspec": {
   "display_name": "Python 3",
   "language": "python",
   "name": "python3"
  },
  "language_info": {
   "codemirror_mode": {
    "name": "ipython",
    "version": 3
   },
   "file_extension": ".py",
   "mimetype": "text/x-python",
   "name": "python",
   "nbconvert_exporter": "python",
   "pygments_lexer": "ipython3",
   "version": "3.12.2"
  }
 },
 "nbformat": 4,
 "nbformat_minor": 2
}
