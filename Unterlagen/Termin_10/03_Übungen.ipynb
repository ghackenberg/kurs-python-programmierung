{
 "cells": [
  {
   "cell_type": "markdown",
   "metadata": {},
   "source": [
    "# Übungen"
   ]
  },
  {
   "cell_type": "markdown",
   "metadata": {},
   "source": [
    "## Übung 1: **Pfadauflistung (`dict`)** mittels Rekursion\n",
    "\n",
    "Übersetzen Sie den Algorithmus für die Auflistung von Pfaden auf `dict`-Graphen.\n",
    "\n",
    "*Empfehlung: Nutzen Sie als Beispiel den Navigationsgraphen mit Städten und Distanzen.*"
   ]
  },
  {
   "cell_type": "code",
   "execution_count": null,
   "metadata": {},
   "outputs": [],
   "source": [
    "# TODO"
   ]
  },
  {
   "cell_type": "markdown",
   "metadata": {},
   "source": [
    "## Übung 2: **Kürzeste Pfade (`dict`)** mittels Rekursion\n",
    "\n",
    "Übersetzen Sie den Algorithmus für die Berechnung von kürzesten Pfaden auf `dict`-Graphen.\n",
    "\n",
    "*Empfehlung: Nutzen Sie als Beispiel den Navigationsgraphen mit Städten und Distanzen.*"
   ]
  },
  {
   "cell_type": "code",
   "execution_count": null,
   "metadata": {},
   "outputs": [],
   "source": [
    "# TODO"
   ]
  },
  {
   "cell_type": "markdown",
   "metadata": {},
   "source": [
    "## Übung 3: **Zusammenhängende Komponenten (`dict`)** mittels Rekursion\n",
    "\n",
    "Übersetzen Sie den Algorithmus für die Berechnung von zusammenhängenden Komponenten auf `dict`-Graphen."
   ]
  },
  {
   "cell_type": "code",
   "execution_count": null,
   "metadata": {},
   "outputs": [],
   "source": [
    "# TODO"
   ]
  }
 ],
 "metadata": {
  "language_info": {
   "name": "python"
  }
 },
 "nbformat": 4,
 "nbformat_minor": 2
}
