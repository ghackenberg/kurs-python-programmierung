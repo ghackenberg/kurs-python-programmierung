{
 "cells": [
  {
   "cell_type": "markdown",
   "metadata": {},
   "source": [
    "# Topologische Sortierung\n",
    "\n",
    "Nun beschäftigen wir uns mit gerichteten azyklischen Graphen (d.h. Graphen ohne \"Rückkanten\").\n",
    "\n",
    "![](Zyklische_Aszyklische_Graphen.jpg)\n",
    "\n",
    "In einem gerichteten azyklischen Graphen kann eine sogenannte **topologische Ordnungsrelation** auf den Knoten definiert werden.\n",
    "\n",
    "![](Topologische_Ordnungsrelation.jpg)\n",
    "\n",
    "Ordnungsrelationen kennen Sie bereits von der **Menge der Natürlichen Zahlen**.\n",
    "\n",
    "![](Numerische_Ordnungsrelation.jpg)\n",
    "\n",
    "Schließlich können die Knoten anhand der topologischen Ordnungsrelation sortiert werden. Eine solche Sortierung kann beispielsweise für die Darstellung solcher Graphen verwendet werden, um Kanten nur in eine Richtung zeigen zu lassen."
   ]
  },
  {
   "cell_type": "markdown",
   "metadata": {},
   "source": [
    "## 1. Datenstrukturen"
   ]
  },
  {
   "cell_type": "code",
   "execution_count": 133,
   "metadata": {},
   "outputs": [],
   "source": [
    "Kantengewicht = float"
   ]
  },
  {
   "cell_type": "code",
   "execution_count": 134,
   "metadata": {},
   "outputs": [],
   "source": [
    "Knoten = int"
   ]
  },
  {
   "cell_type": "code",
   "execution_count": 135,
   "metadata": {},
   "outputs": [],
   "source": [
    "Graph = list[list[Kantengewicht]]"
   ]
  },
  {
   "cell_type": "markdown",
   "metadata": {},
   "source": [
    "## 2. Beispieldaten"
   ]
  },
  {
   "cell_type": "markdown",
   "metadata": {},
   "source": [
    "### Beispiel 1:\n",
    "\n",
    "![](../Termin_09/Diagramme/Graphen/Matrizen/Beispiel_01.png)"
   ]
  },
  {
   "cell_type": "code",
   "execution_count": 136,
   "metadata": {},
   "outputs": [],
   "source": [
    "graph_1: Graph = [\n",
    "    [0, 1],\n",
    "    [0, 0]\n",
    "]"
   ]
  },
  {
   "cell_type": "markdown",
   "metadata": {},
   "source": [
    "### Beispiel 2:\n",
    "\n",
    "![](../Termin_09/Diagramme/Graphen/Matrizen/Beispiel_02.png)"
   ]
  },
  {
   "cell_type": "code",
   "execution_count": 137,
   "metadata": {},
   "outputs": [],
   "source": [
    "graph_2: Graph = [\n",
    "    [0, 1, 0],\n",
    "    [0, 0, 1],\n",
    "    [1, 0, 0]\n",
    "]"
   ]
  },
  {
   "cell_type": "markdown",
   "metadata": {},
   "source": [
    "### Beispiel 3:\n",
    "\n",
    "![](../Termin_09/Diagramme/Graphen/Matrizen/Beispiel_03.png)"
   ]
  },
  {
   "cell_type": "code",
   "execution_count": 138,
   "metadata": {},
   "outputs": [],
   "source": [
    "graph_3: Graph = [\n",
    "    [0, 1, 1, 0],\n",
    "    [0, 0, 1, 1],\n",
    "    [0, 0, 0, 1],\n",
    "    [1, 0, 0, 0]\n",
    "]"
   ]
  },
  {
   "cell_type": "markdown",
   "metadata": {},
   "source": [
    "### Beispiel 4:\n",
    "\n",
    "![](Diagramme/Beispiel_04.png)"
   ]
  },
  {
   "cell_type": "code",
   "execution_count": 139,
   "metadata": {},
   "outputs": [],
   "source": [
    "graph_4: Graph = [\n",
    "    [0, 1, 0, 0],\n",
    "    [0, 0, 0, 0],\n",
    "    [0, 0, 0, 1],\n",
    "    [0, 0, 0, 0]\n",
    "]"
   ]
  },
  {
   "cell_type": "markdown",
   "metadata": {},
   "source": [
    "## 3. Die Funktion `kleinerTopologisch`\n",
    "\n",
    "**Adaptierter Vergleichsoperator**: Prüfe, ob ein Pfad von Knoten `a` nach Knoten `b` existiert. Wenn ja, ist `a` topologisch kleiner als `b`."
   ]
  },
  {
   "cell_type": "code",
   "execution_count": 140,
   "metadata": {},
   "outputs": [],
   "source": [
    "def kleinerTopologisch(graph: Graph, a: Knoten, b: Knoten) -> bool:\n",
    "    if graph[a][b] > 0:\n",
    "        return True\n",
    "    else:\n",
    "        for nachbar in range(len(graph)):\n",
    "            if graph[a][nachbar] > 0:\n",
    "                if kleinerTopologisch(graph, nachbar, b):\n",
    "                    return True\n",
    "    return False"
   ]
  },
  {
   "cell_type": "markdown",
   "metadata": {},
   "source": [
    "### Beispiel 1:\n",
    "\n",
    "Gegeben sei der folgende Graph:"
   ]
  },
  {
   "cell_type": "code",
   "execution_count": 141,
   "metadata": {},
   "outputs": [],
   "source": [
    "g1 = [\n",
    "    [0, 1, 1],\n",
    "    [0, 0, 0],\n",
    "    [0, 1, 0]\n",
    "]"
   ]
  },
  {
   "cell_type": "markdown",
   "metadata": {},
   "source": [
    "Hier ist eine Visualisierung dieses Graphen:´\n",
    "\n",
    "![](Topologische_Ordnungsrelation_Beispiel_1_Graph.jpg)\n",
    "\n",
    "Hier ist eine Illustration der zugehörigen Ordnungsrelation:\n",
    "\n",
    "![](Topologische_Ordnungsrelation_Beispiel_1_Menge.jpg)\n",
    "\n",
    "Nun testen wir den adaptierten Vergleichsoperator:"
   ]
  },
  {
   "cell_type": "code",
   "execution_count": 142,
   "metadata": {},
   "outputs": [
    {
     "data": {
      "text/plain": [
       "True"
      ]
     },
     "execution_count": 142,
     "metadata": {},
     "output_type": "execute_result"
    }
   ],
   "source": [
    "kleinerTopologisch(g1, 0, 1)"
   ]
  },
  {
   "cell_type": "code",
   "execution_count": 143,
   "metadata": {},
   "outputs": [
    {
     "data": {
      "text/plain": [
       "True"
      ]
     },
     "execution_count": 143,
     "metadata": {},
     "output_type": "execute_result"
    }
   ],
   "source": [
    "kleinerTopologisch(g1, 0, 2)"
   ]
  },
  {
   "cell_type": "code",
   "execution_count": 144,
   "metadata": {},
   "outputs": [
    {
     "data": {
      "text/plain": [
       "False"
      ]
     },
     "execution_count": 144,
     "metadata": {},
     "output_type": "execute_result"
    }
   ],
   "source": [
    "kleinerTopologisch(g1, 1, 0)"
   ]
  },
  {
   "cell_type": "code",
   "execution_count": 145,
   "metadata": {},
   "outputs": [
    {
     "data": {
      "text/plain": [
       "False"
      ]
     },
     "execution_count": 145,
     "metadata": {},
     "output_type": "execute_result"
    }
   ],
   "source": [
    "kleinerTopologisch(g1, 1, 2)"
   ]
  },
  {
   "cell_type": "code",
   "execution_count": 146,
   "metadata": {},
   "outputs": [
    {
     "data": {
      "text/plain": [
       "False"
      ]
     },
     "execution_count": 146,
     "metadata": {},
     "output_type": "execute_result"
    }
   ],
   "source": [
    "kleinerTopologisch(g1, 2, 0)"
   ]
  },
  {
   "cell_type": "code",
   "execution_count": 147,
   "metadata": {},
   "outputs": [
    {
     "data": {
      "text/plain": [
       "True"
      ]
     },
     "execution_count": 147,
     "metadata": {},
     "output_type": "execute_result"
    }
   ],
   "source": [
    "kleinerTopologisch(g1, 2, 1)"
   ]
  },
  {
   "cell_type": "markdown",
   "metadata": {},
   "source": [
    "### Beispiel 2:\n",
    "\n",
    "Gegeben sei der folgende Graph:"
   ]
  },
  {
   "cell_type": "code",
   "execution_count": 148,
   "metadata": {},
   "outputs": [],
   "source": [
    "g2 = [\n",
    "    [0, 1, 0, 0],\n",
    "    [0, 0, 0, 0],\n",
    "    [0, 0, 0, 1],\n",
    "    [0, 0, 0, 0]\n",
    "]"
   ]
  },
  {
   "cell_type": "markdown",
   "metadata": {},
   "source": [
    "\n",
    "Hier ist Illustration des Graphen und der zugehörigen Ordnungsrelation:\n",
    "\n",
    "![](Topologische_Ordnungsrelation_Beispiel_2.jpg)\n",
    "\n",
    "Und nun testen wir unseren adaptierten Vergleichsoperator:"
   ]
  },
  {
   "cell_type": "code",
   "execution_count": 149,
   "metadata": {},
   "outputs": [
    {
     "name": "stdout",
     "output_type": "stream",
     "text": [
      "0 < 1 True\n",
      "0 < 2 False\n",
      "0 < 3 False\n",
      "1 < 0 False\n",
      "1 < 2 False\n",
      "1 < 3 False\n",
      "2 < 0 False\n",
      "2 < 1 False\n",
      "2 < 3 True\n",
      "3 < 0 False\n",
      "3 < 1 False\n",
      "3 < 2 False\n"
     ]
    }
   ],
   "source": [
    "\n",
    "print(\"0 < 1\", kleinerTopologisch(g2, 0, 1))\n",
    "print(\"0 < 2\", kleinerTopologisch(g2, 0, 2))\n",
    "print(\"0 < 3\", kleinerTopologisch(g2, 0, 3))\n",
    "\n",
    "print(\"1 < 0\", kleinerTopologisch(g2, 1, 0))\n",
    "print(\"1 < 2\", kleinerTopologisch(g2, 1, 2))\n",
    "print(\"1 < 3\", kleinerTopologisch(g2, 1, 3))\n",
    "\n",
    "print(\"2 < 0\", kleinerTopologisch(g2, 2, 0))\n",
    "print(\"2 < 1\", kleinerTopologisch(g2, 2, 1))\n",
    "print(\"2 < 3\", kleinerTopologisch(g2, 2, 3))\n",
    "\n",
    "print(\"3 < 0\", kleinerTopologisch(g2, 3, 0))\n",
    "print(\"3 < 1\", kleinerTopologisch(g2, 3, 1))\n",
    "print(\"3 < 2\", kleinerTopologisch(g2, 3, 2))"
   ]
  },
  {
   "cell_type": "markdown",
   "metadata": {},
   "source": [
    "#### Beispiel 3:\n",
    "\n",
    "Gegeben sei folgender Graph:"
   ]
  },
  {
   "cell_type": "code",
   "execution_count": 150,
   "metadata": {},
   "outputs": [],
   "source": [
    "g3 = [\n",
    "    [0, 1, 1, 1],\n",
    "    [0, 0, 0, 0],\n",
    "    [0, 0, 0, 1],\n",
    "    [0, 0, 0, 0]\n",
    "]"
   ]
  },
  {
   "cell_type": "markdown",
   "metadata": {},
   "source": [
    "Hier ist eine Visualisierung dieses Graphen:\n",
    "\n",
    "![](Topologische_Ordnungsrelation_Beispiel_3_Graph.jpg)\n",
    "\n",
    "Und hier ist eine Darstellung der zugehörigen Ordnungsrelation:\n",
    "\n",
    "![](Topologische_Ordnungsrelation_Beispiel_3_Menge.jpg)\n",
    "\n",
    "Nun testen wir wieder unseren adaptierten Vergleichsoperator:"
   ]
  },
  {
   "cell_type": "code",
   "execution_count": 151,
   "metadata": {},
   "outputs": [
    {
     "data": {
      "text/plain": [
       "True"
      ]
     },
     "execution_count": 151,
     "metadata": {},
     "output_type": "execute_result"
    }
   ],
   "source": [
    "kleinerTopologisch(g3, 0, 1)"
   ]
  },
  {
   "cell_type": "code",
   "execution_count": 152,
   "metadata": {},
   "outputs": [
    {
     "data": {
      "text/plain": [
       "True"
      ]
     },
     "execution_count": 152,
     "metadata": {},
     "output_type": "execute_result"
    }
   ],
   "source": [
    "kleinerTopologisch(g3, 0, 2)"
   ]
  },
  {
   "cell_type": "code",
   "execution_count": 153,
   "metadata": {},
   "outputs": [
    {
     "data": {
      "text/plain": [
       "True"
      ]
     },
     "execution_count": 153,
     "metadata": {},
     "output_type": "execute_result"
    }
   ],
   "source": [
    "kleinerTopologisch(g3, 0, 3)"
   ]
  },
  {
   "cell_type": "code",
   "execution_count": 154,
   "metadata": {},
   "outputs": [
    {
     "data": {
      "text/plain": [
       "False"
      ]
     },
     "execution_count": 154,
     "metadata": {},
     "output_type": "execute_result"
    }
   ],
   "source": [
    "kleinerTopologisch(g3, 1, 0)"
   ]
  },
  {
   "cell_type": "code",
   "execution_count": 155,
   "metadata": {},
   "outputs": [
    {
     "data": {
      "text/plain": [
       "False"
      ]
     },
     "execution_count": 155,
     "metadata": {},
     "output_type": "execute_result"
    }
   ],
   "source": [
    "kleinerTopologisch(g3, 1, 2)"
   ]
  },
  {
   "cell_type": "code",
   "execution_count": 156,
   "metadata": {},
   "outputs": [
    {
     "data": {
      "text/plain": [
       "False"
      ]
     },
     "execution_count": 156,
     "metadata": {},
     "output_type": "execute_result"
    }
   ],
   "source": [
    "kleinerTopologisch(g3, 1, 3)"
   ]
  },
  {
   "cell_type": "code",
   "execution_count": 157,
   "metadata": {},
   "outputs": [
    {
     "data": {
      "text/plain": [
       "False"
      ]
     },
     "execution_count": 157,
     "metadata": {},
     "output_type": "execute_result"
    }
   ],
   "source": [
    "kleinerTopologisch(g3, 2, 0)"
   ]
  },
  {
   "cell_type": "code",
   "execution_count": 158,
   "metadata": {},
   "outputs": [
    {
     "data": {
      "text/plain": [
       "False"
      ]
     },
     "execution_count": 158,
     "metadata": {},
     "output_type": "execute_result"
    }
   ],
   "source": [
    "kleinerTopologisch(g3, 2, 1)"
   ]
  },
  {
   "cell_type": "code",
   "execution_count": 159,
   "metadata": {},
   "outputs": [
    {
     "data": {
      "text/plain": [
       "True"
      ]
     },
     "execution_count": 159,
     "metadata": {},
     "output_type": "execute_result"
    }
   ],
   "source": [
    "kleinerTopologisch(g3, 2, 3)"
   ]
  },
  {
   "cell_type": "code",
   "execution_count": 160,
   "metadata": {},
   "outputs": [
    {
     "data": {
      "text/plain": [
       "False"
      ]
     },
     "execution_count": 160,
     "metadata": {},
     "output_type": "execute_result"
    }
   ],
   "source": [
    "kleinerTopologisch(g3, 3, 0)"
   ]
  },
  {
   "cell_type": "code",
   "execution_count": 161,
   "metadata": {},
   "outputs": [
    {
     "data": {
      "text/plain": [
       "False"
      ]
     },
     "execution_count": 161,
     "metadata": {},
     "output_type": "execute_result"
    }
   ],
   "source": [
    "kleinerTopologisch(g3, 3, 1)"
   ]
  },
  {
   "cell_type": "code",
   "execution_count": 162,
   "metadata": {},
   "outputs": [
    {
     "data": {
      "text/plain": [
       "False"
      ]
     },
     "execution_count": 162,
     "metadata": {},
     "output_type": "execute_result"
    }
   ],
   "source": [
    "kleinerTopologisch(g3, 3, 2)"
   ]
  },
  {
   "cell_type": "markdown",
   "metadata": {},
   "source": [
    "## 4. Die Funktion `sortiereTopologisch`\n",
    "\n",
    "Nutzung eines bekannten Sortierverfahrens mit einem adaptierten Vergleichsoperator.\n",
    "\n",
    "### 4.1. Funktionssignatur\n",
    "\n",
    "![](Topologische_Sortierung_Funktionssignatur.jpg)\n",
    "\n",
    "### 4.2. Funktionskörper"
   ]
  },
  {
   "cell_type": "code",
   "execution_count": 163,
   "metadata": {},
   "outputs": [],
   "source": [
    "def sortiereTopologisch(graph: Graph) -> list[Knoten]:\n",
    "    \n",
    "    # Knotenliste initialisieren\n",
    "\n",
    "    ergebnis: list[Knoten] = []\n",
    "\n",
    "    for knoten in range(len(graph)):\n",
    "        ergebnis.append(knoten)\n",
    "\n",
    "    # Knotenliste soriteren\n",
    "\n",
    "    for bereich in range(len(graph) - 1):\n",
    "\n",
    "        print(f\"bereich = [0, {len(graph) - bereich})\")\n",
    "\n",
    "        # Maximum suchen\n",
    "\n",
    "        knotenMax = ergebnis[0]\n",
    "        indexMax = 0\n",
    "        \n",
    "        for stelle in range(1, len(graph) - bereich):\n",
    "\n",
    "            knotenCur = ergebnis[stelle]\n",
    "\n",
    "            if kleinerTopologisch(graph, knotenMax, knotenCur):\n",
    "                \n",
    "                knotenMax = knotenCur\n",
    "                indexMax = stelle\n",
    "        \n",
    "        # Größten Knoten ans Ende stellen\n",
    "\n",
    "        print(f\" - knotenMax = {knotenMax}\")\n",
    "\n",
    "        temp = ergebnis[len(graph) - bereich - 1]\n",
    "\n",
    "        ergebnis[len(graph) - bereich - 1] = knotenMax\n",
    "        ergebnis[indexMax] = temp\n",
    "            \n",
    "        print(f\" - ergebnis = {ergebnis}\")\n",
    "\n",
    "    return ergebnis"
   ]
  },
  {
   "cell_type": "markdown",
   "metadata": {},
   "source": [
    "### 4.3. Anwendungsbeispiele\n",
    "\n",
    "#### Beispiel 1:\n",
    "\n",
    "![](Topologische_Sortierung_Beispiel_1.jpg)"
   ]
  },
  {
   "cell_type": "code",
   "execution_count": 164,
   "metadata": {},
   "outputs": [
    {
     "name": "stdout",
     "output_type": "stream",
     "text": [
      "bereich = [0, 3)\n",
      " - knotenMax = 1\n",
      " - ergebnis = [0, 2, 1]\n",
      "bereich = [0, 2)\n",
      " - knotenMax = 2\n",
      " - ergebnis = [0, 2, 1]\n"
     ]
    },
    {
     "data": {
      "text/plain": [
       "[0, 2, 1]"
      ]
     },
     "execution_count": 164,
     "metadata": {},
     "output_type": "execute_result"
    }
   ],
   "source": [
    "sortiereTopologisch(g1)"
   ]
  },
  {
   "cell_type": "markdown",
   "metadata": {},
   "source": [
    "#### Beispiel 2:\n",
    "\n",
    "![](Topologische_Sortierung_Beispiel_2.jpg)"
   ]
  },
  {
   "cell_type": "code",
   "execution_count": 165,
   "metadata": {},
   "outputs": [
    {
     "name": "stdout",
     "output_type": "stream",
     "text": [
      "bereich = [0, 4)\n",
      " - knotenMax = 1\n",
      " - ergebnis = [0, 3, 2, 1]\n",
      "bereich = [0, 3)\n",
      " - knotenMax = 0\n",
      " - ergebnis = [2, 3, 0, 1]\n",
      "bereich = [0, 2)\n",
      " - knotenMax = 3\n",
      " - ergebnis = [2, 3, 0, 1]\n"
     ]
    },
    {
     "data": {
      "text/plain": [
       "[2, 3, 0, 1]"
      ]
     },
     "execution_count": 165,
     "metadata": {},
     "output_type": "execute_result"
    }
   ],
   "source": [
    "sortiereTopologisch(g2)"
   ]
  },
  {
   "cell_type": "markdown",
   "metadata": {},
   "source": [
    "#### Beispiel 3:\n",
    "\n",
    "![](Topologische_Sortierung_Beispiel_3.jpg)"
   ]
  },
  {
   "cell_type": "code",
   "execution_count": 166,
   "metadata": {},
   "outputs": [
    {
     "name": "stdout",
     "output_type": "stream",
     "text": [
      "bereich = [0, 4)\n",
      " - knotenMax = 1\n",
      " - ergebnis = [0, 3, 2, 1]\n",
      "bereich = [0, 3)\n",
      " - knotenMax = 3\n",
      " - ergebnis = [0, 2, 3, 1]\n",
      "bereich = [0, 2)\n",
      " - knotenMax = 2\n",
      " - ergebnis = [0, 2, 3, 1]\n"
     ]
    },
    {
     "data": {
      "text/plain": [
       "[0, 2, 3, 1]"
      ]
     },
     "execution_count": 166,
     "metadata": {},
     "output_type": "execute_result"
    }
   ],
   "source": [
    "sortiereTopologisch(g3)"
   ]
  },
  {
   "cell_type": "markdown",
   "metadata": {},
   "source": [
    "#### Beispiel 4:\n",
    "\n",
    "![](Topologische_Sortierung_Beispiel_4.jpg)"
   ]
  },
  {
   "cell_type": "code",
   "execution_count": 167,
   "metadata": {},
   "outputs": [
    {
     "name": "stdout",
     "output_type": "stream",
     "text": [
      "bereich = [0, 5)\n",
      " - knotenMax = 1\n",
      " - ergebnis = [0, 4, 2, 3, 1]\n",
      "bereich = [0, 4)\n",
      " - knotenMax = 3\n",
      " - ergebnis = [0, 4, 2, 3, 1]\n",
      "bereich = [0, 3)\n",
      " - knotenMax = 2\n",
      " - ergebnis = [0, 4, 2, 3, 1]\n",
      "bereich = [0, 2)\n",
      " - knotenMax = 0\n",
      " - ergebnis = [4, 0, 2, 3, 1]\n"
     ]
    },
    {
     "data": {
      "text/plain": [
       "[4, 0, 2, 3, 1]"
      ]
     },
     "execution_count": 167,
     "metadata": {},
     "output_type": "execute_result"
    }
   ],
   "source": [
    "sortiereTopologisch([\n",
    "    [0, 1, 1, 1, 0],\n",
    "    [0, 0, 0, 0, 0],\n",
    "    [0, 0, 0, 1, 0],\n",
    "    [0, 0, 0, 0, 0],\n",
    "    [0, 0, 1, 0, 0],\n",
    "])"
   ]
  }
 ],
 "metadata": {
  "kernelspec": {
   "display_name": "Python 3",
   "language": "python",
   "name": "python3"
  },
  "language_info": {
   "codemirror_mode": {
    "name": "ipython",
    "version": 3
   },
   "file_extension": ".py",
   "mimetype": "text/x-python",
   "name": "python",
   "nbconvert_exporter": "python",
   "pygments_lexer": "ipython3",
   "version": "3.12.2"
  }
 },
 "nbformat": 4,
 "nbformat_minor": 2
}
