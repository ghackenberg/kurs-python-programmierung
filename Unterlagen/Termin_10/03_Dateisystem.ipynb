{
 "cells": [
  {
   "cell_type": "markdown",
   "metadata": {},
   "source": [
    "# Dateisystem"
   ]
  },
  {
   "cell_type": "markdown",
   "metadata": {},
   "source": [
    "## 1. Datei lesen"
   ]
  },
  {
   "cell_type": "markdown",
   "metadata": {},
   "source": [
    "### 1.1. Einzelne Zeichen lesen"
   ]
  },
  {
   "cell_type": "code",
   "execution_count": 26,
   "metadata": {},
   "outputs": [
    {
     "name": "stdout",
     "output_type": "stream",
     "text": [
      "Zeichen = V\n",
      "Zeichen = o\n",
      "Zeichen = r\n",
      "Zeichen = n\n",
      "Zeichen = a\n",
      "Zeichen = m\n",
      "Zeichen = e\n",
      "Zeichen = ;\n",
      "Zeichen = N\n",
      "Zeichen = a\n",
      "Zeichen = c\n",
      "Zeichen = h\n",
      "Zeichen = n\n",
      "Zeichen = a\n",
      "Zeichen = m\n",
      "Zeichen = e\n",
      "Zeichen = ;\n",
      "Zeichen = A\n",
      "Zeichen = l\n",
      "Zeichen = t\n",
      "Zeichen = e\n",
      "Zeichen = r\n",
      "Zeichen = ;\n",
      "Zeichen = G\n",
      "Zeichen = e\n",
      "Zeichen = s\n",
      "Zeichen = c\n",
      "Zeichen = h\n",
      "Zeichen = l\n",
      "Zeichen = e\n",
      "Zeichen = c\n",
      "Zeichen = h\n",
      "Zeichen = t\n",
      "Zeichen = \n",
      "\n",
      "Zeichen = H\n",
      "Zeichen = a\n",
      "Zeichen = n\n",
      "Zeichen = s\n",
      "Zeichen = ;\n",
      "Zeichen = M\n",
      "Zeichen = u\n",
      "Zeichen = s\n",
      "Zeichen = t\n",
      "Zeichen = e\n",
      "Zeichen = r\n",
      "Zeichen = ;\n",
      "Zeichen = 2\n",
      "Zeichen = 5\n",
      "Zeichen = ;\n",
      "Zeichen = M\n",
      "Zeichen = ä\n",
      "Zeichen = n\n",
      "Zeichen = n\n",
      "Zeichen = l\n",
      "Zeichen = i\n",
      "Zeichen = c\n",
      "Zeichen = h\n",
      "Zeichen = \n",
      "\n",
      "Zeichen = J\n",
      "Zeichen = u\n",
      "Zeichen = l\n",
      "Zeichen = i\n",
      "Zeichen = a\n",
      "Zeichen = ;\n",
      "Zeichen = M\n",
      "Zeichen = u\n",
      "Zeichen = s\n",
      "Zeichen = t\n",
      "Zeichen = e\n",
      "Zeichen = r\n",
      "Zeichen = ;\n",
      "Zeichen = 2\n",
      "Zeichen = 3\n",
      "Zeichen = ;\n",
      "Zeichen = W\n",
      "Zeichen = e\n",
      "Zeichen = i\n",
      "Zeichen = b\n",
      "Zeichen = l\n",
      "Zeichen = i\n",
      "Zeichen = c\n",
      "Zeichen = h\n"
     ]
    }
   ],
   "source": [
    "datei = open(\"Eingabe.csv\", \"r\", encoding='UTF-8')\n",
    "\n",
    "while True:\n",
    "    zeichen = datei.read(1)\n",
    "    if zeichen:\n",
    "        print(f\"Zeichen = {zeichen}\")\n",
    "    else:\n",
    "        break\n",
    "\n",
    "datei.close()"
   ]
  },
  {
   "cell_type": "markdown",
   "metadata": {},
   "source": [
    "### 1.2. Einzelne Zeilen lesen"
   ]
  },
  {
   "cell_type": "code",
   "execution_count": 27,
   "metadata": {},
   "outputs": [
    {
     "name": "stdout",
     "output_type": "stream",
     "text": [
      "Zeile: Vorname;Nachname;Alter;Geschlecht\n",
      "\n",
      "Zeile: Hans;Muster;25;Männlich\n",
      "\n",
      "Zeile: Julia;Muster;23;Weiblich\n"
     ]
    }
   ],
   "source": [
    "datei = open(\"Eingabe.csv\", \"r\", encoding='UTF-8')\n",
    "\n",
    "while True:\n",
    "    zeile = datei.readline()\n",
    "    if zeile:\n",
    "        print(f\"Zeile: {zeile}\")\n",
    "    else:\n",
    "        break\n",
    "\n",
    "datei.close()"
   ]
  },
  {
   "cell_type": "code",
   "execution_count": 25,
   "metadata": {},
   "outputs": [
    {
     "name": "stdout",
     "output_type": "stream",
     "text": [
      "Zeile: Vorname;Nachname;Alter;Geschlecht\n",
      "\n",
      "Zeile: Hans;Muster;25;Männlich\n",
      "\n",
      "Zeile: Julia;Muster;23;Weiblich\n"
     ]
    }
   ],
   "source": [
    "datei = open(\"Eingabe.csv\", \"r\", encoding='UTF-8')\n",
    "\n",
    "for zeile in datei:\n",
    "    print(f\"Zeile: {zeile}\")\n",
    "\n",
    "datei.close()"
   ]
  },
  {
   "cell_type": "markdown",
   "metadata": {},
   "source": [
    "## 2. Datei schreiben"
   ]
  }
 ],
 "metadata": {
  "kernelspec": {
   "display_name": "Python 3",
   "language": "python",
   "name": "python3"
  },
  "language_info": {
   "codemirror_mode": {
    "name": "ipython",
    "version": 3
   },
   "file_extension": ".py",
   "mimetype": "text/x-python",
   "name": "python",
   "nbconvert_exporter": "python",
   "pygments_lexer": "ipython3",
   "version": "3.12.2"
  }
 },
 "nbformat": 4,
 "nbformat_minor": 2
}
