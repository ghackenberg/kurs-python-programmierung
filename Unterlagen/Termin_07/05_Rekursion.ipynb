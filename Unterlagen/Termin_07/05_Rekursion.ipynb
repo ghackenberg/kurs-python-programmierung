{
 "cells": [
  {
   "cell_type": "markdown",
   "metadata": {},
   "source": [
    "# Rekursion\n",
    "\n",
    "Rekursive Funktionen sind Funktionen, die sich selber aufrufen. Es muss eine Abbruchbedingung für die rekursiven Aufrufe geben, sonst entsteht quasi eine Endlosschleife von rekursiven Funktionsaufrufen."
   ]
  },
  {
   "cell_type": "markdown",
   "metadata": {},
   "source": [
    "## 1. Exponentialfunktion"
   ]
  },
  {
   "cell_type": "code",
   "execution_count": null,
   "metadata": {},
   "outputs": [
    {
     "data": {
      "text/plain": [
       "25"
      ]
     },
     "metadata": {},
     "output_type": "display_data"
    }
   ],
   "source": [
    "def exponetialFunktion(basis: float, exponent: int):\n",
    "    if exponent == 0:\n",
    "        return 1\n",
    "    else:\n",
    "        return basis * exponetialFunktion(basis, exponent - 1)\n",
    "\n",
    "exponetialFunktion(5, 2)"
   ]
  },
  {
   "cell_type": "markdown",
   "metadata": {},
   "source": [
    "## 2. Fakultätsfunktion"
   ]
  },
  {
   "cell_type": "code",
   "execution_count": null,
   "metadata": {},
   "outputs": [
    {
     "data": {
      "text/plain": [
       "120"
      ]
     },
     "metadata": {},
     "output_type": "display_data"
    }
   ],
   "source": [
    "def fakultätsFunktion(n: int):\n",
    "    if n == 0:\n",
    "        return 1\n",
    "    else:\n",
    "        return n * fakultätsFunktion(n - 1)\n",
    "\n",
    "\n",
    "fakultätsFunktion(5)"
   ]
  },
  {
   "cell_type": "markdown",
   "metadata": {},
   "source": [
    "## 3. Blattpfade"
   ]
  },
  {
   "cell_type": "markdown",
   "metadata": {},
   "source": [
    "### 3.1. Baumstruktur als geschachtelte Listen"
   ]
  },
  {
   "cell_type": "code",
   "execution_count": 3,
   "metadata": {},
   "outputs": [
    {
     "name": "stdout",
     "output_type": "stream",
     "text": [
      "Baum 1\n",
      " 1\n",
      "\n",
      "Baum 2\n",
      " - 1\n",
      " - 2\n",
      "\n",
      "Baum 3\n",
      " - 1\n",
      " - - 2\n",
      " - - 3\n",
      "\n",
      "Baum 4\n",
      " - - 1\n",
      " - - - 2\n",
      " - - - 3\n",
      " - - 4\n",
      " - 5\n",
      " - - 6\n",
      " - - - 7\n",
      " - - - 8\n"
     ]
    }
   ],
   "source": [
    "def blattpfade(baum, prefix = \"\"):\n",
    "    if type(baum) is list:\n",
    "        for element in baum:\n",
    "            blattpfade(element, f\"{prefix} -\")\n",
    "    else:\n",
    "        print(f\"{prefix} {baum}\")\n",
    "\n",
    "print(\"Baum 1\")\n",
    "blattpfade(1)\n",
    "print()\n",
    "\n",
    "print(\"Baum 2\")\n",
    "blattpfade([1, 2])\n",
    "print()\n",
    "\n",
    "print(\"Baum 3\")\n",
    "blattpfade([1, [2, 3]])\n",
    "print()\n",
    "\n",
    "print(\"Baum 4\")\n",
    "blattpfade([[1, [2, 3], 4], 5, [6, [7, 8]]])"
   ]
  },
  {
   "cell_type": "markdown",
   "metadata": {},
   "source": [
    "### 3.2. Baumstruktur als geschachtelte Dictionaries"
   ]
  },
  {
   "cell_type": "code",
   "execution_count": 7,
   "metadata": {},
   "outputs": [
    {
     "name": "stdout",
     "output_type": "stream",
     "text": [
      "Baum 1\n",
      " / 1\n",
      "\n",
      "Baum 2\n",
      " / a / 1\n",
      "\n",
      "Baum 3\n",
      " / a / b / 1\n",
      " / a / c / 2\n",
      " / d / 3\n"
     ]
    }
   ],
   "source": [
    "def blattpfade(baum, prefix = \"\"):\n",
    "    if type(baum) is dict:\n",
    "        for element in baum:\n",
    "            blattpfade(baum[element], f\"{prefix} / {element}\")\n",
    "    else:\n",
    "        print(f\"{prefix} / {baum}\")\n",
    "\n",
    "print(\"Baum 1\")\n",
    "blattpfade(1)\n",
    "print()\n",
    "\n",
    "print(\"Baum 2\")\n",
    "blattpfade({ \"a\": 1 })\n",
    "print()\n",
    "\n",
    "print(\"Baum 3\")\n",
    "blattpfade({ \"a\": { \"b\": 1, \"c\": 2 }, \"d\": 3 })"
   ]
  },
  {
   "cell_type": "markdown",
   "metadata": {},
   "source": [
    "## 4. \"Schnelle\" Sortierung\n",
    "\n",
    "Quicksort ist ein schneller Algorithmus für die Sortierung von Werten (siehe https://de.wikipedia.org/wiki/Quicksort). Die Grundidee ist, die Liste anhand eines Pivotelements in zwei Teile zu teilen. Der eine Teil enthält alle Element, die kleiner oder gleich dem Pivotelement sind. Der zweite Teil enthält alle Element, die größer dem Pivotelement sind. Danach kann das Verfahren rekursiv auf die beiden Teile angewendet werden. Dadurch kann man sich den Vergleich der Element aus dem einen Teil mit Elementen aus dem anderen Teil sparen."
   ]
  },
  {
   "cell_type": "code",
   "execution_count": null,
   "metadata": {},
   "outputs": [
    {
     "name": "stdout",
     "output_type": "stream",
     "text": [
      "Teile daten = [0, 6, 5, 3, 1, 2, 4], links = 0, rechts = 6, pivot = 4\n",
      "- daten[0] = 0 <= 4\n",
      "- daten[1] = 6 > daten[5] = 2 => daten = [0, 2, 5, 3, 1, 6, 4]\n",
      "- daten[1] = 2 <= 4\n",
      "- daten[5] = 6 > 4\n",
      "- daten[2] = 5 > daten[4] = 1 => daten = [0, 2, 1, 3, 5, 6, 4]\n",
      "- daten[2] = 1 <= 4\n",
      "- daten[3] = 3 <= 4\n",
      "- daten[4] = 5 > daten[6] = 4 => daten = [0, 2, 1, 3, 4, 6, 5]\n",
      "\n",
      "Teile daten = [0, 2, 1, 3, 4, 6, 5], links = 0, rechts = 3, pivot = 3\n",
      "- daten[0] = 0 <= 3\n",
      "- daten[1] = 2 <= 3\n",
      "\n",
      "Teile daten = [0, 2, 1, 3, 4, 6, 5], links = 0, rechts = 2, pivot = 1\n",
      "- daten[0] = 0 <= 1\n",
      "- daten[1] = 2 > daten[2] = 1 => daten = [0, 1, 2, 3, 4, 6, 5]\n",
      "\n",
      "Teile daten = [0, 1, 2, 3, 4, 6, 5], links = 5, rechts = 6, pivot = 5\n",
      "- daten[5] = 6 > daten[6] = 5 => daten = [0, 1, 2, 3, 4, 5, 6]\n",
      "\n",
      "Ergebnis = [0, 1, 2, 3, 4, 5, 6]\n"
     ]
    }
   ],
   "source": [
    "def quicksort(daten: list[int], links: int, rechts: int):\n",
    "\n",
    "    # Parameter \"links\" und \"rechts\" initialisieren\n",
    "    if links is None:\n",
    "        links = 0\n",
    "    if rechts is None:\n",
    "        rechts = len(daten) - 1\n",
    "\n",
    "    # Sortierung durchführen\n",
    "    if links < rechts:\n",
    "\n",
    "        # Liste anhand von Pivotelement umsortieren\n",
    "        teiler = teile(daten, links, rechts)\n",
    "\n",
    "        # Linken Teil der Liste rekursiv soriteren\n",
    "        quicksort(daten, links, teiler - 1)\n",
    "\n",
    "        # Rechten Teil der Liste rekursiv sortieren\n",
    "        quicksort(daten, teiler + 1, rechts)\n",
    "\n",
    "def teile(daten, links, rechts):\n",
    "\n",
    "    # Pivot Element festlegen\n",
    "    pivot = daten[rechts]\n",
    "    \n",
    "    # Debug\n",
    "    print(f\"Teile daten = {daten}, links = {links}, rechts = {rechts}, pivot = {pivot}\")\n",
    "\n",
    "    # Variablen für die Iteration festlergen\n",
    "    i = links\n",
    "    j = rechts - 1\n",
    "\n",
    "    # Iteration durchführen\n",
    "    while i < j:\n",
    "\n",
    "        # Suche von links größeren Wert\n",
    "        while i < j and daten[i] <= pivot:\n",
    "\n",
    "            # Debug\n",
    "            print(f\"- daten[{i}] = {daten[i]} <= {pivot}\")\n",
    "\n",
    "            i = i + 1\n",
    "\n",
    "        # Suche von rechts kleineren Wert\n",
    "        while j > i and daten[j] > pivot:\n",
    "\n",
    "            # Debug\n",
    "            print(f\"- daten[{j}] = {daten[j]} > {pivot}\")\n",
    "\n",
    "            j = j - 1\n",
    "\n",
    "        # Tausche größeren und kleineren Wert\n",
    "        if daten[i] > daten[j]:\n",
    "\n",
    "            temp = daten[i]\n",
    "            daten[i] = daten[j]\n",
    "            daten[j] = temp\n",
    "\n",
    "            # Debug\n",
    "            print(f\"- daten[{i}] = {daten[j]} > daten[{j}] = {daten[i]} => daten = {daten}\")\n",
    "    \n",
    "    # Tausche größeren Wert und Pivot\n",
    "    if daten[i] > pivot:\n",
    "\n",
    "        temp = daten[i]\n",
    "        daten[i] = pivot\n",
    "        daten[rechts] = temp\n",
    "\n",
    "        # Debug\n",
    "        print(f\"- daten[{i}] = {daten[rechts]} > daten[{rechts}] = {daten[i]} => daten = {daten}\")\n",
    "\n",
    "    else:\n",
    "\n",
    "        i = rechts\n",
    "    \n",
    "    # Debug\n",
    "    print()\n",
    "    \n",
    "    return i\n",
    "\n",
    "a = [0, 6, 5, 3, 1, 2, 4]\n",
    "\n",
    "quicksort(a, 0, len(a) - 1)\n",
    "\n",
    "print(f\"Ergebnis = {a}\")"
   ]
  },
  {
   "cell_type": "markdown",
   "metadata": {},
   "source": [
    "## 5. Türme von Hanoi\n",
    "\n",
    "Die Türme von Hanoi ist ein Spiel mit drei Stäben mit einem Turm von verschieden großen Scheiben (siehe https://de.wikipedia.org/wiki/T%C3%BCrme_von_Hanoi).\n",
    "\n",
    "![](https://upload.wikimedia.org/wikipedia/commons/0/07/Tower_of_Hanoi.jpeg)\n",
    "\n",
    "Ziel des Spieles ist es, den Turm von einem Stab zu einem anderen Stab zu bewegen. In jedem Spielzug darf nur eine Scheibe bewegt werden. Es darf niemals eine größere auf eine kleiner Scheibe gelegt werden."
   ]
  },
  {
   "cell_type": "code",
   "execution_count": null,
   "metadata": {},
   "outputs": [
    {
     "name": "stdout",
     "output_type": "stream",
     "text": [
      "{'Stab A': [3, 2, 1], 'Stab B': [], 'Stab C': []}\n",
      "3 Scheiben von Stab A über Stab B nach Stab C\n",
      "\t2 Scheiben von Stab A über Stab C nach Stab B\n",
      "\t\t1 Scheiben von Stab A über Stab B nach Stab C\n",
      "\t\t- Scheibe 1 von Stab A nach Stab C\n",
      "\t\t- {'Stab A': [3, 2], 'Stab B': [], 'Stab C': [1]}\n",
      "\t- Scheibe 2 von Stab A nach Stab B\n",
      "\t- {'Stab A': [3], 'Stab B': [2], 'Stab C': [1]}\n",
      "\t\t1 Scheiben von Stab C über Stab A nach Stab B\n",
      "\t\t- Scheibe 1 von Stab C nach Stab B\n",
      "\t\t- {'Stab A': [3], 'Stab B': [2, 1], 'Stab C': []}\n",
      "- Scheibe 3 von Stab A nach Stab C\n",
      "- {'Stab A': [], 'Stab B': [2, 1], 'Stab C': [3]}\n",
      "\t2 Scheiben von Stab B über Stab A nach Stab C\n",
      "\t\t1 Scheiben von Stab B über Stab C nach Stab A\n",
      "\t\t- Scheibe 1 von Stab B nach Stab A\n",
      "\t\t- {'Stab A': [1], 'Stab B': [2], 'Stab C': [3]}\n",
      "\t- Scheibe 2 von Stab B nach Stab C\n",
      "\t- {'Stab A': [1], 'Stab B': [], 'Stab C': [3, 2]}\n",
      "\t\t1 Scheiben von Stab A über Stab B nach Stab C\n",
      "\t\t- Scheibe 1 von Stab A nach Stab C\n",
      "\t\t- {'Stab A': [], 'Stab B': [], 'Stab C': [3, 2, 1]}\n"
     ]
    }
   ],
   "source": [
    "# Spielfeld initialisieren\n",
    "spielfeld: dict[str, list[int]] = { \"Stab A\": [3, 2, 1], \"Stab B\": [], \"Stab C\": [] }\n",
    "\n",
    "# Berechnung der Turmgröße\n",
    "turmgröße = len(spielfeld[\"Stab A\"])\n",
    "\n",
    "def hanoi(zahl, quelle, ablage, ziel):\n",
    "\n",
    "    if zahl > 0:\n",
    "\n",
    "        # Einrückung berechnen\n",
    "        einrückung = \"\"\n",
    "        for i in range(turmgröße - zahl):\n",
    "            einrückung = einrückung + \"\\t\"\n",
    "        \n",
    "        # Parameter ausgeben\n",
    "        print(f\"{einrückung}{zahl} Scheiben von {quelle} über {ablage} nach {ziel}\")\n",
    "\n",
    "        # Turm ab zweitgrößter Scheibe auf den Zwischenstab legen\n",
    "        hanoi(zahl - 1, quelle, ziel, ablage)\n",
    "\n",
    "        # Größte Scheibe vom Quellstab nehmen\n",
    "        scheibe = spielfeld[quelle].pop()\n",
    "\n",
    "        # Größte Scheibe ausgeben\n",
    "        print(f\"{einrückung}- Scheibe {scheibe} von {quelle} nach {ziel}\")\n",
    "\n",
    "        # Größte Scheibe auf den Zielstab legen\n",
    "        spielfeld[ziel].append(scheibe)\n",
    "\n",
    "        # Spielfeld ausgeben\n",
    "        print(f\"{einrückung}- {spielfeld}\")\n",
    "\n",
    "        # Turm ab zweitgrößter Scheibe vom Zwischenstab auf den Zielstab legen\n",
    "        hanoi(zahl - 1, ablage, quelle, ziel)\n",
    "\n",
    "# Spielfeld ausgeben\n",
    "print(spielfeld)\n",
    "\n",
    "# Lösung berechnen\n",
    "hanoi(turmgröße, \"Stab A\", \"Stab B\", \"Stab C\")"
   ]
  }
 ],
 "metadata": {
  "kernelspec": {
   "display_name": "Python 3",
   "language": "python",
   "name": "python3"
  },
  "language_info": {
   "codemirror_mode": {
    "name": "ipython",
    "version": 3
   },
   "file_extension": ".py",
   "mimetype": "text/x-python",
   "name": "python",
   "nbconvert_exporter": "python",
   "pygments_lexer": "ipython3",
   "version": "3.12.2"
  }
 },
 "nbformat": 4,
 "nbformat_minor": 2
}
