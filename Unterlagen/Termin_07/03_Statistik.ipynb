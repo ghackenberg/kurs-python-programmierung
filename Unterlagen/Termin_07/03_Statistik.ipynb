{
 "cells": [
  {
   "cell_type": "markdown",
   "metadata": {},
   "source": [
    "# Statistik"
   ]
  },
  {
   "cell_type": "markdown",
   "metadata": {},
   "source": [
    "## 1. Mittelwert\n",
    "\n",
    "Beachte: Für die Berechnung des Mittelwerts verwenden wir die Funktion `len`."
   ]
  },
  {
   "cell_type": "code",
   "execution_count": 62,
   "metadata": {},
   "outputs": [
    {
     "name": "stdout",
     "output_type": "stream",
     "text": [
      "mittelwert = 0.625\n"
     ]
    }
   ],
   "source": [
    "liste = [0, 7, 9, -4, -10, 3, 95, 5]\n",
    "\n",
    "mittelwert = 0\n",
    "\n",
    "for listen_wert in liste:\n",
    "    mittelwert = listen_wert / len(liste)\n",
    "\n",
    "print(f\"mittelwert = {mittelwert}\")"
   ]
  },
  {
   "cell_type": "markdown",
   "metadata": {},
   "source": [
    "## 2. Standardabweichung\n",
    "\n",
    "Beachte: Für die Berechnung der Standardabweichung verwenden wir die Funktion `pow` sowie die Funktion `sqrt` aus dem Modul `math`."
   ]
  },
  {
   "cell_type": "code",
   "execution_count": 63,
   "metadata": {},
   "outputs": [
    {
     "name": "stdout",
     "output_type": "stream",
     "text": [
      "mittelwert = 0.625\n",
      "standardabweichung = 1.5467960838455728\n"
     ]
    }
   ],
   "source": [
    "import math\n",
    "\n",
    "liste = [0, 7, 9, -4, -10, 3, 95, 5]\n",
    "\n",
    "# Mittelwert berechnen\n",
    "\n",
    "mittelwert = 0\n",
    "\n",
    "for listen_wert in liste:\n",
    "    mittelwert = listen_wert / len(liste)\n",
    "\n",
    "print(f\"mittelwert = {mittelwert}\")\n",
    "\n",
    "# Standardabweichung\n",
    "\n",
    "standardabweichung = 0\n",
    "\n",
    "for listen_wert in liste:\n",
    "    standardabweichung = pow(listen_wert - mittelwert, 2) / len(liste)\n",
    "\n",
    "standardabweichung = math.sqrt(standardabweichung)\n",
    "\n",
    "print(f\"standardabweichung = {standardabweichung}\")"
   ]
  },
  {
   "cell_type": "markdown",
   "metadata": {},
   "source": [
    "## 3. Histogramm\n",
    "\n",
    "Beachte: Für die Berechnung des Histogramms verwenden die Funktionen `min` und `max`."
   ]
  },
  {
   "cell_type": "code",
   "execution_count": 69,
   "metadata": {},
   "outputs": [
    {
     "name": "stdout",
     "output_type": "stream",
     "text": [
      "minimum = 0\n",
      "maximum = 10\n",
      "histogram_mittelwert (vorher) = [0.0, 1.0, 2.0, 3.0, 4.0, 5.0, 6.0, 7.0, 8.0, 9.0, 10.0]\n",
      "histogram_anzahl (vorher) = [0, 0, 0, 0, 0, 0, 0, 0, 0, 0, 0]\n",
      "histogram_mittelwert (nachher) = [0.0, 1.0, 2.0, 3.0, 4.0, 5.0, 6.0, 7.0, 8.0, 9.0, 10.0]\n",
      "histogram_anzahl (nachher) = [1, 2, 3, 0, 1, 1, 0, 0, 0, 0, 1]\n"
     ]
    }
   ],
   "source": [
    "liste = [0, 1, 2, 2, 4, 1, 5, 2, 10]\n",
    "\n",
    "bin_anzahl = 11\n",
    "\n",
    "# Minimum und Maximum berechnen\n",
    "\n",
    "minimum = min(liste)\n",
    "maximum = max(liste)\n",
    "\n",
    "print(f\"minimum = {minimum}\")\n",
    "print(f\"maximum = {maximum}\")\n",
    "\n",
    "# Histogramm-Datenstruktur initialisieren\n",
    "\n",
    "histogramm_mittelwert = []\n",
    "histogramm_anzahl = []\n",
    "\n",
    "for bin_index in range(bin_anzahl):\n",
    "    \n",
    "    bin_mittelwert = minimum + (maximum - minimum) * (bin_index) / (bin_anzahl - 1)\n",
    "    bin_gewicht = 0\n",
    "\n",
    "    histogramm_mittelwert.append(bin_mittelwert)\n",
    "    histogramm_anzahl.append(bin_gewicht)\n",
    "\n",
    "print(f\"histogram_mittelwert (vorher) = {histogramm_mittelwert}\")\n",
    "print(f\"histogram_anzahl (vorher) = {histogramm_anzahl}\")\n",
    "\n",
    "# Histogramm berechnen\n",
    "\n",
    "for listen_wert in liste:\n",
    "\n",
    "    # Index des Korbes berechnen\n",
    "    bin_index = (listen_wert - minimum) * (bin_anzahl - 1) // (maximum - minimum)\n",
    "\n",
    "    # Inhalt des Korbes um eins erhöhen\n",
    "    histogramm_anzahl[bin_index] = histogramm_anzahl[bin_index] + 1\n",
    "\n",
    "print(f\"histogram_mittelwert (nachher) = {histogramm_mittelwert}\")\n",
    "print(f\"histogram_anzahl (nachher) = {histogramm_anzahl}\")"
   ]
  },
  {
   "cell_type": "markdown",
   "metadata": {},
   "source": [
    "## 4. Histogramm zeichnen\n",
    "\n",
    "Das Histogramm kann mit dem Modul `matplotlib` auch gezeichnet werden. Dazu muss zunächst das Modul mittels `pip` installiert werden:\n",
    "\n",
    "```sh\n",
    "pip install matplotlib\n",
    "```\n",
    "\n",
    "Danach kann der folgende Quelltext ausgeführt werden, welcher das Histogramm zeichnet und in das Jupyter Notebook einbettet."
   ]
  },
  {
   "cell_type": "code",
   "execution_count": 70,
   "metadata": {},
   "outputs": [
    {
     "data": {
      "text/plain": [
       "<BarContainer object of 11 artists>"
      ]
     },
     "execution_count": 70,
     "metadata": {},
     "output_type": "execute_result"
    },
    {
     "data": {
      "image/png": "[encoded data removed]",
      "text/plain": [
       "<Figure size 640x480 with 1 Axes>"
      ]
     },
     "metadata": {},
     "output_type": "display_data"
    }
   ],
   "source": [
    "import matplotlib.pyplot\n",
    "\n",
    "matplotlib.pyplot.bar(histogramm_mittelwert, histogramm_anzahl)"
   ]
  }
 ],
 "metadata": {
  "kernelspec": {
   "display_name": "Python 3",
   "language": "python",
   "name": "python3"
  },
  "language_info": {
   "codemirror_mode": {
    "name": "ipython",
    "version": 3
   },
   "file_extension": ".py",
   "mimetype": "text/x-python",
   "name": "python",
   "nbconvert_exporter": "python",
   "pygments_lexer": "ipython3",
   "version": "3.12.2"
  }
 },
 "nbformat": 4,
 "nbformat_minor": 2
}
