{
 "cells": [
  {
   "cell_type": "markdown",
   "metadata": {},
   "source": [
    "# Funktionen"
   ]
  },
  {
   "cell_type": "markdown",
   "metadata": {},
   "source": [
    "## 1. Einfache Funktionen"
   ]
  },
  {
   "cell_type": "markdown",
   "metadata": {},
   "source": [
    "### 1.1. Funktionsdefinition"
   ]
  },
  {
   "cell_type": "code",
   "execution_count": 67,
   "metadata": {},
   "outputs": [],
   "source": [
    "# Funktionssignatur\n",
    "\n",
    "def funktionsName1(parameter1, parameter2):\n",
    "\n",
    "    # Funktionskörper\n",
    "    \n",
    "    print(\"Funktionsaufruf\")\n",
    "    print(f\"parameter1 = {parameter1}\")\n",
    "    print(f\"parameter2 = {parameter2}\")\n",
    "    print()"
   ]
  },
  {
   "cell_type": "markdown",
   "metadata": {},
   "source": [
    "### 1.2. Funktionsaufrufe"
   ]
  },
  {
   "cell_type": "code",
   "execution_count": 68,
   "metadata": {},
   "outputs": [
    {
     "name": "stdout",
     "output_type": "stream",
     "text": [
      "Funktionsaufruf\n",
      "parameter1 = 1\n",
      "parameter2 = 2\n",
      "\n",
      "Funktionsaufruf\n",
      "parameter1 = 1\n",
      "parameter2 = a\n",
      "\n",
      "Funktionsaufruf\n",
      "parameter1 = a\n",
      "parameter2 = b\n",
      "\n",
      "Funktionsaufruf\n",
      "parameter1 = 56\n",
      "parameter2 = True\n",
      "\n"
     ]
    }
   ],
   "source": [
    "# Zwei Zahlen übergeben\n",
    "funktionsName1(1, 2)\n",
    "\n",
    "# Eine Zahl un eine Zeichenkette übergeben\n",
    "funktionsName1(1, \"a\")\n",
    "\n",
    "# Zwei Zeichenketten übergeben\n",
    "funktionsName1(\"a\", \"b\")\n",
    "\n",
    "# Umgekehrte Reihenfolge\n",
    "funktionsName1(parameter2=True, parameter1=56)"
   ]
  },
  {
   "cell_type": "markdown",
   "metadata": {},
   "source": [
    "## 3. Standardwerte"
   ]
  },
  {
   "cell_type": "markdown",
   "metadata": {},
   "source": [
    "### 3.1. Standardwert für den letzten Parameter"
   ]
  },
  {
   "cell_type": "code",
   "execution_count": 69,
   "metadata": {},
   "outputs": [
    {
     "name": "stdout",
     "output_type": "stream",
     "text": [
      "Funktionsaufruf\n",
      "parameter1 = 1\n",
      "parameter2 = standardwert\n",
      "\n",
      "Funktionsaufruf\n",
      "parameter1 = 1\n",
      "parameter2 = a\n",
      "\n",
      "Funktionsaufruf\n",
      "parameter1 = 1\n",
      "parameter2 = 2\n",
      "\n",
      "Funktionsaufruf\n",
      "parameter1 = a\n",
      "parameter2 = 1\n",
      "\n"
     ]
    }
   ],
   "source": [
    "# Funktionsdefinition mit Standardwert für zweiten Parameter\n",
    "\n",
    "def funktionsName2(parameter1, parameter2 = \"standardwert\"):\n",
    "    print(\"Funktionsaufruf\")\n",
    "    print(f\"parameter1 = {parameter1}\")\n",
    "    print(f\"parameter2 = {parameter2}\")\n",
    "    print()\n",
    "\n",
    "# Für den zweiten Parameter den Standardwert verwendne\n",
    "funktionsName2(1)\n",
    "\n",
    "# Für keinen der Parameter den Standardwert verwenden\n",
    "funktionsName2(1, \"a\")\n",
    "funktionsName2(1, 2)\n",
    "funktionsName2(parameter2=1, parameter1=\"a\")"
   ]
  },
  {
   "cell_type": "markdown",
   "metadata": {},
   "source": [
    "### 3.1. Standardwerte für die letzten beiden Parameter"
   ]
  },
  {
   "cell_type": "code",
   "execution_count": 70,
   "metadata": {},
   "outputs": [
    {
     "name": "stdout",
     "output_type": "stream",
     "text": [
      "Funktionsaufruf\n",
      "parameter1 = 175\n",
      "parameter2 = standardwert\n",
      "\n",
      "Funktionsaufruf\n",
      "parameter1 = 1\n",
      "parameter2 = standardwert\n",
      "\n",
      "Funktionsaufruf\n",
      "parameter1 = 175\n",
      "parameter2 = x\n",
      "\n",
      "Funktionsaufruf\n",
      "parameter1 = 45\n",
      "parameter2 = a\n",
      "\n",
      "Funktionsaufruf\n",
      "parameter1 = a\n",
      "parameter2 = 45\n",
      "\n"
     ]
    }
   ],
   "source": [
    "# Funktionsdefinition mit Standardwert für beide Parameter\n",
    "\n",
    "def funktionsName3(parameter1 = 175, parameter2 = \"standardwert\"):\n",
    "    print(\"Funktionsaufruf\")\n",
    "    print(f\"parameter1 = {parameter1}\")\n",
    "    print(f\"parameter2 = {parameter2}\")\n",
    "    print()\n",
    "\n",
    "# Für beide Parameter den Standardwert verwenden\n",
    "funktionsName3()\n",
    "\n",
    "# Nur für den zweiten Parameter den Standardwert verwenden\n",
    "funktionsName3(1)\n",
    "\n",
    "# Nur für den ersten Parameter den Standardwert verwenden\n",
    "funktionsName3(parameter2=\"x\")\n",
    "\n",
    "# Für keinden der beiden Parameter den Standardwert verwenden\n",
    "funktionsName3(45, \"a\")\n",
    "funktionsName3(parameter2=45, parameter1=\"a\")"
   ]
  },
  {
   "cell_type": "markdown",
   "metadata": {},
   "source": [
    "## 3. Typhinweise"
   ]
  },
  {
   "cell_type": "code",
   "execution_count": 71,
   "metadata": {},
   "outputs": [
    {
     "name": "stdout",
     "output_type": "stream",
     "text": [
      "Funktionsaufruf\n",
      "parameter1 = 1\n",
      "parameter2 = a\n",
      "\n",
      "Funktionsaufruf\n",
      "parameter1 = 1\n",
      "parameter2 = 1\n",
      "\n",
      "Funktionsaufruf\n",
      "parameter1 = a\n",
      "parameter2 = 1\n",
      "\n"
     ]
    }
   ],
   "source": [
    "# Funktionsdefinition mit Typhinweisen für die Parameter\n",
    "\n",
    "def funktionsName4(parameter1: int, parameter2: str):\n",
    "    print(\"Funktionsaufruf\")\n",
    "    print(f\"parameter1 = {parameter1}\")\n",
    "    print(f\"parameter2 = {parameter2}\")\n",
    "    print()\n",
    "\n",
    "# Typhinweise haben keinen Einfluss auf die Funktionsaufrufe!\n",
    "\n",
    "funktionsName4(1, \"a\")\n",
    "funktionsName4(1, 1)\n",
    "funktionsName4(\"a\", 1)"
   ]
  },
  {
   "cell_type": "markdown",
   "metadata": {},
   "source": [
    "## 4. Rückgabewerte"
   ]
  },
  {
   "cell_type": "markdown",
   "metadata": {},
   "source": [
    "### 4.1. Rückgaben"
   ]
  },
  {
   "cell_type": "code",
   "execution_count": 1,
   "metadata": {},
   "outputs": [
    {
     "name": "stdout",
     "output_type": "stream",
     "text": [
      "2\n",
      "2\n",
      "1\n"
     ]
    }
   ],
   "source": [
    "def funktionsName5(parameter1, parameter2):\n",
    "    if parameter1 > parameter2:\n",
    "        return parameter1\n",
    "    else:\n",
    "        return parameter2\n",
    "\n",
    "print(funktionsName5(1, 2))\n",
    "print(funktionsName5(2, 1))\n",
    "print(funktionsName5(1, 1))"
   ]
  },
  {
   "cell_type": "markdown",
   "metadata": {},
   "source": [
    "### 4.2. Ausnahmen"
   ]
  },
  {
   "cell_type": "code",
   "execution_count": 12,
   "metadata": {},
   "outputs": [
    {
     "name": "stdout",
     "output_type": "stream",
     "text": [
      "2\n",
      "2\n"
     ]
    },
    {
     "ename": "Exception",
     "evalue": "Werte sind gleich groß!",
     "output_type": "error",
     "traceback": [
      "\u001b[1;31m---------------------------------------------------------------------------\u001b[0m",
      "\u001b[1;31mException\u001b[0m                                 Traceback (most recent call last)",
      "Cell \u001b[1;32mIn[12], line 11\u001b[0m\n\u001b[0;32m      9\u001b[0m \u001b[38;5;28mprint\u001b[39m(funktionsName6(\u001b[38;5;241m1\u001b[39m, \u001b[38;5;241m2\u001b[39m))\n\u001b[0;32m     10\u001b[0m \u001b[38;5;28mprint\u001b[39m(funktionsName6(\u001b[38;5;241m2\u001b[39m, \u001b[38;5;241m1\u001b[39m))\n\u001b[1;32m---> 11\u001b[0m \u001b[38;5;28mprint\u001b[39m(\u001b[43mfunktionsName6\u001b[49m\u001b[43m(\u001b[49m\u001b[38;5;241;43m1\u001b[39;49m\u001b[43m,\u001b[49m\u001b[43m \u001b[49m\u001b[38;5;241;43m1\u001b[39;49m\u001b[43m)\u001b[49m)\n",
      "Cell \u001b[1;32mIn[12], line 7\u001b[0m, in \u001b[0;36mfunktionsName6\u001b[1;34m(parameter1, parameter2)\u001b[0m\n\u001b[0;32m      5\u001b[0m     \u001b[38;5;28;01mreturn\u001b[39;00m parameter2\n\u001b[0;32m      6\u001b[0m \u001b[38;5;28;01melse\u001b[39;00m:\n\u001b[1;32m----> 7\u001b[0m     \u001b[38;5;28;01mraise\u001b[39;00m \u001b[38;5;167;01mException\u001b[39;00m(\u001b[38;5;124m\"\u001b[39m\u001b[38;5;124mWerte sind gleich groß!\u001b[39m\u001b[38;5;124m\"\u001b[39m)\n",
      "\u001b[1;31mException\u001b[0m: Werte sind gleich groß!"
     ]
    }
   ],
   "source": [
    "def funktionsName6(parameter1, parameter2):\n",
    "    if parameter1 > parameter2:\n",
    "        return parameter1\n",
    "    elif parameter1 < parameter2:\n",
    "        return parameter2\n",
    "    else:\n",
    "        raise Exception(\"Werte sind gleich groß!\")\n",
    "\n",
    "print(funktionsName6(1, 2))\n",
    "print(funktionsName6(2, 1))\n",
    "print(funktionsName6(1, 1))"
   ]
  },
  {
   "cell_type": "markdown",
   "metadata": {},
   "source": [
    "## 5. Rekursive Funktionen\n",
    "\n",
    "Rekursive Funktionen sind Funktionen, die sich selber aufrufen. Es muss eine Abbruchbedingung für die rekursiven Aufrufe geben, sonst entsteht quasi eine Endlosschleife von rekursiven Funktionsaufrufen."
   ]
  },
  {
   "cell_type": "markdown",
   "metadata": {},
   "source": [
    "### 5.1. Exponentialfunktion"
   ]
  },
  {
   "cell_type": "code",
   "execution_count": 72,
   "metadata": {},
   "outputs": [
    {
     "data": {
      "text/plain": [
       "25"
      ]
     },
     "execution_count": 72,
     "metadata": {},
     "output_type": "execute_result"
    }
   ],
   "source": [
    "def exponetialFunktion(basis: float, exponent: int):\n",
    "    if exponent == 0:\n",
    "        return 1\n",
    "    else:\n",
    "        return basis * exponetialFunktion(basis, exponent - 1)\n",
    "\n",
    "exponetialFunktion(5, 2)"
   ]
  },
  {
   "cell_type": "markdown",
   "metadata": {},
   "source": [
    "### 5.2. Fakultätsfunktion"
   ]
  },
  {
   "cell_type": "code",
   "execution_count": 73,
   "metadata": {},
   "outputs": [
    {
     "data": {
      "text/plain": [
       "120"
      ]
     },
     "execution_count": 73,
     "metadata": {},
     "output_type": "execute_result"
    }
   ],
   "source": [
    "def fakultätsFunktion(n: int):\n",
    "    if n == 0:\n",
    "        return 1\n",
    "    else:\n",
    "        return n * fakultätsFunktion(n - 1)\n",
    "\n",
    "\n",
    "fakultätsFunktion(5)"
   ]
  },
  {
   "cell_type": "markdown",
   "metadata": {},
   "source": [
    "### 5.3. \"Schnelle\" Sortierung\n",
    "\n",
    "Quicksort ist ein schneller Algorithmus für die Sortierung von Werten (siehe https://de.wikipedia.org/wiki/Quicksort). Die Grundidee ist, die Liste anhand eines Pivotelements in zwei Teile zu teilen. Der eine Teil enthält alle Element, die kleiner oder gleich dem Pivotelement sind. Der zweite Teil enthält alle Element, die größer dem Pivotelement sind. Danach kann das Verfahren rekursiv auf die beiden Teile angewendet werden. Dadurch kann man sich den Vergleich der Element aus dem einen Teil mit Elementen aus dem anderen Teil sparen."
   ]
  },
  {
   "cell_type": "code",
   "execution_count": 7,
   "metadata": {},
   "outputs": [
    {
     "name": "stdout",
     "output_type": "stream",
     "text": [
      "Teile daten = [0, 6, 5, 3, 1, 2, 4], links = 0, rechts = 6, pivot = 4\n",
      "- daten[0] = 0 <= 4\n",
      "- daten[1] = 6 > daten[5] = 2 => daten = [0, 2, 5, 3, 1, 6, 4]\n",
      "- daten[1] = 2 <= 4\n",
      "- daten[5] = 6 > 4\n",
      "- daten[2] = 5 > daten[4] = 1 => daten = [0, 2, 1, 3, 5, 6, 4]\n",
      "- daten[2] = 1 <= 4\n",
      "- daten[3] = 3 <= 4\n",
      "- daten[4] = 5 > daten[6] = 4 => daten = [0, 2, 1, 3, 4, 6, 5]\n",
      "\n",
      "Teile daten = [0, 2, 1, 3, 4, 6, 5], links = 0, rechts = 3, pivot = 3\n",
      "- daten[0] = 0 <= 3\n",
      "- daten[1] = 2 <= 3\n",
      "\n",
      "Teile daten = [0, 2, 1, 3, 4, 6, 5], links = 0, rechts = 2, pivot = 1\n",
      "- daten[0] = 0 <= 1\n",
      "- daten[1] = 2 > daten[2] = 1 => daten = [0, 1, 2, 3, 4, 6, 5]\n",
      "\n",
      "Teile daten = [0, 1, 2, 3, 4, 6, 5], links = 5, rechts = 6, pivot = 5\n",
      "- daten[5] = 6 > daten[6] = 5 => daten = [0, 1, 2, 3, 4, 5, 6]\n",
      "\n",
      "Ergebnis = [0, 1, 2, 3, 4, 5, 6]\n"
     ]
    }
   ],
   "source": [
    "def quicksort(daten: list[int], links: int, rechts: int):\n",
    "\n",
    "    # Parameter \"links\" und \"rechts\" initialisieren\n",
    "    if links is None:\n",
    "        links = 0\n",
    "    if rechts is None:\n",
    "        rechts = len(daten) - 1\n",
    "\n",
    "    # Sortierung durchführen\n",
    "    if links < rechts:\n",
    "\n",
    "        # Liste anhand von Pivotelement umsortieren\n",
    "        teiler = teile(daten, links, rechts)\n",
    "\n",
    "        # Linken Teil der Liste rekursiv soriteren\n",
    "        quicksort(daten, links, teiler - 1)\n",
    "\n",
    "        # Rechten Teil der Liste rekursiv sortieren\n",
    "        quicksort(daten, teiler + 1, rechts)\n",
    "\n",
    "def teile(daten, links, rechts):\n",
    "\n",
    "    # Pivot Element festlegen\n",
    "    pivot = daten[rechts]\n",
    "    \n",
    "    # Debug\n",
    "    print(f\"Teile daten = {daten}, links = {links}, rechts = {rechts}, pivot = {pivot}\")\n",
    "\n",
    "    # Variablen für die Iteration festlergen\n",
    "    i = links\n",
    "    j = rechts - 1\n",
    "\n",
    "    # Iteration durchführen\n",
    "    while i < j:\n",
    "\n",
    "        # Suche von links größeren Wert\n",
    "        while i < j and daten[i] <= pivot:\n",
    "\n",
    "            # Debug\n",
    "            print(f\"- daten[{i}] = {daten[i]} <= {pivot}\")\n",
    "\n",
    "            i = i + 1\n",
    "\n",
    "        # Suche von rechts kleineren Wert\n",
    "        while j > i and daten[j] > pivot:\n",
    "\n",
    "            # Debug\n",
    "            print(f\"- daten[{j}] = {daten[j]} > {pivot}\")\n",
    "\n",
    "            j = j - 1\n",
    "\n",
    "        # Tausche größeren und kleineren Wert\n",
    "        if daten[i] > daten[j]:\n",
    "\n",
    "            temp = daten[i]\n",
    "            daten[i] = daten[j]\n",
    "            daten[j] = temp\n",
    "\n",
    "            # Debug\n",
    "            print(f\"- daten[{i}] = {daten[j]} > daten[{j}] = {daten[i]} => daten = {daten}\")\n",
    "    \n",
    "    # Tausche größeren Wert und Pivot\n",
    "    if daten[i] > pivot:\n",
    "\n",
    "        temp = daten[i]\n",
    "        daten[i] = pivot\n",
    "        daten[rechts] = temp\n",
    "\n",
    "        # Debug\n",
    "        print(f\"- daten[{i}] = {daten[rechts]} > daten[{rechts}] = {daten[i]} => daten = {daten}\")\n",
    "\n",
    "    else:\n",
    "\n",
    "        i = rechts\n",
    "    \n",
    "    # Debug\n",
    "    print()\n",
    "    \n",
    "    return i\n",
    "\n",
    "a = [0, 6, 5, 3, 1, 2, 4]\n",
    "\n",
    "quicksort(a, 0, len(a) - 1)\n",
    "\n",
    "print(f\"Ergebnis = {a}\")"
   ]
  },
  {
   "cell_type": "markdown",
   "metadata": {},
   "source": [
    "### 5.4. Türme von Hanoi\n",
    "\n",
    "Die Türme von Hanoi ist ein Spiel mit drei Stäben mit einem Turm von verschieden großen Scheiben (siehe https://de.wikipedia.org/wiki/T%C3%BCrme_von_Hanoi).\n",
    "\n",
    "![](https://upload.wikimedia.org/wikipedia/commons/0/07/Tower_of_Hanoi.jpeg)\n",
    "\n",
    "Ziel des Spieles ist es, den Turm von einem Stab zu einem anderen Stab zu bewegen. In jedem Spielzug darf nur eine Scheibe bewegt werden. Es darf niemals eine größere auf eine kleiner Scheibe gelegt werden."
   ]
  },
  {
   "cell_type": "code",
   "execution_count": 75,
   "metadata": {},
   "outputs": [
    {
     "name": "stdout",
     "output_type": "stream",
     "text": [
      "{'Stab A': [3, 2, 1], 'Stab B': [], 'Stab C': []}\n",
      "3 Scheiben von Stab A über Stab B nach Stab C\n",
      "\t2 Scheiben von Stab A über Stab C nach Stab B\n",
      "\t\t1 Scheiben von Stab A über Stab B nach Stab C\n",
      "\t\t- Scheibe 1 von Stab A nach Stab C\n",
      "\t\t- {'Stab A': [3, 2], 'Stab B': [], 'Stab C': [1]}\n",
      "\t- Scheibe 2 von Stab A nach Stab B\n",
      "\t- {'Stab A': [3], 'Stab B': [2], 'Stab C': [1]}\n",
      "\t\t1 Scheiben von Stab C über Stab A nach Stab B\n",
      "\t\t- Scheibe 1 von Stab C nach Stab B\n",
      "\t\t- {'Stab A': [3], 'Stab B': [2, 1], 'Stab C': []}\n",
      "- Scheibe 3 von Stab A nach Stab C\n",
      "- {'Stab A': [], 'Stab B': [2, 1], 'Stab C': [3]}\n",
      "\t2 Scheiben von Stab B über Stab A nach Stab C\n",
      "\t\t1 Scheiben von Stab B über Stab C nach Stab A\n",
      "\t\t- Scheibe 1 von Stab B nach Stab A\n",
      "\t\t- {'Stab A': [1], 'Stab B': [2], 'Stab C': [3]}\n",
      "\t- Scheibe 2 von Stab B nach Stab C\n",
      "\t- {'Stab A': [1], 'Stab B': [], 'Stab C': [3, 2]}\n",
      "\t\t1 Scheiben von Stab A über Stab B nach Stab C\n",
      "\t\t- Scheibe 1 von Stab A nach Stab C\n",
      "\t\t- {'Stab A': [], 'Stab B': [], 'Stab C': [3, 2, 1]}\n"
     ]
    }
   ],
   "source": [
    "# Spielfeld initialisieren\n",
    "spielfeld: dict[str, list[int]] = { \"Stab A\": [3, 2, 1], \"Stab B\": [], \"Stab C\": [] }\n",
    "\n",
    "# Berechnung der Turmgröße\n",
    "turmgröße = len(spielfeld[\"Stab A\"])\n",
    "\n",
    "def hanoi(zahl, quelle, ablage, ziel):\n",
    "\n",
    "    if zahl > 0:\n",
    "\n",
    "        # Einrückung berechnen\n",
    "        einrückung = \"\"\n",
    "        for i in range(turmgröße - zahl):\n",
    "            einrückung = einrückung + \"\\t\"\n",
    "        \n",
    "        # Parameter ausgeben\n",
    "        print(f\"{einrückung}{zahl} Scheiben von {quelle} über {ablage} nach {ziel}\")\n",
    "\n",
    "        # Turm ab zweitgrößter Scheibe auf den Zwischenstab legen\n",
    "        hanoi(zahl - 1, quelle, ziel, ablage)\n",
    "\n",
    "        # Größte Scheibe vom Quellstab nehmen\n",
    "        scheibe = spielfeld[quelle].pop()\n",
    "\n",
    "        # Größte Scheibe ausgeben\n",
    "        print(f\"{einrückung}- Scheibe {scheibe} von {quelle} nach {ziel}\")\n",
    "\n",
    "        # Größte Scheibe auf den Zielstab legen\n",
    "        spielfeld[ziel].append(scheibe)\n",
    "\n",
    "        # Spielfeld ausgeben\n",
    "        print(f\"{einrückung}- {spielfeld}\")\n",
    "\n",
    "        # Turm ab zweitgrößter Scheibe vom Zwischenstab auf den Zielstab legen\n",
    "        hanoi(zahl - 1, ablage, quelle, ziel)\n",
    "\n",
    "# Spielfeld ausgeben\n",
    "print(spielfeld)\n",
    "\n",
    "# Lösung berechnen\n",
    "hanoi(turmgröße, \"Stab A\", \"Stab B\", \"Stab C\")"
   ]
  }
 ],
 "metadata": {
  "kernelspec": {
   "display_name": "Python 3",
   "language": "python",
   "name": "python3"
  },
  "language_info": {
   "codemirror_mode": {
    "name": "ipython",
    "version": 3
   },
   "file_extension": ".py",
   "mimetype": "text/x-python",
   "name": "python",
   "nbconvert_exporter": "python",
   "pygments_lexer": "ipython3",
   "version": "3.12.2"
  }
 },
 "nbformat": 4,
 "nbformat_minor": 2
}
