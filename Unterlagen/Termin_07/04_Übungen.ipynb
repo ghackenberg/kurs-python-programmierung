{
 "cells": [
  {
   "cell_type": "markdown",
   "metadata": {},
   "source": [
    "# Übungen"
   ]
  },
  {
   "cell_type": "markdown",
   "metadata": {},
   "source": [
    "## 2. Übungen zu `for`-Schleifen"
   ]
  },
  {
   "cell_type": "markdown",
   "metadata": {},
   "source": [
    "### 2.1. **Suche der größten Zahl in einer Liste** mittels `for`-Schleife\n",
    "\n",
    "Schreiben Sie den Algorithmus zur Bestimmung der größten Zahl in einer Liste so um, dass er statt einer `while`-Schleife eine `for`-Schleife verwendet."
   ]
  },
  {
   "cell_type": "code",
   "execution_count": null,
   "metadata": {},
   "outputs": [],
   "source": [
    "# TODO"
   ]
  },
  {
   "cell_type": "markdown",
   "metadata": {},
   "source": [
    "### 2.2. **Suche der Position der größten Zahl einer Liste** mittels `for`-Schleife\n",
    "\n",
    "Schreiben Sie den Algorithmus zur Bestimmung der Position der größten Zahl in einer Liste so um, dass er statt einer `while`-Schleife eine `for`-Schleife verwendet.\n",
    "\n",
    "*Tip: Nutzen Sie die Funktion `range` dazu.*"
   ]
  },
  {
   "cell_type": "code",
   "execution_count": null,
   "metadata": {},
   "outputs": [],
   "source": [
    "# TODO"
   ]
  },
  {
   "cell_type": "markdown",
   "metadata": {},
   "source": [
    "### 2.3. **Sortierung einer Liste mit Zahlen** mittels `for`-Schleife\n",
    "\n",
    "Schreiben Sie den Algorithmus zur Sortierung einer Liste von Zahlen so um, dass er statt einer `while`-Schleife eine `for`-Schleife verwendet.\n",
    "\n",
    "*Tip: Nutzen Sie die Funktion `range` mit negativer Schrittweite dazu.*"
   ]
  },
  {
   "cell_type": "code",
   "execution_count": null,
   "metadata": {},
   "outputs": [],
   "source": [
    "# TODO"
   ]
  }
 ],
 "metadata": {
  "language_info": {
   "name": "python"
  }
 },
 "nbformat": 4,
 "nbformat_minor": 2
}
