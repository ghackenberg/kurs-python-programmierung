{
 "cells": [
  {
   "cell_type": "markdown",
   "metadata": {},
   "source": [
    "# Kürzeste Pfade\n",
    "\n",
    "Suche des kürzesten Pfades zwischen Knoten `a` und Knoten `b` in einem gegebenen Graphe `g`."
   ]
  },
  {
   "cell_type": "markdown",
   "metadata": {},
   "source": [
    "## 1. Datenstrukturen"
   ]
  },
  {
   "cell_type": "code",
   "execution_count": 705,
   "metadata": {},
   "outputs": [],
   "source": [
    "Kantengewicht = float"
   ]
  },
  {
   "cell_type": "code",
   "execution_count": 706,
   "metadata": {},
   "outputs": [],
   "source": [
    "Knoten = int"
   ]
  },
  {
   "cell_type": "code",
   "execution_count": 707,
   "metadata": {},
   "outputs": [],
   "source": [
    "Graph = list[list[Kantengewicht]]"
   ]
  },
  {
   "cell_type": "code",
   "execution_count": null,
   "metadata": {},
   "outputs": [],
   "source": [
    "Pfad = list[Knoten]"
   ]
  },
  {
   "cell_type": "markdown",
   "metadata": {},
   "source": [
    "## 2. Beispieldaten"
   ]
  },
  {
   "cell_type": "markdown",
   "metadata": {},
   "source": [
    "### Beispiel 1:\n",
    "\n",
    "Graph mit zwei Knoten und einer Kante.\n",
    "\n",
    "![](Diagramme/Graphen/Matrizen/Beispiel_01.png)"
   ]
  },
  {
   "cell_type": "code",
   "execution_count": 708,
   "metadata": {},
   "outputs": [],
   "source": [
    "graph_matrix_1: Graph = [\n",
    "    [0, 1],\n",
    "    [0, 0]\n",
    "]"
   ]
  },
  {
   "cell_type": "markdown",
   "metadata": {},
   "source": [
    "### Beispiel 2:\n",
    "\n",
    "Graph mit drei Knoten, drei Kanten und einem Zyklus.\n",
    "\n",
    "![](Diagramme/Graphen/Matrizen/Beispiel_02.png)"
   ]
  },
  {
   "cell_type": "code",
   "execution_count": 709,
   "metadata": {},
   "outputs": [],
   "source": [
    "graph_matrix_2: Graph = [\n",
    "    [0, 1, 0],\n",
    "    [0, 0, 1],\n",
    "    [1, 0, 0]\n",
    "]"
   ]
  },
  {
   "cell_type": "markdown",
   "metadata": {},
   "source": [
    "### Beispiel 3:\n",
    "\n",
    "Graph mit vier Knoten, sechs Kanten, drei alternativen Pfaden, und einem Zyklus.\n",
    "\n",
    "![](Diagramme/Graphen/Matrizen/Beispiel_03.png)"
   ]
  },
  {
   "cell_type": "code",
   "execution_count": 710,
   "metadata": {},
   "outputs": [],
   "source": [
    "graph_matrix_3: Graph = [\n",
    "    [0, 1, 1, 0],\n",
    "    [0, 0, 1, 1],\n",
    "    [0, 0, 0, 1],\n",
    "    [1, 0, 0, 0]\n",
    "]"
   ]
  },
  {
   "cell_type": "markdown",
   "metadata": {},
   "source": [
    "## 3. Algorithmus\n",
    "\n",
    "Im Folgenden betrachten wir einen Lösungsansatz, besprechen die Rekursivität, und zeigen schließlich eine mögliche technische Implementierung.\n",
    "\n",
    "### 3.1. Lösungansatz\n",
    "\n",
    "Der kürzeste Pfad von Knoten `1` nach `8` muss auf jeden Fall über einen Nachbarn von `1` laufen (d.h. `2` oder `3` oder `4`).\n",
    "\n",
    "![](Kürzeste%20Pfade%201.png)\n",
    "\n",
    "### 3.2. Rekursivität\n",
    "\n",
    "Zerlegung des Gesamtproblems (z.B. kürzester Pfad von `1` nach `7`) in Teilprobleme, z.B.:\n",
    "\n",
    "1. Kürzester Pfad von `2` nach `7` plus Gewicht der Kante `(1,2)`.\n",
    "1. Kürzester Pfad von `3` nach `7` plus Gewicht der Kante `(1,3)`.\n",
    "\n",
    "Zerlegung des Teilproblems (z.B. kürzester Pfad von `2` nach `7`) in weitere Teilprobleme, z.B.:\n",
    "\n",
    "1. Kürzester Pfad von `4` nach `7` plus Gewicht der Kante `(2,4)`.\n",
    "1. Kürzester Pfad von `5` nach `7` plus Gewicht der Kante `(2,4)`.\n",
    "\n",
    "Und so weiter.\n",
    "\n",
    "![](Kürzeste%20Pfade%202.png)\n",
    "\n",
    "Daraus ergibt sich folgender Rekursionsbaum.\n",
    "\n",
    "![](Kürzeste%20Pfade%203.png)\n",
    "\n",
    "### 3.3. Implementierung\n",
    "\n",
    "Technische Umsetzung des Verfahrens als Erweiterung des Algorithmus für die Pfadauflistung um\n",
    "\n",
    "* das Pfadgewicht als zusätzlicher Funktionsparameter sowie\n",
    "* kürzester gefundener Pfad als Rückgabewert.\n",
    "\n",
    "Im Quelltext sieht das so aus:"
   ]
  },
  {
   "cell_type": "code",
   "execution_count": 801,
   "metadata": {},
   "outputs": [],
   "source": [
    "def kürzesterpfad(graph: Graph, knoten_von: Knoten, knoten_nach: Knoten, pfad_präfix: Pfad = [], pfad_gewicht: Kantengewicht = 0, einrückung: str = \"\"):\n",
    "\n",
    "    # Ergebnis intialisieren\n",
    "\n",
    "    kürzester_pfad: list[Knoten] = None\n",
    "    kürzester_pfad_gewicht = -1\n",
    "\n",
    "    # Aktuellen Knoten dem Pfad hinzufügen\n",
    "    \n",
    "    pfad_präfix.append(knoten_von)\n",
    "\n",
    "    print(f\"{einrückung}kürzester pfad mit präfix {pfad_präfix} nach knoten {knoten_nach}?\")\n",
    "\n",
    "    # Prüfen, ob das Ziel erreicht wurde\n",
    "\n",
    "    if knoten_von == knoten_nach:\n",
    "\n",
    "        # Fall 1: Ziel erreicht!\n",
    "\n",
    "        # Pfad merken!\n",
    "\n",
    "        kürzester_pfad = pfad_präfix.copy()\n",
    "        kürzester_pfad_gewicht = pfad_gewicht\n",
    "\n",
    "    else:\n",
    "\n",
    "        # Fall 2: Ziel noch nicht erreicht!\n",
    "\n",
    "        # Nachbarknoten besuchen\n",
    "\n",
    "        for knoten_über, kante_gewicht in enumerate(graph[knoten_von]):\n",
    "\n",
    "            if kante_gewicht > 0:\n",
    "\n",
    "                # Kante existiert!\n",
    "\n",
    "                if knoten_über not in pfad_präfix:\n",
    "\n",
    "                    # Knoten noch nicht besucht => rekursiver Aufruf!\n",
    "\n",
    "                    temp_kürzester_pfad, temp_kürzester_pfad_gewicht = kürzesterpfad(graph, knoten_über, knoten_nach, pfad_präfix, pfad_gewicht + kante_gewicht, f\"{einrückung} \")\n",
    "\n",
    "                    # Prüfen, ob ein Pfad gefunden wurde\n",
    "\n",
    "                    if temp_kürzester_pfad_gewicht >= 0:\n",
    "\n",
    "                        # Prüfen, ob der gefundene Pfad besser ist\n",
    "\n",
    "                        if kürzester_pfad_gewicht == -1 or temp_kürzester_pfad_gewicht < kürzester_pfad_gewicht:\n",
    "\n",
    "                            # Besseren Pfad merken\n",
    "\n",
    "                            kürzester_pfad = temp_kürzester_pfad\n",
    "                            kürzester_pfad_gewicht = temp_kürzester_pfad_gewicht\n",
    "\n",
    "    print(f\"{einrückung}{pfad_präfix} => {kürzester_pfad} mit Gewicht {kürzester_pfad_gewicht}\")\n",
    "    \n",
    "    # Aktuellen Knoten wieder aus der Pfadliste löschen\n",
    "    \n",
    "    pfad_präfix.pop()\n",
    "\n",
    "    # Ergebnis zurückgeben\n",
    "\n",
    "    return kürzester_pfad, kürzester_pfad_gewicht"
   ]
  },
  {
   "cell_type": "markdown",
   "metadata": {},
   "source": [
    "#### Beispiel 1:\n",
    "\n",
    "![](Diagramme/Graphen/Matrizen/Beispiel_01.png)"
   ]
  },
  {
   "cell_type": "code",
   "execution_count": 802,
   "metadata": {},
   "outputs": [
    {
     "name": "stdout",
     "output_type": "stream",
     "text": [
      "kürzester pfad mit präfix [0] nach knoten 0?\n",
      "[0] => [0] mit Gewicht 0\n"
     ]
    },
    {
     "data": {
      "text/plain": [
       "([0], 0)"
      ]
     },
     "execution_count": 802,
     "metadata": {},
     "output_type": "execute_result"
    }
   ],
   "source": [
    "kürzesterpfad(graph_matrix_1, 0, 0)"
   ]
  },
  {
   "cell_type": "code",
   "execution_count": 803,
   "metadata": {},
   "outputs": [
    {
     "name": "stdout",
     "output_type": "stream",
     "text": [
      "kürzester pfad mit präfix [0] nach knoten 1?\n",
      " kürzester pfad mit präfix [0, 1] nach knoten 1?\n",
      " [0, 1] => [0, 1] mit Gewicht 1\n",
      "[0] => [0, 1] mit Gewicht 1\n"
     ]
    },
    {
     "data": {
      "text/plain": [
       "([0, 1], 1)"
      ]
     },
     "execution_count": 803,
     "metadata": {},
     "output_type": "execute_result"
    }
   ],
   "source": [
    "kürzesterpfad(graph_matrix_1, 0, 1)"
   ]
  },
  {
   "cell_type": "markdown",
   "metadata": {},
   "source": [
    "#### Beispiel 2:\n",
    "\n",
    "![](Diagramme/Graphen/Matrizen/Beispiel_02.png)"
   ]
  },
  {
   "cell_type": "code",
   "execution_count": 804,
   "metadata": {},
   "outputs": [
    {
     "name": "stdout",
     "output_type": "stream",
     "text": [
      "kürzester pfad mit präfix [0] nach knoten 0?\n",
      "[0] => [0] mit Gewicht 0\n"
     ]
    },
    {
     "data": {
      "text/plain": [
       "([0], 0)"
      ]
     },
     "execution_count": 804,
     "metadata": {},
     "output_type": "execute_result"
    }
   ],
   "source": [
    "kürzesterpfad(graph_matrix_2, 0, 0)"
   ]
  },
  {
   "cell_type": "code",
   "execution_count": 805,
   "metadata": {},
   "outputs": [
    {
     "name": "stdout",
     "output_type": "stream",
     "text": [
      "kürzester pfad mit präfix [0] nach knoten 1?\n",
      " kürzester pfad mit präfix [0, 1] nach knoten 1?\n",
      " [0, 1] => [0, 1] mit Gewicht 1\n",
      "[0] => [0, 1] mit Gewicht 1\n"
     ]
    },
    {
     "data": {
      "text/plain": [
       "([0, 1], 1)"
      ]
     },
     "execution_count": 805,
     "metadata": {},
     "output_type": "execute_result"
    }
   ],
   "source": [
    "kürzesterpfad(graph_matrix_2, 0, 1)"
   ]
  },
  {
   "cell_type": "code",
   "execution_count": 806,
   "metadata": {},
   "outputs": [
    {
     "name": "stdout",
     "output_type": "stream",
     "text": [
      "kürzester pfad mit präfix [0] nach knoten 2?\n",
      " kürzester pfad mit präfix [0, 1] nach knoten 2?\n",
      "  kürzester pfad mit präfix [0, 1, 2] nach knoten 2?\n",
      "  [0, 1, 2] => [0, 1, 2] mit Gewicht 2\n",
      " [0, 1] => [0, 1, 2] mit Gewicht 2\n",
      "[0] => [0, 1, 2] mit Gewicht 2\n"
     ]
    },
    {
     "data": {
      "text/plain": [
       "([0, 1, 2], 2)"
      ]
     },
     "execution_count": 806,
     "metadata": {},
     "output_type": "execute_result"
    }
   ],
   "source": [
    "kürzesterpfad(graph_matrix_2, 0, 2)"
   ]
  },
  {
   "cell_type": "markdown",
   "metadata": {},
   "source": [
    "#### Beispiel 3:\n",
    "\n",
    "![](Diagramme/Graphen/Matrizen/Beispiel_03.png)"
   ]
  },
  {
   "cell_type": "code",
   "execution_count": 807,
   "metadata": {},
   "outputs": [
    {
     "name": "stdout",
     "output_type": "stream",
     "text": [
      "kürzester pfad mit präfix [0] nach knoten 0?\n",
      "[0] => [0] mit Gewicht 0\n"
     ]
    },
    {
     "data": {
      "text/plain": [
       "([0], 0)"
      ]
     },
     "execution_count": 807,
     "metadata": {},
     "output_type": "execute_result"
    }
   ],
   "source": [
    "kürzesterpfad(graph_matrix_3, 0, 0)"
   ]
  },
  {
   "cell_type": "code",
   "execution_count": 808,
   "metadata": {},
   "outputs": [
    {
     "name": "stdout",
     "output_type": "stream",
     "text": [
      "kürzester pfad mit präfix [0] nach knoten 1?\n",
      " kürzester pfad mit präfix [0, 1] nach knoten 1?\n",
      " [0, 1] => [0, 1] mit Gewicht 1\n",
      " kürzester pfad mit präfix [0, 2] nach knoten 1?\n",
      "  kürzester pfad mit präfix [0, 2, 3] nach knoten 1?\n",
      "  [0, 2, 3] => None mit Gewicht -1\n",
      " [0, 2] => None mit Gewicht -1\n",
      "[0] => [0, 1] mit Gewicht 1\n"
     ]
    },
    {
     "data": {
      "text/plain": [
       "([0, 1], 1)"
      ]
     },
     "execution_count": 808,
     "metadata": {},
     "output_type": "execute_result"
    }
   ],
   "source": [
    "kürzesterpfad(graph_matrix_3, 0, 1)"
   ]
  },
  {
   "cell_type": "code",
   "execution_count": 809,
   "metadata": {},
   "outputs": [
    {
     "name": "stdout",
     "output_type": "stream",
     "text": [
      "kürzester pfad mit präfix [0] nach knoten 2?\n",
      " kürzester pfad mit präfix [0, 1] nach knoten 2?\n",
      "  kürzester pfad mit präfix [0, 1, 2] nach knoten 2?\n",
      "  [0, 1, 2] => [0, 1, 2] mit Gewicht 2\n",
      "  kürzester pfad mit präfix [0, 1, 3] nach knoten 2?\n",
      "  [0, 1, 3] => None mit Gewicht -1\n",
      " [0, 1] => [0, 1, 2] mit Gewicht 2\n",
      " kürzester pfad mit präfix [0, 2] nach knoten 2?\n",
      " [0, 2] => [0, 2] mit Gewicht 1\n",
      "[0] => [0, 2] mit Gewicht 1\n"
     ]
    },
    {
     "data": {
      "text/plain": [
       "([0, 2], 1)"
      ]
     },
     "execution_count": 809,
     "metadata": {},
     "output_type": "execute_result"
    }
   ],
   "source": [
    "kürzesterpfad(graph_matrix_3, 0, 2)"
   ]
  },
  {
   "cell_type": "code",
   "execution_count": 810,
   "metadata": {},
   "outputs": [
    {
     "name": "stdout",
     "output_type": "stream",
     "text": [
      "kürzester pfad mit präfix [0] nach knoten 3?\n",
      " kürzester pfad mit präfix [0, 1] nach knoten 3?\n",
      "  kürzester pfad mit präfix [0, 1, 2] nach knoten 3?\n",
      "   kürzester pfad mit präfix [0, 1, 2, 3] nach knoten 3?\n",
      "   [0, 1, 2, 3] => [0, 1, 2, 3] mit Gewicht 3\n",
      "  [0, 1, 2] => [0, 1, 2, 3] mit Gewicht 3\n",
      "  kürzester pfad mit präfix [0, 1, 3] nach knoten 3?\n",
      "  [0, 1, 3] => [0, 1, 3] mit Gewicht 2\n",
      " [0, 1] => [0, 1, 3] mit Gewicht 2\n",
      " kürzester pfad mit präfix [0, 2] nach knoten 3?\n",
      "  kürzester pfad mit präfix [0, 2, 3] nach knoten 3?\n",
      "  [0, 2, 3] => [0, 2, 3] mit Gewicht 2\n",
      " [0, 2] => [0, 2, 3] mit Gewicht 2\n",
      "[0] => [0, 1, 3] mit Gewicht 2\n"
     ]
    },
    {
     "data": {
      "text/plain": [
       "([0, 1, 3], 2)"
      ]
     },
     "execution_count": 810,
     "metadata": {},
     "output_type": "execute_result"
    }
   ],
   "source": [
    "kürzesterpfad(graph_matrix_3, 0, 3)"
   ]
  }
 ],
 "metadata": {
  "kernelspec": {
   "display_name": "Python 3",
   "language": "python",
   "name": "python3"
  },
  "language_info": {
   "codemirror_mode": {
    "name": "ipython",
    "version": 3
   },
   "file_extension": ".py",
   "mimetype": "text/x-python",
   "name": "python",
   "nbconvert_exporter": "python",
   "pygments_lexer": "ipython3",
   "version": "3.12.2"
  }
 },
 "nbformat": 4,
 "nbformat_minor": 2
}
