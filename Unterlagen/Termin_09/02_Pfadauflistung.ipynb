{
 "cells": [
  {
   "cell_type": "markdown",
   "metadata": {},
   "source": [
    "# Pfadauflistung\n",
    "\n",
    "Suche aller Pfade zwischen zwei Knoten `a` und `b` in einem gegebenen Graphen `g`."
   ]
  },
  {
   "cell_type": "markdown",
   "metadata": {},
   "source": [
    "## 1. Datenstrukturen"
   ]
  },
  {
   "cell_type": "code",
   "execution_count": 18,
   "metadata": {},
   "outputs": [],
   "source": [
    "Kantengewicht = float"
   ]
  },
  {
   "cell_type": "code",
   "execution_count": 19,
   "metadata": {},
   "outputs": [],
   "source": [
    "Knoten = int"
   ]
  },
  {
   "cell_type": "code",
   "execution_count": 20,
   "metadata": {},
   "outputs": [],
   "source": [
    "Graph = list[list[Kantengewicht]]"
   ]
  },
  {
   "cell_type": "code",
   "execution_count": 21,
   "metadata": {},
   "outputs": [],
   "source": [
    "Pfad = list[Knoten]"
   ]
  },
  {
   "cell_type": "markdown",
   "metadata": {},
   "source": [
    "## 2. Beispieldaten"
   ]
  },
  {
   "cell_type": "markdown",
   "metadata": {},
   "source": [
    "### Beispiel 1:\n",
    "\n",
    "Graph mit zwei Knoten und einer Kante.\n",
    "\n",
    "![](Diagramme/Graphen/Matrizen/Beispiel_01.png)"
   ]
  },
  {
   "cell_type": "code",
   "execution_count": 22,
   "metadata": {},
   "outputs": [],
   "source": [
    "graph_matrix_1: Graph = [\n",
    "    [0, 1],\n",
    "    [0, 0]\n",
    "]"
   ]
  },
  {
   "cell_type": "markdown",
   "metadata": {},
   "source": [
    "### Beispiel 2:\n",
    "\n",
    "Graph mit drei Knoten, drei Kanten und einem Zyklus.\n",
    "\n",
    "![](Diagramme/Graphen/Matrizen/Beispiel_02.png)"
   ]
  },
  {
   "cell_type": "code",
   "execution_count": 23,
   "metadata": {},
   "outputs": [],
   "source": [
    "graph_matrix_2: Graph = [\n",
    "    [0, 1, 0],\n",
    "    [0, 0, 1],\n",
    "    [1, 0, 0]\n",
    "]"
   ]
  },
  {
   "cell_type": "markdown",
   "metadata": {},
   "source": [
    "### Beispiel 3:\n",
    "\n",
    "Graph mit vier Knoten, sechs Kanten, drei alternativen Pfaden, und einem Zyklus.\n",
    "\n",
    "![](Diagramme/Graphen/Matrizen/Beispiel_03.png)"
   ]
  },
  {
   "cell_type": "code",
   "execution_count": 24,
   "metadata": {},
   "outputs": [],
   "source": [
    "graph_matrix_3: Graph = [\n",
    "    [0, 1, 1, 0],\n",
    "    [0, 0, 1, 1],\n",
    "    [0, 0, 0, 1],\n",
    "    [1, 0, 0, 0]\n",
    "]"
   ]
  },
  {
   "cell_type": "markdown",
   "metadata": {},
   "source": [
    "## 3. Algorithmus\n",
    "\n",
    "Angenommen Knoten `a` hat Nachbarknoten `b`. Zerlegung des Gesamtproblems (alle Pfade von `a` nach `e`) in Teilproblem:\n",
    "\n",
    "* Alle Pfade von `b` nach `e`.\n",
    "\n",
    "Allen gefunden Teillösungen wird dann noch die Kante `(a,b)` vorangestellt. Die folgende Grafik illustriert dieses Vorgehen.\n",
    "\n",
    "![](Pfadauflistung.png)\n",
    "\n",
    "Technisch realisieren wir das Verfahren über eine rekursive Funktion, welche die gefunden Pfade in die Liste `ergebnis` speichert."
   ]
  },
  {
   "cell_type": "code",
   "execution_count": 25,
   "metadata": {},
   "outputs": [],
   "source": [
    "def pfadauflistung(graph: Graph, knoten_von: Knoten, knoten_nach: Knoten, pfad_präfix: Pfad = [], ergebnis: list[Pfad] = [], einrückung: str = \"\"):\n",
    "\n",
    "    # Debugausgabe\n",
    "\n",
    "    print(f\"{einrückung}pfadauflistung(..., {knoten_von}, {knoten_nach}, {pfad_präfix}, {ergebnis})\")\n",
    "\n",
    "    # Aktuellen Knoten dem Pfad hinzufügen\n",
    "    \n",
    "    pfad_präfix.append(knoten_von)\n",
    "\n",
    "    print(f\"{einrückung} - Pfad-Präfix erweitert: {pfad_präfix}\")\n",
    "\n",
    "    # Prüfen, ob das Ziel erreicht wurde\n",
    "\n",
    "    if knoten_von == knoten_nach:\n",
    "\n",
    "        # Fall 1: Ziel erreicht!\n",
    "\n",
    "        # Debugausgabe\n",
    "\n",
    "        print(f\"{einrückung} - Ziel erreicht\")\n",
    "\n",
    "        # Pfad merken!\n",
    "\n",
    "        ergebnis.append(pfad_präfix.copy())\n",
    "\n",
    "        print(f\"{einrückung}   => Ergebnis aktualisiert: {ergebnis}\")\n",
    "\n",
    "    else:\n",
    "\n",
    "        # Fall 2: Ziel noch nicht erreicht!\n",
    "\n",
    "        # Nachbarknoten besuchen\n",
    "\n",
    "        for knoten_über, kante_gewicht in enumerate(graph[knoten_von]):\n",
    "\n",
    "            if kante_gewicht > 0:\n",
    "\n",
    "                print(f\"{einrückung} - Kante {knoten_von} -> {knoten_über}\")\n",
    "\n",
    "                # Kante existiert!\n",
    "\n",
    "                if knoten_über not in pfad_präfix:\n",
    "\n",
    "                    # Knoten noch nicht besucht => rekursiver Aufruf!\n",
    "\n",
    "                    pfadauflistung(graph, knoten_über, knoten_nach, pfad_präfix, ergebnis, f\"{einrückung} \")\n",
    "                \n",
    "                else:\n",
    "\n",
    "                    # Knoten bereits besucht\n",
    "\n",
    "                    print(f\"{einrückung}   => Knoten {knoten_über} bereits besucht\")\n",
    "    \n",
    "    # Aktuellen Knoten wieder aus der Pfadliste löschen\n",
    "    \n",
    "    pfad_präfix.pop()\n",
    "\n",
    "    print(f\"{einrückung} - Pfad-Präfix reduziert: {pfad_präfix}\")"
   ]
  },
  {
   "cell_type": "markdown",
   "metadata": {},
   "source": [
    "### Beispiel 1:\n",
    "\n",
    "![](Diagramme/Graphen/Matrizen/Beispiel_01.png)"
   ]
  },
  {
   "cell_type": "code",
   "execution_count": 26,
   "metadata": {},
   "outputs": [
    {
     "name": "stdout",
     "output_type": "stream",
     "text": [
      "pfadauflistung(..., 0, 0, [], [])\n",
      " - Pfad-Präfix erweitert: [0]\n",
      " - Ziel erreicht\n",
      "   => Ergebnis aktualisiert: [[0]]\n",
      " - Pfad-Präfix reduziert: []\n"
     ]
    }
   ],
   "source": [
    "pfadauflistung(graph_matrix_1, 0, 0)"
   ]
  },
  {
   "cell_type": "code",
   "execution_count": 27,
   "metadata": {},
   "outputs": [
    {
     "name": "stdout",
     "output_type": "stream",
     "text": [
      "pfadauflistung(..., 0, 1, [], [[0]])\n",
      " - Pfad-Präfix erweitert: [0]\n",
      " - Kante 0 -> 1\n",
      " pfadauflistung(..., 1, 1, [0], [[0]])\n",
      "  - Pfad-Präfix erweitert: [0, 1]\n",
      "  - Ziel erreicht\n",
      "    => Ergebnis aktualisiert: [[0], [0, 1]]\n",
      "  - Pfad-Präfix reduziert: [0]\n",
      " - Pfad-Präfix reduziert: []\n"
     ]
    }
   ],
   "source": [
    "pfadauflistung(graph_matrix_1, 0, 1)"
   ]
  },
  {
   "cell_type": "markdown",
   "metadata": {},
   "source": [
    "### Beispiel 2:\n",
    "\n",
    "![](Diagramme/Graphen/Matrizen/Beispiel_02.png)"
   ]
  },
  {
   "cell_type": "code",
   "execution_count": 28,
   "metadata": {},
   "outputs": [
    {
     "name": "stdout",
     "output_type": "stream",
     "text": [
      "pfadauflistung(..., 0, 0, [], [[0], [0, 1]])\n",
      " - Pfad-Präfix erweitert: [0]\n",
      " - Ziel erreicht\n",
      "   => Ergebnis aktualisiert: [[0], [0, 1], [0]]\n",
      " - Pfad-Präfix reduziert: []\n"
     ]
    }
   ],
   "source": [
    "pfadauflistung(graph_matrix_2, 0, 0)"
   ]
  },
  {
   "cell_type": "code",
   "execution_count": 29,
   "metadata": {},
   "outputs": [
    {
     "name": "stdout",
     "output_type": "stream",
     "text": [
      "pfadauflistung(..., 0, 1, [], [[0], [0, 1], [0]])\n",
      " - Pfad-Präfix erweitert: [0]\n",
      " - Kante 0 -> 1\n",
      " pfadauflistung(..., 1, 1, [0], [[0], [0, 1], [0]])\n",
      "  - Pfad-Präfix erweitert: [0, 1]\n",
      "  - Ziel erreicht\n",
      "    => Ergebnis aktualisiert: [[0], [0, 1], [0], [0, 1]]\n",
      "  - Pfad-Präfix reduziert: [0]\n",
      " - Pfad-Präfix reduziert: []\n"
     ]
    }
   ],
   "source": [
    "pfadauflistung(graph_matrix_2, 0, 1)"
   ]
  },
  {
   "cell_type": "code",
   "execution_count": 30,
   "metadata": {},
   "outputs": [
    {
     "name": "stdout",
     "output_type": "stream",
     "text": [
      "pfadauflistung(..., 0, 2, [], [[0], [0, 1], [0], [0, 1]])\n",
      " - Pfad-Präfix erweitert: [0]\n",
      " - Kante 0 -> 1\n",
      " pfadauflistung(..., 1, 2, [0], [[0], [0, 1], [0], [0, 1]])\n",
      "  - Pfad-Präfix erweitert: [0, 1]\n",
      "  - Kante 1 -> 2\n",
      "  pfadauflistung(..., 2, 2, [0, 1], [[0], [0, 1], [0], [0, 1]])\n",
      "   - Pfad-Präfix erweitert: [0, 1, 2]\n",
      "   - Ziel erreicht\n",
      "     => Ergebnis aktualisiert: [[0], [0, 1], [0], [0, 1], [0, 1, 2]]\n",
      "   - Pfad-Präfix reduziert: [0, 1]\n",
      "  - Pfad-Präfix reduziert: [0]\n",
      " - Pfad-Präfix reduziert: []\n"
     ]
    }
   ],
   "source": [
    "pfadauflistung(graph_matrix_2, 0, 2)"
   ]
  },
  {
   "cell_type": "markdown",
   "metadata": {},
   "source": [
    "### Beispiel 3:\n",
    "\n",
    "![](Diagramme/Graphen/Matrizen/Beispiel_03.png)"
   ]
  },
  {
   "cell_type": "code",
   "execution_count": 31,
   "metadata": {},
   "outputs": [
    {
     "name": "stdout",
     "output_type": "stream",
     "text": [
      "pfadauflistung(..., 0, 0, [], [[0], [0, 1], [0], [0, 1], [0, 1, 2]])\n",
      " - Pfad-Präfix erweitert: [0]\n",
      " - Ziel erreicht\n",
      "   => Ergebnis aktualisiert: [[0], [0, 1], [0], [0, 1], [0, 1, 2], [0]]\n",
      " - Pfad-Präfix reduziert: []\n"
     ]
    }
   ],
   "source": [
    "pfadauflistung(graph_matrix_3, 0, 0)"
   ]
  },
  {
   "cell_type": "code",
   "execution_count": 32,
   "metadata": {},
   "outputs": [
    {
     "name": "stdout",
     "output_type": "stream",
     "text": [
      "pfadauflistung(..., 0, 1, [], [[0], [0, 1], [0], [0, 1], [0, 1, 2], [0]])\n",
      " - Pfad-Präfix erweitert: [0]\n",
      " - Kante 0 -> 1\n",
      " pfadauflistung(..., 1, 1, [0], [[0], [0, 1], [0], [0, 1], [0, 1, 2], [0]])\n",
      "  - Pfad-Präfix erweitert: [0, 1]\n",
      "  - Ziel erreicht\n",
      "    => Ergebnis aktualisiert: [[0], [0, 1], [0], [0, 1], [0, 1, 2], [0], [0, 1]]\n",
      "  - Pfad-Präfix reduziert: [0]\n",
      " - Kante 0 -> 2\n",
      " pfadauflistung(..., 2, 1, [0], [[0], [0, 1], [0], [0, 1], [0, 1, 2], [0], [0, 1]])\n",
      "  - Pfad-Präfix erweitert: [0, 2]\n",
      "  - Kante 2 -> 3\n",
      "  pfadauflistung(..., 3, 1, [0, 2], [[0], [0, 1], [0], [0, 1], [0, 1, 2], [0], [0, 1]])\n",
      "   - Pfad-Präfix erweitert: [0, 2, 3]\n",
      "   - Kante 3 -> 0\n",
      "     => Knoten 0 bereits besucht\n",
      "   - Pfad-Präfix reduziert: [0, 2]\n",
      "  - Pfad-Präfix reduziert: [0]\n",
      " - Pfad-Präfix reduziert: []\n"
     ]
    }
   ],
   "source": [
    "pfadauflistung(graph_matrix_3, 0, 1)"
   ]
  },
  {
   "cell_type": "code",
   "execution_count": 33,
   "metadata": {},
   "outputs": [
    {
     "name": "stdout",
     "output_type": "stream",
     "text": [
      "pfadauflistung(..., 0, 2, [], [[0], [0, 1], [0], [0, 1], [0, 1, 2], [0], [0, 1]])\n",
      " - Pfad-Präfix erweitert: [0]\n",
      " - Kante 0 -> 1\n",
      " pfadauflistung(..., 1, 2, [0], [[0], [0, 1], [0], [0, 1], [0, 1, 2], [0], [0, 1]])\n",
      "  - Pfad-Präfix erweitert: [0, 1]\n",
      "  - Kante 1 -> 2\n",
      "  pfadauflistung(..., 2, 2, [0, 1], [[0], [0, 1], [0], [0, 1], [0, 1, 2], [0], [0, 1]])\n",
      "   - Pfad-Präfix erweitert: [0, 1, 2]\n",
      "   - Ziel erreicht\n",
      "     => Ergebnis aktualisiert: [[0], [0, 1], [0], [0, 1], [0, 1, 2], [0], [0, 1], [0, 1, 2]]\n",
      "   - Pfad-Präfix reduziert: [0, 1]\n",
      "  - Kante 1 -> 3\n",
      "  pfadauflistung(..., 3, 2, [0, 1], [[0], [0, 1], [0], [0, 1], [0, 1, 2], [0], [0, 1], [0, 1, 2]])\n",
      "   - Pfad-Präfix erweitert: [0, 1, 3]\n",
      "   - Kante 3 -> 0\n",
      "     => Knoten 0 bereits besucht\n",
      "   - Pfad-Präfix reduziert: [0, 1]\n",
      "  - Pfad-Präfix reduziert: [0]\n",
      " - Kante 0 -> 2\n",
      " pfadauflistung(..., 2, 2, [0], [[0], [0, 1], [0], [0, 1], [0, 1, 2], [0], [0, 1], [0, 1, 2]])\n",
      "  - Pfad-Präfix erweitert: [0, 2]\n",
      "  - Ziel erreicht\n",
      "    => Ergebnis aktualisiert: [[0], [0, 1], [0], [0, 1], [0, 1, 2], [0], [0, 1], [0, 1, 2], [0, 2]]\n",
      "  - Pfad-Präfix reduziert: [0]\n",
      " - Pfad-Präfix reduziert: []\n"
     ]
    }
   ],
   "source": [
    "pfadauflistung(graph_matrix_3, 0, 2)"
   ]
  },
  {
   "cell_type": "code",
   "execution_count": 34,
   "metadata": {},
   "outputs": [
    {
     "name": "stdout",
     "output_type": "stream",
     "text": [
      "pfadauflistung(..., 0, 3, [], [[0], [0, 1], [0], [0, 1], [0, 1, 2], [0], [0, 1], [0, 1, 2], [0, 2]])\n",
      " - Pfad-Präfix erweitert: [0]\n",
      " - Kante 0 -> 1\n",
      " pfadauflistung(..., 1, 3, [0], [[0], [0, 1], [0], [0, 1], [0, 1, 2], [0], [0, 1], [0, 1, 2], [0, 2]])\n",
      "  - Pfad-Präfix erweitert: [0, 1]\n",
      "  - Kante 1 -> 2\n",
      "  pfadauflistung(..., 2, 3, [0, 1], [[0], [0, 1], [0], [0, 1], [0, 1, 2], [0], [0, 1], [0, 1, 2], [0, 2]])\n",
      "   - Pfad-Präfix erweitert: [0, 1, 2]\n",
      "   - Kante 2 -> 3\n",
      "   pfadauflistung(..., 3, 3, [0, 1, 2], [[0], [0, 1], [0], [0, 1], [0, 1, 2], [0], [0, 1], [0, 1, 2], [0, 2]])\n",
      "    - Pfad-Präfix erweitert: [0, 1, 2, 3]\n",
      "    - Ziel erreicht\n",
      "      => Ergebnis aktualisiert: [[0], [0, 1], [0], [0, 1], [0, 1, 2], [0], [0, 1], [0, 1, 2], [0, 2], [0, 1, 2, 3]]\n",
      "    - Pfad-Präfix reduziert: [0, 1, 2]\n",
      "   - Pfad-Präfix reduziert: [0, 1]\n",
      "  - Kante 1 -> 3\n",
      "  pfadauflistung(..., 3, 3, [0, 1], [[0], [0, 1], [0], [0, 1], [0, 1, 2], [0], [0, 1], [0, 1, 2], [0, 2], [0, 1, 2, 3]])\n",
      "   - Pfad-Präfix erweitert: [0, 1, 3]\n",
      "   - Ziel erreicht\n",
      "     => Ergebnis aktualisiert: [[0], [0, 1], [0], [0, 1], [0, 1, 2], [0], [0, 1], [0, 1, 2], [0, 2], [0, 1, 2, 3], [0, 1, 3]]\n",
      "   - Pfad-Präfix reduziert: [0, 1]\n",
      "  - Pfad-Präfix reduziert: [0]\n",
      " - Kante 0 -> 2\n",
      " pfadauflistung(..., 2, 3, [0], [[0], [0, 1], [0], [0, 1], [0, 1, 2], [0], [0, 1], [0, 1, 2], [0, 2], [0, 1, 2, 3], [0, 1, 3]])\n",
      "  - Pfad-Präfix erweitert: [0, 2]\n",
      "  - Kante 2 -> 3\n",
      "  pfadauflistung(..., 3, 3, [0, 2], [[0], [0, 1], [0], [0, 1], [0, 1, 2], [0], [0, 1], [0, 1, 2], [0, 2], [0, 1, 2, 3], [0, 1, 3]])\n",
      "   - Pfad-Präfix erweitert: [0, 2, 3]\n",
      "   - Ziel erreicht\n",
      "     => Ergebnis aktualisiert: [[0], [0, 1], [0], [0, 1], [0, 1, 2], [0], [0, 1], [0, 1, 2], [0, 2], [0, 1, 2, 3], [0, 1, 3], [0, 2, 3]]\n",
      "   - Pfad-Präfix reduziert: [0, 2]\n",
      "  - Pfad-Präfix reduziert: [0]\n",
      " - Pfad-Präfix reduziert: []\n"
     ]
    }
   ],
   "source": [
    "pfadauflistung(graph_matrix_3, 0, 3)"
   ]
  },
  {
   "cell_type": "markdown",
   "metadata": {},
   "source": [
    "**Erste Visualisierung des Rekursionsbaums:**\n",
    "\n",
    "![](Rekursionsbaum%201.jpg)\n",
    "\n",
    "**Zweite Visualisierung des Rekursionsbaums:**\n",
    "\n",
    "![](Rekursionsbaum%202.jpg)"
   ]
  }
 ],
 "metadata": {
  "kernelspec": {
   "display_name": "Python 3",
   "language": "python",
   "name": "python3"
  },
  "language_info": {
   "codemirror_mode": {
    "name": "ipython",
    "version": 3
   },
   "file_extension": ".py",
   "mimetype": "text/x-python",
   "name": "python",
   "nbconvert_exporter": "python",
   "pygments_lexer": "ipython3",
   "version": "3.12.2"
  }
 },
 "nbformat": 4,
 "nbformat_minor": 2
}
