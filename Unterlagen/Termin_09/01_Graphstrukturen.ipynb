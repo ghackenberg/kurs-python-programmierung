{
 "cells": [
  {
   "cell_type": "markdown",
   "metadata": {},
   "source": [
    "# Graphen\n",
    "\n",
    "Graphen sind ebenfalls eine sehr beliebte Datenstruktur in der Informatik, die aus Knoten und Kanten bestehen. Man unterscheidet grundsätzlich zwischen gerichteten und ungerichteten Graphen. In gerichteten Graphen haben die Kanten eine Richtung, in ungerichteten Graphen eben nicht. Des weiteren unterschiedet man zwischen gewichteten und ungewichteten Graphen. Bei gewichteten Graphen haben die Kante positive Gewichte, bei ungewichteten Graphen wiederum nicht. Im folgenden betrachten wir ausschließlich gerichtete und gewichtete Graphen.\n",
    "\n",
    "![](Graphentheorie.png)\n",
    "\n",
    "Graphen werden z.B. von Navigationssystemen verwendet, um das Straßennetz abzubilden und Fahrtrouten zu berechnen. Das folgende Diagramm zeigt einen solchen Navigationsgraphen. Die Knoten entsprechen in einem solchen Graphen den Städten, die Kantengewichte entsprechen hingegen den Distanzen zwischen den Städten.\n",
    "\n",
    "![](Diagramme/Graphen/Straßennetz.png)"
   ]
  },
  {
   "cell_type": "markdown",
   "metadata": {},
   "source": [
    "## 1. Adjazenzmatrizen\n",
    "\n",
    "Darstellung eines Graphen als Matrix, bei der die Spalten und Zeilen die Knoten des Graphen darstellen, während die Einträge `x` zu Zeile `i` und Spalte `j` die Kantengewichte repräsentieren. Für jeden Eintrag steht\n",
    "\n",
    "* die Zeilennummer `i` für den Startknoten einer Kante und\n",
    "* die Spaltennummer `j` für den Zielknoten einer Kante.\n",
    "\n",
    "Man kann die Bedeutung von Zeilen und Spalten auch umdrehen. Die Bedeutung muss jedoch initial festgelegt werden, damit die Daten von den folgenden Algorithmen auch richtig interpretiert werden können.\n",
    "\n",
    "### 1.1. Beispiele\n",
    "\n",
    "Hier sind zunächst drei Beispiele, um sich das besser vorstellen zu können.\n",
    "\n",
    "#### 1.1.1. Generisches Beipsiel\n",
    "\n",
    "Knoten sind einfach durchnummeriert und können beliebige Dinge repräsentieren.\n",
    "\n",
    "![](Adjazenzmatrix%201.png)\n",
    "\n",
    "#### 1.1.2. Beispiel einer Navigationssoftware\n",
    "\n",
    "Knoten sind Orte und Kanten sind Distanzen zwischen den Orten (oder Fahrzeiten).\n",
    "\n",
    "![](Adjazenzmatrix%202.png)\n",
    "\n",
    "#### 1.1.3. Beispiel eines sozialen Netzwerks\n",
    "\n",
    "Knoten sind Personen und Kanten sind *Ich folge*-Beziehungen zwischen den Personen.\n",
    "\n",
    "![](Adjazenzmatrix%203.png)"
   ]
  },
  {
   "cell_type": "markdown",
   "metadata": {},
   "source": [
    "### 1.2. Datenstrukturen\n",
    "\n",
    "Darstellung von **Kantengewichten** durch die Gewichtsszahl"
   ]
  },
  {
   "cell_type": "code",
   "execution_count": null,
   "metadata": {},
   "outputs": [],
   "source": [
    "KantengewichtMatrix = float"
   ]
  },
  {
   "cell_type": "markdown",
   "metadata": {},
   "source": [
    "Darstellung von **Knoten** durch die Knotennummer"
   ]
  },
  {
   "cell_type": "code",
   "execution_count": 706,
   "metadata": {},
   "outputs": [],
   "source": [
    "KnotenMatrix = int"
   ]
  },
  {
   "cell_type": "markdown",
   "metadata": {},
   "source": [
    "Darstellung von **Graphen** durch geschachtelte Listen"
   ]
  },
  {
   "cell_type": "code",
   "execution_count": 707,
   "metadata": {},
   "outputs": [],
   "source": [
    "GraphMatrix = list[list[KantengewichtMatrix]]"
   ]
  },
  {
   "cell_type": "markdown",
   "metadata": {},
   "source": [
    "### 1.3. Beispieldaten\n",
    "\n",
    "Im Folgenden zeigen wir, wie man die vorigen Datenstrukturen verwenden kann um konkrete Graphen zu repräsentieren."
   ]
  },
  {
   "cell_type": "markdown",
   "metadata": {},
   "source": [
    "#### Beispiel 1:\n",
    "\n",
    "Graph mit zwei Knoten und einer Kante.\n",
    "\n",
    "![](Diagramme/Graphen/Matrizen/Beispiel_01.png)"
   ]
  },
  {
   "cell_type": "code",
   "execution_count": 708,
   "metadata": {},
   "outputs": [],
   "source": [
    "graph_matrix_1: GraphMatrix = [\n",
    "    [0, 1],\n",
    "    [0, 0]\n",
    "]"
   ]
  },
  {
   "cell_type": "markdown",
   "metadata": {},
   "source": [
    "#### Beispiel 2:\n",
    "\n",
    "Graph mit drei Knoten, drei Kanten und einem Zyklus.\n",
    "\n",
    "![](Diagramme/Graphen/Matrizen/Beispiel_02.png)"
   ]
  },
  {
   "cell_type": "code",
   "execution_count": 709,
   "metadata": {},
   "outputs": [],
   "source": [
    "graph_matrix_2: GraphMatrix = [\n",
    "    [0, 1, 0],\n",
    "    [0, 0, 1],\n",
    "    [1, 0, 0]\n",
    "]"
   ]
  },
  {
   "cell_type": "markdown",
   "metadata": {},
   "source": [
    "#### Beispiel 3:\n",
    "\n",
    "Graph mit vier Knoten, sechs Kanten, drei alternativen Pfaden, und einem Zyklus.\n",
    "\n",
    "![](Diagramme/Graphen/Matrizen/Beispiel_03.png)"
   ]
  },
  {
   "cell_type": "code",
   "execution_count": 710,
   "metadata": {},
   "outputs": [],
   "source": [
    "graph_matrix_3: GraphMatrix = [\n",
    "    [0, 1, 1, 0],\n",
    "    [0, 0, 1, 1],\n",
    "    [0, 0, 0, 1],\n",
    "    [1, 0, 0, 0]\n",
    "]"
   ]
  },
  {
   "cell_type": "markdown",
   "metadata": {},
   "source": [
    "## 2. Abbildungen\n",
    "\n",
    "Die vorige Art der Darstellung als Adjazenzmatrix ist nicht die einzig mögliche Darstellungsform. Tatsächlich gibt es viele unterschiedliche Möglichkeiten, Graphen in einem Computerprogramm zu repräsentieren. Hier wollen wir noch eine zweite Darstellungsform betrachten, welche auf dem Datentyp `dict` basiert.\n",
    "\n",
    "### 2.1. Datenstrukturen\n",
    "\n",
    "Darstellung von **Kantengewichten** wie gehabt als Gewichtszahlen"
   ]
  },
  {
   "cell_type": "code",
   "execution_count": null,
   "metadata": {},
   "outputs": [],
   "source": [
    "KantengewichtDict = float"
   ]
  },
  {
   "cell_type": "markdown",
   "metadata": {},
   "source": [
    "Darstellung von **Knoten** als Knotennamen"
   ]
  },
  {
   "cell_type": "code",
   "execution_count": 711,
   "metadata": {},
   "outputs": [],
   "source": [
    "KnotenDict = str"
   ]
  },
  {
   "cell_type": "markdown",
   "metadata": {},
   "source": [
    "Darstellung von **Graphen** als geschachtelte Abbildungen"
   ]
  },
  {
   "cell_type": "code",
   "execution_count": 712,
   "metadata": {},
   "outputs": [],
   "source": [
    "GraphDict = dict[KnotenDict, dict[KnotenDict, KantengewichtDict]]"
   ]
  },
  {
   "cell_type": "markdown",
   "metadata": {},
   "source": [
    "### 2.2. Beispieldaten"
   ]
  },
  {
   "cell_type": "markdown",
   "metadata": {},
   "source": [
    "#### Beispiel 1:\n",
    "\n",
    "![](Diagramme/Graphen/Abbildungen/Beispiel_01.png)"
   ]
  },
  {
   "cell_type": "code",
   "execution_count": 713,
   "metadata": {},
   "outputs": [],
   "source": [
    "graph_dict_1: GraphDict = {\n",
    "    \"A\": { \"B\": 1 },\n",
    "    \"B\": {}\n",
    "}"
   ]
  },
  {
   "cell_type": "markdown",
   "metadata": {},
   "source": [
    "#### Beispiel 2:\n",
    "\n",
    "![](Diagramme/Graphen/Abbildungen/Beispiel_02.png)"
   ]
  },
  {
   "cell_type": "code",
   "execution_count": 714,
   "metadata": {},
   "outputs": [],
   "source": [
    "graph_dict_2: GraphDict = {\n",
    "    \"A\": { \"B\": 1 },\n",
    "    \"B\": { \"C\": 1 },\n",
    "    \"C\": { \"A\": 1 }\n",
    "}"
   ]
  },
  {
   "cell_type": "markdown",
   "metadata": {},
   "source": [
    "#### Beispiel 3:\n",
    "\n",
    "![](Diagramme/Graphen/Abbildungen/Beispiel_03.png)"
   ]
  },
  {
   "cell_type": "code",
   "execution_count": 715,
   "metadata": {},
   "outputs": [],
   "source": [
    "graph_dict_3: GraphDict = {\n",
    "    \"A\": { \"B\": 1, \"C\": 1 },\n",
    "    \"B\": { \"C\": 1, \"D\": 1 },\n",
    "    \"C\": { \"D\": 1 },\n",
    "    \"D\": { \"A\": 1 }\n",
    "}"
   ]
  }
 ],
 "metadata": {
  "kernelspec": {
   "display_name": "Python 3",
   "language": "python",
   "name": "python3"
  },
  "language_info": {
   "codemirror_mode": {
    "name": "ipython",
    "version": 3
   },
   "file_extension": ".py",
   "mimetype": "text/x-python",
   "name": "python",
   "nbconvert_exporter": "python",
   "pygments_lexer": "ipython3",
   "version": "3.12.2"
  }
 },
 "nbformat": 4,
 "nbformat_minor": 2
}
