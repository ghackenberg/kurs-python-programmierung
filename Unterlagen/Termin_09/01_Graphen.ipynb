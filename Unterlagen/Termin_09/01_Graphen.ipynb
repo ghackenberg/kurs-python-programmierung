{
 "cells": [
  {
   "cell_type": "markdown",
   "metadata": {},
   "source": [
    "# Graphen\n",
    "\n",
    "Graphen sind ebenfalls eine sehr beliebte Datenstruktur in der Informatik, die aus Knoten und Kanten bestehen. Man unterscheidet grundsätzlich zwischen gerichteten und ungerichteten Graphen. In gerichteten Graphen haben die Kanten eine Richtung, in ungerichteten Graphen eben nicht. Des weiteren unterschiedet man zwischen gewichteten und ungewichteten Graphen. Bei gewichteten Graphen haben die Kante positive Gewichte, bei ungewichteten Graphen wiederum nicht. Im folgenden betrachten wir ausschließlich gerichtete und gewichtete Graphen.\n",
    "\n",
    "Graphen werden z.B. von Navigationssystemen verwendet, um das Straßennetz abzubilden und Fahrtrouten zu berechnen. Das folgende Diagramm zeigt einen solchen Navigationsgraphen. Die Knoten entsprechen in einem solchen Graphen den Städten, die Kantengewichte entsprechen hingegen den Distanzen zwischen den Städten.\n",
    "\n",
    "![](Diagramme/Graphen/Straßennetz.png)"
   ]
  },
  {
   "cell_type": "markdown",
   "metadata": {},
   "source": [
    "## 1. Datenstrukturen"
   ]
  },
  {
   "cell_type": "code",
   "execution_count": 2,
   "metadata": {},
   "outputs": [],
   "source": [
    "KanteGewicht = int"
   ]
  },
  {
   "cell_type": "markdown",
   "metadata": {},
   "source": [
    "### 1.1. Matrizen\n",
    "\n",
    "Knoten enthalten keine Daten! Kanten sind gerichtet und enthalten ein Gewicht."
   ]
  },
  {
   "cell_type": "code",
   "execution_count": 3,
   "metadata": {},
   "outputs": [],
   "source": [
    "KnotenMatrix = int"
   ]
  },
  {
   "cell_type": "code",
   "execution_count": 4,
   "metadata": {},
   "outputs": [],
   "source": [
    "GraphMatrix = list[list[KanteGewicht]]"
   ]
  },
  {
   "cell_type": "markdown",
   "metadata": {},
   "source": [
    "#### Beispiel 1:\n",
    "\n",
    "Graph mit zwei Knoten und einer Kante.\n",
    "\n",
    "![](Diagramme/Graphen/Matrizen/Beispiel_01.png)"
   ]
  },
  {
   "cell_type": "code",
   "execution_count": 5,
   "metadata": {},
   "outputs": [],
   "source": [
    "graph_matrix_1: GraphMatrix = [\n",
    "    [0, 1],\n",
    "    [0, 0]\n",
    "]"
   ]
  },
  {
   "cell_type": "markdown",
   "metadata": {},
   "source": [
    "#### Beispiel 2:\n",
    "\n",
    "Graph mit drei Knoten, drei Kanten und einem Zyklus.\n",
    "\n",
    "![](Diagramme/Graphen/Matrizen/Beispiel_02.png)"
   ]
  },
  {
   "cell_type": "code",
   "execution_count": 6,
   "metadata": {},
   "outputs": [],
   "source": [
    "graph_matrix_2: GraphMatrix = [\n",
    "    [0, 1, 0],\n",
    "    [0, 0, 1],\n",
    "    [1, 0, 0]\n",
    "]"
   ]
  },
  {
   "cell_type": "markdown",
   "metadata": {},
   "source": [
    "#### Beispiel 3:\n",
    "\n",
    "Graph mit vier Knoten, sechs Kanten, drei alternativen Pfaden, und einem Zyklus.\n",
    "\n",
    "![](Diagramme/Graphen/Matrizen/Beispiel_03.png)"
   ]
  },
  {
   "cell_type": "code",
   "execution_count": 7,
   "metadata": {},
   "outputs": [],
   "source": [
    "graph_matrix_3: GraphMatrix = [\n",
    "    [0, 1, 1, 0],\n",
    "    [0, 0, 1, 1],\n",
    "    [0, 0, 0, 1],\n",
    "    [1, 0, 0, 0]\n",
    "]"
   ]
  },
  {
   "cell_type": "markdown",
   "metadata": {},
   "source": [
    "### 1.2. Abbildungen\n",
    "\n",
    "Knoten können zusätzliche Daten enthalten."
   ]
  },
  {
   "cell_type": "code",
   "execution_count": 8,
   "metadata": {},
   "outputs": [],
   "source": [
    "KnotenDict = str"
   ]
  },
  {
   "cell_type": "code",
   "execution_count": 9,
   "metadata": {},
   "outputs": [],
   "source": [
    "GraphDict = dict[KnotenDict, dict[KnotenDict, KanteGewicht]]"
   ]
  },
  {
   "cell_type": "markdown",
   "metadata": {},
   "source": [
    "#### Beispiel 1:\n",
    "\n",
    "![](Diagramme/Graphen/Abbildungen/Beispiel_01.png)"
   ]
  },
  {
   "cell_type": "code",
   "execution_count": 10,
   "metadata": {},
   "outputs": [],
   "source": [
    "graph_dict_1: GraphDict = {\n",
    "    \"A\": { \"B\": 1 },\n",
    "    \"B\": {}\n",
    "}"
   ]
  },
  {
   "cell_type": "markdown",
   "metadata": {},
   "source": [
    "#### Beispiel 2:\n",
    "\n",
    "![](Diagramme/Graphen/Abbildungen/Beispiel_02.png)"
   ]
  },
  {
   "cell_type": "code",
   "execution_count": 11,
   "metadata": {},
   "outputs": [],
   "source": [
    "graph_dict_2: GraphDict = {\n",
    "    \"A\": { \"B\": 1 },\n",
    "    \"B\": { \"C\": 1 },\n",
    "    \"C\": { \"A\": 1 }\n",
    "}"
   ]
  },
  {
   "cell_type": "markdown",
   "metadata": {},
   "source": [
    "#### Beispiel 3:\n",
    "\n",
    "![](Diagramme/Graphen/Abbildungen/Beispiel_03.png)"
   ]
  },
  {
   "cell_type": "code",
   "execution_count": 12,
   "metadata": {},
   "outputs": [],
   "source": [
    "graph_dict_3: GraphDict = {\n",
    "    \"A\": { \"B\": 1, \"C\": 1 },\n",
    "    \"B\": { \"C\": 1, \"D\": 1 },\n",
    "    \"C\": { \"D\": 1 },\n",
    "    \"D\": { \"A\": 1 }\n",
    "}"
   ]
  },
  {
   "cell_type": "markdown",
   "metadata": {},
   "source": [
    "## 2. Pfadauflistung"
   ]
  },
  {
   "cell_type": "markdown",
   "metadata": {},
   "source": [
    "### 2.1. Matrizen"
   ]
  },
  {
   "cell_type": "code",
   "execution_count": 13,
   "metadata": {},
   "outputs": [],
   "source": [
    "def pfadauflistung_matrix_internal(graph: GraphMatrix, knotenVon: KnotenMatrix, knotenNach: KnotenMatrix, pfad: list[KnotenMatrix], ergebnis: list[list[KnotenMatrix]]):\n",
    "\n",
    "    # Einrückung für Ausgabe berechnen\n",
    "\n",
    "    einrückung = \"\"\n",
    "\n",
    "    for i in range(len(pfad)):\n",
    "        einrückung += \" \"\n",
    "\n",
    "    # Debugausgabe\n",
    "\n",
    "    print(f\"{einrückung}pfadauflistung_matrix_internal(..., {knotenVon}, {knotenNach}, {pfad}, {ergebnis})\")\n",
    "\n",
    "    # Aktuellen Knoten dem Pfad hinzufügen\n",
    "    \n",
    "    pfad.append(knotenVon)\n",
    "\n",
    "    # Prüfen, ob das Ziel erreicht wurde\n",
    "\n",
    "    if knotenVon == knotenNach:\n",
    "\n",
    "        # Fall 1: Ziel erreicht!\n",
    "\n",
    "        # Debugausgabe\n",
    "\n",
    "        print(f\"{einrückung} - Ziel erreicht: {pfad}\")\n",
    "\n",
    "        # Pfad merken!\n",
    "\n",
    "        ergebnis.append(pfad.copy())\n",
    "\n",
    "    else:\n",
    "\n",
    "        # Fall 2: Ziel noch nicht erreicht!\n",
    "\n",
    "        # Nachbarknoten besuchen\n",
    "\n",
    "        for knotenÜber, kanteGewicht in enumerate(graph[knotenVon]):\n",
    "\n",
    "            if kanteGewicht > 0:\n",
    "\n",
    "                # Kante existiert!\n",
    "\n",
    "                if knotenÜber not in pfad:\n",
    "\n",
    "                    # Knoten noch nicht besucht => rekursiver Aufruf!\n",
    "\n",
    "                    pfadauflistung_matrix_internal(graph, knotenÜber, knotenNach, pfad, ergebnis)\n",
    "    \n",
    "    # Aktuellen Knoten wieder aus der Pfadliste löschen\n",
    "    \n",
    "    pfad.pop()\n",
    "\n",
    "    return ergebnis\n",
    "\n",
    "def pfadauflistung_matrix(graph: GraphMatrix, knotenVon: KnotenMatrix, knotenNach: KnotenMatrix):\n",
    "\n",
    "    # Datenstruktur für Speicherung von Pfaden initialisieren\n",
    "\n",
    "    pfad = []\n",
    "\n",
    "    # Datenstruktur für Speicherung von Ergebnissen initialisieren\n",
    "\n",
    "    ergebnis = []\n",
    "\n",
    "    # Berechnung durchführen und Ergebnis zurückgeben\n",
    "    \n",
    "    return pfadauflistung_matrix_internal(graph, knotenVon, knotenNach, pfad, ergebnis)"
   ]
  },
  {
   "cell_type": "markdown",
   "metadata": {},
   "source": [
    "#### Beispiel 1:\n",
    "\n",
    "![](Diagramme/Graphen/Matrizen/Beispiel_01.png)"
   ]
  },
  {
   "cell_type": "code",
   "execution_count": 14,
   "metadata": {},
   "outputs": [
    {
     "name": "stdout",
     "output_type": "stream",
     "text": [
      "pfadauflistung_matrix_internal(..., 0, 0, [], [])\n",
      " - Ziel erreicht: [0]\n"
     ]
    },
    {
     "data": {
      "text/plain": [
       "[[0]]"
      ]
     },
     "execution_count": 14,
     "metadata": {},
     "output_type": "execute_result"
    }
   ],
   "source": [
    "pfadauflistung_matrix(graph_matrix_1, 0, 0)"
   ]
  },
  {
   "cell_type": "code",
   "execution_count": 15,
   "metadata": {},
   "outputs": [
    {
     "name": "stdout",
     "output_type": "stream",
     "text": [
      "pfadauflistung_matrix_internal(..., 0, 1, [], [])\n",
      " pfadauflistung_matrix_internal(..., 1, 1, [0], [])\n",
      "  - Ziel erreicht: [0, 1]\n"
     ]
    },
    {
     "data": {
      "text/plain": [
       "[[0, 1]]"
      ]
     },
     "execution_count": 15,
     "metadata": {},
     "output_type": "execute_result"
    }
   ],
   "source": [
    "pfadauflistung_matrix(graph_matrix_1, 0, 1)"
   ]
  },
  {
   "cell_type": "markdown",
   "metadata": {},
   "source": [
    "#### Beispiel 2:\n",
    "\n",
    "![](Diagramme/Graphen/Matrizen/Beispiel_02.png)"
   ]
  },
  {
   "cell_type": "code",
   "execution_count": 16,
   "metadata": {},
   "outputs": [
    {
     "name": "stdout",
     "output_type": "stream",
     "text": [
      "pfadauflistung_matrix_internal(..., 0, 0, [], [])\n",
      " - Ziel erreicht: [0]\n"
     ]
    },
    {
     "data": {
      "text/plain": [
       "[[0]]"
      ]
     },
     "execution_count": 16,
     "metadata": {},
     "output_type": "execute_result"
    }
   ],
   "source": [
    "pfadauflistung_matrix(graph_matrix_2, 0, 0)"
   ]
  },
  {
   "cell_type": "code",
   "execution_count": 17,
   "metadata": {},
   "outputs": [
    {
     "name": "stdout",
     "output_type": "stream",
     "text": [
      "pfadauflistung_matrix_internal(..., 0, 1, [], [])\n",
      " pfadauflistung_matrix_internal(..., 1, 1, [0], [])\n",
      "  - Ziel erreicht: [0, 1]\n"
     ]
    },
    {
     "data": {
      "text/plain": [
       "[[0, 1]]"
      ]
     },
     "execution_count": 17,
     "metadata": {},
     "output_type": "execute_result"
    }
   ],
   "source": [
    "pfadauflistung_matrix(graph_matrix_2, 0, 1)"
   ]
  },
  {
   "cell_type": "code",
   "execution_count": 18,
   "metadata": {},
   "outputs": [
    {
     "name": "stdout",
     "output_type": "stream",
     "text": [
      "pfadauflistung_matrix_internal(..., 0, 2, [], [])\n",
      " pfadauflistung_matrix_internal(..., 1, 2, [0], [])\n",
      "  pfadauflistung_matrix_internal(..., 2, 2, [0, 1], [])\n",
      "   - Ziel erreicht: [0, 1, 2]\n"
     ]
    },
    {
     "data": {
      "text/plain": [
       "[[0, 1, 2]]"
      ]
     },
     "execution_count": 18,
     "metadata": {},
     "output_type": "execute_result"
    }
   ],
   "source": [
    "pfadauflistung_matrix(graph_matrix_2, 0, 2)"
   ]
  },
  {
   "cell_type": "markdown",
   "metadata": {},
   "source": [
    "#### Beispiel 3:\n",
    "\n",
    "![](Diagramme/Graphen/Matrizen/Beispiel_03.png)"
   ]
  },
  {
   "cell_type": "code",
   "execution_count": 19,
   "metadata": {},
   "outputs": [
    {
     "name": "stdout",
     "output_type": "stream",
     "text": [
      "pfadauflistung_matrix_internal(..., 0, 0, [], [])\n",
      " - Ziel erreicht: [0]\n"
     ]
    },
    {
     "data": {
      "text/plain": [
       "[[0]]"
      ]
     },
     "execution_count": 19,
     "metadata": {},
     "output_type": "execute_result"
    }
   ],
   "source": [
    "pfadauflistung_matrix(graph_matrix_3, 0, 0)"
   ]
  },
  {
   "cell_type": "code",
   "execution_count": 20,
   "metadata": {},
   "outputs": [
    {
     "name": "stdout",
     "output_type": "stream",
     "text": [
      "pfadauflistung_matrix_internal(..., 0, 1, [], [])\n",
      " pfadauflistung_matrix_internal(..., 1, 1, [0], [])\n",
      "  - Ziel erreicht: [0, 1]\n",
      " pfadauflistung_matrix_internal(..., 2, 1, [0], [[0, 1]])\n",
      "  pfadauflistung_matrix_internal(..., 3, 1, [0, 2], [[0, 1]])\n"
     ]
    },
    {
     "data": {
      "text/plain": [
       "[[0, 1]]"
      ]
     },
     "execution_count": 20,
     "metadata": {},
     "output_type": "execute_result"
    }
   ],
   "source": [
    "pfadauflistung_matrix(graph_matrix_3, 0, 1)"
   ]
  },
  {
   "cell_type": "code",
   "execution_count": 21,
   "metadata": {},
   "outputs": [
    {
     "name": "stdout",
     "output_type": "stream",
     "text": [
      "pfadauflistung_matrix_internal(..., 0, 2, [], [])\n",
      " pfadauflistung_matrix_internal(..., 1, 2, [0], [])\n",
      "  pfadauflistung_matrix_internal(..., 2, 2, [0, 1], [])\n",
      "   - Ziel erreicht: [0, 1, 2]\n",
      "  pfadauflistung_matrix_internal(..., 3, 2, [0, 1], [[0, 1, 2]])\n",
      " pfadauflistung_matrix_internal(..., 2, 2, [0], [[0, 1, 2]])\n",
      "  - Ziel erreicht: [0, 2]\n"
     ]
    },
    {
     "data": {
      "text/plain": [
       "[[0, 1, 2], [0, 2]]"
      ]
     },
     "execution_count": 21,
     "metadata": {},
     "output_type": "execute_result"
    }
   ],
   "source": [
    "pfadauflistung_matrix(graph_matrix_3, 0, 2)"
   ]
  },
  {
   "cell_type": "code",
   "execution_count": 22,
   "metadata": {},
   "outputs": [
    {
     "name": "stdout",
     "output_type": "stream",
     "text": [
      "pfadauflistung_matrix_internal(..., 0, 3, [], [])\n",
      " pfadauflistung_matrix_internal(..., 1, 3, [0], [])\n",
      "  pfadauflistung_matrix_internal(..., 2, 3, [0, 1], [])\n",
      "   pfadauflistung_matrix_internal(..., 3, 3, [0, 1, 2], [])\n",
      "    - Ziel erreicht: [0, 1, 2, 3]\n",
      "  pfadauflistung_matrix_internal(..., 3, 3, [0, 1], [[0, 1, 2, 3]])\n",
      "   - Ziel erreicht: [0, 1, 3]\n",
      " pfadauflistung_matrix_internal(..., 2, 3, [0], [[0, 1, 2, 3], [0, 1, 3]])\n",
      "  pfadauflistung_matrix_internal(..., 3, 3, [0, 2], [[0, 1, 2, 3], [0, 1, 3]])\n",
      "   - Ziel erreicht: [0, 2, 3]\n"
     ]
    },
    {
     "data": {
      "text/plain": [
       "[[0, 1, 2, 3], [0, 1, 3], [0, 2, 3]]"
      ]
     },
     "execution_count": 22,
     "metadata": {},
     "output_type": "execute_result"
    }
   ],
   "source": [
    "pfadauflistung_matrix(graph_matrix_3, 0, 3)"
   ]
  },
  {
   "cell_type": "markdown",
   "metadata": {},
   "source": [
    "### 2.2. Abbildungen"
   ]
  },
  {
   "cell_type": "code",
   "execution_count": 23,
   "metadata": {},
   "outputs": [],
   "source": [
    "def pfadauflistung_dict(graph: GraphDict, von: KnotenDict, nach: KnotenDict):\n",
    "\n",
    "    # TODO\n",
    "\n",
    "    pass"
   ]
  },
  {
   "cell_type": "markdown",
   "metadata": {},
   "source": [
    "#### Beispiel 1:\n",
    "\n",
    "![](Diagramme/Graphen/Abbildungen/Beispiel_01.png)"
   ]
  },
  {
   "cell_type": "code",
   "execution_count": 24,
   "metadata": {},
   "outputs": [],
   "source": [
    "pfadauflistung_dict(graph_dict_1, \"A\", \"A\")"
   ]
  },
  {
   "cell_type": "code",
   "execution_count": 25,
   "metadata": {},
   "outputs": [],
   "source": [
    "pfadauflistung_dict(graph_dict_1, \"A\", \"B\")"
   ]
  },
  {
   "cell_type": "markdown",
   "metadata": {},
   "source": [
    "#### Beispiel 2:\n",
    "\n",
    "![](Diagramme/Graphen/Abbildungen/Beispiel_02.png)"
   ]
  },
  {
   "cell_type": "code",
   "execution_count": 26,
   "metadata": {},
   "outputs": [],
   "source": [
    "pfadauflistung_dict(graph_dict_2, \"A\", \"A\")"
   ]
  },
  {
   "cell_type": "code",
   "execution_count": 27,
   "metadata": {},
   "outputs": [],
   "source": [
    "pfadauflistung_dict(graph_dict_2, \"A\", \"B\")"
   ]
  },
  {
   "cell_type": "code",
   "execution_count": 28,
   "metadata": {},
   "outputs": [],
   "source": [
    "pfadauflistung_dict(graph_dict_2, \"A\", \"C\")"
   ]
  },
  {
   "cell_type": "markdown",
   "metadata": {},
   "source": [
    "#### Beispiel 3:\n",
    "\n",
    "![](Diagramme/Graphen/Abbildungen/Beispiel_03.png)"
   ]
  },
  {
   "cell_type": "code",
   "execution_count": 29,
   "metadata": {},
   "outputs": [],
   "source": [
    "pfadauflistung_dict(graph_dict_3, \"A\", \"A\")"
   ]
  },
  {
   "cell_type": "code",
   "execution_count": 30,
   "metadata": {},
   "outputs": [],
   "source": [
    "pfadauflistung_dict(graph_dict_3, \"A\", \"B\")"
   ]
  },
  {
   "cell_type": "code",
   "execution_count": 31,
   "metadata": {},
   "outputs": [],
   "source": [
    "pfadauflistung_dict(graph_dict_3, \"A\", \"C\")"
   ]
  },
  {
   "cell_type": "code",
   "execution_count": 32,
   "metadata": {},
   "outputs": [],
   "source": [
    "pfadauflistung_dict(graph_dict_3, \"A\", \"D\")"
   ]
  },
  {
   "cell_type": "markdown",
   "metadata": {},
   "source": [
    "## 3. Kürzeste Pfade"
   ]
  },
  {
   "cell_type": "markdown",
   "metadata": {},
   "source": [
    "### 3.1. Matrizen"
   ]
  },
  {
   "cell_type": "code",
   "execution_count": 33,
   "metadata": {},
   "outputs": [],
   "source": [
    "def kürzesterpfad_matrix_internal(graph: GraphMatrix, knotenVon: KnotenMatrix, knotenNach: KnotenMatrix, pfad: list[KnotenMatrix], pfadLänge: int):\n",
    "\n",
    "    # Einrückung für Ausgabe berechnen\n",
    "\n",
    "    einrückung = \"\"\n",
    "\n",
    "    for i in range(len(pfad)):\n",
    "        einrückung += \" \"\n",
    "\n",
    "    # Debugausgabe\n",
    "\n",
    "    print(f\"{einrückung}kürzesterpfad_matrix_internal(..., {knotenVon}, {knotenNach}, {pfad}, {pfadLänge})\")\n",
    "\n",
    "    # Ergebnis intialisieren\n",
    "\n",
    "    kürzesterPfad: list[KnotenMatrix] = None\n",
    "    kürzesterPfadLänge = -1\n",
    "\n",
    "    # Aktuellen Knoten dem Pfad hinzufügen\n",
    "    \n",
    "    pfad.append(knotenVon)\n",
    "\n",
    "    # Prüfen, ob das Ziel erreicht wurde\n",
    "\n",
    "    if knotenVon == knotenNach:\n",
    "\n",
    "        # Fall 1: Ziel erreicht!\n",
    "\n",
    "        # Debugausgabe\n",
    "\n",
    "        print(f\"{einrückung} - Ziel erreicht: {pfad}\")\n",
    "\n",
    "        # Pfad merken!\n",
    "\n",
    "        kürzesterPfad = pfad.copy()\n",
    "        kürzesterPfadLänge = pfadLänge\n",
    "\n",
    "    else:\n",
    "\n",
    "        # Fall 2: Ziel noch nicht erreicht!\n",
    "\n",
    "        # Nachbarknoten besuchen\n",
    "\n",
    "        for knotenÜber, kanteGewicht in enumerate(graph[knotenVon]):\n",
    "\n",
    "            if kanteGewicht > 0:\n",
    "\n",
    "                # Kante existiert!\n",
    "\n",
    "                if knotenÜber not in pfad:\n",
    "\n",
    "                    # Knoten noch nicht besucht => rekursiver Aufruf!\n",
    "\n",
    "                    tempPfad, tempPfadLänge = kürzesterpfad_matrix_internal(graph, knotenÜber, knotenNach, pfad, pfadLänge + kanteGewicht)\n",
    "\n",
    "                    # Prüfen, ob ein Pfad gefunden wurde\n",
    "\n",
    "                    if tempPfadLänge >= 0:\n",
    "\n",
    "                        # Prüfen, ob der gefundene Pfad besser ist\n",
    "\n",
    "                        if kürzesterPfadLänge == -1 or tempPfadLänge < kürzesterPfadLänge:\n",
    "\n",
    "                            # Besseren Pfad merken\n",
    "\n",
    "                            kürzesterPfad = tempPfad\n",
    "                            kürzesterPfadLänge = tempPfadLänge\n",
    "    \n",
    "    # Aktuellen Knoten wieder aus der Pfadliste löschen\n",
    "    \n",
    "    pfad.pop()\n",
    "\n",
    "    # Ergebnis zurückgeben\n",
    "\n",
    "    return kürzesterPfad, kürzesterPfadLänge\n",
    "\n",
    "def kürzesterpfad_matrix(graph: GraphMatrix, von: KnotenMatrix, nach: KnotenMatrix):\n",
    "\n",
    "    pfad = []\n",
    "\n",
    "    pfadLänge = 0\n",
    "    \n",
    "    return kürzesterpfad_matrix_internal(graph, von, nach, pfad, pfadLänge)"
   ]
  },
  {
   "cell_type": "markdown",
   "metadata": {},
   "source": [
    "#### Beispiel 1:\n",
    "\n",
    "![](Diagramme/Graphen/Matrizen/Beispiel_01.png)"
   ]
  },
  {
   "cell_type": "code",
   "execution_count": 34,
   "metadata": {},
   "outputs": [
    {
     "name": "stdout",
     "output_type": "stream",
     "text": [
      "kürzesterpfad_matrix_internal(..., 0, 0, [], 0)\n",
      " - Ziel erreicht: [0]\n"
     ]
    },
    {
     "data": {
      "text/plain": [
       "([0], 0)"
      ]
     },
     "execution_count": 34,
     "metadata": {},
     "output_type": "execute_result"
    }
   ],
   "source": [
    "kürzesterpfad_matrix(graph_matrix_1, 0, 0)"
   ]
  },
  {
   "cell_type": "code",
   "execution_count": 35,
   "metadata": {},
   "outputs": [
    {
     "name": "stdout",
     "output_type": "stream",
     "text": [
      "kürzesterpfad_matrix_internal(..., 0, 1, [], 0)\n",
      " kürzesterpfad_matrix_internal(..., 1, 1, [0], 1)\n",
      "  - Ziel erreicht: [0, 1]\n"
     ]
    },
    {
     "data": {
      "text/plain": [
       "([0, 1], 1)"
      ]
     },
     "execution_count": 35,
     "metadata": {},
     "output_type": "execute_result"
    }
   ],
   "source": [
    "kürzesterpfad_matrix(graph_matrix_1, 0, 1)"
   ]
  },
  {
   "cell_type": "markdown",
   "metadata": {},
   "source": [
    "#### Beispiel 2:\n",
    "\n",
    "![](Diagramme/Graphen/Matrizen/Beispiel_02.png)"
   ]
  },
  {
   "cell_type": "code",
   "execution_count": 36,
   "metadata": {},
   "outputs": [
    {
     "name": "stdout",
     "output_type": "stream",
     "text": [
      "kürzesterpfad_matrix_internal(..., 0, 0, [], 0)\n",
      " - Ziel erreicht: [0]\n"
     ]
    },
    {
     "data": {
      "text/plain": [
       "([0], 0)"
      ]
     },
     "execution_count": 36,
     "metadata": {},
     "output_type": "execute_result"
    }
   ],
   "source": [
    "kürzesterpfad_matrix(graph_matrix_2, 0, 0)"
   ]
  },
  {
   "cell_type": "code",
   "execution_count": 37,
   "metadata": {},
   "outputs": [
    {
     "name": "stdout",
     "output_type": "stream",
     "text": [
      "kürzesterpfad_matrix_internal(..., 0, 1, [], 0)\n",
      " kürzesterpfad_matrix_internal(..., 1, 1, [0], 1)\n",
      "  - Ziel erreicht: [0, 1]\n"
     ]
    },
    {
     "data": {
      "text/plain": [
       "([0, 1], 1)"
      ]
     },
     "execution_count": 37,
     "metadata": {},
     "output_type": "execute_result"
    }
   ],
   "source": [
    "kürzesterpfad_matrix(graph_matrix_2, 0, 1)"
   ]
  },
  {
   "cell_type": "code",
   "execution_count": 38,
   "metadata": {},
   "outputs": [
    {
     "name": "stdout",
     "output_type": "stream",
     "text": [
      "kürzesterpfad_matrix_internal(..., 0, 2, [], 0)\n",
      " kürzesterpfad_matrix_internal(..., 1, 2, [0], 1)\n",
      "  kürzesterpfad_matrix_internal(..., 2, 2, [0, 1], 2)\n",
      "   - Ziel erreicht: [0, 1, 2]\n"
     ]
    },
    {
     "data": {
      "text/plain": [
       "([0, 1, 2], 2)"
      ]
     },
     "execution_count": 38,
     "metadata": {},
     "output_type": "execute_result"
    }
   ],
   "source": [
    "kürzesterpfad_matrix(graph_matrix_2, 0, 2)"
   ]
  },
  {
   "cell_type": "markdown",
   "metadata": {},
   "source": [
    "#### Beispiel 3:\n",
    "\n",
    "![](Diagramme/Graphen/Matrizen/Beispiel_03.png)"
   ]
  },
  {
   "cell_type": "code",
   "execution_count": 39,
   "metadata": {},
   "outputs": [
    {
     "name": "stdout",
     "output_type": "stream",
     "text": [
      "kürzesterpfad_matrix_internal(..., 0, 0, [], 0)\n",
      " - Ziel erreicht: [0]\n"
     ]
    },
    {
     "data": {
      "text/plain": [
       "([0], 0)"
      ]
     },
     "execution_count": 39,
     "metadata": {},
     "output_type": "execute_result"
    }
   ],
   "source": [
    "kürzesterpfad_matrix(graph_matrix_3, 0, 0)"
   ]
  },
  {
   "cell_type": "code",
   "execution_count": 40,
   "metadata": {},
   "outputs": [
    {
     "name": "stdout",
     "output_type": "stream",
     "text": [
      "kürzesterpfad_matrix_internal(..., 0, 1, [], 0)\n",
      " kürzesterpfad_matrix_internal(..., 1, 1, [0], 1)\n",
      "  - Ziel erreicht: [0, 1]\n",
      " kürzesterpfad_matrix_internal(..., 2, 1, [0], 1)\n",
      "  kürzesterpfad_matrix_internal(..., 3, 1, [0, 2], 2)\n"
     ]
    },
    {
     "data": {
      "text/plain": [
       "([0, 1], 1)"
      ]
     },
     "execution_count": 40,
     "metadata": {},
     "output_type": "execute_result"
    }
   ],
   "source": [
    "kürzesterpfad_matrix(graph_matrix_3, 0, 1)"
   ]
  },
  {
   "cell_type": "code",
   "execution_count": 41,
   "metadata": {},
   "outputs": [
    {
     "name": "stdout",
     "output_type": "stream",
     "text": [
      "kürzesterpfad_matrix_internal(..., 0, 2, [], 0)\n",
      " kürzesterpfad_matrix_internal(..., 1, 2, [0], 1)\n",
      "  kürzesterpfad_matrix_internal(..., 2, 2, [0, 1], 2)\n",
      "   - Ziel erreicht: [0, 1, 2]\n",
      "  kürzesterpfad_matrix_internal(..., 3, 2, [0, 1], 2)\n",
      " kürzesterpfad_matrix_internal(..., 2, 2, [0], 1)\n",
      "  - Ziel erreicht: [0, 2]\n"
     ]
    },
    {
     "data": {
      "text/plain": [
       "([0, 2], 1)"
      ]
     },
     "execution_count": 41,
     "metadata": {},
     "output_type": "execute_result"
    }
   ],
   "source": [
    "kürzesterpfad_matrix(graph_matrix_3, 0, 2)"
   ]
  },
  {
   "cell_type": "code",
   "execution_count": 42,
   "metadata": {},
   "outputs": [
    {
     "name": "stdout",
     "output_type": "stream",
     "text": [
      "kürzesterpfad_matrix_internal(..., 0, 3, [], 0)\n",
      " kürzesterpfad_matrix_internal(..., 1, 3, [0], 1)\n",
      "  kürzesterpfad_matrix_internal(..., 2, 3, [0, 1], 2)\n",
      "   kürzesterpfad_matrix_internal(..., 3, 3, [0, 1, 2], 3)\n",
      "    - Ziel erreicht: [0, 1, 2, 3]\n",
      "  kürzesterpfad_matrix_internal(..., 3, 3, [0, 1], 2)\n",
      "   - Ziel erreicht: [0, 1, 3]\n",
      " kürzesterpfad_matrix_internal(..., 2, 3, [0], 1)\n",
      "  kürzesterpfad_matrix_internal(..., 3, 3, [0, 2], 2)\n",
      "   - Ziel erreicht: [0, 2, 3]\n"
     ]
    },
    {
     "data": {
      "text/plain": [
       "([0, 1, 3], 2)"
      ]
     },
     "execution_count": 42,
     "metadata": {},
     "output_type": "execute_result"
    }
   ],
   "source": [
    "kürzesterpfad_matrix(graph_matrix_3, 0, 3)"
   ]
  },
  {
   "cell_type": "markdown",
   "metadata": {},
   "source": [
    "### 3.2. Abbildungen"
   ]
  },
  {
   "cell_type": "code",
   "execution_count": 43,
   "metadata": {},
   "outputs": [],
   "source": [
    "def kürzesterpfad_dict(graph: GraphDict, von: KnotenDict, nach: KnotenDict):\n",
    "\n",
    "    # TODO\n",
    "\n",
    "    pass"
   ]
  },
  {
   "cell_type": "markdown",
   "metadata": {},
   "source": [
    "#### Beispiel 1:\n",
    "\n",
    "![](Diagramme/Graphen/Abbildungen/Beispiel_01.png)"
   ]
  },
  {
   "cell_type": "code",
   "execution_count": 44,
   "metadata": {},
   "outputs": [],
   "source": [
    "kürzesterpfad_dict(graph_dict_1, \"A\", \"A\")"
   ]
  },
  {
   "cell_type": "code",
   "execution_count": 45,
   "metadata": {},
   "outputs": [],
   "source": [
    "kürzesterpfad_dict(graph_dict_1, \"A\", \"B\")"
   ]
  },
  {
   "cell_type": "markdown",
   "metadata": {},
   "source": [
    "#### Beispiel 2:\n",
    "\n",
    "![](Diagramme/Graphen/Abbildungen/Beispiel_02.png)"
   ]
  },
  {
   "cell_type": "code",
   "execution_count": 46,
   "metadata": {},
   "outputs": [],
   "source": [
    "kürzesterpfad_dict(graph_dict_2, \"A\", \"A\")"
   ]
  },
  {
   "cell_type": "code",
   "execution_count": 47,
   "metadata": {},
   "outputs": [],
   "source": [
    "kürzesterpfad_dict(graph_dict_2, \"A\", \"B\")"
   ]
  },
  {
   "cell_type": "code",
   "execution_count": 48,
   "metadata": {},
   "outputs": [],
   "source": [
    "kürzesterpfad_dict(graph_dict_2, \"A\", \"C\")"
   ]
  },
  {
   "cell_type": "markdown",
   "metadata": {},
   "source": [
    "#### Beispiel 3:\n",
    "\n",
    "![](Diagramme/Graphen/Abbildungen/Beispiel_03.png)"
   ]
  },
  {
   "cell_type": "code",
   "execution_count": 49,
   "metadata": {},
   "outputs": [],
   "source": [
    "kürzesterpfad_dict(graph_dict_3, \"A\", \"A\")"
   ]
  },
  {
   "cell_type": "code",
   "execution_count": 50,
   "metadata": {},
   "outputs": [],
   "source": [
    "kürzesterpfad_dict(graph_dict_3, \"A\", \"B\")"
   ]
  },
  {
   "cell_type": "code",
   "execution_count": 51,
   "metadata": {},
   "outputs": [],
   "source": [
    "kürzesterpfad_dict(graph_dict_3, \"A\", \"C\")"
   ]
  },
  {
   "cell_type": "code",
   "execution_count": 52,
   "metadata": {},
   "outputs": [],
   "source": [
    "kürzesterpfad_dict(graph_dict_3, \"A\", \"D\")"
   ]
  },
  {
   "cell_type": "markdown",
   "metadata": {},
   "source": [
    "## 4. Zusammenhängende Komponenten"
   ]
  },
  {
   "cell_type": "markdown",
   "metadata": {},
   "source": [
    "### 4.1. Matrizen"
   ]
  },
  {
   "cell_type": "code",
   "execution_count": 97,
   "metadata": {},
   "outputs": [],
   "source": [
    "def komponenten_matrix(graph: GraphMatrix):\n",
    "\n",
    "    # Ergebnisdatenstruktur initialisieren\n",
    "\n",
    "    komponenten: list[list[KnotenMatrix]] = []\n",
    "\n",
    "    # Zwischenspeicher initialisieren\n",
    "\n",
    "    besucht = [False for knoten in range(len(graph))]\n",
    "\n",
    "    # Knoten des Graphen durchlaufen\n",
    "\n",
    "    for knoten in range(len(graph)):\n",
    "\n",
    "        # Prüfen, ob Knoten bereits besucht wurde\n",
    "        \n",
    "        if not besucht[knoten]:\n",
    "\n",
    "            # Datenstruktur für neue Zusammenhangskomponente initialisieren\n",
    "            \n",
    "            komponente: list[KnotenMatrix] = []\n",
    "\n",
    "            # Knoten und alle Nachbarn besuchen und einsammeln\n",
    "            \n",
    "            besuche_matrix(graph, knoten, besucht, komponente)\n",
    "\n",
    "            # Zusammenhangskomponente in die Ergebnisdatenstruktur eintragen\n",
    "\n",
    "            komponenten.append(komponente)\n",
    "\n",
    "    # Ergebnisdatenstruktur zurückgeben\n",
    "    \n",
    "    return komponenten\n",
    "\n",
    "def besuche_matrix(graph: GraphMatrix, knoten: KnotenMatrix, besucht: list[bool], komponente: list[KnotenMatrix]):\n",
    "\n",
    "    # Prüfen ob Knoten bereits besucht wurde\n",
    "    \n",
    "    if not besucht[knoten]:\n",
    "\n",
    "        # Knoten als besucht markieren\n",
    "\n",
    "        besucht[knoten] = True\n",
    "\n",
    "        # Knoten in Zusammenhangskomponente eintragen\n",
    "\n",
    "        komponente.append(knoten)\n",
    "\n",
    "        # Nachbarn besuchen\n",
    "\n",
    "        for nachbar in range(len(graph)):\n",
    "\n",
    "            # Ausgehende Kante prüfen und besuchen\n",
    "\n",
    "            if graph[knoten][nachbar] > 0:\n",
    "\n",
    "                besuche_matrix(graph, nachbar, besucht, komponente)\n",
    "\n",
    "            # Eingehende Kante prüfen und besuchen\n",
    "\n",
    "            if graph[nachbar][knoten] > 0:\n",
    "\n",
    "                besuche_matrix(graph, nachbar, besucht, komponente)"
   ]
  },
  {
   "cell_type": "markdown",
   "metadata": {},
   "source": [
    "#### Beispiel 1:"
   ]
  },
  {
   "cell_type": "code",
   "execution_count": 98,
   "metadata": {},
   "outputs": [
    {
     "data": {
      "text/plain": [
       "[[0, 1]]"
      ]
     },
     "execution_count": 98,
     "metadata": {},
     "output_type": "execute_result"
    }
   ],
   "source": [
    "komponenten_matrix(graph_matrix_1)"
   ]
  },
  {
   "cell_type": "markdown",
   "metadata": {},
   "source": [
    "#### Beispiel 2:"
   ]
  },
  {
   "cell_type": "code",
   "execution_count": 99,
   "metadata": {},
   "outputs": [
    {
     "data": {
      "text/plain": [
       "[[0, 1, 2]]"
      ]
     },
     "execution_count": 99,
     "metadata": {},
     "output_type": "execute_result"
    }
   ],
   "source": [
    "komponenten_matrix(graph_matrix_2)"
   ]
  },
  {
   "cell_type": "markdown",
   "metadata": {},
   "source": [
    "#### Beispiel 3:"
   ]
  },
  {
   "cell_type": "code",
   "execution_count": 100,
   "metadata": {},
   "outputs": [
    {
     "data": {
      "text/plain": [
       "[[0, 1, 2, 3]]"
      ]
     },
     "execution_count": 100,
     "metadata": {},
     "output_type": "execute_result"
    }
   ],
   "source": [
    "komponenten_matrix(graph_matrix_3)"
   ]
  },
  {
   "cell_type": "markdown",
   "metadata": {},
   "source": [
    "#### Beispiel 4:"
   ]
  },
  {
   "cell_type": "code",
   "execution_count": 101,
   "metadata": {},
   "outputs": [
    {
     "data": {
      "text/plain": [
       "[[0], [1]]"
      ]
     },
     "execution_count": 101,
     "metadata": {},
     "output_type": "execute_result"
    }
   ],
   "source": [
    "komponenten_matrix([\n",
    "    [0, 0],\n",
    "    [0, 0]\n",
    "])"
   ]
  },
  {
   "cell_type": "markdown",
   "metadata": {},
   "source": [
    "#### Beispiel 5:"
   ]
  },
  {
   "cell_type": "code",
   "execution_count": 102,
   "metadata": {},
   "outputs": [
    {
     "data": {
      "text/plain": [
       "[[0], [1, 2]]"
      ]
     },
     "execution_count": 102,
     "metadata": {},
     "output_type": "execute_result"
    }
   ],
   "source": [
    "komponenten_matrix([\n",
    "    [0, 0, 0],\n",
    "    [0, 0, 1],\n",
    "    [0, 0, 0],\n",
    "])"
   ]
  },
  {
   "cell_type": "markdown",
   "metadata": {},
   "source": [
    "#### Beispiel 6:"
   ]
  },
  {
   "cell_type": "code",
   "execution_count": 103,
   "metadata": {},
   "outputs": [
    {
     "data": {
      "text/plain": [
       "[[0], [1, 2], [3, 4]]"
      ]
     },
     "execution_count": 103,
     "metadata": {},
     "output_type": "execute_result"
    }
   ],
   "source": [
    "komponenten_matrix([\n",
    "    [0, 0, 0, 0, 0],\n",
    "    [0, 0, 1, 0, 0],\n",
    "    [0, 0, 0, 0, 0],\n",
    "    [0, 0, 0, 0, 1],\n",
    "    [0, 0, 0, 0, 0],\n",
    "])"
   ]
  },
  {
   "cell_type": "markdown",
   "metadata": {},
   "source": [
    "#### Beispiel 7:"
   ]
  },
  {
   "cell_type": "code",
   "execution_count": 108,
   "metadata": {},
   "outputs": [
    {
     "data": {
      "text/plain": [
       "[[0, 1, 2], [3, 4]]"
      ]
     },
     "execution_count": 108,
     "metadata": {},
     "output_type": "execute_result"
    }
   ],
   "source": [
    "komponenten_matrix([\n",
    "    [0, 1, 0, 0, 0],\n",
    "    [0, 0, 1, 0, 0],\n",
    "    [0, 0, 0, 0, 0],\n",
    "    [0, 0, 0, 0, 1],\n",
    "    [0, 0, 0, 0, 0],\n",
    "])"
   ]
  },
  {
   "cell_type": "markdown",
   "metadata": {},
   "source": [
    "### 4.2. Abbildungen"
   ]
  },
  {
   "cell_type": "code",
   "execution_count": 109,
   "metadata": {},
   "outputs": [],
   "source": [
    "def komponenten_dict(graph: GraphDict):\n",
    "    pass"
   ]
  },
  {
   "cell_type": "markdown",
   "metadata": {},
   "source": [
    "#### Beispiel 1:"
   ]
  },
  {
   "cell_type": "code",
   "execution_count": 110,
   "metadata": {},
   "outputs": [],
   "source": [
    "komponenten_dict(graph_dict_1)"
   ]
  },
  {
   "cell_type": "markdown",
   "metadata": {},
   "source": [
    "#### Beispiel 2:"
   ]
  },
  {
   "cell_type": "code",
   "execution_count": 111,
   "metadata": {},
   "outputs": [],
   "source": [
    "komponenten_dict(graph_dict_2)"
   ]
  },
  {
   "cell_type": "markdown",
   "metadata": {},
   "source": [
    "#### Beispiel 3:"
   ]
  },
  {
   "cell_type": "code",
   "execution_count": 112,
   "metadata": {},
   "outputs": [],
   "source": [
    "komponenten_dict(graph_dict_3)"
   ]
  }
 ],
 "metadata": {
  "kernelspec": {
   "display_name": "Python 3",
   "language": "python",
   "name": "python3"
  },
  "language_info": {
   "codemirror_mode": {
    "name": "ipython",
    "version": 3
   },
   "file_extension": ".py",
   "mimetype": "text/x-python",
   "name": "python",
   "nbconvert_exporter": "python",
   "pygments_lexer": "ipython3",
   "version": "3.12.1"
  }
 },
 "nbformat": 4,
 "nbformat_minor": 2
}
