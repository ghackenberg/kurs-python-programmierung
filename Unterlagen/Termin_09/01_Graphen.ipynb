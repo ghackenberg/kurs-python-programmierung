{
 "cells": [
  {
   "cell_type": "markdown",
   "metadata": {},
   "source": [
    "# Graphen\n",
    "\n",
    "Graphen sind ebenfalls eine sehr beliebte Datenstruktur in der Informatik, die aus Knoten und Kanten bestehen. Man unterscheidet grundsätzlich zwischen gerichteten und ungerichteten Graphen. In gerichteten Graphen haben die Kanten eine Richtung, in ungerichteten Graphen eben nicht. Des weiteren unterschiedet man zwischen gewichteten und ungewichteten Graphen. Bei gewichteten Graphen haben die Kante positive Gewichte, bei ungewichteten Graphen wiederum nicht. Im folgenden betrachten wir ausschließlich gerichtete und gewichtete Graphen.\n",
    "\n",
    "Graphen werden z.B. von Navigationssystemen verwendet, um das Straßennetz abzubilden und Fahrtrouten zu berechnen. Das folgende Diagramm zeigt einen solchen Navigationsgraphen. Die Knoten entsprechen in einem solchen Graphen den Städten, die Kantengewichte entsprechen hingegen den Distanzen zwischen den Städten.\n",
    "\n",
    "![](Diagramme/Graphen/Straßennetz.png)"
   ]
  },
  {
   "cell_type": "markdown",
   "metadata": {},
   "source": [
    "## 1. Datenstrukturen"
   ]
  },
  {
   "cell_type": "code",
   "execution_count": 705,
   "metadata": {},
   "outputs": [],
   "source": [
    "KanteGewicht = int"
   ]
  },
  {
   "cell_type": "markdown",
   "metadata": {},
   "source": [
    "### 1.1. Matrizen\n",
    "\n",
    "Knoten enthalten keine Daten! Kanten sind gerichtet und enthalten ein Gewicht."
   ]
  },
  {
   "cell_type": "code",
   "execution_count": 706,
   "metadata": {},
   "outputs": [],
   "source": [
    "KnotenMatrix = int"
   ]
  },
  {
   "cell_type": "code",
   "execution_count": 707,
   "metadata": {},
   "outputs": [],
   "source": [
    "GraphMatrix = list[list[KanteGewicht]]"
   ]
  },
  {
   "cell_type": "markdown",
   "metadata": {},
   "source": [
    "#### Beispiel 1:\n",
    "\n",
    "Graph mit zwei Knoten und einer Kante.\n",
    "\n",
    "![](Diagramme/Graphen/Matrizen/Beispiel_01.png)"
   ]
  },
  {
   "cell_type": "code",
   "execution_count": 708,
   "metadata": {},
   "outputs": [],
   "source": [
    "graph_matrix_1: GraphMatrix = [\n",
    "    [0, 1],\n",
    "    [0, 0]\n",
    "]"
   ]
  },
  {
   "cell_type": "markdown",
   "metadata": {},
   "source": [
    "#### Beispiel 2:\n",
    "\n",
    "Graph mit drei Knoten, drei Kanten und einem Zyklus.\n",
    "\n",
    "![](Diagramme/Graphen/Matrizen/Beispiel_02.png)"
   ]
  },
  {
   "cell_type": "code",
   "execution_count": 709,
   "metadata": {},
   "outputs": [],
   "source": [
    "graph_matrix_2: GraphMatrix = [\n",
    "    [0, 1, 0],\n",
    "    [0, 0, 1],\n",
    "    [1, 0, 0]\n",
    "]"
   ]
  },
  {
   "cell_type": "markdown",
   "metadata": {},
   "source": [
    "#### Beispiel 3:\n",
    "\n",
    "Graph mit vier Knoten, sechs Kanten, drei alternativen Pfaden, und einem Zyklus.\n",
    "\n",
    "![](Diagramme/Graphen/Matrizen/Beispiel_03.png)"
   ]
  },
  {
   "cell_type": "code",
   "execution_count": 710,
   "metadata": {},
   "outputs": [],
   "source": [
    "graph_matrix_3: GraphMatrix = [\n",
    "    [0, 1, 1, 0],\n",
    "    [0, 0, 1, 1],\n",
    "    [0, 0, 0, 1],\n",
    "    [1, 0, 0, 0]\n",
    "]"
   ]
  },
  {
   "cell_type": "markdown",
   "metadata": {},
   "source": [
    "### 1.2. Abbildungen\n",
    "\n",
    "Knoten können zusätzliche Daten enthalten."
   ]
  },
  {
   "cell_type": "code",
   "execution_count": 711,
   "metadata": {},
   "outputs": [],
   "source": [
    "KnotenDict = str"
   ]
  },
  {
   "cell_type": "code",
   "execution_count": 712,
   "metadata": {},
   "outputs": [],
   "source": [
    "GraphDict = dict[KnotenDict, dict[KnotenDict, KanteGewicht]]"
   ]
  },
  {
   "cell_type": "markdown",
   "metadata": {},
   "source": [
    "#### Beispiel 1:\n",
    "\n",
    "![](Diagramme/Graphen/Abbildungen/Beispiel_01.png)"
   ]
  },
  {
   "cell_type": "code",
   "execution_count": 713,
   "metadata": {},
   "outputs": [],
   "source": [
    "graph_dict_1: GraphDict = {\n",
    "    \"A\": { \"B\": 1 },\n",
    "    \"B\": {}\n",
    "}"
   ]
  },
  {
   "cell_type": "markdown",
   "metadata": {},
   "source": [
    "#### Beispiel 2:\n",
    "\n",
    "![](Diagramme/Graphen/Abbildungen/Beispiel_02.png)"
   ]
  },
  {
   "cell_type": "code",
   "execution_count": 714,
   "metadata": {},
   "outputs": [],
   "source": [
    "graph_dict_2: GraphDict = {\n",
    "    \"A\": { \"B\": 1 },\n",
    "    \"B\": { \"C\": 1 },\n",
    "    \"C\": { \"A\": 1 }\n",
    "}"
   ]
  },
  {
   "cell_type": "markdown",
   "metadata": {},
   "source": [
    "#### Beispiel 3:\n",
    "\n",
    "![](Diagramme/Graphen/Abbildungen/Beispiel_03.png)"
   ]
  },
  {
   "cell_type": "code",
   "execution_count": 715,
   "metadata": {},
   "outputs": [],
   "source": [
    "graph_dict_3: GraphDict = {\n",
    "    \"A\": { \"B\": 1, \"C\": 1 },\n",
    "    \"B\": { \"C\": 1, \"D\": 1 },\n",
    "    \"C\": { \"D\": 1 },\n",
    "    \"D\": { \"A\": 1 }\n",
    "}"
   ]
  },
  {
   "cell_type": "markdown",
   "metadata": {},
   "source": [
    "## 2. Pfadauflistung\n",
    "\n",
    "![](Pfadauflistung.png)"
   ]
  },
  {
   "cell_type": "code",
   "execution_count": 716,
   "metadata": {},
   "outputs": [],
   "source": [
    "PfadMatrix = list[KnotenMatrix]"
   ]
  },
  {
   "cell_type": "markdown",
   "metadata": {},
   "source": [
    "### 2.1. Matrizen"
   ]
  },
  {
   "cell_type": "code",
   "execution_count": 717,
   "metadata": {},
   "outputs": [],
   "source": [
    "def pfadauflistung_matrix_internal(graph: GraphMatrix, knoten_von: KnotenMatrix, knoten_nach: KnotenMatrix, pfad_präfix: PfadMatrix, ergebnis: list[PfadMatrix], einrückung: str = \"\"):\n",
    "\n",
    "    # Debugausgabe\n",
    "\n",
    "    print(f\"{einrückung}pfadauflistung_matrix_internal(..., {knoten_von}, {knoten_nach}, {pfad_präfix}, {ergebnis})\")\n",
    "\n",
    "    # Aktuellen Knoten dem Pfad hinzufügen\n",
    "    \n",
    "    pfad_präfix.append(knoten_von)\n",
    "\n",
    "    print(f\"{einrückung} - Pfad-Präfix erweitert: {pfad_präfix}\")\n",
    "\n",
    "    # Prüfen, ob das Ziel erreicht wurde\n",
    "\n",
    "    if knoten_von == knoten_nach:\n",
    "\n",
    "        # Fall 1: Ziel erreicht!\n",
    "\n",
    "        # Debugausgabe\n",
    "\n",
    "        print(f\"{einrückung} - Ziel erreicht\")\n",
    "\n",
    "        # Pfad merken!\n",
    "\n",
    "        ergebnis.append(pfad_präfix.copy())\n",
    "\n",
    "        print(f\"{einrückung}   => Ergebnis aktualisiert: {ergebnis}\")\n",
    "\n",
    "    else:\n",
    "\n",
    "        # Fall 2: Ziel noch nicht erreicht!\n",
    "\n",
    "        # Nachbarknoten besuchen\n",
    "\n",
    "        for knoten_über, kante_gewicht in enumerate(graph[knoten_von]):\n",
    "\n",
    "            if kante_gewicht > 0:\n",
    "\n",
    "                print(f\"{einrückung} - Kante {knoten_von} -> {knoten_über}\")\n",
    "\n",
    "                # Kante existiert!\n",
    "\n",
    "                if knoten_über not in pfad_präfix:\n",
    "\n",
    "                    # Knoten noch nicht besucht => rekursiver Aufruf!\n",
    "\n",
    "                    pfadauflistung_matrix_internal(graph, knoten_über, knoten_nach, pfad_präfix, ergebnis, f\"{einrückung} \")\n",
    "                \n",
    "                else:\n",
    "\n",
    "                    # Knoten bereits besucht\n",
    "\n",
    "                    print(f\"{einrückung}   => Knoten {knoten_über} bereits besucht\")\n",
    "    \n",
    "    # Aktuellen Knoten wieder aus der Pfadliste löschen\n",
    "    \n",
    "    pfad_präfix.pop()\n",
    "\n",
    "    print(f\"{einrückung} - Pfad-Präfix reduziert: {pfad_präfix}\")\n",
    "\n",
    "\n",
    "\n",
    "def pfadauflistung_matrix(graph: GraphMatrix, knoten_von: KnotenMatrix, knoten_nach: KnotenMatrix):\n",
    "\n",
    "    # Datenstruktur für Speicherung von Pfaden initialisieren\n",
    "\n",
    "    pfad_präfix: PfadMatrix = []\n",
    "\n",
    "    # Datenstruktur für Speicherung von Ergebnissen initialisieren\n",
    "\n",
    "    ergebnis: list[PfadMatrix] = []\n",
    "\n",
    "    # Berechnung durchführen und Ergebnis zurückgeben\n",
    "    \n",
    "    pfadauflistung_matrix_internal(graph, knoten_von, knoten_nach, pfad_präfix, ergebnis)\n",
    "\n",
    "    # Ergebnisdatenstruktur zurückgeben\n",
    "\n",
    "    return ergebnis"
   ]
  },
  {
   "cell_type": "markdown",
   "metadata": {},
   "source": [
    "#### Beispiel 1:\n",
    "\n",
    "![](Diagramme/Graphen/Matrizen/Beispiel_01.png)"
   ]
  },
  {
   "cell_type": "code",
   "execution_count": 718,
   "metadata": {},
   "outputs": [
    {
     "name": "stdout",
     "output_type": "stream",
     "text": [
      "pfadauflistung_matrix_internal(..., 0, 0, [], [])\n",
      " - Pfad-Präfix erweitert: [0]\n",
      " - Ziel erreicht\n",
      "   => Ergebnis aktualisiert: [[0]]\n",
      " - Pfad-Präfix reduziert: []\n"
     ]
    },
    {
     "data": {
      "text/plain": [
       "[[0]]"
      ]
     },
     "execution_count": 718,
     "metadata": {},
     "output_type": "execute_result"
    }
   ],
   "source": [
    "pfadauflistung_matrix(graph_matrix_1, 0, 0)"
   ]
  },
  {
   "cell_type": "code",
   "execution_count": 719,
   "metadata": {},
   "outputs": [
    {
     "name": "stdout",
     "output_type": "stream",
     "text": [
      "pfadauflistung_matrix_internal(..., 0, 1, [], [])\n",
      " - Pfad-Präfix erweitert: [0]\n",
      " - Kante 0 -> 1\n",
      " pfadauflistung_matrix_internal(..., 1, 1, [0], [])\n",
      "  - Pfad-Präfix erweitert: [0, 1]\n",
      "  - Ziel erreicht\n",
      "    => Ergebnis aktualisiert: [[0, 1]]\n",
      "  - Pfad-Präfix reduziert: [0]\n",
      " - Pfad-Präfix reduziert: []\n"
     ]
    },
    {
     "data": {
      "text/plain": [
       "[[0, 1]]"
      ]
     },
     "execution_count": 719,
     "metadata": {},
     "output_type": "execute_result"
    }
   ],
   "source": [
    "pfadauflistung_matrix(graph_matrix_1, 0, 1)"
   ]
  },
  {
   "cell_type": "markdown",
   "metadata": {},
   "source": [
    "#### Beispiel 2:\n",
    "\n",
    "![](Diagramme/Graphen/Matrizen/Beispiel_02.png)"
   ]
  },
  {
   "cell_type": "code",
   "execution_count": 720,
   "metadata": {},
   "outputs": [
    {
     "name": "stdout",
     "output_type": "stream",
     "text": [
      "pfadauflistung_matrix_internal(..., 0, 0, [], [])\n",
      " - Pfad-Präfix erweitert: [0]\n",
      " - Ziel erreicht\n",
      "   => Ergebnis aktualisiert: [[0]]\n",
      " - Pfad-Präfix reduziert: []\n"
     ]
    },
    {
     "data": {
      "text/plain": [
       "[[0]]"
      ]
     },
     "execution_count": 720,
     "metadata": {},
     "output_type": "execute_result"
    }
   ],
   "source": [
    "pfadauflistung_matrix(graph_matrix_2, 0, 0)"
   ]
  },
  {
   "cell_type": "code",
   "execution_count": 721,
   "metadata": {},
   "outputs": [
    {
     "name": "stdout",
     "output_type": "stream",
     "text": [
      "pfadauflistung_matrix_internal(..., 0, 1, [], [])\n",
      " - Pfad-Präfix erweitert: [0]\n",
      " - Kante 0 -> 1\n",
      " pfadauflistung_matrix_internal(..., 1, 1, [0], [])\n",
      "  - Pfad-Präfix erweitert: [0, 1]\n",
      "  - Ziel erreicht\n",
      "    => Ergebnis aktualisiert: [[0, 1]]\n",
      "  - Pfad-Präfix reduziert: [0]\n",
      " - Pfad-Präfix reduziert: []\n"
     ]
    },
    {
     "data": {
      "text/plain": [
       "[[0, 1]]"
      ]
     },
     "execution_count": 721,
     "metadata": {},
     "output_type": "execute_result"
    }
   ],
   "source": [
    "pfadauflistung_matrix(graph_matrix_2, 0, 1)"
   ]
  },
  {
   "cell_type": "code",
   "execution_count": 722,
   "metadata": {},
   "outputs": [
    {
     "name": "stdout",
     "output_type": "stream",
     "text": [
      "pfadauflistung_matrix_internal(..., 0, 2, [], [])\n",
      " - Pfad-Präfix erweitert: [0]\n",
      " - Kante 0 -> 1\n",
      " pfadauflistung_matrix_internal(..., 1, 2, [0], [])\n",
      "  - Pfad-Präfix erweitert: [0, 1]\n",
      "  - Kante 1 -> 2\n",
      "  pfadauflistung_matrix_internal(..., 2, 2, [0, 1], [])\n",
      "   - Pfad-Präfix erweitert: [0, 1, 2]\n",
      "   - Ziel erreicht\n",
      "     => Ergebnis aktualisiert: [[0, 1, 2]]\n",
      "   - Pfad-Präfix reduziert: [0, 1]\n",
      "  - Pfad-Präfix reduziert: [0]\n",
      " - Pfad-Präfix reduziert: []\n"
     ]
    },
    {
     "data": {
      "text/plain": [
       "[[0, 1, 2]]"
      ]
     },
     "execution_count": 722,
     "metadata": {},
     "output_type": "execute_result"
    }
   ],
   "source": [
    "pfadauflistung_matrix(graph_matrix_2, 0, 2)"
   ]
  },
  {
   "cell_type": "markdown",
   "metadata": {},
   "source": [
    "#### Beispiel 3:\n",
    "\n",
    "![](Diagramme/Graphen/Matrizen/Beispiel_03.png)"
   ]
  },
  {
   "cell_type": "code",
   "execution_count": 723,
   "metadata": {},
   "outputs": [
    {
     "name": "stdout",
     "output_type": "stream",
     "text": [
      "pfadauflistung_matrix_internal(..., 0, 0, [], [])\n",
      " - Pfad-Präfix erweitert: [0]\n",
      " - Ziel erreicht\n",
      "   => Ergebnis aktualisiert: [[0]]\n",
      " - Pfad-Präfix reduziert: []\n"
     ]
    },
    {
     "data": {
      "text/plain": [
       "[[0]]"
      ]
     },
     "execution_count": 723,
     "metadata": {},
     "output_type": "execute_result"
    }
   ],
   "source": [
    "pfadauflistung_matrix(graph_matrix_3, 0, 0)"
   ]
  },
  {
   "cell_type": "code",
   "execution_count": 724,
   "metadata": {},
   "outputs": [
    {
     "name": "stdout",
     "output_type": "stream",
     "text": [
      "pfadauflistung_matrix_internal(..., 0, 1, [], [])\n",
      " - Pfad-Präfix erweitert: [0]\n",
      " - Kante 0 -> 1\n",
      " pfadauflistung_matrix_internal(..., 1, 1, [0], [])\n",
      "  - Pfad-Präfix erweitert: [0, 1]\n",
      "  - Ziel erreicht\n",
      "    => Ergebnis aktualisiert: [[0, 1]]\n",
      "  - Pfad-Präfix reduziert: [0]\n",
      " - Kante 0 -> 2\n",
      " pfadauflistung_matrix_internal(..., 2, 1, [0], [[0, 1]])\n",
      "  - Pfad-Präfix erweitert: [0, 2]\n",
      "  - Kante 2 -> 3\n",
      "  pfadauflistung_matrix_internal(..., 3, 1, [0, 2], [[0, 1]])\n",
      "   - Pfad-Präfix erweitert: [0, 2, 3]\n",
      "   - Kante 3 -> 0\n",
      "     => Knoten 0 bereits besucht\n",
      "   - Pfad-Präfix reduziert: [0, 2]\n",
      "  - Pfad-Präfix reduziert: [0]\n",
      " - Pfad-Präfix reduziert: []\n"
     ]
    },
    {
     "data": {
      "text/plain": [
       "[[0, 1]]"
      ]
     },
     "execution_count": 724,
     "metadata": {},
     "output_type": "execute_result"
    }
   ],
   "source": [
    "pfadauflistung_matrix(graph_matrix_3, 0, 1)"
   ]
  },
  {
   "cell_type": "code",
   "execution_count": 725,
   "metadata": {},
   "outputs": [
    {
     "name": "stdout",
     "output_type": "stream",
     "text": [
      "pfadauflistung_matrix_internal(..., 0, 2, [], [])\n",
      " - Pfad-Präfix erweitert: [0]\n",
      " - Kante 0 -> 1\n",
      " pfadauflistung_matrix_internal(..., 1, 2, [0], [])\n",
      "  - Pfad-Präfix erweitert: [0, 1]\n",
      "  - Kante 1 -> 2\n",
      "  pfadauflistung_matrix_internal(..., 2, 2, [0, 1], [])\n",
      "   - Pfad-Präfix erweitert: [0, 1, 2]\n",
      "   - Ziel erreicht\n",
      "     => Ergebnis aktualisiert: [[0, 1, 2]]\n",
      "   - Pfad-Präfix reduziert: [0, 1]\n",
      "  - Kante 1 -> 3\n",
      "  pfadauflistung_matrix_internal(..., 3, 2, [0, 1], [[0, 1, 2]])\n",
      "   - Pfad-Präfix erweitert: [0, 1, 3]\n",
      "   - Kante 3 -> 0\n",
      "     => Knoten 0 bereits besucht\n",
      "   - Pfad-Präfix reduziert: [0, 1]\n",
      "  - Pfad-Präfix reduziert: [0]\n",
      " - Kante 0 -> 2\n",
      " pfadauflistung_matrix_internal(..., 2, 2, [0], [[0, 1, 2]])\n",
      "  - Pfad-Präfix erweitert: [0, 2]\n",
      "  - Ziel erreicht\n",
      "    => Ergebnis aktualisiert: [[0, 1, 2], [0, 2]]\n",
      "  - Pfad-Präfix reduziert: [0]\n",
      " - Pfad-Präfix reduziert: []\n"
     ]
    },
    {
     "data": {
      "text/plain": [
       "[[0, 1, 2], [0, 2]]"
      ]
     },
     "execution_count": 725,
     "metadata": {},
     "output_type": "execute_result"
    }
   ],
   "source": [
    "pfadauflistung_matrix(graph_matrix_3, 0, 2)"
   ]
  },
  {
   "cell_type": "code",
   "execution_count": 726,
   "metadata": {},
   "outputs": [
    {
     "name": "stdout",
     "output_type": "stream",
     "text": [
      "pfadauflistung_matrix_internal(..., 0, 3, [], [])\n",
      " - Pfad-Präfix erweitert: [0]\n",
      " - Kante 0 -> 1\n",
      " pfadauflistung_matrix_internal(..., 1, 3, [0], [])\n",
      "  - Pfad-Präfix erweitert: [0, 1]\n",
      "  - Kante 1 -> 2\n",
      "  pfadauflistung_matrix_internal(..., 2, 3, [0, 1], [])\n",
      "   - Pfad-Präfix erweitert: [0, 1, 2]\n",
      "   - Kante 2 -> 3\n",
      "   pfadauflistung_matrix_internal(..., 3, 3, [0, 1, 2], [])\n",
      "    - Pfad-Präfix erweitert: [0, 1, 2, 3]\n",
      "    - Ziel erreicht\n",
      "      => Ergebnis aktualisiert: [[0, 1, 2, 3]]\n",
      "    - Pfad-Präfix reduziert: [0, 1, 2]\n",
      "   - Pfad-Präfix reduziert: [0, 1]\n",
      "  - Kante 1 -> 3\n",
      "  pfadauflistung_matrix_internal(..., 3, 3, [0, 1], [[0, 1, 2, 3]])\n",
      "   - Pfad-Präfix erweitert: [0, 1, 3]\n",
      "   - Ziel erreicht\n",
      "     => Ergebnis aktualisiert: [[0, 1, 2, 3], [0, 1, 3]]\n",
      "   - Pfad-Präfix reduziert: [0, 1]\n",
      "  - Pfad-Präfix reduziert: [0]\n",
      " - Kante 0 -> 2\n",
      " pfadauflistung_matrix_internal(..., 2, 3, [0], [[0, 1, 2, 3], [0, 1, 3]])\n",
      "  - Pfad-Präfix erweitert: [0, 2]\n",
      "  - Kante 2 -> 3\n",
      "  pfadauflistung_matrix_internal(..., 3, 3, [0, 2], [[0, 1, 2, 3], [0, 1, 3]])\n",
      "   - Pfad-Präfix erweitert: [0, 2, 3]\n",
      "   - Ziel erreicht\n",
      "     => Ergebnis aktualisiert: [[0, 1, 2, 3], [0, 1, 3], [0, 2, 3]]\n",
      "   - Pfad-Präfix reduziert: [0, 2]\n",
      "  - Pfad-Präfix reduziert: [0]\n",
      " - Pfad-Präfix reduziert: []\n"
     ]
    },
    {
     "data": {
      "text/plain": [
       "[[0, 1, 2, 3], [0, 1, 3], [0, 2, 3]]"
      ]
     },
     "execution_count": 726,
     "metadata": {},
     "output_type": "execute_result"
    }
   ],
   "source": [
    "pfadauflistung_matrix(graph_matrix_3, 0, 3)"
   ]
  },
  {
   "cell_type": "markdown",
   "metadata": {},
   "source": [
    "### 2.2. Abbildungen"
   ]
  },
  {
   "cell_type": "code",
   "execution_count": 727,
   "metadata": {},
   "outputs": [],
   "source": [
    "def pfadauflistung_dict(graph: GraphDict, von: KnotenDict, nach: KnotenDict):\n",
    "\n",
    "    # TODO\n",
    "\n",
    "    pass"
   ]
  },
  {
   "cell_type": "markdown",
   "metadata": {},
   "source": [
    "#### Beispiel 1:\n",
    "\n",
    "![](Diagramme/Graphen/Abbildungen/Beispiel_01.png)"
   ]
  },
  {
   "cell_type": "code",
   "execution_count": 728,
   "metadata": {},
   "outputs": [],
   "source": [
    "pfadauflistung_dict(graph_dict_1, \"A\", \"A\")"
   ]
  },
  {
   "cell_type": "code",
   "execution_count": 729,
   "metadata": {},
   "outputs": [],
   "source": [
    "pfadauflistung_dict(graph_dict_1, \"A\", \"B\")"
   ]
  },
  {
   "cell_type": "markdown",
   "metadata": {},
   "source": [
    "#### Beispiel 2:\n",
    "\n",
    "![](Diagramme/Graphen/Abbildungen/Beispiel_02.png)"
   ]
  },
  {
   "cell_type": "code",
   "execution_count": 730,
   "metadata": {},
   "outputs": [],
   "source": [
    "pfadauflistung_dict(graph_dict_2, \"A\", \"A\")"
   ]
  },
  {
   "cell_type": "code",
   "execution_count": 731,
   "metadata": {},
   "outputs": [],
   "source": [
    "pfadauflistung_dict(graph_dict_2, \"A\", \"B\")"
   ]
  },
  {
   "cell_type": "code",
   "execution_count": 732,
   "metadata": {},
   "outputs": [],
   "source": [
    "pfadauflistung_dict(graph_dict_2, \"A\", \"C\")"
   ]
  },
  {
   "cell_type": "markdown",
   "metadata": {},
   "source": [
    "#### Beispiel 3:\n",
    "\n",
    "![](Diagramme/Graphen/Abbildungen/Beispiel_03.png)"
   ]
  },
  {
   "cell_type": "code",
   "execution_count": 733,
   "metadata": {},
   "outputs": [],
   "source": [
    "pfadauflistung_dict(graph_dict_3, \"A\", \"A\")"
   ]
  },
  {
   "cell_type": "code",
   "execution_count": 734,
   "metadata": {},
   "outputs": [],
   "source": [
    "pfadauflistung_dict(graph_dict_3, \"A\", \"B\")"
   ]
  },
  {
   "cell_type": "code",
   "execution_count": 735,
   "metadata": {},
   "outputs": [],
   "source": [
    "pfadauflistung_dict(graph_dict_3, \"A\", \"C\")"
   ]
  },
  {
   "cell_type": "code",
   "execution_count": 736,
   "metadata": {},
   "outputs": [],
   "source": [
    "pfadauflistung_dict(graph_dict_3, \"A\", \"D\")"
   ]
  },
  {
   "cell_type": "markdown",
   "metadata": {},
   "source": [
    "## 3. Kürzeste Pfade\n",
    "\n",
    "![](Kürzeste%20Pfade%201.png)\n",
    "\n",
    "![](Kürzeste%20Pfade%202.png)\n",
    "\n",
    "![](Kürzeste%20Pfade%203.png)"
   ]
  },
  {
   "cell_type": "markdown",
   "metadata": {},
   "source": [
    "### 3.1. Matrizen"
   ]
  },
  {
   "cell_type": "code",
   "execution_count": 801,
   "metadata": {},
   "outputs": [],
   "source": [
    "def kürzesterpfad_matrix_internal(graph: GraphMatrix, knoten_von: KnotenMatrix, knoten_nach: KnotenMatrix, pfad_präfix: list[KnotenMatrix], pfad_gewicht: int, einrückung: str = \"\"):\n",
    "\n",
    "    # Ergebnis intialisieren\n",
    "\n",
    "    kürzester_pfad: list[KnotenMatrix] = None\n",
    "    kürzester_pfad_gewicht = -1\n",
    "\n",
    "    # Aktuellen Knoten dem Pfad hinzufügen\n",
    "    \n",
    "    pfad_präfix.append(knoten_von)\n",
    "\n",
    "    print(f\"{einrückung}kürzester pfad mit präfix {pfad_präfix} nach knoten {knoten_nach}?\")\n",
    "\n",
    "    # Prüfen, ob das Ziel erreicht wurde\n",
    "\n",
    "    if knoten_von == knoten_nach:\n",
    "\n",
    "        # Fall 1: Ziel erreicht!\n",
    "\n",
    "        # Pfad merken!\n",
    "\n",
    "        kürzester_pfad = pfad_präfix.copy()\n",
    "        kürzester_pfad_gewicht = pfad_gewicht\n",
    "\n",
    "    else:\n",
    "\n",
    "        # Fall 2: Ziel noch nicht erreicht!\n",
    "\n",
    "        # Nachbarknoten besuchen\n",
    "\n",
    "        for knoten_über, kante_gewicht in enumerate(graph[knoten_von]):\n",
    "\n",
    "            if kante_gewicht > 0:\n",
    "\n",
    "                # Kante existiert!\n",
    "\n",
    "                if knoten_über not in pfad_präfix:\n",
    "\n",
    "                    # Knoten noch nicht besucht => rekursiver Aufruf!\n",
    "\n",
    "                    temp_kürzester_pfad, temp_kürzester_pfad_gewicht = kürzesterpfad_matrix_internal(graph, knoten_über, knoten_nach, pfad_präfix, pfad_gewicht + kante_gewicht, f\"{einrückung} \")\n",
    "\n",
    "                    # Prüfen, ob ein Pfad gefunden wurde\n",
    "\n",
    "                    if temp_kürzester_pfad_gewicht >= 0:\n",
    "\n",
    "                        # Prüfen, ob der gefundene Pfad besser ist\n",
    "\n",
    "                        if kürzester_pfad_gewicht == -1 or temp_kürzester_pfad_gewicht < kürzester_pfad_gewicht:\n",
    "\n",
    "                            # Besseren Pfad merken\n",
    "\n",
    "                            kürzester_pfad = temp_kürzester_pfad\n",
    "                            kürzester_pfad_gewicht = temp_kürzester_pfad_gewicht\n",
    "\n",
    "    print(f\"{einrückung}{pfad_präfix} => {kürzester_pfad} mit Gewicht {kürzester_pfad_gewicht}\")\n",
    "    \n",
    "    # Aktuellen Knoten wieder aus der Pfadliste löschen\n",
    "    \n",
    "    pfad_präfix.pop()\n",
    "\n",
    "    # Ergebnis zurückgeben\n",
    "\n",
    "    return kürzester_pfad, kürzester_pfad_gewicht\n",
    "\n",
    "def kürzesterpfad_matrix(graph: GraphMatrix, von: KnotenMatrix, nach: KnotenMatrix):\n",
    "\n",
    "    pfad = []\n",
    "\n",
    "    pfadLänge = 0\n",
    "    \n",
    "    return kürzesterpfad_matrix_internal(graph, von, nach, pfad, pfadLänge)"
   ]
  },
  {
   "cell_type": "markdown",
   "metadata": {},
   "source": [
    "#### Beispiel 1:\n",
    "\n",
    "![](Diagramme/Graphen/Matrizen/Beispiel_01.png)"
   ]
  },
  {
   "cell_type": "code",
   "execution_count": 802,
   "metadata": {},
   "outputs": [
    {
     "name": "stdout",
     "output_type": "stream",
     "text": [
      "kürzester pfad mit präfix [0] nach knoten 0?\n",
      "[0] => [0] mit Gewicht 0\n"
     ]
    },
    {
     "data": {
      "text/plain": [
       "([0], 0)"
      ]
     },
     "execution_count": 802,
     "metadata": {},
     "output_type": "execute_result"
    }
   ],
   "source": [
    "kürzesterpfad_matrix(graph_matrix_1, 0, 0)"
   ]
  },
  {
   "cell_type": "code",
   "execution_count": 803,
   "metadata": {},
   "outputs": [
    {
     "name": "stdout",
     "output_type": "stream",
     "text": [
      "kürzester pfad mit präfix [0] nach knoten 1?\n",
      " kürzester pfad mit präfix [0, 1] nach knoten 1?\n",
      " [0, 1] => [0, 1] mit Gewicht 1\n",
      "[0] => [0, 1] mit Gewicht 1\n"
     ]
    },
    {
     "data": {
      "text/plain": [
       "([0, 1], 1)"
      ]
     },
     "execution_count": 803,
     "metadata": {},
     "output_type": "execute_result"
    }
   ],
   "source": [
    "kürzesterpfad_matrix(graph_matrix_1, 0, 1)"
   ]
  },
  {
   "cell_type": "markdown",
   "metadata": {},
   "source": [
    "#### Beispiel 2:\n",
    "\n",
    "![](Diagramme/Graphen/Matrizen/Beispiel_02.png)"
   ]
  },
  {
   "cell_type": "code",
   "execution_count": 804,
   "metadata": {},
   "outputs": [
    {
     "name": "stdout",
     "output_type": "stream",
     "text": [
      "kürzester pfad mit präfix [0] nach knoten 0?\n",
      "[0] => [0] mit Gewicht 0\n"
     ]
    },
    {
     "data": {
      "text/plain": [
       "([0], 0)"
      ]
     },
     "execution_count": 804,
     "metadata": {},
     "output_type": "execute_result"
    }
   ],
   "source": [
    "kürzesterpfad_matrix(graph_matrix_2, 0, 0)"
   ]
  },
  {
   "cell_type": "code",
   "execution_count": 805,
   "metadata": {},
   "outputs": [
    {
     "name": "stdout",
     "output_type": "stream",
     "text": [
      "kürzester pfad mit präfix [0] nach knoten 1?\n",
      " kürzester pfad mit präfix [0, 1] nach knoten 1?\n",
      " [0, 1] => [0, 1] mit Gewicht 1\n",
      "[0] => [0, 1] mit Gewicht 1\n"
     ]
    },
    {
     "data": {
      "text/plain": [
       "([0, 1], 1)"
      ]
     },
     "execution_count": 805,
     "metadata": {},
     "output_type": "execute_result"
    }
   ],
   "source": [
    "kürzesterpfad_matrix(graph_matrix_2, 0, 1)"
   ]
  },
  {
   "cell_type": "code",
   "execution_count": 806,
   "metadata": {},
   "outputs": [
    {
     "name": "stdout",
     "output_type": "stream",
     "text": [
      "kürzester pfad mit präfix [0] nach knoten 2?\n",
      " kürzester pfad mit präfix [0, 1] nach knoten 2?\n",
      "  kürzester pfad mit präfix [0, 1, 2] nach knoten 2?\n",
      "  [0, 1, 2] => [0, 1, 2] mit Gewicht 2\n",
      " [0, 1] => [0, 1, 2] mit Gewicht 2\n",
      "[0] => [0, 1, 2] mit Gewicht 2\n"
     ]
    },
    {
     "data": {
      "text/plain": [
       "([0, 1, 2], 2)"
      ]
     },
     "execution_count": 806,
     "metadata": {},
     "output_type": "execute_result"
    }
   ],
   "source": [
    "kürzesterpfad_matrix(graph_matrix_2, 0, 2)"
   ]
  },
  {
   "cell_type": "markdown",
   "metadata": {},
   "source": [
    "#### Beispiel 3:\n",
    "\n",
    "![](Diagramme/Graphen/Matrizen/Beispiel_03.png)"
   ]
  },
  {
   "cell_type": "code",
   "execution_count": 807,
   "metadata": {},
   "outputs": [
    {
     "name": "stdout",
     "output_type": "stream",
     "text": [
      "kürzester pfad mit präfix [0] nach knoten 0?\n",
      "[0] => [0] mit Gewicht 0\n"
     ]
    },
    {
     "data": {
      "text/plain": [
       "([0], 0)"
      ]
     },
     "execution_count": 807,
     "metadata": {},
     "output_type": "execute_result"
    }
   ],
   "source": [
    "kürzesterpfad_matrix(graph_matrix_3, 0, 0)"
   ]
  },
  {
   "cell_type": "code",
   "execution_count": 808,
   "metadata": {},
   "outputs": [
    {
     "name": "stdout",
     "output_type": "stream",
     "text": [
      "kürzester pfad mit präfix [0] nach knoten 1?\n",
      " kürzester pfad mit präfix [0, 1] nach knoten 1?\n",
      " [0, 1] => [0, 1] mit Gewicht 1\n",
      " kürzester pfad mit präfix [0, 2] nach knoten 1?\n",
      "  kürzester pfad mit präfix [0, 2, 3] nach knoten 1?\n",
      "  [0, 2, 3] => None mit Gewicht -1\n",
      " [0, 2] => None mit Gewicht -1\n",
      "[0] => [0, 1] mit Gewicht 1\n"
     ]
    },
    {
     "data": {
      "text/plain": [
       "([0, 1], 1)"
      ]
     },
     "execution_count": 808,
     "metadata": {},
     "output_type": "execute_result"
    }
   ],
   "source": [
    "kürzesterpfad_matrix(graph_matrix_3, 0, 1)"
   ]
  },
  {
   "cell_type": "code",
   "execution_count": 809,
   "metadata": {},
   "outputs": [
    {
     "name": "stdout",
     "output_type": "stream",
     "text": [
      "kürzester pfad mit präfix [0] nach knoten 2?\n",
      " kürzester pfad mit präfix [0, 1] nach knoten 2?\n",
      "  kürzester pfad mit präfix [0, 1, 2] nach knoten 2?\n",
      "  [0, 1, 2] => [0, 1, 2] mit Gewicht 2\n",
      "  kürzester pfad mit präfix [0, 1, 3] nach knoten 2?\n",
      "  [0, 1, 3] => None mit Gewicht -1\n",
      " [0, 1] => [0, 1, 2] mit Gewicht 2\n",
      " kürzester pfad mit präfix [0, 2] nach knoten 2?\n",
      " [0, 2] => [0, 2] mit Gewicht 1\n",
      "[0] => [0, 2] mit Gewicht 1\n"
     ]
    },
    {
     "data": {
      "text/plain": [
       "([0, 2], 1)"
      ]
     },
     "execution_count": 809,
     "metadata": {},
     "output_type": "execute_result"
    }
   ],
   "source": [
    "kürzesterpfad_matrix(graph_matrix_3, 0, 2)"
   ]
  },
  {
   "cell_type": "code",
   "execution_count": 810,
   "metadata": {},
   "outputs": [
    {
     "name": "stdout",
     "output_type": "stream",
     "text": [
      "kürzester pfad mit präfix [0] nach knoten 3?\n",
      " kürzester pfad mit präfix [0, 1] nach knoten 3?\n",
      "  kürzester pfad mit präfix [0, 1, 2] nach knoten 3?\n",
      "   kürzester pfad mit präfix [0, 1, 2, 3] nach knoten 3?\n",
      "   [0, 1, 2, 3] => [0, 1, 2, 3] mit Gewicht 3\n",
      "  [0, 1, 2] => [0, 1, 2, 3] mit Gewicht 3\n",
      "  kürzester pfad mit präfix [0, 1, 3] nach knoten 3?\n",
      "  [0, 1, 3] => [0, 1, 3] mit Gewicht 2\n",
      " [0, 1] => [0, 1, 3] mit Gewicht 2\n",
      " kürzester pfad mit präfix [0, 2] nach knoten 3?\n",
      "  kürzester pfad mit präfix [0, 2, 3] nach knoten 3?\n",
      "  [0, 2, 3] => [0, 2, 3] mit Gewicht 2\n",
      " [0, 2] => [0, 2, 3] mit Gewicht 2\n",
      "[0] => [0, 1, 3] mit Gewicht 2\n"
     ]
    },
    {
     "data": {
      "text/plain": [
       "([0, 1, 3], 2)"
      ]
     },
     "execution_count": 810,
     "metadata": {},
     "output_type": "execute_result"
    }
   ],
   "source": [
    "kürzesterpfad_matrix(graph_matrix_3, 0, 3)"
   ]
  },
  {
   "cell_type": "markdown",
   "metadata": {},
   "source": [
    "### 3.2. Abbildungen"
   ]
  },
  {
   "cell_type": "code",
   "execution_count": 811,
   "metadata": {},
   "outputs": [],
   "source": [
    "def kürzesterpfad_dict(graph: GraphDict, von: KnotenDict, nach: KnotenDict):\n",
    "\n",
    "    # TODO\n",
    "\n",
    "    pass"
   ]
  },
  {
   "cell_type": "markdown",
   "metadata": {},
   "source": [
    "#### Beispiel 1:\n",
    "\n",
    "![](Diagramme/Graphen/Abbildungen/Beispiel_01.png)"
   ]
  },
  {
   "cell_type": "code",
   "execution_count": 812,
   "metadata": {},
   "outputs": [],
   "source": [
    "kürzesterpfad_dict(graph_dict_1, \"A\", \"A\")"
   ]
  },
  {
   "cell_type": "code",
   "execution_count": 813,
   "metadata": {},
   "outputs": [],
   "source": [
    "kürzesterpfad_dict(graph_dict_1, \"A\", \"B\")"
   ]
  },
  {
   "cell_type": "markdown",
   "metadata": {},
   "source": [
    "#### Beispiel 2:\n",
    "\n",
    "![](Diagramme/Graphen/Abbildungen/Beispiel_02.png)"
   ]
  },
  {
   "cell_type": "code",
   "execution_count": 814,
   "metadata": {},
   "outputs": [],
   "source": [
    "kürzesterpfad_dict(graph_dict_2, \"A\", \"A\")"
   ]
  },
  {
   "cell_type": "code",
   "execution_count": 815,
   "metadata": {},
   "outputs": [],
   "source": [
    "kürzesterpfad_dict(graph_dict_2, \"A\", \"B\")"
   ]
  },
  {
   "cell_type": "code",
   "execution_count": 816,
   "metadata": {},
   "outputs": [],
   "source": [
    "kürzesterpfad_dict(graph_dict_2, \"A\", \"C\")"
   ]
  },
  {
   "cell_type": "markdown",
   "metadata": {},
   "source": [
    "#### Beispiel 3:\n",
    "\n",
    "![](Diagramme/Graphen/Abbildungen/Beispiel_03.png)"
   ]
  },
  {
   "cell_type": "code",
   "execution_count": 817,
   "metadata": {},
   "outputs": [],
   "source": [
    "kürzesterpfad_dict(graph_dict_3, \"A\", \"A\")"
   ]
  },
  {
   "cell_type": "code",
   "execution_count": 818,
   "metadata": {},
   "outputs": [],
   "source": [
    "kürzesterpfad_dict(graph_dict_3, \"A\", \"B\")"
   ]
  },
  {
   "cell_type": "code",
   "execution_count": 819,
   "metadata": {},
   "outputs": [],
   "source": [
    "kürzesterpfad_dict(graph_dict_3, \"A\", \"C\")"
   ]
  },
  {
   "cell_type": "code",
   "execution_count": 820,
   "metadata": {},
   "outputs": [],
   "source": [
    "kürzesterpfad_dict(graph_dict_3, \"A\", \"D\")"
   ]
  }
 ],
 "metadata": {
  "kernelspec": {
   "display_name": "Python 3",
   "language": "python",
   "name": "python3"
  },
  "language_info": {
   "codemirror_mode": {
    "name": "ipython",
    "version": 3
   },
   "file_extension": ".py",
   "mimetype": "text/x-python",
   "name": "python",
   "nbconvert_exporter": "python",
   "pygments_lexer": "ipython3",
   "version": "3.12.2"
  }
 },
 "nbformat": 4,
 "nbformat_minor": 2
}
