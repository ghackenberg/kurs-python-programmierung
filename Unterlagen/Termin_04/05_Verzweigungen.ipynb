{
 "cells": [
  {
   "cell_type": "markdown",
   "metadata": {},
   "source": [
    "# Verzweigungen\n",
    "\n",
    "Es gibt drei unterschiedliche Verzweigungsarten:\n",
    "\n",
    "- `if-elif-else` Verzweigung\n",
    "- `match-case` Verzweigung\n",
    "- `try-raise-except-finally` Verzweigung\n",
    "\n",
    "Im Folgenden betrachten wir die drei Arten genauer."
   ]
  },
  {
   "cell_type": "markdown",
   "metadata": {},
   "source": [
    "## 1. `if-elif-else` Verzweigung"
   ]
  },
  {
   "cell_type": "code",
   "execution_count": 48,
   "metadata": {},
   "outputs": [],
   "source": [
    "Bedingung1 = False # Ein boolscher Wert, kann Ergebnis einer Berechnung sein\n",
    "Bedingung2 = True\n",
    "Bedingung3 = True"
   ]
  },
  {
   "cell_type": "code",
   "execution_count": 49,
   "metadata": {},
   "outputs": [],
   "source": [
    "# Einfache bedingte Ausführung\n",
    "\n",
    "if Bedingung1:\n",
    "    print(\"test\")"
   ]
  },
  {
   "cell_type": "code",
   "execution_count": 50,
   "metadata": {},
   "outputs": [
    {
     "name": "stdout",
     "output_type": "stream",
     "text": [
      "b\n"
     ]
    }
   ],
   "source": [
    "# Bedingte Ausführung mit einem alternativen Zweig\n",
    "\n",
    "if Bedingung1:\n",
    "    print(\"a\")\n",
    "elif Bedingung2:\n",
    "    print(\"b\")"
   ]
  },
  {
   "cell_type": "code",
   "execution_count": 51,
   "metadata": {},
   "outputs": [
    {
     "name": "stdout",
     "output_type": "stream",
     "text": [
      "b\n"
     ]
    }
   ],
   "source": [
    "# Bedingte Ausführung mit einem universellen Ausweichzweig\n",
    "\n",
    "if Bedingung1:\n",
    "    print(\"a\")\n",
    "else:\n",
    "    print(\"b\")"
   ]
  },
  {
   "cell_type": "code",
   "execution_count": 52,
   "metadata": {},
   "outputs": [
    {
     "name": "stdout",
     "output_type": "stream",
     "text": [
      "b\n"
     ]
    }
   ],
   "source": [
    "# Mischung der obigen Varianten (und komplexe Bedingungen)\n",
    "\n",
    "if Bedingung1 and type(Bedingung1) is bool:\n",
    "    print(\"a\")\n",
    "elif Bedingung2:\n",
    "\n",
    "    # Unterverzweigung, die unabhängig von der übergeordneten Verzweigung ist\n",
    "\n",
    "    if Bedingung1 or Bedingung2:\n",
    "        print(\"b\")\n",
    "    elif Bedingung3 or 5 > 2:\n",
    "        print(\"c\")\n",
    "    else:\n",
    "        print(\"d\")\n",
    "\n",
    "elif Bedingung3:\n",
    "    print(\"e\")\n",
    "else:\n",
    "    print(\"f\")"
   ]
  },
  {
   "cell_type": "code",
   "execution_count": 53,
   "metadata": {},
   "outputs": [
    {
     "name": "stdout",
     "output_type": "stream",
     "text": [
      "x\n",
      "ja!\n"
     ]
    }
   ],
   "source": [
    "# Abdeckung größerer Wertebereiche in einem Zweig\n",
    "\n",
    "i = 5\n",
    "\n",
    "if i > 0 and i < 10:\n",
    "    print(\"x\")\n",
    "\n",
    "if \"ab\" in \"itrjzhefjhdflhg  dfghdfgh  ab fegthzidfh\":\n",
    "    print(\"ja!\")"
   ]
  },
  {
   "cell_type": "markdown",
   "metadata": {},
   "source": [
    "## 2. `match-case` Verzweigung"
   ]
  },
  {
   "cell_type": "code",
   "execution_count": 54,
   "metadata": {},
   "outputs": [
    {
     "name": "stdout",
     "output_type": "stream",
     "text": [
      "a\n"
     ]
    }
   ],
   "source": [
    "Wert = 1, 2 # -> Tupel! Unveränderliche Liste\n",
    "\n",
    "Wert[0]\n",
    "Wert[1]\n",
    "\n",
    "match Wert:\n",
    "    case 1, 2:\n",
    "        print(\"a\")\n",
    "    case 2:\n",
    "        print(\"b\")\n",
    "    case 3:\n",
    "        print(\"c\")\n",
    "    case _:\n",
    "        print(\"d\")"
   ]
  },
  {
   "cell_type": "markdown",
   "metadata": {},
   "source": [
    "## 3. `try-raise-except-finally` Verzweigung\n",
    "\n",
    "Grundlegender Aufbau eines `try-raise-except-finally` Blocks:\n",
    "\n",
    "- Ausführung des `try` Blocks wird abgebrochen, wenn eine Ausnahme ausgelöst wird.\n",
    "- Die Ausführung springt dann zum nächsten übergeordneten `except` Block.\n",
    "- Mehrere `except` Blöcke können anhand des Datentyps der Ausnahme unterschieden werden.\n",
    "- Der `finally` Block kann schließlich für Aufräumarbeiten verwendet werden (Dateien, Sockets, ...)"
   ]
  },
  {
   "cell_type": "code",
   "execution_count": 55,
   "metadata": {},
   "outputs": [
    {
     "name": "stdout",
     "output_type": "stream",
     "text": [
      "a\n",
      "c\n",
      "g\n"
     ]
    }
   ],
   "source": [
    "try:\n",
    "    print(\"a\")\n",
    "    a = 5,6\n",
    "    \n",
    "    # Ausnahmen werden durch Operator ausgelöst\n",
    "    a[2] # -> IndexError!\n",
    "    a[0] = 7 # -> TypeError!\n",
    "\n",
    "    # Ausnahme wird manuell ausgelöst\n",
    "    raise TypeError() # -> TypeError!\n",
    "    \n",
    "    print(\"b\")\n",
    "except IndexError:\n",
    "    print(\"c\")\n",
    "except TypeError:\n",
    "    print(\"d\")\n",
    "except int:\n",
    "    print(\"e\")\n",
    "except str:\n",
    "    print(\"f\")\n",
    "finally:\n",
    "    print(\"g\")"
   ]
  },
  {
   "cell_type": "code",
   "execution_count": 56,
   "metadata": {},
   "outputs": [
    {
     "name": "stdout",
     "output_type": "stream",
     "text": [
      "Fehler!\n"
     ]
    }
   ],
   "source": [
    "# Operatoren können auch Ausnahmen auslösen (1)\n",
    "\n",
    "try:\n",
    "    \"a\" + 1\n",
    "except:\n",
    "    print(\"Fehler!\")"
   ]
  },
  {
   "cell_type": "code",
   "execution_count": 57,
   "metadata": {},
   "outputs": [
    {
     "name": "stdout",
     "output_type": "stream",
     "text": [
      "Fehler!\n"
     ]
    }
   ],
   "source": [
    "# Operatoren können auch Ausnahmen auslösen (2)\n",
    "\n",
    "try:\n",
    "    [1, 2][5]\n",
    "except:\n",
    "    print(\"Fehler!\")"
   ]
  },
  {
   "cell_type": "code",
   "execution_count": 58,
   "metadata": {},
   "outputs": [
    {
     "name": "stdout",
     "output_type": "stream",
     "text": [
      "Fehler!\n"
     ]
    }
   ],
   "source": [
    "\n",
    "# Funktionen lösen meistens auch Ausnahmen aus\n",
    "\n",
    "def summe(a, b):\n",
    "    if type(a) is int and type(b) is int:\n",
    "        return a + b\n",
    "    else:\n",
    "        raise Exception(\"Fehler!\")\n",
    "\n",
    "try:\n",
    "    summe(1, \"a\")\n",
    "except:\n",
    "    print(\"Fehler!\")"
   ]
  }
 ],
 "metadata": {
  "kernelspec": {
   "display_name": "Python 3",
   "language": "python",
   "name": "python3"
  },
  "language_info": {
   "codemirror_mode": {
    "name": "ipython",
    "version": 3
   },
   "file_extension": ".py",
   "mimetype": "text/x-python",
   "name": "python",
   "nbconvert_exporter": "python",
   "pygments_lexer": "ipython3",
   "version": "3.12.2"
  }
 },
 "nbformat": 4,
 "nbformat_minor": 2
}
