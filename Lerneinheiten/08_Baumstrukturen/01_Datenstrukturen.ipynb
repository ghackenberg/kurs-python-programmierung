{
 "cells": [
  {
   "cell_type": "markdown",
   "metadata": {},
   "source": [
    "# Datenstrukturen für Bäume\n",
    "\n",
    "Bäume sind eine beliebte Datenstruktur in der Informatik. Die bekannteste Anwendung ist sicherlich der Dateisystembaum bestehend aus Geräten, Ordnern und Dateien. Geräte repräsentieren dabei die Wurzel des Baumes. Die Datein sind hingegen die Blätter. Dies ist in folgender Grafik noch einmal dargestellt.\n",
    "\n",
    "![](Diagramme/Dateisystem.png)\n",
    "\n",
    "Baumstrukturen lassen sich auf unterschiedliche Weisen in Computerprogrammen darstellen. Im Folgenden betrachten wir zwei einfache Darstellungsweisen, die sich mithilfe der bisher bekannten Datentypen und Datenstrukturen realisieren lassen:\n",
    "\n",
    "* Darstellung von Bäumen als **geschachtelte Listen** und\n",
    "* Darstellung von Bäumen als **geschachtelte Abbildungen**.\n",
    "\n",
    "Im Folgenden diskutieren wir diese beiden Darstellungweisen genauer."
   ]
  },
  {
   "cell_type": "markdown",
   "metadata": {},
   "source": [
    "## 1. Geschachtelte Listen\n",
    "\n",
    "Nur Blattknoten enthalten Daten!"
   ]
  },
  {
   "cell_type": "markdown",
   "metadata": {},
   "source": [
    "### Beispiel 1:\n",
    "\n",
    "Baum, der nur aus einem Wurzelknoten besteht.\n",
    "\n",
    "![](Diagramme/Listen/Baum_01.png)"
   ]
  },
  {
   "cell_type": "code",
   "execution_count": 110,
   "metadata": {},
   "outputs": [],
   "source": [
    "baum_list_1 = 1"
   ]
  },
  {
   "cell_type": "markdown",
   "metadata": {},
   "source": [
    "baum = [1, 2]"
   ]
  },
  {
   "cell_type": "markdown",
   "metadata": {},
   "source": [
    "### Beispiel 2:\n",
    "\n",
    "Baum, der aus einem Wurzelknoten und zwei Kindknoten besteht.\n",
    "\n",
    "![](Diagramme/Listen/Baum_02.png)"
   ]
  },
  {
   "cell_type": "code",
   "execution_count": 111,
   "metadata": {},
   "outputs": [],
   "source": [
    "baum_list_2 = [1, 2]"
   ]
  },
  {
   "cell_type": "markdown",
   "metadata": {},
   "source": [
    "### Beispiel 3:\n",
    "\n",
    "Baum, der aus einem Wurzelknoten, zwei Kindknoten, und einem Kindeskindknoten besteht.\n",
    "\n",
    "![](Diagramme/Listen/Baum_03.png)"
   ]
  },
  {
   "cell_type": "code",
   "execution_count": 112,
   "metadata": {},
   "outputs": [],
   "source": [
    "baum_list_3 = [[1], 2]"
   ]
  },
  {
   "cell_type": "markdown",
   "metadata": {},
   "source": [
    "### Beispiel 4:\n",
    "\n",
    "Baum, der aus einem Wurzelknoten, zwei Kindknoten, zwei Kindeskindknoten, und einem Kindknoten dritter Ordnung besteht.\n",
    "\n",
    "![](Diagramme/Listen/Baum_04.png)"
   ]
  },
  {
   "cell_type": "code",
   "execution_count": 113,
   "metadata": {},
   "outputs": [],
   "source": [
    "baum_list_4 = [[[1], 2], 3]"
   ]
  },
  {
   "cell_type": "markdown",
   "metadata": {},
   "source": [
    "## 2. Geschachtelte Abbildungen\n",
    "\n",
    "Auch innere Knoten enhalten Daten!"
   ]
  },
  {
   "cell_type": "markdown",
   "metadata": {},
   "source": [
    "### Beispiel 1:\n",
    "\n",
    "Baum, der nur aus einem Wurzelknoten besteht.\n",
    "\n",
    "![](Diagramme/Abbildungen/Baum_01.png)"
   ]
  },
  {
   "cell_type": "code",
   "execution_count": 114,
   "metadata": {},
   "outputs": [],
   "source": [
    "baum_dict_1 = {}"
   ]
  },
  {
   "cell_type": "markdown",
   "metadata": {},
   "source": [
    "### Beispiel 2:\n",
    "\n",
    "Baum, der aus einem Wurzelknoten und zwei Kindknoten besteht.\n",
    "\n",
    "![](Diagramme/Abbildungen/Baum_02.png)"
   ]
  },
  {
   "cell_type": "code",
   "execution_count": 115,
   "metadata": {},
   "outputs": [],
   "source": [
    "baum_dict_2 = { 1: {}, 2: {} }"
   ]
  },
  {
   "cell_type": "markdown",
   "metadata": {},
   "source": [
    "### Beispiel 3:\n",
    "\n",
    "Baum, der aus einem Wurzelknoten, zwei Kindknoten, und einem Kindeskindknoten besteht.\n",
    "\n",
    "![](Diagramme/Abbildungen/Baum_03.png)"
   ]
  },
  {
   "cell_type": "code",
   "execution_count": 116,
   "metadata": {},
   "outputs": [],
   "source": [
    "baum_dict_3 = { 1: { 2: {} }, 3: {} }"
   ]
  },
  {
   "cell_type": "markdown",
   "metadata": {},
   "source": [
    "### Beispiel 4:\n",
    "\n",
    "Baum, der aus einem Wurzelknoten, zwei Kindknoten, einem Kindeskindknoten, und einem Kindknoten dritter Ordnung besteht.\n",
    "\n",
    "![](Diagramme/Abbildungen/Baum_04.png)"
   ]
  },
  {
   "cell_type": "code",
   "execution_count": 117,
   "metadata": {},
   "outputs": [],
   "source": [
    "baum_dict_4 = { \"A\": { \"B\": { \"Dieser Knoten hat extra Daten!\": {} } }, \"C\": {} }"
   ]
  }
 ],
 "metadata": {
  "kernelspec": {
   "display_name": "Python 3",
   "language": "python",
   "name": "python3"
  },
  "language_info": {
   "codemirror_mode": {
    "name": "ipython",
    "version": 3
   },
   "file_extension": ".py",
   "mimetype": "text/x-python",
   "name": "python",
   "nbconvert_exporter": "python",
   "pygments_lexer": "ipython3",
   "version": "3.12.1"
  }
 },
 "nbformat": 4,
 "nbformat_minor": 2
}
