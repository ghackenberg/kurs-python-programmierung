{
 "cells": [
  {
   "cell_type": "markdown",
   "metadata": {},
   "source": [
    "# Übungen zu Baumstrukturen"
   ]
  },
  {
   "cell_type": "markdown",
   "metadata": {},
   "source": [
    "## Übung 1: **Durchschnittliche Baumtiefe** mittels Rekursion\n",
    "\n",
    "Schreiben Sie eine Funktion, die für eine gegebene Baumstruktur die durchschnittliche Baumtiefe berechnet. Berechnen Sie dazu zunächst die Tiefe aller Blattknoten in diesem Baum und berechnen Sie danach erst den durchschnittlichen Wert.\n",
    "\n",
    "![](Zeichnungen/Durschnittliche_Baumtiefe.jpg)"
   ]
  },
  {
   "cell_type": "code",
   "execution_count": null,
   "metadata": {},
   "outputs": [],
   "source": [
    "# TODO"
   ]
  },
  {
   "cell_type": "markdown",
   "metadata": {},
   "source": [
    "## Übung 2: Blattknoten suchen und Pfade ausgeben\n",
    "\n",
    "Schreiben Sie eine Funktion, die für eine gegebene Baumstruktur mit Zeichenketten als Blattknoten (z.B. `\"Wetter\"`, `\"Westbahn\"`, ...) alle Pfade berechnet und ausgibt, die zu Blattknoten führen, welche eine bestimmte Teilzeichenkette (z.B. `\"We\"`) enthalten."
   ]
  },
  {
   "cell_type": "code",
   "execution_count": null,
   "metadata": {},
   "outputs": [],
   "source": [
    "# TODO"
   ]
  }
 ],
 "metadata": {
  "language_info": {
   "name": "python"
  }
 },
 "nbformat": 4,
 "nbformat_minor": 2
}
