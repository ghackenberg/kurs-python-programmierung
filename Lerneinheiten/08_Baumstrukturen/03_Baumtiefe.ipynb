{
 "cells": [
  {
   "cell_type": "markdown",
   "metadata": {},
   "source": [
    "# Bestimmung der Tiefe eines Baumes\n",
    "\n",
    "Berechnung der Länge der Blattpfade und Rückgabe des größten Wertes."
   ]
  },
  {
   "cell_type": "markdown",
   "metadata": {},
   "source": [
    "## 1. Beispieldaten"
   ]
  },
  {
   "cell_type": "markdown",
   "metadata": {},
   "source": [
    "### Beispiel 1:\n",
    "\n",
    "Baum, der nur aus einem Wurzelknoten besteht.\n",
    "\n",
    "![](Diagramme/Listen/Baum_01.png)"
   ]
  },
  {
   "cell_type": "code",
   "execution_count": 110,
   "metadata": {},
   "outputs": [],
   "source": [
    "baum_1 = 1"
   ]
  },
  {
   "cell_type": "markdown",
   "metadata": {},
   "source": [
    "baum = [1, 2]"
   ]
  },
  {
   "cell_type": "markdown",
   "metadata": {},
   "source": [
    "### Beispiel 2:\n",
    "\n",
    "Baum, der aus einem Wurzelknoten und zwei Kindknoten besteht.\n",
    "\n",
    "![](Diagramme/Listen/Baum_02.png)"
   ]
  },
  {
   "cell_type": "code",
   "execution_count": 111,
   "metadata": {},
   "outputs": [],
   "source": [
    "baum_2 = [1, 2]"
   ]
  },
  {
   "cell_type": "markdown",
   "metadata": {},
   "source": [
    "### Beispiel 3:\n",
    "\n",
    "Baum, der aus einem Wurzelknoten, zwei Kindknoten, und einem Kindeskindknoten besteht.\n",
    "\n",
    "![](Diagramme/Listen/Baum_03.png)"
   ]
  },
  {
   "cell_type": "code",
   "execution_count": 112,
   "metadata": {},
   "outputs": [],
   "source": [
    "baum_3 = [[1], 2]"
   ]
  },
  {
   "cell_type": "markdown",
   "metadata": {},
   "source": [
    "### Beispiel 4:\n",
    "\n",
    "Baum, der aus einem Wurzelknoten, zwei Kindknoten, zwei Kindeskindknoten, und einem Kindknoten dritter Ordnung besteht.\n",
    "\n",
    "![](Diagramme/Listen/Baum_04.png)"
   ]
  },
  {
   "cell_type": "code",
   "execution_count": 113,
   "metadata": {},
   "outputs": [],
   "source": [
    "baum_4 = [[[1], 2], 3]"
   ]
  },
  {
   "cell_type": "markdown",
   "metadata": {},
   "source": [
    "## 2. Algorthimus\n",
    "\n",
    "Rekursives Verfahren:\n",
    "\n",
    "* Baumtiefe eines Blattknoten ist 1.\n",
    "* Baumtiefe eines \"inneren\" Knoten ist die maximale Baumtiefe eines Kindknoten plus 1.\n",
    "\n",
    "Und nun das ganze als Python-Quelltext:"
   ]
  },
  {
   "cell_type": "code",
   "execution_count": 128,
   "metadata": {},
   "outputs": [],
   "source": [
    "def baumtiefe(baum):\n",
    "    \n",
    "    if type(baum) is list:\n",
    "\n",
    "        # Baum ist innerer Knoten\n",
    "\n",
    "        kindtiefe_max = 0\n",
    "\n",
    "        for element in baum:\n",
    "\n",
    "            kindtiefe = baumtiefe(element)\n",
    "            \n",
    "            kindtiefe_max = max(kindtiefe_max, kindtiefe)\n",
    "\n",
    "        return kindtiefe_max + 1\n",
    "    \n",
    "    else:\n",
    "\n",
    "        # Baum ist Blattknoten\n",
    "\n",
    "        return 1"
   ]
  },
  {
   "cell_type": "markdown",
   "metadata": {},
   "source": [
    "### Beispiel 1:\n",
    "\n",
    "![](Diagramme/Listen/Baum_01.png)"
   ]
  },
  {
   "cell_type": "code",
   "execution_count": 129,
   "metadata": {},
   "outputs": [
    {
     "data": {
      "text/plain": [
       "1"
      ]
     },
     "execution_count": 129,
     "metadata": {},
     "output_type": "execute_result"
    }
   ],
   "source": [
    "baumtiefe(baum_1)"
   ]
  },
  {
   "cell_type": "markdown",
   "metadata": {},
   "source": [
    "### Beispiel 2:\n",
    "\n",
    "![](Diagramme/Listen/Baum_02.png)"
   ]
  },
  {
   "cell_type": "code",
   "execution_count": 130,
   "metadata": {},
   "outputs": [
    {
     "data": {
      "text/plain": [
       "2"
      ]
     },
     "execution_count": 130,
     "metadata": {},
     "output_type": "execute_result"
    }
   ],
   "source": [
    "baumtiefe(baum_2)"
   ]
  },
  {
   "cell_type": "markdown",
   "metadata": {},
   "source": [
    "### Beispiel 3:\n",
    "\n",
    "![](Diagramme/Listen/Baum_03.png)"
   ]
  },
  {
   "cell_type": "code",
   "execution_count": 131,
   "metadata": {},
   "outputs": [
    {
     "data": {
      "text/plain": [
       "3"
      ]
     },
     "execution_count": 131,
     "metadata": {},
     "output_type": "execute_result"
    }
   ],
   "source": [
    "baumtiefe(baum_3)"
   ]
  },
  {
   "cell_type": "markdown",
   "metadata": {},
   "source": [
    "### Beispiel 4:\n",
    "\n",
    "![](Diagramme/Listen/Baum_04.png)"
   ]
  },
  {
   "cell_type": "code",
   "execution_count": 132,
   "metadata": {},
   "outputs": [
    {
     "data": {
      "text/plain": [
       "4"
      ]
     },
     "execution_count": 132,
     "metadata": {},
     "output_type": "execute_result"
    }
   ],
   "source": [
    "baumtiefe(baum_4)"
   ]
  },
  {
   "cell_type": "markdown",
   "metadata": {},
   "source": [
    "### Beispiel 5:\n",
    "\n",
    "![](Zeichnungen/Baumtiefe.jpg)"
   ]
  }
 ],
 "metadata": {
  "kernelspec": {
   "display_name": "Python 3",
   "language": "python",
   "name": "python3"
  },
  "language_info": {
   "codemirror_mode": {
    "name": "ipython",
    "version": 3
   },
   "file_extension": ".py",
   "mimetype": "text/x-python",
   "name": "python",
   "nbconvert_exporter": "python",
   "pygments_lexer": "ipython3",
   "version": "3.12.1"
  }
 },
 "nbformat": 4,
 "nbformat_minor": 2
}
