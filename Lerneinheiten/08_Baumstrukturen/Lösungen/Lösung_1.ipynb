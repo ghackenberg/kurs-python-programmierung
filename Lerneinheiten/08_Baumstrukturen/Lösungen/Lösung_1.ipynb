{
 "cells": [
  {
   "cell_type": "markdown",
   "metadata": {},
   "source": [
    "Durchschnittliche Baumtiefe"
   ]
  },
  {
   "cell_type": "code",
   "execution_count": 2,
   "metadata": {},
   "outputs": [
    {
     "data": {
      "text/plain": [
       "2.25"
      ]
     },
     "execution_count": 2,
     "metadata": {},
     "output_type": "execute_result"
    }
   ],
   "source": [
    "# Eigentliche rekursive Funktion\n",
    "\n",
    "def blattknotenFindenUndTiefeBerechnen(baum, tiefenWerte, aktuelleTiefe = 0):\n",
    "    if type(baum) is list:\n",
    "        # innerer Knoten gefunden\n",
    "        for teilbaum in baum:\n",
    "            # rekursiver Aufruf\n",
    "            blattknotenFindenUndTiefeBerechnen(teilbaum, tiefenWerte, aktuelleTiefe + 1)\n",
    "    else:\n",
    "        # Blattknoten gefunden!\n",
    "        tiefenWerte.append(aktuelleTiefe)\n",
    "\n",
    "# Indirekt rekursiv\n",
    "\n",
    "def durchschnittlicheBaumtiefe(baum):\n",
    "    tiefenWerte = []\n",
    "    \n",
    "    blattknotenFindenUndTiefeBerechnen(baum, tiefenWerte)\n",
    "\n",
    "    return sum(tiefenWerte) / len(tiefenWerte)\n",
    "\n",
    "# Beispiel\n",
    "\n",
    "durchschnittlicheBaumtiefe(baum = [[[1, 4], 2], 3])"
   ]
  },
  {
   "cell_type": "markdown",
   "metadata": {},
   "source": [
    "Blattknoten suchen und Pfade ausgeben"
   ]
  },
  {
   "cell_type": "code",
   "execution_count": 5,
   "metadata": {},
   "outputs": [
    {
     "name": "stdout",
     "output_type": "stream",
     "text": [
      "baum[1][1][1][0] = \"Test\" gefunden!\n",
      "baum[1][1][1][2] = \"Temporär\" gefunden!\n",
      "baum[1][1][2] = \"Tempel\" gefunden!\n"
     ]
    }
   ],
   "source": [
    "def blattknotenSuchen(baum, suchbegriff, prefix = \"baum\"):\n",
    "    if type(baum) is list:\n",
    "        for index, teilbaum in enumerate(baum):\n",
    "            blattknotenSuchen(teilbaum, suchbegriff, f\"{prefix}[{index}]\")\n",
    "    elif suchbegriff in baum:\n",
    "        print(f\"{prefix} = \\\"{baum}\\\" gefunden!\")\n",
    "\n",
    "blattknotenSuchen([\"UVW\", [\"Xyz\", [\"Abc\", [\"Test\", \"Tisch\", \"Temporär\"], \"Tempel\", \"Taste\"]]], \"Te\")"
   ]
  }
 ],
 "metadata": {
  "kernelspec": {
   "display_name": "Python 3",
   "language": "python",
   "name": "python3"
  },
  "language_info": {
   "codemirror_mode": {
    "name": "ipython",
    "version": 3
   },
   "file_extension": ".py",
   "mimetype": "text/x-python",
   "name": "python",
   "nbconvert_exporter": "python",
   "pygments_lexer": "ipython3",
   "version": "3.12.3"
  }
 },
 "nbformat": 4,
 "nbformat_minor": 2
}
