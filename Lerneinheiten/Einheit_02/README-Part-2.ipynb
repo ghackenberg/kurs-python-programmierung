{
 "cells": [
  {
   "cell_type": "markdown",
   "metadata": {},
   "source": [
    "## 2.5. Variablen\n",
    "\n",
    "Literale und Operatoren ermöglichen uns nun schon, interessante Berechnungen mit der Programmiersprache Python durchzuführen. Was wir jedoch noch nicht können, ist die Zwischenspeicherung der Berechnugsergebnisse. Die Zwischenspeicherung ist aber in komplexeren Rechnungen durchaus sinnvoll und notwendig. Python bietet zur **Zwischenspeicherung von Berechnungsergebnissen** des Konzept von Variablen an. Variablen haben grundsätzlich einen Namen (bestehen aus einer zusammenhängenden Kette von alphanumerischen Symbolen) und einen Wert. Der Wert einer Variable kann durch den sogenannten **Zuweisungsoperator** `=` gesetzt und überschrieben werden. Nachdem eine Variable definiert wurde, kann sie anstelle von Literalen in Berechnungen verwendet werden. Das folgende Beispiel zeigt die Definition der Variable `a` mit einem boolschen Wahrheitswert sowie die Nutzung der Variable in einer Berechnung mit dem Operator `not`."
   ]
  },
  {
   "cell_type": "code",
   "execution_count": 78,
   "metadata": {},
   "outputs": [
    {
     "data": {
      "text/plain": [
       "False"
      ]
     },
     "execution_count": 78,
     "metadata": {},
     "output_type": "execute_result"
    }
   ],
   "source": [
    "a = True # Definition der Variable mit dem Zuweisungsoperator\n",
    "\n",
    "not a # Nutzung der Variable in einer Berechnung mit dem Operator NOT"
   ]
  },
  {
   "cell_type": "markdown",
   "metadata": {},
   "source": [
    "Das vorige Beispiel zeigt die Nutzung von Variablen einer Berechnung mit dem unären Operator `not`. *Unär* heißt in diesem Zusammenhang, dass der Operator `not` nur einen Operanden hat, der in diesem Fall die Variable `a` war. Im Folgenden zeigen wir die Verwendung von Variablen in Berechnungen mit binären Operatoren. *Binäre* Operatoren sind Operatoren, die genau zwei Operanden haben. Zu den binären Operatoren zählen beispielsweise der Operator `and` für boolsche Wahrheitswerte, der Operator `*` für Zahlen, und der Operator `+` für Zeichenketten. Wir betrachten dabei zunächst nur den Fall, dass **einer der beiden Operanden** eine Variable ist und der andere Operand ein Literal ist."
   ]
  },
  {
   "cell_type": "code",
   "execution_count": null,
   "metadata": {},
   "outputs": [],
   "source": [
    "a = True # Variable mit boolschem Wahrheitswert\n",
    "\n",
    "a and False # Nutzung der Variable in Berechnung mit Operator AND"
   ]
  },
  {
   "cell_type": "code",
   "execution_count": null,
   "metadata": {},
   "outputs": [],
   "source": [
    "a = 1 # Variable mit numerischem Zahlenwert\n",
    "\n",
    "a * 2.5 # Nutzung der Variable in Berechnung mit Operator MAL"
   ]
  },
  {
   "cell_type": "code",
   "execution_count": null,
   "metadata": {},
   "outputs": [],
   "source": [
    "a = \"Zeichenkette 1\" # Variable mit Zeichenkettenwert\n",
    "\n",
    "a + \"Zeichenkette 2\" # Nutzung der Variable in Berechnung mit Operator PLUS"
   ]
  },
  {
   "cell_type": "markdown",
   "metadata": {},
   "source": [
    "Es können jedoch auch **beide Operanden** eines binären Operators auf eine Variable verweisen. Im Folgenden betrachten wir wieder den binären boolschen Operator `and` sowie den numerischen Operator `*` und den Zeichenkettenoperator `+`. In allen Fällen werden zunächst zwei Variablen `a` und `b` definiert bzw. initialisiert, bevor die beiden Variablen in einer Berechnung mit einem binären Operator verwendet werden."
   ]
  },
  {
   "cell_type": "code",
   "execution_count": 79,
   "metadata": {},
   "outputs": [
    {
     "data": {
      "text/plain": [
       "False"
      ]
     },
     "execution_count": 79,
     "metadata": {},
     "output_type": "execute_result"
    }
   ],
   "source": [
    "a = True # Erste Variable mit boolschen Wahrheitswert\n",
    "b = False # Zweite Variable mit boolschen Wahrheitswert\n",
    "\n",
    "a and b # Nutzung der beiden Variablen in Berechnung mit dem Operator AND"
   ]
  },
  {
   "cell_type": "code",
   "execution_count": 82,
   "metadata": {},
   "outputs": [
    {
     "data": {
      "text/plain": [
       "10"
      ]
     },
     "execution_count": 82,
     "metadata": {},
     "output_type": "execute_result"
    }
   ],
   "source": [
    "a = 2 # Erste Variable mit numerischem Zahlenwert\n",
    "b = 5 # Zweite Variable mit numerischem Zahlenwert\n",
    "\n",
    "a * b # Nutzung der beiden Variablen in Berechnung mit dem Operator MAL"
   ]
  },
  {
   "cell_type": "code",
   "execution_count": null,
   "metadata": {},
   "outputs": [],
   "source": [
    "a = \"Zeichenkette 1\" # Erste Variable mit Zeichenkettenwert\n",
    "b = \"Zeichenkette 2\" # Zweite Variable mit Zeichenkettenwert\n",
    "\n",
    "a + b # Nutzung der beiden Variablen in Berechnung mit dem Operator PLUS"
   ]
  },
  {
   "cell_type": "markdown",
   "metadata": {},
   "source": [
    "## 2.6. Funktionen\n",
    "\n",
    "Operatoren bieten bereits die Möglichkeit, grundlegende Rechenoperationen mit der Programmiersprache Python durchzuführen. Für komplexere Aufgaben bietet Python das **Konzept von Funktionen** an. Im vorigen Teil haben wir bereits die Funktionen `print` und `str` kurz kennengelernt. Die folgende Grafik gibt eine Übersicht über weitere wichtige Funktionen, die Python standardmäßig anbietet. Beachte, dass Python viele weitere Funktion im Standard enthält, die in diesem zweiten Kapitel noch nicht thematisiert werden. Hier geht es zunächst nur um eine grundlegende Einführung des Konzeptes von Funktionen und deren Verwendung. Des Weiteren können Programmierer eingene Funktioen definieren. Wie das geht, lernen wir auch noch später.\n",
    "\n",
    "![](../../Grafiken/Mermaid/Funktionen/Kategorien.png)\n",
    "\n",
    "Im Folgenden beschrieben wir die in der Übersichtsgrafik genannten Funktionen etwas detaillierter."
   ]
  },
  {
   "cell_type": "markdown",
   "metadata": {},
   "source": [
    "### 2.6.1. Typbestimmung\n",
    "\n",
    "Der Wert von Variablen kann unterschiedlichen Datentypen zugehören. Zur Laufzeit eines Programmes ist nicht immer sicher, welcher Datentyp aktuell für den Wert einer Variable verwendet wird. Deshalb kann es notwendig werden, dass ein Programm den aktuellen Datentyp eines Variablenwertes abfragt. Für die Abfrage des Datentypen bietet Python standardmäßig die Funktion `type`, wie in folgender Grafik dargestellt.\n",
    "\n",
    "![](../../Grafiken/Mermaid/Funktionen/Typbestimmung.png)\n",
    "\n",
    "Im folgenden Beschreiben wir die Signatur und die Funktionsweise der Funktion `type` genauer."
   ]
  },
  {
   "cell_type": "markdown",
   "metadata": {},
   "source": [
    "#### 2.6.1.1. Funktion `type`\n",
    "\n",
    "Die Funktion `type` ermöglicht es, den **Datentyp eines Berechnungsergebnisses** zu bestimmen. Die Funktion hat als Übergabewert das Berechnungsergebnis. Der Rückgabewert der Funktion die Typinformation zum zugehörigen Datentyp (siehe *Literale für **Typinformationen*** weiter oben). Im Folgenden wenden wir die Funktion auf Wahrheitswerte, Zahlenwerte, und Zeichenketten selbst an."
   ]
  },
  {
   "cell_type": "code",
   "execution_count": 83,
   "metadata": {},
   "outputs": [
    {
     "data": {
      "text/plain": [
       "bool"
      ]
     },
     "execution_count": 83,
     "metadata": {},
     "output_type": "execute_result"
    }
   ],
   "source": [
    "type(True) # Bestimmung des Datentyps eines Wahrheitswertes"
   ]
  },
  {
   "cell_type": "code",
   "execution_count": 84,
   "metadata": {},
   "outputs": [
    {
     "data": {
      "text/plain": [
       "int"
      ]
     },
     "execution_count": 84,
     "metadata": {},
     "output_type": "execute_result"
    }
   ],
   "source": [
    "type(1) # Bestimmung des Datentyps einer ganzen Zahl"
   ]
  },
  {
   "cell_type": "code",
   "execution_count": 85,
   "metadata": {},
   "outputs": [
    {
     "data": {
      "text/plain": [
       "float"
      ]
     },
     "execution_count": 85,
     "metadata": {},
     "output_type": "execute_result"
    }
   ],
   "source": [
    "type(1.5) # Bestimmung des Datentyps einer rationalen Zahl"
   ]
  },
  {
   "cell_type": "code",
   "execution_count": 86,
   "metadata": {},
   "outputs": [
    {
     "data": {
      "text/plain": [
       "complex"
      ]
     },
     "execution_count": 86,
     "metadata": {},
     "output_type": "execute_result"
    }
   ],
   "source": [
    "type(3j) # Bestimmung des Datentyps einer komplexen Zahl"
   ]
  },
  {
   "cell_type": "code",
   "execution_count": 87,
   "metadata": {},
   "outputs": [
    {
     "data": {
      "text/plain": [
       "str"
      ]
     },
     "execution_count": 87,
     "metadata": {},
     "output_type": "execute_result"
    }
   ],
   "source": [
    "type(\"Zeichenkette\") # Bestimmung des Datentyps einer Zeichenkette"
   ]
  },
  {
   "cell_type": "markdown",
   "metadata": {},
   "source": [
    "In den vorigen Beispielen waren die Übergabewerte der Funktion einfache boolsche, numerische, und Zeichenkettenliterale. Beachte, dass der Übergabewert einer Funktion auch **eine Variable oder eine Berechnung** bestehend aus Operatoren, Literalen und Variablen sein kann."
   ]
  },
  {
   "cell_type": "code",
   "execution_count": 88,
   "metadata": {},
   "outputs": [
    {
     "data": {
      "text/plain": [
       "int"
      ]
     },
     "execution_count": 88,
     "metadata": {},
     "output_type": "execute_result"
    }
   ],
   "source": [
    "a = 1\n",
    "\n",
    "type(a)"
   ]
  },
  {
   "cell_type": "code",
   "execution_count": 89,
   "metadata": {},
   "outputs": [
    {
     "data": {
      "text/plain": [
       "float"
      ]
     },
     "execution_count": 89,
     "metadata": {},
     "output_type": "execute_result"
    }
   ],
   "source": [
    "a = 1.5\n",
    "\n",
    "type(a * 2)"
   ]
  },
  {
   "cell_type": "code",
   "execution_count": 90,
   "metadata": {},
   "outputs": [
    {
     "data": {
      "text/plain": [
       "complex"
      ]
     },
     "execution_count": 90,
     "metadata": {},
     "output_type": "execute_result"
    }
   ],
   "source": [
    "a = 3j\n",
    "b = 5j\n",
    "\n",
    "type(a * b)"
   ]
  },
  {
   "cell_type": "markdown",
   "metadata": {},
   "source": [
    "Der Rückgabewert der Funktion `type` kann wiederum in Berechnungen mit dem Operator `is` sowie dem Operator `is not` verwendet werden. So kann zum Beispiel die Gleichheit bzw. Ungleichheit von Typinformationen eines Berechnungsergebnisses bestimmt werden. Die folgenden beiden Beispiele zeigen diese Möglichkeit anhand von numerischen Berechnungen mit ganzen und rationalen Zahlen sowie den Operatoren `+` und `*`."
   ]
  },
  {
   "cell_type": "code",
   "execution_count": 4,
   "metadata": {},
   "outputs": [
    {
     "data": {
      "text/plain": [
       "True"
      ]
     },
     "execution_count": 4,
     "metadata": {},
     "output_type": "execute_result"
    }
   ],
   "source": [
    "type(1 + 2) is int"
   ]
  },
  {
   "cell_type": "code",
   "execution_count": 2,
   "metadata": {},
   "outputs": [
    {
     "data": {
      "text/plain": [
       "True"
      ]
     },
     "execution_count": 2,
     "metadata": {},
     "output_type": "execute_result"
    }
   ],
   "source": [
    "type(1 * 1.2) is not int"
   ]
  },
  {
   "cell_type": "markdown",
   "metadata": {},
   "source": [
    "### 2.6.2. Typkonvertierung\n",
    "\n",
    "Dann kann es notwendig sein, dass ein Python-Programm einen Wert eines bestimmten Datentypen in einen Wert eines anderen Datentypen zur Laufzeit konvertiert. Solche Konvertierungen sind z.B. notwendig, wenn Zahlen als Zeichenketten über eine Tastatureingabe oder eine Datei eingelesen werden. Die folgende Grafik gibt eine Übersicht über die Funktionen, die Python standardmäßig für Typkonvertierung anbieten.\n",
    "\n",
    "![](../../Grafiken/Mermaid/Funktionen/Typkonvertierung.png)\n",
    "\n",
    "Im Folgenden beschreiben wir die Signaturen und Funktionsweisen der einzelnen Funktionen genauer."
   ]
  },
  {
   "cell_type": "markdown",
   "metadata": {},
   "source": [
    "#### 2.6.2.1. Funktion `bool`\n",
    "\n",
    "Die Funktion `bool` erlaubt die Umwandlung von Zeichenketten und Zahlen in boolsche Wahrheitswerte. Das folgende Beispiel zeigt zunächst die Anwendung der Funktion `bool` auf Zeichenketten. Nur die leere Zeichenkette wird auf den Wahrheitswert *Falsch* abgebildet. Alle anderen Zeichenketten werden auf den Wahrheitswert *Wahr* abgebildet."
   ]
  },
  {
   "cell_type": "code",
   "execution_count": 94,
   "metadata": {},
   "outputs": [
    {
     "data": {
      "text/plain": [
       "False"
      ]
     },
     "execution_count": 94,
     "metadata": {},
     "output_type": "execute_result"
    }
   ],
   "source": [
    "bool(\"\") # Anwendung der Funktion auf die leere Zeichenkette"
   ]
  },
  {
   "cell_type": "code",
   "execution_count": null,
   "metadata": {},
   "outputs": [],
   "source": [
    "bool(\"x\") # Anwendung der Funktion auf eine nicht-leere Zeichenkette"
   ]
  },
  {
   "cell_type": "markdown",
   "metadata": {},
   "source": [
    "Beachte, dass es unerheblich ist, welcher Inhalt in der Zeichenkette steht. Auch die Zeichenkette `\"False\"` wird somit auf den Wahrheitswert *Wahr* abgebildet. Das ist auf den ersten Blick vielleicht etwas ungewöhnlich. So funktioniert die Typumwanldung mit der Funktion `bool` aber einfach."
   ]
  },
  {
   "cell_type": "code",
   "execution_count": 95,
   "metadata": {},
   "outputs": [
    {
     "data": {
      "text/plain": [
       "True"
      ]
     },
     "execution_count": 95,
     "metadata": {},
     "output_type": "execute_result"
    }
   ],
   "source": [
    "bool(\"False\")"
   ]
  },
  {
   "cell_type": "markdown",
   "metadata": {},
   "source": [
    "Die Funktion `bool` kann nicht nur auf Zeichenketten angewendet werden, sondern auch auf Zahlen. Das folgende Beispiel zeigt die Anwendung der Funktion `bool` auf ganze, rationale und komplexe Zahlen. Wie man sieht, wird nur die Zahl *Null* auf den boolschen Wahrheitswert *Falsch* abgebildet."
   ]
  },
  {
   "cell_type": "code",
   "execution_count": null,
   "metadata": {},
   "outputs": [],
   "source": [
    "bool(0) # Ganze Zahl Null => Falsch"
   ]
  },
  {
   "cell_type": "code",
   "execution_count": null,
   "metadata": {},
   "outputs": [],
   "source": [
    "bool(0.0) # Rationale Zahl Null => Falsch"
   ]
  },
  {
   "cell_type": "code",
   "execution_count": null,
   "metadata": {},
   "outputs": [],
   "source": [
    "bool(0j) # Komplexe Zahl Null => Falsch"
   ]
  },
  {
   "cell_type": "markdown",
   "metadata": {},
   "source": [
    "Alle anderen Zahlen werden auf den Wahrheitswert *Wahr* abgebildet. Dabei ist es unerheblich, ob die Ausgangswerte ganze, rationale, oder komplexe Zahlen sind. Die folgenden drei Beispiele zeigen die Typumwandlung für alle drei Zahlentypen."
   ]
  },
  {
   "cell_type": "code",
   "execution_count": null,
   "metadata": {},
   "outputs": [],
   "source": [
    "bool(1) # Ganze Zahl ungleich Null => Wahr"
   ]
  },
  {
   "cell_type": "code",
   "execution_count": null,
   "metadata": {},
   "outputs": [],
   "source": [
    "bool(0.1) # Rationale Zahl ungleich Null => Wahr"
   ]
  },
  {
   "cell_type": "code",
   "execution_count": null,
   "metadata": {},
   "outputs": [],
   "source": [
    "bool(0.1j) # Komplexe Zahl ungleich Null => Wahr"
   ]
  },
  {
   "cell_type": "markdown",
   "metadata": {},
   "source": [
    "#### 2.6.2.2. Funktion `int`\n",
    "\n",
    "Die Funktion `int` kann dafür verwendet werden, rationale Zahlen sowie Zeichenketten in ganze Zahlen umzuwandeln. Die folgenden beiden Beispiele zeigen die Anwendung der Funktion `int` auf rationale Zahlen. Beachte dass bei der Umwandlung die Nachkommaestellen einfach gestrichen werden. Außerdem können komplexe Zahlen nicht umgewandelt werden."
   ]
  },
  {
   "cell_type": "code",
   "execution_count": 97,
   "metadata": {},
   "outputs": [
    {
     "data": {
      "text/plain": [
       "1"
      ]
     },
     "execution_count": 97,
     "metadata": {},
     "output_type": "execute_result"
    }
   ],
   "source": [
    "int(1.5) # Rationale Zahl => ganze Zahl"
   ]
  },
  {
   "cell_type": "code",
   "execution_count": 96,
   "metadata": {},
   "outputs": [
    {
     "ename": "TypeError",
     "evalue": "int() argument must be a string, a bytes-like object or a real number, not 'complex'",
     "output_type": "error",
     "traceback": [
      "\u001b[1;31m---------------------------------------------------------------------------\u001b[0m",
      "\u001b[1;31mTypeError\u001b[0m                                 Traceback (most recent call last)",
      "Cell \u001b[1;32mIn[96], line 1\u001b[0m\n\u001b[1;32m----> 1\u001b[0m \u001b[38;5;28;43mint\u001b[39;49m\u001b[43m(\u001b[49m\u001b[38;5;241;43m5.7\u001b[39;49m\u001b[43mj\u001b[49m\u001b[43m)\u001b[49m \u001b[38;5;66;03m# Komplexe Zahl => Fehler!\u001b[39;00m\n",
      "\u001b[1;31mTypeError\u001b[0m: int() argument must be a string, a bytes-like object or a real number, not 'complex'"
     ]
    }
   ],
   "source": [
    "int(5.7j) # Komplexe Zahl => Fehler!"
   ]
  },
  {
   "cell_type": "markdown",
   "metadata": {},
   "source": [
    "Genauso kann die Funktion `int` auf Zeichenketten angewendet werden. Dabei muss sichergestellt sein, dass die Zeichenkette tatsächlich eine ganze Zahl darstellt. Wenn das nicht der Fall ist, löst die Funktion einen Fehler aus und beendet sofort die Programmausführung. Wie wir später lernen werden, kann dieser Fehler auch abgefangen werden."
   ]
  },
  {
   "cell_type": "code",
   "execution_count": 98,
   "metadata": {},
   "outputs": [
    {
     "data": {
      "text/plain": [
       "1"
      ]
     },
     "execution_count": 98,
     "metadata": {},
     "output_type": "execute_result"
    }
   ],
   "source": [
    "int(\"1\")"
   ]
  },
  {
   "cell_type": "code",
   "execution_count": 99,
   "metadata": {},
   "outputs": [
    {
     "ename": "ValueError",
     "evalue": "invalid literal for int() with base 10: '1.5'",
     "output_type": "error",
     "traceback": [
      "\u001b[1;31m---------------------------------------------------------------------------\u001b[0m",
      "\u001b[1;31mValueError\u001b[0m                                Traceback (most recent call last)",
      "Cell \u001b[1;32mIn[99], line 1\u001b[0m\n\u001b[1;32m----> 1\u001b[0m \u001b[38;5;28;43mint\u001b[39;49m\u001b[43m(\u001b[49m\u001b[38;5;124;43m\"\u001b[39;49m\u001b[38;5;124;43m1.5\u001b[39;49m\u001b[38;5;124;43m\"\u001b[39;49m\u001b[43m)\u001b[49m\n",
      "\u001b[1;31mValueError\u001b[0m: invalid literal for int() with base 10: '1.5'"
     ]
    }
   ],
   "source": [
    "int(\"1.5\")"
   ]
  },
  {
   "cell_type": "code",
   "execution_count": 100,
   "metadata": {},
   "outputs": [
    {
     "ename": "ValueError",
     "evalue": "invalid literal for int() with base 10: 'a'",
     "output_type": "error",
     "traceback": [
      "\u001b[1;31m---------------------------------------------------------------------------\u001b[0m",
      "\u001b[1;31mValueError\u001b[0m                                Traceback (most recent call last)",
      "Cell \u001b[1;32mIn[100], line 1\u001b[0m\n\u001b[1;32m----> 1\u001b[0m \u001b[38;5;28;43mint\u001b[39;49m\u001b[43m(\u001b[49m\u001b[38;5;124;43m\"\u001b[39;49m\u001b[38;5;124;43ma\u001b[39;49m\u001b[38;5;124;43m\"\u001b[39;49m\u001b[43m)\u001b[49m\n",
      "\u001b[1;31mValueError\u001b[0m: invalid literal for int() with base 10: 'a'"
     ]
    }
   ],
   "source": [
    "int(\"a\")"
   ]
  },
  {
   "cell_type": "markdown",
   "metadata": {},
   "source": [
    "Nachdem eine Zeichenkette mit der Funktion in eine Zahl umgewandelt wurde, kann diese Zahl ganz normal als Operand für arithmetischen und vergleichenden Operatoren verwendet werden. Die folgenden beiden Beispiele zeigen die Verwendung der Zahl für den Operator `+` und den Operator `<`."
   ]
  },
  {
   "cell_type": "code",
   "execution_count": 2,
   "metadata": {},
   "outputs": [
    {
     "data": {
      "text/plain": [
       "3"
      ]
     },
     "execution_count": 2,
     "metadata": {},
     "output_type": "execute_result"
    }
   ],
   "source": [
    "int(\"1\") + 2"
   ]
  },
  {
   "cell_type": "code",
   "execution_count": null,
   "metadata": {},
   "outputs": [],
   "source": [
    "int(\"1\") < 2"
   ]
  },
  {
   "cell_type": "markdown",
   "metadata": {},
   "source": [
    "#### 2.6.2.3. Funktion `float`\n",
    "\n",
    "Die Funktion `float` kann dafür verwendet werden, sowohl ganze Zahlen als auch Zeichenketten in rationale Zahlen umzuwandeln. Die folgendenbeiden Beispiele zeigen zunächst die Anwendung der Funktion `float` auf ganze Zahlen. Beachte, das wie bei der funktion `int` die Umwandlung von komplexen Zahlen in rationale Zahlen nicht unterstützt wird."
   ]
  },
  {
   "cell_type": "code",
   "execution_count": null,
   "metadata": {},
   "outputs": [],
   "source": [
    "float(1) # Ganze Zahl => rationale Zahl"
   ]
  },
  {
   "cell_type": "code",
   "execution_count": null,
   "metadata": {},
   "outputs": [],
   "source": [
    "float(5j) # Komplexe Zahl => Fehler!"
   ]
  },
  {
   "cell_type": "markdown",
   "metadata": {},
   "source": [
    "Genauso kann die Funktion `float` auch wieder auf Zeichenketten angewendet werden. Dabei muss wiederum sichergestellt sein, dass die Zeichenkette tatsächlich eine ganze oder eine rationale Zahl darstellt. Wenn das nicht der Fall ist, wird wiederum ein Fehler ausgelöst und die Programmausführung sogfort beendet (kann abgefangen werden)."
   ]
  },
  {
   "cell_type": "code",
   "execution_count": 101,
   "metadata": {},
   "outputs": [
    {
     "data": {
      "text/plain": [
       "1.6"
      ]
     },
     "execution_count": 101,
     "metadata": {},
     "output_type": "execute_result"
    }
   ],
   "source": [
    "float(\"1.6\")"
   ]
  },
  {
   "cell_type": "code",
   "execution_count": 102,
   "metadata": {},
   "outputs": [
    {
     "data": {
      "text/plain": [
       "1.0"
      ]
     },
     "execution_count": 102,
     "metadata": {},
     "output_type": "execute_result"
    }
   ],
   "source": [
    "float(\"1\")"
   ]
  },
  {
   "cell_type": "code",
   "execution_count": 103,
   "metadata": {},
   "outputs": [
    {
     "ename": "ValueError",
     "evalue": "could not convert string to float: 'a'",
     "output_type": "error",
     "traceback": [
      "\u001b[1;31m---------------------------------------------------------------------------\u001b[0m",
      "\u001b[1;31mValueError\u001b[0m                                Traceback (most recent call last)",
      "Cell \u001b[1;32mIn[103], line 1\u001b[0m\n\u001b[1;32m----> 1\u001b[0m \u001b[38;5;28;43mfloat\u001b[39;49m\u001b[43m(\u001b[49m\u001b[38;5;124;43m\"\u001b[39;49m\u001b[38;5;124;43ma\u001b[39;49m\u001b[38;5;124;43m\"\u001b[39;49m\u001b[43m)\u001b[49m\n",
      "\u001b[1;31mValueError\u001b[0m: could not convert string to float: 'a'"
     ]
    }
   ],
   "source": [
    "float(\"a\")"
   ]
  },
  {
   "cell_type": "markdown",
   "metadata": {},
   "source": [
    "Nachdem eine Zeichenkette mit der Funktion in eine Zahl umgewandelt wurde, kann diese Zahl ganz normal als Operand für arithmetischen und vergleichenden Operatoren verwendet werden. Die folgenden beiden Beispiele zeigen die Verwendung der Zahl für den Operator `+` und den Operator `<`."
   ]
  },
  {
   "cell_type": "code",
   "execution_count": 105,
   "metadata": {},
   "outputs": [
    {
     "data": {
      "text/plain": [
       "7.1"
      ]
     },
     "execution_count": 105,
     "metadata": {},
     "output_type": "execute_result"
    }
   ],
   "source": [
    "float(\"1.6\") + 5.5"
   ]
  },
  {
   "cell_type": "code",
   "execution_count": 1,
   "metadata": {},
   "outputs": [
    {
     "data": {
      "text/plain": [
       "True"
      ]
     },
     "execution_count": 1,
     "metadata": {},
     "output_type": "execute_result"
    }
   ],
   "source": [
    "float(\"1.6\") < 2"
   ]
  },
  {
   "cell_type": "markdown",
   "metadata": {},
   "source": [
    "#### 2.6.2.4. Funktion `complex`\n",
    "\n",
    "Die Funktion `complex` kann dafür verwendet werden, sowohl ganze und rationale Zahlen als auch Zeichenketten in komplexe Zahlen umzuwandeln. Die folgendenbeiden Beispiele zeigen zunächst die Anwendung der Funktion `complex` auf ganze und rationale Zahlen. Die Zahlen werden einfach in komplexe Zahlen mit entsprechendem Imaginärteil umgewandelt."
   ]
  },
  {
   "cell_type": "code",
   "execution_count": null,
   "metadata": {},
   "outputs": [],
   "source": [
    "complex(1)"
   ]
  },
  {
   "cell_type": "code",
   "execution_count": null,
   "metadata": {},
   "outputs": [],
   "source": [
    "complex(5.5)"
   ]
  },
  {
   "cell_type": "markdown",
   "metadata": {},
   "source": [
    "Genauso kann die Funktion `complex` auch wieder auf Zeichenketten angewendet werden. Dabei muss wiederum sichergestellt sein, dass die Zeichenkette tatsächlich eine ganze, eine rationale, oder eine komplexe Zahl darstellt. Wenn das nicht der Fall ist, wird wiederum ein Fehler ausgelöst und die Programmausführung sogfort beendet (kann abgefangen werden)."
   ]
  },
  {
   "cell_type": "code",
   "execution_count": null,
   "metadata": {},
   "outputs": [],
   "source": [
    "complex(\"1.5\")"
   ]
  },
  {
   "cell_type": "code",
   "execution_count": null,
   "metadata": {},
   "outputs": [],
   "source": [
    "complex(\"1.5j\")"
   ]
  },
  {
   "cell_type": "code",
   "execution_count": null,
   "metadata": {},
   "outputs": [],
   "source": [
    "complex(\"a\")"
   ]
  },
  {
   "cell_type": "markdown",
   "metadata": {},
   "source": [
    "Nachdem eine Zeichenkette mit der Funktion in eine Zahl umgewandelt wurde, kann diese Zahl ganz normal als Operand für arithmetischen und vergleichenden Operatoren verwendet werden. Die folgenden beiden Beispiele zeigen die Verwendung der Zahl für den Operator `+` und den Operator `*`."
   ]
  },
  {
   "cell_type": "code",
   "execution_count": 3,
   "metadata": {},
   "outputs": [
    {
     "data": {
      "text/plain": [
       "(5+1.5j)"
      ]
     },
     "execution_count": 3,
     "metadata": {},
     "output_type": "execute_result"
    }
   ],
   "source": [
    "complex(\"1.5j\") + 5"
   ]
  },
  {
   "cell_type": "code",
   "execution_count": 5,
   "metadata": {},
   "outputs": [
    {
     "data": {
      "text/plain": [
       "3j"
      ]
     },
     "execution_count": 5,
     "metadata": {},
     "output_type": "execute_result"
    }
   ],
   "source": [
    "complex(\"1.5j\") * 2"
   ]
  },
  {
   "cell_type": "markdown",
   "metadata": {},
   "source": [
    "#### 2.6.2.5. Funktion `str`\n",
    "\n",
    "Wie bereits zuvor erwähnt, ermöglicht die Funktion `str` die Umwandlung von boolschen Wahrheitswerten und numerischen Zahlenwerten in entsprechende Zeichenketten. Beachte dabei, dass sich im Speicher die Darstellung von boolschen Wahrheitswerten und Zahlen wesentlich von der Darstellung von Zeichenketten unterscheidet (siehe voriges Kapitel). Die Funktion `str` übernimmt somit die Umrechnung zwischen diesen unterschiedlichen Darstellungen im Speicher."
   ]
  },
  {
   "cell_type": "code",
   "execution_count": null,
   "metadata": {},
   "outputs": [],
   "source": [
    "str(True) # Umwandlung eines Wahrheitswertes in eine Zeichenkette"
   ]
  },
  {
   "cell_type": "code",
   "execution_count": null,
   "metadata": {},
   "outputs": [],
   "source": [
    "str(1) # Umwandlung einer ganzen Zahl in eine Zeichenkette"
   ]
  },
  {
   "cell_type": "code",
   "execution_count": null,
   "metadata": {},
   "outputs": [],
   "source": [
    "str(1.5) # Umwandlung einer rationalen Zahl in eine Zeichenkette"
   ]
  },
  {
   "cell_type": "code",
   "execution_count": null,
   "metadata": {},
   "outputs": [],
   "source": [
    "str(3j) # Umwandlung einer komplexen Zahl in eine Zeichenkette"
   ]
  },
  {
   "cell_type": "markdown",
   "metadata": {},
   "source": [
    "Nach der Typumwandlung kann der Rückgabewert ganz normal in Berechnungen mit Operatoren für Zeichenketten verwendet werden. Die folgenden drei Beispiele zeigen die Anwendung des Operators `[]` auf den Rückgabewert der Funktion `str`. Beachte, dass der Operator `[]`für die Berechnung einzelner Zeichen und Teilzeichenketten verwendet werden kann."
   ]
  },
  {
   "cell_type": "code",
   "execution_count": 7,
   "metadata": {},
   "outputs": [
    {
     "data": {
      "text/plain": [
       "'1'"
      ]
     },
     "execution_count": 7,
     "metadata": {},
     "output_type": "execute_result"
    }
   ],
   "source": [
    "str(1.5)[0]"
   ]
  },
  {
   "cell_type": "code",
   "execution_count": 5,
   "metadata": {},
   "outputs": [
    {
     "data": {
      "text/plain": [
       "'.'"
      ]
     },
     "execution_count": 5,
     "metadata": {},
     "output_type": "execute_result"
    }
   ],
   "source": [
    "str(1.5)[1]"
   ]
  },
  {
   "cell_type": "code",
   "execution_count": 6,
   "metadata": {},
   "outputs": [
    {
     "data": {
      "text/plain": [
       "'5'"
      ]
     },
     "execution_count": 6,
     "metadata": {},
     "output_type": "execute_result"
    }
   ],
   "source": [
    "str(1.5)[2]"
   ]
  },
  {
   "cell_type": "markdown",
   "metadata": {},
   "source": [
    "Schließlich kann der Übergabewert eines Funktionsaufrufs auch der Rückgabewert eines anderen Funktionsaufrufes sein. Im folgenden Beispiel wird zunächst die Funktion `str` mit dem Übergabewert `1` aufgerufen. Dieser Funktionsaufruf erzeugt als Rückgabewert eine Zeichenkette. Dieser Rückgabewert wird wiederum als Übergabewert für die Funktion `type` verwendet."
   ]
  },
  {
   "cell_type": "code",
   "execution_count": 106,
   "metadata": {},
   "outputs": [
    {
     "data": {
      "text/plain": [
       "str"
      ]
     },
     "execution_count": 106,
     "metadata": {},
     "output_type": "execute_result"
    }
   ],
   "source": [
    "type(str(1))"
   ]
  },
  {
   "cell_type": "markdown",
   "metadata": {},
   "source": [
    "### 2.6.3. Zahlenfunktionen\n",
    "\n",
    "TODO\n",
    "\n",
    "![](../../Grafiken/Mermaid/Funktionen/Zahlen.png)"
   ]
  },
  {
   "cell_type": "markdown",
   "metadata": {},
   "source": [
    "#### 2.6.3.1. Funktion `abs`\n",
    "\n",
    "TODO"
   ]
  },
  {
   "cell_type": "code",
   "execution_count": null,
   "metadata": {},
   "outputs": [],
   "source": [
    "abs(-5)"
   ]
  },
  {
   "cell_type": "code",
   "execution_count": null,
   "metadata": {},
   "outputs": [],
   "source": [
    "abs(-5.5)"
   ]
  },
  {
   "cell_type": "code",
   "execution_count": null,
   "metadata": {},
   "outputs": [],
   "source": [
    "abs(-5.5j)"
   ]
  },
  {
   "cell_type": "markdown",
   "metadata": {},
   "source": [
    "#### 2.6.3.2. Funktion `pow`\n",
    "\n",
    "TODO"
   ]
  },
  {
   "cell_type": "code",
   "execution_count": null,
   "metadata": {},
   "outputs": [],
   "source": [
    "pow(2, 4)"
   ]
  },
  {
   "cell_type": "code",
   "execution_count": null,
   "metadata": {},
   "outputs": [],
   "source": [
    "pow(1.5, 2)"
   ]
  },
  {
   "cell_type": "code",
   "execution_count": null,
   "metadata": {},
   "outputs": [],
   "source": [
    "pow(2j, 2)"
   ]
  },
  {
   "cell_type": "markdown",
   "metadata": {},
   "source": [
    "TODO"
   ]
  },
  {
   "cell_type": "code",
   "execution_count": null,
   "metadata": {},
   "outputs": [],
   "source": [
    "pow(2, 0.5)"
   ]
  },
  {
   "cell_type": "code",
   "execution_count": null,
   "metadata": {},
   "outputs": [],
   "source": [
    "pow(2, -1)"
   ]
  },
  {
   "cell_type": "markdown",
   "metadata": {},
   "source": [
    "TODO"
   ]
  },
  {
   "cell_type": "code",
   "execution_count": null,
   "metadata": {},
   "outputs": [],
   "source": [
    "pow(-1, 0.5)"
   ]
  },
  {
   "cell_type": "markdown",
   "metadata": {},
   "source": [
    "### 2.6.4. Zeichenkettenfunktionen\n",
    "\n",
    "TODO"
   ]
  },
  {
   "cell_type": "markdown",
   "metadata": {},
   "source": [
    "#### 2.6.4.1. Funktion `len`\n",
    "\n",
    "TODO"
   ]
  },
  {
   "cell_type": "code",
   "execution_count": null,
   "metadata": {},
   "outputs": [],
   "source": [
    "len(\"\")"
   ]
  },
  {
   "cell_type": "code",
   "execution_count": null,
   "metadata": {},
   "outputs": [],
   "source": [
    "len(\"abc\")"
   ]
  },
  {
   "cell_type": "markdown",
   "metadata": {},
   "source": [
    "### 2.6.5. Eingabe/Ausgabe\n",
    "\n",
    "TODO\n",
    "\n",
    "![](../../Grafiken/Mermaid/Funktionen/EA.png)"
   ]
  },
  {
   "cell_type": "markdown",
   "metadata": {},
   "source": [
    "#### 2.6.5.1. Funktion `print`\n",
    "\n",
    "Die Funktion `print` ermöglich es, beliebig viele Ausgaben an den Nutzer eines Programms zu schicken. Die Funktion hat einen einzigen Übergabewert, welcher sowohl ein boolscher Wahrheitswert als auch eine Zahl oder eine Zeichenkette sein kann. Der übergebene Wert wird durch die Funktion in ene Zeichenkette umgewandelt und an den Nutzer ausgeben. Nach jedem Aufruf wird zusätzlich eine neue Zeile in der Ausgabe gestartet. Die Funktion hat schließlich keinen Rückgabewert."
   ]
  },
  {
   "cell_type": "code",
   "execution_count": null,
   "metadata": {},
   "outputs": [],
   "source": [
    "print(True)\n",
    "print(1.25)\n",
    "print(\"Eine Zeichenkette\")"
   ]
  },
  {
   "cell_type": "markdown",
   "metadata": {},
   "source": [
    "Die Funktion `print` eignet sich z.B. dafür, Zwischenergebnisse einer Berechnung auszugeben. Solche Zwischenausgaben können dabei helfen, die Funktionsweise eines Programmes nachzuvollziehen und evtl. Fehler in der Programmlogik aufzudecken bzw. zu beheben. Die Nutzung für Zwischenausgaben in längeren Berechnungen soll durch das folgende einfache Beispiel demonstriert werden. Im Beispiel werden nacheinander die Variablen `a` und `b` ausgegeben."
   ]
  },
  {
   "cell_type": "code",
   "execution_count": null,
   "metadata": {},
   "outputs": [],
   "source": [
    "a = 1\n",
    "\n",
    "print(f\"a = {a}\")\n",
    "\n",
    "b = a * 2\n",
    "\n",
    "print(f\"b = {b}\")"
   ]
  },
  {
   "cell_type": "markdown",
   "metadata": {},
   "source": [
    "Beachte, dass die Funktion `print` vor allem in Konsolenprogrammen Anwendung findet. Konsolenprogramme zeichnen sich dadurch aus, dass Eingabe und Ausgabe ausschließlich über Zeichenketten erfolgt. Eine andere Kategorie von Programmen sind grafische Benutzerschnittstellen. In diesen Programmen gibt es neben reiner Texteingabe und -ausgabe auch andere Ein- und Ausgabemöglichkeiten. Diese Arten von Programmen besprechen wir gegen Ende des Kurses noch kurz."
   ]
  },
  {
   "cell_type": "markdown",
   "metadata": {},
   "source": [
    "#### 2.6.5.2. Funktion `input`\n",
    "\n",
    "TODO"
   ]
  },
  {
   "cell_type": "code",
   "execution_count": null,
   "metadata": {},
   "outputs": [],
   "source": [
    "input(\"Wie heißt du?\")"
   ]
  },
  {
   "cell_type": "markdown",
   "metadata": {},
   "source": [
    "TODO"
   ]
  },
  {
   "cell_type": "code",
   "execution_count": null,
   "metadata": {},
   "outputs": [],
   "source": [
    "vorname = input(\"Vorname\")\n",
    "\n",
    "nachname = input(\"Nachname\")\n",
    "\n",
    "print(f\"Hallo {vorname} {nachname}!\")"
   ]
  },
  {
   "cell_type": "markdown",
   "metadata": {},
   "source": [
    "TODO"
   ]
  },
  {
   "cell_type": "code",
   "execution_count": null,
   "metadata": {},
   "outputs": [],
   "source": [
    "alter = int(input(\"Alter\"))\n",
    "\n",
    "print(f\"Jetziges Alter = {alter}\")\n",
    "\n",
    "print(f\"Alter in zwei Jahren = {alter + 2}\")"
   ]
  },
  {
   "cell_type": "markdown",
   "metadata": {},
   "source": [
    "#### 2.6.5.3. Funktion `open`\n",
    "\n",
    "TODO"
   ]
  },
  {
   "cell_type": "code",
   "execution_count": null,
   "metadata": {},
   "outputs": [],
   "source": [
    "open(\"Eingabe.txt\", \"r\").close() # Lesen"
   ]
  },
  {
   "cell_type": "code",
   "execution_count": null,
   "metadata": {},
   "outputs": [],
   "source": [
    "open(\"Ausgabe.txt\", \"w\").close() # Erstellen und schreiben oder überschreiben"
   ]
  },
  {
   "cell_type": "code",
   "execution_count": null,
   "metadata": {},
   "outputs": [],
   "source": [
    "open(\"Ausgabe.txt\", \"x\").close() # Erstellen und schreiben oder Fehler"
   ]
  },
  {
   "cell_type": "code",
   "execution_count": null,
   "metadata": {},
   "outputs": [],
   "source": [
    "open(\"Ausgabe.txt\", \"a\").close() # Erstellen und schreiben oder anhängen"
   ]
  },
  {
   "cell_type": "markdown",
   "metadata": {},
   "source": [
    "## 2.7. Objekte\n",
    "\n",
    "TODO"
   ]
  },
  {
   "cell_type": "markdown",
   "metadata": {},
   "source": [
    "### 2.7.1. Eigenschaften\n",
    "\n",
    "TODO"
   ]
  },
  {
   "cell_type": "code",
   "execution_count": null,
   "metadata": {},
   "outputs": [],
   "source": [
    "f = open(\"Eingabe.txt\", \"r\")\n",
    "\n",
    "f.closed"
   ]
  },
  {
   "cell_type": "markdown",
   "metadata": {},
   "source": [
    "### 2.7.2. Methoden\n",
    "\n",
    "TODO"
   ]
  },
  {
   "cell_type": "code",
   "execution_count": null,
   "metadata": {},
   "outputs": [],
   "source": [
    "f = open(\"Eingabe.txt\", \"r\")\n",
    "\n",
    "f.close()"
   ]
  },
  {
   "cell_type": "markdown",
   "metadata": {},
   "source": [
    "TODO"
   ]
  },
  {
   "cell_type": "code",
   "execution_count": null,
   "metadata": {},
   "outputs": [],
   "source": [
    "f = open(\"Eingabe.txt\", \"r\")\n",
    "\n",
    "f.read()"
   ]
  },
  {
   "cell_type": "markdown",
   "metadata": {},
   "source": [
    "TODO"
   ]
  },
  {
   "cell_type": "code",
   "execution_count": null,
   "metadata": {},
   "outputs": [],
   "source": [
    "f = open(\"Eingabe.txt\", \"r\")\n",
    "\n",
    "f.readline()"
   ]
  },
  {
   "cell_type": "markdown",
   "metadata": {},
   "source": [
    "TODO"
   ]
  },
  {
   "cell_type": "code",
   "execution_count": null,
   "metadata": {},
   "outputs": [],
   "source": [
    "f = open(\"Eingabe.txt\", \"r\")\n",
    "\n",
    "f.readlines()"
   ]
  },
  {
   "cell_type": "markdown",
   "metadata": {},
   "source": [
    "TODO"
   ]
  },
  {
   "cell_type": "code",
   "execution_count": null,
   "metadata": {},
   "outputs": [],
   "source": [
    "f = open(\"Ausgabe.txt\", \"w\")\n",
    "\n",
    "f.write(\"Erste generierte Zeile!\\n\")\n",
    "f.write(\"Zweite generierte Zeile!\\n\")\n",
    "f.write(\"Dritte generierte Zeile!\\n\")\n",
    "\n",
    "f.close()"
   ]
  },
  {
   "cell_type": "markdown",
   "metadata": {},
   "source": [
    "## 2.8. Module\n",
    "\n",
    "TODO"
   ]
  },
  {
   "cell_type": "markdown",
   "metadata": {},
   "source": [
    "### 2.8.1. Modul `sys`\n",
    "\n",
    "TODO"
   ]
  },
  {
   "cell_type": "code",
   "execution_count": null,
   "metadata": {},
   "outputs": [],
   "source": [
    "import sys\n",
    "\n",
    "sys.platform"
   ]
  },
  {
   "cell_type": "markdown",
   "metadata": {},
   "source": [
    "TODO"
   ]
  },
  {
   "cell_type": "code",
   "execution_count": null,
   "metadata": {},
   "outputs": [],
   "source": [
    "import sys\n",
    "\n",
    "sys.executable"
   ]
  },
  {
   "cell_type": "markdown",
   "metadata": {},
   "source": [
    "TODO"
   ]
  },
  {
   "cell_type": "code",
   "execution_count": null,
   "metadata": {},
   "outputs": [],
   "source": [
    "import sys\n",
    "\n",
    "sys.version"
   ]
  },
  {
   "cell_type": "code",
   "execution_count": null,
   "metadata": {},
   "outputs": [],
   "source": [
    "import sys\n",
    "\n",
    "sys.version_info.major"
   ]
  },
  {
   "cell_type": "code",
   "execution_count": null,
   "metadata": {},
   "outputs": [],
   "source": [
    "import sys\n",
    "\n",
    "sys.version_info.minor"
   ]
  },
  {
   "cell_type": "code",
   "execution_count": null,
   "metadata": {},
   "outputs": [],
   "source": [
    "import sys\n",
    "\n",
    "sys.version_info.micro"
   ]
  },
  {
   "cell_type": "markdown",
   "metadata": {},
   "source": [
    "TODO"
   ]
  },
  {
   "cell_type": "code",
   "execution_count": null,
   "metadata": {},
   "outputs": [],
   "source": [
    "import sys\n",
    "\n",
    "sys.int_info.bits_per_digit"
   ]
  },
  {
   "cell_type": "markdown",
   "metadata": {},
   "source": [
    "TODO"
   ]
  },
  {
   "cell_type": "code",
   "execution_count": null,
   "metadata": {},
   "outputs": [],
   "source": [
    "import sys\n",
    "\n",
    "sys.float_info.min"
   ]
  },
  {
   "cell_type": "code",
   "execution_count": null,
   "metadata": {},
   "outputs": [],
   "source": [
    "import sys\n",
    "\n",
    "sys.float_info.max"
   ]
  },
  {
   "cell_type": "markdown",
   "metadata": {},
   "source": [
    "### 2.8.2. Modul `os`\n",
    "\n",
    "TODO"
   ]
  },
  {
   "cell_type": "code",
   "execution_count": null,
   "metadata": {},
   "outputs": [],
   "source": [
    "import os\n",
    "\n",
    "os.cpu_count()"
   ]
  },
  {
   "cell_type": "markdown",
   "metadata": {},
   "source": [
    "TODO"
   ]
  },
  {
   "cell_type": "code",
   "execution_count": null,
   "metadata": {},
   "outputs": [],
   "source": [
    "import os\n",
    "\n",
    "os.sep"
   ]
  },
  {
   "cell_type": "markdown",
   "metadata": {},
   "source": [
    "TODO"
   ]
  },
  {
   "cell_type": "code",
   "execution_count": null,
   "metadata": {},
   "outputs": [],
   "source": [
    "import os\n",
    "\n",
    "os.listdrives()"
   ]
  },
  {
   "cell_type": "markdown",
   "metadata": {},
   "source": [
    "TODO"
   ]
  },
  {
   "cell_type": "code",
   "execution_count": null,
   "metadata": {},
   "outputs": [],
   "source": [
    "import os\n",
    "\n",
    "os.listdir(\".\")"
   ]
  },
  {
   "cell_type": "markdown",
   "metadata": {},
   "source": [
    "TODO"
   ]
  },
  {
   "cell_type": "code",
   "execution_count": null,
   "metadata": {},
   "outputs": [],
   "source": [
    "import os\n",
    "\n",
    "os.stat(\"Eingabe.txt\").st_size # Größe der Datei in Bytes"
   ]
  },
  {
   "cell_type": "code",
   "execution_count": null,
   "metadata": {},
   "outputs": [],
   "source": [
    "import os\n",
    "\n",
    "os.stat(\"Eingabe.txt\").st_birthtime # Zeitpunkt der Erstrellung"
   ]
  },
  {
   "cell_type": "code",
   "execution_count": null,
   "metadata": {},
   "outputs": [],
   "source": [
    "import os\n",
    "\n",
    "os.stat(\"Eingabe.txt\").st_mtime # Zeitpunkt der letzten schreibenden Änderung"
   ]
  },
  {
   "cell_type": "code",
   "execution_count": null,
   "metadata": {},
   "outputs": [],
   "source": [
    "import os\n",
    "\n",
    "os.stat(\"Eingabe.txt\").st_atime # Zeitpunkt des letzten lesenden Zugriffs"
   ]
  },
  {
   "cell_type": "markdown",
   "metadata": {},
   "source": [
    "TODO"
   ]
  },
  {
   "cell_type": "code",
   "execution_count": null,
   "metadata": {},
   "outputs": [],
   "source": [
    "import os\n",
    "\n",
    "os.mkdir(\"Test\")"
   ]
  },
  {
   "cell_type": "code",
   "execution_count": null,
   "metadata": {},
   "outputs": [],
   "source": [
    "import os\n",
    "\n",
    "os.makedirs(f\"Test2{os.sep}Test3\")"
   ]
  },
  {
   "cell_type": "markdown",
   "metadata": {},
   "source": [
    "TODO"
   ]
  },
  {
   "cell_type": "code",
   "execution_count": null,
   "metadata": {},
   "outputs": [],
   "source": [
    "import os\n",
    "\n",
    "os.rename(\"Test2\", \"Test3\")"
   ]
  },
  {
   "cell_type": "markdown",
   "metadata": {},
   "source": [
    "TODO"
   ]
  },
  {
   "cell_type": "code",
   "execution_count": null,
   "metadata": {},
   "outputs": [],
   "source": [
    "import os\n",
    "\n",
    "os.unlink(\"Ausgabe.txt\")"
   ]
  },
  {
   "cell_type": "markdown",
   "metadata": {},
   "source": [
    "TODO"
   ]
  },
  {
   "cell_type": "code",
   "execution_count": null,
   "metadata": {},
   "outputs": [],
   "source": [
    "import os\n",
    "\n",
    "os.rmdir(\"Test\")"
   ]
  },
  {
   "cell_type": "markdown",
   "metadata": {},
   "source": [
    "### 2.8.2. Modul `math`\n",
    "\n",
    "TODO"
   ]
  },
  {
   "cell_type": "code",
   "execution_count": 18,
   "metadata": {},
   "outputs": [
    {
     "data": {
      "text/plain": [
       "3.141592653589793"
      ]
     },
     "execution_count": 18,
     "metadata": {},
     "output_type": "execute_result"
    }
   ],
   "source": [
    "import math\n",
    "\n",
    "math.pi"
   ]
  },
  {
   "cell_type": "markdown",
   "metadata": {},
   "source": [
    "TODO"
   ]
  },
  {
   "cell_type": "code",
   "execution_count": null,
   "metadata": {},
   "outputs": [],
   "source": [
    "import math\n",
    "\n",
    "math.sin(0)"
   ]
  },
  {
   "cell_type": "code",
   "execution_count": null,
   "metadata": {},
   "outputs": [],
   "source": [
    "import math\n",
    "\n",
    "math.cos(1)"
   ]
  },
  {
   "cell_type": "markdown",
   "metadata": {},
   "source": [
    "TODO"
   ]
  },
  {
   "cell_type": "code",
   "execution_count": null,
   "metadata": {},
   "outputs": [],
   "source": [
    "import math\n",
    "\n",
    "math.floor(1.5)"
   ]
  },
  {
   "cell_type": "code",
   "execution_count": null,
   "metadata": {},
   "outputs": [],
   "source": [
    "import math\n",
    "\n",
    "math.ceil(1.5)"
   ]
  }
 ],
 "metadata": {
  "kernelspec": {
   "display_name": "Python 3",
   "language": "python",
   "name": "python3"
  },
  "language_info": {
   "codemirror_mode": {
    "name": "ipython",
    "version": 3
   },
   "file_extension": ".py",
   "mimetype": "text/x-python",
   "name": "python",
   "nbconvert_exporter": "python",
   "pygments_lexer": "ipython3",
   "version": "3.12.1"
  }
 },
 "nbformat": 4,
 "nbformat_minor": 2
}
