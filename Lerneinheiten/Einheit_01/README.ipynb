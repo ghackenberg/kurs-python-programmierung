{
 "cells": [
  {
   "cell_type": "markdown",
   "metadata": {},
   "source": [
    "# 2. Grundlegende Python-Syntax\n",
    "\n",
    "Nun erarbeiten wir uns Schritt für Schritt die **Bausteine, aus denen sich Quelltext von Python Programmen zusammensetzt**. Die *in dieser Lerneinheit besprochenen Bausteine* sind:\n",
    "\n",
    "- Kommentare\n",
    "- Literale\n",
    "- Operatoren\n",
    "- Variablen\n",
    "- Funktionsaufrufe\n",
    "- Methodenaufrufe\n",
    "- Importe"
   ]
  },
  {
   "cell_type": "markdown",
   "metadata": {},
   "source": [
    "## 2.1. Kommentare\n",
    "\n",
    "Quelltext kann schnell sehr *umfassend und schwierig zu lesen* werden. Kommentare können dabei helfen, die **Lesbarkeit und Verständlichkeit des Quelltextes** zu verbessern. Insbesondere bei *größeren Softwareprojekten mit mehreren Programmieren* sind Kommentare sehr hilfreich.  Sie sollen dabei helfen, die *Zeit für die Einarbeitung in den Quelltext zu reduzieren*. Eine schnellere Einarbeitung *spart wiederum Kosten für das Onboarding* neuer Entwickler. Außerdem kann dadurch die *Kosten für Fehlerbehebung und Funktionserweiterung* gesenkt werden.\n",
    "\n",
    "In Python starten Kommentare mit dem Gattersymbol (d.h. ``# ...``)."
   ]
  },
  {
   "cell_type": "code",
   "execution_count": 19,
   "metadata": {},
   "outputs": [
    {
     "name": "stdout",
     "output_type": "stream",
     "text": [
      "Hallo Welt\n"
     ]
    }
   ],
   "source": [
    "# Hier ist ein Kommentar!\n",
    "\n",
    "print(\"Hallo Welt\")"
   ]
  },
  {
   "cell_type": "markdown",
   "metadata": {},
   "source": [
    "Wie im obigen Beispiel gezeigt kann man eine *ganze Zeile des Quelltextes als Kommentar* auszeichnen. Es ist jedoch auch möglich, nur einen **Teil einer Zeile des Quelltextes zu einem Kommentar** zu machen. Tatsächlich beginnt der Kommentar immer ab dem *ersten Gatterzeichen in einer Zeile*. Der Text vor dem ersten Gatterzeichen wird als *regulärer Quelltext interpretiert*.\n",
    "\n",
    "Hier ist ein Python Programm, bei dem der Kommentar erst in der Mitte der Zeile beginnt."
   ]
  },
  {
   "cell_type": "code",
   "execution_count": 20,
   "metadata": {},
   "outputs": [
    {
     "name": "stdout",
     "output_type": "stream",
     "text": [
      "Hallo Welt\n"
     ]
    }
   ],
   "source": [
    "print(\"Hallo Welt\") # Hier ist ein Kommentar!"
   ]
  },
  {
   "cell_type": "markdown",
   "metadata": {},
   "source": [
    "## 2.2. Literale\n",
    "\n",
    "Wie bereits zuvor erwähnt verarbeiten Computerprogramme Eingaben des Nutzers und erzeugen Ausgaben. Sowohl Eingaben als auch Ausgaben sind Daten, die das Computerprogramm *in seinem Speicher verwaltet*. Neben den änderbaren Eingaben des Nutzers kann ein Computerprogramm auch **konstante Daten** beinhalten. Eine Konstante kann beispielsweise das *Mindestalter einer Person* (z.B. 18 Jahre alt) sein. Konstante Daten werden in Programmen über **sogenannte Literale** definiert.\n",
    "\n",
    "Die folgende Grafik gibt eine Übersicht über unterschiedliche Arten von Literalen. Beachte, dass die Übersicht der Literale nicht vollständig ist. Im Laufe des Kurses werden wir weitere Literale kennenlernen. Hier sollen nur ein paar grundlegende Literale eingeführt werden, um das Konzept der Literale zu erklären.\n",
    "\n",
    "![](../../Grafiken/Mermaid/Literale/Allgemein.png)\n",
    "\n",
    "Im Folgenden schauen wir uns die genannten Literale genauer an."
   ]
  },
  {
   "cell_type": "markdown",
   "metadata": {},
   "source": [
    "### 2.2.1. Literale für **Wahrheitswerte**\n",
    "\n",
    "Im ersten Kapitel haben wir bereits die Wahrheitswerte *Wahr* und *Falsch* gesprochen. Wie bereits diskutiert, werden die beiden Wahrheitswerte über unterschiedliche Bitmuster repräsentiert. Der Wahrheitswert *Falsch* wird über das Bitmuster repräsentiert, bei dem alle Bits den Wert Null haben. Der Wahrheitswert *Wahr* wird hingegen über ein Bitmuster repräsentiert, bei dem mindestens ein Bit nicht den Wert Null hat. In Python-Programmen müssen die Bitmuster nicht direkt angegeben werden, sondern können über entsprechende Literale referenziert werden."
   ]
  },
  {
   "cell_type": "markdown",
   "metadata": {},
   "source": [
    "#### 2.2.1.1. Wahrheitswert *Falsch*\n",
    "\n",
    "Der Wahrheitswert *Falsch* wird über das Literal ``False`` dargestellt. Beachte, dass der Python-Interpreter dieses Literal bei der Ausführung eines Python-Programms automatisch in das entsprechende Bitmuster übersetzt."
   ]
  },
  {
   "cell_type": "code",
   "execution_count": 21,
   "metadata": {},
   "outputs": [
    {
     "data": {
      "text/plain": [
       "False"
      ]
     },
     "execution_count": 21,
     "metadata": {},
     "output_type": "execute_result"
    }
   ],
   "source": [
    "False # Literal des Wahrheitswertes \"Falsch\""
   ]
  },
  {
   "cell_type": "markdown",
   "metadata": {},
   "source": [
    "2.2.1.2. Wahrheitswert *Wahr*\n",
    "\n",
    "Der Wahrheitswert *Wahr* wird hingegen über das Literal `True` dargestellt. Der Python-Interpreter übersetzt dieses Literal wieder voll automatisch in eines der vielen möglichen Bitmuster (siehe voriges Kapitel)."
   ]
  },
  {
   "cell_type": "code",
   "execution_count": 22,
   "metadata": {},
   "outputs": [
    {
     "data": {
      "text/plain": [
       "True"
      ]
     },
     "execution_count": 22,
     "metadata": {},
     "output_type": "execute_result"
    }
   ],
   "source": [
    "True # Literal des Wahrheitswertes \"Wahr\""
   ]
  },
  {
   "cell_type": "markdown",
   "metadata": {},
   "source": [
    "### 2.2.2. Literale für **Zahlen**\n",
    "\n",
    "Neben einfachen Wahrheitswerten wollen und müssen Computerprogramme in der Regel auch *Zahlen* verarbeiten. Dabei unterscheiden Computerprogramme grundsätzlich zwischen *Ganzzahlen* und *Bruchzahlen* (siehe voriges Kapitel). Für beide Arten von Zahlen gibt es Literale, die sich in ihrer Syntax etwas unterschieden. Zusätzlich unterstützt Python auch komplexe Zahlen, wie wir gleich sehen werden."
   ]
  },
  {
   "cell_type": "markdown",
   "metadata": {},
   "source": [
    "#### 2.2.2.1. Ganze Zahlen\n",
    "\n",
    "Der folgende Quelltext zeigt die Definition einer Ganzzahl als numerisches Literal. Ganzzahlen ergeben sich somit durch eine **unterbrechungsfreie Reihe von Ziffern** (d.h. ``0`` bis ``9``). Unterbrechungsfrei heißt in diesem Zusammenhang, dass z.B. auch keine Leerzeichen zwischen den Ziffern enthalten sein dürfen. Anderfalls gibt der Python-Interpreter wahrscheinlich einen Syntaxfehler aus."
   ]
  },
  {
   "cell_type": "code",
   "execution_count": 23,
   "metadata": {},
   "outputs": [
    {
     "data": {
      "text/plain": [
       "154"
      ]
     },
     "execution_count": 23,
     "metadata": {},
     "output_type": "execute_result"
    }
   ],
   "source": [
    "154 # Literal einer ganzen TZahl"
   ]
  },
  {
   "cell_type": "markdown",
   "metadata": {},
   "source": [
    "#### 2.2.2.2. Reelle Zahlen\n",
    "\n",
    "Numerische Literale für Bruchzahlen enthalten hingegen an einer beliebigen Stelle das **Punktsymbol als Dezimaltrenner**. Beachte, dass sich hier die *amerikanische Schreibweise* von Bruchzahlen gegenüber der deutschen Schreibweise durchgesetzt hat. Vor und nach dem Dezimaltrenner dürfen wiederum nur *unterbrechungsfreihe Reihen von Ziffern* sein (siehe Ganzzahlen). Beachte des weiteren, dass Programmiersprachen in der Regel **kein** gesondertes Symbol für den Tausendertrenner anbieten."
   ]
  },
  {
   "cell_type": "code",
   "execution_count": 24,
   "metadata": {},
   "outputs": [
    {
     "data": {
      "text/plain": [
       "234.456"
      ]
     },
     "execution_count": 24,
     "metadata": {},
     "output_type": "execute_result"
    }
   ],
   "source": [
    "234.456 # Literal einer reellen Zahl"
   ]
  },
  {
   "cell_type": "markdown",
   "metadata": {},
   "source": [
    "#### 2.2.2.3. Imaginäre Zahlen\n",
    "\n",
    "Schließlich bietet Python auch die Möglichkeit, den **Imaginärteil von komplexen Zahlen** darzustellen. Komplexe Zahlen ergeben sich beispielsweise, wenn die Wurzel einer negativen Zahl (z.B. -2) berechnet wird. Wie in der Mathematik setzen sich in Python komplexe Zahlen aus einem reellen und einem imaginären Teil zusammen. Der folgende Quelltext zeigt, wie man in der Programmiersprache Python den Imaginärteil einer komplexen Zahl formuliert. Der eigentlichen Zahl wird einfach das Symbol `j` nachgestellt."
   ]
  },
  {
   "cell_type": "code",
   "execution_count": 1,
   "metadata": {},
   "outputs": [
    {
     "data": {
      "text/plain": [
       "7.21j"
      ]
     },
     "execution_count": 1,
     "metadata": {},
     "output_type": "execute_result"
    }
   ],
   "source": [
    "7.21j # Literal einer imaginären Zahl"
   ]
  },
  {
   "cell_type": "markdown",
   "metadata": {},
   "source": [
    "### 2.2.3. Literale für **Zeichenketten**\n",
    "\n",
    "Schließlich sollen Computerprogramme auch **konstante Zeichenketten** beinhalten. Tatsächlich beinhaltet bereits das einfache *Hallo Welt Programm* eine konstante Zeichenkette, nämlich ``\"Hallo Welt\"``. Der folgende Quelltext zeigt, wie man *Zeichenketten Literale* in der Programmiersprache Python definiert. Tatsächlich gibt es noch *weitere Formen der Zeichenketten Literale*, die wir später kennen lernen werden."
   ]
  },
  {
   "cell_type": "code",
   "execution_count": 25,
   "metadata": {},
   "outputs": [
    {
     "data": {
      "text/plain": [
       "'Eine Zeichenkette'"
      ]
     },
     "execution_count": 25,
     "metadata": {},
     "output_type": "execute_result"
    }
   ],
   "source": [
    "\"Eine Zeichenkette\" # Literal einer Zeichenkette"
   ]
  },
  {
   "cell_type": "markdown",
   "metadata": {},
   "source": [
    "## 2.3. Operatoren\n",
    "\n",
    "Nachdem wir zumindest schon Daten repräsentieren können, möchten wir die **Daten auch in Berechnungen verwenden**. Die Grundlage für Berechnungen bieten die *sogenannten Operatoren* einer Programmiersprache. Die folgende Grafik gibt eine Übersicht über die Operatoren, die in dieser ersten Einheiten verwendet werden. Beachte, dass die Programmiersprache Python eine Vielzahl weiterer Operatoren unterstützt. Im Laufe des Kurses werden wir diese noch kennenlernen. Hier konzentrieren wir uns zunächst auf wenige Operatoren, um ein Grundverständnis für das Konzept von Operatoren in Programmiersprachen zu vermitteln.\n",
    "\n",
    "![](../../Grafiken/Mermaid/Operatoren/Allgemein.png)\n",
    "\n",
    "Im Folgenden führen wir die Schreibweise der ausgewählten Operatoren und deren Funktion ein."
   ]
  },
  {
   "cell_type": "markdown",
   "metadata": {},
   "source": [
    "### 2.3.1. Operatoren für **Wahrheitswerte**\n",
    "\n",
    "In diesem zweiten Kapitel betrachen wir die beiden boolschen Operatoren `not` und `and`. Im Folgenden erklären wir zunächst die Funktionsweise des Operators `not`, bevor wir auf die Funktionsweise des Operators `and` eingehen."
   ]
  },
  {
   "cell_type": "markdown",
   "metadata": {},
   "source": [
    "#### 2.3.1.1. Operator `not`\n",
    "\n",
    "Der Operator `not` kann verwendet werden, um einen boolschen Wahrheitswert zu negieren. Negieren heißt in diesem Zusammenhang, dass aus dem Wahrheitswert *Wahr* der Wahrheitswert *Falsch* wird und umgekehrt. Die folgenden beiden Quelltexte zeigen, wie man den Operator `not` auf das Literal `True` und auf das Literal `False` anwendet."
   ]
  },
  {
   "cell_type": "code",
   "execution_count": 4,
   "metadata": {},
   "outputs": [
    {
     "data": {
      "text/plain": [
       "True"
      ]
     },
     "execution_count": 4,
     "metadata": {},
     "output_type": "execute_result"
    }
   ],
   "source": [
    "not False # Negierung des Wahrheitswertes \"Falsch\" => \"Wahr\""
   ]
  },
  {
   "cell_type": "code",
   "execution_count": 17,
   "metadata": {},
   "outputs": [
    {
     "data": {
      "text/plain": [
       "False"
      ]
     },
     "execution_count": 17,
     "metadata": {},
     "output_type": "execute_result"
    }
   ],
   "source": [
    "not True # Negierung des Wahrheitswertes \"Wahr\" => \"Falsch\""
   ]
  },
  {
   "cell_type": "markdown",
   "metadata": {},
   "source": [
    "Der Operator `not` kann auch mehrfach auf einen Wahrheitswert angewendet werden. Wenn man den Operator zum Beispiel zweimal auf denselben Wahrheitswert anwendet, kommt wieder der ursprüngliche Wahrheitswert heraus. Das heißt, aus dem Wahrheitswert *Wahr* wird wieder der Wahrheitswert *Wahr*, und aus dem Wahrheitswert *Falsch* wird der Wahrheitswert *Falsch*."
   ]
  },
  {
   "cell_type": "code",
   "execution_count": 10,
   "metadata": {},
   "outputs": [
    {
     "data": {
      "text/plain": [
       "False"
      ]
     },
     "execution_count": 10,
     "metadata": {},
     "output_type": "execute_result"
    }
   ],
   "source": [
    "not not False # Doppelte Negierung des Wahrheitswerts \"Falsch\" => \"Falsch\""
   ]
  },
  {
   "cell_type": "code",
   "execution_count": 16,
   "metadata": {},
   "outputs": [
    {
     "data": {
      "text/plain": [
       "True"
      ]
     },
     "execution_count": 16,
     "metadata": {},
     "output_type": "execute_result"
    }
   ],
   "source": [
    "not not True # Doppelte Negierung des Wahrheitswerts \"Wahr\" => \"Wahr\""
   ]
  },
  {
   "cell_type": "markdown",
   "metadata": {},
   "source": [
    "Die dreifache Negierung eines Wahrheitswertes entspricht somit wieder der einfachen Negierung eines Wahrheitswertes, wie bereits weiter oben beschrieben. Die vierfache Negierung entspricht hingegen der zweifachen Negierung und so weiter."
   ]
  },
  {
   "cell_type": "markdown",
   "metadata": {},
   "source": [
    "#### 2.3.1.2. Operator `and`\n",
    "\n",
    "Der Operator `and` kann hingegen verwendet werden, um die logische Und-Verknüpfung zweier Wahrheitswerte zu berechnen. Die logische Und-Verknüpfung zweier Wahrheitswerte liefert wiederum einen Wahrheitswert. Dieser gelieferte Wahrheitswert hat nur den Wert *Wahr*, wenn beide ursprünglichen Wahrheitswerte ebenfalls den Wert *Wahr* gehabt haben. Andernfalls wird der Wahrheitswert *Falsch* zurückgeliefert. Diese Zusammenhänge sind in den folgenden vier Quelltextblöcken noch einmal anhand der Verknüpfung der boolschen Literale `True` und `False` illustriert."
   ]
  },
  {
   "cell_type": "code",
   "execution_count": 5,
   "metadata": {},
   "outputs": [
    {
     "data": {
      "text/plain": [
       "False"
      ]
     },
     "execution_count": 5,
     "metadata": {},
     "output_type": "execute_result"
    }
   ],
   "source": [
    "False and False # Beide Werte nicht wahr => falsch"
   ]
  },
  {
   "cell_type": "code",
   "execution_count": 27,
   "metadata": {},
   "outputs": [
    {
     "data": {
      "text/plain": [
       "False"
      ]
     },
     "execution_count": 27,
     "metadata": {},
     "output_type": "execute_result"
    }
   ],
   "source": [
    "True and False # Zweiter Wert nicht wahr => falsch"
   ]
  },
  {
   "cell_type": "code",
   "execution_count": 11,
   "metadata": {},
   "outputs": [
    {
     "data": {
      "text/plain": [
       "False"
      ]
     },
     "execution_count": 11,
     "metadata": {},
     "output_type": "execute_result"
    }
   ],
   "source": [
    "False and True # Erster Wert nicht wahr => falsch"
   ]
  },
  {
   "cell_type": "code",
   "execution_count": 6,
   "metadata": {},
   "outputs": [
    {
     "data": {
      "text/plain": [
       "True"
      ]
     },
     "execution_count": 6,
     "metadata": {},
     "output_type": "execute_result"
    }
   ],
   "source": [
    "True and True # Beide Werte wahr => wahr"
   ]
  },
  {
   "cell_type": "markdown",
   "metadata": {},
   "source": [
    "### 2.3.2. Operatoren für **Zahlen**\n",
    "\n",
    "Nun betrachten wir Operatoren für Zahlen. In diesem zweiten Kapitel konzentrieren wir uns zunächst auf den Operator `+` für die Berechnung von Summen, bevor auf den Operator `*` für die Berechnung von Produkten eingehen. Für beide Operatoren betrachten wir insbesondere auch das Zusammenspiel der unterschiedlichen Zahlenarten (d.h. ganze, reelle und imaginäre Zahlen)."
   ]
  },
  {
   "cell_type": "markdown",
   "metadata": {},
   "source": [
    "#### 2.3.2.1. Operator `+`\n",
    "\n",
    "Der Operator `+` berechnet die Summe zweier Zahlen, egal ob die Zahlen ganz, reell, oder imaginär sind. Im folgenkden betrachten wir zunächst den Fall, **dass die beiden Zahlen ganz oder reell sind**. Wenn beide Zahlen ganz sind, ist das Ergebnis des Operators wieder eine ganze Zahl. Ansonsten ist das Ergebnis des Operators eine reelle Zahl."
   ]
  },
  {
   "cell_type": "code",
   "execution_count": 22,
   "metadata": {},
   "outputs": [
    {
     "data": {
      "text/plain": [
       "12"
      ]
     },
     "execution_count": 22,
     "metadata": {},
     "output_type": "execute_result"
    }
   ],
   "source": [
    "5 + 7 # Summe zweier ganzen Zahlen => ganze Zahl"
   ]
  },
  {
   "cell_type": "code",
   "execution_count": 8,
   "metadata": {},
   "outputs": [
    {
     "data": {
      "text/plain": [
       "8.45"
      ]
     },
     "execution_count": 8,
     "metadata": {},
     "output_type": "execute_result"
    }
   ],
   "source": [
    "3.45 + 5 # Summe einer reellen und einer ganzen Zahl => reelle Zahl"
   ]
  },
  {
   "cell_type": "code",
   "execution_count": 13,
   "metadata": {},
   "outputs": [
    {
     "data": {
      "text/plain": [
       "6.32"
      ]
     },
     "execution_count": 13,
     "metadata": {},
     "output_type": "execute_result"
    }
   ],
   "source": [
    "3.67 + 2.65 # Summe zweier reeller Zahlen => reelle Zahl"
   ]
  },
  {
   "cell_type": "markdown",
   "metadata": {},
   "source": [
    "Nun betrachten wir den Fall, **dass mindestens eine der beiden Zahlen eine imaginäre Zahl ist**. Wenn nur eine der beiden Zahlen eine imaginäre Zahl ist, ist das Ergebnis des Operators eine komplexe Zahl. Wenn hingegen beide Zahlen imagär sind, ist das Ergebnis des Operators wieder eine imaginäre Zahl."
   ]
  },
  {
   "cell_type": "code",
   "execution_count": 3,
   "metadata": {},
   "outputs": [
    {
     "data": {
      "text/plain": [
       "(5+3j)"
      ]
     },
     "execution_count": 3,
     "metadata": {},
     "output_type": "execute_result"
    }
   ],
   "source": [
    "5 + 3j # Summe einer ganzen und einer imaginären Zahl => komplexe Zahl"
   ]
  },
  {
   "cell_type": "code",
   "execution_count": 14,
   "metadata": {},
   "outputs": [
    {
     "data": {
      "text/plain": [
       "(34.45+2j)"
      ]
     },
     "execution_count": 14,
     "metadata": {},
     "output_type": "execute_result"
    }
   ],
   "source": [
    "34.45 + 2j # Summe einer reellen und einer imaginären Zahl => komplexe Zahl"
   ]
  },
  {
   "cell_type": "code",
   "execution_count": 15,
   "metadata": {},
   "outputs": [
    {
     "data": {
      "text/plain": [
       "56.6j"
      ]
     },
     "execution_count": 15,
     "metadata": {},
     "output_type": "execute_result"
    }
   ],
   "source": [
    "54j + 2.6j # Summe zweier imaginärer Zahlen => imaginäre Zahl"
   ]
  },
  {
   "cell_type": "markdown",
   "metadata": {},
   "source": [
    "#### 2.3.2.2. Operator `*`\n",
    "\n",
    "TODO"
   ]
  },
  {
   "cell_type": "code",
   "execution_count": 7,
   "metadata": {},
   "outputs": [
    {
     "data": {
      "text/plain": [
       "35"
      ]
     },
     "execution_count": 7,
     "metadata": {},
     "output_type": "execute_result"
    }
   ],
   "source": [
    "5 * 7 # Produkt zweier ganzen Zahlen => ganze Zahl"
   ]
  },
  {
   "cell_type": "code",
   "execution_count": 9,
   "metadata": {},
   "outputs": [
    {
     "data": {
      "text/plain": [
       "17.5"
      ]
     },
     "execution_count": 9,
     "metadata": {},
     "output_type": "execute_result"
    }
   ],
   "source": [
    "3.5 * 5 # Produkt einer reellen und einer ganzen Zahl => reelle Zahl"
   ]
  },
  {
   "cell_type": "code",
   "execution_count": 18,
   "metadata": {},
   "outputs": [
    {
     "data": {
      "text/plain": [
       "12.6736"
      ]
     },
     "execution_count": 18,
     "metadata": {},
     "output_type": "execute_result"
    }
   ],
   "source": [
    "3.56 * 3.56 # Produkt zweier reellen Zahlen => reelle Zahl"
   ]
  },
  {
   "cell_type": "markdown",
   "metadata": {},
   "source": [
    "TODO"
   ]
  },
  {
   "cell_type": "code",
   "execution_count": 20,
   "metadata": {},
   "outputs": [
    {
     "data": {
      "text/plain": [
       "15j"
      ]
     },
     "execution_count": 20,
     "metadata": {},
     "output_type": "execute_result"
    }
   ],
   "source": [
    "5 * 3j # Produkt einer ganzen und einer imaginären Zahl => imaginäre Zahl"
   ]
  },
  {
   "cell_type": "code",
   "execution_count": 21,
   "metadata": {},
   "outputs": [
    {
     "data": {
      "text/plain": [
       "14.85j"
      ]
     },
     "execution_count": 21,
     "metadata": {},
     "output_type": "execute_result"
    }
   ],
   "source": [
    "4.5 * 3.3j # Produkt einer reellen und einer imaginären Zahl => imaginäre Zahl"
   ]
  },
  {
   "cell_type": "code",
   "execution_count": 27,
   "metadata": {},
   "outputs": [
    {
     "data": {
      "text/plain": [
       "(-3+0j)"
      ]
     },
     "execution_count": 27,
     "metadata": {},
     "output_type": "execute_result"
    }
   ],
   "source": [
    "1.5j * 2j # Produkt zweier imaginärer Zahlen => reelle Zahl"
   ]
  },
  {
   "cell_type": "markdown",
   "metadata": {},
   "source": [
    "### 2.3.3. Operatoren für **Zeichenketten**\n",
    "\n",
    "TODO"
   ]
  },
  {
   "cell_type": "markdown",
   "metadata": {},
   "source": [
    "#### 2.3.3.1. Operator `+`\n",
    "\n",
    "TODO"
   ]
  },
  {
   "cell_type": "code",
   "execution_count": 30,
   "metadata": {},
   "outputs": [
    {
     "data": {
      "text/plain": [
       "'Zeichenkette 1Zeichenkette 2'"
      ]
     },
     "execution_count": 30,
     "metadata": {},
     "output_type": "execute_result"
    }
   ],
   "source": [
    "\"Zeichenkette 1\" + \"Zeichenkette 2\""
   ]
  },
  {
   "cell_type": "markdown",
   "metadata": {},
   "source": [
    "TODO"
   ]
  },
  {
   "cell_type": "code",
   "execution_count": 30,
   "metadata": {},
   "outputs": [
    {
     "ename": "TypeError",
     "evalue": "can only concatenate str (not \"bool\") to str",
     "output_type": "error",
     "traceback": [
      "\u001b[1;31m---------------------------------------------------------------------------\u001b[0m",
      "\u001b[1;31mTypeError\u001b[0m                                 Traceback (most recent call last)",
      "Cell \u001b[1;32mIn[30], line 1\u001b[0m\n\u001b[1;32m----> 1\u001b[0m \u001b[38;5;124;43m\"\u001b[39;49m\u001b[38;5;124;43mZeichenkette\u001b[39;49m\u001b[38;5;124;43m\"\u001b[39;49m\u001b[43m \u001b[49m\u001b[38;5;241;43m+\u001b[39;49m\u001b[43m \u001b[49m\u001b[38;5;28;43;01mTrue\u001b[39;49;00m\n",
      "\u001b[1;31mTypeError\u001b[0m: can only concatenate str (not \"bool\") to str"
     ]
    }
   ],
   "source": [
    "\"Zeichenkette\" + True"
   ]
  },
  {
   "cell_type": "code",
   "execution_count": 31,
   "metadata": {},
   "outputs": [
    {
     "ename": "TypeError",
     "evalue": "can only concatenate str (not \"float\") to str",
     "output_type": "error",
     "traceback": [
      "\u001b[1;31m---------------------------------------------------------------------------\u001b[0m",
      "\u001b[1;31mTypeError\u001b[0m                                 Traceback (most recent call last)",
      "Cell \u001b[1;32mIn[31], line 1\u001b[0m\n\u001b[1;32m----> 1\u001b[0m \u001b[38;5;124;43m\"\u001b[39;49m\u001b[38;5;124;43mZeichenkette\u001b[39;49m\u001b[38;5;124;43m\"\u001b[39;49m\u001b[43m \u001b[49m\u001b[38;5;241;43m+\u001b[39;49m\u001b[43m \u001b[49m\u001b[38;5;241;43m1.5\u001b[39;49m\n",
      "\u001b[1;31mTypeError\u001b[0m: can only concatenate str (not \"float\") to str"
     ]
    }
   ],
   "source": [
    "\"Zeichenkette\" + 1.5"
   ]
  },
  {
   "cell_type": "markdown",
   "metadata": {},
   "source": [
    "TODO"
   ]
  },
  {
   "cell_type": "code",
   "execution_count": 32,
   "metadata": {},
   "outputs": [
    {
     "data": {
      "text/plain": [
       "'ZeichenketteTrue'"
      ]
     },
     "execution_count": 32,
     "metadata": {},
     "output_type": "execute_result"
    }
   ],
   "source": [
    "\"Zeichenkette\" + str(True)"
   ]
  },
  {
   "cell_type": "code",
   "execution_count": null,
   "metadata": {},
   "outputs": [
    {
     "data": {
      "text/plain": [
       "'Zeichenkette1.5'"
      ]
     },
     "execution_count": 44,
     "metadata": {},
     "output_type": "execute_result"
    }
   ],
   "source": [
    "\"Zeichenkette\" + str(1.5)"
   ]
  },
  {
   "cell_type": "markdown",
   "metadata": {},
   "source": [
    "#### 2.3.3.2. Operator `f`\n",
    "\n",
    "TODO"
   ]
  },
  {
   "cell_type": "code",
   "execution_count": 34,
   "metadata": {},
   "outputs": [
    {
     "data": {
      "text/plain": [
       "'ZeichenketteTrue'"
      ]
     },
     "execution_count": 34,
     "metadata": {},
     "output_type": "execute_result"
    }
   ],
   "source": [
    "f\"Zeichenkette{True}\""
   ]
  },
  {
   "cell_type": "code",
   "execution_count": 28,
   "metadata": {},
   "outputs": [
    {
     "data": {
      "text/plain": [
       "'Zeichenkette1.5'"
      ]
     },
     "execution_count": 28,
     "metadata": {},
     "output_type": "execute_result"
    }
   ],
   "source": [
    "f\"Zeichenkette{1.5}\""
   ]
  },
  {
   "cell_type": "code",
   "execution_count": 35,
   "metadata": {},
   "outputs": [
    {
     "data": {
      "text/plain": [
       "'ZeichenketteZeichenkette'"
      ]
     },
     "execution_count": 35,
     "metadata": {},
     "output_type": "execute_result"
    }
   ],
   "source": [
    "f\"Zeichenkette{\"Zeichenkette\"}\""
   ]
  },
  {
   "cell_type": "markdown",
   "metadata": {},
   "source": [
    "TODO"
   ]
  },
  {
   "cell_type": "code",
   "execution_count": 33,
   "metadata": {},
   "outputs": [
    {
     "data": {
      "text/plain": [
       "'ZeichenketteFalse'"
      ]
     },
     "execution_count": 33,
     "metadata": {},
     "output_type": "execute_result"
    }
   ],
   "source": [
    "f\"Zeichenkette{not True}\""
   ]
  },
  {
   "cell_type": "code",
   "execution_count": 29,
   "metadata": {},
   "outputs": [
    {
     "data": {
      "text/plain": [
       "'Zeichenkette4.2'"
      ]
     },
     "execution_count": 29,
     "metadata": {},
     "output_type": "execute_result"
    }
   ],
   "source": [
    "f\"Zeichenkette{1.5 + 2.7}\""
   ]
  },
  {
   "cell_type": "code",
   "execution_count": 36,
   "metadata": {},
   "outputs": [
    {
     "data": {
      "text/plain": [
       "'ZeichenketteZeichenketteZeichenkette'"
      ]
     },
     "execution_count": 36,
     "metadata": {},
     "output_type": "execute_result"
    }
   ],
   "source": [
    "f\"Zeichenkette{\"Zeichenkette\" + \"Zeichenkette\"}\""
   ]
  },
  {
   "cell_type": "markdown",
   "metadata": {},
   "source": [
    "TODO"
   ]
  },
  {
   "cell_type": "code",
   "execution_count": 39,
   "metadata": {},
   "outputs": [
    {
     "data": {
      "text/plain": [
       "'ZeichenketteZeichenketteTrue'"
      ]
     },
     "execution_count": 39,
     "metadata": {},
     "output_type": "execute_result"
    }
   ],
   "source": [
    "f\"Zeichenkette{f\"Zeichenkette{True}\"}\""
   ]
  },
  {
   "cell_type": "code",
   "execution_count": 38,
   "metadata": {},
   "outputs": [
    {
     "data": {
      "text/plain": [
       "'ZeichenketteZeichenketteZeichenketteFalse'"
      ]
     },
     "execution_count": 38,
     "metadata": {},
     "output_type": "execute_result"
    }
   ],
   "source": [
    "f\"Zeichenkette{f\"Zeichenkette{f\"Zeichenkette{not True}\"}\"}\""
   ]
  },
  {
   "cell_type": "code",
   "execution_count": 37,
   "metadata": {},
   "outputs": [
    {
     "data": {
      "text/plain": [
       "'ZeichenketteZeichenketteZeichenketteZeichenkette4.2'"
      ]
     },
     "execution_count": 37,
     "metadata": {},
     "output_type": "execute_result"
    }
   ],
   "source": [
    "f\"Zeichenkette{f\"Zeichenkette{f\"Zeichenkette{f\"Zeichenkette{1.5 + 2.7}\"}\"}\"}\""
   ]
  },
  {
   "cell_type": "markdown",
   "metadata": {},
   "source": [
    "## 2.4. Variablen\n",
    "\n",
    "TODO"
   ]
  },
  {
   "cell_type": "code",
   "execution_count": null,
   "metadata": {},
   "outputs": [
    {
     "data": {
      "text/plain": [
       "False"
      ]
     },
     "execution_count": 45,
     "metadata": {},
     "output_type": "execute_result"
    }
   ],
   "source": [
    "a = True\n",
    "\n",
    "not a"
   ]
  },
  {
   "cell_type": "markdown",
   "metadata": {},
   "source": [
    "TODO"
   ]
  },
  {
   "cell_type": "code",
   "execution_count": null,
   "metadata": {},
   "outputs": [
    {
     "data": {
      "text/plain": [
       "False"
      ]
     },
     "execution_count": 46,
     "metadata": {},
     "output_type": "execute_result"
    }
   ],
   "source": [
    "a = True\n",
    "\n",
    "a and False"
   ]
  },
  {
   "cell_type": "markdown",
   "metadata": {},
   "source": [
    "TODO"
   ]
  },
  {
   "cell_type": "code",
   "execution_count": null,
   "metadata": {},
   "outputs": [
    {
     "data": {
      "text/plain": [
       "False"
      ]
     },
     "execution_count": 47,
     "metadata": {},
     "output_type": "execute_result"
    }
   ],
   "source": [
    "a = True\n",
    "b = False\n",
    "\n",
    "a and b"
   ]
  },
  {
   "cell_type": "markdown",
   "metadata": {},
   "source": [
    "TODO"
   ]
  },
  {
   "cell_type": "code",
   "execution_count": null,
   "metadata": {},
   "outputs": [
    {
     "data": {
      "text/plain": [
       "7"
      ]
     },
     "execution_count": 48,
     "metadata": {},
     "output_type": "execute_result"
    }
   ],
   "source": [
    "a = 2\n",
    "b = 5\n",
    "\n",
    "a + b"
   ]
  },
  {
   "cell_type": "markdown",
   "metadata": {},
   "source": [
    "## 2.5. Funktionsaufrufe\n",
    "\n",
    "TODO"
   ]
  },
  {
   "cell_type": "code",
   "execution_count": null,
   "metadata": {},
   "outputs": [
    {
     "data": {
      "text/plain": [
       "int"
      ]
     },
     "execution_count": 49,
     "metadata": {},
     "output_type": "execute_result"
    }
   ],
   "source": [
    "type(1)"
   ]
  },
  {
   "cell_type": "markdown",
   "metadata": {},
   "source": [
    "TODO"
   ]
  },
  {
   "cell_type": "code",
   "execution_count": null,
   "metadata": {},
   "outputs": [
    {
     "data": {
      "text/plain": [
       "float"
      ]
     },
     "execution_count": 50,
     "metadata": {},
     "output_type": "execute_result"
    }
   ],
   "source": [
    "a = 1.5\n",
    "\n",
    "type(a)"
   ]
  },
  {
   "cell_type": "markdown",
   "metadata": {},
   "source": [
    "TODO"
   ]
  },
  {
   "cell_type": "code",
   "execution_count": null,
   "metadata": {},
   "outputs": [
    {
     "name": "stdout",
     "output_type": "stream",
     "text": [
      "True\n",
      "1.25\n",
      "Eine Zeichenkette\n"
     ]
    }
   ],
   "source": [
    "print(True)\n",
    "print(1.25)\n",
    "print(\"Eine Zeichenkette\")"
   ]
  },
  {
   "cell_type": "markdown",
   "metadata": {},
   "source": [
    "TODO"
   ]
  },
  {
   "cell_type": "code",
   "execution_count": null,
   "metadata": {},
   "outputs": [
    {
     "data": {
      "text/plain": [
       "'dfg'"
      ]
     },
     "execution_count": 38,
     "metadata": {},
     "output_type": "execute_result"
    }
   ],
   "source": [
    "input(\"Wie heißt du?\")"
   ]
  },
  {
   "cell_type": "markdown",
   "metadata": {},
   "source": [
    "## 2.6. Methodenaufrufe\n",
    "\n",
    "TODO"
   ]
  },
  {
   "cell_type": "code",
   "execution_count": null,
   "metadata": {},
   "outputs": [],
   "source": [
    "f = open(\"Eingabe.txt\", \"r\")\n",
    "\n",
    "f.close()"
   ]
  },
  {
   "cell_type": "markdown",
   "metadata": {},
   "source": [
    "TODO"
   ]
  },
  {
   "cell_type": "code",
   "execution_count": null,
   "metadata": {},
   "outputs": [
    {
     "data": {
      "text/plain": [
       "'Erste Zeile aus der Eingabedatei!\\nZweite Zeile aus der Eingabedatei!\\nDritte Zeile aus der Eingabedatei!\\n'"
      ]
     },
     "execution_count": 40,
     "metadata": {},
     "output_type": "execute_result"
    }
   ],
   "source": [
    "f = open(\"Eingabe.txt\", \"r\")\n",
    "\n",
    "f.read()"
   ]
  },
  {
   "cell_type": "markdown",
   "metadata": {},
   "source": [
    "TODO"
   ]
  },
  {
   "cell_type": "code",
   "execution_count": null,
   "metadata": {},
   "outputs": [
    {
     "data": {
      "text/plain": [
       "'Erste Zeile aus der Eingabedatei!\\n'"
      ]
     },
     "execution_count": 41,
     "metadata": {},
     "output_type": "execute_result"
    }
   ],
   "source": [
    "f = open(\"Eingabe.txt\", \"r\")\n",
    "\n",
    "f.readline()"
   ]
  },
  {
   "cell_type": "markdown",
   "metadata": {},
   "source": []
  },
  {
   "cell_type": "markdown",
   "metadata": {},
   "source": [
    "TODO"
   ]
  },
  {
   "cell_type": "code",
   "execution_count": null,
   "metadata": {},
   "outputs": [
    {
     "data": {
      "text/plain": [
       "['Erste Zeile aus der Eingabedatei!\\n',\n",
       " 'Zweite Zeile aus der Eingabedatei!\\n',\n",
       " 'Dritte Zeile aus der Eingabedatei!\\n']"
      ]
     },
     "execution_count": 42,
     "metadata": {},
     "output_type": "execute_result"
    }
   ],
   "source": [
    "f = open(\"Eingabe.txt\", \"r\")\n",
    "\n",
    "f.readlines()"
   ]
  },
  {
   "cell_type": "markdown",
   "metadata": {},
   "source": [
    "TODO"
   ]
  },
  {
   "cell_type": "code",
   "execution_count": null,
   "metadata": {},
   "outputs": [],
   "source": [
    "f = open(\"Ausgabe.txt\", \"w\")\n",
    "\n",
    "f.write(\"Erste generierte Zeile!\\n\")\n",
    "f.write(\"Zweite generierte Zeile!\\n\")\n",
    "f.write(\"Dritte generierte Zeile!\\n\")\n",
    "\n",
    "f.close()"
   ]
  },
  {
   "cell_type": "markdown",
   "metadata": {},
   "source": [
    "## 2.7. Importe\n",
    "\n",
    "TODO"
   ]
  },
  {
   "cell_type": "code",
   "execution_count": null,
   "metadata": {},
   "outputs": [
    {
     "data": {
      "text/plain": [
       "3.141592653589793"
      ]
     },
     "execution_count": 2,
     "metadata": {},
     "output_type": "execute_result"
    }
   ],
   "source": [
    "import math\n",
    "\n",
    "math.pi"
   ]
  },
  {
   "cell_type": "markdown",
   "metadata": {},
   "source": [
    "TODO"
   ]
  },
  {
   "cell_type": "code",
   "execution_count": null,
   "metadata": {},
   "outputs": [
    {
     "data": {
      "text/plain": [
       "1.4142135623730951"
      ]
     },
     "execution_count": 3,
     "metadata": {},
     "output_type": "execute_result"
    }
   ],
   "source": [
    "import math\n",
    "\n",
    "math.sqrt(2)"
   ]
  },
  {
   "cell_type": "markdown",
   "metadata": {},
   "source": [
    "TODO"
   ]
  },
  {
   "cell_type": "code",
   "execution_count": 25,
   "metadata": {},
   "outputs": [
    {
     "ename": "ValueError",
     "evalue": "math domain error",
     "output_type": "error",
     "traceback": [
      "\u001b[1;31m---------------------------------------------------------------------------\u001b[0m",
      "\u001b[1;31mValueError\u001b[0m                                Traceback (most recent call last)",
      "Cell \u001b[1;32mIn[25], line 3\u001b[0m\n\u001b[0;32m      1\u001b[0m \u001b[38;5;28;01mimport\u001b[39;00m \u001b[38;5;21;01mmath\u001b[39;00m\n\u001b[1;32m----> 3\u001b[0m \u001b[43mmath\u001b[49m\u001b[38;5;241;43m.\u001b[39;49m\u001b[43msqrt\u001b[49m\u001b[43m(\u001b[49m\u001b[38;5;241;43m-\u001b[39;49m\u001b[38;5;241;43m1\u001b[39;49m\u001b[43m)\u001b[49m\n",
      "\u001b[1;31mValueError\u001b[0m: math domain error"
     ]
    }
   ],
   "source": [
    "import math\n",
    "\n",
    "math.sqrt(-1)"
   ]
  },
  {
   "cell_type": "markdown",
   "metadata": {},
   "source": [
    "TODO"
   ]
  },
  {
   "cell_type": "code",
   "execution_count": 24,
   "metadata": {},
   "outputs": [
    {
     "data": {
      "text/plain": [
       "1j"
      ]
     },
     "execution_count": 24,
     "metadata": {},
     "output_type": "execute_result"
    }
   ],
   "source": [
    "import cmath\n",
    "\n",
    "cmath.sqrt(-1)"
   ]
  }
 ],
 "metadata": {
  "kernelspec": {
   "display_name": "Python 3",
   "language": "python",
   "name": "python3"
  },
  "language_info": {
   "codemirror_mode": {
    "name": "ipython",
    "version": 3
   },
   "file_extension": ".py",
   "mimetype": "text/x-python",
   "name": "python",
   "nbconvert_exporter": "python",
   "pygments_lexer": "ipython3",
   "version": "3.12.2"
  }
 },
 "nbformat": 4,
 "nbformat_minor": 2
}
