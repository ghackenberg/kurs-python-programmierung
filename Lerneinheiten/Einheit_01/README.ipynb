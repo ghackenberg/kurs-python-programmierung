{
 "cells": [
  {
   "cell_type": "markdown",
   "metadata": {},
   "source": [
    "# 2. Grundlegende Syntax\n",
    "\n",
    "Nun erarbeiten wir uns Schritt für Schritt die **Bausteine, aus denen sich Quelltext von Python-Programmen zusammensetzt**. Die *in dieser Lerneinheit besprochenen Bausteine* sind:\n",
    "\n",
    "- Kommentare\n",
    "- Literale\n",
    "- Operatoren\n",
    "- Variablen\n",
    "- Funktionsaufrufe\n",
    "- Methodenaufrufe\n",
    "- Importe"
   ]
  },
  {
   "cell_type": "markdown",
   "metadata": {},
   "source": [
    "## 2.1. Kommentare\n",
    "\n",
    "Quelltext kann schnell sehr *umfassend und schwierig zu lesen* werden. Kommentare können dabei helfen, die **Lesbarkeit und Verständlichkeit des Quelltextes** zu verbessern. Insbesondere bei *größeren Softwareprojekten mit mehreren Programmieren* sind Kommentare sehr hilfreich.  Sie sollen dabei helfen, die *Zeit für die Einarbeitung in den Quelltext zu reduzieren*. Eine schnellere Einarbeitung *spart wiederum Kosten für das Onboarding* neuer Entwickler. Außerdem kann dadurch die *Kosten für Fehlerbehebung und Funktionserweiterung* gesenkt werden.\n",
    "\n",
    "In Python starten Kommentare mit dem Gattersymbol (d.h. ``# ...``)."
   ]
  },
  {
   "cell_type": "code",
   "execution_count": null,
   "metadata": {},
   "outputs": [],
   "source": [
    "# Hier ist ein Kommentar!\n",
    "\n",
    "print(\"Hallo Welt\")"
   ]
  },
  {
   "cell_type": "markdown",
   "metadata": {},
   "source": [
    "Wie im obigen Beispiel gezeigt kann man eine *ganze Zeile des Quelltextes als Kommentar* auszeichnen. Es ist jedoch auch möglich, nur einen **Teil einer Zeile des Quelltextes zu einem Kommentar** zu machen. Tatsächlich beginnt der Kommentar immer ab dem *ersten Gatterzeichen in einer Zeile*. Der Text vor dem ersten Gatterzeichen wird als *regulärer Quelltext interpretiert*.\n",
    "\n",
    "Hier ist ein Python Programm, bei dem der Kommentar erst in der Mitte der Zeile beginnt."
   ]
  },
  {
   "cell_type": "code",
   "execution_count": null,
   "metadata": {},
   "outputs": [],
   "source": [
    "print(\"Hallo Welt\") # Hier ist ein Kommentar!"
   ]
  },
  {
   "cell_type": "markdown",
   "metadata": {},
   "source": [
    "## 2.2. Literale\n",
    "\n",
    "Wie bereits zuvor erwähnt verarbeiten Computerprogramme Eingaben des Nutzers und erzeugen Ausgaben. Sowohl Eingaben als auch Ausgaben sind Daten, die das Computerprogramm *in seinem Speicher verwaltet*. Neben den änderbaren Eingaben des Nutzers kann ein Computerprogramm auch **konstante Daten** beinhalten. Eine Konstante kann beispielsweise das *Mindestalter einer Person* (z.B. 18 Jahre alt) sein. Konstante Daten werden in Programmen über **sogenannte Literale** definiert.\n",
    "\n",
    "Die folgende Grafik gibt eine Übersicht über unterschiedliche Arten von Literalen. Beachte, dass die Übersicht der Literale nicht vollständig ist. Im Laufe des Kurses werden wir weitere Literale kennenlernen. Hier sollen nur ein paar grundlegende Literale eingeführt werden, um das Konzept der Literale zu erklären.\n",
    "\n",
    "![](../../Grafiken/Mermaid/Literale/Allgemein.png)\n",
    "\n",
    "Im Folgenden schauen wir uns die genannten Literale genauer an."
   ]
  },
  {
   "cell_type": "markdown",
   "metadata": {},
   "source": [
    "### 2.2.1. Literale für **Wahrheitswerte**\n",
    "\n",
    "Im ersten Kapitel haben wir bereits die Wahrheitswerte *Wahr* und *Falsch* gesprochen. Wie bereits diskutiert, werden die beiden Wahrheitswerte über unterschiedliche Bitmuster repräsentiert. Der Wahrheitswert *Falsch* wird über das Bitmuster repräsentiert, bei dem alle Bits den Wert Null haben. Der Wahrheitswert *Wahr* wird hingegen über ein Bitmuster repräsentiert, bei dem mindestens ein Bit nicht den Wert Null hat. In Python-Programmen müssen die Bitmuster nicht direkt angegeben werden, sondern können über entsprechende Literale referenziert werden."
   ]
  },
  {
   "cell_type": "markdown",
   "metadata": {},
   "source": [
    "#### 2.2.1.1. Wahrheitswert *Falsch*\n",
    "\n",
    "Der Wahrheitswert *Falsch* wird über das Literal ``False`` dargestellt. Beachte, dass der Python-Interpreter dieses Literal bei der Ausführung eines Python-Programms automatisch in das entsprechende Bitmuster übersetzt."
   ]
  },
  {
   "cell_type": "code",
   "execution_count": null,
   "metadata": {},
   "outputs": [],
   "source": [
    "False # Literal des Wahrheitswertes \"Falsch\""
   ]
  },
  {
   "cell_type": "markdown",
   "metadata": {},
   "source": [
    "2.2.1.2. Wahrheitswert *Wahr*\n",
    "\n",
    "Der Wahrheitswert *Wahr* wird hingegen über das Literal `True` dargestellt. Der Python-Interpreter übersetzt dieses Literal wieder voll automatisch in eines der vielen möglichen Bitmuster (siehe voriges Kapitel)."
   ]
  },
  {
   "cell_type": "code",
   "execution_count": null,
   "metadata": {},
   "outputs": [],
   "source": [
    "True # Literal des Wahrheitswertes \"Wahr\""
   ]
  },
  {
   "cell_type": "markdown",
   "metadata": {},
   "source": [
    "### 2.2.2. Literale für **Zahlen**\n",
    "\n",
    "Neben einfachen Wahrheitswerten wollen und müssen Computerprogramme in der Regel auch *Zahlen* verarbeiten. Dabei unterscheiden Computerprogramme grundsätzlich zwischen *Ganzzahlen* und *Bruchzahlen* (siehe voriges Kapitel). Für beide Arten von Zahlen gibt es Literale, die sich in ihrer Syntax etwas unterschieden. Zusätzlich unterstützt Python auch komplexe Zahlen, wie wir gleich sehen werden."
   ]
  },
  {
   "cell_type": "markdown",
   "metadata": {},
   "source": [
    "#### 2.2.2.1. Ganze Zahlen\n",
    "\n",
    "Der folgende Quelltext zeigt die Definition einer Ganzzahl als numerisches Literal. Ganzzahlen ergeben sich somit durch eine **unterbrechungsfreie Reihe von Ziffern** (d.h. ``0`` bis ``9``). Unterbrechungsfrei heißt in diesem Zusammenhang, dass z.B. auch keine Leerzeichen zwischen den Ziffern enthalten sein dürfen. Anderfalls gibt der Python-Interpreter wahrscheinlich einen Syntaxfehler aus."
   ]
  },
  {
   "cell_type": "code",
   "execution_count": null,
   "metadata": {},
   "outputs": [],
   "source": [
    "154 # Literal einer ganzen TZahl"
   ]
  },
  {
   "cell_type": "markdown",
   "metadata": {},
   "source": [
    "#### 2.2.2.2. Reelle Zahlen\n",
    "\n",
    "Numerische Literale für Bruchzahlen enthalten hingegen an einer beliebigen Stelle das **Punktsymbol als Dezimaltrenner**. Beachte, dass sich hier die *amerikanische Schreibweise* von Bruchzahlen gegenüber der deutschen Schreibweise durchgesetzt hat. Vor und nach dem Dezimaltrenner dürfen wiederum nur *unterbrechungsfreihe Reihen von Ziffern* sein (siehe Ganzzahlen). Beachte des weiteren, dass Programmiersprachen in der Regel **kein** gesondertes Symbol für den Tausendertrenner anbieten."
   ]
  },
  {
   "cell_type": "code",
   "execution_count": null,
   "metadata": {},
   "outputs": [],
   "source": [
    "234.456 # Literal einer reellen Zahl"
   ]
  },
  {
   "cell_type": "markdown",
   "metadata": {},
   "source": [
    "#### 2.2.2.3. Imaginäre Zahlen\n",
    "\n",
    "Schließlich bietet Python auch die Möglichkeit, den **Imaginärteil von komplexen Zahlen** darzustellen. Komplexe Zahlen ergeben sich beispielsweise, wenn die Wurzel einer negativen Zahl (z.B. -2) berechnet wird. Wie in der Mathematik setzen sich in Python komplexe Zahlen aus einem reellen und einem imaginären Teil zusammen. Der folgende Quelltext zeigt, wie man in der Programmiersprache Python den Imaginärteil einer komplexen Zahl formuliert. Der eigentlichen Zahl wird einfach das Symbol `j` nachgestellt."
   ]
  },
  {
   "cell_type": "code",
   "execution_count": null,
   "metadata": {},
   "outputs": [],
   "source": [
    "7.21j # Literal einer imaginären Zahl"
   ]
  },
  {
   "cell_type": "markdown",
   "metadata": {},
   "source": [
    "### 2.2.3. Literale für **Zeichenketten**\n",
    "\n",
    "Schließlich sollen Computerprogramme auch **konstante Zeichenketten** beinhalten. Tatsächlich beinhaltet bereits das einfache *Hallo Welt Programm* eine konstante Zeichenkette, nämlich ``\"Hallo Welt\"``. Der folgende Quelltext zeigt, wie man *Zeichenketten Literale* in der Programmiersprache Python definiert. Tatsächlich gibt es noch *weitere Formen der Zeichenketten Literale*, die wir später kennen lernen werden."
   ]
  },
  {
   "cell_type": "code",
   "execution_count": null,
   "metadata": {},
   "outputs": [],
   "source": [
    "\"Eine Zeichenkette\" # Literal einer Zeichenkette"
   ]
  },
  {
   "cell_type": "markdown",
   "metadata": {},
   "source": [
    "## 2.3. Operatoren\n",
    "\n",
    "Nachdem wir zumindest schon Daten repräsentieren können, möchten wir die **Daten auch in Berechnungen verwenden**. Die Grundlage für Berechnungen bieten die *sogenannten Operatoren* einer Programmiersprache. Die folgende Grafik gibt eine Übersicht über die Operatoren, die in dieser ersten Einheiten verwendet werden. Beachte, dass die Programmiersprache Python eine Vielzahl weiterer Operatoren unterstützt. Im Laufe des Kurses werden wir diese noch kennenlernen. Hier konzentrieren wir uns zunächst auf wenige Operatoren, um ein Grundverständnis für das Konzept von Operatoren in Programmiersprachen zu vermitteln.\n",
    "\n",
    "![](../../Grafiken/Mermaid/Operatoren/Allgemein.png)\n",
    "\n",
    "Im Folgenden führen wir die Schreibweise der ausgewählten Operatoren und deren Funktion ein."
   ]
  },
  {
   "cell_type": "markdown",
   "metadata": {},
   "source": [
    "### 2.3.1. Operatoren für **Wahrheitswerte**\n",
    "\n",
    "In diesem zweiten Kapitel betrachen wir die beiden boolschen Operatoren `not` und `and`. Im Folgenden erklären wir zunächst die Funktionsweise des Operators `not`, bevor wir auf die Funktionsweise des Operators `and` eingehen."
   ]
  },
  {
   "cell_type": "markdown",
   "metadata": {},
   "source": [
    "#### 2.3.1.1. Operator `not`\n",
    "\n",
    "Der Operator `not` kann verwendet werden, um einen boolschen Wahrheitswert zu negieren. Negieren heißt in diesem Zusammenhang, dass aus dem Wahrheitswert *Wahr* der Wahrheitswert *Falsch* wird und umgekehrt. Die folgenden beiden Quelltexte zeigen, wie man den Operator `not` auf das Literal `True` und auf das Literal `False` anwendet."
   ]
  },
  {
   "cell_type": "code",
   "execution_count": null,
   "metadata": {},
   "outputs": [],
   "source": [
    "not False # Negierung des Wahrheitswertes \"Falsch\" => \"Wahr\""
   ]
  },
  {
   "cell_type": "code",
   "execution_count": null,
   "metadata": {},
   "outputs": [],
   "source": [
    "not True # Negierung des Wahrheitswertes \"Wahr\" => \"Falsch\""
   ]
  },
  {
   "cell_type": "markdown",
   "metadata": {},
   "source": [
    "Der Operator `not` kann auch mehrfach auf einen Wahrheitswert angewendet werden. Wenn man den Operator zum Beispiel zweimal auf denselben Wahrheitswert anwendet, kommt wieder der ursprüngliche Wahrheitswert heraus. Das heißt, aus dem Wahrheitswert *Wahr* wird wieder der Wahrheitswert *Wahr*, und aus dem Wahrheitswert *Falsch* wird der Wahrheitswert *Falsch*."
   ]
  },
  {
   "cell_type": "code",
   "execution_count": null,
   "metadata": {},
   "outputs": [],
   "source": [
    "not not False # Doppelte Negierung des Wahrheitswerts \"Falsch\" => \"Falsch\""
   ]
  },
  {
   "cell_type": "code",
   "execution_count": null,
   "metadata": {},
   "outputs": [],
   "source": [
    "not not True # Doppelte Negierung des Wahrheitswerts \"Wahr\" => \"Wahr\""
   ]
  },
  {
   "cell_type": "markdown",
   "metadata": {},
   "source": [
    "Die dreifache Negierung eines Wahrheitswertes entspricht somit wieder der einfachen Negierung eines Wahrheitswertes, wie bereits weiter oben beschrieben. Die vierfache Negierung entspricht hingegen der zweifachen Negierung und so weiter."
   ]
  },
  {
   "cell_type": "markdown",
   "metadata": {},
   "source": [
    "#### 2.3.1.2. Operator `and`\n",
    "\n",
    "Der Operator `and` kann hingegen verwendet werden, um die logische Und-Verknüpfung zweier Wahrheitswerte zu berechnen. Die logische Und-Verknüpfung zweier Wahrheitswerte liefert wiederum einen Wahrheitswert. Dieser gelieferte Wahrheitswert hat nur den Wert *Wahr*, wenn beide ursprünglichen Wahrheitswerte ebenfalls den Wert *Wahr* gehabt haben. Andernfalls wird der Wahrheitswert *Falsch* zurückgeliefert. Diese Zusammenhänge sind in den folgenden vier Quelltextblöcken noch einmal anhand der Verknüpfung der boolschen Literale `True` und `False` illustriert."
   ]
  },
  {
   "cell_type": "code",
   "execution_count": null,
   "metadata": {},
   "outputs": [],
   "source": [
    "False and False # Beide Werte nicht wahr => falsch"
   ]
  },
  {
   "cell_type": "code",
   "execution_count": null,
   "metadata": {},
   "outputs": [],
   "source": [
    "True and False # Zweiter Wert nicht wahr => falsch"
   ]
  },
  {
   "cell_type": "code",
   "execution_count": null,
   "metadata": {},
   "outputs": [],
   "source": [
    "False and True # Erster Wert nicht wahr => falsch"
   ]
  },
  {
   "cell_type": "code",
   "execution_count": null,
   "metadata": {},
   "outputs": [],
   "source": [
    "True and True # Beide Werte wahr => wahr"
   ]
  },
  {
   "cell_type": "markdown",
   "metadata": {},
   "source": [
    "### 2.3.2. Operatoren für **Zahlen**\n",
    "\n",
    "Nun betrachten wir Operatoren für Zahlen. In diesem zweiten Kapitel konzentrieren wir uns zunächst auf den Operator `+` für die Berechnung von Summen, bevor auf den Operator `*` für die Berechnung von Produkten eingehen. Für beide Operatoren betrachten wir insbesondere auch das Zusammenspiel der unterschiedlichen Zahlenarten (d.h. ganze, reelle und imaginäre Zahlen)."
   ]
  },
  {
   "cell_type": "markdown",
   "metadata": {},
   "source": [
    "#### 2.3.2.1. Operator `+`\n",
    "\n",
    "Der Operator `+` berechnet die Summe zweier Zahlen, egal ob die Zahlen ganz, reell, oder imaginär sind. Im folgenden betrachten wir zunächst den Fall, **dass die beiden Zahlen ganz oder reell sind**. Wenn beide Zahlen ganz sind, ist das Ergebnis des Operators wieder eine ganze Zahl. Ansonsten ist das Ergebnis des Operators eine reelle Zahl."
   ]
  },
  {
   "cell_type": "code",
   "execution_count": null,
   "metadata": {},
   "outputs": [],
   "source": [
    "5 + 7 # Summe zweier ganzen Zahlen => ganze Zahl"
   ]
  },
  {
   "cell_type": "code",
   "execution_count": null,
   "metadata": {},
   "outputs": [],
   "source": [
    "3.45 + 5 # Summe einer reellen und einer ganzen Zahl => reelle Zahl"
   ]
  },
  {
   "cell_type": "code",
   "execution_count": null,
   "metadata": {},
   "outputs": [],
   "source": [
    "3.67 + 2.65 # Summe zweier reeller Zahlen => reelle Zahl"
   ]
  },
  {
   "cell_type": "markdown",
   "metadata": {},
   "source": [
    "Nun betrachten wir den Fall, **dass mindestens eine der beiden Zahlen eine imaginäre Zahl ist**. Wenn nur eine der beiden Zahlen eine imaginäre Zahl ist, ist das Ergebnis des Operators eine komplexe Zahl. Wenn hingegen beide Zahlen imagär sind, ist das Ergebnis des Operators wieder eine imaginäre Zahl."
   ]
  },
  {
   "cell_type": "code",
   "execution_count": null,
   "metadata": {},
   "outputs": [],
   "source": [
    "5 + 3j # Summe einer ganzen und einer imaginären Zahl => komplexe Zahl"
   ]
  },
  {
   "cell_type": "code",
   "execution_count": null,
   "metadata": {},
   "outputs": [],
   "source": [
    "34.45 + 2j # Summe einer reellen und einer imaginären Zahl => komplexe Zahl"
   ]
  },
  {
   "cell_type": "code",
   "execution_count": null,
   "metadata": {},
   "outputs": [],
   "source": [
    "54j + 2.6j # Summe zweier imaginärer Zahlen => imaginäre Zahl"
   ]
  },
  {
   "cell_type": "markdown",
   "metadata": {},
   "source": [
    "#### 2.3.2.2. Operator `*`\n",
    "\n",
    "Der Operator `*` kann hingegen verwendet werden, um das Produkt zweier Zahlen zu berechnen. Dabei kann man wieder ganze Zahlen, reelle Zahlen, oder imaginäre Zahlen mischen. Im Folgenden betrachten wir zunächst die Fälle, **bei denen nur ganze und reelle Zahlen zum Einsatz kommen**. In diesen Fällen ist das Ergebnis des Operators wieder eine ganze oder eine reelle Zahl."
   ]
  },
  {
   "cell_type": "code",
   "execution_count": null,
   "metadata": {},
   "outputs": [],
   "source": [
    "5 * 7 # Produkt zweier ganzen Zahlen => ganze Zahl"
   ]
  },
  {
   "cell_type": "code",
   "execution_count": null,
   "metadata": {},
   "outputs": [],
   "source": [
    "3.5 * 5 # Produkt einer reellen und einer ganzen Zahl => reelle Zahl"
   ]
  },
  {
   "cell_type": "code",
   "execution_count": null,
   "metadata": {},
   "outputs": [],
   "source": [
    "3.56 * 3.56 # Produkt zweier reellen Zahlen => reelle Zahl"
   ]
  },
  {
   "cell_type": "markdown",
   "metadata": {},
   "source": [
    "Wie bereits zuvor erwähnt, kann der Operator `*` auch **mit imaginären Zahlen umgehen**. Dabei kann entweder nur einer oder beide der Operanden eine imaginäre Zahl sein. Wenn nur einer der beiden Operanden eine imaginäre Zahl ist, kann die andere Zahl sowohl eine ganze Zahl als auch eine reelle Zahl sein. Das Ergebnis des Operators ist wieder eine imaginäre oder eine komplexe Zahl."
   ]
  },
  {
   "cell_type": "code",
   "execution_count": null,
   "metadata": {},
   "outputs": [],
   "source": [
    "5 * 3j # Produkt einer ganzen und einer imaginären Zahl => imaginäre Zahl"
   ]
  },
  {
   "cell_type": "code",
   "execution_count": null,
   "metadata": {},
   "outputs": [],
   "source": [
    "4.5 * 3.3j # Produkt einer reellen und einer imaginären Zahl => imaginäre Zahl"
   ]
  },
  {
   "cell_type": "code",
   "execution_count": null,
   "metadata": {},
   "outputs": [],
   "source": [
    "1.5j * 2j # Produkt zweier imaginärer Zahlen => komplexe Zahl mit Imaginärteil Null"
   ]
  },
  {
   "cell_type": "markdown",
   "metadata": {},
   "source": [
    "### 2.3.3. Operatoren für **Zeichenketten**\n",
    "\n",
    "Schließlich schauen wir uns hier noch Operatoren für Zeichenketten an. Python bietet auch für Zeichenketten mehrere unterschiedliche Operatoren mit unterschiedlichen Funktionsweisen. In diesem zweiten Kapitel betrachten wir zunächst den Operartor `+` und den Operator `f`."
   ]
  },
  {
   "cell_type": "markdown",
   "metadata": {},
   "source": [
    "#### 2.3.3.1. Operator `+`\n",
    "\n",
    "Der Operator `+` kann im Kontext von Zeichenketten dafür verwendet werden, zwei Zeichenketten zu verbinden. Dabei wird die zweite Zeichenkette einfach an des Ende der ersten Zeichenkette angehängt. Das Ergebnis des Operators ist diese verbundene Zeichenkette. Der folgende Quelltext zeigt ein einfaches Beispiel dieser Verbindung mit zwei Literalen für Zeichenketten."
   ]
  },
  {
   "cell_type": "code",
   "execution_count": null,
   "metadata": {},
   "outputs": [],
   "source": [
    "\"Zeichenkette 1\" + \"Zeichenkette 2\""
   ]
  },
  {
   "cell_type": "markdown",
   "metadata": {},
   "source": [
    "Wenn eine der beiden Operanden eine Zeichenkette ist, muss der andere Operand ebenfalls eine Zeichenkette sein. Falls der andere Operand z.B. ein boolscher Wahrheitswert oder eine Zahl ist, gibt Python einen Fehler aus und beendet die Ausführung des Programms an genau dieser Stelle. Die folgenden beiden Quelltexte zeigen dieses Verhalten."
   ]
  },
  {
   "cell_type": "code",
   "execution_count": null,
   "metadata": {},
   "outputs": [],
   "source": [
    "\"Zeichenkette\" + True"
   ]
  },
  {
   "cell_type": "code",
   "execution_count": null,
   "metadata": {},
   "outputs": [],
   "source": [
    "\"Zeichenkette\" + 1.5"
   ]
  },
  {
   "cell_type": "markdown",
   "metadata": {},
   "source": [
    "Wenn man trotzdem einen Wahrheitswert oder eine Zahl in einer Zeichenkette nutzen möchte, muss man diese erst in eine Zeichenkette umwandeln. Python bietet für die Umwandlung die Funktion `str` an (mehr zu Funktionen später). Im folgenden ist die Funktion `str` auf das Literal `True` und auf das Literal `1.5` angewendet. Beachte, dass sich die Darstellung von Wahrheitswerten und Zahlen grundlegend von der Darstellung von Zeichenketten unterscheidet. Ein Wahrheitswert kann z.B. über ein einziges Byte dargestellt werden, während die zugehörige Zeichenkette aus mehreren Zeichen und dem Nullwert bestehen."
   ]
  },
  {
   "cell_type": "code",
   "execution_count": null,
   "metadata": {},
   "outputs": [],
   "source": [
    "\"Zeichenkette\" + str(True)"
   ]
  },
  {
   "cell_type": "code",
   "execution_count": null,
   "metadata": {},
   "outputs": [],
   "source": [
    "\"Zeichenkette\" + str(1.5)"
   ]
  },
  {
   "cell_type": "markdown",
   "metadata": {},
   "source": [
    "#### 2.3.3.2. Operator `f`\n",
    "\n",
    "Seit einiger Zeit bietet Python auch den Operator `f` an, um komplexere Zeichenketten zu berechnen. Der Operator `f` ist ein sogenannter Präfixoperator, weil er der Zeichenkette vorangestellt wird. Innerhalb der Zeichenkette kann man dann mit geschweiften Klammern einen Teil markieren, der eine Berechnung enthält. Python führt diese Berechnung aus, wandelt das Ergebnis der Berechnung in eine Zeichenkette um, und setzt diese Zeichenkette an der entsprechenden Stelle ein. Im Folgenden sind drei Beispiele, bei denen der Inhalt der geschweiften Klammer einfache Literale sind."
   ]
  },
  {
   "cell_type": "code",
   "execution_count": null,
   "metadata": {},
   "outputs": [],
   "source": [
    "f\"Zeichenkette{True}\""
   ]
  },
  {
   "cell_type": "code",
   "execution_count": null,
   "metadata": {},
   "outputs": [],
   "source": [
    "f\"Zeichenkette{1.5}\""
   ]
  },
  {
   "cell_type": "code",
   "execution_count": null,
   "metadata": {},
   "outputs": [],
   "source": [
    "f\"Zeichenkette{\"Zeichenkette\"}\""
   ]
  },
  {
   "cell_type": "markdown",
   "metadata": {},
   "source": [
    "Der Inhalt der geschweiften Klammern kann jedoch auch eine Berechnung sein, die neben Wahrheitswerten, Zahlen und Zeichenketten auch Operatoren beinhaltet. Grundsätzlich kann der Inhalt der geschweiften Klammern ein beliebiger ausführbarer Ausdruck der Programmiersprache Python sein. Im Folgenden zeigen wir drei Beispiele, bei denen wir den Operator `not` für boolsche Wahrheitswerte, den Operator `*` für numerische Zahlenwerte, und den Operator `+` für Zeichenketten verwenden."
   ]
  },
  {
   "cell_type": "code",
   "execution_count": null,
   "metadata": {},
   "outputs": [],
   "source": [
    "f\"Zeichenkette{not True}\""
   ]
  },
  {
   "cell_type": "code",
   "execution_count": null,
   "metadata": {},
   "outputs": [],
   "source": [
    "f\"Zeichenkette{1.5 * 2.7}\""
   ]
  },
  {
   "cell_type": "code",
   "execution_count": null,
   "metadata": {},
   "outputs": [],
   "source": [
    "f\"Zeichenkette{\"Zeichenkette\" + \"Zeichenkette\"}\""
   ]
  },
  {
   "cell_type": "markdown",
   "metadata": {},
   "source": [
    "Schließlich kann man den Operator `f` auch beliebig tief schachteln. Schachteln heißt in diesem Zusammenhang, dass der Inhalt der geschweiften Klammer weider den Operator `f` enthält. Im Folgenden zeigen wir die einfache, zweifache, und dreifache Schachtelung des Operators `f`. Python startet bei der Auswertung mit der innersten geschweiften Klammer und arbeitet sich sukzessive nach außen vor. Das heißt, dass erst die innerste Zeichenkette berechnet wird. Diese Zeichenkette fließt wiederum in die Berechnung der Zeichenkette auf der nächsthöheren Ebene ein, und so weiter."
   ]
  },
  {
   "cell_type": "code",
   "execution_count": null,
   "metadata": {},
   "outputs": [],
   "source": [
    "f\"Zeichenkette{f\"Zeichenkette{True}\"}\""
   ]
  },
  {
   "cell_type": "code",
   "execution_count": null,
   "metadata": {},
   "outputs": [],
   "source": [
    "f\"Zeichenkette{f\"Zeichenkette{f\"Zeichenkette{not True}\"}\"}\""
   ]
  },
  {
   "cell_type": "code",
   "execution_count": null,
   "metadata": {},
   "outputs": [],
   "source": [
    "f\"Zeichenkette{f\"Zeichenkette{f\"Zeichenkette{f\"Zeichenkette{1.5 + 2.7}\"}\"}\"}\""
   ]
  },
  {
   "cell_type": "markdown",
   "metadata": {},
   "source": [
    "## 2.4. Variablen\n",
    "\n",
    "Literale und Operatoren ermöglichen uns nun schon, interessante Berechnungen mit der Programmiersprache Python durchzuführen. Was wir jedoch noch nicht können, ist die Zwischenspeicherung der Berechnugsergebnisse. Die Zwischenspeicherung ist aber in komplexeren Rechnungen durchaus sinnvoll und notwendig. Python bietet zur **Zwischenspeicherung von Berechnungsergebnissen** des Konzept von Variablen an. Variablen haben grundsätzlich einen Namen (bestehen aus einer zusammenhängenden Kette von alphanumerischen Symbolen) und einen Wert. Der Wert einer Variable kann durch den sogenannten **Zuweisungsoperator** `=` gesetzt und überschrieben werden. Nachdem eine Variable definiert wurde, kann sie anstelle von Literalen in Berechnungen verwendet werden. Das folgende Beispiel zeigt die Definition der Variable `a` mit einem boolschen Wahrheitswert sowie die Nutzung der Variable in einer Berechnung mit dem Operator `not`."
   ]
  },
  {
   "cell_type": "code",
   "execution_count": null,
   "metadata": {},
   "outputs": [],
   "source": [
    "a = True # Definition der Variable mit dem Zuweisungsoperator\n",
    "\n",
    "not a # Nutzung der Variable in einer Berechnung mit dem Operator NOT"
   ]
  },
  {
   "cell_type": "markdown",
   "metadata": {},
   "source": [
    "Das vorige Beispiel zeigt die Nutzung von Variablen einer Berechnung mit dem unären Operator `not`. *Unär* heißt in diesem Zusammenhang, dass der Operator `not` nur einen Operanden hat, der in diesem Fall die Variable `a` war. Im Folgenden zeigen wir die Verwendung von Variablen in Berechnungen mit binären Operatoren. *Binäre* Operatoren sind Operatoren, die genau zwei Operanden haben. Zu den binären Operatoren zählen beispielsweise der Operator `and` für boolsche Wahrheitswerte, der Operator `*` für Zahlen, und der Operator `+` für Zeichenketten. Wir betrachten dabei zunächst nur den Fall, dass **einer der beiden Operanden** eine Variable ist und der andere Operand ein Literal ist."
   ]
  },
  {
   "cell_type": "code",
   "execution_count": null,
   "metadata": {},
   "outputs": [],
   "source": [
    "a = True # Variable mit boolschem Wahrheitswert\n",
    "\n",
    "a and False # Nutzung der Variable in Berechnung mit Operator AND"
   ]
  },
  {
   "cell_type": "code",
   "execution_count": null,
   "metadata": {},
   "outputs": [],
   "source": [
    "a = 1 # Variable mit numerischem Zahlenwert\n",
    "\n",
    "a * 2.5 # Nutzung der Variable in Berechnung mit Operator MAL"
   ]
  },
  {
   "cell_type": "code",
   "execution_count": null,
   "metadata": {},
   "outputs": [],
   "source": [
    "a = \"Zeichenkette 1\" # Variable mit Zeichenkettenwert\n",
    "\n",
    "a + \"Zeichenkette 2\" # Nutzung der Variable in Berechnung mit Operator PLUS"
   ]
  },
  {
   "cell_type": "markdown",
   "metadata": {},
   "source": [
    "Es können jedoch auch **beide Operanden** eines binären Operators auf eine Variable verweisen. Im Folgenden betrachten wir wieder den binären boolschen Operator `and` sowie den numerischen Operator `*` und den Zeichenkettenoperator `+`. In allen Fällen werden zunächst zwei Variablen `a` und `b` definiert bzw. initialisiert, bevor die beiden Variablen in einer Berechnung mit einem binären Operator verwendet werden."
   ]
  },
  {
   "cell_type": "code",
   "execution_count": null,
   "metadata": {},
   "outputs": [],
   "source": [
    "a = True # Erste Variable mit boolschen Wahrheitswert\n",
    "b = False # Zweite Variable mit boolschen Wahrheitswert\n",
    "\n",
    "a and b # Nutzung der beiden Variablen in Berechnung mit dem Operator AND"
   ]
  },
  {
   "cell_type": "code",
   "execution_count": null,
   "metadata": {},
   "outputs": [],
   "source": [
    "a = 2 # Erste Variable mit numerischem Zahlenwert\n",
    "b = 5 # Zweite Variable mit numerischem Zahlenwert\n",
    "\n",
    "a * b # Nutzung der beiden Variablen in Berechnung mit dem Operator MAL"
   ]
  },
  {
   "cell_type": "code",
   "execution_count": null,
   "metadata": {},
   "outputs": [],
   "source": [
    "a = \"Zeichenkette 1\" # Erste Variable mit Zeichenkettenwert\n",
    "b = \"Zeichenkette 2\" # Zweite Variable mit Zeichenkettenwert\n",
    "\n",
    "a + b # Nutzung der beiden Variablen in Berechnung mit dem Operator PLUS"
   ]
  },
  {
   "cell_type": "markdown",
   "metadata": {},
   "source": [
    "## 2.5. Funktionsaufrufe\n",
    "\n",
    "Operatoren bieten bereits die Möglichkeit, grundlegende Rechenoperationen mit der Programmiersprache Python durchzuführen. Für komplexere Aufgaben bietet Python das **Konzept von Funktionen** an. Im vorigen Teil haben wir bereits die Funktionen `print` und `str` kurz kennengelernt. Die folgende Grafik gibt eine Übersicht über weitere wichtige Funktionen, die Python standardmäßig anbietet. Beachte, dass Python viele weitere Funktion im Standard enthält, die in diesem zweiten Kapitel noch nicht thematisiert werden. Hier geht es zunächst nur um eine grundlegende Einführung des Konzeptes von Funktionen und deren Verwendung. Des Weiteren können Programmierer eingene Funktioen definieren. Wie das geht, lernen wir auch noch später.\n",
    "\n",
    "![](../../Grafiken/Mermaid/Funktionen/Allgemein.png)\n",
    "\n",
    "Im Folgenden beschrieben wir die in der Übersichtsgrafik genannten Funktionen etwas detaillierter."
   ]
  },
  {
   "cell_type": "markdown",
   "metadata": {},
   "source": [
    "### 2.5.1. Funktion `str`\n",
    "\n",
    "Wie bereits zuvor erwähnt, ermöglicht die Funktion `str` die Umwandlung von boolschen Wahrheitswerten und numerischen Zahlenwerten in entsprechende Zeichenketten. Beachte dabei, dass sich im Speicher die Darstellung von boolschen Wahrheitswerten und Zahlen wesentlich von der Darstellung von Zeichenketten unterscheidet (siehe voriges Kapitel). Die Funktion `str` übernimmt somit die Umrechnung zwischen diesen unterschiedlichen Darstellungen im Speicher."
   ]
  },
  {
   "cell_type": "code",
   "execution_count": null,
   "metadata": {},
   "outputs": [],
   "source": [
    "str(True)"
   ]
  },
  {
   "cell_type": "code",
   "execution_count": null,
   "metadata": {},
   "outputs": [],
   "source": [
    "str(1)"
   ]
  },
  {
   "cell_type": "code",
   "execution_count": null,
   "metadata": {},
   "outputs": [],
   "source": [
    "str(1.5)"
   ]
  },
  {
   "cell_type": "code",
   "execution_count": null,
   "metadata": {},
   "outputs": [],
   "source": [
    "str(1.5 + 3j)"
   ]
  },
  {
   "cell_type": "markdown",
   "metadata": {},
   "source": [
    "### 2.5.2. Funktion `type`\n",
    "\n",
    "Die Funktion `type` ermöglicht es, den **Datentyp eines Berechnungsergebnisses** zu bestimmen. Die Funktion hat als Übergabewert das Berechnungsergebnis. Der Rückgabewert der Funktion ist der Name des zugehörigen Datentypen als Zeichenkette. Im Folgenden wenden wir die Funktion auf Wahrheitswerte, Zahlenwerte, und Zeichenketten selbst an."
   ]
  },
  {
   "cell_type": "code",
   "execution_count": null,
   "metadata": {},
   "outputs": [],
   "source": [
    "type(True)"
   ]
  },
  {
   "cell_type": "code",
   "execution_count": null,
   "metadata": {},
   "outputs": [],
   "source": [
    "type(1)"
   ]
  },
  {
   "cell_type": "code",
   "execution_count": null,
   "metadata": {},
   "outputs": [],
   "source": [
    "type(1.5)"
   ]
  },
  {
   "cell_type": "code",
   "execution_count": null,
   "metadata": {},
   "outputs": [],
   "source": [
    "type(1.5 + 3j)"
   ]
  },
  {
   "cell_type": "code",
   "execution_count": null,
   "metadata": {},
   "outputs": [],
   "source": [
    "type(\"Zeichenkette\")"
   ]
  },
  {
   "cell_type": "markdown",
   "metadata": {},
   "source": [
    "In den vorigen Beispielen waren die Übergabewerte der Funktion einfache boolsche, numerische, und Zeichenkettenliterale. Beachte, dass der Übergabewert einer Funktion auch **eine Variable oder eine Berechnung** bestehend aus Operatoren, Literalen und Variablen sein kann."
   ]
  },
  {
   "cell_type": "code",
   "execution_count": null,
   "metadata": {},
   "outputs": [],
   "source": [
    "a = 1\n",
    "\n",
    "type(a)"
   ]
  },
  {
   "cell_type": "code",
   "execution_count": null,
   "metadata": {},
   "outputs": [],
   "source": [
    "a = 1.5\n",
    "\n",
    "type(a * 2)"
   ]
  },
  {
   "cell_type": "code",
   "execution_count": null,
   "metadata": {},
   "outputs": [],
   "source": [
    "a = 3j\n",
    "b = 5j\n",
    "\n",
    "type(a * b)"
   ]
  },
  {
   "cell_type": "markdown",
   "metadata": {},
   "source": [
    "Schließlich kann der Übergabewert eines Funktionsaufrufs auch der Rückgabewert eines anderen Funktionsaufrufes sein. Im folgenden Beispiel wird zunächst die Funktion `str` mit dem Übergabewert `1` aufgerufen. Dieser Funktionsaufruf erzeugt als Rückgabewert eine Zeichenkette. Dieser Rückgabewert wird wiederum als Übergabewert für die Funktion `type` verwendet."
   ]
  },
  {
   "cell_type": "code",
   "execution_count": 7,
   "metadata": {},
   "outputs": [
    {
     "data": {
      "text/plain": [
       "str"
      ]
     },
     "execution_count": 7,
     "metadata": {},
     "output_type": "execute_result"
    }
   ],
   "source": [
    "type(str(1))"
   ]
  },
  {
   "cell_type": "markdown",
   "metadata": {},
   "source": [
    "### 2.5.3. Funktion `print`\n",
    "\n",
    "TODO"
   ]
  },
  {
   "cell_type": "code",
   "execution_count": null,
   "metadata": {},
   "outputs": [],
   "source": [
    "print(True)\n",
    "print(1.25)\n",
    "print(\"Eine Zeichenkette\")"
   ]
  },
  {
   "cell_type": "markdown",
   "metadata": {},
   "source": [
    "### 2.5.4. Funktion `input`\n",
    "\n",
    "TODO"
   ]
  },
  {
   "cell_type": "code",
   "execution_count": null,
   "metadata": {},
   "outputs": [],
   "source": [
    "input(\"Wie heißt du?\")"
   ]
  },
  {
   "cell_type": "markdown",
   "metadata": {},
   "source": [
    "## 2.6. Methodenaufrufe\n",
    "\n",
    "TODO"
   ]
  },
  {
   "cell_type": "code",
   "execution_count": null,
   "metadata": {},
   "outputs": [],
   "source": [
    "f = open(\"Eingabe.txt\", \"r\")\n",
    "\n",
    "f.close()"
   ]
  },
  {
   "cell_type": "markdown",
   "metadata": {},
   "source": [
    "TODO"
   ]
  },
  {
   "cell_type": "code",
   "execution_count": null,
   "metadata": {},
   "outputs": [],
   "source": [
    "f = open(\"Eingabe.txt\", \"r\")\n",
    "\n",
    "f.read()"
   ]
  },
  {
   "cell_type": "markdown",
   "metadata": {},
   "source": [
    "TODO"
   ]
  },
  {
   "cell_type": "code",
   "execution_count": null,
   "metadata": {},
   "outputs": [],
   "source": [
    "f = open(\"Eingabe.txt\", \"r\")\n",
    "\n",
    "f.readline()"
   ]
  },
  {
   "cell_type": "markdown",
   "metadata": {},
   "source": []
  },
  {
   "cell_type": "markdown",
   "metadata": {},
   "source": [
    "TODO"
   ]
  },
  {
   "cell_type": "code",
   "execution_count": null,
   "metadata": {},
   "outputs": [],
   "source": [
    "f = open(\"Eingabe.txt\", \"r\")\n",
    "\n",
    "f.readlines()"
   ]
  },
  {
   "cell_type": "markdown",
   "metadata": {},
   "source": [
    "TODO"
   ]
  },
  {
   "cell_type": "code",
   "execution_count": null,
   "metadata": {},
   "outputs": [],
   "source": [
    "f = open(\"Ausgabe.txt\", \"w\")\n",
    "\n",
    "f.write(\"Erste generierte Zeile!\\n\")\n",
    "f.write(\"Zweite generierte Zeile!\\n\")\n",
    "f.write(\"Dritte generierte Zeile!\\n\")\n",
    "\n",
    "f.close()"
   ]
  },
  {
   "cell_type": "markdown",
   "metadata": {},
   "source": [
    "## 2.7. Importe\n",
    "\n",
    "TODO"
   ]
  },
  {
   "cell_type": "code",
   "execution_count": null,
   "metadata": {},
   "outputs": [],
   "source": [
    "import math\n",
    "\n",
    "math.pi"
   ]
  },
  {
   "cell_type": "markdown",
   "metadata": {},
   "source": [
    "TODO"
   ]
  },
  {
   "cell_type": "code",
   "execution_count": null,
   "metadata": {},
   "outputs": [],
   "source": [
    "import math\n",
    "\n",
    "math.sqrt(2)"
   ]
  },
  {
   "cell_type": "markdown",
   "metadata": {},
   "source": [
    "TODO"
   ]
  },
  {
   "cell_type": "code",
   "execution_count": null,
   "metadata": {},
   "outputs": [],
   "source": [
    "import math\n",
    "\n",
    "math.sqrt(-1)"
   ]
  },
  {
   "cell_type": "markdown",
   "metadata": {},
   "source": [
    "TODO"
   ]
  },
  {
   "cell_type": "code",
   "execution_count": null,
   "metadata": {},
   "outputs": [],
   "source": [
    "import cmath\n",
    "\n",
    "cmath.sqrt(-1)"
   ]
  }
 ],
 "metadata": {
  "kernelspec": {
   "display_name": "Python 3",
   "language": "python",
   "name": "python3"
  },
  "language_info": {
   "codemirror_mode": {
    "name": "ipython",
    "version": 3
   },
   "file_extension": ".py",
   "mimetype": "text/x-python",
   "name": "python",
   "nbconvert_exporter": "python",
   "pygments_lexer": "ipython3",
   "version": "3.12.2"
  }
 },
 "nbformat": 4,
 "nbformat_minor": 2
}
