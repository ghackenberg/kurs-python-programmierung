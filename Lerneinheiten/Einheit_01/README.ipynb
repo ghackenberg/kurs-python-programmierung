{
 "cells": [
  {
   "cell_type": "markdown",
   "metadata": {},
   "source": [
    "# 1. Hardware Grundlagen\n",
    "\n",
    "Im Folgenden klären wir zunächst **vier wichtige Begriffe** im Kontext von Programmierung und Softwareentwicklung:\n",
    "\n",
    "- Computer\n",
    "- Befehle\n",
    "- Daten\n",
    "- Programme"
   ]
  },
  {
   "cell_type": "markdown",
   "metadata": {},
   "source": [
    "## 1.1. Computer\n",
    "\n",
    "Computer, wie wir sie heute kennen, wurden Mitte des 20sten Jahrhunters entwickelt. Eines der ersten tragfähigen Konzepte für diese Klasse von Systemen war die sogenannte **Von-Neumann-Architektur** inklusive des dafür notwendigen **Von-Neumann-Zyklus**. Im Folgenden werden beide Begriffe genauer beschrieben."
   ]
  },
  {
   "cell_type": "markdown",
   "metadata": {},
   "source": [
    "### 1.1.1. Von-Neumann-Architektur\n",
    "\n",
    "Die folgende Grafik zeigt den Aufbau der sogenannten **Von-Neumann-Architektur**, die ursprünglich *John von Neumann* an der *Princeton University* im Bundesstaat New Jersey der Vereinigten Staaten von Amerika in den 1940er Jahren entwickelt hat. Die Architektur zeigt den internen Aufbau eines digitalen Rechners bestehend aus mehreren Komponenten und deren Schnittstellen.\n",
    "\n",
    "![](../../Grafiken/Mermaid/Computer/Architektur.png)\n",
    "\n",
    "Die Komponenten der klassischen Von-Neumann-Architektur übernehmen dabei grundsätzlich folgende Aufgaben:\n",
    "\n",
    "- **Zentrale Recheneinheit (CPU)** - Durchführung der Rechenoperationen und Datenaustausch mit den Geräten\n",
    "  - *Steuerwerk* - Steuerung der Arbeitsschritte (d.h. Berechnungen und Buskommunukation)\n",
    "  - *Rechenwerk* - Durchführung der eigentlichen Berechnungen (Addition, Multiplikation, ...)\n",
    "  - *Register* - Speicherung der Befehle und Daten für die Berechnungen sowie Rechenergebnisse\n",
    "- **Bussystem** - Ermöglichung der Kommunikation zwischen zentraler Recheneinheit (CPU) und den Geräten\n",
    "  - *Steuerbus* - Regelung des lesenden und schreibenden Zugriffs auf Daten sowie Übermittlung von Unterbrechungsanfragen von Geräten an die zentrale Recheneinheit\n",
    "  - *Adressbus* - Adressierung von Speicherzellen innerhalb der unterschiedlichen Geräte\n",
    "  - *Datenbus* - Übertragung der Speicherinhalte zwischen zentraler Recheneinheit und Geräten\n",
    "- **Geräte** - Unterschiedliche Aufgaben abhängig vom Gerätetyp (z.B. Speichermedien für Datenspeicherung)\n",
    "  - *Festwertspeicher* - Speicherung der Befehle für das Starten des Systems (inkl. Betriebssystem)\n",
    "  - *Hauptspeicher* - Speicherung von Programmen (d.h. Befehlen) und Daten im eigentlichen Systembetrieb\n",
    "  - *Festplatte* - Sichere Speicherung von Programmen und Daten auch nach Systemstop bzw. -absturz\n",
    "  - *Grafikkarte* - Generierung von Bildern und Übertragung an Monitore über definierte Schnittstelle\n",
    "  - *Netzwerkkarte* - Senden und Empfangen von Netzwerknachrichten über unterschiedliche Medien\n",
    "\n",
    "Beachte, dass es weitere Komponenten wie z.B. Maus und Tastatur oder Drucker gibt, die hier aus Platzgründen nicht aufgelistet sind. Jedoch unterscheidet sich deren Funktionsweise grundlegenden nicht von der Funktionsweise der anderen Geräte. Insbesondere die Kommunikation über das Bussystem läuft prinzipiell identisch ab."
   ]
  },
  {
   "cell_type": "markdown",
   "metadata": {},
   "source": [
    "### 1.1.2. Von-Neumann-Zyklus\n",
    "\n",
    "Die grundlegende **Arbeitsweise der zentralen Recheneinheit (CPU)** beschreibt der sogenannte *Von-Neumann-Zyklus*. Der Von-Neumann-Zyklus setzt sich, wie in nachstehender Grafik dargestellt, aus *fünf aufeinander folgenden Schritten* zusammen, die sich in ihrem Ablauf laufend Wiederholen, bis der Computer ausgeschaltet wird.\n",
    "\n",
    "![](../../Grafiken/Mermaid/Computer/Zyklus.png)\n",
    "\n",
    "Die Funktion der einzelnen Schritte ist wie folgt:\n",
    "\n",
    "1. **FETCH:** Befehl laut dem aktuellen Werte des Befehlszählerregisters aus dem Hauptspeicher holen und in das eigens dafür vorgesehene Befehlsregister schreiben.\n",
    "2. **DECODE:** Den auszuführenden Befehl dekodieren und abhängig vom Befehl die Verschaltung zwischen den Prozessorregistern und dem Rechenwerk anpassen.\n",
    "3. **FETCH OPERANDS:** Abhängig vom Befehl die dafür notwendigen Operanden aus dem Hauptspeicher holen und in weitere befehlsabhänigige Prozessorregister schreiben.\n",
    "4. **EXECUTE:** Befehl auf dem Rechenwerk ausführen (z.B. arithmetische Operationen wie Addition oder Multiplikation) und bei Sprungbefehlen Befehlszähler aktualisieren.\n",
    "5. **WRITE BACK:** Ergebnisse der Berechnung (z.B. Additionsergebnis) aus befehlsabhängigen Prozessorregistern an eine definierte Addresse im Hauptspeicher zurückschreiben.\n",
    "\n",
    "Nachdem die fünf Schritte des Zyklus abgearbeitet sind, beginnt der nächste Durchlauf des Zyklus. Standardmäßig wird mit jedem Befehl der Befehlszähler um den Wert 1 erhöht. Somit kommt es zu einer strikt sequenziellen Abarbeitung der Befehle, die in den Hauptspeicher geladen wurden. Mittels sogenannten Sprungbefehlen kann der Befehlszähler des Weiteren beliebig verändert werden, sodass die Abarbeitungsreihenfolge beeinflusst werden kann. Somit können gewisse Programmteile z.B. unter bestimmten Bedingungen ausgelassen werden. Schließlich erlaubt der Stoppbefehl den Zyklus zu beenden und den Computer abzuschalten."
   ]
  },
  {
   "cell_type": "markdown",
   "metadata": {},
   "source": [
    "## 1.2. Befehle\n",
    "\n",
    "*Notiz: Maschinensprache versus Assemblersprache!*\n",
    "\n",
    "Nun stellt sich die Frage, welche **Befehle** eine zentrale Recheneinheit überhaupt unterstützt. Grundsätzlich hängen die unterstützen Befehle vom *Prozessorhersteller* (z.B. Intel oder AMD) und der *Prozessorgeneration* (z.B. Intel Celeron und Intel Core) ab. Es gibt jedoch einige grundlegende Befehle, die alle Prozessoren unabhängig vom Hersteller und der Generation typischerweise unterstützen. Die folgende Grafik gibt eine Übersicht über die Kategorien von Befehlen, die üblicherweise unterstützt werden.\n",
    "\n",
    "![](../../Grafiken/Mermaid/Befehle/Kategorien.png)\n",
    "\n",
    "Im Folgenden betrachten wir die einzelnen Befehlskategorien genauer und besprechen einige typische Befehle in den einzelnen Kategorien."
   ]
  },
  {
   "cell_type": "markdown",
   "metadata": {},
   "source": [
    "### 1.2.1. Speicherbefehle\n",
    "\n",
    "Die erste Kategorie von Befehlen sind die sogenannten **Speicherbefehle**, welche den Datenaustausch zwischen Prozessorregistern und Hauptspeicher realisieren. Die folgende Grafik gibt eine Übersicht über die wichtigsten Befehle in dieser Kategorie.\n",
    "\n",
    "![](../../Grafiken/Mermaid/Befehle/Speicher.png)\n",
    "\n",
    "Die Kategorie umfasst, wie in der Grafik ersichtlich, folgende Befehle und Funktionsweisen:\n",
    "\n",
    "- `MOV a b` ist dafür verantwortlich, Daten aus einer Speicherzelle im Hauptspeicher (RAM) in ein Prozessorregister zu laden sowie Daten aus einem Prozessorregister zurück in eine Speicherzelle des Hauptspeicher zu schreiben.\n",
    "\n",
    "Der Befehl `MOV` arbeitet mit zwei Operanden (genannt `a` und `b`). Beide Operanden stehen entweder für ein Prozessorregister oder eine Speicherzelle im Hauptspeicher. Der erste Operand beschreibt die Quelle der Datenübertragung, der zweite Operand hingegen die Senke. Wenn der erste Operand eine Speicherzelle im Hauptspeicher und der zweite Operand ein Prozessorregister repräsentieren, erfolgt eine Datenübertragung aus dem Hauptspeicher in die zentrale Recheneinheit. Wenn der erste Operand hingegen ein Prozessorregister und der zweite Operand eine Speicherzelle im Hauptspeicher bezeichnen, erfolgt hingegen eine Datenübertragung von der zentralen Recheneinheit in den Hauptspeicher.\n",
    "\n",
    "Der Befehl `MOV` ist notwendig, damit die zentrale Recheneinheit Daten nach Bedarf ein- und auslagern kann. Die Ein- und Auslagerung ist wiederum notwendig, da die Anzahl und Größe der Prozessorregister beschränkt ist und somit nicht alle für ein Programm notwendigen Daten dort immer vollständig gespeichert werden können. Somit ist bei größeren Programmen immer nur ein Ausschnitt der für das Programm notwendigen Daten in den Prozessorregistern abgelegt."
   ]
  },
  {
   "cell_type": "markdown",
   "metadata": {},
   "source": [
    "### 1.2.2. Logikbefehle\n",
    "\n",
    "Die zweite Kategorie von Befehlen sind die sogenannten **Logikbefehle**, welche mit Wahrheitswerten (d.h. *Wahr* und *Falsch*) arbeiten. Die folgende Grafik gibt eine Übersicht über die wichtigsten Befehle in dieser Kategorie.\n",
    "\n",
    "![](../../Grafiken/Mermaid/Befehle/Logik.png)\n",
    "\n",
    "Die Kategorie umfasst, wie in der Grafik ersichtlich, folgende Befehle und Funktionsweisen:\n",
    "\n",
    "- `AND a b` ist dafür verantwortlich, die **logische Und-Verknüpfung** zweier Wahrheitswerte mit Hilfe des Rechenwerks durchzuführen und das Ergebnis in ein definiertes Prozessorregister zu schreiben.\n",
    "- `OR a b` ist dafür verantwortlich, die **logische Oder-Verküpfung** zweier Wahrheitswerte mit Hilfe des Rechenwerks durchzuführen und das Ergebnis in ein definiertes Prozessorregister zu schreiben.\n",
    "- `NOT a` ist dafür verantwortlich, die **logische Negation** eines Wahrheitswertes mit Hilfe des Rechenwerks durchzuführen und das Ergebnis in ein definiertes Prozessorregister zu schreiben.\n",
    "\n",
    "Die ersten beiden Befehle arbeiten mit zwei Operanden (genannt `a` und `b`). Beide Operanden stehen für jeweils ein Prozessorregister, aus dem die Wahrheitswerte in das Rechenwerk übertragen werden. Das Ergebnis der Berechnungen wird üblicherweise in das zweite Prozessorregister zurückgeschrieben. Beachte, dass dabei die Information über den ursprünglichen Wahrheitswert in diesem Prozessorregister verloren geht.\n",
    "\n",
    "Der dritte Befehl arbeitet lediglich mit einem Operanden (genannt `a`). Der Operand steht wiederum für ein Prozessorregister, aus dem der Wahrheitswert in das Rechenwerk übertragen wird. Das Ergebnis der Berechnung wird üblicherweise in dasselbe Prozessorregister zurückgeschrieben. Beachte, dass auch hier die Informationen über den ursprünglichen Wahrheitswert in diesem Prozessorregister verloren gehen.\n",
    "\n",
    "Wie Computer üblicherweise Wahrheitswerte repräsentieren, schauen wir uns noch später an."
   ]
  },
  {
   "cell_type": "markdown",
   "metadata": {},
   "source": [
    "### 1.2.3. Arithmetikbefehle\n",
    "\n",
    "Die dritte Kategorie von Befehlen sind die sogenannten **Arithmetikbefehle**, welche mit Zahlenwerten (d.h. Ganzzahlen und Gleitkommazahlen) arbeiten. Die folgende Grafik gibt eine Übersicht über die wichtigsten Befehle in dieser Kategorie.\n",
    "\n",
    "![](../../Grafiken/Mermaid/Befehle/Arithmetik.png)\n",
    "\n",
    "Die Kategorie umfasst, wie in der Grafik ersichtlich, folgende Befehle und Funktionsweisen:\n",
    "\n",
    "- `ADD a b` ist dafür verantwortlich, die **Addition** zweier Zahlen mit Hilfe des Rechenwerks durchzuführen und das Ergebnis in ein definiertes Prozessorregister zu schreiben sowie weitere Informationen über das Statusregister auszugeben.\n",
    "- `SUB a b` ist dafür verantwortlich, die **Subtraktion** zweier Zahlen mit Hilfe des Rechenwerks durchzuführen und das Ergebnis in ein definiertes Prozessorregister zu schreiben sowie weitere Informationen über das Statusregister auszugeben.\n",
    "- `MUL a b` ist dafür verantwortlich, die **Multiplikation** zweier Zahlen mit Hilfe des Rechenwerks durchzuführen und das Ergebnis in ein definiertes Prozessorregister zu schreiben sowie weitere Informationen über das Statusregister auszugeben.\n",
    "- `DIV a b` ist dafür verantwortlich, die **Division** zweier Zahlen mit Hilfe des Rechenwerks durchzuführen und das Ergebnis in ein definiertes Prozessorregister zu schreiben sowie weitere Informationen über das Statusregister auszugeben.\n",
    "\n",
    "Alle vier Befehle arbeiten mit zwei Operanden (genannt `a` und `b`). Beide Operanden stehen für jeweils ein Prozessorregister, aus dem die Zahlen in das Rechenwerk übertragen werden. Das Ergebnis aller Berechnungen wird üblicherweise in das zweite Prozessorregister zurückgeschrieben. Beachte, dass dabei die Information über die ursprüngliche Zahl in diesem Prozessorregister verloren geht.\n",
    "\n",
    "Nach Durchführung eines arithmetischen Befehls werden zusätzlich die Inhalte des sogenannten Statusregisters überschrieben. Das Statusregister gibt beispielsweise Aufschluss darüber, ob das Ergebnis der Berechnung eine negative Zahl oder die Zahl Null war. Wie wir später sehen werden, nutzen die Sprungbefehle diese Information für die bedingte Ausführung von Programmabschnitten.\n",
    "\n",
    "Wie Computer üblicherweise Ganzzahlen und Gleitkommazahlen repräsentieren, schauen wir uns ebenfalls später noch an."
   ]
  },
  {
   "cell_type": "markdown",
   "metadata": {},
   "source": [
    "### 1.2.5. Sprungbefehle\n",
    "\n",
    "Die vierte und letzte Kategorie von Befehlen sind die sogenannten **Sprungbefehle**, welche für bedingte Ausführung von Programmabschnitten genutzt werden können. Die folgende Grafik gibt eine Übersicht über die wichtigsten Befehle in dieser Kategorie.\n",
    "\n",
    "![](../../Grafiken/Mermaid/Befehle/Sprung.png)\n",
    "\n",
    "Die Kategorie umfasst, wie in der Grafik ersichtlich, folgende Befehle und Funktionsweisen:\n",
    "\n",
    "- `JB a` ist dafür verantwortlich, das Befehlszählerregister mit einem definierten Wert zu überschreiben, falls der letzte arithmetisch Befehl **einen negativen Wert** ergeben hat.\n",
    "- `JZ a` ist dafür verantwortlich, das Befehlszählerregister mit einem definierten Wert zu überschreiben, falls der letzte arithmetisch Befehl **den Wert null** ergeben hat.\n",
    "- `JA a` ist dafür verantwortlich, das Befehlszählerregister mit einem definierten Wert zu überschreiben, falls der letzte arithmetisch Befehl **einen positiven Wert** ergeben hat.\n",
    "\n",
    "Alle drei Befehle arbeiten mit einem einzigen Operanden (genannt `a`). Der Operand bezeichnet hierbei ein Prozessorregister, in dem der neue Wert des Befehlszählers gespeichert ist, der unter gegebenen Bedingungen in das Befehlszählerregister geschrieben wird. Zur Prüfung der eigentlichen Sprungbedingung wird jedoch nur der Inhalt des Statusregisters verwendet. Das Statusregister enthält die notwendigen Information über den letzten durchgeführten arithmetischen Befehl.\n",
    "\n",
    "Beachte, dass Sprungbefehle in Kombination mit Arithmetikbefehlen die bedingte Ausführung von Programmabschnitten ermöglichen."
   ]
  },
  {
   "cell_type": "markdown",
   "metadata": {},
   "source": [
    "## 1.3. Daten\n",
    "\n",
    "Wie bereits zuvor diskutiert, verarbeiten Computerprogramme **Daten**. Aber was sind eigentlich Daten? Man unterscheidet grundsätzlich *verschiedene Datentypen*, deren Repräsentation im Speicher sich auch deutlich von einander abgrenzen lässt. Die drei *grundlegendsten Datentypen* und deren Speicherrepräsentationen werden im folgenden eingeführt:\n",
    "\n",
    "- Wahrheitswerte\n",
    "- Zahlen\n",
    "- Zeichenketten"
   ]
  },
  {
   "cell_type": "markdown",
   "metadata": {},
   "source": [
    "### 1.3.1. Wahrheitswerte\n",
    "\n",
    "Zunächst arbeiten Computerprogramme gerne mit Wahrheitswerten. Wahrheitswerte können **zwei Zustände** annehmen: *Wahr* und *Falsch*. Mit diesen beiden Zuständen treffen Computerprogramme meistens *Entscheidungen über die Programmausführung*. Zum Beispiel könnte ein Computerprogramm bestimmte Funktionen nur für *Kunden mit einem Premium-Konto* ausführen.\n",
    "\n",
    "Die beiden Wahrheitswerte *Wahr* und *Falsch* könnte man **theoretisch mit einem einzelnen Bit speichern**. Jedoch adressieren Computerprogramme in der Regel *nicht* einzelne Bits im Speicher. Die *kleinste adressierbare Speichereinheit* ist typischerweise ein Byte (bestehend aus 8 Bit). Demnach muss hier ein wenig getrickst werden, um die beiden Werte *Wahr* und *Falsch* beschreiben zu können.\n",
    "\n",
    "#### 1.3.1.1. Wahrheitswert *Falsch*\n",
    "\n",
    "Der Wahrheitswert *Falsch* entspricht üblicherweise unabhängig vom Prozessorhersteller einem Byte, bei dem **alle 8 Bits den Wert Null haben**. Das heißt, genau eine von 256 möglichen Bitfolgen repräsentiert den Wahrheitswert *Falsch*.\n",
    "\n",
    "![](../../Grafiken/Mermaid/Literale/False.png)\n",
    "\n",
    "#### 1.3.1.2. Wahrheitswert *Wahr*\n",
    "\n",
    "Der Wahrheitswert *Wahr* entspricht hingegen üblicherweise einem Byte, bei dem **mindestens ein Bit nicht den Wert Null hat**. Das heißt, insgesamt 255 von 256 möglichen Bitfolgen repräsentieren den Wahrheitswert *Wahr*.\n",
    "\n",
    "![](../../Grafiken/Mermaid/Literale/True.png)"
   ]
  },
  {
   "cell_type": "markdown",
   "metadata": {},
   "source": [
    "### 1.3.2. Zahlen\n",
    "\n",
    "Neben Wahrheitswerten für Entscheidungen arbeiten Computerprogramme auch gerne mit **Zahlen**. Zahlen werden für *unterschiedliche Funktionen* verwendet. In sozialen Medien zählen Computerprogramme beispielsweise die *Anzahl an Impressionen* eines Inhalts oder berechnen die *durchschnittliche Impressionsdauer*.\n",
    "\n",
    "Für die **Repräsentation von Zahlen im Speicher** gibt es unterschiedliche Möglichkeiten mit entsprechenden Einschränkungen. Grundsätzlich gilt: *je mehr Bytes* für die Darstellung von Zahlen verwendet werden, *desto größer ist der Wertebereich*, der abgebildet werden kann. Die Anzahl unterschiedlicher Werte ergibt sich aus der **Anzahl an Zuständen** eines Bits (= 2, nämlich ``0`` und ``1``) **hoch** der **Anzahl an Bits** (= 8 bei 1 Byte).\n",
    "\n",
    "- Mit **1 Byte** können *256 Werte* unterschieden werden\n",
    "- Mit **2 Bytes** können *65.536 Werte* unterschieden werden.\n",
    "- Mit **3 Bytes** können *16.777.216 Werte* unterschieden werden.\n",
    "- Mit **4 Bytes** können *4.294.967.296 Werte* unterschieden werden.\n",
    "\n",
    "Unabhängig von der Anzahl an Bytes werden des Weiteren unterschiedliche Techniken für die **Repräsentation von Ganzzahlen und Gleitkommazahlen** verwendet.\n",
    "\n",
    "#### 1.3.2.1. Ganzzahlen\n",
    "\n",
    "Die folgende Grafik zeigt beispielsweise die **Repräsentation der Ganzzahl 1 mittels 4 Bits**. Beachte, dass jedem Bit ein Stellenwert zugeornet wird, mit dem dieses Bit multipliziert wird (*vertikale Achsen*). Die Multiplikationsergebnisse der einzelnen Bits werden schließlich summiert um das Gesamtergebnis zu erhalten (*horizontale Achse*). Dieses Verfahren wird für die Umrechnung vom Binärsystem in das Dezimalsystem verwendet.\n",
    "\n",
    "![](../../Grafiken/LibreOffice/Zahlen/Ganzzahlen%20-%201.png)\n",
    "\n",
    "Die nächste Grafik zeigt die **Repräsentation der Ganzzahl 10 ebenfalls mittels 4 Bits**. In diesem Fall hat das zweite und das vierte Bit den Wert 1, die anderen beiden Bits haben den Wert 0. Des Weiteren hat das zweite Bit den Stellenwert 2 (= ``2^1``) und das vierte Bit den Stellenwert 8 (= ``2^3``). Somit ergibt sich der Gesamtwert us der Summe dieser beiden Stellenwerte, bei denen das zugehörige Bit den Wert 1 hat.\n",
    "\n",
    "![](../../Grafiken/LibreOffice/Zahlen/Ganzzahlen%20-%202.png)\n",
    "\n",
    "#### 1.3.2.2. Gleitkommazahlen\n",
    "\n",
    "Die **Repräsentation von Gleitkommazahlen** ist etwas komplizierter und soll aus Platzgründen hier nur am Rande erwähnt sein. Grundsätzlich arbeit die Darstellung mit einem *Exponenten und einem Bruchanteil*. Sowohl für Exponent als auch für Bruchanteil ist eine feste Anzahl an Bits reserviert. Wer mehr darüber erfahren will, kann sich gerne die zugehörige [Wikipedia-Seite](https://de.wikipedia.org/wiki/Gleitkommazahl) durchlesen."
   ]
  },
  {
   "cell_type": "markdown",
   "metadata": {},
   "source": [
    "### 1.3.3. Zeichenketten\n",
    "\n",
    "Schließlich arbeiten Computerprogramme auch gerne mit **textuellen Daten** (auch genannt Zeichenketten). Zeichenketten werden zum Beispiel verwendet, um *Ausgaben an den Nutzer zu senden* oder *Eingaben des Nutzers über die Tastatur zu empfangen*. In den folgenden Definitionen des Begriffs *Programm* werden wir beispielsweise die Zeichenkette ``\"Hallo Welt\"`` kennenlernen, welche als Ausgabe an den Nutzer geschickt wird.\n",
    "\n",
    "Wie bereits vorher besprochen nehmen Wahrheitswerte oder Zahlen *immer eine feste Anzahl an Bytes* im Speicher ein. Bei Zeichenketten ist das anders. Tatsächlich hängt die *Anzahl der Bytes von der Länge der Zeichenkette* ab. *Je länger* die Zeichenkette ist, *desto mehr* Speicherzellen werden für die Speicherung der Zeichenkette benötigt. Traditionell wird **pro Byte ein Zeichen** der Zeichenkette gespeichert. Ein **zusätzliches Byte** wird benötigt, um das **Ende der Zeichenkette zu signalisieren**. Diese Form der Speicherung ist in der *folgenden Grafik dargestellt*.\n",
    "\n",
    "![](../../Grafiken/Mermaid/Literale/String.png)\n",
    "\n",
    "Es stellt sich noch die Frage, **wie aus den Bitfolgen die Zeichen (z.B. Buchstaben des Alphabets oder Ziffern) abgeleitet werden** können. Die Abbildung wird üblicherweise über eine sogenannte *Zeichentabelle* geregelt, die unabhängig vom Prozessorhersteller und der Prozessorgenerartion standardisiert ist. Die bekannteste Zeichentabelle ist sicherlich die sogenannte [ASCII-Tabelle](https://de.wikipedia.org/wiki/American_Standard_Code_for_Information_Interchange), welche sich vor allem im englischsprachigen Raum früh durchgesetzt hat. Ein Nachteil der ASCII-Tabelle ist, dass nur die Buchstaben des englischen Alphabets enthalten sind. Aus diesem Grund nutzen heutige System in der Regel die sogenannte [UTF-8-Tabelle](https://de.wikipedia.org/wiki/UTF-8), welche neben den deutschen Umlauten z.B. auch die Zeichen asiatischer Sprachen unterstützt."
   ]
  },
  {
   "cell_type": "markdown",
   "metadata": {},
   "source": [
    "## 1.4. Programme\n",
    "\n",
    "Klären wir schließlich den **Begriff des Computerprogramms**. Im Folgenden findest du drei aufeinander aufbauende Definitionen:\n",
    "\n",
    "- Grundlegende Programmdefinition\n",
    "- Erweiterte Programmdefinition\n",
    "- Allgemeine Programmdefinition"
   ]
  },
  {
   "cell_type": "markdown",
   "metadata": {},
   "source": [
    "### 1.4.1. Grundlegende Programmdefinition\n",
    "\n",
    "Starten wir mit dem Klassiker, dem **Hallo Welt Programm**. Das Hallo Welt Programm erzeugt lediglich die *Ausgabe Hallo Welt und terminiert*. Die folgende Grafik zeigt den *grundlegenden schematischen Aufbau* eines Hallo Welt Programms.\n",
    "\n",
    "![](../../Grafiken/Mermaid/Programme/Hallo_Welt.png)\n",
    "\n",
    "Und so sieht das Hallo Welt Programm in *Python Quelltext* aus:"
   ]
  },
  {
   "cell_type": "code",
   "execution_count": 1,
   "metadata": {},
   "outputs": [
    {
     "name": "stdout",
     "output_type": "stream",
     "text": [
      "Hallo Welt\n"
     ]
    }
   ],
   "source": [
    "print(\"Hallo Welt\")"
   ]
  },
  {
   "cell_type": "markdown",
   "metadata": {},
   "source": [
    "### 1.4.2. Erweiterte Programmdefinition\n",
    "\n",
    "Das Hallo Welt Programm ist ein *Spezialfall von Computerprogrammen*. Neben dem Erzeugen von Ausgaben kann ein Computerprogramm in der Regel auch **Eingaben verarbeiten**. Der *erweiterte schematische Aufbau* eines Computerprogramms ist in folgender Grafik dargestellt.\n",
    "\n",
    "![](../../Grafiken/Mermaid/Programme/Erweitert.png)\n",
    "\n",
    "Ein Python Programm, das Eingaben verarbeitet, sieht z.B. so aus:"
   ]
  },
  {
   "cell_type": "code",
   "execution_count": 2,
   "metadata": {},
   "outputs": [
    {
     "name": "stdout",
     "output_type": "stream",
     "text": [
      "Meine Texteingabe\n"
     ]
    }
   ],
   "source": [
    "print(input(\"Bitte eine Zeichenkette eingeben.\"))"
   ]
  },
  {
   "cell_type": "markdown",
   "metadata": {},
   "source": [
    "### 1.4.3. Allgemeine Programmdefinition\n",
    "\n",
    "Die Nutzer eines Programms sind in der Regel *Menschen*. Die Ausgaben eines Programmes können jedoch auch **von anderen Programmen verarbeitet** werden.. Genauso können die Eingaben eines Programmes **von anderen Programmen generiert** werden. Ein gängiges Beispiel dafür ist der Web Browser auf einem typischen Endgerät (z.B. einem Laptop), der Inhalte von einem Web Server in einem Datenzentrum abfrägt. Sowohl der Web Browser als auch der Web Server sind dabei Programme, die miteinander digitale Daten austauschen. Dieser Sachverhalt ist im *allgemeinen schematischen Aufbau* noch einmal verdeutlicht:\n",
    "\n",
    "![](../../Grafiken/Mermaid/Programme/Allgemein.png)\n",
    "\n",
    "Für die Umsetzung der Interaktion zweiter Programme gibt es **zwei wichtige Techniken**:\n",
    "\n",
    "- *Pipes* zur Interaktion zwischen Programmen *auf demselben Rechner*\n",
    "- *Sockets* zur Interaktion zwischen Programmen *auf demselben oder unterschiedlichen Rechnern*\n",
    "\n",
    "Beachte, dass wir die Interaktion zwischen Programmen im Rahmen des Kurses *nicht* weiter betrachten. In unserem Kurs betrachten wir ausschließlich Programme, mit denen ein menschlicher Nutzer direkt interagiert."
   ]
  }
 ],
 "metadata": {
  "kernelspec": {
   "display_name": "Python 3",
   "language": "python",
   "name": "python3"
  },
  "language_info": {
   "codemirror_mode": {
    "name": "ipython",
    "version": 3
   },
   "file_extension": ".py",
   "mimetype": "text/x-python",
   "name": "python",
   "nbconvert_exporter": "python",
   "pygments_lexer": "ipython3",
   "version": "3.12.2"
  }
 },
 "nbformat": 4,
 "nbformat_minor": 2
}
