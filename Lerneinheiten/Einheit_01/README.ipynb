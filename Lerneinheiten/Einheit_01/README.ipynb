{
 "cells": [
  {
   "cell_type": "markdown",
   "metadata": {},
   "source": [
    "# 2. Grundlegende Python-Syntax\n",
    "\n",
    "Nun erarbeiten wir uns Schritt für Schritt die **Bausteine, aus denen sich Quelltext von Python Programmen zusammensetzt**.\n",
    "\n",
    "Die *in dieser Lerneinheit besprochenen Bausteine* sind:\n",
    "\n",
    "- Kommentare\n",
    "- Literale\n",
    "- Operatoren\n",
    "- Variablen\n",
    "- Funktionsaufrufe\n",
    "- Methodenaufrufe\n",
    "- Importe"
   ]
  },
  {
   "cell_type": "markdown",
   "metadata": {},
   "source": [
    "## 2.1. Kommentare\n",
    "\n",
    "Quelltext kann schnell sehr *umfassend und schwierig zu lesen* werden.\n",
    "\n",
    "Kommentare können dabei helfen, die **Lesbarkeit und Verständlichkeit des Quelltextes** zu verbessern.\n",
    "\n",
    "Insbesondere bei *größeren Softwareprojekten mit mehreren Programmieren* sind Kommentare sehr hilfreich.\n",
    "\n",
    "Sie sollen dabei helfen, die *Zeit für die Einarbeitung in den Quelltext zu reduzieren*.\n",
    "\n",
    "Eine schnellere Einarbeitung *spart wiederum Kosten für das Onboarding* neuer Entwickler.\n",
    "\n",
    "Außerdem kann dadurch die *Kosten für Fehlerbehebung und Funktionserweiterung* gesenkt werden.\n",
    "\n",
    "In Python starten Kommentare mit dem Gattersymbol (d.h. ``# ...``)."
   ]
  },
  {
   "cell_type": "code",
   "execution_count": 19,
   "metadata": {},
   "outputs": [
    {
     "name": "stdout",
     "output_type": "stream",
     "text": [
      "Hallo Welt\n"
     ]
    }
   ],
   "source": [
    "# Hier ist ein Kommentar!\n",
    "\n",
    "print(\"Hallo Welt\")"
   ]
  },
  {
   "cell_type": "markdown",
   "metadata": {},
   "source": [
    "Wie im obigen Beispiel gezeigt kann man eine *ganze Zeile des Quelltextes als Kommentar* auszeichnen.\n",
    "\n",
    "Es ist jedoch auch möglich, nur einen **Teil einer Zeile des Quelltextes zu einem Kommentar** zu machen.\n",
    "\n",
    "Tatsächlich beginnt der Kommentar immer ab dem *ersten Gatterzeichen in einer Zeile*.\n",
    "\n",
    "Der Text vor dem ersten Gatterzeichen wird als *regulärer Quelltext interpretiert*."
   ]
  },
  {
   "cell_type": "code",
   "execution_count": 20,
   "metadata": {},
   "outputs": [
    {
     "name": "stdout",
     "output_type": "stream",
     "text": [
      "Hallo Welt\n"
     ]
    }
   ],
   "source": [
    "print(\"Hallo Welt\") # Hier ist ein Kommentar!"
   ]
  },
  {
   "cell_type": "markdown",
   "metadata": {},
   "source": [
    "## 2.2. Literale\n",
    "\n",
    "Wie bereits zuvor erwähnt verarbeiten Computerprogramme Eingaben des Nutzers und erzeugen Ausgaben.\n",
    "\n",
    "Sowohl Eingaben als auch Ausgaben sind Daten, die das Computerprogramm *in seinem Speicher verwaltet*.\n",
    "\n",
    "Neben den änderbaren Eingaben des Nutzers kann ein Computerprogramm auch **konstante Daten** beinhalten.\n",
    "\n",
    "Eine Konstante kann beispielsweise das *Mindestalter einer Person* (z.B. 18 Jahre alt) sein.\n",
    "\n",
    "Konstante Daten werden in Programmen über **sogenannte Literale** definiert.\n",
    "\n",
    "Die folgende Grafik gibt eine Übersicht über unterschiedliche Arten von Literalen.\n",
    "\n",
    "![](../../Grafiken/Mermaid/Literale/Allgemein.png)\n",
    "\n",
    "Beachte, dass die Übersicht der Literale nicht vollständig ist.\n",
    "\n",
    "Im Laufe des Kurses werden wir weitere Literale kennenlernen."
   ]
  },
  {
   "cell_type": "markdown",
   "metadata": {},
   "source": [
    "### 2.2.1. Literale für **Wahrheitswerte**\n",
    "\n",
    "Wie du bestimmt weißt, werden Daten in Computerprogrammen mit *Nullen und Einsen* (sogenannten Bits) dargestellt.\n",
    "\n",
    "Für die Repräsentation des Null-Bits bietet Python das boolsche Literal ``False``."
   ]
  },
  {
   "cell_type": "code",
   "execution_count": 21,
   "metadata": {},
   "outputs": [
    {
     "data": {
      "text/plain": [
       "False"
      ]
     },
     "execution_count": 21,
     "metadata": {},
     "output_type": "execute_result"
    }
   ],
   "source": [
    "False"
   ]
  },
  {
   "cell_type": "markdown",
   "metadata": {},
   "source": [
    "Für die Darstellung des Eins-Bits gibt es in Python hingegen das Literal ``True``."
   ]
  },
  {
   "cell_type": "code",
   "execution_count": 22,
   "metadata": {},
   "outputs": [
    {
     "data": {
      "text/plain": [
       "True"
      ]
     },
     "execution_count": 22,
     "metadata": {},
     "output_type": "execute_result"
    }
   ],
   "source": [
    "True"
   ]
  },
  {
   "cell_type": "markdown",
   "metadata": {},
   "source": [
    "### 2.2.2. Literale für **Zahlen**\n",
    "\n",
    "Neben einfachen Wahrheitswerten wollen und müssen Computerprogramme in der Regel auch *Zahlen* verarbeiten.\n",
    "\n",
    "Dabei unterscheiden Computerprogramme grundsätzlich zwischen *Ganzzahlen* und *Bruchzahlen*.\n",
    "\n",
    "Der folgende Quelltext zeigt die definition einer Ganzzahl als numerisches Literal.\n",
    "\n",
    "Ganzzahlen ergeben sich somit durch eine **unterbrechungsfreie Reihe von Ziffern** (d.h. ``0`` bis ``9``)."
   ]
  },
  {
   "cell_type": "code",
   "execution_count": 23,
   "metadata": {},
   "outputs": [
    {
     "data": {
      "text/plain": [
       "154"
      ]
     },
     "execution_count": 23,
     "metadata": {},
     "output_type": "execute_result"
    }
   ],
   "source": [
    "154"
   ]
  },
  {
   "cell_type": "markdown",
   "metadata": {},
   "source": [
    "Numerische Literale für Bruchzahlen enhalten hingegen an einer beliebigen Stelle das **Punktsymbol als Dezimaltrenner**.\n",
    "\n",
    "Beachte, dass sich hier die *amerikanische Schreibweise* von Bruchzahlen gegenüber der deutschen Schreibweise durchgesetzt hat.\n",
    "\n",
    "Vor dem Dezimaltrenner dürfen wiederum nur *unterbrechungsfreihe Reihen von Ziffern* sein (siehe Ganzzahlen)."
   ]
  },
  {
   "cell_type": "code",
   "execution_count": 24,
   "metadata": {},
   "outputs": [
    {
     "data": {
      "text/plain": [
       "234.456"
      ]
     },
     "execution_count": 24,
     "metadata": {},
     "output_type": "execute_result"
    }
   ],
   "source": [
    "234.456"
   ]
  },
  {
   "cell_type": "markdown",
   "metadata": {},
   "source": [
    "### 2.2.3. Literale für **Zeichenketten**\n",
    "\n",
    "Schließlich sollen Computerprogramme auch **konstante Zeichenketten** beinhalten.\n",
    "\n",
    "Tatsächlich beinhaltet bereits das einfache *Hallo Welt Programm* eine konstante Zeichenkette, nämlich ``\"Hallo Welt\"``.\n",
    "\n",
    "Der folgende Quelltext zeigt, wie man *Zeichenketten Literale* in der Programmiersprache Python definiert.\n",
    "\n",
    "Tatsächlich gibt es noch *weitere Formen der Zeichenketten Literale*, die wir später kennen lernen werden."
   ]
  },
  {
   "cell_type": "code",
   "execution_count": 25,
   "metadata": {},
   "outputs": [
    {
     "data": {
      "text/plain": [
       "'Eine Zeichenkette'"
      ]
     },
     "execution_count": 25,
     "metadata": {},
     "output_type": "execute_result"
    }
   ],
   "source": [
    "\"Eine Zeichenkette\""
   ]
  },
  {
   "cell_type": "markdown",
   "metadata": {},
   "source": [
    "## 2.3. Operatoren\n",
    "\n",
    "Nachdem wir zumindest schon Daten repräsentieren können, möchten wir die **Daten auch in Berechnungen verwenden**.\n",
    "\n",
    "Die Grundlage für Berechnungen bieten die *sogenannten Operatoren* einer Programmiersprache.\n",
    "\n",
    "Die folgende Grafik gibt eine Übersicht über die Operatoren, die in dieser ersten Einheiten verwendet werden.\n",
    "\n",
    "Beachte, dass die Programmiersprache Python eine Vielzahl weiterer Operatoren unterstützt.\n",
    "\n",
    "Im Laufe des Kurses werden wir diese noch kennenlernen.\n",
    "\n",
    "![](../../Grafiken/Mermaid/Operatoren/Allgemein.png)"
   ]
  },
  {
   "cell_type": "markdown",
   "metadata": {},
   "source": [
    "### 2.3.1. Operatoren für **Wahrheitswerte**\n",
    "\n",
    "TODO"
   ]
  },
  {
   "cell_type": "code",
   "execution_count": 26,
   "metadata": {},
   "outputs": [
    {
     "data": {
      "text/plain": [
       "False"
      ]
     },
     "execution_count": 26,
     "metadata": {},
     "output_type": "execute_result"
    }
   ],
   "source": [
    "not True"
   ]
  },
  {
   "cell_type": "markdown",
   "metadata": {},
   "source": [
    "TODO"
   ]
  },
  {
   "cell_type": "code",
   "execution_count": 27,
   "metadata": {},
   "outputs": [
    {
     "data": {
      "text/plain": [
       "False"
      ]
     },
     "execution_count": 27,
     "metadata": {},
     "output_type": "execute_result"
    }
   ],
   "source": [
    "True and False"
   ]
  },
  {
   "cell_type": "markdown",
   "metadata": {},
   "source": [
    "### 2.3.2. Operatoren für **Zahlen**\n",
    "\n",
    "TODO"
   ]
  },
  {
   "cell_type": "code",
   "execution_count": 28,
   "metadata": {},
   "outputs": [
    {
     "data": {
      "text/plain": [
       "12"
      ]
     },
     "execution_count": 28,
     "metadata": {},
     "output_type": "execute_result"
    }
   ],
   "source": [
    "5 + 7"
   ]
  },
  {
   "cell_type": "markdown",
   "metadata": {},
   "source": [
    "TODO"
   ]
  },
  {
   "cell_type": "code",
   "execution_count": 29,
   "metadata": {},
   "outputs": [
    {
     "data": {
      "text/plain": [
       "18"
      ]
     },
     "execution_count": 29,
     "metadata": {},
     "output_type": "execute_result"
    }
   ],
   "source": [
    "3 * 6"
   ]
  },
  {
   "cell_type": "markdown",
   "metadata": {},
   "source": [
    "### 2.3.3. Operatoren für **Zeichenketten**\n",
    "\n",
    "TODO"
   ]
  },
  {
   "cell_type": "code",
   "execution_count": 30,
   "metadata": {},
   "outputs": [
    {
     "data": {
      "text/plain": [
       "'Zeichenkette 1Zeichenkette 2'"
      ]
     },
     "execution_count": 30,
     "metadata": {},
     "output_type": "execute_result"
    }
   ],
   "source": [
    "\"Zeichenkette 1\" + \"Zeichenkette 2\""
   ]
  },
  {
   "cell_type": "markdown",
   "metadata": {},
   "source": [
    "### 2.3.4. Operatoren und **Typsicherheit**\n",
    "\n",
    "TODO"
   ]
  },
  {
   "cell_type": "code",
   "execution_count": 31,
   "metadata": {},
   "outputs": [
    {
     "ename": "TypeError",
     "evalue": "can only concatenate str (not \"float\") to str",
     "output_type": "error",
     "traceback": [
      "\u001b[1;31m---------------------------------------------------------------------------\u001b[0m",
      "\u001b[1;31mTypeError\u001b[0m                                 Traceback (most recent call last)",
      "Cell \u001b[1;32mIn[31], line 1\u001b[0m\n\u001b[1;32m----> 1\u001b[0m \u001b[38;5;124;43m\"\u001b[39;49m\u001b[38;5;124;43mZeichenkette\u001b[39;49m\u001b[38;5;124;43m\"\u001b[39;49m\u001b[43m \u001b[49m\u001b[38;5;241;43m+\u001b[39;49m\u001b[43m \u001b[49m\u001b[38;5;241;43m1.5\u001b[39;49m\n",
      "\u001b[1;31mTypeError\u001b[0m: can only concatenate str (not \"float\") to str"
     ]
    }
   ],
   "source": [
    "\"Zeichenkette\" + 1.5"
   ]
  },
  {
   "cell_type": "markdown",
   "metadata": {},
   "source": [
    "TODO"
   ]
  },
  {
   "cell_type": "code",
   "execution_count": null,
   "metadata": {},
   "outputs": [
    {
     "data": {
      "text/plain": [
       "'Zeichenkette1.5'"
      ]
     },
     "execution_count": 44,
     "metadata": {},
     "output_type": "execute_result"
    }
   ],
   "source": [
    "\"Zeichenkette\" + str(1.5)"
   ]
  },
  {
   "cell_type": "markdown",
   "metadata": {},
   "source": [
    "## 2.4. Variablen\n",
    "\n",
    "TODO"
   ]
  },
  {
   "cell_type": "code",
   "execution_count": null,
   "metadata": {},
   "outputs": [
    {
     "data": {
      "text/plain": [
       "False"
      ]
     },
     "execution_count": 45,
     "metadata": {},
     "output_type": "execute_result"
    }
   ],
   "source": [
    "a = True\n",
    "\n",
    "not a"
   ]
  },
  {
   "cell_type": "markdown",
   "metadata": {},
   "source": [
    "TODO"
   ]
  },
  {
   "cell_type": "code",
   "execution_count": null,
   "metadata": {},
   "outputs": [
    {
     "data": {
      "text/plain": [
       "False"
      ]
     },
     "execution_count": 46,
     "metadata": {},
     "output_type": "execute_result"
    }
   ],
   "source": [
    "a = True\n",
    "\n",
    "a and False"
   ]
  },
  {
   "cell_type": "markdown",
   "metadata": {},
   "source": [
    "TODO"
   ]
  },
  {
   "cell_type": "code",
   "execution_count": null,
   "metadata": {},
   "outputs": [
    {
     "data": {
      "text/plain": [
       "False"
      ]
     },
     "execution_count": 47,
     "metadata": {},
     "output_type": "execute_result"
    }
   ],
   "source": [
    "a = True\n",
    "b = False\n",
    "\n",
    "a and b"
   ]
  },
  {
   "cell_type": "markdown",
   "metadata": {},
   "source": [
    "TODO"
   ]
  },
  {
   "cell_type": "code",
   "execution_count": null,
   "metadata": {},
   "outputs": [
    {
     "data": {
      "text/plain": [
       "7"
      ]
     },
     "execution_count": 48,
     "metadata": {},
     "output_type": "execute_result"
    }
   ],
   "source": [
    "a = 2\n",
    "b = 5\n",
    "\n",
    "a + b"
   ]
  },
  {
   "cell_type": "markdown",
   "metadata": {},
   "source": [
    "## 2.5. Funktionsaufrufe\n",
    "\n",
    "TODO"
   ]
  },
  {
   "cell_type": "code",
   "execution_count": null,
   "metadata": {},
   "outputs": [
    {
     "data": {
      "text/plain": [
       "int"
      ]
     },
     "execution_count": 49,
     "metadata": {},
     "output_type": "execute_result"
    }
   ],
   "source": [
    "type(1)"
   ]
  },
  {
   "cell_type": "markdown",
   "metadata": {},
   "source": [
    "TODO"
   ]
  },
  {
   "cell_type": "code",
   "execution_count": null,
   "metadata": {},
   "outputs": [
    {
     "data": {
      "text/plain": [
       "float"
      ]
     },
     "execution_count": 50,
     "metadata": {},
     "output_type": "execute_result"
    }
   ],
   "source": [
    "a = 1.5\n",
    "\n",
    "type(a)"
   ]
  },
  {
   "cell_type": "markdown",
   "metadata": {},
   "source": [
    "TODO"
   ]
  },
  {
   "cell_type": "code",
   "execution_count": null,
   "metadata": {},
   "outputs": [
    {
     "name": "stdout",
     "output_type": "stream",
     "text": [
      "True\n",
      "1.25\n",
      "Eine Zeichenkette\n"
     ]
    }
   ],
   "source": [
    "print(True)\n",
    "print(1.25)\n",
    "print(\"Eine Zeichenkette\")"
   ]
  },
  {
   "cell_type": "markdown",
   "metadata": {},
   "source": [
    "TODO"
   ]
  },
  {
   "cell_type": "code",
   "execution_count": null,
   "metadata": {},
   "outputs": [
    {
     "data": {
      "text/plain": [
       "'dfg'"
      ]
     },
     "execution_count": 38,
     "metadata": {},
     "output_type": "execute_result"
    }
   ],
   "source": [
    "input(\"Wie heißt du?\")"
   ]
  },
  {
   "cell_type": "markdown",
   "metadata": {},
   "source": [
    "## 2.6. Methodenaufrufe\n",
    "\n",
    "TODO"
   ]
  },
  {
   "cell_type": "code",
   "execution_count": null,
   "metadata": {},
   "outputs": [],
   "source": [
    "f = open(\"Eingabe.txt\", \"r\")\n",
    "\n",
    "f.close()"
   ]
  },
  {
   "cell_type": "markdown",
   "metadata": {},
   "source": [
    "TODO"
   ]
  },
  {
   "cell_type": "code",
   "execution_count": null,
   "metadata": {},
   "outputs": [
    {
     "data": {
      "text/plain": [
       "'Erste Zeile aus der Eingabedatei!\\nZweite Zeile aus der Eingabedatei!\\nDritte Zeile aus der Eingabedatei!\\n'"
      ]
     },
     "execution_count": 40,
     "metadata": {},
     "output_type": "execute_result"
    }
   ],
   "source": [
    "f = open(\"Eingabe.txt\", \"r\")\n",
    "\n",
    "f.read()"
   ]
  },
  {
   "cell_type": "markdown",
   "metadata": {},
   "source": [
    "TODO"
   ]
  },
  {
   "cell_type": "code",
   "execution_count": null,
   "metadata": {},
   "outputs": [
    {
     "data": {
      "text/plain": [
       "'Erste Zeile aus der Eingabedatei!\\n'"
      ]
     },
     "execution_count": 41,
     "metadata": {},
     "output_type": "execute_result"
    }
   ],
   "source": [
    "f = open(\"Eingabe.txt\", \"r\")\n",
    "\n",
    "f.readline()"
   ]
  },
  {
   "cell_type": "markdown",
   "metadata": {},
   "source": []
  },
  {
   "cell_type": "markdown",
   "metadata": {},
   "source": [
    "TODO"
   ]
  },
  {
   "cell_type": "code",
   "execution_count": null,
   "metadata": {},
   "outputs": [
    {
     "data": {
      "text/plain": [
       "['Erste Zeile aus der Eingabedatei!\\n',\n",
       " 'Zweite Zeile aus der Eingabedatei!\\n',\n",
       " 'Dritte Zeile aus der Eingabedatei!\\n']"
      ]
     },
     "execution_count": 42,
     "metadata": {},
     "output_type": "execute_result"
    }
   ],
   "source": [
    "f = open(\"Eingabe.txt\", \"r\")\n",
    "\n",
    "f.readlines()"
   ]
  },
  {
   "cell_type": "markdown",
   "metadata": {},
   "source": [
    "TODO"
   ]
  },
  {
   "cell_type": "code",
   "execution_count": null,
   "metadata": {},
   "outputs": [],
   "source": [
    "f = open(\"Ausgabe.txt\", \"w\")\n",
    "\n",
    "f.write(\"Erste generierte Zeile!\\n\")\n",
    "f.write(\"Zweite generierte Zeile!\\n\")\n",
    "f.write(\"Dritte generierte Zeile!\\n\")\n",
    "\n",
    "f.close()"
   ]
  },
  {
   "cell_type": "markdown",
   "metadata": {},
   "source": [
    "## 2.7. Importe\n",
    "\n",
    "TODO"
   ]
  },
  {
   "cell_type": "code",
   "execution_count": null,
   "metadata": {},
   "outputs": [
    {
     "data": {
      "text/plain": [
       "3.141592653589793"
      ]
     },
     "execution_count": 2,
     "metadata": {},
     "output_type": "execute_result"
    }
   ],
   "source": [
    "import math\n",
    "\n",
    "math.pi"
   ]
  },
  {
   "cell_type": "markdown",
   "metadata": {},
   "source": [
    "TODO"
   ]
  },
  {
   "cell_type": "code",
   "execution_count": null,
   "metadata": {},
   "outputs": [
    {
     "data": {
      "text/plain": [
       "1.4142135623730951"
      ]
     },
     "execution_count": 3,
     "metadata": {},
     "output_type": "execute_result"
    }
   ],
   "source": [
    "import math\n",
    "\n",
    "math.sqrt(2)"
   ]
  }
 ],
 "metadata": {
  "kernelspec": {
   "display_name": "Python 3",
   "language": "python",
   "name": "python3"
  },
  "language_info": {
   "codemirror_mode": {
    "name": "ipython",
    "version": 3
   },
   "file_extension": ".py",
   "mimetype": "text/x-python",
   "name": "python",
   "nbconvert_exporter": "python",
   "pygments_lexer": "ipython3",
   "version": "3.12.1"
  }
 },
 "nbformat": 4,
 "nbformat_minor": 2
}
