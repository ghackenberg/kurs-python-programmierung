{
 "cells": [
  {
   "cell_type": "markdown",
   "metadata": {},
   "source": [
    "# Übungen"
   ]
  },
  {
   "cell_type": "markdown",
   "metadata": {},
   "source": [
    "## Übungen zu Dateien"
   ]
  },
  {
   "cell_type": "markdown",
   "metadata": {},
   "source": [
    "### Übung 1: **Einlesen von Daten aus CSV-Datei** und Darstellung als Balkendiagramm\n",
    "\n",
    "Lesen Sie die Datei `Beispiel.csv` ein und zeichnen Sie ein Balkendiagramm. Die x-Achse des Diagramms soll die Zeitachse sein, die y-Achse soll die Biermenge darstellen.\n",
    "\n",
    "*Tipp: Datenkonvertierung in Zahlenwerte für Biermenge notwendig.*"
   ]
  },
  {
   "cell_type": "code",
   "execution_count": null,
   "metadata": {},
   "outputs": [],
   "source": [
    "eingabe = open(\"Beispiel.csv\", \"r\")\n",
    "\n",
    "# TODO\n",
    "\n",
    "eingabe.close()"
   ]
  },
  {
   "cell_type": "markdown",
   "metadata": {},
   "source": [
    "### Übung 2: **Aggregation der Daten** und Darstellung als Balkendiagramm\n",
    "\n",
    "Aggregieren Sie die Daten nach Jahreszahl und stellen sie das Aggregationsergebnis ebenfalls in einem Balkendiagramm dar. Die Achsen bleiben gleich.\n",
    "\n",
    "*Tipp: Neue Liste als Datenstruktur für die Aggregationsergebnisse verwenden.*"
   ]
  },
  {
   "cell_type": "code",
   "execution_count": null,
   "metadata": {},
   "outputs": [],
   "source": [
    "# TODO"
   ]
  },
  {
   "cell_type": "markdown",
   "metadata": {},
   "source": [
    "### Übung 3: **Speicherung von aggregierten Daten** als CSV-Datei\n",
    "\n",
    "Speichern Sie das Ergebnis der Aggregation aus der vorigen Übung in eine eigene CSV-Datei ab.\n",
    "\n",
    "*Tipp: Verwenden Sie eine Schleife, um die Datensätze in die Datei auszugeben.*"
   ]
  },
  {
   "cell_type": "code",
   "execution_count": null,
   "metadata": {},
   "outputs": [],
   "source": [
    "ausgabe = open(\"Ausgabe.csv\", \"w\")\n",
    "\n",
    "# TODO\n",
    "\n",
    "ausgabe.close()"
   ]
  },
  {
   "cell_type": "markdown",
   "metadata": {},
   "source": [
    "### Übung 4: **Aufteilung der Daten auf unterschiedliche Verzeichnisse** und CSV-Dateien\n",
    "\n",
    "Schreiben Sie ein Programm, das ein Verzeichnis `Ergebnis` anlegt. Des Weiteren soll im diesem Verzeichnis für jede Jahreszahl des ursprünglichen Datensatzes ein weiteres Verzeichnis angelegt werden (z.B. `Ergebnis/2024`). Dann soll in jedem Jahresverzeichnis für jede Monatszahl des ursprünglichen Datensatzes ein eigenes Verzeichnis angelegt werden (z.B. `Ergebnis/2024/1`). Schließlich soll in diesem Verzeichnis eine CSV-Datei `Biermenge.csv` angelegt werden, welche ausschließlich die in diesem Jahr und diesem Monat produzierte Biermenge enthält.\n",
    "\n",
    "*Tipp: Durchlaufen Sie dazu die Ausgangsdaten mit einer einfachen Schleife.*"
   ]
  },
  {
   "cell_type": "code",
   "execution_count": null,
   "metadata": {},
   "outputs": [],
   "source": [
    "import os\n",
    "\n",
    "os.mkdir(\"Ergebnis\")\n",
    "\n",
    "# TODO"
   ]
  },
  {
   "cell_type": "markdown",
   "metadata": {},
   "source": [
    "## Übungen zu Dateisystembäumen"
   ]
  },
  {
   "cell_type": "markdown",
   "metadata": {},
   "source": [
    "### Übung 5: **Ausgabe aller Dateipfade** unterhalb eines Startverzeichnisses\n",
    "\n",
    "Schreiben Sie eine Funktion, welche alle Dateipfade unterhalb eines gegebenen Verzeichnispfades sucht und ausgibt.\n",
    "\n",
    "*Tipp: Lassen Sie sich durch die Funktion für die Ausgabe aller Blattpfade in einer Baumstruktur inspirieren.*"
   ]
  },
  {
   "cell_type": "code",
   "execution_count": null,
   "metadata": {},
   "outputs": [],
   "source": [
    "import os\n",
    "\n",
    "def dateipfade(verzeichnispfad: str):\n",
    "\n",
    "    # TODO\n",
    "\n",
    "    pass\n",
    "\n",
    "dateipfade(\".\")"
   ]
  },
  {
   "cell_type": "markdown",
   "metadata": {},
   "source": [
    "### Übung 6: **Suche aller Dateien mit einem gegebenen Namen** unterhalb eines Startverzeichnisses\n",
    "\n",
    "Schreiben Sie eine Funktion, welche alle Dateien mit einem definierten Dateinamen unterhalb eines gegebenen Verzeichnispfades sucht und deren Dateipfade ausgibt.\n",
    "\n",
    "*Tipp: Diese Funktion ist eine Erweiterung der vorigen Funktion.*"
   ]
  },
  {
   "cell_type": "code",
   "execution_count": null,
   "metadata": {},
   "outputs": [],
   "source": [
    "import os\n",
    "\n",
    "def dateisuche(verzeichnispfad: str, dateiname: str):\n",
    "\n",
    "    # TODO\n",
    "\n",
    "    pass\n",
    "\n",
    "dateisuche(\".\", \"Messwerte.csv\")"
   ]
  }
 ],
 "metadata": {
  "language_info": {
   "name": "python"
  }
 },
 "nbformat": 4,
 "nbformat_minor": 2
}
