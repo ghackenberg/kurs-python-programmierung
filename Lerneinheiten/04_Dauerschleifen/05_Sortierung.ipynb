{
 "cells": [
  {
   "cell_type": "markdown",
   "metadata": {},
   "source": [
    "# Anwendungen mit Verzweigungen und Dauerschleifen - **Sortierung**"
   ]
  },
  {
   "cell_type": "markdown",
   "metadata": {},
   "source": [
    "## 1. Den **erstgrößten Wert** nach hinten schieben"
   ]
  },
  {
   "cell_type": "code",
   "execution_count": 12,
   "metadata": {},
   "outputs": [
    {
     "name": "stdout",
     "output_type": "stream",
     "text": [
      "[2, 0, 1, 4]\n"
     ]
    }
   ],
   "source": [
    "a = [4, 0, 1, 2]\n",
    "\n",
    "# Den letzten Wert zwischenspeichern\n",
    "\n",
    "letzter_index = len(a) - 1\n",
    "letzter_wert = a[letzter_index]\n",
    "\n",
    "# Den größten Wert und seine Position suchen\n",
    "\n",
    "maximum_index = 0\n",
    "maximum_wert = a[0]\n",
    "\n",
    "aktueller_index = 1\n",
    "\n",
    "while aktueller_index <= letzter_index:\n",
    "\n",
    "    if a[aktueller_index] > maximum_wert:\n",
    "\n",
    "        maximum_index = aktueller_index\n",
    "        maximum_wert = a[maximum_index]\n",
    "\n",
    "    aktueller_index = aktueller_index + 1\n",
    "\n",
    "# Den größten Wert ans Ende der Liste stellen\n",
    "\n",
    "a[letzter_index] = maximum_wert\n",
    "a[maximum_index] = letzter_wert\n",
    "\n",
    "# Liste ausgeben\n",
    "\n",
    "print(a)"
   ]
  },
  {
   "cell_type": "markdown",
   "metadata": {},
   "source": [
    "## 2. Den **zweitgrößten Wert** nach hinten schieben"
   ]
  },
  {
   "cell_type": "code",
   "execution_count": 13,
   "metadata": {},
   "outputs": [
    {
     "name": "stdout",
     "output_type": "stream",
     "text": [
      "[1, 0, 2, 4]\n"
     ]
    }
   ],
   "source": [
    "# Den letzten Wert zwischenspeichern\n",
    "\n",
    "letzter_index = len(a) - 2\n",
    "letzter_wert = a[letzter_index]\n",
    "\n",
    "# Den größten Wert und seine Position suchen\n",
    "\n",
    "maximum_index = 0\n",
    "maximum_wert = a[0]\n",
    "\n",
    "aktueller_index = 1\n",
    "\n",
    "while aktueller_index <= letzter_index:\n",
    "\n",
    "    if a[aktueller_index] > maximum_wert:\n",
    "\n",
    "        maximum_index = aktueller_index\n",
    "        maximum_wert = a[maximum_index]\n",
    "\n",
    "    aktueller_index = aktueller_index + 1\n",
    "\n",
    "# Den größten Wert ans Ende der Liste stellen\n",
    "\n",
    "a[letzter_index] = maximum_wert\n",
    "a[maximum_index] = letzter_wert\n",
    "\n",
    "# Liste ausgeben\n",
    "\n",
    "print(a)"
   ]
  },
  {
   "cell_type": "markdown",
   "metadata": {},
   "source": [
    "## 3. Den **drittgrößten Wert** nach hinten schieben"
   ]
  },
  {
   "cell_type": "code",
   "execution_count": 14,
   "metadata": {},
   "outputs": [
    {
     "name": "stdout",
     "output_type": "stream",
     "text": [
      "[0, 1, 2, 4]\n"
     ]
    }
   ],
   "source": [
    "# Den letzten Wert zwischenspeichern\n",
    "\n",
    "letzter_index = len(a) - 3\n",
    "letzter_wert = a[letzter_index]\n",
    "\n",
    "# Den größten Wert und seine Position suchen\n",
    "\n",
    "maximum_index = 0\n",
    "maximum_wert = a[0]\n",
    "\n",
    "aktueller_index = 1\n",
    "\n",
    "while aktueller_index <= letzter_index:\n",
    "\n",
    "    if a[aktueller_index] > maximum_wert:\n",
    "\n",
    "        maximum_index = aktueller_index\n",
    "        maximum_wert = a[maximum_index]\n",
    "\n",
    "    aktueller_index = aktueller_index + 1\n",
    "\n",
    "# Den größten Wert ans Ende der Liste stellen\n",
    "\n",
    "a[letzter_index] = maximum_wert\n",
    "a[maximum_index] = letzter_wert\n",
    "\n",
    "# Liste ausgeben\n",
    "\n",
    "print(a)"
   ]
  },
  {
   "cell_type": "markdown",
   "metadata": {},
   "source": [
    "## 4. **Beliebig lange Listen** aufsteigend sortieren"
   ]
  },
  {
   "cell_type": "code",
   "execution_count": 33,
   "metadata": {},
   "outputs": [
    {
     "name": "stdout",
     "output_type": "stream",
     "text": [
      "Zwischenergebnis = [4, 6, 2, 7, 0, 9, 5, -1]\n",
      "\tletzter Index = 7, letzter Wert = -1\n",
      "\tMaximum Index = 5, Maximum Wert = 9\n",
      "Zwischenergebnis = [4, 6, 2, 7, 0, -1, 5, 9]\n",
      "\tletzter Index = 6, letzter Wert = 5\n",
      "\tMaximum Index = 3, Maximum Wert = 7\n",
      "Zwischenergebnis = [4, 6, 2, 5, 0, -1, 7, 9]\n",
      "\tletzter Index = 5, letzter Wert = -1\n",
      "\tMaximum Index = 1, Maximum Wert = 6\n",
      "Zwischenergebnis = [4, -1, 2, 5, 0, 6, 7, 9]\n",
      "\tletzter Index = 4, letzter Wert = 0\n",
      "\tMaximum Index = 3, Maximum Wert = 5\n",
      "Zwischenergebnis = [4, -1, 2, 0, 5, 6, 7, 9]\n",
      "\tletzter Index = 3, letzter Wert = 0\n",
      "\tMaximum Index = 0, Maximum Wert = 4\n",
      "Zwischenergebnis = [0, -1, 2, 4, 5, 6, 7, 9]\n",
      "\tletzter Index = 2, letzter Wert = 2\n",
      "\tMaximum Index = 2, Maximum Wert = 2\n",
      "Zwischenergebnis = [0, -1, 2, 4, 5, 6, 7, 9]\n",
      "\tletzter Index = 1, letzter Wert = -1\n",
      "\tMaximum Index = 0, Maximum Wert = 0\n",
      "Endergebnis = [-1, 0, 2, 4, 5, 6, 7, 9]\n"
     ]
    }
   ],
   "source": [
    "a = [4, 6, 2, 7, 0, 9, 5, -1]\n",
    "\n",
    "letzter_index = len(a) - 1\n",
    "\n",
    "while letzter_index > 0:\n",
    "\n",
    "    # Liste ausgeben\n",
    "\n",
    "    print(f\"Zwischenergebnis = {a}\")\n",
    "\n",
    "    # Den letzten Wert zwischenspeichern\n",
    "\n",
    "    letzter_wert = a[letzter_index]\n",
    "\n",
    "    # Den größten Wert und seine Position suchen\n",
    "\n",
    "    maximum_index = 0\n",
    "    maximum_wert = a[0]\n",
    "\n",
    "    aktueller_index = 1\n",
    "\n",
    "    while aktueller_index <= letzter_index:\n",
    "\n",
    "        if a[aktueller_index] > maximum_wert:\n",
    "\n",
    "            maximum_index = aktueller_index\n",
    "            maximum_wert = a[maximum_index]\n",
    "\n",
    "        aktueller_index = aktueller_index + 1\n",
    "\n",
    "    # Den größten Wert ans Ende der Liste stellen\n",
    "\n",
    "    a[letzter_index] = maximum_wert\n",
    "    a[maximum_index] = letzter_wert\n",
    "\n",
    "    # Liste ausgeben\n",
    "\n",
    "    print(f\"\\tletzter Index = {letzter_index}, letzter Wert = {letzter_wert}\")\n",
    "    print(f\"\\tMaximum Index = {maximum_index}, Maximum Wert = {maximum_wert}\")\n",
    "\n",
    "    # Den letzten Index aktualisieren\n",
    "\n",
    "    letzter_index = letzter_index - 1\n",
    "\n",
    "print(f\"Endergebnis = {a}\")"
   ]
  },
  {
   "cell_type": "markdown",
   "metadata": {},
   "source": [
    "### Erklärung der Funktionsweise\n",
    "\n",
    "![](Zeichnungen/Sortieren.jpg)"
   ]
  },
  {
   "cell_type": "markdown",
   "metadata": {},
   "source": [
    "## 5. **Liste umsortieren** (aufsteigend nach absteigend)"
   ]
  },
  {
   "cell_type": "code",
   "execution_count": 55,
   "metadata": {},
   "outputs": [
    {
     "name": "stdout",
     "output_type": "stream",
     "text": [
      "[-1, 0, 2, 5, 4, 6, 7, 9]\n"
     ]
    }
   ],
   "source": [
    "index_vorne = 0\n",
    "\n",
    "while index_vorne < len(a) // 2:\n",
    "\n",
    "    index_hinten = len(a) - 1 - index_vorne\n",
    "\n",
    "    # Zwischenspeicher für Tausch\n",
    "    zwischenspeicher = a[index_vorne]\n",
    "\n",
    "    # Tauschen hinten nach vorne\n",
    "    a[index_vorne] = a[index_hinten]\n",
    "    # Tauschen vorne nach hinten\n",
    "    a[index_hinten] = zwischenspeicher\n",
    "\n",
    "    index_vorne = index_vorne + 1\n",
    "\n",
    "print(a)"
   ]
  },
  {
   "cell_type": "markdown",
   "metadata": {},
   "source": [
    "### Erklärung der Funktionsweise\n",
    "\n",
    "![](./Zeichnungen/Umsortieren.jpg)"
   ]
  }
 ],
 "metadata": {
  "kernelspec": {
   "display_name": "Python 3",
   "language": "python",
   "name": "python3"
  },
  "language_info": {
   "codemirror_mode": {
    "name": "ipython",
    "version": 3
   },
   "file_extension": ".py",
   "mimetype": "text/x-python",
   "name": "python",
   "nbconvert_exporter": "python",
   "pygments_lexer": "ipython3",
   "version": "3.12.1"
  }
 },
 "nbformat": 4,
 "nbformat_minor": 2
}
