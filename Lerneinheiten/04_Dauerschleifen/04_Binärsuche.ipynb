{
 "cells": [
  {
   "cell_type": "markdown",
   "metadata": {},
   "source": [
    "# Anwendungen und Dauerschleifen - **Binärsuche**\n",
    "\n",
    "Gegeben ist eine sortierte Liste von Zahlen. Gesucht ist die Position einer vorgegebenen Zahl in der Liste."
   ]
  },
  {
   "cell_type": "code",
   "execution_count": 28,
   "metadata": {},
   "outputs": [
    {
     "name": "stdout",
     "output_type": "stream",
     "text": [
      "Bereiche von 0 bis 5\n",
      "\tzahlenliste[2] = 7\n",
      "Bereiche von 0 bis 1\n",
      "\tzahlenliste[0] = 1\n",
      "Zahl nicht gefunden!\n"
     ]
    }
   ],
   "source": [
    "zahlenliste = [1, 5, 7, 9, 12, 33]\n",
    "\n",
    "gesuchte_zahl = -6\n",
    "\n",
    "# Suche der Zahl in der Liste\n",
    "\n",
    "untere_grenze = 0\n",
    "obere_grenze = len(zahlenliste) - 1\n",
    "\n",
    "while untere_grenze <= obere_grenze:\n",
    "\n",
    "    print(f\"Bereiche von {untere_grenze} bis {obere_grenze}\")\n",
    "\n",
    "    # Mittleren Wert des aktuellen Bereichs bestimmen\n",
    "\n",
    "    mitte_index = untere_grenze + (obere_grenze - untere_grenze) // 2\n",
    "    mitte_wert = zahlenliste[mitte_index]\n",
    "\n",
    "    print(f\"\\tzahlenliste[{mitte_index}] = {mitte_wert}\")\n",
    "\n",
    "    if mitte_wert < gesuchte_zahl:\n",
    "\n",
    "        # Mittlerer Wert ist kleiner als die gesuchte Zahl\n",
    "        untere_grenze = mitte_index + 1\n",
    "\n",
    "    elif mitte_wert > gesuchte_zahl:\n",
    "\n",
    "        # Mittlerer Wert ist größer als die gesuchte Zahl\n",
    "        obere_grenze = mitte_index - 1\n",
    "    \n",
    "    else:\n",
    "\n",
    "        # Mittlerer Wert ist gleich der gesuchten Zahl\n",
    "        untere_grenze = mitte_index\n",
    "        obere_grenze = mitte_index\n",
    "\n",
    "        break\n",
    "\n",
    "# Ausgabe des Suchergebnisses\n",
    "\n",
    "if untere_grenze == obere_grenze:\n",
    "    print(f\"zahlenliste[{untere_grenze}] = {gesuchte_zahl}\")\n",
    "else:\n",
    "    print(\"Zahl nicht gefunden!\")"
   ]
  },
  {
   "cell_type": "markdown",
   "metadata": {},
   "source": [
    "## 1. Erklärung der Funktionsweise\n",
    "\n",
    "### **Fall 1:** Zahl ist in der Liste enthalten\n",
    "\n",
    "Im ersten Fall ist die Zahl in der Liste enthalten und kann erfolgreich gefunden werden.\n",
    "\n",
    "![](./Zeichnungen/Binärsuche_Erfolg.jpg)\n",
    "\n",
    "### **Fall 2:** Zahl ist nicht in der Liste enthalten\n",
    "\n",
    "Im zweiten Fall ist die Zahl nicht in der Liste enthalten und die Suche muss mit einem Fehler abgebrochen werden.\n",
    "\n",
    "![](./Zeichnungen/Binärsuche_Fehler.jpg)"
   ]
  },
  {
   "cell_type": "markdown",
   "metadata": {},
   "source": [
    "## 2. Erklärung der Komplexität\n",
    "\n",
    "Der Algorithmus hat logarithmische Komplexität, weil die Größe der Liste bei jedem Schleifendurchlauf halbiert wird. Die Gesamtlänge der Liste lässt sich logarischmisch oft halbieren.\n",
    "\n",
    "![](Zeichnungen/Logarithmus_1.jpg)\n",
    "\n",
    "Die Halbierung der Listenbereiche lässt sich auch gut grafisch darstellen (wie im folgenden Tafelbild gezeigt).\n",
    "\n",
    "![](Zeichnungen/Logarithmus_2.jpg)"
   ]
  }
 ],
 "metadata": {
  "kernelspec": {
   "display_name": "Python 3",
   "language": "python",
   "name": "python3"
  },
  "language_info": {
   "codemirror_mode": {
    "name": "ipython",
    "version": 3
   },
   "file_extension": ".py",
   "mimetype": "text/x-python",
   "name": "python",
   "nbconvert_exporter": "python",
   "pygments_lexer": "ipython3",
   "version": "3.12.2"
  }
 },
 "nbformat": 4,
 "nbformat_minor": 2
}
