{
 "cells": [
  {
   "cell_type": "markdown",
   "metadata": {},
   "source": [
    "# Anwendungen mit Verzweigungen und Dauerschleifen - **Minimum**"
   ]
  },
  {
   "cell_type": "code",
   "execution_count": null,
   "metadata": {},
   "outputs": [],
   "source": [
    "liste = [-1, 3, -5]\n",
    "\n",
    "ergebnis = liste[0]\n",
    "\n",
    "index = 0\n",
    "\n",
    "while index < len(liste):\n",
    "    if liste[index] < ergebnis:\n",
    "        ergebnis = liste[index]\n",
    "    index = index + 1\n",
    "\n",
    "print(ergebnis)"
   ]
  }
 ],
 "metadata": {
  "language_info": {
   "name": "python"
  }
 },
 "nbformat": 4,
 "nbformat_minor": 2
}
