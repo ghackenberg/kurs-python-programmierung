{
 "cells": [
  {
   "cell_type": "markdown",
   "metadata": {},
   "source": [
    "# Anwendungen und Dauerschleifen - **Maximum**"
   ]
  },
  {
   "cell_type": "markdown",
   "metadata": {},
   "source": [
    "## 1. **Größte Zahl** in einer Liste finden\n",
    "\n",
    "Gegeben sei eine Liste von Zahlen. Gesucht ist der Wert der größten Zahl in dieser Liste."
   ]
  },
  {
   "cell_type": "markdown",
   "metadata": {},
   "source": [
    "### 1.1. Langform (mit Zwischenausgaben)"
   ]
  },
  {
   "cell_type": "code",
   "execution_count": 2,
   "metadata": {},
   "outputs": [
    {
     "name": "stdout",
     "output_type": "stream",
     "text": [
      "Zwischenergebnis = 5\n",
      "\tIndex = 1, Wert = 7\n",
      "\t7 ist größer als bisheriges Maximum 5\n",
      "\tZwischenergebnis wird aktualisiert\n",
      "Zwischenergebnis = 7\n",
      "\tIndex = 2, Wert = 1\n",
      "\t1 ist nicht größer als bisheriges Maximum 7\n",
      "\tZwischenergebnis wird nicht aktualisiert\n",
      "Zwischenergebnis = 7\n",
      "\tIndex = 3, Wert = 8\n",
      "\t8 ist größer als bisheriges Maximum 7\n",
      "\tZwischenergebnis wird aktualisiert\n",
      "Zwischenergebnis = 8\n",
      "\tIndex = 4, Wert = 3\n",
      "\t3 ist nicht größer als bisheriges Maximum 8\n",
      "\tZwischenergebnis wird nicht aktualisiert\n",
      "Zwischenergebnis = 8\n",
      "\tIndex = 5, Wert = 20\n",
      "\t20 ist größer als bisheriges Maximum 8\n",
      "\tZwischenergebnis wird aktualisiert\n",
      "Zwischenergebnis = 20\n",
      "\tIndex = 6, Wert = 0\n",
      "\t0 ist nicht größer als bisheriges Maximum 20\n",
      "\tZwischenergebnis wird nicht aktualisiert\n",
      "Endergebnis = 20\n"
     ]
    }
   ],
   "source": [
    "a = [5, 7, 1, 8, 3, 20, 0]\n",
    "\n",
    "maximum_wert = a[0]\n",
    "\n",
    "index = 1\n",
    "\n",
    "while index < len(a):\n",
    "    \n",
    "    print(f\"Zwischenergebnis = {maximum_wert}\")\n",
    "    print(f\"\\tIndex = {index}, Wert = {a[index]}\")\n",
    "\n",
    "    if a[index] > maximum_wert:\n",
    "        # Wir haben einen größeren Wert gefunden!\n",
    "\n",
    "        print(f\"\\t{a[index]} ist größer als bisheriges Maximum {maximum_wert}\")\n",
    "        print(f\"\\tZwischenergebnis wird aktualisiert\")\n",
    "\n",
    "        maximum_wert = a[index]\n",
    "\n",
    "    else:\n",
    "        # Wir haben keinen größeren Wert gefunden!\n",
    "\n",
    "        print(f\"\\t{a[index]} ist nicht größer als bisheriges Maximum {maximum_wert}\")\n",
    "        print(f\"\\tZwischenergebnis wird nicht aktualisiert\")\n",
    "\n",
    "    index = index + 1\n",
    "\n",
    "print(f\"Endergebnis = {maximum_wert}\")"
   ]
  },
  {
   "cell_type": "markdown",
   "metadata": {},
   "source": [
    "### 1.2. Kurzform (ohne Zwischenausgaben)"
   ]
  },
  {
   "cell_type": "code",
   "execution_count": null,
   "metadata": {},
   "outputs": [],
   "source": [
    "a = [5, 7, 1]\n",
    "\n",
    "maximum_wert = a[0]\n",
    "\n",
    "index = 1\n",
    "\n",
    "while index < len(a):\n",
    "\n",
    "    if a[index] > maximum_wert:\n",
    "        maximum_wert = a[index]\n",
    "\n",
    "    index = index + 1\n",
    "\n",
    "print(f\"Endergebnis = {maximum_wert}\")"
   ]
  },
  {
   "cell_type": "markdown",
   "metadata": {},
   "source": [
    "## 2. **Position der größten Zahl** in einer Liste finden\n",
    "\n",
    "Gegeben sei eine Liste von Zahlen. Gesucht ist der Wert und die Position der größten Zahl in der Liste."
   ]
  },
  {
   "cell_type": "markdown",
   "metadata": {},
   "source": [
    "### 2.1. Langform (mit Zwischenausgaben)"
   ]
  },
  {
   "cell_type": "code",
   "execution_count": 4,
   "metadata": {},
   "outputs": [
    {
     "name": "stdout",
     "output_type": "stream",
     "text": [
      "Zwischenergebnis (Wert) = 5\n",
      "Zwischenergebnis (Index) = 0\n",
      "\tIndex = 1, Wert = 7\n",
      "\t7 ist größer als bisheriges Maximum 5\n",
      "\tZwischenergebnis wird aktualisiert\n",
      "Zwischenergebnis (Wert) = 7\n",
      "Zwischenergebnis (Index) = 1\n",
      "\tIndex = 2, Wert = 1\n",
      "\t1 ist nicht größer als bisheriges Maximum 7\n",
      "\tZwischenergebnis wird nicht aktualisiert\n",
      "Zwischenergebnis (Wert) = 7\n",
      "Zwischenergebnis (Index) = 1\n",
      "\tIndex = 3, Wert = 8\n",
      "\t8 ist größer als bisheriges Maximum 7\n",
      "\tZwischenergebnis wird aktualisiert\n",
      "Zwischenergebnis (Wert) = 8\n",
      "Zwischenergebnis (Index) = 3\n",
      "\tIndex = 4, Wert = 3\n",
      "\t3 ist nicht größer als bisheriges Maximum 8\n",
      "\tZwischenergebnis wird nicht aktualisiert\n",
      "Zwischenergebnis (Wert) = 8\n",
      "Zwischenergebnis (Index) = 3\n",
      "\tIndex = 5, Wert = 20\n",
      "\t20 ist größer als bisheriges Maximum 8\n",
      "\tZwischenergebnis wird aktualisiert\n",
      "Zwischenergebnis (Wert) = 20\n",
      "Zwischenergebnis (Index) = 5\n",
      "\tIndex = 6, Wert = 0\n",
      "\t0 ist nicht größer als bisheriges Maximum 20\n",
      "\tZwischenergebnis wird nicht aktualisiert\n",
      "Endergebnis (Wert) = 20\n",
      "Endergebnis (Index) = 5\n"
     ]
    }
   ],
   "source": [
    "a = [5, 7, 1, 8, 3, 20, 0]\n",
    "\n",
    "maximum_wert = a[0]\n",
    "maximum_index = 0\n",
    "\n",
    "index = 1\n",
    "\n",
    "while index < len(a):\n",
    "    \n",
    "    print(f\"Zwischenergebnis (Wert) = {maximum_wert}\")\n",
    "    print(f\"Zwischenergebnis (Index) = {maximum_index}\")\n",
    "\n",
    "    print(f\"\\tIndex = {index}, Wert = {a[index]}\")\n",
    "\n",
    "    if a[index] > maximum_wert:\n",
    "        # Wir haben einen größeren Wert gefunden!\n",
    "\n",
    "        print(f\"\\t{a[index]} ist größer als bisheriges Maximum {maximum_wert}\")\n",
    "        print(f\"\\tZwischenergebnis wird aktualisiert\")\n",
    "\n",
    "        maximum_wert = a[index]\n",
    "        maximum_index = index\n",
    "\n",
    "    else:\n",
    "        # Wir haben keinen größeren Wert gefunden!\n",
    "\n",
    "        print(f\"\\t{a[index]} ist nicht größer als bisheriges Maximum {maximum_wert}\")\n",
    "        print(f\"\\tZwischenergebnis wird nicht aktualisiert\")\n",
    "\n",
    "    index = index + 1\n",
    "\n",
    "print(f\"Endergebnis (Wert) = {maximum_wert}\")\n",
    "print(f\"Endergebnis (Index) = {maximum_index}\")"
   ]
  },
  {
   "cell_type": "markdown",
   "metadata": {},
   "source": [
    "### 2.2. Kurzform (ohne Zwischenausgaben)"
   ]
  },
  {
   "cell_type": "code",
   "execution_count": null,
   "metadata": {},
   "outputs": [],
   "source": [
    "a = [5, 7, 1]\n",
    "\n",
    "maximum_wert = a[0]\n",
    "maximum_index = 0\n",
    "\n",
    "index = 1\n",
    "\n",
    "while index < len(a):\n",
    "\n",
    "    if a[index] > maximum_wert:\n",
    "\n",
    "        maximum_wert = a[index]\n",
    "        maximum_index = index\n",
    "\n",
    "    index = index + 1\n",
    "\n",
    "print(f\"Endergebnis (Wert) = {maximum_wert}\")\n",
    "print(f\"Endergebnis (Index) = {maximum_index}\")"
   ]
  }
 ],
 "metadata": {
  "kernelspec": {
   "display_name": "Python 3",
   "language": "python",
   "name": "python3"
  },
  "language_info": {
   "codemirror_mode": {
    "name": "ipython",
    "version": 3
   },
   "file_extension": ".py",
   "mimetype": "text/x-python",
   "name": "python",
   "nbconvert_exporter": "python",
   "pygments_lexer": "ipython3",
   "version": "3.12.1"
  }
 },
 "nbformat": 4,
 "nbformat_minor": 2
}
