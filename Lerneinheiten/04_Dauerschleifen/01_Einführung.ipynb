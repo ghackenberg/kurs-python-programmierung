{
 "cells": [
  {
   "cell_type": "markdown",
   "metadata": {},
   "source": [
    "# Dauerschleifen (Schlüsselwort `while`)"
   ]
  },
  {
   "cell_type": "markdown",
   "metadata": {},
   "source": [
    "## Endlosschleife"
   ]
  },
  {
   "cell_type": "code",
   "execution_count": null,
   "metadata": {},
   "outputs": [],
   "source": [
    "# Nicht ausführen!!\n",
    "\n",
    "Bedingung = True\n",
    "\n",
    "while Bedingung:\n",
    "    # Schleifenkörper\n",
    "    print(\"x\")"
   ]
  },
  {
   "cell_type": "markdown",
   "metadata": {},
   "source": [
    "## Endliche Schleife"
   ]
  },
  {
   "cell_type": "code",
   "execution_count": 4,
   "metadata": {},
   "outputs": [
    {
     "name": "stdout",
     "output_type": "stream",
     "text": [
      "0\n",
      "1\n",
      "2\n",
      "3\n"
     ]
    }
   ],
   "source": [
    "# Programm gibt ganze Zahlen von 0 bis 3 (inklusive) aus\n",
    "\n",
    "index = 0\n",
    "\n",
    "while index < 4:\n",
    "    print(index)\n",
    "    index = index + 1"
   ]
  },
  {
   "cell_type": "markdown",
   "metadata": {},
   "source": [
    "## `else`-Zweig"
   ]
  },
  {
   "cell_type": "code",
   "execution_count": 5,
   "metadata": {},
   "outputs": [
    {
     "name": "stdout",
     "output_type": "stream",
     "text": [
      "0\n",
      "1\n",
      "2\n",
      "3\n",
      "4\n",
      "5\n",
      "6\n",
      "7\n",
      "8\n",
      "9\n",
      "Ende\n"
     ]
    }
   ],
   "source": [
    "index = 0\n",
    "\n",
    "while index < 10:\n",
    "    print(index)\n",
    "    index = index + 1\n",
    "else:\n",
    "    print(\"Ende\")"
   ]
  },
  {
   "cell_type": "markdown",
   "metadata": {},
   "source": [
    "## Schlüsselwort `break`"
   ]
  },
  {
   "cell_type": "code",
   "execution_count": 6,
   "metadata": {},
   "outputs": [
    {
     "name": "stdout",
     "output_type": "stream",
     "text": [
      "0\n",
      "1\n",
      "2\n",
      "3\n",
      "4\n",
      "5\n",
      "6\n",
      "7\n",
      "8\n",
      "9\n"
     ]
    }
   ],
   "source": [
    "index = 0\n",
    "\n",
    "while True: # Prinzipiell eine Endlosschleife\n",
    "    if index == 10:\n",
    "        break # Führt zum direkten Abbruch der Schleife \n",
    "    print(index)\n",
    "    index = index + 1"
   ]
  },
  {
   "cell_type": "markdown",
   "metadata": {},
   "source": [
    "## Schlüsselwort `continue`"
   ]
  },
  {
   "cell_type": "code",
   "execution_count": 7,
   "metadata": {},
   "outputs": [
    {
     "data": {
      "text/plain": [
       "1"
      ]
     },
     "execution_count": 7,
     "metadata": {},
     "output_type": "execute_result"
    }
   ],
   "source": [
    "1 % 2 # 1 = 0 * 2 + Rest 1"
   ]
  },
  {
   "cell_type": "code",
   "execution_count": 8,
   "metadata": {},
   "outputs": [
    {
     "data": {
      "text/plain": [
       "0"
      ]
     },
     "execution_count": 8,
     "metadata": {},
     "output_type": "execute_result"
    }
   ],
   "source": [
    "2 % 2 # 2 = 1 * 2 + Rest 0"
   ]
  },
  {
   "cell_type": "code",
   "execution_count": 9,
   "metadata": {},
   "outputs": [
    {
     "data": {
      "text/plain": [
       "1"
      ]
     },
     "execution_count": 9,
     "metadata": {},
     "output_type": "execute_result"
    }
   ],
   "source": [
    "3 % 2 # 3 = 1 * 2 + Rest 1"
   ]
  },
  {
   "cell_type": "code",
   "execution_count": 10,
   "metadata": {},
   "outputs": [
    {
     "data": {
      "text/plain": [
       "0"
      ]
     },
     "execution_count": 10,
     "metadata": {},
     "output_type": "execute_result"
    }
   ],
   "source": [
    "4 % 2 # 4 = 2 * 2 + Rest 0"
   ]
  },
  {
   "cell_type": "code",
   "execution_count": 11,
   "metadata": {},
   "outputs": [
    {
     "name": "stdout",
     "output_type": "stream",
     "text": [
      "1\n",
      "3\n",
      "5\n",
      "7\n",
      "9\n"
     ]
    }
   ],
   "source": [
    "index = 0\n",
    "\n",
    "while True: # Prinzipiell eine Endlosschleife\n",
    "    index = index + 1\n",
    "    if index == 10:\n",
    "        break # Manuellen Schleifenabbruch\n",
    "    if index % 2 == 0:\n",
    "        continue # Manueller Abbruch des aktuellen Schleifendurchlaufs\n",
    "        # Ignoriere den Rest des Schleifenkörpers (d.h. print)\n",
    "    print(index)"
   ]
  },
  {
   "cell_type": "markdown",
   "metadata": {},
   "source": [
    "## Anwendungen"
   ]
  },
  {
   "cell_type": "markdown",
   "metadata": {},
   "source": [
    "### Anwendung 1: Exponentialfunktion"
   ]
  },
  {
   "cell_type": "code",
   "execution_count": 24,
   "metadata": {},
   "outputs": [
    {
     "name": "stdout",
     "output_type": "stream",
     "text": [
      "Durchlauf 0: 2\n",
      "Durchlauf 1: 4\n",
      "Durchlauf 2: 8\n",
      "Durchlauf 3: 16\n",
      "Durchlauf 4: 32\n",
      "Durchlauf 5: 64\n",
      "Durchlauf 6: 128\n",
      "Durchlauf 7: 256\n",
      "Durchlauf 8: 512\n",
      "Durchlauf 9: 1024\n"
     ]
    }
   ],
   "source": [
    "basis = 2\n",
    "exponent = 10\n",
    "ergebnis = 1\n",
    "\n",
    "index = 0 # Schleifendurchläufe zählen\n",
    "\n",
    "while index < exponent:\n",
    "    ergebnis = ergebnis * basis\n",
    "\n",
    "    print(f\"Durchlauf {index}: {ergebnis}\")\n",
    "\n",
    "    index = index + 1"
   ]
  },
  {
   "cell_type": "markdown",
   "metadata": {},
   "source": [
    "### Anwendung 2: Summe der Listenelemente"
   ]
  },
  {
   "cell_type": "code",
   "execution_count": 26,
   "metadata": {},
   "outputs": [
    {
     "name": "stdout",
     "output_type": "stream",
     "text": [
      "Durchlauf 0: 1\n",
      "Durchlauf 1: 6\n",
      "Durchlauf 2: 13\n",
      "Durchlauf 3: 8\n",
      "Durchlauf 4: 2\n",
      "Durchlauf 5: 11\n"
     ]
    }
   ],
   "source": [
    "liste = [1, 5, 7, -5, -6, 9]\n",
    "ergebnis = 0\n",
    "\n",
    "index = 0\n",
    "\n",
    "while index < len(liste):\n",
    "\n",
    "    ergebnis = ergebnis + liste[index]\n",
    "\n",
    "    print(f\"Durchlauf {index}: {ergebnis}\")\n",
    "\n",
    "    index = index + 1"
   ]
  },
  {
   "cell_type": "markdown",
   "metadata": {},
   "source": [
    "### Anwendung 3: \"Robuste\" Zahleneingabe"
   ]
  },
  {
   "cell_type": "code",
   "execution_count": 28,
   "metadata": {},
   "outputs": [
    {
     "name": "stdout",
     "output_type": "stream",
     "text": [
      "Das war keine Zahl!\n",
      "Das war keine Zahl!\n",
      "Das war keine Zahl!\n",
      "Das war keine Zahl!\n",
      "Das war keine Zahl!\n",
      "Das war keine Zahl!\n",
      "Das war keine Zahl!\n",
      "Das war keine Zahl!\n",
      "Das war keine Zahl!\n",
      "Das war keine Zahl!\n",
      "Das war keine Zahl!\n",
      "Das war keine Zahl!\n",
      "Danke!\n",
      "3\n"
     ]
    }
   ],
   "source": [
    "zahl = None\n",
    "\n",
    "while True:\n",
    "    try:\n",
    "        string = input(\"Bitte eine Zahl eingeben:\")\n",
    "        zahl = int(string)\n",
    "        print(\"Danke!\")\n",
    "        break\n",
    "    except:\n",
    "        print(\"Das war keine Zahl!\")\n",
    "        continue\n",
    "\n",
    "print(zahl)"
   ]
  }
 ],
 "metadata": {
  "kernelspec": {
   "display_name": "Python 3",
   "language": "python",
   "name": "python3"
  },
  "language_info": {
   "codemirror_mode": {
    "name": "ipython",
    "version": 3
   },
   "file_extension": ".py",
   "mimetype": "text/x-python",
   "name": "python",
   "nbconvert_exporter": "python",
   "pygments_lexer": "ipython3",
   "version": "3.12.2"
  }
 },
 "nbformat": 4,
 "nbformat_minor": 2
}
