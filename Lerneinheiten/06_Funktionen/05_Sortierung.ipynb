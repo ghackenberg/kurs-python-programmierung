{
 "cells": [
  {
   "cell_type": "markdown",
   "metadata": {},
   "source": [
    "# Anwendungen von Funktionen - Sortierung\n",
    "\n",
    "Grundsätzlich werden Funktion dafür verwendet, größere Programme in kleinere Unterprogramme zu gliedern und somit die Übersichtlichkeit zu verbessern. Außerdem ermöglichen Funktionen die Wiederverwendung von Unterprogrammen wie z.B. bei der Sortierung von Zahlenlisten."
   ]
  },
  {
   "cell_type": "markdown",
   "metadata": {},
   "source": [
    "## 1. Funktionsdefinition"
   ]
  },
  {
   "cell_type": "code",
   "execution_count": 1,
   "metadata": {},
   "outputs": [],
   "source": [
    "def sortierenEinfach(liste: list[int]) -> list[int]:\n",
    "\n",
    "    letzter_index = len(liste) - 1\n",
    "\n",
    "    while letzter_index > 0:\n",
    "\n",
    "        # Den letzten Wert zwischenspeichern\n",
    "\n",
    "        letzter_wert = liste[letzter_index]\n",
    "\n",
    "        # Den größten Wert und seine Position suchen\n",
    "\n",
    "        maximum_index = 0\n",
    "        maximum_wert = liste[0]\n",
    "\n",
    "        aktueller_index = 1\n",
    "\n",
    "        while aktueller_index <= letzter_index:\n",
    "\n",
    "            if liste[aktueller_index] > maximum_wert:\n",
    "\n",
    "                maximum_index = aktueller_index\n",
    "                maximum_wert = liste[maximum_index]\n",
    "\n",
    "            aktueller_index = aktueller_index + 1\n",
    "\n",
    "        # Den größten Wert ans Ende der Liste stellen\n",
    "\n",
    "        liste[letzter_index] = maximum_wert\n",
    "        liste[maximum_index] = letzter_wert\n",
    "\n",
    "        # Den letzten Index aktualisieren\n",
    "\n",
    "        letzter_index = letzter_index - 1\n",
    "    \n",
    "    return liste\n",
    "\n",
    "# [1, -1, 5].sort()"
   ]
  },
  {
   "cell_type": "markdown",
   "metadata": {},
   "source": [
    "## 2. Funktionsaufrufe"
   ]
  },
  {
   "cell_type": "code",
   "execution_count": 2,
   "metadata": {},
   "outputs": [
    {
     "data": {
      "text/plain": [
       "[-10, -7, -5, 5, 9, 10, 20]"
      ]
     },
     "execution_count": 2,
     "metadata": {},
     "output_type": "execute_result"
    }
   ],
   "source": [
    "sortierenEinfach([-5, -7, 10, 5, -10, 20, 9])"
   ]
  },
  {
   "cell_type": "code",
   "execution_count": 3,
   "metadata": {},
   "outputs": [
    {
     "data": {
      "text/plain": [
       "[0, 1, 2, 4, 5, 7, 10]"
      ]
     },
     "execution_count": 3,
     "metadata": {},
     "output_type": "execute_result"
    }
   ],
   "source": [
    "sortierenEinfach([2, 1, 5, 7, 0, 10, 4])"
   ]
  }
 ],
 "metadata": {
  "kernelspec": {
   "display_name": "Python 3",
   "language": "python",
   "name": "python3"
  },
  "language_info": {
   "codemirror_mode": {
    "name": "ipython",
    "version": 3
   },
   "file_extension": ".py",
   "mimetype": "text/x-python",
   "name": "python",
   "nbconvert_exporter": "python",
   "pygments_lexer": "ipython3",
   "version": "3.12.2"
  }
 },
 "nbformat": 4,
 "nbformat_minor": 2
}
