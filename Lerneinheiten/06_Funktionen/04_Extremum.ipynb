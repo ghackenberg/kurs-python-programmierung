{
 "cells": [
  {
   "cell_type": "markdown",
   "metadata": {},
   "source": [
    "# Anwendungen von Funktionen - Extremum\n",
    "\n",
    "Grundsätzlich werden Funktion dafür verwendet, größere Programme in kleinere Unterprogramme zu gliedern und somit die Übersichtlichkeit zu verbessern. Außerdem ermöglichen Funktionen die Wiederverwendung von Unterprogrammen wie z.B. bei der Sortierung von Zahlenlisten."
   ]
  },
  {
   "cell_type": "markdown",
   "metadata": {},
   "source": [
    "## 1. Maximum"
   ]
  },
  {
   "cell_type": "markdown",
   "metadata": {},
   "source": [
    "### 1.1. Funktionsdefinition"
   ]
  },
  {
   "cell_type": "code",
   "execution_count": 1,
   "metadata": {},
   "outputs": [],
   "source": [
    "def maximum(liste: list[int]) -> int:\n",
    "    ergebnis = liste[0]\n",
    "    for element in liste:\n",
    "        if element > ergebnis:\n",
    "            ergebnis = element\n",
    "    return ergebnis\n",
    "\n",
    "# max([1, 5])"
   ]
  },
  {
   "cell_type": "markdown",
   "metadata": {},
   "source": [
    "### 1.2. Funktionsaufrufe"
   ]
  },
  {
   "cell_type": "code",
   "execution_count": 2,
   "metadata": {},
   "outputs": [
    {
     "data": {
      "text/plain": [
       "10"
      ]
     },
     "execution_count": 2,
     "metadata": {},
     "output_type": "execute_result"
    }
   ],
   "source": [
    "maximum([5, 7, 10, -1])"
   ]
  },
  {
   "cell_type": "code",
   "execution_count": 3,
   "metadata": {},
   "outputs": [
    {
     "data": {
      "text/plain": [
       "-1"
      ]
     },
     "execution_count": 3,
     "metadata": {},
     "output_type": "execute_result"
    }
   ],
   "source": [
    "maximum([-1, -6, -10, -2])"
   ]
  },
  {
   "cell_type": "markdown",
   "metadata": {},
   "source": [
    "## 2. Maximum und Position"
   ]
  },
  {
   "cell_type": "markdown",
   "metadata": {},
   "source": [
    "### 2.1. Funktionsdefinition"
   ]
  },
  {
   "cell_type": "code",
   "execution_count": 4,
   "metadata": {},
   "outputs": [],
   "source": [
    "def maximumMitIndex(liste: list[int]) -> tuple[int, int]:\n",
    "\n",
    "    ergebnis_wert = liste[0]\n",
    "    ergebnis_index = 0\n",
    "    \n",
    "    for index, wert in enumerate(liste):\n",
    "        if wert > ergebnis_wert:\n",
    "            ergebnis_wert = wert\n",
    "            ergebnis_index = index\n",
    "    \n",
    "    return ergebnis_index, ergebnis_wert"
   ]
  },
  {
   "cell_type": "markdown",
   "metadata": {},
   "source": [
    "### 2.2. Funktionsaufrufe"
   ]
  },
  {
   "cell_type": "code",
   "execution_count": 5,
   "metadata": {},
   "outputs": [
    {
     "data": {
      "text/plain": [
       "(2, 20)"
      ]
     },
     "execution_count": 5,
     "metadata": {},
     "output_type": "execute_result"
    }
   ],
   "source": [
    "maximumMitIndex([5, 10, 20, -10, -20])"
   ]
  },
  {
   "cell_type": "code",
   "execution_count": 6,
   "metadata": {},
   "outputs": [
    {
     "data": {
      "text/plain": [
       "(2, 5)"
      ]
     },
     "execution_count": 6,
     "metadata": {},
     "output_type": "execute_result"
    }
   ],
   "source": [
    "maximumMitIndex([-2, -1, 5])"
   ]
  },
  {
   "cell_type": "code",
   "execution_count": 7,
   "metadata": {},
   "outputs": [
    {
     "name": "stdout",
     "output_type": "stream",
     "text": [
      "index = 4\n",
      "wert = 20\n"
     ]
    }
   ],
   "source": [
    "index, wert = maximumMitIndex([-5, 0, 7, -9, 20, -3])\n",
    "\n",
    "print(f\"index = {index}\")\n",
    "print(f\"wert = {wert}\")"
   ]
  }
 ],
 "metadata": {
  "kernelspec": {
   "display_name": "Python 3",
   "language": "python",
   "name": "python3"
  },
  "language_info": {
   "codemirror_mode": {
    "name": "ipython",
    "version": 3
   },
   "file_extension": ".py",
   "mimetype": "text/x-python",
   "name": "python",
   "nbconvert_exporter": "python",
   "pygments_lexer": "ipython3",
   "version": "3.12.2"
  }
 },
 "nbformat": 4,
 "nbformat_minor": 2
}
