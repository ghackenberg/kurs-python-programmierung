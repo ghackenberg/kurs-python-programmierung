{
 "cells": [
  {
   "cell_type": "markdown",
   "metadata": {},
   "source": [
    "# Variablengültigkeit"
   ]
  },
  {
   "cell_type": "markdown",
   "metadata": {},
   "source": [
    "## 1. Jupyter Blöcke und Variablen"
   ]
  },
  {
   "cell_type": "markdown",
   "metadata": {},
   "source": [
    "Definition einer Variable in einem Block."
   ]
  },
  {
   "cell_type": "code",
   "execution_count": null,
   "metadata": {},
   "outputs": [],
   "source": [
    "a = 5"
   ]
  },
  {
   "cell_type": "markdown",
   "metadata": {},
   "source": [
    "Nutzung der Variable in einem anderen Block."
   ]
  },
  {
   "cell_type": "code",
   "execution_count": null,
   "metadata": {},
   "outputs": [],
   "source": [
    "print(a + 10)"
   ]
  },
  {
   "cell_type": "markdown",
   "metadata": {},
   "source": [
    "## 2. Globale Variablen"
   ]
  },
  {
   "cell_type": "markdown",
   "metadata": {},
   "source": [
    "### 2.1. Globale Variablen und Funktionen\n",
    "\n",
    "Globale Variablen sind grundsätzlich innerhalb von Funktionen sichtbar und können gelesen bzw. geschrieben werden."
   ]
  },
  {
   "cell_type": "code",
   "execution_count": null,
   "metadata": {},
   "outputs": [],
   "source": [
    "# Globale Variable\n",
    "\n",
    "c = 5\n",
    "\n",
    "# Funktion mit Parametern (= lokale Variablen)\n",
    "\n",
    "def summeBerechnen(a, b):\n",
    "    if type(a) is int:\n",
    "        return a + b + c\n",
    "    else:\n",
    "        print(\"X\")\n",
    "        return a\n",
    "        # raise Exception(\"Datentyp nicht unterstützt!\")\n",
    "\n",
    "# Funktionsaufrufe mit unterschiedlichen Werten für die Parameter\n",
    "\n",
    "d = summeBerechnen(1, 2)\n",
    "e = summeBerechnen(\"a\", \"b\")\n",
    "f = summeBerechnen(\"a\", 1)"
   ]
  },
  {
   "cell_type": "markdown",
   "metadata": {},
   "source": [
    "### 2.2. Parameter verstecken globale Variablen\n",
    "\n",
    "Wenn ein Parameter einer Funktion denselben Namen wie eine globale Variable hat, ist die globale Variable innerhalb der Funktion nicht mehr sichtbar."
   ]
  },
  {
   "cell_type": "code",
   "execution_count": null,
   "metadata": {},
   "outputs": [],
   "source": [
    "# Funktionen mit Parametern (lokalen Variablen)\n",
    "\n",
    "def f2(a, b):\n",
    "    # Globale Variablen a und b werden durch Parameter verdeckt!\n",
    "    return a * b\n",
    "\n",
    "def f(a):\n",
    "    # Globale Variable a wird durch Parameter verdeckt!\n",
    "    # Globale Variable b wird nicht verdeckt!\n",
    "    return f2(a + 1, b + 1) + b\n",
    "\n",
    "# Globale Variablen\n",
    "\n",
    "a = 5\n",
    "b = 5\n",
    "c = a + b\n",
    "\n",
    "# Funktionsaufruf mit lokalen Variablen, die globale Variablen überdecken\n",
    "\n",
    "d = f(1)"
   ]
  },
  {
   "cell_type": "code",
   "execution_count": 7,
   "metadata": {},
   "outputs": [
    {
     "name": "stdout",
     "output_type": "stream",
     "text": [
      "1\n",
      "5\n",
      "2\n",
      "2\n"
     ]
    }
   ],
   "source": [
    "a = 1\n",
    "\n",
    "def g():\n",
    "\n",
    "    print(a) # Hier wird die globale Variable gelesen!\n",
    "\n",
    "def f(x):\n",
    "\n",
    "    x = 5\n",
    "\n",
    "    print(x)\n",
    "\n",
    "    a = 5 # Hier wird nicht die globale Variable geschrieben, sondern eine lokale Variable!\n",
    "\n",
    "    print(a)\n",
    "\n",
    "def h():\n",
    "\n",
    "    global a # Variablenname wird an globale Variable gebunden!\n",
    "\n",
    "    a = 2 # Hier wird globale Variable geschrieben!\n",
    "\n",
    "    print(a)\n",
    "\n",
    "g()\n",
    "f(a)\n",
    "h()\n",
    "\n",
    "print(a)"
   ]
  },
  {
   "cell_type": "markdown",
   "metadata": {},
   "source": [
    "## 3. Funktionen als Variablen"
   ]
  },
  {
   "cell_type": "markdown",
   "metadata": {},
   "source": [
    "Funktionen kann man auch als Variablen verstehen, deren Wert verändert werden kann."
   ]
  },
  {
   "cell_type": "code",
   "execution_count": 3,
   "metadata": {},
   "outputs": [
    {
     "name": "stdout",
     "output_type": "stream",
     "text": [
      "<function f at 0x0000029CDB108900>\n"
     ]
    }
   ],
   "source": [
    "def f(a, b):\n",
    "    return a + b\n",
    "\n",
    "type(f)"
   ]
  },
  {
   "cell_type": "markdown",
   "metadata": {},
   "source": [
    "Im folgenden Beispiel wird die Funktion `f` durch den Wert `5` ersetzt."
   ]
  },
  {
   "cell_type": "code",
   "execution_count": 4,
   "metadata": {},
   "outputs": [
    {
     "data": {
      "text/plain": [
       "int"
      ]
     },
     "execution_count": 4,
     "metadata": {},
     "output_type": "execute_result"
    }
   ],
   "source": [
    "def f(a, b):\n",
    "    return a + b\n",
    "\n",
    "f = 5\n",
    "\n",
    "type(f)"
   ]
  }
 ],
 "metadata": {
  "kernelspec": {
   "display_name": "Python 3",
   "language": "python",
   "name": "python3"
  },
  "language_info": {
   "codemirror_mode": {
    "name": "ipython",
    "version": 3
   },
   "file_extension": ".py",
   "mimetype": "text/x-python",
   "name": "python",
   "nbconvert_exporter": "python",
   "pygments_lexer": "ipython3",
   "version": "3.12.1"
  }
 },
 "nbformat": 4,
 "nbformat_minor": 2
}
