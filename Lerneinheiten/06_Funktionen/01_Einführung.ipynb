{
 "cells": [
  {
   "cell_type": "markdown",
   "metadata": {},
   "source": [
    "# Funktionen"
   ]
  },
  {
   "cell_type": "markdown",
   "metadata": {},
   "source": [
    "## 1. Einfache Funktionen"
   ]
  },
  {
   "cell_type": "markdown",
   "metadata": {},
   "source": [
    "### 1.1. Funktionsdefinition"
   ]
  },
  {
   "cell_type": "code",
   "execution_count": 39,
   "metadata": {},
   "outputs": [],
   "source": [
    "# Funktionssignatur\n",
    "\n",
    "def funktionsName(parameter1, parameter2):\n",
    "\n",
    "    # Funktionskörper\n",
    "    \n",
    "    print(\"Funktionsaufruf\")\n",
    "    print(f\"parameter1 = {parameter1}\")\n",
    "    print(f\"parameter2 = {parameter2}\")\n",
    "    print()"
   ]
  },
  {
   "cell_type": "markdown",
   "metadata": {},
   "source": [
    "### 1.2. Funktionsaufrufe"
   ]
  },
  {
   "cell_type": "code",
   "execution_count": 40,
   "metadata": {},
   "outputs": [
    {
     "name": "stdout",
     "output_type": "stream",
     "text": [
      "Funktionsaufruf\n",
      "parameter1 = 1\n",
      "parameter2 = 2\n",
      "\n",
      "Funktionsaufruf\n",
      "parameter1 = 1\n",
      "parameter2 = a\n",
      "\n",
      "Funktionsaufruf\n",
      "parameter1 = a\n",
      "parameter2 = b\n",
      "\n",
      "Funktionsaufruf\n",
      "parameter1 = 56\n",
      "parameter2 = True\n",
      "\n"
     ]
    },
    {
     "ename": "TypeError",
     "evalue": "funktionsName() missing 1 required positional argument: 'parameter2'",
     "output_type": "error",
     "traceback": [
      "\u001b[1;31m---------------------------------------------------------------------------\u001b[0m",
      "\u001b[1;31mTypeError\u001b[0m                                 Traceback (most recent call last)",
      "Cell \u001b[1;32mIn[40], line 14\u001b[0m\n\u001b[0;32m     11\u001b[0m funktionsName(parameter2\u001b[38;5;241m=\u001b[39m\u001b[38;5;28;01mTrue\u001b[39;00m, parameter1\u001b[38;5;241m=\u001b[39m\u001b[38;5;241m56\u001b[39m)\n\u001b[0;32m     13\u001b[0m \u001b[38;5;66;03m# Werte für beide Parameter müssen übergeben werden!\u001b[39;00m\n\u001b[1;32m---> 14\u001b[0m \u001b[43mfunktionsName\u001b[49m\u001b[43m(\u001b[49m\u001b[38;5;241;43m1\u001b[39;49m\u001b[43m)\u001b[49m\n",
      "\u001b[1;31mTypeError\u001b[0m: funktionsName() missing 1 required positional argument: 'parameter2'"
     ]
    }
   ],
   "source": [
    "# Zwei Zahlen übergeben\n",
    "funktionsName(1, 2)\n",
    "\n",
    "# Eine Zahl un eine Zeichenkette übergeben\n",
    "funktionsName(1, \"a\")\n",
    "\n",
    "# Zwei Zeichenketten übergeben\n",
    "funktionsName(\"a\", \"b\")\n",
    "\n",
    "# Umgekehrte Reihenfolge\n",
    "funktionsName(parameter2=True, parameter1=56)\n",
    "\n",
    "# Werte für beide Parameter müssen übergeben werden!\n",
    "funktionsName(1)"
   ]
  },
  {
   "cell_type": "markdown",
   "metadata": {},
   "source": [
    "## 2. Standardwerte"
   ]
  },
  {
   "cell_type": "markdown",
   "metadata": {},
   "source": [
    "### 2.1. Standardwert für den letzten Parameter"
   ]
  },
  {
   "cell_type": "code",
   "execution_count": null,
   "metadata": {},
   "outputs": [
    {
     "name": "stdout",
     "output_type": "stream",
     "text": [
      "Funktionsaufruf\n",
      "parameter1 = 1\n",
      "parameter2 = standardwert\n",
      "\n",
      "Funktionsaufruf\n",
      "parameter1 = 1\n",
      "parameter2 = a\n",
      "\n",
      "Funktionsaufruf\n",
      "parameter1 = 1\n",
      "parameter2 = 2\n",
      "\n",
      "Funktionsaufruf\n",
      "parameter1 = a\n",
      "parameter2 = 1\n",
      "\n"
     ]
    },
    {
     "ename": "TypeError",
     "evalue": "funktionMitEinemStandardwert() missing 1 required positional argument: 'parameter1'",
     "output_type": "error",
     "traceback": [
      "\u001b[1;31m---------------------------------------------------------------------------\u001b[0m",
      "\u001b[1;31mTypeError\u001b[0m                                 Traceback (most recent call last)",
      "Cell \u001b[1;32mIn[1], line 18\u001b[0m\n\u001b[0;32m     15\u001b[0m funktionMitEinemStandardwert(parameter2\u001b[38;5;241m=\u001b[39m\u001b[38;5;241m1\u001b[39m, parameter1\u001b[38;5;241m=\u001b[39m\u001b[38;5;124m\"\u001b[39m\u001b[38;5;124ma\u001b[39m\u001b[38;5;124m\"\u001b[39m)\n\u001b[0;32m     17\u001b[0m \u001b[38;5;66;03m# Fehler!\u001b[39;00m\n\u001b[1;32m---> 18\u001b[0m \u001b[43mfunktionMitEinemStandardwert\u001b[49m\u001b[43m(\u001b[49m\u001b[43m)\u001b[49m\n",
      "\u001b[1;31mTypeError\u001b[0m: funktionMitEinemStandardwert() missing 1 required positional argument: 'parameter1'"
     ]
    }
   ],
   "source": [
    "# Funktionsdefinition mit Standardwert für zweiten Parameter\n",
    "\n",
    "def funktionMitEinemStandardwert(parameter1, parameter2 = \"standardwert\"):\n",
    "    print(\"Funktionsaufruf\")\n",
    "    print(f\"parameter1 = {parameter1}\")\n",
    "    print(f\"parameter2 = {parameter2}\")\n",
    "    print()\n",
    "\n",
    "# Für den zweiten Parameter den Standardwert verwendne\n",
    "funktionMitEinemStandardwert(1)\n",
    "\n",
    "# Für keinen der Parameter den Standardwert verwenden\n",
    "funktionMitEinemStandardwert(1, \"a\")\n",
    "funktionMitEinemStandardwert(1, 2)\n",
    "funktionMitEinemStandardwert(parameter2=1, parameter1=\"a\")\n",
    "\n",
    "# Fehler!\n",
    "funktionMitEinemStandardwert()"
   ]
  },
  {
   "cell_type": "markdown",
   "metadata": {},
   "source": [
    "### 2.2. Standardwerte für die letzten beiden Parameter"
   ]
  },
  {
   "cell_type": "code",
   "execution_count": null,
   "metadata": {},
   "outputs": [
    {
     "name": "stdout",
     "output_type": "stream",
     "text": [
      "Funktionsaufruf\n",
      "parameter1 = 175\n",
      "parameter2 = standardwert\n",
      "\n",
      "Funktionsaufruf\n",
      "parameter1 = 1\n",
      "parameter2 = standardwert\n",
      "\n",
      "Funktionsaufruf\n",
      "parameter1 = 175\n",
      "parameter2 = x\n",
      "\n",
      "Funktionsaufruf\n",
      "parameter1 = 45\n",
      "parameter2 = a\n",
      "\n",
      "Funktionsaufruf\n",
      "parameter1 = a\n",
      "parameter2 = 45\n",
      "\n"
     ]
    }
   ],
   "source": [
    "# Funktionsdefinition mit Standardwert für beide Parameter\n",
    "\n",
    "def funktionMitZweiStandardwerten(parameter1 = 175, parameter2 = \"standardwert\"):\n",
    "    print(\"Funktionsaufruf\")\n",
    "    print(f\"parameter1 = {parameter1}\")\n",
    "    print(f\"parameter2 = {parameter2}\")\n",
    "    print()\n",
    "\n",
    "# Für beide Parameter den Standardwert verwenden\n",
    "funktionMitZweiStandardwerten()\n",
    "\n",
    "# Nur für den zweiten Parameter den Standardwert verwenden\n",
    "funktionMitZweiStandardwerten(1)\n",
    "\n",
    "# Nur für den ersten Parameter den Standardwert verwenden\n",
    "funktionMitZweiStandardwerten(parameter2=\"x\")\n",
    "\n",
    "# Für keinden der beiden Parameter den Standardwert verwenden\n",
    "funktionMitZweiStandardwerten(45, \"a\")\n",
    "funktionMitZweiStandardwerten(parameter2=45, parameter1=\"a\")"
   ]
  },
  {
   "cell_type": "markdown",
   "metadata": {},
   "source": [
    "### 2.3. Was nicht geht\n",
    "\n",
    "Produziert **Syntaxfehler**!"
   ]
  },
  {
   "cell_type": "code",
   "execution_count": null,
   "metadata": {},
   "outputs": [
    {
     "ename": "SyntaxError",
     "evalue": "parameter without a default follows parameter with a default (824033914.py, line 1)",
     "output_type": "error",
     "traceback": [
      "\u001b[1;36m  Cell \u001b[1;32mIn[2], line 1\u001b[1;36m\u001b[0m\n\u001b[1;33m    def funktionMitFehler(parameter1 = 175, parameter2):\u001b[0m\n\u001b[1;37m                                            ^\u001b[0m\n\u001b[1;31mSyntaxError\u001b[0m\u001b[1;31m:\u001b[0m parameter without a default follows parameter with a default\n"
     ]
    }
   ],
   "source": [
    "def funktionMitFehler(parameter1 = 175, parameter2):\n",
    "\n",
    "    pass\n",
    "\n",
    "funktionMitFehler(5)"
   ]
  },
  {
   "cell_type": "markdown",
   "metadata": {},
   "source": [
    "## 3. Typhinweise"
   ]
  },
  {
   "cell_type": "markdown",
   "metadata": {},
   "source": [
    "### 3.1. Für Parameter"
   ]
  },
  {
   "cell_type": "code",
   "execution_count": null,
   "metadata": {},
   "outputs": [
    {
     "name": "stdout",
     "output_type": "stream",
     "text": [
      "Funktionsaufruf\n",
      "parameter1 = 1\n",
      "parameter2 = a\n",
      "\n",
      "Funktionsaufruf\n",
      "parameter1 = 1\n",
      "parameter2 = 1\n",
      "\n",
      "Funktionsaufruf\n",
      "parameter1 = a\n",
      "parameter2 = 1\n",
      "\n"
     ]
    }
   ],
   "source": [
    "# Funktionsdefinition mit Typhinweisen für die Parameter\n",
    "\n",
    "def funktionMitTyphinweisen(parameter1: int, parameter2: str):\n",
    "    print(\"Funktionsaufruf\")\n",
    "    print(f\"parameter1 = {parameter1}\")\n",
    "    print(f\"parameter2 = {parameter2}\")\n",
    "    print()\n",
    "\n",
    "# Typhinweise haben keinen Einfluss auf die Funktionsaufrufe!\n",
    "\n",
    "funktionMitTyphinweisen(1, \"a\")\n",
    "funktionMitTyphinweisen(1, 1)\n",
    "funktionMitTyphinweisen(\"a\", 1)"
   ]
  },
  {
   "cell_type": "markdown",
   "metadata": {},
   "source": [
    "### 3.2. Für Rückgabewerte"
   ]
  },
  {
   "cell_type": "code",
   "execution_count": null,
   "metadata": {},
   "outputs": [
    {
     "name": "stdout",
     "output_type": "stream",
     "text": [
      "3\n",
      "ab\n"
     ]
    }
   ],
   "source": [
    "def funktionMitTyphinweisFürRückgabewert(a: int, b: int) -> int:\n",
    "    return a + b\n",
    "\n",
    "print(funktionMitTyphinweisFürRückgabewert(1, 2))\n",
    "\n",
    "print(funktionMitTyphinweisFürRückgabewert(\"a\", \"b\"))"
   ]
  },
  {
   "cell_type": "markdown",
   "metadata": {},
   "source": [
    "## 4. Rückgabewerte"
   ]
  },
  {
   "cell_type": "markdown",
   "metadata": {},
   "source": [
    "### 4.1. Rückgaben"
   ]
  },
  {
   "cell_type": "code",
   "execution_count": null,
   "metadata": {},
   "outputs": [
    {
     "name": "stdout",
     "output_type": "stream",
     "text": [
      "2\n",
      "2\n",
      "1\n"
     ]
    }
   ],
   "source": [
    "def funktionMitRückgabe(parameter1, parameter2):\n",
    "    if parameter1 > parameter2:\n",
    "        return parameter1\n",
    "    else:\n",
    "        return parameter2\n",
    "\n",
    "    return 0 # Toter Code!\n",
    "\n",
    "print(funktionMitRückgabe(1, 2))\n",
    "print(funktionMitRückgabe(2, 1))\n",
    "print(funktionMitRückgabe(1, 1))"
   ]
  },
  {
   "cell_type": "markdown",
   "metadata": {},
   "source": [
    "Wenn eine Funktion ein Tupel zurückgibt, kann das Tupel \"ausgepackt\" werden."
   ]
  },
  {
   "cell_type": "code",
   "execution_count": null,
   "metadata": {},
   "outputs": [
    {
     "name": "stdout",
     "output_type": "stream",
     "text": [
      "(1, 'a')\n",
      "zahl = 1\n",
      "zeichenkette = a\n"
     ]
    }
   ],
   "source": [
    "def funktionMitZweiRückgaben():\n",
    "    return 1, \"a\"\n",
    "\n",
    "print(funktionMitZweiRückgaben())\n",
    "\n",
    "zahl, zeichenkette = funktionMitZweiRückgaben()\n",
    "\n",
    "print(f\"zahl = {zahl}\")\n",
    "print(f\"zeichenkette = {zeichenkette}\")"
   ]
  },
  {
   "cell_type": "markdown",
   "metadata": {},
   "source": [
    "Achtung!"
   ]
  },
  {
   "cell_type": "code",
   "execution_count": null,
   "metadata": {},
   "outputs": [
    {
     "ename": "ValueError",
     "evalue": "too many values to unpack (expected 2)",
     "output_type": "error",
     "traceback": [
      "\u001b[1;31m---------------------------------------------------------------------------\u001b[0m",
      "\u001b[1;31mValueError\u001b[0m                                Traceback (most recent call last)",
      "Cell \u001b[1;32mIn[7], line 1\u001b[0m\n\u001b[1;32m----> 1\u001b[0m zahl, zeichenkette \u001b[38;5;241m=\u001b[39m (\u001b[38;5;241m1\u001b[39m, \u001b[38;5;124m\"\u001b[39m\u001b[38;5;124ma\u001b[39m\u001b[38;5;124m\"\u001b[39m, \u001b[38;5;28;01mTrue\u001b[39;00m)\n\u001b[0;32m      3\u001b[0m \u001b[38;5;28mprint\u001b[39m(zahl)\n\u001b[0;32m      4\u001b[0m \u001b[38;5;28mprint\u001b[39m(zeichenkette)\n",
      "\u001b[1;31mValueError\u001b[0m: too many values to unpack (expected 2)"
     ]
    }
   ],
   "source": [
    "zahl, zeichenkette = (1, \"a\", True)\n",
    "\n",
    "print(zahl)\n",
    "print(zeichenkette)"
   ]
  },
  {
   "cell_type": "code",
   "execution_count": null,
   "metadata": {},
   "outputs": [
    {
     "name": "stdout",
     "output_type": "stream",
     "text": [
      "1\n",
      "a\n"
     ]
    }
   ],
   "source": [
    "zahl, zeichenkette = [1, \"a\"]\n",
    "\n",
    "print(zahl)\n",
    "print(zeichenkette)"
   ]
  },
  {
   "cell_type": "code",
   "execution_count": null,
   "metadata": {},
   "outputs": [
    {
     "name": "stdout",
     "output_type": "stream",
     "text": [
      "[1, 2]\n",
      "['a', 'b']\n"
     ]
    }
   ],
   "source": [
    "liste1, liste2 = [[1, 2], [\"a\", \"b\"]]\n",
    "\n",
    "print(liste1)\n",
    "print(liste2)"
   ]
  },
  {
   "cell_type": "code",
   "execution_count": null,
   "metadata": {},
   "outputs": [
    {
     "name": "stdout",
     "output_type": "stream",
     "text": [
      "a\n",
      "b\n"
     ]
    }
   ],
   "source": [
    "char1, char2 = \"ab\"\n",
    "\n",
    "print(char1)\n",
    "print(char2)"
   ]
  },
  {
   "cell_type": "markdown",
   "metadata": {},
   "source": [
    "### 4.2. Ausnahmen"
   ]
  },
  {
   "cell_type": "code",
   "execution_count": null,
   "metadata": {},
   "outputs": [
    {
     "name": "stdout",
     "output_type": "stream",
     "text": [
      "2\n",
      "2\n"
     ]
    },
    {
     "ename": "Exception",
     "evalue": "Werte sind gleich groß!",
     "output_type": "error",
     "traceback": [
      "\u001b[1;31m---------------------------------------------------------------------------\u001b[0m",
      "\u001b[1;31mException\u001b[0m                                 Traceback (most recent call last)",
      "Cell \u001b[1;32mIn[12], line 11\u001b[0m\n\u001b[0;32m      9\u001b[0m \u001b[38;5;28mprint\u001b[39m(funktionsName6(\u001b[38;5;241m1\u001b[39m, \u001b[38;5;241m2\u001b[39m))\n\u001b[0;32m     10\u001b[0m \u001b[38;5;28mprint\u001b[39m(funktionsName6(\u001b[38;5;241m2\u001b[39m, \u001b[38;5;241m1\u001b[39m))\n\u001b[1;32m---> 11\u001b[0m \u001b[38;5;28mprint\u001b[39m(\u001b[43mfunktionsName6\u001b[49m\u001b[43m(\u001b[49m\u001b[38;5;241;43m1\u001b[39;49m\u001b[43m,\u001b[49m\u001b[43m \u001b[49m\u001b[38;5;241;43m1\u001b[39;49m\u001b[43m)\u001b[49m)\n",
      "Cell \u001b[1;32mIn[12], line 7\u001b[0m, in \u001b[0;36mfunktionsName6\u001b[1;34m(parameter1, parameter2)\u001b[0m\n\u001b[0;32m      5\u001b[0m     \u001b[38;5;28;01mreturn\u001b[39;00m parameter2\n\u001b[0;32m      6\u001b[0m \u001b[38;5;28;01melse\u001b[39;00m:\n\u001b[1;32m----> 7\u001b[0m     \u001b[38;5;28;01mraise\u001b[39;00m \u001b[38;5;167;01mException\u001b[39;00m(\u001b[38;5;124m\"\u001b[39m\u001b[38;5;124mWerte sind gleich groß!\u001b[39m\u001b[38;5;124m\"\u001b[39m)\n",
      "\u001b[1;31mException\u001b[0m: Werte sind gleich groß!"
     ]
    }
   ],
   "source": [
    "def funktionMitAusnahme(parameter1, parameter2):\n",
    "    if parameter1 > parameter2:\n",
    "        return parameter1\n",
    "    elif parameter1 < parameter2:\n",
    "        return parameter2\n",
    "    else:\n",
    "        raise Exception(\"Werte sind gleich groß!\")\n",
    "\n",
    "print(funktionMitAusnahme(1, 2))\n",
    "print(funktionMitAusnahme(2, 1))\n",
    "print(funktionMitAusnahme(1, 1))"
   ]
  },
  {
   "cell_type": "markdown",
   "metadata": {},
   "source": [
    "### 4.3. Generatoren\n",
    "\n",
    "Mögliche Anwendungen: Simulationsframework `simpy`."
   ]
  },
  {
   "cell_type": "code",
   "execution_count": null,
   "metadata": {},
   "outputs": [
    {
     "name": "stdout",
     "output_type": "stream",
     "text": [
      "prozess = funktionAlsGenerator()\n",
      "\n",
      "next(prozess)\n",
      "- Initialisiere Zähler\n",
      "- Generiere Wert\n",
      "# ergebnis = 0\n",
      "\n",
      "next(prozess)\n",
      "- Inkrementiere Zähler\n",
      "- Generiere Wert\n",
      "# ergebnis = 1\n",
      "\n",
      "next(prozess)\n",
      "- Inkrementiere Zähler\n",
      "- Generiere Wert\n",
      "# ergebnis = 2\n"
     ]
    }
   ],
   "source": [
    "# Beim Aufruf der Methode \"next\" darf die Generatorfunktion bis zum nächsten \"yield\" rechnen\n",
    "\n",
    "def funktionAlsGenerator():\n",
    "\n",
    "    print(\"- Initialisiere Zähler\")\n",
    "    zähler = 0\n",
    "    \n",
    "    while True:\n",
    "        \n",
    "        print(\"- Generiere Wert\")\n",
    "        yield zähler\n",
    "\n",
    "        print(\"- Inkrementiere Zähler\")\n",
    "        zähler = zähler + 1\n",
    "\n",
    "print(\"prozess = funktionAlsGenerator()\")\n",
    "prozess = funktionAlsGenerator()\n",
    "\n",
    "print()\n",
    "print(\"next(prozess)\")\n",
    "ergebnis = next(prozess)\n",
    "print(f\"# ergebnis = {ergebnis}\")\n",
    "\n",
    "print()\n",
    "print(\"next(prozess)\")\n",
    "ergebnis = next(prozess)\n",
    "print(f\"# ergebnis = {ergebnis}\")\n",
    "\n",
    "print()\n",
    "print(\"next(prozess)\")\n",
    "ergebnis = next(prozess)\n",
    "print(f\"# ergebnis = {ergebnis}\")"
   ]
  },
  {
   "cell_type": "markdown",
   "metadata": {},
   "source": [
    "## 5. Unbenannte Parameter\n",
    "\n",
    "Mehr bzw. beliebig viele Parameter einer Funktion übergeben!"
   ]
  },
  {
   "cell_type": "markdown",
   "metadata": {},
   "source": [
    "### 5.1. Der Parameter `*args` (für Positionsargumente)"
   ]
  },
  {
   "cell_type": "code",
   "execution_count": null,
   "metadata": {},
   "outputs": [
    {
     "name": "stdout",
     "output_type": "stream",
     "text": [
      "args = ()\n",
      "type(args) = <class 'tuple'>\n",
      "\n",
      "args = (100,)\n",
      "type(args) = <class 'tuple'>\n",
      "\n",
      "args = ('a', True)\n",
      "type(args) = <class 'tuple'>\n",
      "\n",
      "args = (False, 1000, 'test')\n",
      "type(args) = <class 'tuple'>\n",
      "\n"
     ]
    }
   ],
   "source": [
    "def funktionMitArgumentliste(parameter1, *args):\n",
    "    print(f\"args = {args}\")\n",
    "    print(f\"type(args) = {type(args)}\")\n",
    "    print()\n",
    "\n",
    "funktionMitArgumentliste(1.1)\n",
    "funktionMitArgumentliste(\"test\", 100)\n",
    "funktionMitArgumentliste(1, \"a\", True)\n",
    "funktionMitArgumentliste(True, False, 1000, \"test\")"
   ]
  },
  {
   "cell_type": "markdown",
   "metadata": {},
   "source": [
    "Beispiel einer Funktion, die das verwendet"
   ]
  },
  {
   "cell_type": "code",
   "execution_count": null,
   "metadata": {},
   "outputs": [
    {
     "name": "stdout",
     "output_type": "stream",
     "text": [
      "a 1 True\n"
     ]
    }
   ],
   "source": [
    "print(\"a\", 1, True)"
   ]
  },
  {
   "cell_type": "markdown",
   "metadata": {},
   "source": [
    "### 5.2. Der Parameter `**kwargs` (für Schlüsselwortargumente)"
   ]
  },
  {
   "cell_type": "code",
   "execution_count": null,
   "metadata": {},
   "outputs": [
    {
     "name": "stdout",
     "output_type": "stream",
     "text": [
      "kwargs = {}\n",
      "type(kwargs) = <class 'dict'>\n",
      "\n",
      "kwargs = {}\n",
      "type(kwargs) = <class 'dict'>\n",
      "\n",
      "kwargs = {'y': True, 'z': 1000}\n",
      "type(kwargs) = <class 'dict'>\n",
      "\n",
      "kwargs = {'a': 5, 'b': 'x', 'c': True}\n",
      "type(kwargs) = <class 'dict'>\n",
      "\n"
     ]
    }
   ],
   "source": [
    "def funktionMitArgumentdict(parameter1, x = \"test\", **kwargs):\n",
    "    print(f\"kwargs = {kwargs}\")\n",
    "    print(f\"type(kwargs) = {type(kwargs)}\")\n",
    "    print()\n",
    "\n",
    "funktionMitArgumentdict(1.1)\n",
    "funktionMitArgumentdict(1, x=\"test\")\n",
    "funktionMitArgumentdict(\"a\", y=True, z=1000)\n",
    "funktionMitArgumentdict(True, a=5, b=\"x\", c=True)"
   ]
  },
  {
   "cell_type": "markdown",
   "metadata": {},
   "source": [
    "### 5.3. Beide Parameter kombiniert"
   ]
  },
  {
   "cell_type": "code",
   "execution_count": 42,
   "metadata": {},
   "outputs": [
    {
     "name": "stdout",
     "output_type": "stream",
     "text": [
      "args = (1, 7, 9)\n",
      "kwargs = {'a': 10, 'b': 'x', 'c': True}\n",
      "\n",
      "args = (1, 'b', True)\n",
      "kwargs = {}\n",
      "\n",
      "args = ()\n",
      "kwargs = {'a': 1, 'b': 2, 'c': 3}\n",
      "\n",
      "args = ()\n",
      "kwargs = {}\n",
      "\n"
     ]
    }
   ],
   "source": [
    "def funktionMitArgumentlisteUndDict(*args, **kwargs):\n",
    "    print(f\"args = {args}\")\n",
    "    print(f\"kwargs = {kwargs}\")\n",
    "    print()\n",
    "\n",
    "# Gefülltest Argument-Tupel und Argument-Dictionary\n",
    "funktionMitArgumentlisteUndDict(1, 7, 9, a=10, b=\"x\", c=True)\n",
    "\n",
    "# Leeres Argument-Dictionary\n",
    "funktionMitArgumentlisteUndDict(1, \"b\", True)\n",
    "\n",
    "# Leeres Argument-Tupel\n",
    "funktionMitArgumentlisteUndDict(a=1, b=2, c=3)\n",
    "\n",
    "# Leeres Argument-Tupel und Argument-Dictionary\n",
    "funktionMitArgumentlisteUndDict()\n",
    "\n",
    "# Geht nicht!\n",
    "#funktionMitArgumentlisteUndDict(1, a=True, 2, b=\"X\")"
   ]
  },
  {
   "cell_type": "markdown",
   "metadata": {},
   "source": [
    "**Achtung!**"
   ]
  },
  {
   "cell_type": "code",
   "execution_count": 47,
   "metadata": {},
   "outputs": [
    {
     "name": "stdout",
     "output_type": "stream",
     "text": [
      "posArg1 = 1\n",
      "posArg2 = 2\n",
      "args = (3, 4, 5, 6)\n",
      "kwArg1 = 7\n",
      "kwArg2 = 8\n",
      "kwargs = {'a': True, 'b': False, 'c': 'a', 'd': 'b'}\n",
      "\n",
      "posArg1 = 1\n",
      "posArg2 = 2\n",
      "args = (3, 4, 5, 6)\n",
      "kwArg1 = 7\n",
      "kwArg2 = standardwert\n",
      "kwargs = {'a': True, 'b': False, 'c': 'a', 'd': 'b'}\n",
      "\n"
     ]
    },
    {
     "ename": "TypeError",
     "evalue": "keywordOnlyArgumente() missing 1 required keyword-only argument: 'kwArg1'",
     "output_type": "error",
     "traceback": [
      "\u001b[1;31m---------------------------------------------------------------------------\u001b[0m",
      "\u001b[1;31mTypeError\u001b[0m                                 Traceback (most recent call last)",
      "Cell \u001b[1;32mIn[47], line 15\u001b[0m\n\u001b[0;32m     11\u001b[0m keywordOnlyArgumente(\u001b[38;5;241m1\u001b[39m, \u001b[38;5;241m2\u001b[39m, \u001b[38;5;241m3\u001b[39m, \u001b[38;5;241m4\u001b[39m, \u001b[38;5;241m5\u001b[39m, \u001b[38;5;241m6\u001b[39m, kwArg1\u001b[38;5;241m=\u001b[39m\u001b[38;5;241m7\u001b[39m, kwArg2\u001b[38;5;241m=\u001b[39m\u001b[38;5;241m8\u001b[39m, a\u001b[38;5;241m=\u001b[39m\u001b[38;5;28;01mTrue\u001b[39;00m, b\u001b[38;5;241m=\u001b[39m\u001b[38;5;28;01mFalse\u001b[39;00m, c\u001b[38;5;241m=\u001b[39m\u001b[38;5;124m\"\u001b[39m\u001b[38;5;124ma\u001b[39m\u001b[38;5;124m\"\u001b[39m, d\u001b[38;5;241m=\u001b[39m\u001b[38;5;124m\"\u001b[39m\u001b[38;5;124mb\u001b[39m\u001b[38;5;124m\"\u001b[39m)\n\u001b[0;32m     13\u001b[0m keywordOnlyArgumente(\u001b[38;5;241m1\u001b[39m, \u001b[38;5;241m2\u001b[39m, \u001b[38;5;241m3\u001b[39m, \u001b[38;5;241m4\u001b[39m, \u001b[38;5;241m5\u001b[39m, \u001b[38;5;241m6\u001b[39m, kwArg1\u001b[38;5;241m=\u001b[39m\u001b[38;5;241m7\u001b[39m, a\u001b[38;5;241m=\u001b[39m\u001b[38;5;28;01mTrue\u001b[39;00m, b\u001b[38;5;241m=\u001b[39m\u001b[38;5;28;01mFalse\u001b[39;00m, c\u001b[38;5;241m=\u001b[39m\u001b[38;5;124m\"\u001b[39m\u001b[38;5;124ma\u001b[39m\u001b[38;5;124m\"\u001b[39m, d\u001b[38;5;241m=\u001b[39m\u001b[38;5;124m\"\u001b[39m\u001b[38;5;124mb\u001b[39m\u001b[38;5;124m\"\u001b[39m)\n\u001b[1;32m---> 15\u001b[0m \u001b[43mkeywordOnlyArgumente\u001b[49m\u001b[43m(\u001b[49m\u001b[38;5;241;43m1\u001b[39;49m\u001b[43m,\u001b[49m\u001b[43m \u001b[49m\u001b[38;5;241;43m2\u001b[39;49m\u001b[43m,\u001b[49m\u001b[43m \u001b[49m\u001b[38;5;241;43m3\u001b[39;49m\u001b[43m,\u001b[49m\u001b[43m \u001b[49m\u001b[38;5;241;43m4\u001b[39;49m\u001b[43m,\u001b[49m\u001b[43m \u001b[49m\u001b[38;5;241;43m5\u001b[39;49m\u001b[43m,\u001b[49m\u001b[43m \u001b[49m\u001b[38;5;241;43m6\u001b[39;49m\u001b[43m,\u001b[49m\u001b[43m \u001b[49m\u001b[43ma\u001b[49m\u001b[38;5;241;43m=\u001b[39;49m\u001b[38;5;28;43;01mTrue\u001b[39;49;00m\u001b[43m,\u001b[49m\u001b[43m \u001b[49m\u001b[43mb\u001b[49m\u001b[38;5;241;43m=\u001b[39;49m\u001b[38;5;28;43;01mFalse\u001b[39;49;00m\u001b[43m,\u001b[49m\u001b[43m \u001b[49m\u001b[43mc\u001b[49m\u001b[38;5;241;43m=\u001b[39;49m\u001b[38;5;124;43m\"\u001b[39;49m\u001b[38;5;124;43ma\u001b[39;49m\u001b[38;5;124;43m\"\u001b[39;49m\u001b[43m,\u001b[49m\u001b[43m \u001b[49m\u001b[43md\u001b[49m\u001b[38;5;241;43m=\u001b[39;49m\u001b[38;5;124;43m\"\u001b[39;49m\u001b[38;5;124;43mb\u001b[39;49m\u001b[38;5;124;43m\"\u001b[39;49m\u001b[43m)\u001b[49m\n",
      "\u001b[1;31mTypeError\u001b[0m: keywordOnlyArgumente() missing 1 required keyword-only argument: 'kwArg1'"
     ]
    }
   ],
   "source": [
    "def keywordOnlyArgumente(posArg1, posArg2, *args, kwArg1, kwArg2 = \"standardwert\", **kwargs):\n",
    "\n",
    "    print(f\"posArg1 = {posArg1}\")\n",
    "    print(f\"posArg2 = {posArg2}\")\n",
    "    print(f\"args = {args}\")\n",
    "    print(f\"kwArg1 = {kwArg1}\")\n",
    "    print(f\"kwArg2 = {kwArg2}\")\n",
    "    print(f\"kwargs = {kwargs}\")\n",
    "    print()\n",
    "\n",
    "keywordOnlyArgumente(1, 2, 3, 4, 5, 6, kwArg1=7, kwArg2=8, a=True, b=False, c=\"a\", d=\"b\")\n",
    "\n",
    "keywordOnlyArgumente(1, 2, 3, 4, 5, 6, kwArg1=7, a=True, b=False, c=\"a\", d=\"b\")\n",
    "\n",
    "keywordOnlyArgumente(1, 2, 3, 4, 5, 6, a=True, b=False, c=\"a\", d=\"b\")"
   ]
  }
 ],
 "metadata": {
  "kernelspec": {
   "display_name": "Python 3",
   "language": "python",
   "name": "python3"
  },
  "language_info": {
   "codemirror_mode": {
    "name": "ipython",
    "version": 3
   },
   "file_extension": ".py",
   "mimetype": "text/x-python",
   "name": "python",
   "nbconvert_exporter": "python",
   "pygments_lexer": "ipython3",
   "version": "3.12.1"
  }
 },
 "nbformat": 4,
 "nbformat_minor": 2
}
