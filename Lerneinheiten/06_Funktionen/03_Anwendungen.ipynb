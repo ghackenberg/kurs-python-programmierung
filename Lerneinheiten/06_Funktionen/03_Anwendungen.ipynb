{
 "cells": [
  {
   "cell_type": "markdown",
   "metadata": {},
   "source": [
    "# Anwendungen von Funktionen\n",
    "\n",
    "Grundsätzlich werden Funktion dafür verwendet, größere Programme in kleinere Unterprogramme zu gliedern und somit die Übersichtlichkeit zu verbessern. Außerdem ermöglichen Funktionen die Wiederverwendung von Unterprogrammen wie z.B. bei der Sortierung von Zahlenlisten."
   ]
  },
  {
   "cell_type": "markdown",
   "metadata": {},
   "source": [
    "## 1. Zahl einlesen"
   ]
  },
  {
   "cell_type": "code",
   "execution_count": null,
   "metadata": {},
   "outputs": [
    {
     "name": "stdout",
     "output_type": "stream",
     "text": [
      "zahl1 = 1\n",
      "zahl2 = 6\n"
     ]
    }
   ],
   "source": [
    "def zahlEinlesen():\n",
    "    while True:\n",
    "        try:\n",
    "            return int(input(\"Bitte Zahl eingeben:\"))\n",
    "        except:\n",
    "            print(\"Eingabe konnte nicht verarbeitet werden!\")\n",
    "\n",
    "zahl1 = zahlEinlesen()\n",
    "print(f\"zahl1 = {zahl1}\")\n",
    "\n",
    "zahl2 = zahlEinlesen()\n",
    "print(f\"zahl2 = {zahl2}\")"
   ]
  },
  {
   "cell_type": "markdown",
   "metadata": {},
   "source": [
    "## 2. Operator einlesen"
   ]
  },
  {
   "cell_type": "code",
   "execution_count": null,
   "metadata": {},
   "outputs": [
    {
     "name": "stdout",
     "output_type": "stream",
     "text": [
      "operator = -\n"
     ]
    }
   ],
   "source": [
    "def operatorEinlesen():\n",
    "    while True:\n",
    "        operator = input(\"Bitte Operator eingeben:\")\n",
    "        if operator in [\"+\", \"-\", \"*\", \"/\"]:\n",
    "            return operator\n",
    "        else:\n",
    "            print(\"Eingabe konnte nicht verarbeitet werden!\")\n",
    "\n",
    "operator = operatorEinlesen()\n",
    "print(f\"operator = {operator}\")"
   ]
  },
  {
   "cell_type": "markdown",
   "metadata": {},
   "source": [
    "## 3. Maximum"
   ]
  },
  {
   "cell_type": "code",
   "execution_count": null,
   "metadata": {},
   "outputs": [
    {
     "name": "stdout",
     "output_type": "stream",
     "text": [
      "10\n",
      "-1\n"
     ]
    }
   ],
   "source": [
    "def maximum(liste: list[int]) -> int:\n",
    "    ergebnis = liste[0]\n",
    "    for element in liste:\n",
    "        if element > ergebnis:\n",
    "            ergebnis = element\n",
    "    return ergebnis\n",
    "\n",
    "print(maximum([5, 7, 10, -1]))\n",
    "print(maximum([-1, -6, -10, -2]))\n",
    "\n",
    "# max([1, 5])"
   ]
  },
  {
   "cell_type": "markdown",
   "metadata": {},
   "source": [
    "## 4. Maximum und Position"
   ]
  },
  {
   "cell_type": "code",
   "execution_count": null,
   "metadata": {},
   "outputs": [
    {
     "name": "stdout",
     "output_type": "stream",
     "text": [
      "(2, 20)\n",
      "(2, 5)\n",
      "index = 4\n",
      "wert = 20\n"
     ]
    }
   ],
   "source": [
    "def maximumMitIndex(liste: list[int]) -> tuple[int, int]:\n",
    "\n",
    "    ergebnis_wert = liste[0]\n",
    "    ergebnis_index = 0\n",
    "    \n",
    "    for index, wert in enumerate(liste):\n",
    "        if wert > ergebnis_wert:\n",
    "            ergebnis_wert = wert\n",
    "            ergebnis_index = index\n",
    "    \n",
    "    return ergebnis_index, ergebnis_wert \n",
    "\n",
    "print(maximumMitIndex([5, 10, 20, -10, -20]))\n",
    "print(maximumMitIndex([-2, -1, 5]))\n",
    "\n",
    "index, wert = maximumMitIndex([-5, 0, 7, -9, 20, -3])\n",
    "\n",
    "print(f\"index = {index}\")\n",
    "print(f\"wert = {wert}\")"
   ]
  },
  {
   "cell_type": "markdown",
   "metadata": {},
   "source": [
    "## 5. Sortierung"
   ]
  },
  {
   "cell_type": "code",
   "execution_count": null,
   "metadata": {},
   "outputs": [
    {
     "name": "stdout",
     "output_type": "stream",
     "text": [
      "[-10, -7, -5, 5, 9, 10, 20]\n",
      "[0, 1, 2, 4, 5, 7, 10]\n"
     ]
    }
   ],
   "source": [
    "def sortierenEinfach(liste: list[int]) -> list[int]:\n",
    "\n",
    "    letzter_index = len(liste) - 1\n",
    "\n",
    "    while letzter_index > 0:\n",
    "\n",
    "        # Den letzten Wert zwischenspeichern\n",
    "\n",
    "        letzter_wert = liste[letzter_index]\n",
    "\n",
    "        # Den größten Wert und seine Position suchen\n",
    "\n",
    "        maximum_index = 0\n",
    "        maximum_wert = liste[0]\n",
    "\n",
    "        aktueller_index = 1\n",
    "\n",
    "        while aktueller_index <= letzter_index:\n",
    "\n",
    "            if liste[aktueller_index] > maximum_wert:\n",
    "\n",
    "                maximum_index = aktueller_index\n",
    "                maximum_wert = liste[maximum_index]\n",
    "\n",
    "            aktueller_index = aktueller_index + 1\n",
    "\n",
    "        # Den größten Wert ans Ende der Liste stellen\n",
    "\n",
    "        liste[letzter_index] = maximum_wert\n",
    "        liste[maximum_index] = letzter_wert\n",
    "\n",
    "        # Den letzten Index aktualisieren\n",
    "\n",
    "        letzter_index = letzter_index - 1\n",
    "    \n",
    "    return liste\n",
    "\n",
    "print(sortierenEinfach([-5, -7, 10, 5, -10, 20, 9]))\n",
    "print(sortierenEinfach([2, 1, 5, 7, 0, 10, 4]))\n",
    "\n",
    "# [1, -1, 5].sort()"
   ]
  }
 ],
 "metadata": {
  "language_info": {
   "name": "python"
  }
 },
 "nbformat": 4,
 "nbformat_minor": 2
}
