{
 "cells": [
  {
   "cell_type": "markdown",
   "metadata": {},
   "source": [
    "# Übungen zu Funktionen\n",
    "\n",
    "Die folgenden Übungen dienen der Klausurvorbereitung."
   ]
  },
  {
   "cell_type": "markdown",
   "metadata": {},
   "source": [
    "## Übung 1: Wechselgeld berechnen\n",
    "\n",
    "Schreiben Sie eine Funktion, welche für einen beliebigen Geldbetrag berechnet, durch wieviele Münzen (2 Euro, 1 Euro, 50 Cent, 20 Cent, 10 Cent, 5 Cent, 1 Cent) dieser Betrag ausgegeben werden kann. Achten Sie darauf, dass die Funktion so wenig Münzen wie möglich verwendet."
   ]
  },
  {
   "cell_type": "code",
   "execution_count": null,
   "metadata": {},
   "outputs": [],
   "source": [
    "# TODO"
   ]
  },
  {
   "cell_type": "markdown",
   "metadata": {},
   "source": [
    "## Übung 2: Matrix eingeben\n",
    "\n",
    "Schreiben Sie eine Funktion, welche die Eingabe der Einträge einer Matrix mit einer vorgegebenen Anzahl an Spalten und Zeilen erlaubt und diese Matrix am Ende zurückgibt. Die Anzahl von Spalten und Zeilen sollen beim Funktionsaufruf varriert werden können."
   ]
  },
  {
   "cell_type": "code",
   "execution_count": null,
   "metadata": {},
   "outputs": [],
   "source": [
    "# TODO"
   ]
  },
  {
   "cell_type": "markdown",
   "metadata": {},
   "source": [
    "## Übung 3: Vier gewinnt"
   ]
  },
  {
   "cell_type": "markdown",
   "metadata": {},
   "source": [
    "### Spielstand\n",
    "\n",
    "Definieren Sie eine Datenstruktur, welche den Spielzustand des Spiels \"Vier gewinnt\" nach jedem Spielzug darstellen kann."
   ]
  },
  {
   "cell_type": "code",
   "execution_count": null,
   "metadata": {},
   "outputs": [],
   "source": [
    "# TODO"
   ]
  },
  {
   "cell_type": "markdown",
   "metadata": {},
   "source": [
    "### Spielzug\n",
    "\n",
    "Schreiben Sie darauf aufbauend eine Funktion, welche für einen gegebenen Spielstand berechnet, ob eine gegebene Spalte eine weitere Münze aufnehmen kann."
   ]
  },
  {
   "cell_type": "code",
   "execution_count": null,
   "metadata": {},
   "outputs": [],
   "source": [
    "# TODO"
   ]
  },
  {
   "cell_type": "markdown",
   "metadata": {},
   "source": [
    "### Spielende 1\n",
    "\n",
    "Schreiben Sie des Weiteren eine Funktion, welche berechnet, ob der aktuelle Spieler nach seinem durchgeführten Spielzug gewonnen hat oder nicht."
   ]
  },
  {
   "cell_type": "code",
   "execution_count": null,
   "metadata": {},
   "outputs": [],
   "source": [
    "# TODO"
   ]
  },
  {
   "cell_type": "markdown",
   "metadata": {},
   "source": [
    "### Spielende 2\n",
    "\n",
    "Schreiben Sie zudem noch eine Funktion, welche berechnet, ob ein weiterer Spielzug möglich ist oder alle Spalten vollständig belegt sind."
   ]
  },
  {
   "cell_type": "code",
   "execution_count": null,
   "metadata": {},
   "outputs": [],
   "source": [
    "# TODO"
   ]
  },
  {
   "cell_type": "markdown",
   "metadata": {},
   "source": [
    "### Spielschleife\n",
    "\n",
    "Schreiben Sie schließlich die Spielschleife, welche die Eingabe der Spieler abwechselnd abfragt, die Eingabe prüft, den Spielstand aktualisiert und ausgibt, und das Spielende prüft."
   ]
  },
  {
   "cell_type": "code",
   "execution_count": null,
   "metadata": {},
   "outputs": [],
   "source": [
    "# TODO"
   ]
  }
 ],
 "metadata": {
  "language_info": {
   "name": "python"
  }
 },
 "nbformat": 4,
 "nbformat_minor": 2
}
