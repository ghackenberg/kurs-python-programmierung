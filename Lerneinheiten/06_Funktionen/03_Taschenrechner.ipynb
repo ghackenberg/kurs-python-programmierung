{
 "cells": [
  {
   "cell_type": "markdown",
   "metadata": {},
   "source": [
    "# Anwendungen von Funktionen - Taschenrechner\n",
    "\n",
    "Grundsätzlich werden Funktion dafür verwendet, größere Programme in kleinere Unterprogramme zu gliedern und somit die Übersichtlichkeit zu verbessern. Außerdem ermöglichen Funktionen die Wiederverwendung von Unterprogrammen wie z.B. bei der Sortierung von Zahlenlisten."
   ]
  },
  {
   "cell_type": "markdown",
   "metadata": {},
   "source": [
    "## 1. Zahl einlesen"
   ]
  },
  {
   "cell_type": "markdown",
   "metadata": {},
   "source": [
    "### 1.1. Funktionsdefinition"
   ]
  },
  {
   "cell_type": "code",
   "execution_count": null,
   "metadata": {},
   "outputs": [
    {
     "name": "stdout",
     "output_type": "stream",
     "text": [
      "zahl1 = 1\n",
      "zahl2 = 6\n"
     ]
    }
   ],
   "source": [
    "def zahlEinlesen():\n",
    "    while True:\n",
    "        try:\n",
    "            return int(input(\"Bitte Zahl eingeben:\"))\n",
    "        except:\n",
    "            print(\"Eingabe konnte nicht verarbeitet werden!\")"
   ]
  },
  {
   "cell_type": "markdown",
   "metadata": {},
   "source": [
    "### 1.2. Funktionsaufrufe"
   ]
  },
  {
   "cell_type": "code",
   "execution_count": null,
   "metadata": {},
   "outputs": [],
   "source": [
    "zahl1 = zahlEinlesen()\n",
    "print(f\"zahl1 = {zahl1}\")"
   ]
  },
  {
   "cell_type": "code",
   "execution_count": null,
   "metadata": {},
   "outputs": [],
   "source": [
    "zahl2 = zahlEinlesen()\n",
    "print(f\"zahl2 = {zahl2}\")"
   ]
  },
  {
   "cell_type": "markdown",
   "metadata": {},
   "source": [
    "## 2. Operator einlesen"
   ]
  },
  {
   "cell_type": "markdown",
   "metadata": {},
   "source": [
    "### 2.1. Funktionsdefinition"
   ]
  },
  {
   "cell_type": "code",
   "execution_count": null,
   "metadata": {},
   "outputs": [
    {
     "name": "stdout",
     "output_type": "stream",
     "text": [
      "operator = -\n"
     ]
    }
   ],
   "source": [
    "def operatorEinlesen():\n",
    "    while True:\n",
    "        operator = input(\"Bitte Operator eingeben:\")\n",
    "        if operator in [\"+\", \"-\", \"*\", \"/\"]:\n",
    "            return operator\n",
    "        else:\n",
    "            print(\"Eingabe konnte nicht verarbeitet werden!\")"
   ]
  },
  {
   "cell_type": "markdown",
   "metadata": {},
   "source": [
    "### 2.2. Funktionsaufrufe"
   ]
  },
  {
   "cell_type": "code",
   "execution_count": null,
   "metadata": {},
   "outputs": [],
   "source": [
    "operator = operatorEinlesen()\n",
    "print(f\"operator = {operator}\")"
   ]
  }
 ],
 "metadata": {
  "language_info": {
   "name": "python"
  }
 },
 "nbformat": 4,
 "nbformat_minor": 2
}
