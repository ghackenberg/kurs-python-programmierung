{
 "cells": [
  {
   "cell_type": "markdown",
   "metadata": {},
   "source": [
    "# 1. Grundlegende Definitionen\n",
    "\n",
    "Im Folgenden klären wir zunächst **drei wichtige Begriffe** im Kontext von Programmierung und Softwareentwicklung:\n",
    "\n",
    "- Computer\n",
    "- Programme\n",
    "- Daten"
   ]
  },
  {
   "cell_type": "markdown",
   "metadata": {},
   "source": [
    "## 1.1. Computer\n",
    "\n",
    "*Kommt bald*\n",
    "\n",
    "- Von-Neumann-Architektur\n",
    "- Von-Neumann-Zyklus"
   ]
  },
  {
   "cell_type": "markdown",
   "metadata": {},
   "source": [
    "### 1.1.1. Von-Neumann-Architektur\n",
    "\n",
    "Zunächst wollen wir uns einmal ansehen, wie **digitale Rechner (bzw. Computer) intern aufgebaut sind**. Die folgende Grafik zeigt die grundlegende *Architektur des Computers*, die ursprünglich *John von Neumann* an der *Universität Princeton* in den 1940er Jahren entwickelt hat.\n",
    "\n",
    "![](../../Grafiken/Mermaid/Computer/Architektur.png)\n",
    "\n",
    "Die Architektur umfasst die folgenden Komponenten:\n",
    "\n",
    "- **Zentrale Recheneinheit** - Durchführung der Rechenoperationen und Datenaustausch mit den Geräten\n",
    "  - *Steuerwerk* - Steuerung der Arbeitsschritte (d.h. Berechnungen und Buskommunukation)\n",
    "  - *Rechenwerk* - Durchführung der eigentlichen Berechnungen (Addition, Multiplikation, ...)\n",
    "  - *Register* - Speicherung der Befehle und Daten für die Berechnungen sowie Rechenergebnisse\n",
    "- **Bussystem**\n",
    "  - *Steuerbus* - Regelung des lesenden und schreibenden Zugriffs auf Daten sowie Unterbrechungen\n",
    "  - *Adressbus* - Adressierung von Speicherzellen innerhalb der unterschiedlichen Geräte\n",
    "  - *Datenbus* - Übertragung der Speicherinhalte zwischen zentraler Recheneinheit und Geräten\n",
    "- **Geräte**\n",
    "  - *Festwertspeicher* - Speicherung der Befehle für das Starten des Systems (inkl. Betriebssystem)\n",
    "  - *Hauptspeicher* - Speicherung von Programmen (d.h. Befehlen) und Daten im eigentlichen Systembetrieb\n",
    "  - *Festplatte* - Sichere Speicherung von Programmen und Daten auch nach Systemstop bzw. -absturz\n",
    "  - *Grafikkarte* - Generierung von Bildern und Übertragung an Monitore über definierte Schnittstelle\n",
    "  - *Netzwerkkarte* - Senden und Empfangen von Netzwerknachrichten über unterschiedliche Medien\n",
    "  - ..."
   ]
  },
  {
   "cell_type": "markdown",
   "metadata": {},
   "source": [
    "### 1.1.2. Von-Neumann-Zyklus\n",
    "\n",
    "*Kommt bald*"
   ]
  },
  {
   "cell_type": "markdown",
   "metadata": {},
   "source": [
    "## 1.2. Programme\n",
    "\n",
    "Klären wir erst einmal den **Begriff des Computerprogramms**. Im Folgenden findest du drei aufeinander aufbauende Definitionen:\n",
    "\n",
    "- Grundlegende Programmdefinition\n",
    "- Erweiterte Programmdefinition\n",
    "- Allgemeine Programmdefinition"
   ]
  },
  {
   "cell_type": "markdown",
   "metadata": {},
   "source": [
    "### 1.2.1. Grundlegende Programmdefinition\n",
    "\n",
    "Starten wir mit dem Klassiker, dem **Hallo Welt Programm**. Das Hallo Welt Programm erzeugt lediglich die *Ausgabe Hallo Welt und terminiert*. Die folgende Grafik zeigt den *grundlegenden schematischen Aufbau* eines Hallo Welt Programms.\n",
    "\n",
    "![](../../Grafiken/Mermaid/Programme/Hallo_Welt.png)\n",
    "\n",
    "Und so sieht das Hallo Welt Programm in *Python Quelltext* aus:"
   ]
  },
  {
   "cell_type": "code",
   "execution_count": 1,
   "metadata": {},
   "outputs": [
    {
     "name": "stdout",
     "output_type": "stream",
     "text": [
      "Hallo Welt\n"
     ]
    }
   ],
   "source": [
    "print(\"Hallo Welt\")"
   ]
  },
  {
   "cell_type": "markdown",
   "metadata": {},
   "source": [
    "### 1.2.2. Erweiterte Programmdefinition\n",
    "\n",
    "Das Hallo Welt Programm ist ein *Spezialfall von Computerprogrammen*. Neben dem Erzeugen von Ausgaben kann ein Computerprogramm in der Regel auch **Eingaben verarbeiten**. Der *erweiterte schematische Aufbau* eines Computerprogramms ist in folgender Grafik dargestellt.\n",
    "\n",
    "![](../../Grafiken/Mermaid/Programme/Erweitert.png)\n",
    "\n",
    "Ein Python Programm, das Eingaben verarbeitet, sieht z.B. so aus:"
   ]
  },
  {
   "cell_type": "code",
   "execution_count": 2,
   "metadata": {},
   "outputs": [
    {
     "name": "stdout",
     "output_type": "stream",
     "text": [
      "Meine Texteingabe\n"
     ]
    }
   ],
   "source": [
    "print(input(\"Bitte eine Zeichenkette eingeben.\"))"
   ]
  },
  {
   "cell_type": "markdown",
   "metadata": {},
   "source": [
    "### 1.2.3. Allgemeine Programmdefinition\n",
    "\n",
    "Die Nutzer eines Programms sind in der Regel *Menschen*. Die Ausgaben eines Programmes können jedoch auch **von anderen Programmen verarbeitet** werden.. Genauso können die Eingaben eines Programmes **von anderen Programmen generiert** werden. Dieser Sachverhalt ist im *allgemeinen schematischen Aufbau* noch einmal verdeutlicht:\n",
    "\n",
    "![](../../Grafiken/Mermaid/Programme/Allgemein.png)\n",
    "\n",
    "Für die Umsetzung der Interaktion zweiter Programme gibt es **zwei wichtige Techniken**:\n",
    "\n",
    "- *Pipes* zur Interaktion zwischen Prozessen *auf demselben Rechner*\n",
    "- *Sockets* zur Interaktion zwischen Prozessen *auf demselben oder unterschiedlichen Rechnern*\n",
    "\n",
    "Die Interaktion zwischen Programmen betrachten wir im Rahmen des Kurses *nicht* weiter."
   ]
  },
  {
   "cell_type": "markdown",
   "metadata": {},
   "source": [
    "## 1.3. Daten\n",
    "\n",
    "Wie bereits zuvor diskutiert, verarbeiten Computerprogramme **Daten**. Aber was sind eigentlich Daten? Man unterscheidet grundsätzlich *verschiedene Datentypen*, deren Repräsentation im Speicher sich auch deutlich von einander abgrenzen lässt. Die drei *grundlegendsten Datentypen* und deren Speicherrepräsentationen werden im folgenden eingeführt:\n",
    "\n",
    "- Wahrheitswerte\n",
    "- Zahlen\n",
    "- Zeichenketten"
   ]
  },
  {
   "cell_type": "markdown",
   "metadata": {},
   "source": [
    "### 1.3.1. Wahrheitswerte\n",
    "\n",
    "Zunächst arbeiten Computerprogramme gerne mit Wahrheitswerten. Wahrheitswerte können **zwei Zustände** annehmen: *Wahr* und *Falsch*. Mit diesen beiden Zuständen treffen Computerprogramme meistens *Entscheidungen über die Programmausführung*. Zum Beispiel könnte ein Computerprogramm bestimmte funktionen nur für *Kunden mit einem Premium-Konto* ausführen.\n",
    "\n",
    "Die beiden Wahrheitswerte *Wahr* und *Falsch* könnte man **theoretisch mit einem einzelnen Bit speichern**. Jedoch adressieren Computerprogramme in der Regel *nicht* einzelne Bits im Speicher. Die *kleinste adressierbare Speichereinheit* ist typischerweise ein Byte (bestehend aus 8 Bit). Demnach muss hier ein wenig getrickst werden.\n",
    "\n",
    "Der Wahrheitswert **Falsch** entspricht einem Byte, bei dem **alle 8 Bits den Wert Null haben**.\n",
    "\n",
    "![](../../Grafiken/Mermaid/Literale/False.png)\n",
    "\n",
    "Der Wahrheitswert *Wahr* entspricht hingegen einem Byte, bei dem **mindestens ein Bit nicht den Wert Null hat**.\n",
    "\n",
    "![](../../Grafiken/Mermaid/Literale/True.png)"
   ]
  },
  {
   "cell_type": "markdown",
   "metadata": {},
   "source": [
    "### 1.3.2. Zahlen\n",
    "\n",
    "Neben Wahrheitswerten für Entscheidungen arbeiten Computerprogramme auch gerne mit **Zahlen**. Zahlen werden für *unterschiedliche Funktionen* verwendet. In sozialen Medien zählen Computerprogramme beispielsweise die *Anzahl an Impressionen* eines Inhalts oder die *durchschnittliche Impressionsdauer*.\n",
    "\n",
    "Für die **Repräsentation von Zahlen im Speicher** gibt es unterschiedliche Möglichkeiten mit entsprechenden Einschränkungen. Grundsätzlich gilt: *je mehr Bytes* für die Darstellung von Zahlen verwendet werden, *desto größer ist der Wertebereich*, der abgebildet werden kann. Die Anzahl unterschiedlicher Werte ergibt sich aus der **Anzahl an Zuständen** eines Bits (= 2, nämlich ``0`` und ``1``) **hoch** der **Anzahl an Bits** (= 8 bei 1 Byte).\n",
    "\n",
    "- Mit **1 Byte** können *256 Werte* unterschieden werden\n",
    "- Mit **2 Bytes** können *65.536 Werte* unterschieden werden.\n",
    "- Mit **3 Bytes** können *16.777.216 Werte* unterschieden werden.\n",
    "- Mit **4 Bytes** können *4.294.967.296 Werte* unterschieden werden.\n",
    "\n",
    "Unabhängig von der Bytezahl werden des weiteren unterschiedliche Techniken für die **Repräsentation von Ganzzahlen und Gleitkommazahlen** verwendet.\n",
    "\n",
    "Die folgende Grafik zeigt beispielsweise die **Repräsentation der Zahl 1 mittels 4 Bits**. Beachte, dass jedem Bit ein Stellenwert zugeornet wird, mit dem dieses Bit multipliziert wird (*vertikale Achsen*). Die Multiplikationsergebnisse der einzelnen Bits werden schließlich summiert um das Gesamtergebnis zu erhalten (*horizontale Achse*). Dieses Verfahren wird für die Umrechnung vom Binärsystem in das Dezimalsystem verwendet.\n",
    "\n",
    "![](../../Grafiken/LibreOffice/Zahlen/Ganzzahlen%20-%201.png)\n",
    "\n",
    "Die nächste Grafik zeigt die **Repräsentation der Zahl 10 ebenfalls mittels 4 Bits**. In diesem Fall hat das zweite und das vierte Bit den Wert 1, die anderen beiden Bits haben den Wert 0. Des Weiteren hat das zweite Bit den Stellenwert 2 (= ``2^1``) und das vierte Bit den Stellenwert 8 (= ``2^3``). Somit ergibt sich der Gesamtwert us der Summe dieser beiden Stellenwerte, bei denen das zugehörige Bit den Wert 1 hat.\n",
    "\n",
    "![](../../Grafiken/LibreOffice/Zahlen/Ganzzahlen%20-%202.png)\n",
    "\n",
    "Die **Repräsentation von Gleitkommazahlen** ist etwas komplizierter und soll aus Platzgründen hier nur am Rande erwähnt sein. Grundsätzlich arbeit die Darstellung mit einem *Exponenten und einem Bruchanteil*. Sowohl für Exponent als auch für Bruchanteil ist eine feste Anzahl an Bits reserviert. Wer mehr darüber erfahren will, kann sich gerne die zugehörige [Wikipedia-Seite](https://de.wikipedia.org/wiki/Gleitkommazahl) durchlesen."
   ]
  },
  {
   "cell_type": "markdown",
   "metadata": {},
   "source": [
    "### 1.3.3. Zeichenketten\n",
    "\n",
    "Schließlich arbeiten Computerprogramme auch gerne mit **textuellen Daten** (auch genannt Zeichenketten). Zeichenketten werden zum Beispiel verwendet, um *Ausgaben an den Nutzer zu senden* oder *Eingaben des Nutzers über die Tastatur zu empfangen*. In der Programmdefinition haben wir beispielsweise schon die Zeichenkette ``\"Hallo Welt\"`` kennengelernt, welche als Ausgabe an den Nutzer geschickt wird.\n",
    "\n",
    "Wie bereits vorher besprochen nehmen Wahrheitswerte oder Zahlen *immer eine feste Anzahl an Bytes* im Speichern ein. Bei Zeichenketten ist das anders. Tatsächlich hängt die *Anzahl der Bytes von der Länge der Zeichenkette* ab. *Je länger* die Zeichenkette ist, *desto mehr* Speicherzellen werden für die Speicherung der Zeichenkette benötigt. Traditionell wird **pro Byte ein Zeichen** der Zeichenkette gespeichert. Ein **zusätzliches Byte** wird benötigt, um das **Ende der Zeichenkette zu signalisieren**. Diese Form der Speicherung ist in der *folgenden Grafik dargestellt*.\n",
    "\n",
    "![](../../Grafiken/Mermaid/Literale/String.png)"
   ]
  }
 ],
 "metadata": {
  "kernelspec": {
   "display_name": "Python 3",
   "language": "python",
   "name": "python3"
  },
  "language_info": {
   "codemirror_mode": {
    "name": "ipython",
    "version": 3
   },
   "file_extension": ".py",
   "mimetype": "text/x-python",
   "name": "python",
   "nbconvert_exporter": "python",
   "pygments_lexer": "ipython3",
   "version": "3.12.1"
  }
 },
 "nbformat": 4,
 "nbformat_minor": 2
}
