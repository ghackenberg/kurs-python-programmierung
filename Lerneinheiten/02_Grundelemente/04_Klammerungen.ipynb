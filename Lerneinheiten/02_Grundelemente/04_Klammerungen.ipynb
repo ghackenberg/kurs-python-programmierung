{
 "cells": [
  {
   "cell_type": "markdown",
   "metadata": {},
   "source": [
    "# 4. Klammerungen\n",
    "\n",
    "Nun stellt sich noch die Frage, was passiert, wenn man mehrere Operatoren in einer Berechnung verwendet. Tatächlich haben bei der Berechnung manche Operatoren Vorrang vor anderen Operatoren. Durch Klammerung kann man aber die Reihenfolge der Auswertung von Operatoren beeinflussen. Der Effek der Klammerung ist im Folgenden an den boolschen Operatoren `not` und `or` dargestellt."
   ]
  },
  {
   "cell_type": "code",
   "execution_count": null,
   "metadata": {},
   "outputs": [],
   "source": [
    "not True or True # Der Operator not hat Vorrang vor dem Operator or"
   ]
  },
  {
   "cell_type": "code",
   "execution_count": null,
   "metadata": {},
   "outputs": [],
   "source": [
    "not (True or True) # Der Operator or hat nun Vorrang vor dem Operator not"
   ]
  },
  {
   "cell_type": "markdown",
   "metadata": {},
   "source": [
    "Genauso will man vermutlich mehrere arithmetische Operatoren in einer einzigen Berechung verwenden. Es gibt natürlich auch Regeln für den Vorrang zwischen arithmetischen Operatoren, die sich an er Mathematik anlehnen. Die folgenden beiden Beispiele zeigen den Effekt von Klammerung auf das Ergebnis einer arithmetischen Berechnung mit den Operatoren `+` und `*`."
   ]
  },
  {
   "cell_type": "code",
   "execution_count": null,
   "metadata": {},
   "outputs": [],
   "source": [
    "1 + 5 * 7"
   ]
  },
  {
   "cell_type": "code",
   "execution_count": null,
   "metadata": {},
   "outputs": [],
   "source": [
    "(1 + 5) * 7"
   ]
  },
  {
   "cell_type": "markdown",
   "metadata": {},
   "source": [
    "Komplexe Beispiel"
   ]
  },
  {
   "cell_type": "code",
   "execution_count": null,
   "metadata": {},
   "outputs": [
    {
     "data": {
      "text/plain": [
       "False"
      ]
     },
     "metadata": {},
     "output_type": "display_data"
    }
   ],
   "source": [
    "1 + 5 * 7 // 5 + 3 == 5 or (False or 5 - 7 == 7)\n",
    "\n",
    "# Auswertungsreihenfolge ergibt sich aus Priorität der Operatoren\n",
    "# Operatoren mit höchster Priorität werden als erstes ausgewertet\n",
    "# Wenn mehrere Operatoren die gleiche Priorität haben, erfolgt Auswertung von links nach rechts"
   ]
  }
 ],
 "metadata": {
  "language_info": {
   "name": "python"
  }
 },
 "nbformat": 4,
 "nbformat_minor": 2
}
