{
 "cells": [
  {
   "cell_type": "markdown",
   "metadata": {},
   "source": [
    "# 7. Methoden (built-in)\n",
    "\n",
    "Methoden sind wie Funktionen, nur dass der erste Parameter des Funktionsaufrufs dem Funktionsnamen mit einem Punkt vorangestellt (und nicht zwischen die runden Klammern in die Parameterliste geschrieben) wird. Im Folgenden unterscheiden wir zwei Arten von Methoden:\n",
    "\n",
    "* **Methoden für Sammlungen** allgemein und\n",
    "* **Methoden für Listen** spezifisch.\n",
    "\n",
    "Die beiden Arten von Methoden werden nun genauer beschrieben."
   ]
  },
  {
   "cell_type": "markdown",
   "metadata": {},
   "source": [
    "## 7.1. Methoden für Sammlungen\n",
    "\n",
    "Zeichenketten, Tupel, Listen und Ganzzahlenbereiche bieten:\n",
    "\n",
    "* die Methode `index` um ein Element in der Sammlung zu suchen und dessen Position zu bestimmen.\n",
    "\n",
    "Im Folgenden betrachten wir die Funktionsweise der Methode genauer."
   ]
  },
  {
   "cell_type": "markdown",
   "metadata": {},
   "source": [
    "### 7.1.1. Methode `index`\n",
    "\n",
    "Bestimmung der Position eines Elements in einer Sammlung."
   ]
  },
  {
   "cell_type": "code",
   "execution_count": 2,
   "metadata": {},
   "outputs": [
    {
     "data": {
      "text/plain": [
       "2"
      ]
     },
     "execution_count": 2,
     "metadata": {},
     "output_type": "execute_result"
    }
   ],
   "source": [
    "\"abcdef\".index(\"c\") # Zeichenkette"
   ]
  },
  {
   "cell_type": "code",
   "execution_count": 3,
   "metadata": {},
   "outputs": [
    {
     "data": {
      "text/plain": [
       "1"
      ]
     },
     "execution_count": 3,
     "metadata": {},
     "output_type": "execute_result"
    }
   ],
   "source": [
    "(1, 5, 7).index(5) # Tupel"
   ]
  },
  {
   "cell_type": "code",
   "execution_count": 4,
   "metadata": {},
   "outputs": [
    {
     "data": {
      "text/plain": [
       "0"
      ]
     },
     "execution_count": 4,
     "metadata": {},
     "output_type": "execute_result"
    }
   ],
   "source": [
    "[True, False, True, False].index(True) # Liste"
   ]
  },
  {
   "cell_type": "code",
   "execution_count": 5,
   "metadata": {},
   "outputs": [
    {
     "data": {
      "text/plain": [
       "1"
      ]
     },
     "execution_count": 5,
     "metadata": {},
     "output_type": "execute_result"
    }
   ],
   "source": [
    "range(5, 10, 2).index(7) # Ganzzahlenbereich"
   ]
  },
  {
   "cell_type": "markdown",
   "metadata": {},
   "source": [
    "Alle Positionen bestimmen"
   ]
  },
  {
   "cell_type": "code",
   "execution_count": null,
   "metadata": {},
   "outputs": [],
   "source": [
    "a = [True, False, True, False]"
   ]
  },
  {
   "cell_type": "code",
   "execution_count": 6,
   "metadata": {},
   "outputs": [
    {
     "name": "stdout",
     "output_type": "stream",
     "text": [
      "0\n",
      "2\n",
      "Ende!\n"
     ]
    }
   ],
   "source": [
    "try:\n",
    "    suchposition = 0\n",
    "    while True:\n",
    "        suchposition = a.index(True, suchposition)\n",
    "        print(suchposition)\n",
    "        suchposition = suchposition + 1\n",
    "except:\n",
    "    print(\"Ende!\")"
   ]
  },
  {
   "cell_type": "code",
   "execution_count": 7,
   "metadata": {},
   "outputs": [
    {
     "name": "stdout",
     "output_type": "stream",
     "text": [
      "0\n",
      "2\n"
     ]
    }
   ],
   "source": [
    "for i in range(len(a)):\n",
    "    if a[i] == True:\n",
    "        print(i)"
   ]
  },
  {
   "cell_type": "markdown",
   "metadata": {},
   "source": [
    "## 7.2. Methoden für Listen\n",
    "\n",
    "Listen bieten:\n",
    "\n",
    "* die Methode `append` zum Anhängen von Listenelementen,\n",
    "* die Methode `pop` zum Entfernen von Listenelementen und\n",
    "* die Methode `sort` zum Sortieren von Listenelementen.\n",
    "\n",
    "Im Folgenden betrachten wir die Methoden genauer."
   ]
  },
  {
   "cell_type": "markdown",
   "metadata": {},
   "source": [
    "### 7.2.1. Methode `append`\n",
    "\n",
    "Anhängen eines Elements an das Ende einer Liste."
   ]
  },
  {
   "cell_type": "code",
   "execution_count": 6,
   "metadata": {},
   "outputs": [
    {
     "name": "stdout",
     "output_type": "stream",
     "text": [
      "[1, 5, 7, 10]\n"
     ]
    }
   ],
   "source": [
    "a = [1, 5, 7]\n",
    "a.append(10)\n",
    "\n",
    "print(a)"
   ]
  },
  {
   "cell_type": "markdown",
   "metadata": {},
   "source": [
    "### 7.2.2. Methode `pop`\n",
    "\n",
    "Entfernen des letzten Listenelements."
   ]
  },
  {
   "cell_type": "code",
   "execution_count": 9,
   "metadata": {},
   "outputs": [
    {
     "name": "stdout",
     "output_type": "stream",
     "text": [
      "a = [1, 5]\n",
      "b = 7\n"
     ]
    }
   ],
   "source": [
    "a = [1, 5, 7]\n",
    "b = a.pop()\n",
    "\n",
    "print(f\"a = {a}\")\n",
    "print(f\"b = {b}\")"
   ]
  },
  {
   "cell_type": "markdown",
   "metadata": {},
   "source": [
    "### 7.2.3. Methode `sort`\n",
    "\n",
    "Sortieren einer Liste von Zahlen oder Zeichenketten."
   ]
  },
  {
   "cell_type": "code",
   "execution_count": 14,
   "metadata": {},
   "outputs": [
    {
     "name": "stdout",
     "output_type": "stream",
     "text": [
      "[-10, -1, 1, 5, 7]\n"
     ]
    }
   ],
   "source": [
    "# Liste von Zahlen\n",
    "\n",
    "a = [1, -1, 5, 7, -10]\n",
    "a.sort()\n",
    "\n",
    "print(a)"
   ]
  },
  {
   "cell_type": "code",
   "execution_count": 13,
   "metadata": {},
   "outputs": [
    {
     "name": "stdout",
     "output_type": "stream",
     "text": [
      "['aa', 'ab', 'ac']\n"
     ]
    }
   ],
   "source": [
    "# Liste von Zeichenketten\n",
    "\n",
    "a = [\"ac\", \"ab\", \"aa\"]\n",
    "a.sort()\n",
    "\n",
    "print(a)"
   ]
  }
 ],
 "metadata": {
  "kernelspec": {
   "display_name": "Python 3",
   "language": "python",
   "name": "python3"
  },
  "language_info": {
   "codemirror_mode": {
    "name": "ipython",
    "version": 3
   },
   "file_extension": ".py",
   "mimetype": "text/x-python",
   "name": "python",
   "nbconvert_exporter": "python",
   "pygments_lexer": "ipython3",
   "version": "3.12.3"
  }
 },
 "nbformat": 4,
 "nbformat_minor": 2
}
