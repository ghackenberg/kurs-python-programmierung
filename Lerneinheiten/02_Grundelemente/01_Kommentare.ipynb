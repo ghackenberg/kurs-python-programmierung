{
 "cells": [
  {
   "cell_type": "markdown",
   "metadata": {},
   "source": [
    "# 1. Kommentare\n",
    "\n",
    "Quelltext kann schnell sehr *umfassend und schwierig zu lesen* werden. Kommentare können dabei helfen, die **Lesbarkeit und Verständlichkeit des Quelltextes** zu verbessern. Insbesondere bei *größeren Softwareprojekten mit mehreren Programmieren* sind Kommentare sehr hilfreich.  Sie sollen dabei helfen, die *Zeit für die Einarbeitung in den Quelltext zu reduzieren*. Eine schnellere Einarbeitung *spart wiederum Kosten für das Onboarding* neuer Entwickler. Außerdem kann dadurch die *Kosten für Fehlerbehebung und Funktionserweiterung* gesenkt werden.\n",
    "\n",
    "In Python starten Kommentare mit dem Gattersymbol (d.h. ``# ...``)."
   ]
  },
  {
   "cell_type": "code",
   "execution_count": null,
   "metadata": {},
   "outputs": [],
   "source": [
    "# Hier ist ein Kommentar!\n",
    "\n",
    "print(\"Hallo Welt\")"
   ]
  },
  {
   "cell_type": "markdown",
   "metadata": {},
   "source": [
    "Wie im obigen Beispiel gezeigt kann man eine *ganze Zeile des Quelltextes als Kommentar* auszeichnen. Es ist jedoch auch möglich, nur einen **Teil einer Zeile des Quelltextes zu einem Kommentar** zu machen. Tatsächlich beginnt der Kommentar immer ab dem *ersten Gatterzeichen in einer Zeile*. Der Text vor dem ersten Gatterzeichen wird als *regulärer Quelltext interpretiert*.\n",
    "\n",
    "Hier ist ein Python Programm, bei dem der Kommentar erst in der Mitte der Zeile beginnt."
   ]
  },
  {
   "cell_type": "code",
   "execution_count": null,
   "metadata": {},
   "outputs": [],
   "source": [
    "print(\"Hallo Welt\") # Hier ist ein Kommentar!"
   ]
  }
 ],
 "metadata": {
  "language_info": {
   "name": "python"
  }
 },
 "nbformat": 4,
 "nbformat_minor": 2
}
