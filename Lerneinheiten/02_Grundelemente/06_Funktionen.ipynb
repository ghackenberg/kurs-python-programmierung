{
 "cells": [
  {
   "cell_type": "markdown",
   "metadata": {},
   "source": [
    "# 6. Funktionen (built-in)\n",
    "\n",
    "Operatoren bieten bereits die Möglichkeit, grundlegende Rechenoperationen mit der Programmiersprache Python durchzuführen. Für komplexere Aufgaben bietet Python das **Konzept von Funktionen** an. Im vorigen Teil haben wir bereits die Funktionen `print` und `str` kurz kennengelernt. In diesem Kapitel werden wir weitere Funktionen aus unterschiedlichen Funktionsgruppen kennenlernen:\n",
    "\n",
    "* Funktionen für Typbestimmung\n",
    "* Funktionen für Typkonvertierung\n",
    "* Funktionen für Zahlen\n",
    "* Funktionen für Sammlungen\n",
    "* Funktionen für Eingabe/Ausgabe\n",
    "\n",
    "Im Folgenden besprechen wir die einzelnen Funktionsgruppen genauer."
   ]
  },
  {
   "cell_type": "markdown",
   "metadata": {},
   "source": [
    "## 6.1. Funktionen für Typbestimmung\n",
    "\n",
    "Der Wert von Variablen kann unterschiedlichen Datentypen zugehören. Zur Laufzeit eines Programmes ist nicht immer sicher, welcher Datentyp aktuell für den Wert einer Variable verwendet wird. Deshalb kann es notwendig werden, dass ein Programm den aktuellen Datentyp eines Variablenwertes abfragt. Für die Abfrage des Datentypen bietet Python standardmäßig die Funktion `type`, wie in folgender Grafik dargestellt.\n",
    "\n",
    "![](../../Grafiken/Mermaid/Funktionen/Typbestimmung.png)\n",
    "\n",
    "Im folgenden Beschreiben wir die Signatur und die Funktionsweise der Funktion `type` genauer."
   ]
  },
  {
   "cell_type": "markdown",
   "metadata": {},
   "source": [
    "### 6.1.1. Funktion `type`\n",
    "\n",
    "Die Funktion `type` ermöglicht es, den **Datentyp eines Berechnungsergebnisses** zu bestimmen. Die Funktion hat als Übergabewert das Berechnungsergebnis. Der Rückgabewert der Funktion die Typinformation zum zugehörigen Datentyp (siehe *Literale für **Typinformationen*** weiter oben). Im Folgenden wenden wir die Funktion auf Wahrheitswerte, Zahlenwerte, und Zeichenketten selbst an."
   ]
  },
  {
   "cell_type": "code",
   "execution_count": null,
   "metadata": {},
   "outputs": [
    {
     "data": {
      "text/plain": [
       "bool"
      ]
     },
     "metadata": {},
     "output_type": "display_data"
    }
   ],
   "source": [
    "type(True) # Wahrheitswerte"
   ]
  },
  {
   "cell_type": "code",
   "execution_count": null,
   "metadata": {},
   "outputs": [
    {
     "data": {
      "text/plain": [
       "int"
      ]
     },
     "metadata": {},
     "output_type": "display_data"
    }
   ],
   "source": [
    "type(1) # ganze Zahl"
   ]
  },
  {
   "cell_type": "code",
   "execution_count": null,
   "metadata": {},
   "outputs": [
    {
     "data": {
      "text/plain": [
       "float"
      ]
     },
     "metadata": {},
     "output_type": "display_data"
    }
   ],
   "source": [
    "type(1.5) # Bruchzahl"
   ]
  },
  {
   "cell_type": "code",
   "execution_count": null,
   "metadata": {},
   "outputs": [
    {
     "data": {
      "text/plain": [
       "complex"
      ]
     },
     "metadata": {},
     "output_type": "display_data"
    }
   ],
   "source": [
    "type(3j) # komplexe Zahl"
   ]
  },
  {
   "cell_type": "code",
   "execution_count": null,
   "metadata": {},
   "outputs": [
    {
     "data": {
      "text/plain": [
       "str"
      ]
     },
     "metadata": {},
     "output_type": "display_data"
    }
   ],
   "source": [
    "type(\"Zeichenkette\") # Zeichenkette"
   ]
  },
  {
   "cell_type": "code",
   "execution_count": 2,
   "metadata": {},
   "outputs": [
    {
     "data": {
      "text/plain": [
       "tuple"
      ]
     },
     "execution_count": 2,
     "metadata": {},
     "output_type": "execute_result"
    }
   ],
   "source": [
    "type((1, 2)) # Tupel"
   ]
  },
  {
   "cell_type": "code",
   "execution_count": 5,
   "metadata": {},
   "outputs": [
    {
     "data": {
      "text/plain": [
       "list"
      ]
     },
     "execution_count": 5,
     "metadata": {},
     "output_type": "execute_result"
    }
   ],
   "source": [
    "type([\"a\", \"b\"]) # Liste"
   ]
  },
  {
   "cell_type": "code",
   "execution_count": 4,
   "metadata": {},
   "outputs": [
    {
     "data": {
      "text/plain": [
       "range"
      ]
     },
     "execution_count": 4,
     "metadata": {},
     "output_type": "execute_result"
    }
   ],
   "source": [
    "type(range(5)) # Ganzzahlenbereich"
   ]
  },
  {
   "cell_type": "code",
   "execution_count": 3,
   "metadata": {},
   "outputs": [
    {
     "data": {
      "text/plain": [
       "dict"
      ]
     },
     "execution_count": 3,
     "metadata": {},
     "output_type": "execute_result"
    }
   ],
   "source": [
    "type({ \"a\": True, \"b\": False }) # Abbildung"
   ]
  },
  {
   "cell_type": "code",
   "execution_count": null,
   "metadata": {},
   "outputs": [],
   "source": [
    "type(int) # Typinformation"
   ]
  },
  {
   "cell_type": "markdown",
   "metadata": {},
   "source": [
    "In den vorigen Beispielen waren die Übergabewerte der Funktion einfache boolsche, numerische, und Zeichenkettenliterale. Beachte, dass der Übergabewert einer Funktion auch **eine Variable oder eine Berechnung** bestehend aus Operatoren, Literalen und Variablen sein kann."
   ]
  },
  {
   "cell_type": "code",
   "execution_count": null,
   "metadata": {},
   "outputs": [
    {
     "data": {
      "text/plain": [
       "int"
      ]
     },
     "metadata": {},
     "output_type": "display_data"
    }
   ],
   "source": [
    "a = 1\n",
    "\n",
    "type(a)"
   ]
  },
  {
   "cell_type": "code",
   "execution_count": null,
   "metadata": {},
   "outputs": [
    {
     "data": {
      "text/plain": [
       "float"
      ]
     },
     "metadata": {},
     "output_type": "display_data"
    }
   ],
   "source": [
    "a = 1.5\n",
    "\n",
    "type(a * 2)"
   ]
  },
  {
   "cell_type": "code",
   "execution_count": null,
   "metadata": {},
   "outputs": [
    {
     "data": {
      "text/plain": [
       "complex"
      ]
     },
     "metadata": {},
     "output_type": "display_data"
    }
   ],
   "source": [
    "a = 3j\n",
    "b = 5j\n",
    "\n",
    "type(a * b)"
   ]
  },
  {
   "cell_type": "markdown",
   "metadata": {},
   "source": [
    "Der Rückgabewert der Funktion `type` kann wiederum in Berechnungen mit dem Operator `is` sowie dem Operator `is not` verwendet werden. So kann zum Beispiel die Gleichheit bzw. Ungleichheit von Typinformationen eines Berechnungsergebnisses bestimmt werden. Die folgenden beiden Beispiele zeigen diese Möglichkeit anhand von numerischen Berechnungen mit ganzen und rationalen Zahlen sowie den Operatoren `+` und `*`."
   ]
  },
  {
   "cell_type": "code",
   "execution_count": null,
   "metadata": {},
   "outputs": [
    {
     "data": {
      "text/plain": [
       "True"
      ]
     },
     "metadata": {},
     "output_type": "display_data"
    }
   ],
   "source": [
    "type(1 + 2) is int"
   ]
  },
  {
   "cell_type": "code",
   "execution_count": null,
   "metadata": {},
   "outputs": [
    {
     "data": {
      "text/plain": [
       "True"
      ]
     },
     "metadata": {},
     "output_type": "display_data"
    }
   ],
   "source": [
    "type(1 * 1.2) is not int"
   ]
  },
  {
   "cell_type": "markdown",
   "metadata": {},
   "source": [
    "## 6.2. Funktionen für Typkonvertierung\n",
    "\n",
    "Dann kann es notwendig sein, dass ein Python-Programm einen Wert eines bestimmten Datentypen in einen Wert eines anderen Datentypen zur Laufzeit konvertiert. Solche Konvertierungen sind z.B. notwendig, wenn Zahlen als Zeichenketten über eine Tastatureingabe oder eine Datei eingelesen werden. Die folgende Grafik gibt eine Übersicht über die Funktionen, die Python standardmäßig für Typkonvertierung anbieten.\n",
    "\n",
    "![](../../Grafiken/Mermaid/Funktionen/Typkonvertierung.png)\n",
    "\n",
    "Im Folgenden beschreiben wir die Signaturen und Funktionsweisen der einzelnen Funktionen genauer."
   ]
  },
  {
   "cell_type": "markdown",
   "metadata": {},
   "source": [
    "### 6.2.1. Funktion `bool`\n",
    "\n",
    "Die Funktion `bool` erlaubt die Umwandlung von Zeichenketten und Zahlen in boolsche Wahrheitswerte. Das folgende Beispiel zeigt zunächst die Anwendung der Funktion `bool` auf Zeichenketten. Nur die leere Zeichenkette wird auf den Wahrheitswert *Falsch* abgebildet. Alle anderen Zeichenketten werden auf den Wahrheitswert *Wahr* abgebildet."
   ]
  },
  {
   "cell_type": "code",
   "execution_count": null,
   "metadata": {},
   "outputs": [
    {
     "data": {
      "text/plain": [
       "False"
      ]
     },
     "metadata": {},
     "output_type": "display_data"
    }
   ],
   "source": [
    "bool(\"\") # Anwendung der Funktion auf die leere Zeichenkette"
   ]
  },
  {
   "cell_type": "code",
   "execution_count": null,
   "metadata": {},
   "outputs": [],
   "source": [
    "bool(\"x\") # Anwendung der Funktion auf eine nicht-leere Zeichenkette"
   ]
  },
  {
   "cell_type": "markdown",
   "metadata": {},
   "source": [
    "Beachte, dass es unerheblich ist, welcher Inhalt in der Zeichenkette steht. Auch die Zeichenkette `\"False\"` wird somit auf den Wahrheitswert *Wahr* abgebildet. Das ist auf den ersten Blick vielleicht etwas ungewöhnlich. So funktioniert die Typumwanldung mit der Funktion `bool` aber einfach."
   ]
  },
  {
   "cell_type": "code",
   "execution_count": null,
   "metadata": {},
   "outputs": [
    {
     "data": {
      "text/plain": [
       "True"
      ]
     },
     "metadata": {},
     "output_type": "display_data"
    }
   ],
   "source": [
    "bool(\"False\")"
   ]
  },
  {
   "cell_type": "markdown",
   "metadata": {},
   "source": [
    "Die Funktion `bool` kann nicht nur auf Zeichenketten angewendet werden, sondern auch auf Zahlen. Das folgende Beispiel zeigt die Anwendung der Funktion `bool` auf ganze, rationale und komplexe Zahlen. Wie man sieht, wird nur die Zahl *Null* auf den boolschen Wahrheitswert *Falsch* abgebildet."
   ]
  },
  {
   "cell_type": "code",
   "execution_count": null,
   "metadata": {},
   "outputs": [],
   "source": [
    "bool(0) # Ganze Zahl Null => Falsch"
   ]
  },
  {
   "cell_type": "code",
   "execution_count": null,
   "metadata": {},
   "outputs": [],
   "source": [
    "bool(0.0) # Rationale Zahl Null => Falsch"
   ]
  },
  {
   "cell_type": "code",
   "execution_count": null,
   "metadata": {},
   "outputs": [],
   "source": [
    "bool(0j) # Komplexe Zahl Null => Falsch"
   ]
  },
  {
   "cell_type": "markdown",
   "metadata": {},
   "source": [
    "Alle anderen Zahlen werden auf den Wahrheitswert *Wahr* abgebildet. Dabei ist es unerheblich, ob die Ausgangswerte ganze, rationale, oder komplexe Zahlen sind. Die folgenden drei Beispiele zeigen die Typumwandlung für alle drei Zahlentypen."
   ]
  },
  {
   "cell_type": "code",
   "execution_count": null,
   "metadata": {},
   "outputs": [],
   "source": [
    "bool(1) # Ganze Zahl ungleich Null => Wahr"
   ]
  },
  {
   "cell_type": "code",
   "execution_count": null,
   "metadata": {},
   "outputs": [],
   "source": [
    "bool(0.1) # Rationale Zahl ungleich Null => Wahr"
   ]
  },
  {
   "cell_type": "code",
   "execution_count": null,
   "metadata": {},
   "outputs": [],
   "source": [
    "bool(0.1j) # Komplexe Zahl ungleich Null => Wahr"
   ]
  },
  {
   "cell_type": "markdown",
   "metadata": {},
   "source": [
    "### 6.2.2. Funktion `int`\n",
    "\n",
    "Die Funktion `int` kann dafür verwendet werden, rationale Zahlen sowie Zeichenketten in ganze Zahlen umzuwandeln. Die folgenden beiden Beispiele zeigen die Anwendung der Funktion `int` auf rationale Zahlen. Beachte dass bei der Umwandlung die Nachkommaestellen einfach gestrichen werden. Außerdem können komplexe Zahlen nicht umgewandelt werden."
   ]
  },
  {
   "cell_type": "code",
   "execution_count": null,
   "metadata": {},
   "outputs": [
    {
     "data": {
      "text/plain": [
       "1"
      ]
     },
     "metadata": {},
     "output_type": "display_data"
    }
   ],
   "source": [
    "int(1.5) # Rationale Zahl => ganze Zahl"
   ]
  },
  {
   "cell_type": "code",
   "execution_count": null,
   "metadata": {},
   "outputs": [
    {
     "ename": "TypeError",
     "evalue": "int() argument must be a string, a bytes-like object or a real number, not 'complex'",
     "output_type": "error",
     "traceback": [
      "\u001b[1;31m---------------------------------------------------------------------------\u001b[0m\n",
      "\n",
      "\u001b[1;31mTypeError\u001b[0m                                 Traceback (most recent call last)\n",
      "\n",
      "Cell \u001b[1;32mIn[96], line 1\u001b[0m\n",
      "\n",
      "\u001b[1;32m----> 1\u001b[0m \u001b[38;5;28;43mint\u001b[39;49m\u001b[43m(\u001b[49m\u001b[38;5;241;43m5.7\u001b[39;49m\u001b[43mj\u001b[49m\u001b[43m)\u001b[49m \u001b[38;5;66;03m# Komplexe Zahl => Fehler!\u001b[39;00m\n",
      "\n",
      "\n",
      "\n",
      "\u001b[1;31mTypeError\u001b[0m: int() argument must be a string, a bytes-like object or a real number, not 'complex'"
     ]
    }
   ],
   "source": [
    "int(5.7j) # Komplexe Zahl => Fehler!"
   ]
  },
  {
   "cell_type": "markdown",
   "metadata": {},
   "source": [
    "Genauso kann die Funktion `int` auf Zeichenketten angewendet werden. Dabei muss sichergestellt sein, dass die Zeichenkette tatsächlich eine ganze Zahl darstellt. Wenn das nicht der Fall ist, löst die Funktion einen Fehler aus und beendet sofort die Programmausführung. Wie wir später lernen werden, kann dieser Fehler auch abgefangen werden."
   ]
  },
  {
   "cell_type": "code",
   "execution_count": null,
   "metadata": {},
   "outputs": [
    {
     "data": {
      "text/plain": [
       "1"
      ]
     },
     "metadata": {},
     "output_type": "display_data"
    }
   ],
   "source": [
    "int(\"1\")"
   ]
  },
  {
   "cell_type": "code",
   "execution_count": null,
   "metadata": {},
   "outputs": [
    {
     "ename": "ValueError",
     "evalue": "invalid literal for int() with base 10: '1.5'",
     "output_type": "error",
     "traceback": [
      "\u001b[1;31m---------------------------------------------------------------------------\u001b[0m\n",
      "\n",
      "\u001b[1;31mValueError\u001b[0m                                Traceback (most recent call last)\n",
      "\n",
      "Cell \u001b[1;32mIn[99], line 1\u001b[0m\n",
      "\n",
      "\u001b[1;32m----> 1\u001b[0m \u001b[38;5;28;43mint\u001b[39;49m\u001b[43m(\u001b[49m\u001b[38;5;124;43m\"\u001b[39;49m\u001b[38;5;124;43m1.5\u001b[39;49m\u001b[38;5;124;43m\"\u001b[39;49m\u001b[43m)\u001b[49m\n",
      "\n",
      "\n",
      "\n",
      "\u001b[1;31mValueError\u001b[0m: invalid literal for int() with base 10: '1.5'"
     ]
    }
   ],
   "source": [
    "int(\"1.5\")"
   ]
  },
  {
   "cell_type": "code",
   "execution_count": null,
   "metadata": {},
   "outputs": [
    {
     "ename": "ValueError",
     "evalue": "invalid literal for int() with base 10: 'a'",
     "output_type": "error",
     "traceback": [
      "\u001b[1;31m---------------------------------------------------------------------------\u001b[0m\n",
      "\n",
      "\u001b[1;31mValueError\u001b[0m                                Traceback (most recent call last)\n",
      "\n",
      "Cell \u001b[1;32mIn[100], line 1\u001b[0m\n",
      "\n",
      "\u001b[1;32m----> 1\u001b[0m \u001b[38;5;28;43mint\u001b[39;49m\u001b[43m(\u001b[49m\u001b[38;5;124;43m\"\u001b[39;49m\u001b[38;5;124;43ma\u001b[39;49m\u001b[38;5;124;43m\"\u001b[39;49m\u001b[43m)\u001b[49m\n",
      "\n",
      "\n",
      "\n",
      "\u001b[1;31mValueError\u001b[0m: invalid literal for int() with base 10: 'a'"
     ]
    }
   ],
   "source": [
    "int(\"a\")"
   ]
  },
  {
   "cell_type": "markdown",
   "metadata": {},
   "source": [
    "Nachdem eine Zeichenkette mit der Funktion in eine Zahl umgewandelt wurde, kann diese Zahl ganz normal als Operand für arithmetischen und vergleichenden Operatoren verwendet werden. Die folgenden beiden Beispiele zeigen die Verwendung der Zahl für den Operator `+` und den Operator `<`."
   ]
  },
  {
   "cell_type": "code",
   "execution_count": null,
   "metadata": {},
   "outputs": [
    {
     "data": {
      "text/plain": [
       "3"
      ]
     },
     "metadata": {},
     "output_type": "display_data"
    }
   ],
   "source": [
    "int(\"1\") + 2"
   ]
  },
  {
   "cell_type": "code",
   "execution_count": null,
   "metadata": {},
   "outputs": [],
   "source": [
    "int(\"1\") < 2"
   ]
  },
  {
   "cell_type": "markdown",
   "metadata": {},
   "source": [
    "### 6.2.3. Funktion `float`\n",
    "\n",
    "Die Funktion `float` kann dafür verwendet werden, sowohl ganze Zahlen als auch Zeichenketten in rationale Zahlen umzuwandeln. Die folgendenbeiden Beispiele zeigen zunächst die Anwendung der Funktion `float` auf ganze Zahlen. Beachte, das wie bei der funktion `int` die Umwandlung von komplexen Zahlen in rationale Zahlen nicht unterstützt wird."
   ]
  },
  {
   "cell_type": "code",
   "execution_count": null,
   "metadata": {},
   "outputs": [],
   "source": [
    "float(1) # Ganze Zahl => rationale Zahl"
   ]
  },
  {
   "cell_type": "code",
   "execution_count": null,
   "metadata": {},
   "outputs": [],
   "source": [
    "float(5j) # Komplexe Zahl => Fehler!"
   ]
  },
  {
   "cell_type": "markdown",
   "metadata": {},
   "source": [
    "Genauso kann die Funktion `float` auch wieder auf Zeichenketten angewendet werden. Dabei muss wiederum sichergestellt sein, dass die Zeichenkette tatsächlich eine ganze oder eine rationale Zahl darstellt. Wenn das nicht der Fall ist, wird wiederum ein Fehler ausgelöst und die Programmausführung sogfort beendet (kann abgefangen werden)."
   ]
  },
  {
   "cell_type": "code",
   "execution_count": null,
   "metadata": {},
   "outputs": [
    {
     "data": {
      "text/plain": [
       "1.6"
      ]
     },
     "metadata": {},
     "output_type": "display_data"
    }
   ],
   "source": [
    "float(\"1.6\")"
   ]
  },
  {
   "cell_type": "code",
   "execution_count": null,
   "metadata": {},
   "outputs": [
    {
     "data": {
      "text/plain": [
       "1.0"
      ]
     },
     "metadata": {},
     "output_type": "display_data"
    }
   ],
   "source": [
    "float(\"1\")"
   ]
  },
  {
   "cell_type": "code",
   "execution_count": null,
   "metadata": {},
   "outputs": [
    {
     "ename": "ValueError",
     "evalue": "could not convert string to float: 'a'",
     "output_type": "error",
     "traceback": [
      "\u001b[1;31m---------------------------------------------------------------------------\u001b[0m\n",
      "\n",
      "\u001b[1;31mValueError\u001b[0m                                Traceback (most recent call last)\n",
      "\n",
      "Cell \u001b[1;32mIn[103], line 1\u001b[0m\n",
      "\n",
      "\u001b[1;32m----> 1\u001b[0m \u001b[38;5;28;43mfloat\u001b[39;49m\u001b[43m(\u001b[49m\u001b[38;5;124;43m\"\u001b[39;49m\u001b[38;5;124;43ma\u001b[39;49m\u001b[38;5;124;43m\"\u001b[39;49m\u001b[43m)\u001b[49m\n",
      "\n",
      "\n",
      "\n",
      "\u001b[1;31mValueError\u001b[0m: could not convert string to float: 'a'"
     ]
    }
   ],
   "source": [
    "float(\"a\")"
   ]
  },
  {
   "cell_type": "markdown",
   "metadata": {},
   "source": [
    "Nachdem eine Zeichenkette mit der Funktion in eine Zahl umgewandelt wurde, kann diese Zahl ganz normal als Operand für arithmetischen und vergleichenden Operatoren verwendet werden. Die folgenden beiden Beispiele zeigen die Verwendung der Zahl für den Operator `+` und den Operator `<`."
   ]
  },
  {
   "cell_type": "code",
   "execution_count": null,
   "metadata": {},
   "outputs": [
    {
     "data": {
      "text/plain": [
       "7.1"
      ]
     },
     "metadata": {},
     "output_type": "display_data"
    }
   ],
   "source": [
    "float(\"1.6\") + 5.5"
   ]
  },
  {
   "cell_type": "code",
   "execution_count": null,
   "metadata": {},
   "outputs": [
    {
     "data": {
      "text/plain": [
       "True"
      ]
     },
     "metadata": {},
     "output_type": "display_data"
    }
   ],
   "source": [
    "float(\"1.6\") < 2"
   ]
  },
  {
   "cell_type": "markdown",
   "metadata": {},
   "source": [
    "### 6.2.4. Funktion `complex`\n",
    "\n",
    "Die Funktion `complex` kann dafür verwendet werden, sowohl ganze und rationale Zahlen als auch Zeichenketten in komplexe Zahlen umzuwandeln. Die folgendenbeiden Beispiele zeigen zunächst die Anwendung der Funktion `complex` auf ganze und rationale Zahlen. Die Zahlen werden einfach in komplexe Zahlen mit entsprechendem Imaginärteil umgewandelt."
   ]
  },
  {
   "cell_type": "code",
   "execution_count": null,
   "metadata": {},
   "outputs": [],
   "source": [
    "complex(1)"
   ]
  },
  {
   "cell_type": "code",
   "execution_count": null,
   "metadata": {},
   "outputs": [],
   "source": [
    "complex(5.5)"
   ]
  },
  {
   "cell_type": "markdown",
   "metadata": {},
   "source": [
    "Genauso kann die Funktion `complex` auch wieder auf Zeichenketten angewendet werden. Dabei muss wiederum sichergestellt sein, dass die Zeichenkette tatsächlich eine ganze, eine rationale, oder eine komplexe Zahl darstellt. Wenn das nicht der Fall ist, wird wiederum ein Fehler ausgelöst und die Programmausführung sogfort beendet (kann abgefangen werden)."
   ]
  },
  {
   "cell_type": "code",
   "execution_count": null,
   "metadata": {},
   "outputs": [],
   "source": [
    "complex(\"1.5\")"
   ]
  },
  {
   "cell_type": "code",
   "execution_count": null,
   "metadata": {},
   "outputs": [],
   "source": [
    "complex(\"1.5j\")"
   ]
  },
  {
   "cell_type": "code",
   "execution_count": null,
   "metadata": {},
   "outputs": [],
   "source": [
    "complex(\"a\")"
   ]
  },
  {
   "cell_type": "markdown",
   "metadata": {},
   "source": [
    "Nachdem eine Zeichenkette mit der Funktion in eine Zahl umgewandelt wurde, kann diese Zahl ganz normal als Operand für arithmetischen und vergleichenden Operatoren verwendet werden. Die folgenden beiden Beispiele zeigen die Verwendung der Zahl für den Operator `+` und den Operator `*`."
   ]
  },
  {
   "cell_type": "code",
   "execution_count": null,
   "metadata": {},
   "outputs": [
    {
     "data": {
      "text/plain": [
       "(5+1.5j)"
      ]
     },
     "metadata": {},
     "output_type": "display_data"
    }
   ],
   "source": [
    "complex(\"1.5j\") + 5"
   ]
  },
  {
   "cell_type": "code",
   "execution_count": null,
   "metadata": {},
   "outputs": [
    {
     "data": {
      "text/plain": [
       "3j"
      ]
     },
     "metadata": {},
     "output_type": "display_data"
    }
   ],
   "source": [
    "complex(\"1.5j\") * 2"
   ]
  },
  {
   "cell_type": "markdown",
   "metadata": {},
   "source": [
    "### 6.2.5. Funktion `str`\n",
    "\n",
    "Wie bereits zuvor erwähnt, ermöglicht die Funktion `str` die Umwandlung von boolschen Wahrheitswerten und numerischen Zahlenwerten in entsprechende Zeichenketten. Beachte dabei, dass sich im Speicher die Darstellung von boolschen Wahrheitswerten und Zahlen wesentlich von der Darstellung von Zeichenketten unterscheidet (siehe voriges Kapitel). Die Funktion `str` übernimmt somit die Umrechnung zwischen diesen unterschiedlichen Darstellungen im Speicher."
   ]
  },
  {
   "cell_type": "code",
   "execution_count": null,
   "metadata": {},
   "outputs": [],
   "source": [
    "str(True) # Umwandlung eines Wahrheitswertes in eine Zeichenkette"
   ]
  },
  {
   "cell_type": "code",
   "execution_count": null,
   "metadata": {},
   "outputs": [],
   "source": [
    "str(1) # Umwandlung einer ganzen Zahl in eine Zeichenkette"
   ]
  },
  {
   "cell_type": "code",
   "execution_count": null,
   "metadata": {},
   "outputs": [],
   "source": [
    "str(1.5) # Umwandlung einer rationalen Zahl in eine Zeichenkette"
   ]
  },
  {
   "cell_type": "code",
   "execution_count": null,
   "metadata": {},
   "outputs": [],
   "source": [
    "str(3j) # Umwandlung einer komplexen Zahl in eine Zeichenkette"
   ]
  },
  {
   "cell_type": "markdown",
   "metadata": {},
   "source": [
    "Nach der Typumwandlung kann der Rückgabewert ganz normal in Berechnungen mit Operatoren für Zeichenketten verwendet werden. Die folgenden drei Beispiele zeigen die Anwendung des Operators `[]` auf den Rückgabewert der Funktion `str`. Beachte, dass der Operator `[]`für die Berechnung einzelner Zeichen und Teilzeichenketten verwendet werden kann."
   ]
  },
  {
   "cell_type": "code",
   "execution_count": null,
   "metadata": {},
   "outputs": [
    {
     "data": {
      "text/plain": [
       "'1'"
      ]
     },
     "metadata": {},
     "output_type": "display_data"
    }
   ],
   "source": [
    "str(1.5)[0]"
   ]
  },
  {
   "cell_type": "code",
   "execution_count": null,
   "metadata": {},
   "outputs": [
    {
     "data": {
      "text/plain": [
       "'.'"
      ]
     },
     "metadata": {},
     "output_type": "display_data"
    }
   ],
   "source": [
    "str(1.5)[1]"
   ]
  },
  {
   "cell_type": "code",
   "execution_count": null,
   "metadata": {},
   "outputs": [
    {
     "data": {
      "text/plain": [
       "'5'"
      ]
     },
     "metadata": {},
     "output_type": "display_data"
    }
   ],
   "source": [
    "str(1.5)[2]"
   ]
  },
  {
   "cell_type": "markdown",
   "metadata": {},
   "source": [
    "Schließlich kann der Übergabewert eines Funktionsaufrufs auch der Rückgabewert eines anderen Funktionsaufrufes sein. Im folgenden Beispiel wird zunächst die Funktion `str` mit dem Übergabewert `1` aufgerufen. Dieser Funktionsaufruf erzeugt als Rückgabewert eine Zeichenkette. Dieser Rückgabewert wird wiederum als Übergabewert für die Funktion `type` verwendet."
   ]
  },
  {
   "cell_type": "code",
   "execution_count": null,
   "metadata": {},
   "outputs": [
    {
     "data": {
      "text/plain": [
       "str"
      ]
     },
     "metadata": {},
     "output_type": "display_data"
    }
   ],
   "source": [
    "type(str(1))"
   ]
  },
  {
   "cell_type": "markdown",
   "metadata": {},
   "source": [
    "## 6.3. Funktionen für Zahlen\n",
    "\n",
    "Python bietet standardmäßig auch einige Funktionen für typische mathematische Operationen, die über die reinen arithmethischen Operatoren (d.h. plus, minus, mal, geteilt) hinausgehen. Die folgende Grafik gibt eine Übersicht über diese Funktionen, welche mit Zahlen arbeiten.\n",
    "\n",
    "![](../../Grafiken/Mermaid/Funktionen/Zahlen.png)"
   ]
  },
  {
   "cell_type": "markdown",
   "metadata": {},
   "source": [
    "### 6.3.1. Funktion `abs`\n",
    "\n",
    "Die Funktion `abs` berechnet den Absolutwert einer Zahl. Die Funktion erhält einen Parameter, nämlich den Zahlenwert, für den der Absolutwert berechnet werden soll. Des Weiteren erzeugt die Funktion einen Rückgabewert, nämlich den berechneten Absolutwert der Ausgangszahl. Die folgenden Beispiele zeigen die Anwendung der Funktion `abs` auf Ganzzahlen, Gleitkommazahlen, und komplexe Zahlen."
   ]
  },
  {
   "cell_type": "code",
   "execution_count": null,
   "metadata": {},
   "outputs": [],
   "source": [
    "abs(-5)"
   ]
  },
  {
   "cell_type": "code",
   "execution_count": null,
   "metadata": {},
   "outputs": [],
   "source": [
    "abs(-5.5)"
   ]
  },
  {
   "cell_type": "code",
   "execution_count": null,
   "metadata": {},
   "outputs": [
    {
     "data": {
      "text/plain": [
       "5.5"
      ]
     },
     "metadata": {},
     "output_type": "display_data"
    }
   ],
   "source": [
    "abs(-5.5j)"
   ]
  },
  {
   "cell_type": "markdown",
   "metadata": {},
   "source": [
    "### 6.3.2. Funktion `pow`\n",
    "\n",
    "Die Funktion `pow` berechnet die Exponentialfunktion für eine gegebene Basis und einen gegebenen Exponenten. Die Funktion erwartet zwei Eingabeparameter und liefert einen Rückgabewert. Der erste Eingabeparameter ist eine Zahl und stellt die Basis der Exponentialfunktion dar. Der zweite Parameter ist ebenfalls eine Zahl und stellt den Exponenten der Exponentialfunktion dar. Der Rückgabewert ist das Berechnungsergebnis der Exponentialfunktion für die gegebene Basis und den gegebenen Exponenten."
   ]
  },
  {
   "cell_type": "code",
   "execution_count": null,
   "metadata": {},
   "outputs": [],
   "source": [
    "pow(2, 4)"
   ]
  },
  {
   "cell_type": "code",
   "execution_count": null,
   "metadata": {},
   "outputs": [],
   "source": [
    "pow(1.5, 2)"
   ]
  },
  {
   "cell_type": "code",
   "execution_count": null,
   "metadata": {},
   "outputs": [],
   "source": [
    "pow(2j, 2)"
   ]
  },
  {
   "cell_type": "markdown",
   "metadata": {},
   "source": [
    "In den vorigen Beispielen wurden für den Exponenten ausschließlich positive ganzzahlige Werte verwendet. Die Funktion `pow` unterstützt jedoch auch Bruchzahlen und negativen Zahlen im Exponenten. Bei Bruchzahlen erfolgt letztlich die Berechnung eines Wurzelterms, während bei negativen Zahlen das Ergebnis der Exponentialfunktion invertiert werden muss. Die folgenden beiden Beispiele zeigen diese Funktionsweisen in der Anwendung."
   ]
  },
  {
   "cell_type": "code",
   "execution_count": null,
   "metadata": {},
   "outputs": [],
   "source": [
    "pow(2, 0.5)"
   ]
  },
  {
   "cell_type": "code",
   "execution_count": null,
   "metadata": {},
   "outputs": [],
   "source": [
    "pow(2, -1)"
   ]
  },
  {
   "cell_type": "markdown",
   "metadata": {},
   "source": [
    "Schließlich kann die Funktion `pow` auch dafür verwendet werden, die Wurzel einer negativen Zahl zu berechnen. Wie bereits aus Mathematikvorlesungen bekannt sein sollte, ist die Wurzel einer negativen Zahl eine komplexe Zahl. Wie erwartet, liefert die Funktion `pow` bei negativer Basis und Bruchzahl im Exponenten als Ergebnis auch eine Zahl vom Typ `complex`. Das folgende Beispiel zeigt die Verhaltensweise in der Anwendung."
   ]
  },
  {
   "cell_type": "code",
   "execution_count": null,
   "metadata": {},
   "outputs": [
    {
     "data": {
      "text/plain": [
       "(6.123233995736766e-17+1j)"
      ]
     },
     "metadata": {},
     "output_type": "display_data"
    }
   ],
   "source": [
    "pow(-1, 0.5)"
   ]
  },
  {
   "cell_type": "markdown",
   "metadata": {},
   "source": [
    "## 6.4. Funktionen für Sammlungen\n",
    "\n",
    "Schließlich bietet Python standardmäßig auch Funktionen, die auf Sammlungen angewendet werden können.\n",
    "\n",
    "* Funktion `len` für die Bestimmung der Anzahl von Einträgen in einer Sammlung.\n",
    "* Funktion `sum` für die Berechnung der Summe von Zahleneinträgen.\n",
    "* Funktion `min` für die Berechnung des Minimums von Zahleneinträgen.\n",
    "* Funktion `max` für die Berechnung des Maximums von Zahleneinträgen.\n",
    "\n",
    "Im Folgenden besprechen wir die einzelnen Funktionen genauer."
   ]
  },
  {
   "cell_type": "markdown",
   "metadata": {},
   "source": [
    "### 6.4.1. Funktion `len`\n",
    "\n",
    "Die Funktion `len` kann dazu verwendet werden, die Anzahl der Einträge einer Sammlung zu bestimmen. Die Funktion erwartet einen Parameter vom Typ `str`, `tuple`, `list`, `range` oder `dict` und liefert einen Rückgabewert vom Typ `int`. Der Eingabeparameter ist die Sammlung, deren Länge bestimmt werden soll. Der Rückgabewert die die berechnete Länge der Sammlung."
   ]
  },
  {
   "cell_type": "code",
   "execution_count": null,
   "metadata": {},
   "outputs": [],
   "source": [
    "len(\"abc\") # Zeichenkette"
   ]
  },
  {
   "cell_type": "code",
   "execution_count": null,
   "metadata": {},
   "outputs": [],
   "source": [
    "len((1, 2, 3, 4)) # Tupel"
   ]
  },
  {
   "cell_type": "code",
   "execution_count": 2,
   "metadata": {},
   "outputs": [
    {
     "data": {
      "text/plain": [
       "5"
      ]
     },
     "execution_count": 2,
     "metadata": {},
     "output_type": "execute_result"
    }
   ],
   "source": [
    "len([True, True, False, True, False]) # Liste"
   ]
  },
  {
   "cell_type": "code",
   "execution_count": 1,
   "metadata": {},
   "outputs": [
    {
     "data": {
      "text/plain": [
       "5"
      ]
     },
     "execution_count": 1,
     "metadata": {},
     "output_type": "execute_result"
    }
   ],
   "source": [
    "len(range(5, 20, 2)) # Ganzzahlenbereich"
   ]
  },
  {
   "cell_type": "code",
   "execution_count": 3,
   "metadata": {},
   "outputs": [
    {
     "data": {
      "text/plain": [
       "1"
      ]
     },
     "execution_count": 3,
     "metadata": {},
     "output_type": "execute_result"
    }
   ],
   "source": [
    "len({ \"a\": 1, \"b\": 2, \"c\": 3 }) # Abbildung"
   ]
  },
  {
   "cell_type": "markdown",
   "metadata": {},
   "source": [
    "### 6.4.2. Funktion `sum`\n",
    "\n",
    "Die Funktion `sum` berechnet die Summe der Zahleneinträge eines Tuples, einer Liste, oder eines Ganzzahlenbereichs. Die Funktion erwartet einen Parameter vom Typ `tuple`, `list` oder `range` und liefert einen Rückgabewert vom Typ `int`. Der Eingabeparameter ist die Sammlung von Zahlen, deren Summe bestimmt werden soll. Der Rückgabewert die berechnete Summe der Zahlen."
   ]
  },
  {
   "cell_type": "code",
   "execution_count": 8,
   "metadata": {},
   "outputs": [
    {
     "data": {
      "text/plain": [
       "13"
      ]
     },
     "execution_count": 8,
     "metadata": {},
     "output_type": "execute_result"
    }
   ],
   "source": [
    "sum((1, 5, 7)) # Tupel"
   ]
  },
  {
   "cell_type": "code",
   "execution_count": 7,
   "metadata": {},
   "outputs": [
    {
     "data": {
      "text/plain": [
       "3"
      ]
     },
     "execution_count": 7,
     "metadata": {},
     "output_type": "execute_result"
    }
   ],
   "source": [
    "sum([1, -1, 3]) # Liste"
   ]
  },
  {
   "cell_type": "code",
   "execution_count": 6,
   "metadata": {},
   "outputs": [
    {
     "data": {
      "text/plain": [
       "10"
      ]
     },
     "execution_count": 6,
     "metadata": {},
     "output_type": "execute_result"
    }
   ],
   "source": [
    "sum(range(5)) # Ganzzahlenbereich"
   ]
  },
  {
   "cell_type": "markdown",
   "metadata": {},
   "source": [
    "### 6.4.3. Funktion `min`\n",
    "\n",
    "Die Funktion `min` berechnet das Minimum der Zahleneinträge eines Tuples, einer Liste, oder eines Ganzzahlenbereichs. Die Funktion erwartet einen Parameter vom Typ `tuple`, `list` oder `range` und liefert einen Rückgabewert vom Typ `int`. Der Eingabeparameter ist die Sammlung von Zahlen, deren Minimum bestimmt werden soll. Der Rückgabewert das berechnete Minimum der Zahlen."
   ]
  },
  {
   "cell_type": "code",
   "execution_count": 11,
   "metadata": {},
   "outputs": [
    {
     "data": {
      "text/plain": [
       "1"
      ]
     },
     "execution_count": 11,
     "metadata": {},
     "output_type": "execute_result"
    }
   ],
   "source": [
    "min((1, 5, 7)) # Tupel"
   ]
  },
  {
   "cell_type": "code",
   "execution_count": 10,
   "metadata": {},
   "outputs": [
    {
     "data": {
      "text/plain": [
       "-3"
      ]
     },
     "execution_count": 10,
     "metadata": {},
     "output_type": "execute_result"
    }
   ],
   "source": [
    "min([-1, 1, -3, 7]) # Liste"
   ]
  },
  {
   "cell_type": "code",
   "execution_count": 9,
   "metadata": {},
   "outputs": [
    {
     "data": {
      "text/plain": [
       "1"
      ]
     },
     "execution_count": 9,
     "metadata": {},
     "output_type": "execute_result"
    }
   ],
   "source": [
    "min(range(5, 0, -2)) # Ganzzahlenbereich"
   ]
  },
  {
   "cell_type": "markdown",
   "metadata": {},
   "source": [
    "### 6.4.4. Funtion `max`\n",
    "\n",
    "Die Funktion `max` berechnet das Maximum der Zahleneinträge eines Tuples, einer Liste, oder eines Ganzzahlenbereichs. Die Funktion erwartet einen Parameter vom Typ `tuple`, `list` oder `range` und liefert einen Rückgabewert vom Typ `int`. Der Eingabeparameter ist die Sammlung von Zahlen, deren Maximum bestimmt werden soll. Der Rückgabewert das berechnete Maximum der Zahlen."
   ]
  },
  {
   "cell_type": "code",
   "execution_count": 12,
   "metadata": {},
   "outputs": [
    {
     "data": {
      "text/plain": [
       "7"
      ]
     },
     "execution_count": 12,
     "metadata": {},
     "output_type": "execute_result"
    }
   ],
   "source": [
    "max((1, 5, 7))"
   ]
  },
  {
   "cell_type": "code",
   "execution_count": 13,
   "metadata": {},
   "outputs": [
    {
     "data": {
      "text/plain": [
       "1"
      ]
     },
     "execution_count": 13,
     "metadata": {},
     "output_type": "execute_result"
    }
   ],
   "source": [
    "max([-1, 1, -3])"
   ]
  },
  {
   "cell_type": "code",
   "execution_count": 14,
   "metadata": {},
   "outputs": [
    {
     "data": {
      "text/plain": [
       "9"
      ]
     },
     "execution_count": 14,
     "metadata": {},
     "output_type": "execute_result"
    }
   ],
   "source": [
    "max(range(5, 10, 2))"
   ]
  },
  {
   "cell_type": "markdown",
   "metadata": {},
   "source": [
    "## 6.5. Funktionen für Eingabe/Ausgabe\n",
    "\n",
    "Funktionen für die Eingabe und Ausgabe bieten die Möglichkeit, Daten vom Benutzer abzufragen oder an den Benutzer zu senden, sowie Daten aus dem Dateisystem (d.h. von einer Festplatte) abzufragen oder dort abzulegen. Die folgende Grafik gibt eine Übersicht über die Funktionen für die Eingabe und Ausgabe von Daten, welche die Programmiersprache Python standardmäßig bereitstellt.\n",
    "\n",
    "![](../../Grafiken/Mermaid/Funktionen/EA.png)"
   ]
  },
  {
   "cell_type": "markdown",
   "metadata": {},
   "source": [
    "### 6.5.1. Funktion `print`\n",
    "\n",
    "Die Funktion `print` ermöglich es, beliebig viele Ausgaben an den Nutzer eines Programms zu schicken. Die Funktion hat einen einzigen Übergabewert, welcher sowohl ein boolscher Wahrheitswert als auch eine Zahl oder eine Zeichenkette sein kann. Der übergebene Wert wird durch die Funktion in ene Zeichenkette umgewandelt und an den Nutzer ausgeben. Nach jedem Aufruf wird zusätzlich eine neue Zeile in der Ausgabe gestartet. Die Funktion hat schließlich keinen Rückgabewert."
   ]
  },
  {
   "cell_type": "code",
   "execution_count": null,
   "metadata": {},
   "outputs": [],
   "source": [
    "print(True)\n",
    "print(1.25)\n",
    "print(\"Eine Zeichenkette\")"
   ]
  },
  {
   "cell_type": "markdown",
   "metadata": {},
   "source": [
    "Die Funktion `print` eignet sich z.B. dafür, Zwischenergebnisse einer Berechnung auszugeben. Solche Zwischenausgaben können dabei helfen, die Funktionsweise eines Programmes nachzuvollziehen und evtl. Fehler in der Programmlogik aufzudecken bzw. zu beheben. Die Nutzung für Zwischenausgaben in längeren Berechnungen soll durch das folgende einfache Beispiel demonstriert werden. Im Beispiel werden nacheinander die Variablen `a` und `b` ausgegeben."
   ]
  },
  {
   "cell_type": "code",
   "execution_count": null,
   "metadata": {},
   "outputs": [],
   "source": [
    "a = 1\n",
    "\n",
    "print(f\"a = {a}\")\n",
    "\n",
    "b = a * 2\n",
    "\n",
    "print(f\"b = {b}\")"
   ]
  },
  {
   "cell_type": "markdown",
   "metadata": {},
   "source": [
    "Beachte, dass die Funktion `print` vor allem in Konsolenprogrammen Anwendung findet. Konsolenprogramme zeichnen sich dadurch aus, dass Eingabe und Ausgabe ausschließlich über Zeichenketten erfolgt. Eine andere Kategorie von Programmen sind grafische Benutzerschnittstellen. In diesen Programmen gibt es neben reiner Texteingabe und -ausgabe auch andere Ein- und Ausgabemöglichkeiten. Diese Arten von Programmen besprechen wir gegen Ende des Kurses noch kurz."
   ]
  },
  {
   "cell_type": "markdown",
   "metadata": {},
   "source": [
    "### 6.5.2. Funktion `input`\n",
    "\n",
    "Die Funktion `input` ermöglicht es, Eingaben vom Benutzer über die Tastatur abzufragen. Die Funktion hat einen Parameter vom Typ `str`, welcher eine Eingabeaufforderung an den Nutzer darstellt, die vor der eigentlichen Dateneingaben durch den Nutzer ausgegen wird. Der Rückabewert der Funktion `input` ist die Zeichenkette, welche vom Benutzer über die Tastatur eingegeben und mit der `Enter`-Taste bestätigt wurde. Beachte, dass auch Zahleneingaben als Zeichenketten zurückgegeben werden."
   ]
  },
  {
   "cell_type": "code",
   "execution_count": null,
   "metadata": {},
   "outputs": [],
   "source": [
    "input(\"Wie heißt du?\")"
   ]
  },
  {
   "cell_type": "markdown",
   "metadata": {},
   "source": [
    "Das folgende Beispiel zeigt ein Programm, welches zwei Eingaben vom Benutzer nacheinander abfragt. Zunächst wird der Benutzer aufgefordert, seinen Vornamen einzugeben und mit der `Enter`-Taste zu bestätigen. Nach der Eingabe des Vornames wird der Benutzer dann noch aufgefordert, seinen Nachnamen einzugeben und mit der `Enter`-Taste zu bestätigen. Schließlich werden der eigegebene Vorname und der eigegebene Nachname mittels der Funktion `print` wieder ausgegeben."
   ]
  },
  {
   "cell_type": "code",
   "execution_count": null,
   "metadata": {},
   "outputs": [],
   "source": [
    "vorname = input(\"Vorname\")\n",
    "\n",
    "nachname = input(\"Nachname\")\n",
    "\n",
    "print(f\"Hallo {vorname} {nachname}!\")"
   ]
  },
  {
   "cell_type": "markdown",
   "metadata": {},
   "source": [
    "Wie bereits zuvor erwähnt werden auch Zahleneingaben über die Funktion `input` als Zeichenketten zurückgegeben. Wenn man aber mit diesen Zahleneingaben arithmetische Berechnungen durchführen will, muss man die Zeichenkette zunächst in eine echte Zahlendarstellung (d.h. `int`, `float`, oder `complex`) umwandeln. Das folgende Beispiel zeigt ein Programm, welches zunächst das Alter des Benutzers mittels der Funktion `input` abfragt und den Wert dann mittels der Funktion `int` in eine Ganzzahl umwandelt."
   ]
  },
  {
   "cell_type": "code",
   "execution_count": null,
   "metadata": {},
   "outputs": [],
   "source": [
    "alter = int(input(\"Alter\"))\n",
    "\n",
    "print(f\"Jetziges Alter = {alter}\")\n",
    "\n",
    "print(f\"Alter in zwei Jahren = {alter + 2}\")"
   ]
  },
  {
   "cell_type": "markdown",
   "metadata": {},
   "source": [
    "### 6.5.3. Funktion `open`\n",
    "\n",
    "Schließlich bietet Python auch die Funktion `open` für das Lesen und Schreiben von Dateien im Dateisystem. Die Funktion `open` nimmt zwei Parameter entgegen. Der erste Parameter ist der Name der Datei, die für lesenden oder schreibenden Zugriff geöffnet werden soll. Der zweite Parameter ist der Modus, in dem die Datei geöffnet werden soll. Die Date kann in lesendem und in schreibendem Modus geöffnet werden. Bei schreibendem Modus kann unterschieden werden, ob eine bestehende Datei überschrieben oder an eine bestehende Datei angehängt werden soll."
   ]
  },
  {
   "cell_type": "code",
   "execution_count": null,
   "metadata": {},
   "outputs": [],
   "source": [
    "open(\"Daten/Eingabe.txt\", \"r\").close() # Lesen"
   ]
  },
  {
   "cell_type": "code",
   "execution_count": null,
   "metadata": {},
   "outputs": [],
   "source": [
    "open(\"Daten/Ausgabe.txt\", \"w\").close() # Erstellen und schreiben oder überschreiben"
   ]
  },
  {
   "cell_type": "code",
   "execution_count": null,
   "metadata": {},
   "outputs": [],
   "source": [
    "open(\"Daten/Ausgabe.txt\", \"x\").close() # Erstellen und schreiben oder Fehler"
   ]
  },
  {
   "cell_type": "code",
   "execution_count": null,
   "metadata": {},
   "outputs": [],
   "source": [
    "open(\"Daten/Ausgabe.txt\", \"a\").close() # Erstellen und schreiben oder anhängen"
   ]
  }
 ],
 "metadata": {
  "kernelspec": {
   "display_name": "Python 3",
   "language": "python",
   "name": "python3"
  },
  "language_info": {
   "codemirror_mode": {
    "name": "ipython",
    "version": 3
   },
   "file_extension": ".py",
   "mimetype": "text/x-python",
   "name": "python",
   "nbconvert_exporter": "python",
   "pygments_lexer": "ipython3",
   "version": "3.12.2"
  }
 },
 "nbformat": 4,
 "nbformat_minor": 2
}
