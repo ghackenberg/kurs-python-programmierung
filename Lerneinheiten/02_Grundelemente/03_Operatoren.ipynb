{
 "cells": [
  {
   "cell_type": "markdown",
   "metadata": {},
   "source": [
    "# 3. Operatoren\n",
    "\n",
    "Nachdem wir zumindest schon Daten repräsentieren können, möchten wir die **Daten auch in Berechnungen verwenden**. Die Grundlage für Berechnungen bieten die *sogenannten Operatoren* einer Programmiersprache. Operatoren ermöglichen die Ausführung von unterschiedlichen Berechnungen, Operanden sind hingegen die Daten, die in den Berechnungen verarbeitet werden. Basierend auf der Anzahl an Operanden unterscheidet man drei Arten von Operatoren:\n",
    "\n",
    "- **Unäre Operatoren** haben genau *einen Operanden*.\n",
    "- **Binäre Operatoren** haben genau *zwei Operanden*.\n",
    "- **Ternäre Operatoren** haben genau *drei Operanden*.\n",
    "- **Quaternäre Operatoren** haben genau *vier Operanden*. \n",
    "\n",
    "Des Weiteren unterscheidet man drei unterschiedliche Schreibweisen für Operatoren und Operanden, die sowohl in der Programmiersprache Python als auch in anderen Programmiersprachen verwendet werden:\n",
    "\n",
    "- Bei der **Präfixschreibweise** wird der Operator den Operanden *vorangestellt*.\n",
    "- Bei der **Suffixschreibweise** wird der Operator den Operanden *nachgestellt*.\n",
    "- Bei der **Infixschreibweise** wird der Operator *zwischen* die Operanden *gestellt*.\n",
    "\n",
    "Im Folgenden gehen wir zunächst auf Operatoren für Wahrheitswerte ein, bevor wir Operatoren für Zahlen besprechen. Danach betrachten wir Operatoren für Sammlungen (d.h. Zeichenketten, Tupel, Listen, Ganzzahlenbereiche und Abbildungen) sowie Operatoren für Typinformationen."
   ]
  },
  {
   "cell_type": "markdown",
   "metadata": {},
   "source": [
    "## 3.1. Operatoren für **Wahrheitswerte**\n",
    "\n",
    "Die Operatoren für boolsche Wahrheitswerte umfassen um wesentlichen die Operationen der boolschen Logik aus der Mathematik. Die Programmiersprache Python untersützt die folgenden Operatoren:\n",
    "\n",
    "- Der **Operator** `not ...` berechnet die **logische Verneinung** eines einzelnen Wahrheitswertes.\n",
    "- Der **Operator** `... and ...` berechnet die **logische Und-Verknüpfung** zweier Wahrheitswerte.\n",
    "- Der **Operator** `... or ...` berechnet die **logische Oder-Verknüpfung** zweier Wahrheitswerte.\n",
    "\n",
    "Im Folgenden erklären wir zunächst die Funktionsweise des Operators `not`, bevor wir auf die Funktionsweise des Operators `and` und des Operators `or` eingehen."
   ]
  },
  {
   "cell_type": "markdown",
   "metadata": {},
   "source": [
    "### 3.1.1. Operator `not ...`\n",
    "\n",
    "*Notiz: Unärer Operator in Präfixschreibweise*\n",
    "\n",
    "Der Operator `not` kann verwendet werden, um einen boolschen Wahrheitswert zu negieren. Negieren heißt in diesem Zusammenhang, dass aus dem Wahrheitswert *Wahr* der Wahrheitswert *Falsch* wird und umgekehrt. Die folgenden beiden Quelltexte zeigen, wie man den Operator `not` auf das Literal `True` und auf das Literal `False` anwendet."
   ]
  },
  {
   "cell_type": "code",
   "execution_count": 2,
   "metadata": {},
   "outputs": [
    {
     "data": {
      "text/plain": [
       "True"
      ]
     },
     "execution_count": 2,
     "metadata": {},
     "output_type": "execute_result"
    }
   ],
   "source": [
    "not False # Negierung des Wahrheitswertes \"Falsch\" => \"Wahr\""
   ]
  },
  {
   "cell_type": "code",
   "execution_count": 3,
   "metadata": {},
   "outputs": [
    {
     "data": {
      "text/plain": [
       "False"
      ]
     },
     "execution_count": 3,
     "metadata": {},
     "output_type": "execute_result"
    }
   ],
   "source": [
    "not True # Negierung des Wahrheitswertes \"Wahr\" => \"Falsch\""
   ]
  },
  {
   "cell_type": "markdown",
   "metadata": {},
   "source": [
    "Der Operator `not` kann auch mehrfach auf einen Wahrheitswert angewendet werden. Wenn man den Operator zum Beispiel zweimal auf denselben Wahrheitswert anwendet, kommt wieder der ursprüngliche Wahrheitswert heraus. Das heißt, aus dem Wahrheitswert *Wahr* wird wieder der Wahrheitswert *Wahr*, und aus dem Wahrheitswert *Falsch* wird der Wahrheitswert *Falsch*."
   ]
  },
  {
   "cell_type": "code",
   "execution_count": 4,
   "metadata": {},
   "outputs": [
    {
     "data": {
      "text/plain": [
       "False"
      ]
     },
     "execution_count": 4,
     "metadata": {},
     "output_type": "execute_result"
    }
   ],
   "source": [
    "not (not False) # Doppelte Negierung des Wahrheitswerts \"Falsch\" => \"Falsch\""
   ]
  },
  {
   "cell_type": "code",
   "execution_count": 5,
   "metadata": {},
   "outputs": [
    {
     "data": {
      "text/plain": [
       "True"
      ]
     },
     "execution_count": 5,
     "metadata": {},
     "output_type": "execute_result"
    }
   ],
   "source": [
    "not (not True) # Doppelte Negierung des Wahrheitswerts \"Wahr\" => \"Wahr\""
   ]
  },
  {
   "cell_type": "markdown",
   "metadata": {},
   "source": [
    "Die dreifache Negierung eines Wahrheitswertes entspricht somit wieder der einfachen Negierung eines Wahrheitswertes, wie bereits weiter oben beschrieben. Die vierfache Negierung entspricht hingegen der zweifachen Negierung und so weiter."
   ]
  },
  {
   "cell_type": "markdown",
   "metadata": {},
   "source": [
    "### 3.1.2. Operator `... and ...`\n",
    "\n",
    "*Notiz: Binärer Operator in Infixschreibweise*\n",
    "\n",
    "Der Operator `and` kann hingegen verwendet werden, um die logische Und-Verknüpfung zweier Wahrheitswerte zu berechnen. Die logische Und-Verknüpfung zweier Wahrheitswerte liefert wiederum einen Wahrheitswert. Dieser gelieferte Wahrheitswert hat nur den Wert *Wahr*, wenn beide ursprünglichen Wahrheitswerte ebenfalls den Wert *Wahr* gehabt haben. Andernfalls wird der Wahrheitswert *Falsch* zurückgeliefert. Diese Zusammenhänge sind in den folgenden vier Quelltextblöcken noch einmal anhand der Verknüpfung der boolschen Literale `True` und `False` illustriert."
   ]
  },
  {
   "cell_type": "code",
   "execution_count": 6,
   "metadata": {},
   "outputs": [
    {
     "data": {
      "text/plain": [
       "False"
      ]
     },
     "execution_count": 6,
     "metadata": {},
     "output_type": "execute_result"
    }
   ],
   "source": [
    "False and False # Beide Operanden nicht wahr => falsch"
   ]
  },
  {
   "cell_type": "code",
   "execution_count": 7,
   "metadata": {},
   "outputs": [
    {
     "data": {
      "text/plain": [
       "False"
      ]
     },
     "execution_count": 7,
     "metadata": {},
     "output_type": "execute_result"
    }
   ],
   "source": [
    "True and False # Zweiter Operand nicht wahr => falsch"
   ]
  },
  {
   "cell_type": "code",
   "execution_count": 8,
   "metadata": {},
   "outputs": [
    {
     "data": {
      "text/plain": [
       "False"
      ]
     },
     "execution_count": 8,
     "metadata": {},
     "output_type": "execute_result"
    }
   ],
   "source": [
    "False and True # Erster Operand nicht wahr => falsch"
   ]
  },
  {
   "cell_type": "code",
   "execution_count": 9,
   "metadata": {},
   "outputs": [
    {
     "data": {
      "text/plain": [
       "True"
      ]
     },
     "execution_count": 9,
     "metadata": {},
     "output_type": "execute_result"
    }
   ],
   "source": [
    "True and True # Beide Operanden wahr => wahr"
   ]
  },
  {
   "cell_type": "markdown",
   "metadata": {},
   "source": [
    "### 3.1.3. Operator `... or ...`\n",
    "\n",
    "*Notiz: Binärer Operator in Infixschreibweise*\n",
    "\n",
    "Der Operator `or` kann schließlich verwendet werden, um die logische Oder-Verknüpfung zweier Wahrheitswerte zu berechnen. Die logische Oder-Verknüpfung zweier Wahrheitswerte liefert wiederum einen Wahrheitswert. Dieser gelieferte Wahrheitswert hat den Wert *Falsch*, wenn beide ursprünglichen Wahrheitswerte ebenfalls den Wert *Falsch* gehabt haben. Andernfalls wird der Wahrheitswert *Wahr* zurückgeliefert. Diese Zusammenhänge sind in den folgenden vier Quelltextblöcken noch einmal anhand der Verknüpfung der boolschen Literale `True` und `False` illustriert."
   ]
  },
  {
   "cell_type": "code",
   "execution_count": 10,
   "metadata": {},
   "outputs": [
    {
     "data": {
      "text/plain": [
       "False"
      ]
     },
     "execution_count": 10,
     "metadata": {},
     "output_type": "execute_result"
    }
   ],
   "source": [
    "False or False # Beide Operanden falsch => falsch"
   ]
  },
  {
   "cell_type": "code",
   "execution_count": 11,
   "metadata": {},
   "outputs": [
    {
     "data": {
      "text/plain": [
       "True"
      ]
     },
     "execution_count": 11,
     "metadata": {},
     "output_type": "execute_result"
    }
   ],
   "source": [
    "True or False # Einer der beiden Operanden wahr => wahr"
   ]
  },
  {
   "cell_type": "code",
   "execution_count": 12,
   "metadata": {},
   "outputs": [
    {
     "data": {
      "text/plain": [
       "True"
      ]
     },
     "execution_count": 12,
     "metadata": {},
     "output_type": "execute_result"
    }
   ],
   "source": [
    "False or True # Einer der beiden Operanden wahr => wahr"
   ]
  },
  {
   "cell_type": "code",
   "execution_count": 13,
   "metadata": {},
   "outputs": [
    {
     "data": {
      "text/plain": [
       "True"
      ]
     },
     "execution_count": 13,
     "metadata": {},
     "output_type": "execute_result"
    }
   ],
   "source": [
    "True or True # Beide Operanden wahr => wahr"
   ]
  },
  {
   "cell_type": "markdown",
   "metadata": {},
   "source": [
    "![](Zeichnungen/Oderverknüpfung.jpg)"
   ]
  },
  {
   "cell_type": "markdown",
   "metadata": {},
   "source": [
    "## 3.2. Operatoren für **Zahlen**\n",
    "\n",
    "Für Zahlen kann man zwei Arten von Operatoren anhand der Ergebnisse der durch die Operatoren durchgeführten Berechnungen unterschieden:\n",
    "\n",
    "- **Arithmetische Operatoren** haben ein numerische Ergebnis.\n",
    "- **Vergleichende Operatoren** haben ein boolsches Ergebnis.\n",
    "\n",
    "Im Folgenden beschreiben wir die beiden Arten von Operatoren genauer."
   ]
  },
  {
   "cell_type": "markdown",
   "metadata": {},
   "source": [
    "### 3.2.1. **Arithmetische** Operatoren\n",
    "\n",
    "Arithmetische Operatoren erlauben die Durchführung von arithmetischen Berechnungen mit Zahlen. Die Programmiersprache Pyton unterstützt die folgenden arithmetischen Operatoren:\n",
    "\n",
    "- Der **Operator** `... + ...` berechnet die *Addition zweier Zahlen*.\n",
    "- Der **Operator** `... - ...` berechnet die *Subtraktion zweier Zahlen*.\n",
    "- Der **Operator** `... * ...` berechnet die *Multiplikation zweier Zahlen*.\n",
    "- Der **Operator** `... / ...` berechnet die *Division zweier Zahlen*.\n",
    "- Der **Operator** `... // ...` berechnet die *ganzzahlige Division zweier Zahlen*.\n",
    "- Der **Operator** `... % ...` berechnet den *Rest der ganzzahligen Division zweier Zahlen*.\n",
    "\n",
    "Im Folgenden betrachten wir für die genannten Operatoren insbesondere auch das Zusammenspiel der unterschiedlichen Zahlenarten (d.h. ganze, rationale und komplexe Zahlen)."
   ]
  },
  {
   "cell_type": "markdown",
   "metadata": {},
   "source": [
    "#### 3.2.1.1. Operator `... + ...`\n",
    "\n",
    "*Notiz: Binärer Operator in Infixschreibweise*\n",
    "\n",
    "Der Operator `+` berechnet die Summe zweier Zahlen, egal ob die Zahlen ganz, rational, oder komplex sind. Im folgenden betrachten wir zunächst den Fall, **dass die beiden Zahlen ganz oder rational sind**. Wenn beide Zahlen ganz sind, ist das Ergebnis des Operators wieder eine ganze Zahl. Ansonsten ist das Ergebnis des Operators eine rationale Zahl."
   ]
  },
  {
   "cell_type": "code",
   "execution_count": 14,
   "metadata": {},
   "outputs": [
    {
     "data": {
      "text/plain": [
       "12"
      ]
     },
     "execution_count": 14,
     "metadata": {},
     "output_type": "execute_result"
    }
   ],
   "source": [
    "5 + 7 # Summe zweier ganzen Zahlen => ganze Zahl"
   ]
  },
  {
   "cell_type": "code",
   "execution_count": 15,
   "metadata": {},
   "outputs": [
    {
     "data": {
      "text/plain": [
       "8.45"
      ]
     },
     "execution_count": 15,
     "metadata": {},
     "output_type": "execute_result"
    }
   ],
   "source": [
    "3.45 + 5 # Summe einer rationalen und einer ganzen Zahl => rationale Zahl"
   ]
  },
  {
   "cell_type": "code",
   "execution_count": 16,
   "metadata": {},
   "outputs": [
    {
     "data": {
      "text/plain": [
       "6.32"
      ]
     },
     "execution_count": 16,
     "metadata": {},
     "output_type": "execute_result"
    }
   ],
   "source": [
    "3.67 + 2.65 # Summe zweier rationaler Zahlen => rationale Zahl"
   ]
  },
  {
   "cell_type": "markdown",
   "metadata": {},
   "source": [
    "Nun betrachten wir den Fall, **dass mindestens eine der beiden Zahlen eine komplexe Zahl ist**. Wenn nur eine der beiden Zahlen eine komplexe Zahl ist, ist das Ergebnis des Operators eine komplexe Zahl. Wenn hingegen beide Zahlen komplex sind, ist das Ergebnis des Operators wieder eine komplexe Zahl."
   ]
  },
  {
   "cell_type": "code",
   "execution_count": 17,
   "metadata": {},
   "outputs": [
    {
     "data": {
      "text/plain": [
       "(5+3j)"
      ]
     },
     "execution_count": 17,
     "metadata": {},
     "output_type": "execute_result"
    }
   ],
   "source": [
    "5 + 3j # Summe einer ganzen und einer komplexen Zahl => komplexe Zahl"
   ]
  },
  {
   "cell_type": "code",
   "execution_count": 18,
   "metadata": {},
   "outputs": [
    {
     "data": {
      "text/plain": [
       "(34.45+2j)"
      ]
     },
     "execution_count": 18,
     "metadata": {},
     "output_type": "execute_result"
    }
   ],
   "source": [
    "34.45 + 2j # Summe einer rationalen und einer komplexen Zahl => komplexe Zahl"
   ]
  },
  {
   "cell_type": "code",
   "execution_count": 19,
   "metadata": {},
   "outputs": [
    {
     "data": {
      "text/plain": [
       "56.6j"
      ]
     },
     "execution_count": 19,
     "metadata": {},
     "output_type": "execute_result"
    }
   ],
   "source": [
    "54j + 2.6j # Summe zweier komplexer Zahlen => komplexe Zahl"
   ]
  },
  {
   "cell_type": "markdown",
   "metadata": {},
   "source": [
    "#### 3.2.1.2. Operator `... - ...`\n",
    "\n",
    "*Notiz: Binärer Operator in Infixschreibweise*\n",
    "\n",
    "Der Operator `-` berechnet die Differenz zweier Zahlen, egal ob die Zahlen ganz, rational, oder komplex sind. Im folgenden betrachten wir zunächst den Fall, **dass die beiden Zahlen ganz oder rational sind**. Wenn beide Zahlen ganz sind, ist das Ergebnis des Operators wieder eine ganze Zahl. Ansonsten ist das Ergebnis des Operators eine rationale Zahl."
   ]
  },
  {
   "cell_type": "code",
   "execution_count": 20,
   "metadata": {},
   "outputs": [
    {
     "data": {
      "text/plain": [
       "2"
      ]
     },
     "execution_count": 20,
     "metadata": {},
     "output_type": "execute_result"
    }
   ],
   "source": [
    "7 - 5 # Differenz zweier ganzer Zahlen => ganze Zahl"
   ]
  },
  {
   "cell_type": "code",
   "execution_count": 21,
   "metadata": {},
   "outputs": [
    {
     "data": {
      "text/plain": [
       "-4.5"
      ]
     },
     "execution_count": 21,
     "metadata": {},
     "output_type": "execute_result"
    }
   ],
   "source": [
    "2.5 - 7 # Differenz einer rationalen und einer ganzen Zahl => rationale Zahl"
   ]
  },
  {
   "cell_type": "code",
   "execution_count": 22,
   "metadata": {},
   "outputs": [
    {
     "data": {
      "text/plain": [
       "2.3"
      ]
     },
     "execution_count": 22,
     "metadata": {},
     "output_type": "execute_result"
    }
   ],
   "source": [
    "3.6 - 1.3 # Differenz zweier rationaler Zahlen => rationale Zahl"
   ]
  },
  {
   "cell_type": "markdown",
   "metadata": {},
   "source": [
    "Nun betrachten wir wieder den Fall, **dass mindestens eine der beiden Zahlen eine komplexe Zahl ist**. Wenn nur eine der beiden Zahlen eine komplexe Zahl ist, ist das Ergebnis des Operators eine komplexe Zahl. Wenn hingegen beide Zahlen komplex sind, ist das Ergebnis des Operators ebenfalls eine komplexe Zahl."
   ]
  },
  {
   "cell_type": "code",
   "execution_count": 23,
   "metadata": {},
   "outputs": [
    {
     "data": {
      "text/plain": [
       "(5-5j)"
      ]
     },
     "execution_count": 23,
     "metadata": {},
     "output_type": "execute_result"
    }
   ],
   "source": [
    "5 - 5j # Differenz einer ganzen und einer komplexen Zahl => komplexe Zahl"
   ]
  },
  {
   "cell_type": "code",
   "execution_count": 24,
   "metadata": {},
   "outputs": [
    {
     "data": {
      "text/plain": [
       "(5.6-1j)"
      ]
     },
     "execution_count": 24,
     "metadata": {},
     "output_type": "execute_result"
    }
   ],
   "source": [
    "5.6 - 1j # Differenz einer rationalen und einer komplexen Zahl => komplexe Zahl"
   ]
  },
  {
   "cell_type": "code",
   "execution_count": 25,
   "metadata": {},
   "outputs": [
    {
     "data": {
      "text/plain": [
       "-2j"
      ]
     },
     "execution_count": 25,
     "metadata": {},
     "output_type": "execute_result"
    }
   ],
   "source": [
    "5j - 7j # Differenz zweier komplexer Zahlen => komplexe Zahl"
   ]
  },
  {
   "cell_type": "markdown",
   "metadata": {},
   "source": [
    "#### 3.2.1.3. Operator `... * ...`\n",
    "\n",
    "*Notiz: Binärer Operator in Infixschreibweise*\n",
    "\n",
    "Der Operator `*` kann hingegen verwendet werden, um das Produkt zweier Zahlen zu berechnen. Dabei kann man wieder ganze Zahlen, rationale Zahlen, oder komplexe Zahlen mischen. Im Folgenden betrachten wir zunächst die Fälle, **bei denen nur ganze und rationale Zahlen zum Einsatz kommen**. In diesen Fällen ist das Ergebnis des Operators wieder eine ganze oder eine rationale Zahl."
   ]
  },
  {
   "cell_type": "code",
   "execution_count": 26,
   "metadata": {},
   "outputs": [
    {
     "data": {
      "text/plain": [
       "35"
      ]
     },
     "execution_count": 26,
     "metadata": {},
     "output_type": "execute_result"
    }
   ],
   "source": [
    "5 * 7 # Produkt zweier ganzen Zahlen => ganze Zahl"
   ]
  },
  {
   "cell_type": "code",
   "execution_count": 27,
   "metadata": {},
   "outputs": [
    {
     "data": {
      "text/plain": [
       "17.5"
      ]
     },
     "execution_count": 27,
     "metadata": {},
     "output_type": "execute_result"
    }
   ],
   "source": [
    "3.5 * 5 # Produkt einer rationalen und einer ganzen Zahl => rationale Zahl"
   ]
  },
  {
   "cell_type": "code",
   "execution_count": 28,
   "metadata": {},
   "outputs": [
    {
     "data": {
      "text/plain": [
       "12.6736"
      ]
     },
     "execution_count": 28,
     "metadata": {},
     "output_type": "execute_result"
    }
   ],
   "source": [
    "3.56 * 3.56 # Produkt zweier rationaler Zahlen => rationale Zahl"
   ]
  },
  {
   "cell_type": "markdown",
   "metadata": {},
   "source": [
    "Wie bereits zuvor erwähnt, kann der Operator `*` auch **mit komplexen Zahlen umgehen**. Dabei kann entweder nur einer oder beide der Operanden eine komplexe Zahl sein. Wenn nur einer der beiden Operanden eine komplexe Zahl ist, kann die andere Zahl sowohl eine ganze Zahl als auch eine rationale Zahl sein. Das Ergebnis des Operators ist wieder eine komplexe Zahl."
   ]
  },
  {
   "cell_type": "code",
   "execution_count": 29,
   "metadata": {},
   "outputs": [
    {
     "data": {
      "text/plain": [
       "15j"
      ]
     },
     "execution_count": 29,
     "metadata": {},
     "output_type": "execute_result"
    }
   ],
   "source": [
    "5 * 3j # Produkt einer ganzen und einer komplexen Zahl => komplexe Zahl"
   ]
  },
  {
   "cell_type": "code",
   "execution_count": 30,
   "metadata": {},
   "outputs": [
    {
     "data": {
      "text/plain": [
       "14.85j"
      ]
     },
     "execution_count": 30,
     "metadata": {},
     "output_type": "execute_result"
    }
   ],
   "source": [
    "4.5 * 3.3j # Produkt einer rationalen und einer komplexen Zahl => komplexe Zahl"
   ]
  },
  {
   "cell_type": "code",
   "execution_count": 31,
   "metadata": {},
   "outputs": [
    {
     "data": {
      "text/plain": [
       "(-3+0j)"
      ]
     },
     "execution_count": 31,
     "metadata": {},
     "output_type": "execute_result"
    }
   ],
   "source": [
    "1.5j * 2j # Produkt zweier komplexer Zahlen => komplexe Zahl mit Imaginärteil Null"
   ]
  },
  {
   "cell_type": "markdown",
   "metadata": {},
   "source": [
    "#### 3.2.1.4. Operator `... / ...`\n",
    "\n",
    "*Notiz: Binärer Operator in Infixschreibweise*\n",
    "\n",
    "Der Operator `/` kann hingegen verwendet werden, um die Division zweier Zahlen zu berechnen. Dabei kann man wieder ganze Zahlen, rationale Zahlen, oder komplexe Zahlen mischen. Im Folgenden betrachten wir zunächst die Fälle, **bei denen nur ganze und rationale Zahlen zum Einsatz kommen**. In diesen Fällen ist das Ergebnis unabhängig von den Operanden eine rationale Zahl."
   ]
  },
  {
   "cell_type": "code",
   "execution_count": 32,
   "metadata": {},
   "outputs": [
    {
     "data": {
      "text/plain": [
       "3.3333333333333335"
      ]
     },
     "execution_count": 32,
     "metadata": {},
     "output_type": "execute_result"
    }
   ],
   "source": [
    "10 / 3 # Division zweier ganzer Zahlen => rationale Zahl"
   ]
  },
  {
   "cell_type": "code",
   "execution_count": 33,
   "metadata": {},
   "outputs": [
    {
     "data": {
      "text/plain": [
       "2.5"
      ]
     },
     "execution_count": 33,
     "metadata": {},
     "output_type": "execute_result"
    }
   ],
   "source": [
    "7.5 / 3 # Division einer rationalen und einer ganzen Zahl => rationale Zahl"
   ]
  },
  {
   "cell_type": "code",
   "execution_count": 34,
   "metadata": {},
   "outputs": [
    {
     "data": {
      "text/plain": [
       "3.0"
      ]
     },
     "execution_count": 34,
     "metadata": {},
     "output_type": "execute_result"
    }
   ],
   "source": [
    "7.5 / 2.5 # Division zweier rationaler Zahlen => rationale Zahl"
   ]
  },
  {
   "cell_type": "markdown",
   "metadata": {},
   "source": [
    "Wie bereits zuvor erwähnt, kann der Operator `/` auch **mit komplexen Zahlen umgehen**. Dabei kann entweder nur einer oder beide der Operanden eine komplexe Zahl sein. Wenn nur einer der beiden Operanden eine komplexe Zahl ist, kann die andere Zahl sowohl eine ganze Zahl als auch eine rationale Zahl sein. Das Ergebnis des Operators ist wieder eine komplexe Zahl."
   ]
  },
  {
   "cell_type": "code",
   "execution_count": 35,
   "metadata": {},
   "outputs": [
    {
     "data": {
      "text/plain": [
       "2.5j"
      ]
     },
     "execution_count": 35,
     "metadata": {},
     "output_type": "execute_result"
    }
   ],
   "source": [
    "5j / 2 # Division einer komplexen und einer ganzen Zahl => komplexe Zahl"
   ]
  },
  {
   "cell_type": "code",
   "execution_count": 36,
   "metadata": {},
   "outputs": [
    {
     "data": {
      "text/plain": [
       "2j"
      ]
     },
     "execution_count": 36,
     "metadata": {},
     "output_type": "execute_result"
    }
   ],
   "source": [
    "5j / 2.5 # Division einer komplexen und einer rationalen Zahl => komplexe Zahl"
   ]
  },
  {
   "cell_type": "code",
   "execution_count": 37,
   "metadata": {},
   "outputs": [
    {
     "data": {
      "text/plain": [
       "(2.5+0j)"
      ]
     },
     "execution_count": 37,
     "metadata": {},
     "output_type": "execute_result"
    }
   ],
   "source": [
    "5j / 2j # Division zweier komplexer Zahlen => komplexe Zahl mit Imaginärteil Null"
   ]
  },
  {
   "cell_type": "markdown",
   "metadata": {},
   "source": [
    "#### 3.2.1.5. Operator `... // ...`\n",
    "\n",
    "*Notiz: Binärer Operator in Infixschreibweise*\n",
    "\n",
    "Der Operator `//` kann dafür verwendet werden, die ganzzahlige Division zweier Zahlen zu berechnen. Die Operanden können entweder ganze oder rationale Zahlen sein. Komplexe Zahlen werden hingegen nicht unterstützt. Das Ergenis des Operators ist eine ganze Zahl, welche angibt, wie oft der Teiler in den Nenner passt."
   ]
  },
  {
   "cell_type": "markdown",
   "metadata": {},
   "source": [
    "**Ganzzahlige Division zweier ganzer Zahlen**"
   ]
  },
  {
   "cell_type": "code",
   "execution_count": 38,
   "metadata": {},
   "outputs": [
    {
     "data": {
      "text/plain": [
       "3"
      ]
     },
     "execution_count": 38,
     "metadata": {},
     "output_type": "execute_result"
    }
   ],
   "source": [
    "# Ganzzahlige Division zweier ganzer Zahlen => ganze Zahl\n",
    "\n",
    "10 // 3"
   ]
  },
  {
   "cell_type": "code",
   "execution_count": 39,
   "metadata": {},
   "outputs": [
    {
     "data": {
      "text/plain": [
       "3.3333333333333335"
      ]
     },
     "execution_count": 39,
     "metadata": {},
     "output_type": "execute_result"
    }
   ],
   "source": [
    "# Zum Vergleich: Ergebnis der normalen Division\n",
    "\n",
    "10 / 3"
   ]
  },
  {
   "cell_type": "code",
   "execution_count": 40,
   "metadata": {},
   "outputs": [
    {
     "data": {
      "text/plain": [
       "3"
      ]
     },
     "execution_count": 40,
     "metadata": {},
     "output_type": "execute_result"
    }
   ],
   "source": [
    "11 // 3"
   ]
  },
  {
   "cell_type": "code",
   "execution_count": 41,
   "metadata": {},
   "outputs": [
    {
     "data": {
      "text/plain": [
       "4"
      ]
     },
     "execution_count": 41,
     "metadata": {},
     "output_type": "execute_result"
    }
   ],
   "source": [
    "12 // 3"
   ]
  },
  {
   "cell_type": "markdown",
   "metadata": {},
   "source": [
    "**Ganzzahliger Division einer ganzen und einer rationalen Zahl**"
   ]
  },
  {
   "cell_type": "code",
   "execution_count": 42,
   "metadata": {},
   "outputs": [
    {
     "data": {
      "text/plain": [
       "4.0"
      ]
     },
     "execution_count": 42,
     "metadata": {},
     "output_type": "execute_result"
    }
   ],
   "source": [
    "# Ganzzahlige Division einer ganzen und einer rationalen Zahl => rationale Zahl\n",
    "\n",
    "10 // 2.4"
   ]
  },
  {
   "cell_type": "code",
   "execution_count": 43,
   "metadata": {},
   "outputs": [
    {
     "data": {
      "text/plain": [
       "4.166666666666667"
      ]
     },
     "execution_count": 43,
     "metadata": {},
     "output_type": "execute_result"
    }
   ],
   "source": [
    "# Zum Vergleich: Ergebnis der normalen Division\n",
    "\n",
    "10 / 2.4"
   ]
  },
  {
   "cell_type": "markdown",
   "metadata": {},
   "source": [
    "**Ganzzahlige Division zweier rationaler Zahlen**"
   ]
  },
  {
   "cell_type": "code",
   "execution_count": 44,
   "metadata": {},
   "outputs": [
    {
     "data": {
      "text/plain": [
       "5.0"
      ]
     },
     "execution_count": 44,
     "metadata": {},
     "output_type": "execute_result"
    }
   ],
   "source": [
    "# Ganzzahlige Division zweier rationaler Zahlen => rationale Zahl\n",
    "\n",
    "11.2 // 2.1"
   ]
  },
  {
   "cell_type": "code",
   "execution_count": 45,
   "metadata": {},
   "outputs": [
    {
     "data": {
      "text/plain": [
       "5.333333333333333"
      ]
     },
     "execution_count": 45,
     "metadata": {},
     "output_type": "execute_result"
    }
   ],
   "source": [
    " # Zum Vergleich: Ergebnis der normalen Division\n",
    "\n",
    "11.2 / 2.1"
   ]
  },
  {
   "cell_type": "markdown",
   "metadata": {},
   "source": [
    "Die folgenden drei Beispiele zeigen, dass der Operator `//` nicht auf komplexe Zahlen angewendet werden kann. Eine komplexe Zahl darf weder im Nenner noch im Zeiler stehen. Es ist auch egal, ob man ganze und rationale Zahlen in der Division mit komplexen Zahlen mischt. Auch die Misching der Zahlentypen führt zu einem Fehler."
   ]
  },
  {
   "cell_type": "code",
   "execution_count": 46,
   "metadata": {},
   "outputs": [
    {
     "ename": "TypeError",
     "evalue": "unsupported operand type(s) for //: 'complex' and 'int'",
     "output_type": "error",
     "traceback": [
      "\u001b[1;31m---------------------------------------------------------------------------\u001b[0m",
      "\u001b[1;31mTypeError\u001b[0m                                 Traceback (most recent call last)",
      "Cell \u001b[1;32mIn[46], line 3\u001b[0m\n\u001b[0;32m      1\u001b[0m \u001b[38;5;66;03m# Ganzzahlige Division einer komplexen und einer ganzen Zahl => Fehler!\u001b[39;00m\n\u001b[1;32m----> 3\u001b[0m \u001b[38;5;241;43m5\u001b[39;49m\u001b[43mj\u001b[49m\u001b[43m \u001b[49m\u001b[38;5;241;43m/\u001b[39;49m\u001b[38;5;241;43m/\u001b[39;49m\u001b[43m \u001b[49m\u001b[38;5;241;43m3\u001b[39;49m\n",
      "\u001b[1;31mTypeError\u001b[0m: unsupported operand type(s) for //: 'complex' and 'int'"
     ]
    }
   ],
   "source": [
    "# Ganzzahlige Division einer komplexen und einer ganzen Zahl => Fehler!\n",
    "\n",
    "5j // 3"
   ]
  },
  {
   "cell_type": "code",
   "execution_count": null,
   "metadata": {},
   "outputs": [],
   "source": [
    "# Ganzzahlige Division einer rationalen und einer komplexen Zahl => Fehler!\n",
    "\n",
    "3.5 // 5j"
   ]
  },
  {
   "cell_type": "code",
   "execution_count": null,
   "metadata": {},
   "outputs": [],
   "source": [
    "# Ganzzahlige Division zweier komplexer Zahlen => Fehler!\n",
    "\n",
    "5j // 2j"
   ]
  },
  {
   "cell_type": "markdown",
   "metadata": {},
   "source": [
    "#### 3.2.1.6. Operator `... % ...`\n",
    "\n",
    "*Notiz: Binärer Operator in Infixschreibweise*\n",
    "\n",
    "Der Operator `%` kann schließlich dafür verwendet werden, den Rest der ganzzahligen Division zweier Zahlen zu berechnen. Die Operanden können entweder ganze oder rationale Zahlen sein. Komplexe Zahlen werden hingegen nicht unterstützt. Das Ergenis des Operators ist die Differenz zwischen Nenner und Ergebnis der ganzzahligen Division mal Zähler.\n",
    "\n",
    "![](Zeichnungen/Restdivision.jpg)"
   ]
  },
  {
   "cell_type": "markdown",
   "metadata": {},
   "source": [
    "**Rest der ganzzahligen Division zweier ganzer Zahlen**"
   ]
  },
  {
   "cell_type": "code",
   "execution_count": null,
   "metadata": {},
   "outputs": [],
   "source": [
    "# Rest der ganzzahligen Division zweier ganzer Zahlen => ganze Zahl\n",
    "\n",
    "10 % 3"
   ]
  },
  {
   "cell_type": "code",
   "execution_count": null,
   "metadata": {},
   "outputs": [],
   "source": [
    "# Zum Vergleich: Differenz zwischen Nenner und Ergebnis der ganzzahligen Division mal Zähler\n",
    "\n",
    "10 - (10 // 3) * 3"
   ]
  },
  {
   "cell_type": "markdown",
   "metadata": {},
   "source": [
    "**Rest der ganzzahligen Division einer ganzen und einer rationalen Zahl**"
   ]
  },
  {
   "cell_type": "code",
   "execution_count": null,
   "metadata": {},
   "outputs": [],
   "source": [
    "# Rest der ganzzahligen Division einer ganzen und einer rationalen Zahl => rationale Zahl\n",
    "\n",
    "10 % 2.4"
   ]
  },
  {
   "cell_type": "code",
   "execution_count": null,
   "metadata": {},
   "outputs": [],
   "source": [
    "# Zum Vergleich: Differenz zwischen Nenner und Ergebnis der ganzzahligen Division mal Zähler\n",
    "\n",
    "10 - (10 // 2.4) * 2.4"
   ]
  },
  {
   "cell_type": "markdown",
   "metadata": {},
   "source": [
    "**Rest der ganzzahligen Division zweier rationaler Zahlen**"
   ]
  },
  {
   "cell_type": "code",
   "execution_count": null,
   "metadata": {},
   "outputs": [],
   "source": [
    "# Rest der ganzzahligen Division zweier rationaler Zahlen => rationale Zahl\n",
    "\n",
    "11.2 % 2.1"
   ]
  },
  {
   "cell_type": "code",
   "execution_count": null,
   "metadata": {},
   "outputs": [],
   "source": [
    "# Zum Vergleich: Differenz zwischen Nenner und Ergebnis der ganzzahligen Division mal Zähler\n",
    "\n",
    "11.2 - (11.2 // 2.1) * 2.1"
   ]
  },
  {
   "cell_type": "markdown",
   "metadata": {},
   "source": [
    "Die folgenden drei Beispiele zeigen, dass der Operator `%` nicht auf komplexe Zahlen angewendet werden kann. Eine komplexe Zahl darf weder im Nenner noch im Zeiler stehen. Es ist auch egal, ob man ganze und rationale Zahlen in der Division mit komplexen Zahlen mischt. Auch die Misching der Zahlentypen führt zu einem Fehler."
   ]
  },
  {
   "cell_type": "code",
   "execution_count": null,
   "metadata": {},
   "outputs": [],
   "source": [
    "# Rest der ganzzahligen Division einer komplexen und einer ganzen Zahl => Fehler!\n",
    "\n",
    "5j % 2"
   ]
  },
  {
   "cell_type": "code",
   "execution_count": null,
   "metadata": {},
   "outputs": [],
   "source": [
    "# Rest der ganzzahligen Division einer rationalen und einer komplexen Zahl => Fehler!\n",
    "\n",
    "2.2 % 5j"
   ]
  },
  {
   "cell_type": "code",
   "execution_count": null,
   "metadata": {},
   "outputs": [],
   "source": [
    "# Rest der ganzzahligen Division zweier komplexer Zahlen => Fehler!\n",
    "\n",
    "5j % 2j"
   ]
  },
  {
   "cell_type": "markdown",
   "metadata": {},
   "source": [
    "### 3.2.2. **Vergleichende** Operatoren\n",
    "\n",
    "Neben den arithmetischen Operatoren bietet die Programmiersprache Python auch vergleichende Operatoren. Vergleichende Operatoren ermöglichen den Vergleich von zwei Zahlenwerten und geben einen Wahrheitswert zurück. Der Wahrheitswert beschreibt dabei, ob der Vergleich zutrifft oder nicht. Die Programmiersprache Python untersützt die folgenden vergleichenden Operatoren:\n",
    "\n",
    "- Der **Operator** `==` prüft die ***Gleichheit* zweier Zahlen**.\n",
    "- Der **Operator** `!=` prüft die ***Ungleichheit* zweier Zahlen**.\n",
    "- Der **Operator** `>` prüft, ob **eine Zahl *größer* als eine andere Zahl** ist.\n",
    "- Der **Operator** `<` prüft, ob **eine Zahl *kleiner* als eine andere Zahl** ist.\n",
    "- Der **Operator** `>=` prüft, ob **eine Zahl *größer oder gleich* einer anderen Zahl** ist.\n",
    "- Der **Operator** `<=` prüft, ob **eine Zahl *kleiner oder gleich* einer anderen Zahl** ist.\n",
    "\n",
    "Im folgenden Beschreiben wir die Funktionsweise der einzelnen Operatoren genauer."
   ]
  },
  {
   "cell_type": "markdown",
   "metadata": {},
   "source": [
    "#### 3.2.2.1. Operator `==`\n",
    "\n",
    "Der Operator `==` prüft, ob die beiden Operanden **die gleiche Zahl** repräsentieren. Wenn das der Fall ist, gibt der Operator den Wahrheitswert *Wahr* zurück. Andernfalls gibt der Operator den Wahrheitswert *Falsch* zurück."
   ]
  },
  {
   "cell_type": "code",
   "execution_count": null,
   "metadata": {},
   "outputs": [],
   "source": [
    "1 == 1"
   ]
  },
  {
   "cell_type": "code",
   "execution_count": null,
   "metadata": {},
   "outputs": [],
   "source": [
    "1 == 2"
   ]
  },
  {
   "cell_type": "code",
   "execution_count": null,
   "metadata": {},
   "outputs": [],
   "source": [
    "1 == 1.0"
   ]
  },
  {
   "cell_type": "markdown",
   "metadata": {},
   "source": [
    "#### 3.2.2.2. Operator `!=`\n",
    "\n",
    "Der Operator `!=` prüft, ob die beiden Operanden **unterschiedliche Zahlen** repräsentieren. Wenn das der Fall ist, gibt der Operator den Wahrheitswert *Wahr* zurück. Andernfalls gibt der Operator den Wahrheitswert *Falsch* zurück."
   ]
  },
  {
   "cell_type": "code",
   "execution_count": null,
   "metadata": {},
   "outputs": [],
   "source": [
    "1 != 2"
   ]
  },
  {
   "cell_type": "code",
   "execution_count": null,
   "metadata": {},
   "outputs": [],
   "source": [
    "1 != 1"
   ]
  },
  {
   "cell_type": "markdown",
   "metadata": {},
   "source": [
    "#### 3.2.2.3. Operator `>`\n",
    "\n",
    "Der Operator `>` prüft, ob der **erste Operand *größer* als der zweite Operand** ist. Wenn das der Fall ist, gibt der Operator den Wahrheitswert *Wahr* zurück. Andernfalls gibt der Operator den Wahrheitswert *Falsch* zurück."
   ]
  },
  {
   "cell_type": "code",
   "execution_count": null,
   "metadata": {},
   "outputs": [],
   "source": [
    "2 > 1"
   ]
  },
  {
   "cell_type": "code",
   "execution_count": null,
   "metadata": {},
   "outputs": [],
   "source": [
    "1 > 2"
   ]
  },
  {
   "cell_type": "markdown",
   "metadata": {},
   "source": [
    "#### 3.2.2.4. Operator `<`\n",
    "\n",
    "Der Operator `>` prüft, ob der **erste Operand *kleiner* als der zweite Operand** ist. Wenn das der Fall ist, gibt der Operator den Wahrheitswert *Wahr* zurück. Andernfalls gibt der Operator den Wahrheitswert *Falsch* zurück."
   ]
  },
  {
   "cell_type": "code",
   "execution_count": null,
   "metadata": {},
   "outputs": [],
   "source": [
    "1 < 2"
   ]
  },
  {
   "cell_type": "code",
   "execution_count": null,
   "metadata": {},
   "outputs": [],
   "source": [
    "2 < 1"
   ]
  },
  {
   "cell_type": "markdown",
   "metadata": {},
   "source": [
    "#### 3.2.2.5. Operator `>=`\n",
    "\n",
    "Der Operator `>=` prüft, ob der **erste Operand *größer oder gleich* dem zweiten Operand** ist. Wenn das der Fall ist, gibt der Operator den Wahrheitswert *Wahr* zurück. Andernfalls gibt der Operator den Wahrheitswert *Falsch* zurück."
   ]
  },
  {
   "cell_type": "code",
   "execution_count": null,
   "metadata": {},
   "outputs": [],
   "source": [
    "1 >= 1"
   ]
  },
  {
   "cell_type": "code",
   "execution_count": null,
   "metadata": {},
   "outputs": [],
   "source": [
    "1 >= 2"
   ]
  },
  {
   "cell_type": "markdown",
   "metadata": {},
   "source": [
    "#### 3.2.2.6. Operator `<=`\n",
    "\n",
    "Der Operator `>=` prüft, ob der **erste Operand *kleiner oder gleich* dem zweiten Operand** ist. Wenn das der Fall ist, gibt der Operator den Wahrheitswert *Wahr* zurück. Andernfalls gibt der Operator den Wahrheitswert *Falsch* zurück."
   ]
  },
  {
   "cell_type": "code",
   "execution_count": null,
   "metadata": {},
   "outputs": [],
   "source": [
    "1 <= 2"
   ]
  },
  {
   "cell_type": "code",
   "execution_count": null,
   "metadata": {},
   "outputs": [],
   "source": [
    "2 <= 1"
   ]
  },
  {
   "cell_type": "markdown",
   "metadata": {},
   "source": [
    "## 3.3. Operatoren für **Sammlungen**\n",
    "\n",
    "Schließlich schauen wir uns hier noch Operatoren für Sammlungen (d.h. Zeichenketten, Tupel, Listen, Ganzzahlenbereiche und Abbildungen) an. Python bietet auch für Sammlungen mehrere unterschiedliche Operatoren mit unterschiedlichen Funktionsweisen:\n",
    "\n",
    "- Der **Operartor** `+` kann für das **Zusammenhängen zweier Zeichenketten, Tupel oder Listen** verwendet werden.\n",
    "- Der **Operator** `f` kann für das **Erstellen variabler Zeichenketten** verwendet werden.\n",
    "- Der **Operator** `[]` kann für den **Zugriff auf Teile einer Sammlung** verwendet werden.\n",
    "- Der **Operator** `in` kann für die **Suche nach Teilen einer Sammlung** verwendet werden.\n",
    "- Der **Operator** `not in` kan für die ***verneinte* Suche nach Teilen einer Sammlung** verwendet werden.\n",
    "\n",
    "Im Folgenden beschreiben wir die Syntax und die Funktionsweise der drei Operatoren für Sammlungen genauer."
   ]
  },
  {
   "cell_type": "markdown",
   "metadata": {},
   "source": [
    "### 3.3.1. Operator `... + ...`\n",
    "\n",
    "*Notiz: Binärer Operator in Infixschreibweise*\n",
    "\n",
    "Der Operator `+` kann im Kontext von Zeichenketten, Tupeln oder Listen dafür verwendet werden, zwei Sammlungen zu verbinden. Dabei wird die zweite Sammlung einfach an des Ende der ersten Sammlung angehängt. Das Ergebnis des Operators ist diese verbundene Sammlung. Der folgende Quelltext zeigt ein einfaches Beispiel dieser Verbindung mit zwei Literalen für unterschiedliche Typen von Sammlungen."
   ]
  },
  {
   "cell_type": "code",
   "execution_count": null,
   "metadata": {},
   "outputs": [
    {
     "data": {
      "text/plain": [
       "'Zeichenkette 1Zeichenkette 2'"
      ]
     },
     "execution_count": 53,
     "metadata": {},
     "output_type": "execute_result"
    }
   ],
   "source": [
    "\"Zeichenkette 1\" + \"Zeichenkette 2\" # Verkettung zweier Zeichenketten"
   ]
  },
  {
   "cell_type": "code",
   "execution_count": null,
   "metadata": {},
   "outputs": [
    {
     "data": {
      "text/plain": [
       "(True, False, 1, 2, 3, 'a', 'b')"
      ]
     },
     "execution_count": 4,
     "metadata": {},
     "output_type": "execute_result"
    }
   ],
   "source": [
    "(True, False) + (1, 2, 3) # Verkettung zweier Tupel"
   ]
  },
  {
   "cell_type": "code",
   "execution_count": null,
   "metadata": {},
   "outputs": [
    {
     "data": {
      "text/plain": [
       "[1, 5, 7, 'a', 'b']"
      ]
     },
     "execution_count": 5,
     "metadata": {},
     "output_type": "execute_result"
    }
   ],
   "source": [
    "[1, 5, 7] + [\"a\", \"b\"] # Verkettung zweier Listen"
   ]
  },
  {
   "cell_type": "markdown",
   "metadata": {},
   "source": [
    "Die Datentypen der beiden Operanden müssen übereinstimmen, damit die Verkettungsoperation ausgeführt werden kann. Falls der eine Operand z.B. eine Zeichenkette ist und der andere Operand z.B. ein boolscher Wahrheitswert oder eine Zahl, gibt Python einen Fehler aus und beendet die Ausführung des Programms an genau dieser Stelle. Die folgenden beiden Quelltexte zeigen dieses Verhalten."
   ]
  },
  {
   "cell_type": "code",
   "execution_count": null,
   "metadata": {},
   "outputs": [],
   "source": [
    "\"Zeichenkette\" + True # Verkettung einer Zeichenkette und eines Wahrheitswertes => Fehler"
   ]
  },
  {
   "cell_type": "code",
   "execution_count": null,
   "metadata": {},
   "outputs": [],
   "source": [
    "\"Zeichenkette\" + 1.5 # Verkettung einer Zeichenkette und einer Zahl => Fehler"
   ]
  },
  {
   "cell_type": "markdown",
   "metadata": {},
   "source": [
    "Wenn man trotzdem einen Wahrheitswert oder eine Zahl in einer Zeichenkette nutzen möchte, muss man diese erst in eine Zeichenkette umwandeln. Python bietet für die Umwandlung die Funktion `str` an (mehr zu Funktionen später). Im folgenden ist die Funktion `str` auf das Literal `True` und auf das Literal `1.5` angewendet. Beachte, dass sich die Darstellung von Wahrheitswerten und Zahlen grundlegend von der Darstellung von Zeichenketten unterscheidet. Ein Wahrheitswert kann z.B. über ein einziges Byte dargestellt werden, während die zugehörige Zeichenkette aus mehreren Zeichen und dem Nullwert bestehen."
   ]
  },
  {
   "cell_type": "code",
   "execution_count": null,
   "metadata": {},
   "outputs": [],
   "source": [
    "\"Zeichenkette\" + str(True or False) # Verkettung zweier Zeichenketten mit Typumwandlung eines Wahrheitswertes"
   ]
  },
  {
   "cell_type": "code",
   "execution_count": null,
   "metadata": {},
   "outputs": [],
   "source": [
    "\"Zeichenkette\" + str(1.5 + 0.7) # Verkettung zweier Zeichenketten mit Typumwandlung einer Zahl"
   ]
  },
  {
   "cell_type": "markdown",
   "metadata": {},
   "source": [
    "### 3.3.2. Operator `f\"...\"`\n",
    "\n",
    "*Notiz: Närer Operator in Präfixschreibweise*\n",
    "\n",
    "Seit einiger Zeit bietet Python auch den Operator `f` an, um komplexere Zeichenketten zu berechnen. Der Operator `f` ist ein sogenannter Präfixoperator, weil er der Zeichenkette vorangestellt wird. Innerhalb der Zeichenkette kann man dann mit geschweiften Klammern einen Teil markieren, der eine Berechnung enthält. Python führt diese Berechnung aus, wandelt das Ergebnis der Berechnung in eine Zeichenkette um, und setzt diese Zeichenkette an der entsprechenden Stelle ein. Im Folgenden sind drei Beispiele, bei denen der Inhalt der geschweiften Klammer einfache Literale sind."
   ]
  },
  {
   "cell_type": "code",
   "execution_count": null,
   "metadata": {},
   "outputs": [],
   "source": [
    "f\"Zeichenkette{True}\""
   ]
  },
  {
   "cell_type": "code",
   "execution_count": null,
   "metadata": {},
   "outputs": [],
   "source": [
    "f\"Zeichenkette{1.5}\""
   ]
  },
  {
   "cell_type": "code",
   "execution_count": null,
   "metadata": {},
   "outputs": [],
   "source": [
    "f\"Zeichenkette{\"Zeichenkette\"}\""
   ]
  },
  {
   "cell_type": "markdown",
   "metadata": {},
   "source": [
    "Der Inhalt der geschweiften Klammern kann jedoch auch eine Berechnung sein, die neben Wahrheitswerten, Zahlen und Zeichenketten auch Operatoren beinhaltet. Grundsätzlich kann der Inhalt der geschweiften Klammern ein beliebiger ausführbarer Ausdruck der Programmiersprache Python sein. Im Folgenden zeigen wir drei Beispiele, bei denen wir den Operator `not` für boolsche Wahrheitswerte, den Operator `*` für numerische Zahlenwerte, und den Operator `+` für Zeichenketten verwenden."
   ]
  },
  {
   "cell_type": "code",
   "execution_count": null,
   "metadata": {},
   "outputs": [],
   "source": [
    "f\"Zeichenkette{not True}\""
   ]
  },
  {
   "cell_type": "code",
   "execution_count": null,
   "metadata": {},
   "outputs": [],
   "source": [
    "f\"Zeichenkette{1.5 * 2.7}\""
   ]
  },
  {
   "cell_type": "code",
   "execution_count": null,
   "metadata": {},
   "outputs": [],
   "source": [
    "f\"Zeichenkette{\"Zeichenkette\" + \"Zeichenkette\"}\""
   ]
  },
  {
   "cell_type": "markdown",
   "metadata": {},
   "source": [
    "Schließlich kann man den Operator `f` auch beliebig tief schachteln. Schachteln heißt in diesem Zusammenhang, dass der Inhalt der geschweiften Klammer weider den Operator `f` enthält. Im Folgenden zeigen wir die einfache, zweifache, und dreifache Schachtelung des Operators `f`. Python startet bei der Auswertung mit der innersten geschweiften Klammer und arbeitet sich sukzessive nach außen vor. Das heißt, dass erst die innerste Zeichenkette berechnet wird. Diese Zeichenkette fließt wiederum in die Berechnung der Zeichenkette auf der nächsthöheren Ebene ein, und so weiter."
   ]
  },
  {
   "cell_type": "code",
   "execution_count": null,
   "metadata": {},
   "outputs": [],
   "source": [
    "f\"Zeichenkette{f\"Zeichenkette{True}\"}\""
   ]
  },
  {
   "cell_type": "code",
   "execution_count": null,
   "metadata": {},
   "outputs": [],
   "source": [
    "f\"Zeichenkette{f\"Zeichenkette{f\"Zeichenkette{not True}\"}\"}\""
   ]
  },
  {
   "cell_type": "code",
   "execution_count": null,
   "metadata": {},
   "outputs": [],
   "source": [
    "f\"Zeichenkette{f\"Zeichenkette{f\"Zeichenkette{f\"Zeichenkette{1.5 + 2.7}\"}\"}\"}\""
   ]
  },
  {
   "cell_type": "markdown",
   "metadata": {},
   "source": [
    "Spezialfall"
   ]
  },
  {
   "cell_type": "code",
   "execution_count": null,
   "metadata": {},
   "outputs": [],
   "source": [
    "f\"a{True}{1}{\"x\"}{5j}{\"b\"}{2+2}..\" # N-ärer Operator (Präfix)"
   ]
  },
  {
   "cell_type": "markdown",
   "metadata": {},
   "source": [
    "### 3.3.3. Operator `...[...]`\n",
    "\n",
    "*Notiz: Binärer, ternärer oder quatemärer Operator in Suffix- bzw. Infixschreibweise*\n",
    "\n",
    "Es gibt drei Varianten des Operators `[]`:\n",
    "\n",
    "* Binäre Variante\n",
    "* Ternäre Variante\n",
    "* Quaternäre Variante\n",
    "\n",
    "Im Folgenden betrachten wir die drei Varianten separat."
   ]
  },
  {
   "cell_type": "markdown",
   "metadata": {},
   "source": [
    "\n",
    "#### 3.3.3.1. Binäre Variante\n",
    "\n",
    "Der Operator `[]` kann dafür verwendet werden, auf einen Teil einer Sammlung zuzugreifen. Im einfachsten Fall kann auf **ein einzelnes Element** einer Sammlung zugegriffen werden. Beim Zugriff auf ein einzelnes Element muss der Index bzw. Schlüssel des Elements in den eckigen Klammern angegeben werden."
   ]
  },
  {
   "cell_type": "code",
   "execution_count": 51,
   "metadata": {},
   "outputs": [
    {
     "data": {
      "text/plain": [
       "'a'"
      ]
     },
     "execution_count": 51,
     "metadata": {},
     "output_type": "execute_result"
    }
   ],
   "source": [
    "\"abcdef\"[0] # Zeichenkette"
   ]
  },
  {
   "cell_type": "code",
   "execution_count": 50,
   "metadata": {},
   "outputs": [
    {
     "data": {
      "text/plain": [
       "5"
      ]
     },
     "execution_count": 50,
     "metadata": {},
     "output_type": "execute_result"
    }
   ],
   "source": [
    "(1, 5, 7)[1] # Tupel"
   ]
  },
  {
   "cell_type": "code",
   "execution_count": 49,
   "metadata": {},
   "outputs": [
    {
     "data": {
      "text/plain": [
       "'c'"
      ]
     },
     "execution_count": 49,
     "metadata": {},
     "output_type": "execute_result"
    }
   ],
   "source": [
    "[\"a\", \"b\", \"c\"][2] # Liste"
   ]
  },
  {
   "cell_type": "code",
   "execution_count": 48,
   "metadata": {},
   "outputs": [
    {
     "data": {
      "text/plain": [
       "9"
      ]
     },
     "execution_count": 48,
     "metadata": {},
     "output_type": "execute_result"
    }
   ],
   "source": [
    "range(5, 20, 2)[2] # Ganzzahlenbereich"
   ]
  },
  {
   "cell_type": "code",
   "execution_count": 52,
   "metadata": {},
   "outputs": [
    {
     "data": {
      "text/plain": [
       "5"
      ]
     },
     "execution_count": 52,
     "metadata": {},
     "output_type": "execute_result"
    }
   ],
   "source": [
    "{ \"a\": 5, \"b\": 10, \"c\": 15 }[\"a\"] # Abbildung"
   ]
  },
  {
   "cell_type": "markdown",
   "metadata": {},
   "source": [
    "#### 3.3.3.2. Ternäre Variante\n",
    "\n",
    "Im nächst komplexeren Fall kann man auf einen **zusammenhängenden Bereich** einer Zeichenkette, eines Tupel, einer Liste, oder eines Ganzzahlenbereichs zugreifen. Dabei muss man den Index des ersten inklusiven Elements sowie den Index des ersten exklusiven Elements des zu extrahierenden Bereichs der Sammlung durch einen Doppelpunkt getrennt in eckigen Klammern angeben."
   ]
  },
  {
   "cell_type": "code",
   "execution_count": 54,
   "metadata": {},
   "outputs": [
    {
     "data": {
      "text/plain": [
       "'cd'"
      ]
     },
     "execution_count": 54,
     "metadata": {},
     "output_type": "execute_result"
    }
   ],
   "source": [
    "\"abcdef\"[2:4] # Zeichenkette"
   ]
  },
  {
   "cell_type": "code",
   "execution_count": 53,
   "metadata": {},
   "outputs": [
    {
     "data": {
      "text/plain": [
       "('b', 'c')"
      ]
     },
     "execution_count": 53,
     "metadata": {},
     "output_type": "execute_result"
    }
   ],
   "source": [
    "(\"a\", \"b\", \"c\", \"d\")[1:3] # Tupel"
   ]
  },
  {
   "cell_type": "code",
   "execution_count": 55,
   "metadata": {},
   "outputs": [
    {
     "data": {
      "text/plain": [
       "[7, -3, -10]"
      ]
     },
     "execution_count": 55,
     "metadata": {},
     "output_type": "execute_result"
    }
   ],
   "source": [
    "[1, 5, 7, -3, -10, 20, 90][2:5] # Liste"
   ]
  },
  {
   "cell_type": "code",
   "execution_count": 56,
   "metadata": {},
   "outputs": [
    {
     "data": {
      "text/plain": [
       "range(8, 2, -2)"
      ]
     },
     "execution_count": 56,
     "metadata": {},
     "output_type": "execute_result"
    }
   ],
   "source": [
    "range(10, -10, -2)[1:4] # Ganzzahlenbereich"
   ]
  },
  {
   "cell_type": "markdown",
   "metadata": {},
   "source": [
    "#### 3.3.3.3. Quaternäre Variante\n",
    "\n",
    "Schließlich kann man noch bei der Extraktion von Teilzeichenketten noch angegeben werden, wieviele Zeichen zwischen jedem extrahierten **Zeichen jeweils übersprungen** werden sollen. Im folgenden Beispiel wird jeweils nur jedes zweite, dritte und vierte Zeichen extrahiert."
   ]
  },
  {
   "cell_type": "code",
   "execution_count": 58,
   "metadata": {},
   "outputs": [
    {
     "data": {
      "text/plain": [
       "'bdf'"
      ]
     },
     "execution_count": 58,
     "metadata": {},
     "output_type": "execute_result"
    }
   ],
   "source": [
    "\"abcdef\"[1:6:2] # Zeichenkette"
   ]
  },
  {
   "cell_type": "code",
   "execution_count": 57,
   "metadata": {},
   "outputs": [
    {
     "data": {
      "text/plain": [
       "(7, 'b')"
      ]
     },
     "execution_count": 57,
     "metadata": {},
     "output_type": "execute_result"
    }
   ],
   "source": [
    "(1, 7, 9, \"a\", \"b\", \"c\")[1:10:3] # Tupel"
   ]
  },
  {
   "cell_type": "code",
   "execution_count": 59,
   "metadata": {},
   "outputs": [
    {
     "data": {
      "text/plain": [
       "[False, 'a']"
      ]
     },
     "execution_count": 59,
     "metadata": {},
     "output_type": "execute_result"
    }
   ],
   "source": [
    "[True, False, 1, -1, 200, \"a\", \"b\", \"c\"][1:20:4] # 'Liste"
   ]
  },
  {
   "cell_type": "code",
   "execution_count": 60,
   "metadata": {},
   "outputs": [
    {
     "data": {
      "text/plain": [
       "range(8, 75, 5)"
      ]
     },
     "execution_count": 60,
     "metadata": {},
     "output_type": "execute_result"
    }
   ],
   "source": [
    "range(5,100)[3:70:5] # Ganzzahlenbereich"
   ]
  },
  {
   "cell_type": "markdown",
   "metadata": {},
   "source": [
    "![](Zeichnungen/Range_Index.jpg)"
   ]
  },
  {
   "cell_type": "markdown",
   "metadata": {},
   "source": [
    "### 3.3.4. Operator `... in ...`\n",
    "\n",
    "*Notiz: Binärer Operator in Infixschreibweise*\n",
    "\n",
    "Der Operator `in` kann dafür verwendet werden zu prüfen, ob ein Element in einer Sammlung enthalten ist. Der Operator gibt den Wahrheitswert *Wahr* zurück, wenn das linke Element in der rechten Sammlung enthalten ist. Andernfalls gibt der Operator der Wahrheitswert *Falsch* zurück."
   ]
  },
  {
   "cell_type": "code",
   "execution_count": null,
   "metadata": {},
   "outputs": [],
   "source": [
    "\"a\" in \"abc\" # Zeichenketten"
   ]
  },
  {
   "cell_type": "code",
   "execution_count": 61,
   "metadata": {},
   "outputs": [
    {
     "data": {
      "text/plain": [
       "True"
      ]
     },
     "execution_count": 61,
     "metadata": {},
     "output_type": "execute_result"
    }
   ],
   "source": [
    "1 in (1, 2) # Tupel"
   ]
  },
  {
   "cell_type": "code",
   "execution_count": 62,
   "metadata": {},
   "outputs": [
    {
     "data": {
      "text/plain": [
       "True"
      ]
     },
     "execution_count": 62,
     "metadata": {},
     "output_type": "execute_result"
    }
   ],
   "source": [
    "True in [True, False] # Listen"
   ]
  },
  {
   "cell_type": "code",
   "execution_count": 63,
   "metadata": {},
   "outputs": [
    {
     "data": {
      "text/plain": [
       "True"
      ]
     },
     "execution_count": 63,
     "metadata": {},
     "output_type": "execute_result"
    }
   ],
   "source": [
    "5 in range(10) # Ganzzahlenbereiche"
   ]
  },
  {
   "cell_type": "code",
   "execution_count": 65,
   "metadata": {},
   "outputs": [
    {
     "data": {
      "text/plain": [
       "True"
      ]
     },
     "execution_count": 65,
     "metadata": {},
     "output_type": "execute_result"
    }
   ],
   "source": [
    "\"a\" in { \"a\": 1, \"b\": 2 } # Abbildungen"
   ]
  },
  {
   "cell_type": "markdown",
   "metadata": {},
   "source": [
    "#### Ergänzung für Zeichenketten\n",
    "\n",
    "Im vorigen Beispiel bestand die linke Zeichenkette nur aus einem einzigen Zeichen. Die linke Zeichenkette kann natürlich beliebig viele Zeichen umfassen. dDie folgenden beiden Beispiele demonstrieren diese Möglichkeit. Die Funktionsweise des Operators ändert sich dadurch jedoch nicht."
   ]
  },
  {
   "cell_type": "code",
   "execution_count": 67,
   "metadata": {},
   "outputs": [
    {
     "data": {
      "text/plain": [
       "True"
      ]
     },
     "execution_count": 67,
     "metadata": {},
     "output_type": "execute_result"
    }
   ],
   "source": [
    "\"ab\" in \"abc\""
   ]
  },
  {
   "cell_type": "markdown",
   "metadata": {},
   "source": [
    "Der Operator `in` ist schließlich sensitiv bzgl. Groß- und Kleinschreibung. Das folgende Beispiel zeigt, wie nach einer großengeschriebnen Zeichenfolge in einer kleingeschriebenen Zeichenfolge gesucht wird. Das Ergebnis dieser Berechnung ist der Wahrheitswert *Falsch*."
   ]
  },
  {
   "cell_type": "code",
   "execution_count": null,
   "metadata": {},
   "outputs": [],
   "source": [
    "\"AB\" in \"abc\""
   ]
  },
  {
   "cell_type": "markdown",
   "metadata": {},
   "source": [
    "### 3.3.5. Operator `... not in ...`\n",
    "\n",
    "*Notiz: Binärer Operator in Infixschreibweise*\n",
    "\n",
    "Das Gegenteil des Operaors `in` ist der Operator `not in`. Der Operator `not in` prüft, ob das linke Element nicht in der rechten Sammmlung enthalten ist. Der Operator gibt den Wahrheitswert *Wahr* zurück, wenn das Element nicht enthalten ist. Andernfalls gibt der Operator den Wahrheitswert *Falsch* zurück."
   ]
  },
  {
   "cell_type": "code",
   "execution_count": null,
   "metadata": {},
   "outputs": [],
   "source": [
    "\"a\" not in \"abc\" # Zeichenkette"
   ]
  },
  {
   "cell_type": "code",
   "execution_count": null,
   "metadata": {},
   "outputs": [],
   "source": [
    "1 not in (5, 7, 9) # Tupel"
   ]
  },
  {
   "cell_type": "code",
   "execution_count": null,
   "metadata": {},
   "outputs": [],
   "source": [
    "True not in [False, False] # Liste"
   ]
  },
  {
   "cell_type": "code",
   "execution_count": null,
   "metadata": {},
   "outputs": [],
   "source": [
    "7 not in range(10, 100) # Ganzzahlenbereich"
   ]
  },
  {
   "cell_type": "code",
   "execution_count": 68,
   "metadata": {},
   "outputs": [
    {
     "data": {
      "text/plain": [
       "True"
      ]
     },
     "execution_count": 68,
     "metadata": {},
     "output_type": "execute_result"
    }
   ],
   "source": [
    "\"a\" not in { \"x\": 1, \"y\": 2, \"z\": 3 } # Abbildung"
   ]
  },
  {
   "cell_type": "markdown",
   "metadata": {},
   "source": [
    "#### Ergänzung für Zeichenketten"
   ]
  },
  {
   "cell_type": "markdown",
   "metadata": {},
   "source": [
    "Im vorigen Beispiel bestand die linke Zeichenkette wieder aus nur einem Zeichen. Tatsächlich kann auch beim Operator `not in` die linke Zeichenketten aus beliebig vielen Zeichen bestehen. Diese Möglichkeit ist wieder in den folgenden beiden Beispielen illustriert."
   ]
  },
  {
   "cell_type": "code",
   "execution_count": 4,
   "metadata": {},
   "outputs": [
    {
     "data": {
      "text/plain": [
       "False"
      ]
     },
     "execution_count": 4,
     "metadata": {},
     "output_type": "execute_result"
    }
   ],
   "source": [
    "\"ab\" not in \"abc\""
   ]
  },
  {
   "cell_type": "markdown",
   "metadata": {},
   "source": [
    "Auch der Operator `not in` ist schließlich sensitiv bzgl. Groß- und Kleinschreibung. Das folgende Beispiel zeigt, wie nach einer großengeschriebnen Zeichenfolge in einer kleingeschriebenen Zeichenfolge gesucht wird. Das Ergebnis dieser Berechnung ist der Wahrheitswert *Wahr*."
   ]
  },
  {
   "cell_type": "code",
   "execution_count": 5,
   "metadata": {},
   "outputs": [
    {
     "data": {
      "text/plain": [
       "True"
      ]
     },
     "execution_count": 5,
     "metadata": {},
     "output_type": "execute_result"
    }
   ],
   "source": [
    "\"AB\" not in \"abc\""
   ]
  },
  {
   "cell_type": "markdown",
   "metadata": {},
   "source": [
    "## 3.4. Operatoren für **Typinformationen**\n",
    "\n",
    "Schließlich können auch Typinformationen in Berechnungen verwendet werden. Die wichtigste Berechnung in diesem Zusammenhang ist der Vergleich von Typinformationen. Für den Vergleich von Typinformationen werden die folgenden beiden Operatoren angeboten:\n",
    "\n",
    "- Der **Operator** `is` prüft die ***Gleichheit* zweier Typinformationen**.\n",
    "- Der **Operator** `is not` prüft die ***Ungleichheit* zweier Typinformationen**.\n",
    "\n",
    "Im Folgenden betrachten wir die Schreibweise und Funktionsweise der beiden Operatoren genauer."
   ]
  },
  {
   "cell_type": "markdown",
   "metadata": {},
   "source": [
    "### 3.4.1. Operator `... is ...`\n",
    "\n",
    "*Notiz: Binärer Operator in Infixschreibweise*\n",
    "\n",
    "Der Operator `is` kann dafür verwendet werden, die Gleichheit zweier Typinformationen festzustellen. Sowohl der linke als auch der rechte Operand stellen dabei eine Typinformation dar. Das Ergebnis der Berechnung ist wiederum ein boolscher Wahrheitswert. Bei Gleichheit der beiden Typinformationen wird der Wert *Wahr* zurückgegeben, ansonsten wird der Wert *Falsch* zurückgegeben."
   ]
  },
  {
   "cell_type": "code",
   "execution_count": null,
   "metadata": {},
   "outputs": [
    {
     "data": {
      "text/plain": [
       "True"
      ]
     },
     "metadata": {},
     "output_type": "display_data"
    }
   ],
   "source": [
    "int is int"
   ]
  },
  {
   "cell_type": "code",
   "execution_count": null,
   "metadata": {},
   "outputs": [
    {
     "data": {
      "text/plain": [
       "False"
      ]
     },
     "metadata": {},
     "output_type": "display_data"
    }
   ],
   "source": [
    "int is float"
   ]
  },
  {
   "cell_type": "markdown",
   "metadata": {},
   "source": [
    "### 3.4.2. Operator `... is not ...`\n",
    "\n",
    "*Notiz: Binärer Operator in Infixschreibweise*\n",
    "\n",
    "Der Operator `is` kann dafür verwendet werden, die Ungleichheit zweier Typinformationen festzustellen. Sowohl der linke als auch der rechte Operand stellen dabei eine Typinformation dar. Das Ergebnis der Berechnung ist wiederum ein boolscher Wahrheitswert. Bei Ungleichheit der beiden Typinformationen wird der Wert *Wahr* zurückgegeben, ansonsten wird der Wert *Falsch* zurückgegeben."
   ]
  },
  {
   "cell_type": "code",
   "execution_count": null,
   "metadata": {},
   "outputs": [
    {
     "data": {
      "text/plain": [
       "True"
      ]
     },
     "metadata": {},
     "output_type": "display_data"
    }
   ],
   "source": [
    "int is not float"
   ]
  },
  {
   "cell_type": "code",
   "execution_count": null,
   "metadata": {},
   "outputs": [
    {
     "data": {
      "text/plain": [
       "False"
      ]
     },
     "metadata": {},
     "output_type": "display_data"
    }
   ],
   "source": [
    "int is not int"
   ]
  }
 ],
 "metadata": {
  "kernelspec": {
   "display_name": "Python 3",
   "language": "python",
   "name": "python3"
  },
  "language_info": {
   "codemirror_mode": {
    "name": "ipython",
    "version": 3
   },
   "file_extension": ".py",
   "mimetype": "text/x-python",
   "name": "python",
   "nbconvert_exporter": "python",
   "pygments_lexer": "ipython3",
   "version": "3.12.2"
  }
 },
 "nbformat": 4,
 "nbformat_minor": 2
}
