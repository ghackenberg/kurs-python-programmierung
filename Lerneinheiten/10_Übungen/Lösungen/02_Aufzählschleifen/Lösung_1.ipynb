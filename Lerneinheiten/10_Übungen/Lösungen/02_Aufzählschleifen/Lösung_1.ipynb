{
 "cells": [
  {
   "cell_type": "code",
   "execution_count": 1,
   "metadata": {},
   "outputs": [
    {
     "name": "stdout",
     "output_type": "stream",
     "text": [
      "letzter Index = 7, letzter Wert = -1\n",
      "Maximum Index = 5, Maximum Wert = 9\n",
      "letzter Index = 6, letzter Wert = 5\n",
      "Maximum Index = 3, Maximum Wert = 7\n",
      "letzter Index = 5, letzter Wert = -1\n",
      "Maximum Index = 1, Maximum Wert = 6\n",
      "letzter Index = 4, letzter Wert = 0\n",
      "Maximum Index = 3, Maximum Wert = 5\n",
      "letzter Index = 3, letzter Wert = 0\n",
      "Maximum Index = 0, Maximum Wert = 4\n",
      "letzter Index = 2, letzter Wert = 2\n",
      "Maximum Index = 2, Maximum Wert = 2\n",
      "letzter Index = 1, letzter Wert = -1\n",
      "Maximum Index = 0, Maximum Wert = 0\n",
      "\n"
     ]
    }
   ],
   "source": [
    "# Übung 1 - Sortierung einer Liste mit Zahlen mittels for-Schleife\n",
    "\n",
    "a = [4, 6, 2, 7, 0, 9, 5, -1]\n",
    "\n",
    "letzter_index = len(a) - 1\n",
    "\n",
    "for i in range(letzter_index, 0, -1):\n",
    "\n",
    "    letzter_wert = a[i]                                 # letzten Wert zwischenspeichern\n",
    "\n",
    "    maximum_index = 0                                   # größten Wert und seine Position suchen\n",
    "    maximum_wert = a[0]\n",
    "\n",
    "    for aktueller_index in range(1,i+1):                # i+1 -> einschließlich i\n",
    "        \n",
    "        if a[aktueller_index] > maximum_wert:\n",
    "\n",
    "            maximum_index = aktueller_index\n",
    "            maximum_wert = a[maximum_index]\n",
    "\n",
    "    a[i] = maximum_wert                                 # größten Wert ans Ende der Liste stellen\n",
    "    a[maximum_index] = letzter_wert\n",
    "\n",
    "    print(f\"letzter Index = {i}, letzter Wert = {letzter_wert}\")\n",
    "    print(f\"Maximum Index = {maximum_index}, Maximum Wert = {maximum_wert}\")\n",
    "\n",
    "print()\n",
    "print(f\"\\tEndergebnis = {a}\")                           # Sortierte Liste ausgeben\n",
    "\n"
   ]
  }
 ],
 "metadata": {
  "kernelspec": {
   "display_name": "Python 3",
   "language": "python",
   "name": "python3"
  },
  "language_info": {
   "codemirror_mode": {
    "name": "ipython",
    "version": 3
   },
   "file_extension": ".py",
   "mimetype": "text/x-python",
   "name": "python",
   "nbconvert_exporter": "python",
   "pygments_lexer": "ipython3",
   "version": "3.12.2"
  }
 },
 "nbformat": 4,
 "nbformat_minor": 2
}
