{
 "cells": [
  {
   "cell_type": "code",
   "execution_count": 1,
   "metadata": {},
   "outputs": [
    {
     "name": "stdout",
     "output_type": "stream",
     "text": [
      "Durchlauf 1! : 1\n",
      "Durchlauf 2! : 2\n",
      "Durchlauf 3! : 6\n",
      "Durchlauf 4! : 24\n"
     ]
    },
    {
     "name": "stdout",
     "output_type": "stream",
     "text": [
      "Danke!\n",
      "1\n",
      "Danke!\n",
      "Erste Zahl: 0.0\n",
      "Das war keine Zahl!\n",
      "Das war keine Zahl!\n",
      "Danke!\n",
      "Zweite Zahl: 0.0\n",
      "Danke!\n",
      "Operator: +\n",
      "Ergebnis: 0.0\n"
     ]
    }
   ],
   "source": [
    "#Beispiel 1 - Fakultät\n",
    "\n",
    "ergebnis = 1\n",
    "nmax = 5\n",
    "\n",
    "index = 1\n",
    "\n",
    "while index<nmax:\n",
    "    ergebnis=ergebnis*index\n",
    "    \n",
    "    print(f\"Durchlauf {index}! : {ergebnis}\")\n",
    "    \n",
    "    index= index+1\n",
    "\n",
    "\n"
   ]
  },
  {
   "cell_type": "code",
   "execution_count": null,
   "metadata": {},
   "outputs": [],
   "source": [
    "\n",
    "\n",
    "#Beispiel 2 - Robuste Zahleneingabe mit max. Versuchen\n",
    "\n",
    "zahl = None\n",
    "index = 0\n",
    "maxVersuche = 3\n",
    "\n",
    "while True:\n",
    "    index=index+1\n",
    "    if index<maxVersuche:\n",
    "        try:\n",
    "            string = input(\"Bitte eine Zahl eingeben:\")\n",
    "            zahl = int(string)\n",
    "            print(\"Danke!\")\n",
    "            print(zahl)\n",
    "            break\n",
    "        except:\n",
    "             print(\"Das war keine Zahl!\")\n",
    "\n",
    "    else:\n",
    "        print(\"Keine weiteren Versuche mehr möglich!\")\n",
    "        break\n",
    "\n"
   ]
  },
  {
   "cell_type": "code",
   "execution_count": 3,
   "metadata": {},
   "outputs": [
    {
     "name": "stdout",
     "output_type": "stream",
     "text": [
      "Danke!\n",
      "Erste Zahl: 3.0\n",
      "Danke!\n",
      "Zweite Zahl: 0.0\n",
      "Das war kein Operator!\n",
      "Das war kein Operator!\n",
      "Das war kein Operator!\n",
      "Das war kein Operator!\n",
      "Das war kein Operator!\n",
      "Danke!\n",
      "Operator: +\n",
      "Ergebnis: 3.0\n"
     ]
    }
   ],
   "source": [
    "\n",
    "\n",
    "\n",
    "#Beispiel 3 - Taschenrechner\n",
    "    \n",
    "Zahl1 = None\n",
    "\n",
    "while True:\n",
    "    try:\n",
    "        string = input(\"Bitte die erste Zahl zur Berechnung eingeben:\")\n",
    "        Zahl1 = float(string)\n",
    "        print(\"Danke!\")\n",
    "        break\n",
    "    except:\n",
    "        print(\"Das war keine Zahl!\")\n",
    "        continue\n",
    "\n",
    "print(f\"Erste Zahl: {Zahl1}\")\n",
    "\n",
    "Zahl2 = None\n",
    "\n",
    "while True:\n",
    "    try:\n",
    "        string = input(\"Bitte die zweite Zahl zur Berechnung eingeben:\")\n",
    "        Zahl2 = float(string)\n",
    "        print(\"Danke!\")\n",
    "        break\n",
    "    except:\n",
    "        print(\"Das war keine Zahl!\")\n",
    "        continue\n",
    "\n",
    "print(f\"Zweite Zahl: {Zahl2}\")\n",
    "\n",
    "Operator = None\n",
    "\n",
    "while True:\n",
    "    string = input(\"Bitte einen Operator (+,-,*,/) eingeben:\")\n",
    "    if string == '/' and Zahl2 == 0:\n",
    "        print(\"Division durch 0 nicht möglich! Bitte anderen Operator wählen.\")\n",
    "    elif string in ['+','-','*','/']:\n",
    "        Operator=string\n",
    "        print(\"Danke!\")\n",
    "        break\n",
    "    else:\n",
    "        print(\"Das war kein Operator!\")\n",
    "\n",
    "print(f\"Operator: {Operator}\")\n",
    "\n",
    "match Operator:\n",
    "    case '+':\n",
    "        print(f\"Ergebnis: {Zahl1+Zahl2}\")\n",
    "    case '-':\n",
    "        print(f\"Ergebnis: {Zahl1-Zahl2}\")\n",
    "    case '*':\n",
    "        print(f\"Ergebnis: {Zahl1*Zahl2}\")\n",
    "    case '/':\n",
    "        print(f\"Ergebnis: {Zahl1/Zahl2}\")\n"
   ]
  },
  {
   "cell_type": "code",
   "execution_count": null,
   "metadata": {},
   "outputs": [
    {
     "name": "stdout",
     "output_type": "stream",
     "text": [
      "Summe aller Zahlen in der Liste = 200\n"
     ]
    }
   ],
   "source": [
    "#Summe der Zahlen einer Liste mittels while-Schleife\n",
    "\n",
    "a = [5, 7, 1, 8, 3, 20, 0, 140, 6, 10]\n",
    "\n",
    "summe = 0\n",
    "\n",
    "index = 0\n",
    "\n",
    "while index < len(a):\n",
    "\n",
    "    summe = summe + a[index]\n",
    "\n",
    "    index = index + 1\n",
    "\n",
    "print(f\"Summe aller Zahlen in der Liste = {summe}\")"
   ]
  },
  {
   "cell_type": "code",
   "execution_count": null,
   "metadata": {},
   "outputs": [
    {
     "name": "stdout",
     "output_type": "stream",
     "text": [
      "Mittelwert aller Zahlen in der Liste = 20.0\n"
     ]
    }
   ],
   "source": [
    "#Mittelwert der Zahlen einer Liste mittels while-Schleife\n",
    "\n",
    "a = [5, 7, 1, 8, 3, 20, 0, 140, 6, 10]\n",
    "\n",
    "summe = 0\n",
    "\n",
    "index = 0\n",
    "\n",
    "while index < len(a):\n",
    "\n",
    "    summe = summe + a[index]\n",
    "\n",
    "    # Mittelwert bei jedem Schleifendurchlauf neu berechnen (rechenintensiv)\n",
    "    #mittelwert = summe / len(a)\n",
    "\n",
    "    index = index + 1\n",
    "\n",
    "# Mittelwert am Ende einmalig berechnen\n",
    "mittelwert = summe / len(a)\n",
    "\n",
    "print(f\"Mittelwert aller Zahlen in der Liste = {mittelwert}\")"
   ]
  },
  {
   "cell_type": "code",
   "execution_count": null,
   "metadata": {},
   "outputs": [
    {
     "name": "stdout",
     "output_type": "stream",
     "text": [
      "Standardabweichung der Zahlen in der Liste = 42.53625904253139\n"
     ]
    }
   ],
   "source": [
    "#Standardabweichung der Zahlen einer Liste mittels while-Schleife\n",
    "\n",
    "a = [5, 7, 1, 8, 3, 20, 0, 140, 6, 10]\n",
    "\n",
    "# Schritt 1: Mittelwert berechnen\n",
    "\n",
    "# Kurzform für die Berechnung des Mittelwertes\n",
    "summe = sum(a)\n",
    "mittelwert = summe / len(a)\n",
    "\n",
    "# Schritt 2: Standardabweichung berechnen\n",
    "\n",
    "index = 0\n",
    "beobachtungswert = 0\n",
    "\n",
    "while index < len(a):\n",
    "    \n",
    "    beobachtungswert = beobachtungswert + (a[index] - mittelwert)**2        # ** = hoch\n",
    "\n",
    "    # Rechenintensiv (Rechnungen eigentlich nicht notwendig, nur beim letzten Schleifendurchlauf)\n",
    "    #standardabweichung = (beobachtungswert / (len(a) - 1))**0.5             \n",
    "    \n",
    "    index = index + 1\n",
    "\n",
    "standardabweichung = (beobachtungswert / (len(a) - 1))**0.5\n",
    "\n",
    "print(f\"Standardabweichung der Zahlen in der Liste = {standardabweichung}\")"
   ]
  }
 ],
 "metadata": {
  "kernelspec": {
   "display_name": "Python 3",
   "language": "python",
   "name": "python3"
  },
  "language_info": {
   "codemirror_mode": {
    "name": "ipython",
    "version": 3
   },
   "file_extension": ".py",
   "mimetype": "text/x-python",
   "name": "python",
   "nbconvert_exporter": "python",
   "pygments_lexer": "ipython3",
   "version": "3.12.1"
  }
 },
 "nbformat": 4,
 "nbformat_minor": 2
}
