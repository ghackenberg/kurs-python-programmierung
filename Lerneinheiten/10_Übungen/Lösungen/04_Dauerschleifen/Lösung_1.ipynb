{
 "cells": [
  {
   "cell_type": "markdown",
   "metadata": {},
   "source": [
    "# Übungen"
   ]
  },
  {
   "cell_type": "markdown",
   "metadata": {},
   "source": [
    "## Übung 1: Fakultätsfunktion `n!`\n",
    "\n",
    "Berechnung der Fakultätsfunktion mit Hilfe einer `while` Schleife. Als Vorlage kann die Implementierung der Exponentialfunktion dienen (siehe oben). Die Anzahl der Schleifendurchläufe müssen wieder geeignet eingeschränkt werden."
   ]
  },
  {
   "cell_type": "code",
   "execution_count": null,
   "metadata": {},
   "outputs": [],
   "source": [
    "# TODO\n",
    "n = int(input(\"Geben Sie bitte eine ganze Zahl ein: \"))\n",
    "\n",
    "def Fakultät(n):\n",
    "    x = 1\n",
    "    s = 1\n",
    "    if n==0:\n",
    "         s = 1\n",
    "    else:\n",
    "        while (x < n):\n",
    "         x = x + 1\n",
    "         s = s * x\n",
    "\n",
    "    return(s)\n",
    "\n",
    "print (Fakultät(n))"
   ]
  },
  {
   "cell_type": "markdown",
   "metadata": {},
   "source": [
    "## Übung 2: Erweiterte \"robuste\" Zahleneingabe\n",
    "\n",
    "Robuste Zahleneingabe, die nach einer maximalen Anzahl an Fehlschlägen und Wiederholungen mit einer Fehlermeldung abbricht."
   ]
  },
  {
   "cell_type": "code",
   "execution_count": null,
   "metadata": {},
   "outputs": [],
   "source": [
    "# TODO\n",
    "zahl = None\n",
    "Versuche = 4\n",
    "n = 0\n",
    "while True:\n",
    "    try:\n",
    "        string = input(\"Bitte eine Zahl eingeben:\")\n",
    "        zahl = int(string)\n",
    "        print(f\"Danke! {string}\")\n",
    "        break\n",
    "    except:\n",
    "        print(f\"Versuch{n+1}: \"  f\"das ist keine Zahl: {string}\")\n",
    "        n = n + 1\n",
    "        if Versuche == n:\n",
    "            print (\"keine Versuche mehr! ABBRUCH\")\n",
    "            break\n",
    "        continue"
   ]
  },
  {
   "cell_type": "markdown",
   "metadata": {},
   "source": [
    "## Übung 3: Taschenrechner\n",
    "\n",
    "Robuste Abfrage zweier Gleitkommazahlen und eines Operators (+, -, *, /). Durchführung der Berechnung und Ausgabe des Berechnungsergebnisses.\n",
    "\n",
    "*Tip: Schleife und Try-Except für robuste Zahleneingabe. Schleife und Match-Case für robuste Operatoreingabe. Match-Case für Berechnung. Print für Ausgabe des Ergebnisses.*"
   ]
  },
  {
   "cell_type": "code",
   "execution_count": 3,
   "metadata": {},
   "outputs": [
    {
     "name": "stdout",
     "output_type": "stream",
     "text": [
      "das ist keine Zahl\n",
      "das ist keine Zahl\n",
      "das ist keine Zahl\n",
      "das ist keine Zahl\n",
      "das ist keine Zahl\n",
      "Ergebnis der Multplikation ist: 72.0\n"
     ]
    }
   ],
   "source": [
    "def ZahlEinlesen(Nummer):\n",
    "    while True:\n",
    "        try:\n",
    "            return float(input(f\"Bitte die {Nummer}. Zahl eingeben:\"))\n",
    "        except:\n",
    "            print(f\"das ist keine Zahl\")\n",
    "\n",
    "zahl1 = ZahlEinlesen(1)\n",
    "zahl2 = ZahlEinlesen(2)\n",
    "\n",
    "while True:\n",
    "    Operation = input(\"+ , - , * , / \")\n",
    "\n",
    "    match Operation:\n",
    "        case '+':\n",
    "            print(f\"Ergebnis der Addition ist: {zahl1 + zahl2}\")\n",
    "            break\n",
    "        \n",
    "        case '-':\n",
    "            print(f\"Ergebnis der Subtraktion ist: {zahl1 - zahl2}\")\n",
    "            break\n",
    "            \n",
    "        case '*':\n",
    "            print(f\"Ergebnis der Multplikation ist: {zahl1 * zahl2}\")\n",
    "            break\n",
    "            \n",
    "        case '/':\n",
    "            if zahl2 == 0:\n",
    "                print(\"Fehler!\")\n",
    "            else:\n",
    "                print(f\"Ergebnis der Division ist: {zahl1 / zahl2}\")\n",
    "                break\n",
    "            \n",
    "        case other:\n",
    "            print(\"nicht möglich\")\n",
    "\n",
    "\n"
   ]
  },
  {
   "cell_type": "markdown",
   "metadata": {},
   "source": [
    "## Übung 4: **Summe der Zahlen einer Liste** mittels `while`-Schleife\n",
    "\n",
    "Gegeben sei eine Liste von Zahlen. Schreiben Sie ein Programm, dass die Summer der Zahlen in der Liste berechnet und ausgibt."
   ]
  },
  {
   "cell_type": "code",
   "execution_count": null,
   "metadata": {},
   "outputs": [
    {
     "name": "stdout",
     "output_type": "stream",
     "text": [
      "Endergebnis = 0\n"
     ]
    }
   ],
   "source": [
    "a = [] #[5, 7, 1, 8, 3, 0]\n",
    "\n",
    "aktueller_Wert = 0 #a[0]\n",
    "index = 0 #1\n",
    "\n",
    "\n",
    "while index < len(a):\n",
    "    \n",
    "    print(f\"Zwischensumme = {aktueller_Wert}\")\n",
    "    print(f\"\\tIndex = {index}, Nächster Wert = {a[index]}\")\n",
    "\n",
    "    aktueller_Wert = aktueller_Wert + a[index]\n",
    "    index = index + 1\n",
    "\n",
    "\n",
    "print(f\"Endergebnis = {aktueller_Wert}\")\n",
    "\n"
   ]
  },
  {
   "cell_type": "markdown",
   "metadata": {},
   "source": [
    "## Übung 5: **Mittelwert der Zahlen einer Liste** mittels `while`-Schleife\n",
    "\n",
    "Gegeben sei eine Liste von Zahlen. Schreiben Sie ein Programm, dass den Mittelwert der Zahlen in der Liste berechnet und ausgibt."
   ]
  },
  {
   "cell_type": "code",
   "execution_count": null,
   "metadata": {},
   "outputs": [
    {
     "name": "stdout",
     "output_type": "stream",
     "text": [
      "Zwischensumme = 0\n",
      "\tIndex = 0, Nächster Wert = 5\n",
      "Zwischensumme = 0.8333333333333334\n",
      "\tIndex = 1, Nächster Wert = 7\n",
      "Zwischensumme = 2.0\n",
      "\tIndex = 2, Nächster Wert = 1\n",
      "Zwischensumme = 2.1666666666666665\n",
      "\tIndex = 3, Nächster Wert = 8\n",
      "Zwischensumme = 3.5\n",
      "\tIndex = 4, Nächster Wert = 3\n",
      "Zwischensumme = 4.0\n",
      "\tIndex = 5, Nächster Wert = 10\n",
      "Mittelwert = 5.666666666666667\n"
     ]
    }
   ],
   "source": [
    "# TODO\n",
    "\n",
    "a = [5, 7, 1, 8, 3, 10]\n",
    "\n",
    "aktueller_Wert = 0 #a[0]\n",
    "index = 0 #1\n",
    "\n",
    "\n",
    "while index < len(a):\n",
    "    \n",
    "    print(f\"Zwischensumme = {aktueller_Wert}\")\n",
    "    print(f\"\\tIndex = {index}, Nächster Wert = {a[index]}\")\n",
    "\n",
    "    aktueller_Wert = aktueller_Wert + (a[index] / len(a))\n",
    "    index = index + 1\n",
    "\n",
    "\n",
    "print(f\"Mittelwert = {aktueller_Wert}\")\n",
    "#print(f\"Anzahl der Zahlen in der Lister = {len(a)}\")\n",
    "\n",
    "#Mittelwert = aktueller_Wert# / len(a)\n",
    "#print(f\"Mittelwertberechnung = {aktueller_Wert} durch {len(a)}\")\n",
    "#print(f\"Mittelwert = {Mittelwert}\")"
   ]
  },
  {
   "cell_type": "markdown",
   "metadata": {},
   "source": [
    "## Übung 6: **Standardabweichung der Zahlen einer Liste** mittels `while`-Schleife\n",
    "\n",
    "Gegeben sei eine Liste von Zahlen. Schreiben Sie ein Programm, dass die Standardabweichung der Zahlen in der Liste berechnet und ausgibt.\n",
    "\n",
    "*Tip: Zur Berechnung der Standardabweichung müssen Sie auch den Mittelwert berechnen.*"
   ]
  },
  {
   "cell_type": "code",
   "execution_count": null,
   "metadata": {},
   "outputs": [],
   "source": [
    "a = [1, 3, 5, 9, 12]"
   ]
  },
  {
   "cell_type": "code",
   "execution_count": null,
   "metadata": {},
   "outputs": [
    {
     "name": "stdout",
     "output_type": "stream",
     "text": [
      "Zwischensumme = 0\n",
      "\tIndex = 0, Nächster Wert = 1.0\n",
      "Zwischensumme = 1.0\n",
      "\tIndex = 1, Nächster Wert = 3\n",
      "Zwischensumme = 4.0\n",
      "\tIndex = 2, Nächster Wert = 5\n",
      "Zwischensumme = 9.0\n",
      "\tIndex = 3, Nächster Wert = 9\n",
      "Zwischensumme = 18.0\n",
      "\tIndex = 4, Nächster Wert = 12\n",
      "Summen = 30.0\n",
      "Anzahl der Zahlen in der Lister = 5\n",
      "Mittelwertberechnung = 30.0 durch 5\n",
      "Mittelwert = 6.0\n",
      "zwischenergebnis: 34.0\n",
      "zwischenergebnis: 35.0\n",
      "zwischenergebnis: 44.0\n",
      "zwischenergebnis: 80.0\n",
      "Zwischenergebnis Varianzen = 80.0\n",
      "Varianz = 16.0\n",
      "Standardabweichung = 4.0\n"
     ]
    }
   ],
   "source": [
    "# LANGFORM\n",
    "\n",
    "# Funktioniert nur, wenn die Liste mindestens einen Eintrag hat!\n",
    "\n",
    "# Schritt 1: Mittelwert berechnen (nach bekanntem Verfahren)\n",
    "\n",
    "aktueller_Wert = 0 #a[0]\n",
    "index = 0 #1\n",
    "\n",
    "while index < len(a):\n",
    "    \n",
    "    print(f\"Zwischensumme = {aktueller_Wert}\")\n",
    "    print(f\"\\tIndex = {index}, Nächster Wert = {a[index]}\")\n",
    "\n",
    "    aktueller_Wert = aktueller_Wert + a[index]\n",
    "    index = index + 1\n",
    "\n",
    "\n",
    "print(f\"Summen = {aktueller_Wert}\")\n",
    "print(f\"Anzahl der Zahlen in der Lister = {len(a)}\")\n",
    "\n",
    "Mittelwert = aktueller_Wert / len(a)\n",
    "print(f\"Mittelwertberechnung = {aktueller_Wert} durch {len(a)}\")\n",
    "print(f\"Mittelwert = {Mittelwert}\")\n",
    "\n",
    "# Schritt 2: Varianz berechnen (nutzt den Mittelwert)\n",
    "\n",
    "varianz_Summe = 0 #(a[0] - Mittelwert) ** 2\n",
    "index2 = 0 #1\n",
    "\n",
    "while index2 < len(a):\n",
    "    \n",
    "    varianz_Summe = varianz_Summe + (( a[index2]) - Mittelwert) ** 2\n",
    "    print (f\"zwischenergebnis: {varianz_Summe}\")\n",
    "    index2 = index2 + 1\n",
    "\n",
    "print(f\"Zwischenergebnis Varianzen = {varianz_Summe}\")\n",
    "Varianz = varianz_Summe / len(a)\n",
    "print(f\"Varianz = {Varianz}\")\n",
    "\n",
    "# Schritt 3: Standardabweichung berechnen\n",
    "\n",
    "Standardabweichung = Varianz ** 0.5\n",
    "print(f\"Standardabweichung = {Standardabweichung}\")\n"
   ]
  },
  {
   "cell_type": "code",
   "execution_count": null,
   "metadata": {},
   "outputs": [
    {
     "name": "stdout",
     "output_type": "stream",
     "text": [
      "Varianz of the given list: 16.0\n",
      "Standard deviation of the given list: 4.0\n"
     ]
    }
   ],
   "source": [
    "# KURZFORM!\n",
    "\n",
    "import math\n",
    "\n",
    "# copy and paste:\n",
    "mean = sum(a) / len(a)\n",
    "var = sum((l - mean) ** 2 for l in a) / len(a)\n",
    "st = math.sqrt(var)\n",
    "\n",
    "print(f\"Varianz of the given list: {var}\")\n",
    "print(f\"Standard deviation of the given list: {st}\")"
   ]
  },
  {
   "cell_type": "markdown",
   "metadata": {},
   "source": [
    "## Übung 7: **Median der Zahlen einer Liste** mittels `while`-Schleife berechnen\n",
    "\n",
    "Gegeben sei eine Liste von Zahlen. Schreiben Sie ein Programm, dass den Median der Zahlen in der Liste berechnet und ausgibt.\n",
    "\n",
    "*Tip: Für die Berechnung des Medians bietet es sich an, die Liste zunächst zu sortieren.*"
   ]
  },
  {
   "cell_type": "code",
   "execution_count": null,
   "metadata": {},
   "outputs": [
    {
     "name": "stdout",
     "output_type": "stream",
     "text": [
      "Endergebnis = [0, 2, 4, 5, 6, 7, 9]\n",
      "b = 1\n",
      "c = 3\n",
      "Median = 5\n"
     ]
    }
   ],
   "source": [
    "a = [4, 6, 2, 7, 0, 9, 5]\n",
    "\n",
    "# Schritt 1: Liste sortieren\n",
    "\n",
    "letzter_index = len(a) - 1\n",
    "\n",
    "while letzter_index > 0:\n",
    "\n",
    "    # Liste ausgeben\n",
    "\n",
    "\n",
    "\n",
    "    # Den letzten Wert zwischenspeichern\n",
    "\n",
    "    letzter_wert = a[letzter_index]\n",
    "\n",
    "    # Den größten Wert und seine Position suchen\n",
    "\n",
    "    maximum_index = 0\n",
    "    maximum_wert = a[0]\n",
    "\n",
    "    aktueller_index = 1\n",
    "\n",
    "    while aktueller_index <= letzter_index:\n",
    "\n",
    "        if a[aktueller_index] > maximum_wert:\n",
    "\n",
    "            maximum_index = aktueller_index\n",
    "            maximum_wert = a[maximum_index]\n",
    "\n",
    "        aktueller_index = aktueller_index + 1\n",
    "\n",
    "    # Den größten Wert ans Ende der Liste stellen\n",
    "\n",
    "    a[letzter_index] = maximum_wert\n",
    "    a[maximum_index] = letzter_wert\n",
    "\n",
    "    # Liste ausgeben\n",
    "\n",
    "  \n",
    "    # Den letzten Index aktualisieren\n",
    "\n",
    "    letzter_index = letzter_index - 1\n",
    "\n",
    "print(f\"Endergebnis = {a}\")\n",
    "\n",
    "# Schritt 2: Median auslesen\n",
    "\n",
    "index = 0\n",
    "\n",
    "b = len(a)%2 # Listenlänge gerade oder ungerade?\n",
    "print(f\"b = {b}\")\n",
    "\n",
    "if b < 1:\n",
    "    # Fall 1: Listenlänge gerade!\n",
    "\n",
    "    c = len(a)//2\n",
    "    print(f\"c = {c}\")\n",
    "    Median = (a[c]+a[c-1])/2\n",
    "    print(f\"Median = {Median}\")\n",
    "    print(f\"Für den Median musste ein Mittelwert berechnet werden\")\n",
    "else:\n",
    "    # Fall 2: Listenlänge ungerade!\n",
    "\n",
    "    c = len(a)//2\n",
    "    print(f\"c = {c}\")\n",
    "    Median = a[c]\n",
    "    print(f\"Median = {Median}\")"
   ]
  }
 ],
 "metadata": {
  "kernelspec": {
   "display_name": "Python 3",
   "language": "python",
   "name": "python3"
  },
  "language_info": {
   "codemirror_mode": {
    "name": "ipython",
    "version": 3
   },
   "file_extension": ".py",
   "mimetype": "text/x-python",
   "name": "python",
   "nbconvert_exporter": "python",
   "pygments_lexer": "ipython3",
   "version": "3.12.1"
  }
 },
 "nbformat": 4,
 "nbformat_minor": 2
}
