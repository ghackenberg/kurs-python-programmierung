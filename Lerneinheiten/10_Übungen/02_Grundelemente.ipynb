{
 "cells": [
  {
   "cell_type": "markdown",
   "metadata": {},
   "source": [
    "# Übungen zu Grundelementen\n",
    "\n",
    "## Übung 1: Ergebnis eines Ausdrucks mit Literalen und Operatoren bestimmen\n",
    "\n",
    "`True or (True and False)`\n",
    "\n",
    "`1 + (7 // 5)`\n",
    "\n",
    "`1 + (7 % 5)`\n",
    "\n",
    "`\"a\"[0] + \"b\"[0]`\n",
    "\n",
    "`range(5, 7, 2)[1:2:1]`\n",
    "\n",
    "...\n",
    "\n",
    "## Übung 2: Ergebnis eines Ausdrucks mit Literalen, Operatoren und eingebauten Funktionen bestimmen\n",
    "\n",
    "`type(\"a\"[0] + str(5))`\n",
    "\n",
    "`float(\"1.7\") + int(\"1\")`\n",
    "\n",
    "`str(range(5, 10, 2)[3]) + \"a\"`\n",
    "\n",
    "...\n",
    "\n",
    "## Übung 3: Ergebnis eines Ausdrucks mit Literalen, Operatoren, eingebauten Funktionen und Methoden bestimmen\n",
    "\n",
    "`a = [5, 3, 7]; a.append(\"a\"); print(len(a))`\n",
    "\n",
    "..."
   ]
  }
 ],
 "metadata": {
  "language_info": {
   "name": "python"
  }
 },
 "nbformat": 4,
 "nbformat_minor": 2
}
