{
 "cells": [
  {
   "cell_type": "markdown",
   "metadata": {},
   "source": [
    "# Übungen zu Verzweigungen\n",
    "\n",
    "## Übung 1: `if-elif-else` in `match-case` übersetzen\n",
    "\n",
    "...\n",
    "\n",
    "## Übung 2: `match-case` in `if-elif-else` übersetzen\n",
    "\n",
    "...\n",
    "\n",
    "## Übung 3: Gegebene Verzeigungslogik (prosa) mit `if-elif-else` umsetzen\n",
    "\n",
    "...\n",
    "\n",
    "## Übung 4: Gegebene Verzeigungslogik (prosa) mit `match-case` umsetzen\n",
    "\n",
    "..."
   ]
  }
 ],
 "metadata": {
  "language_info": {
   "name": "python"
  }
 },
 "nbformat": 4,
 "nbformat_minor": 2
}
