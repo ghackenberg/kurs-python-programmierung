{
 "cells": [
  {
   "cell_type": "markdown",
   "metadata": {},
   "source": [
    "# Übungen zu Rekursionen"
   ]
  },
  {
   "cell_type": "markdown",
   "metadata": {},
   "source": [
    "## Übung 1: **Fibonacci-Funktion** mittel Rekursion\n",
    "\n",
    "Schreiben Sie eine rekursive Funktion, welche die n-te Zahl der Fibonacci-Folge (siehe https://de.wikipedia.org/wiki/Fibonacci-Folge) berechnet und zurückgibt."
   ]
  },
  {
   "cell_type": "code",
   "execution_count": null,
   "metadata": {},
   "outputs": [],
   "source": [
    "# TODO"
   ]
  },
  {
   "cell_type": "markdown",
   "metadata": {},
   "source": [
    "## Übung 2: **Binärsuche** mittels Rekursion\n",
    "\n",
    "Schreiben Sie den Algorithmus für die Binärsuche als rekursive Funktion um."
   ]
  },
  {
   "cell_type": "code",
   "execution_count": null,
   "metadata": {},
   "outputs": [],
   "source": [
    "# TODO"
   ]
  },
  {
   "cell_type": "markdown",
   "metadata": {},
   "source": [
    "## Übung 3: **Maximum** mittels Rekursion\n",
    "\n",
    "Schreiben Sie eine rekursive Funktion, die das Maximum in einer Liste von Zahlen findet und zurückgibt."
   ]
  },
  {
   "cell_type": "code",
   "execution_count": null,
   "metadata": {},
   "outputs": [],
   "source": [
    "# TODO"
   ]
  },
  {
   "cell_type": "markdown",
   "metadata": {},
   "source": [
    "## Übung 4: **Mittelwert** mittels Rekursion\n",
    "\n",
    "Schreiben Sie eine rekursive Funtion, die den Mittelwert einer Liste von Zahlen berechnet und zurückgibt."
   ]
  },
  {
   "cell_type": "code",
   "execution_count": null,
   "metadata": {},
   "outputs": [],
   "source": [
    "# TODO"
   ]
  },
  {
   "cell_type": "markdown",
   "metadata": {},
   "source": [
    "## Übung 5: **Standardabweichung** mittels Rekursion\n",
    "\n",
    "Schreiben Sie eine rekursive Funktion, die die Standardabweichung einer Liste von Zahlen berechnet und zurückgibt."
   ]
  },
  {
   "cell_type": "code",
   "execution_count": null,
   "metadata": {},
   "outputs": [],
   "source": [
    "# TODO"
   ]
  },
  {
   "cell_type": "markdown",
   "metadata": {},
   "source": [
    "## Übung 6: **Robuste Zahleneingabe** mittels Rekursion\n",
    "\n",
    "Schreiben Sie eine rekursive Funktion, welche eine robuste Zahleneingabe mit wiederholter Abfrage bei Fehleingabe realisiert."
   ]
  },
  {
   "cell_type": "code",
   "execution_count": null,
   "metadata": {},
   "outputs": [],
   "source": [
    "# TODO"
   ]
  }
 ],
 "metadata": {
  "kernelspec": {
   "display_name": "Python 3",
   "language": "python",
   "name": "python3"
  },
  "language_info": {
   "codemirror_mode": {
    "name": "ipython",
    "version": 3
   },
   "file_extension": ".py",
   "mimetype": "text/x-python",
   "name": "python",
   "nbconvert_exporter": "python",
   "pygments_lexer": "ipython3",
   "version": "3.12.2"
  }
 },
 "nbformat": 4,
 "nbformat_minor": 2
}
