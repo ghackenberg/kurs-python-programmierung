{
 "cells": [
  {
   "cell_type": "markdown",
   "metadata": {},
   "source": [
    "# Rekursive Funktionen\n",
    "\n",
    "Rekursive Funktionen sind Funktionen, die sich selber aufrufen. Es muss eine Abbruchbedingung für die rekursiven Aufrufe geben, sonst entsteht quasi eine Endlosschleife von rekursiven Funktionsaufrufen.\n",
    "\n",
    "Die Funktionsweise einer rekursiven Funktion kann als Rekursionsbaum dargestellt werden. Die Wurzel des Rekursionsbaums ist der erste Aufruf der rekursiven Funktion. Die Blattknoten des Rekursionsbaums sind die Aufrufe der rekursiven Funktion, die zu keinen weiteren Aufrufen führen.\n",
    "\n",
    "![](Zeichnungen/Rekursionsbaum.jpg)\n",
    "\n",
    "Im Folgenden betrachten wir vier konkrete Funktionen und deren rekursive Implementierung. Beachte, dass diese Funktionen auch problemlos mittels Dauer- oder Aufzählschleifen implementiert werden können.\n",
    "\n",
    "* Exponentialfunktion\n",
    "* Fakultätsfunktion\n",
    "* Minimumsfunktion\n",
    "* Summenfunktion\n",
    "\n",
    "Nun diskutieren wir die Implementierung der vier Funktionen im Detail."
   ]
  },
  {
   "cell_type": "markdown",
   "metadata": {},
   "source": [
    "## 1. Exponentialfunktion\n",
    "\n",
    "Mathematische Definition der Exponentialfunktion\n",
    "\n",
    "![](Zeichnungen/Exponentialfunktion.jpg)"
   ]
  },
  {
   "cell_type": "code",
   "execution_count": 71,
   "metadata": {},
   "outputs": [
    {
     "name": "stdout",
     "output_type": "stream",
     "text": [
      "exponentialFunktion(5, 2) = ?\n",
      "exponentialFunktion(5, 1) = ?\n",
      "exponentialFunktion(5, 0) = ?\n",
      "exponentialFunktion(5, 0) = 1\n",
      "exponentialFunktion(5, 1) = 5 * exponentialFunktion(5, 0) = 5 * 1 = 5\n",
      "exponentialFunktion(5, 2) = 5 * exponentialFunktion(5, 1) = 5 * 5 = 25\n"
     ]
    },
    {
     "data": {
      "text/plain": [
       "25"
      ]
     },
     "execution_count": 71,
     "metadata": {},
     "output_type": "execute_result"
    }
   ],
   "source": [
    "def exponetialFunktion(basis: float, exponent: int) -> float:\n",
    "    print(f\"exponentialFunktion({basis}, {exponent}) = ?\")\n",
    "    if exponent == 0:\n",
    "        print(f\"exponentialFunktion({basis}, {exponent}) = 1\")\n",
    "        return 1\n",
    "    else:\n",
    "        zwischenergebnis = exponetialFunktion(basis, exponent - 1)\n",
    "        print(f\"exponentialFunktion({basis}, {exponent}) = {basis} * exponentialFunktion({basis}, {exponent - 1}) = {basis} * {zwischenergebnis} = {basis * zwischenergebnis}\")\n",
    "        return basis * zwischenergebnis\n",
    "\n",
    "exponetialFunktion(5, 2)"
   ]
  },
  {
   "cell_type": "markdown",
   "metadata": {},
   "source": [
    "Visualisierung des Rekursionsbaums für die Exponentialfunktion\n",
    "\n",
    "![](Zeichnungen/Exponenzialfunktion_Rekursionsbaum.jpg)"
   ]
  },
  {
   "cell_type": "markdown",
   "metadata": {},
   "source": [
    "## 2. Fakultätsfunktion\n",
    "\n",
    "Mathematische Definition der Fakultätsfunktion\n",
    "\n",
    "![](Zeichnungen/Fakultätsfunktion.jpg)"
   ]
  },
  {
   "cell_type": "code",
   "execution_count": 72,
   "metadata": {},
   "outputs": [
    {
     "name": "stdout",
     "output_type": "stream",
     "text": [
      "fakultätsFunktion(0) = 1\n",
      "fakultätsFunktion(1) = 1 * fakultätsFunktion(0) = 1 * 1 = 1\n",
      "fakultätsFunktion(2) = 2 * fakultätsFunktion(1) = 2 * 1 = 2\n",
      "fakultätsFunktion(3) = 3 * fakultätsFunktion(2) = 3 * 2 = 6\n",
      "fakultätsFunktion(4) = 4 * fakultätsFunktion(3) = 4 * 6 = 24\n",
      "fakultätsFunktion(5) = 5 * fakultätsFunktion(4) = 5 * 24 = 120\n"
     ]
    },
    {
     "data": {
      "text/plain": [
       "120"
      ]
     },
     "execution_count": 72,
     "metadata": {},
     "output_type": "execute_result"
    }
   ],
   "source": [
    "def fakultätsFunktion(n: int):\n",
    "    if n == 0:\n",
    "        print(f\"fakultätsFunktion({n}) = 1\")\n",
    "        return 1\n",
    "    else:\n",
    "        zwischenergebnis = fakultätsFunktion(n - 1)\n",
    "        print(f\"fakultätsFunktion({n}) = {n} * fakultätsFunktion({n - 1}) = {n} * {zwischenergebnis} = {n * zwischenergebnis}\")\n",
    "        return n * zwischenergebnis\n",
    "\n",
    "fakultätsFunktion(5)"
   ]
  },
  {
   "cell_type": "markdown",
   "metadata": {},
   "source": [
    "## 3. Minimumsfunktion"
   ]
  },
  {
   "cell_type": "code",
   "execution_count": null,
   "metadata": {},
   "outputs": [],
   "source": [
    "def minimumRekursiv(liste, index, ergebnis):\n",
    "    if index < len(liste):\n",
    "        if liste[index] < ergebnis:\n",
    "            return minimumRekursiv(liste, index + 1, liste[index])\n",
    "        else:\n",
    "            return minimumRekursiv(liste, index + 1, ergebnis)\n",
    "    else:\n",
    "        return ergebnis\n",
    "\n",
    "def minimum(liste):\n",
    "    return minimumRekursiv(liste, 0, liste[0])\n",
    "\n",
    "minimum([-1, 3, -5])"
   ]
  },
  {
   "cell_type": "markdown",
   "metadata": {},
   "source": [
    "![](Zeichnungen/Minimum_Rekursionskette.jpg)"
   ]
  },
  {
   "cell_type": "markdown",
   "metadata": {},
   "source": [
    "## 4. Summenfunktion"
   ]
  },
  {
   "cell_type": "markdown",
   "metadata": {},
   "source": [
    "### 4.1. Variante 1"
   ]
  },
  {
   "cell_type": "code",
   "execution_count": null,
   "metadata": {},
   "outputs": [],
   "source": [
    "def summeRekursiv1(liste, index = 0, ergebnis = 0):\n",
    "    if index < len(liste):\n",
    "        return summeRekursiv1(liste, index + 1, ergebnis + liste[index])\n",
    "    else:\n",
    "        return ergebnis\n",
    "\n",
    "summeRekursiv1([1, 2, 3])"
   ]
  },
  {
   "cell_type": "markdown",
   "metadata": {},
   "source": [
    "### 4.1. Variante 2"
   ]
  },
  {
   "cell_type": "code",
   "execution_count": null,
   "metadata": {},
   "outputs": [],
   "source": [
    "# Elegantere Variante\n",
    "\n",
    "def summeRekursiv2(liste, index = 0):\n",
    "    if index < len(liste):\n",
    "        return liste[index] + summeRekursiv2(liste, index + 1)\n",
    "    else:\n",
    "        return 0\n",
    "\n",
    "summeRekursiv2([1, 2, 3])"
   ]
  }
 ],
 "metadata": {
  "kernelspec": {
   "display_name": "Python 3",
   "language": "python",
   "name": "python3"
  },
  "language_info": {
   "codemirror_mode": {
    "name": "ipython",
    "version": 3
   },
   "file_extension": ".py",
   "mimetype": "text/x-python",
   "name": "python",
   "nbconvert_exporter": "python",
   "pygments_lexer": "ipython3",
   "version": "3.12.1"
  }
 },
 "nbformat": 4,
 "nbformat_minor": 2
}
