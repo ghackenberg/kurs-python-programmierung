{
 "cells": [
  {
   "cell_type": "markdown",
   "metadata": {},
   "source": [
    "# \"Schnelle\" Sortierung (Quicksort)\n",
    "\n",
    "Quicksort ist ein schneller Algorithmus für die Sortierung von Werten (siehe https://de.wikipedia.org/wiki/Quicksort). Die Grundidee ist, die Liste anhand eines Pivotelements in zwei Teile zu teilen. Der eine Teil enthält alle Element, die kleiner oder gleich dem Pivotelement sind. Der zweite Teil enthält alle Element, die größer dem Pivotelement sind. Danach kann das Verfahren rekursiv auf die beiden Teile angewendet werden. Dadurch kann man sich den Vergleich der Element aus dem einen Teil mit Elementen aus dem anderen Teil sparen.\n",
    "\n",
    "![](Zeichnungen/Komplexitätsrechnung.jpg)"
   ]
  },
  {
   "cell_type": "markdown",
   "metadata": {},
   "source": [
    "## 1. Die Funktion `teile`\n",
    "\n",
    "Pivotelement bestimmen und alle Zahlen kleiner des Pivotelements nach links stellen sowie alle Zahlen größer des Pivotelements nach rechts stellen. Das Pivotelement selber steht nach dieser Operation genau an der richtigen Stelle. Die linke und rechte Seite können außerdem getrennt von einander sortiert werden."
   ]
  },
  {
   "cell_type": "code",
   "execution_count": null,
   "metadata": {},
   "outputs": [],
   "source": [
    "def teile(daten: list[int], links: int, rechts: int):\n",
    "\n",
    "    # Pivot Element festlegen\n",
    "    pivot = daten[rechts]\n",
    "    \n",
    "    # Debug\n",
    "    print(f\"Teile daten = {daten}, links = {links}, rechts = {rechts}, pivot = {pivot}\")\n",
    "\n",
    "    # Variablen für die Iteration festlergen\n",
    "    i = links\n",
    "    j = rechts - 1\n",
    "\n",
    "    # Iteration durchführen\n",
    "    while i < j:\n",
    "\n",
    "        # Suche von links größeren Wert\n",
    "        while i < j and daten[i] <= pivot:\n",
    "\n",
    "            # Debug\n",
    "            print(f\"- daten[{i}] = {daten[i]} <= {pivot}\")\n",
    "\n",
    "            i = i + 1\n",
    "\n",
    "        # Suche von rechts kleineren Wert\n",
    "        while j > i and daten[j] > pivot:\n",
    "\n",
    "            # Debug\n",
    "            print(f\"- daten[{j}] = {daten[j]} > {pivot}\")\n",
    "\n",
    "            j = j - 1\n",
    "\n",
    "        # Tausche größeren und kleineren Wert\n",
    "        if daten[i] > daten[j]:\n",
    "\n",
    "            temp = daten[i]\n",
    "            daten[i] = daten[j]\n",
    "            daten[j] = temp\n",
    "\n",
    "            # Debug\n",
    "            print(f\"- daten[{i}] = {daten[j]} > daten[{j}] = {daten[i]} => daten = {daten}\")\n",
    "    \n",
    "    # Tausche größeren Wert und Pivot\n",
    "    if daten[i] > pivot:\n",
    "\n",
    "        temp = daten[i]\n",
    "        daten[i] = pivot\n",
    "        daten[rechts] = temp\n",
    "\n",
    "        # Debug\n",
    "        print(f\"- daten[{i}] = {daten[rechts]} > daten[{rechts}] = {daten[i]} => daten = {daten}\")\n",
    "\n",
    "    else:\n",
    "\n",
    "        i = rechts\n",
    "    \n",
    "    # Debug\n",
    "    print()\n",
    "    \n",
    "    return i"
   ]
  },
  {
   "cell_type": "markdown",
   "metadata": {},
   "source": [
    "### Beispiel\n",
    "\n",
    "Anwendung der Funktion `teile` auf die Liste `[5, 3, 0, 1, 2]`.\n",
    "\n",
    "![](Zeichnungen/Quicksort%20Nebenfunktion.jpg)\n",
    "\n",
    "Und nun in Python-Quelltext:"
   ]
  },
  {
   "cell_type": "markdown",
   "metadata": {},
   "source": [
    "#### Schritt 1:"
   ]
  },
  {
   "cell_type": "code",
   "execution_count": null,
   "metadata": {},
   "outputs": [
    {
     "name": "stdout",
     "output_type": "stream",
     "text": [
      "Teile daten = [5, 3, 0, 1, 2], links = 0, rechts = 4, pivot = 2\n",
      "- daten[0] = 5 > daten[3] = 1 => daten = [1, 3, 0, 5, 2]\n",
      "- daten[0] = 1 <= 2\n",
      "- daten[3] = 5 > 2\n",
      "- daten[1] = 3 > daten[2] = 0 => daten = [1, 0, 3, 5, 2]\n",
      "- daten[1] = 0 <= 2\n",
      "- daten[2] = 3 > daten[4] = 2 => daten = [1, 0, 2, 5, 3]\n",
      "\n",
      "2\n"
     ]
    }
   ],
   "source": [
    "# Schritt 1: Gesamte Liste mit der Zahl 2 in zwei Häflten teilen / umsortieren\n",
    "print(teile([5, 3, 0, 1, 2], 0, 4))"
   ]
  },
  {
   "cell_type": "markdown",
   "metadata": {},
   "source": [
    "#### Schritt 2:"
   ]
  },
  {
   "cell_type": "code",
   "execution_count": null,
   "metadata": {},
   "outputs": [
    {
     "name": "stdout",
     "output_type": "stream",
     "text": [
      "Teile daten = [1, 0, 2, 5, 3], links = 0, rechts = 1, pivot = 0\n",
      "- daten[0] = 1 > daten[1] = 0 => daten = [0, 1, 2, 5, 3]\n",
      "\n",
      "0\n"
     ]
    }
   ],
   "source": [
    "# Schritt 2: Unter Häflte der Liste mit der Zahl 1 in zwei Hälften teilen / umsortieren\n",
    "print(teile([1, 0, 2, 5, 3], 0, 1))"
   ]
  },
  {
   "cell_type": "markdown",
   "metadata": {},
   "source": [
    "#### Schritt 3:"
   ]
  },
  {
   "cell_type": "code",
   "execution_count": null,
   "metadata": {},
   "outputs": [
    {
     "name": "stdout",
     "output_type": "stream",
     "text": [
      "Teile daten = [0, 1, 2, 5, 3], links = 3, rechts = 4, pivot = 3\n",
      "- daten[3] = 5 > daten[4] = 3 => daten = [0, 1, 2, 3, 5]\n",
      "\n",
      "3\n"
     ]
    }
   ],
   "source": [
    "# Schritt 3: Obere Hälfte der Liste mit der Zahl 3 in zwei Hälften teilen / umsortieren\n",
    "print(teile([0, 1, 2, 5, 3], 3, 4))"
   ]
  },
  {
   "cell_type": "markdown",
   "metadata": {},
   "source": [
    "## 2. Die rekursive Funktion `quicksort`\n",
    "\n",
    "Nutzung der Funktion `teile`, um den Listenbereich mittels Pivotelement zu sortieren. Danach Anwendung der Funktion `quicksort` rekursiv auf den linken und den rechten Listenbereich.\n",
    "\n",
    "**Einfache Darstellung des Rekursionsbaums**\n",
    "\n",
    "![](Zeichnungen/Quicksort_Rekursionsbaum_einfach.jpg)\n",
    "\n",
    "**Erweiterte Darstellung des Rekursionsbaums (mit Zeitachse)**\n",
    "\n",
    "![](Zeichnungen/Quicksort_Rekursionsbaum_erweitert.jpg)\n",
    "\n",
    "Und nun in Python-Quelltext:"
   ]
  },
  {
   "cell_type": "code",
   "execution_count": null,
   "metadata": {},
   "outputs": [],
   "source": [
    "def quicksort(daten: list[int], links: int = None, rechts: int = None):\n",
    "\n",
    "    # Parameter \"links\" und \"rechts\" initialisieren\n",
    "    if links is None:\n",
    "        links = 0\n",
    "    if rechts is None:\n",
    "        rechts = len(daten) - 1\n",
    "\n",
    "    # Sortierung durchführen\n",
    "    if links < rechts:\n",
    "\n",
    "        # Liste anhand von Pivotelement umsortieren\n",
    "        teiler = teile(daten, links, rechts)\n",
    "\n",
    "        # Linken Teil der Liste rekursiv soriteren\n",
    "        quicksort(daten, links, teiler - 1)\n",
    "\n",
    "        # Rechten Teil der Liste rekursiv sortieren\n",
    "        quicksort(daten, teiler + 1, rechts)\n",
    "    \n",
    "    return daten"
   ]
  },
  {
   "cell_type": "markdown",
   "metadata": {},
   "source": [
    "### Beispiel 1:\n",
    "\n",
    "Anwendung der Funktion `quicksort` auf die Liste `[5, 3, 0, 1, 2]`.\n",
    "\n",
    "![](Zeichnungen/Quicksort%20Hauptfunktion.jpg)\n",
    "\n",
    "Und nun ich in Python-Quelltext:"
   ]
  },
  {
   "cell_type": "code",
   "execution_count": null,
   "metadata": {},
   "outputs": [],
   "source": [
    "print(quicksort([5, 3, 0, 1, 2]))"
   ]
  },
  {
   "cell_type": "markdown",
   "metadata": {},
   "source": [
    "### Beispiel 2:"
   ]
  },
  {
   "cell_type": "code",
   "execution_count": null,
   "metadata": {},
   "outputs": [
    {
     "name": "stdout",
     "output_type": "stream",
     "text": [
      "Teile daten = [1, 0], links = 0, rechts = 1, pivot = 0\n",
      "- daten[0] = 1 > daten[1] = 0 => daten = [0, 1]\n",
      "\n",
      "[0, 1]\n"
     ]
    }
   ],
   "source": [
    "print(quicksort([1, 0]))"
   ]
  },
  {
   "cell_type": "markdown",
   "metadata": {},
   "source": [
    "### Beispiel 3:"
   ]
  },
  {
   "cell_type": "code",
   "execution_count": null,
   "metadata": {},
   "outputs": [
    {
     "name": "stdout",
     "output_type": "stream",
     "text": [
      "Teile daten = [1, 2, 0], links = 0, rechts = 2, pivot = 0\n",
      "- daten[1] = 2 > 0\n",
      "- daten[0] = 1 > daten[2] = 0 => daten = [0, 2, 1]\n",
      "\n",
      "Teile daten = [0, 2, 1], links = 1, rechts = 2, pivot = 1\n",
      "- daten[1] = 2 > daten[2] = 1 => daten = [0, 1, 2]\n",
      "\n",
      "[0, 1, 2]\n"
     ]
    }
   ],
   "source": [
    "print(quicksort([1, 2, 0]))"
   ]
  },
  {
   "cell_type": "markdown",
   "metadata": {},
   "source": [
    "### Beispiel 4:"
   ]
  },
  {
   "cell_type": "code",
   "execution_count": null,
   "metadata": {},
   "outputs": [
    {
     "name": "stdout",
     "output_type": "stream",
     "text": [
      "Teile daten = [1, 5, 0, 2], links = 0, rechts = 3, pivot = 2\n",
      "- daten[0] = 1 <= 2\n",
      "- daten[1] = 5 > daten[2] = 0 => daten = [1, 0, 5, 2]\n",
      "- daten[1] = 0 <= 2\n",
      "- daten[2] = 5 > daten[3] = 2 => daten = [1, 0, 2, 5]\n",
      "\n",
      "Teile daten = [1, 0, 2, 5], links = 0, rechts = 1, pivot = 0\n",
      "- daten[0] = 1 > daten[1] = 0 => daten = [0, 1, 2, 5]\n",
      "\n",
      "[0, 1, 2, 5]\n"
     ]
    }
   ],
   "source": [
    "print(quicksort([1, 5, 0, 2]))"
   ]
  },
  {
   "cell_type": "markdown",
   "metadata": {},
   "source": [
    "### Beispiel 5:"
   ]
  },
  {
   "cell_type": "code",
   "execution_count": null,
   "metadata": {},
   "outputs": [
    {
     "name": "stdout",
     "output_type": "stream",
     "text": [
      "Teile daten = [-1, 5, -3, -10, 20, 0, 15, 15, 21, 0, 3, 5], links = 0, rechts = 11, pivot = 5\n",
      "- daten[0] = -1 <= 5\n",
      "- daten[1] = 5 <= 5\n",
      "- daten[2] = -3 <= 5\n",
      "- daten[3] = -10 <= 5\n",
      "- daten[4] = 20 > daten[10] = 3 => daten = [-1, 5, -3, -10, 3, 0, 15, 15, 21, 0, 20, 5]\n",
      "- daten[4] = 3 <= 5\n",
      "- daten[5] = 0 <= 5\n",
      "- daten[10] = 20 > 5\n",
      "- daten[6] = 15 > daten[9] = 0 => daten = [-1, 5, -3, -10, 3, 0, 0, 15, 21, 15, 20, 5]\n",
      "- daten[6] = 0 <= 5\n",
      "- daten[9] = 15 > 5\n",
      "- daten[8] = 21 > 5\n",
      "- daten[7] = 15 > daten[11] = 5 => daten = [-1, 5, -3, -10, 3, 0, 0, 5, 21, 15, 20, 15]\n",
      "\n",
      "Teile daten = [-1, 5, -3, -10, 3, 0, 0, 5, 21, 15, 20, 15], links = 0, rechts = 6, pivot = 0\n",
      "- daten[0] = -1 <= 0\n",
      "- daten[1] = 5 > daten[5] = 0 => daten = [-1, 0, -3, -10, 3, 5, 0, 5, 21, 15, 20, 15]\n",
      "- daten[1] = 0 <= 0\n",
      "- daten[2] = -3 <= 0\n",
      "- daten[3] = -10 <= 0\n",
      "- daten[5] = 5 > 0\n",
      "- daten[4] = 3 > daten[6] = 0 => daten = [-1, 0, -3, -10, 0, 5, 3, 5, 21, 15, 20, 15]\n",
      "\n",
      "Teile daten = [-1, 0, -3, -10, 0, 5, 3, 5, 21, 15, 20, 15], links = 0, rechts = 3, pivot = -10\n",
      "- daten[2] = -3 > -10\n",
      "- daten[1] = 0 > -10\n",
      "- daten[0] = -1 > daten[3] = -10 => daten = [-10, 0, -3, -1, 0, 5, 3, 5, 21, 15, 20, 15]\n",
      "\n",
      "Teile daten = [-10, 0, -3, -1, 0, 5, 3, 5, 21, 15, 20, 15], links = 1, rechts = 3, pivot = -1\n",
      "- daten[1] = 0 > daten[2] = -3 => daten = [-10, -3, 0, -1, 0, 5, 3, 5, 21, 15, 20, 15]\n",
      "- daten[1] = -3 <= -1\n",
      "- daten[2] = 0 > daten[3] = -1 => daten = [-10, -3, -1, 0, 0, 5, 3, 5, 21, 15, 20, 15]\n",
      "\n",
      "Teile daten = [-10, -3, -1, 0, 0, 5, 3, 5, 21, 15, 20, 15], links = 5, rechts = 6, pivot = 3\n",
      "- daten[5] = 5 > daten[6] = 3 => daten = [-10, -3, -1, 0, 0, 3, 5, 5, 21, 15, 20, 15]\n",
      "\n",
      "Teile daten = [-10, -3, -1, 0, 0, 3, 5, 5, 21, 15, 20, 15], links = 8, rechts = 11, pivot = 15\n",
      "- daten[10] = 20 > 15\n",
      "- daten[8] = 21 > daten[9] = 15 => daten = [-10, -3, -1, 0, 0, 3, 5, 5, 15, 21, 20, 15]\n",
      "- daten[8] = 15 <= 15\n",
      "- daten[9] = 21 > daten[11] = 15 => daten = [-10, -3, -1, 0, 0, 3, 5, 5, 15, 15, 20, 21]\n",
      "\n",
      "Teile daten = [-10, -3, -1, 0, 0, 3, 5, 5, 15, 15, 20, 21], links = 10, rechts = 11, pivot = 21\n",
      "\n",
      "[-10, -3, -1, 0, 0, 3, 5, 5, 15, 15, 20, 21]\n"
     ]
    }
   ],
   "source": [
    "print(quicksort([-1, 5, -3, -10, 20, 0, 15, 15, 21, 0, 3, 5]))"
   ]
  }
 ],
 "metadata": {
  "language_info": {
   "name": "python"
  }
 },
 "nbformat": 4,
 "nbformat_minor": 2
}
