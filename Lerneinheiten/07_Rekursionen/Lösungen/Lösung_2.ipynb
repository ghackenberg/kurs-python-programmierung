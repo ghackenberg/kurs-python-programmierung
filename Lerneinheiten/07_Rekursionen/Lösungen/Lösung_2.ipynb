{
 "cells": [
  {
   "cell_type": "markdown",
   "metadata": {},
   "source": [
    "Maximum"
   ]
  },
  {
   "cell_type": "code",
   "execution_count": 2,
   "metadata": {},
   "outputs": [
    {
     "name": "stdout",
     "output_type": "stream",
     "text": [
      "maximum([-1, 5, -7, 10, -13], 0)\n",
      "maximum([-1, 5, -7, 10, -13], 1)\n",
      "maximum([-1, 5, -7, 10, -13], 2)\n",
      "maximum([-1, 5, -7, 10, -13], 3)\n",
      "maximum([-1, 5, -7, 10, -13], 4)\n"
     ]
    },
    {
     "data": {
      "text/plain": [
       "10"
      ]
     },
     "execution_count": 2,
     "metadata": {},
     "output_type": "execute_result"
    }
   ],
   "source": [
    "def maximum(liste, index = 0):\n",
    "\n",
    "    print(f\"maximum({liste}, {index})\")\n",
    "\n",
    "    aktuellerWert = liste[index]\n",
    "\n",
    "    if index < len(liste) - 1:\n",
    "        \n",
    "        maximumRest = maximum(liste, index + 1)\n",
    "\n",
    "        if aktuellerWert > maximumRest:\n",
    "            return aktuellerWert\n",
    "        else:\n",
    "            return maximumRest\n",
    "    \n",
    "    else:\n",
    "\n",
    "        return aktuellerWert\n",
    "\n",
    "maximum([-1, 5, -7, 10, -13])"
   ]
  },
  {
   "cell_type": "markdown",
   "metadata": {},
   "source": [
    "Summe"
   ]
  },
  {
   "cell_type": "code",
   "execution_count": 6,
   "metadata": {},
   "outputs": [
    {
     "name": "stdout",
     "output_type": "stream",
     "text": [
      "summe([-1, 5, -7, 10, -13], 0)\n",
      "summe([-1, 5, -7, 10, -13], 1)\n",
      "summe([-1, 5, -7, 10, -13], 2)\n",
      "summe([-1, 5, -7, 10, -13], 3)\n",
      "summe([-1, 5, -7, 10, -13], 4)\n",
      "summe([-1, 5, -7, 10, -13], 5)\n"
     ]
    },
    {
     "data": {
      "text/plain": [
       "-6"
      ]
     },
     "execution_count": 6,
     "metadata": {},
     "output_type": "execute_result"
    }
   ],
   "source": [
    "def summe(liste, index = 0):\n",
    "\n",
    "    print(f\"summe({liste}, {index})\")\n",
    "\n",
    "    if index < len(liste):\n",
    "\n",
    "        aktuellerWert = liste[index]\n",
    "        \n",
    "        return aktuellerWert + summe(liste, index + 1)\n",
    "    \n",
    "    else:\n",
    "\n",
    "        return 0\n",
    "\n",
    "summe([-1, 5, -7, 10, -13])"
   ]
  },
  {
   "cell_type": "markdown",
   "metadata": {},
   "source": [
    "Mittelwert"
   ]
  },
  {
   "cell_type": "code",
   "execution_count": 4,
   "metadata": {},
   "outputs": [
    {
     "name": "stdout",
     "output_type": "stream",
     "text": [
      "mittelwert([-1, 5, -7, 10, -13], 0)\n",
      "mittelwert([-1, 5, -7, 10, -13], 1)\n",
      "mittelwert([-1, 5, -7, 10, -13], 2)\n",
      "mittelwert([-1, 5, -7, 10, -13], 3)\n",
      "mittelwert([-1, 5, -7, 10, -13], 4)\n",
      "mittelwert([-1, 5, -7, 10, -13], 5)\n"
     ]
    },
    {
     "data": {
      "text/plain": [
       "-1.2"
      ]
     },
     "execution_count": 4,
     "metadata": {},
     "output_type": "execute_result"
    }
   ],
   "source": [
    "def mittelwert(liste, index = 0):\n",
    "\n",
    "    print(f\"mittelwert({liste}, {index})\")\n",
    "\n",
    "    if index < len(liste):\n",
    "\n",
    "        aktuellerWert = liste[index]\n",
    "        \n",
    "        return aktuellerWert / len(liste) + mittelwert(liste, index + 1)\n",
    "    \n",
    "    else:\n",
    "\n",
    "        return 0\n",
    "\n",
    "mittelwert([-1, 5, -7, 10, -13])"
   ]
  },
  {
   "cell_type": "markdown",
   "metadata": {},
   "source": [
    "Robuste Zahleneingabe"
   ]
  },
  {
   "cell_type": "code",
   "execution_count": 7,
   "metadata": {},
   "outputs": [
    {
     "data": {
      "text/plain": [
       "6"
      ]
     },
     "execution_count": 7,
     "metadata": {},
     "output_type": "execute_result"
    }
   ],
   "source": [
    "def zahlenEingabe():\n",
    "    try:\n",
    "        return int(input(\"Bitte Zahl eingeben\"))\n",
    "    except:\n",
    "        return zahlenEingabe()\n",
    "\n",
    "zahlenEingabe()"
   ]
  }
 ],
 "metadata": {
  "kernelspec": {
   "display_name": "Python 3",
   "language": "python",
   "name": "python3"
  },
  "language_info": {
   "codemirror_mode": {
    "name": "ipython",
    "version": 3
   },
   "file_extension": ".py",
   "mimetype": "text/x-python",
   "name": "python",
   "nbconvert_exporter": "python",
   "pygments_lexer": "ipython3",
   "version": "3.12.3"
  }
 },
 "nbformat": 4,
 "nbformat_minor": 2
}
