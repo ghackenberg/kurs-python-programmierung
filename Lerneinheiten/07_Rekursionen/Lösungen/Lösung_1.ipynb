{
 "cells": [
  {
   "cell_type": "code",
   "execution_count": 21,
   "metadata": {},
   "outputs": [
    {
     "name": "stdout",
     "output_type": "stream",
     "text": [
      "fibonacci(0) = 0\n",
      "fibonacci(1) = 1\n",
      "fibonacci(2) = 1\n",
      "fibonacci(3) = 2\n",
      "fibonacci(4) = 3\n",
      "fibonacci(5) = 5\n"
     ]
    }
   ],
   "source": [
    "# Übung 1 - Fibonacci-Funktion mittels Rekursion\n",
    "\n",
    "def fibonacci(n: int) -> int:\n",
    "    \n",
    "    if n <= 0:\n",
    "        return 0\n",
    "    elif n==1:\n",
    "        return 1\n",
    "    else:\n",
    "        return fibonacci(n-1) + fibonacci(n-2)      # Fibonacci-Formel: F(n-1) + F(n-2) für n>=3\n",
    "\n",
    "zahl = int(input(\"Bitte Zahle eingeben!\"))\n",
    "\n",
    "for i in range(zahl+1):                             # +1 damit eingegebene Zahl auch berechnet wird\n",
    "    print(f\"fibonacci({i}) = {fibonacci(i)}\")"
   ]
  },
  {
   "cell_type": "code",
   "execution_count": 3,
   "metadata": {},
   "outputs": [
    {
     "name": "stdout",
     "output_type": "stream",
     "text": [
      "Die Baumtiefe ist:  6\n"
     ]
    }
   ],
   "source": [
    "# Übung 2 - Baumtiefe mittels Rekursion\n",
    "\n",
    "def baumtiefe_list(baum):\n",
    "    \n",
    "    if type(baum) is list:\n",
    "\n",
    "        kindtiefe_max = 0\n",
    "\n",
    "        for daten in baum:\n",
    "            kindtiefe = baumtiefe_list(daten)\n",
    "            kindtiefe_max = max(kindtiefe_max, kindtiefe)\n",
    "    \n",
    "        return kindtiefe_max + 1        # +1 für Root\n",
    "    \n",
    "    else: \n",
    "        return 1                        # nur Root\n",
    "\n",
    "#Baumliste\n",
    "baum_list = [['a','b','c',['f', 'g',['x', 'y', 'z',['E']], 'h']], 'S']\n",
    "\n",
    "print(\"Die Baumtiefe ist: \", baumtiefe_list(baum_list))"
   ]
  },
  {
   "cell_type": "code",
   "execution_count": 12,
   "metadata": {},
   "outputs": [
    {
     "name": "stdout",
     "output_type": "stream",
     "text": [
      "Bereiche von 0 bis 5 :\n",
      "\tzahlenliste[2] = 7\n",
      "Bereiche von 3 bis 5 :\n",
      "\tzahlenliste[4] = 12\n",
      "Bereiche von 5 bis 5 :\n",
      "\tzahlenliste[5] = 33\n",
      "\tRekursionsende 2\n",
      "33 wurde an der Stelle 5 gefunden.\n"
     ]
    }
   ],
   "source": [
    "# Übung 4 - Binärsuche mittels Rekursion\n",
    "\n",
    "def binärsuche(zahlenliste, gesuchte_zahl, untere_grenze, obere_grenze):\n",
    "\n",
    "    print(f\"Bereiche von {untere_grenze} bis {obere_grenze} :\")\n",
    "\n",
    "    # Zahl kann in der Liste nicht gefunden werden\n",
    "    if untere_grenze > obere_grenze:\n",
    "        print(\"\\tRekursionsende 1\")\n",
    "        return -1\n",
    "    \n",
    "    # Mittleren Wert des aktuellen Bereichs bestimmen\n",
    "    mitte_index = untere_grenze + (obere_grenze - untere_grenze) // 2\n",
    "    mitte_wert = zahlenliste[mitte_index]\n",
    "    \n",
    "    print(f\"\\tzahlenliste[{mitte_index}] = {mitte_wert}\")\n",
    "\n",
    "    if mitte_wert < gesuchte_zahl:\n",
    "        # Mittlerer Wert ist kleiner als die gesuchte Zahl\n",
    "        return binärsuche(zahlenliste, gesuchte_zahl, mitte_index + 1, obere_grenze)\n",
    "\n",
    "    if mitte_wert > gesuchte_zahl:\n",
    "        # Mittlerer Wert ist größer als die gesuchte Zahl\n",
    "        return binärsuche(zahlenliste, gesuchte_zahl, untere_grenze, mitte_index - 1)\n",
    "\n",
    "    # Mittlerer Wert ist gleich der gesuchten Zahl\n",
    "    print(\"\\tRekursionsende 2\")\n",
    "    return mitte_index\n",
    "        \n",
    "zahlenliste = [1, 5, 7, 9, 12, 33]\n",
    "\n",
    "gesuchte_zahl = int(input(\"Bitte gesuchte Zahl eingeben!\"))\n",
    "\n",
    "ergebnis_index = binärsuche(zahlenliste, gesuchte_zahl, 0, len(zahlenliste) - 1)\n",
    "\n",
    "if ergebnis_index != -1:\n",
    "    print(f\"{gesuchte_zahl} wurde an der Stelle {ergebnis_index} gefunden.\")\n",
    "else:\n",
    "    print(f\"Zahl nicht gefunden!\")"
   ]
  }
 ],
 "metadata": {
  "kernelspec": {
   "display_name": "Python 3",
   "language": "python",
   "name": "python3"
  },
  "language_info": {
   "codemirror_mode": {
    "name": "ipython",
    "version": 3
   },
   "file_extension": ".py",
   "mimetype": "text/x-python",
   "name": "python",
   "nbconvert_exporter": "python",
   "pygments_lexer": "ipython3",
   "version": "3.12.2"
  }
 },
 "nbformat": 4,
 "nbformat_minor": 2
}
