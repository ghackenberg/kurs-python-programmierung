{
 "cells": [
  {
   "cell_type": "markdown",
   "metadata": {},
   "source": [
    "# Aufzählschleifen (Schlüsselwort `for`)"
   ]
  },
  {
   "cell_type": "markdown",
   "metadata": {},
   "source": [
    "## 1. Durchlaufen eines `str`\n",
    "\n",
    "Verarbeiten der einzelnen Zeichen der Zeichenkette"
   ]
  },
  {
   "cell_type": "code",
   "execution_count": 2,
   "metadata": {},
   "outputs": [
    {
     "name": "stdout",
     "output_type": "stream",
     "text": [
      "Aktuelles Zeichen = h\n",
      "Aktuelles Zeichen = e\n",
      "Aktuelles Zeichen = l\n",
      "Aktuelles Zeichen = l\n",
      "Aktuelles Zeichen = o\n"
     ]
    }
   ],
   "source": [
    "for zeichen in \"hello\":\n",
    "    print(f\"Aktuelles Zeichen = {zeichen}\")"
   ]
  },
  {
   "cell_type": "markdown",
   "metadata": {},
   "source": [
    "## 2. Durchlaufen einer `list`\n",
    "\n",
    "Verarbeiten der einzelnen Einträge einer Liste"
   ]
  },
  {
   "cell_type": "code",
   "execution_count": 3,
   "metadata": {},
   "outputs": [
    {
     "name": "stdout",
     "output_type": "stream",
     "text": [
      "Aktuelle Zahl = 1\n",
      "Aktuelle Zahl = 3\n",
      "Aktuelle Zahl = 9\n"
     ]
    }
   ],
   "source": [
    "for zahl in [1, 3, 9]:\n",
    "    print(f\"Aktuelle Zahl = {zahl}\")"
   ]
  },
  {
   "cell_type": "markdown",
   "metadata": {},
   "source": [
    "## 3. Durchlaufen eines `dict`\n",
    "\n",
    "Verarbeiten der einzelnen Schlüssel der Abbildung. Werte können über `[]`-Operator abgefragt werden."
   ]
  },
  {
   "cell_type": "code",
   "execution_count": 10,
   "metadata": {},
   "outputs": [
    {
     "name": "stdout",
     "output_type": "stream",
     "text": [
      "schlüssel = text\n",
      "wert = 1\n",
      "\n",
      "schlüssel = True\n",
      "wert = test\n",
      "\n",
      "schlüssel = 2\n",
      "wert = [1, 2, 3]\n",
      "\n"
     ]
    }
   ],
   "source": [
    "abbildung = { \"text\": 1, True: \"test\", 2: [1, 2, 3] }\n",
    "\n",
    "for schlüssel in abbildung:\n",
    "\n",
    "    # Wert zu Schlüssel bestimmen\n",
    "    wert = abbildung[schlüssel]\n",
    "\n",
    "    # Schlüssel und zugeordneten Wert ausgeben\n",
    "    print(f\"schlüssel = {schlüssel}\")\n",
    "    print(f\"wert = {wert}\")\n",
    "\n",
    "    # Leere Zeile ausgeben\n",
    "    print()\n"
   ]
  },
  {
   "cell_type": "markdown",
   "metadata": {},
   "source": [
    "## 4. Durchlaufen eines `tuple`\n",
    "\n",
    "Verarbeiten der einzelnen Einträge des Tupel."
   ]
  },
  {
   "cell_type": "code",
   "execution_count": 13,
   "metadata": {},
   "outputs": [
    {
     "name": "stdout",
     "output_type": "stream",
     "text": [
      "wert = 1\n",
      "wert = text\n",
      "wert = True\n",
      "wert = [1, 2, 3]\n"
     ]
    }
   ],
   "source": [
    "for wert in (1, \"text\", True, [1, 2, 3]):\n",
    "    print(f\"wert = {wert}\")"
   ]
  },
  {
   "cell_type": "markdown",
   "metadata": {},
   "source": [
    "## 5. Durchlaufen einer `range`\n",
    "\n",
    "Verarbeiten der einzlenen Zahlen des Zahlenbereichs."
   ]
  },
  {
   "cell_type": "code",
   "execution_count": 14,
   "metadata": {},
   "outputs": [
    {
     "name": "stdout",
     "output_type": "stream",
     "text": [
      "zahl = 0\n",
      "zahl = 1\n",
      "zahl = 2\n",
      "zahl = 3\n"
     ]
    }
   ],
   "source": [
    "for zahl in range(4):\n",
    "    print(f\"zahl = {zahl}\")"
   ]
  },
  {
   "cell_type": "markdown",
   "metadata": {},
   "source": [
    "Die Verarbeitung berücksichtigt auch die Schrittweite."
   ]
  },
  {
   "cell_type": "code",
   "execution_count": 15,
   "metadata": {},
   "outputs": [
    {
     "name": "stdout",
     "output_type": "stream",
     "text": [
      "zahl = -5\n",
      "zahl = -2\n",
      "zahl = 1\n",
      "zahl = 4\n"
     ]
    }
   ],
   "source": [
    "for zahl in range(-5, 5, 3):\n",
    "    print(f\"zahl = {zahl}\")"
   ]
  },
  {
   "cell_type": "markdown",
   "metadata": {},
   "source": [
    "Es können auch negative Schrittweiten verwendet werden."
   ]
  },
  {
   "cell_type": "code",
   "execution_count": 16,
   "metadata": {},
   "outputs": [
    {
     "name": "stdout",
     "output_type": "stream",
     "text": [
      "zahl = 5\n",
      "zahl = 4\n",
      "zahl = 3\n",
      "zahl = 2\n",
      "zahl = 1\n",
      "zahl = 0\n",
      "zahl = -1\n",
      "zahl = -2\n",
      "zahl = -3\n",
      "zahl = -4\n"
     ]
    }
   ],
   "source": [
    "for zahl in range(5, -5, -1):\n",
    "    print(f\"zahl = {zahl}\")"
   ]
  },
  {
   "cell_type": "markdown",
   "metadata": {},
   "source": [
    "## 6. Die Funktion `enumerate`"
   ]
  },
  {
   "cell_type": "markdown",
   "metadata": {},
   "source": [
    "Position des Listeneintrags ebenfalls berechnen."
   ]
  },
  {
   "cell_type": "code",
   "execution_count": null,
   "metadata": {},
   "outputs": [
    {
     "name": "stdout",
     "output_type": "stream",
     "text": [
      "liste[0] = 1\n",
      "liste[1] = 3\n",
      "liste[2] = 9\n"
     ]
    }
   ],
   "source": [
    "index = 0\n",
    "\n",
    "for zahl in [1, 3, 9]:\n",
    "    print(f\"liste[{index}] = {zahl}\")\n",
    "\n",
    "    index += 1"
   ]
  },
  {
   "cell_type": "markdown",
   "metadata": {},
   "source": [
    "Mit der Funktion `enumerate` kann neben dem Wert auch der Index des Wertes abgefragt und verarbeitet werden."
   ]
  },
  {
   "cell_type": "code",
   "execution_count": 22,
   "metadata": {},
   "outputs": [
    {
     "name": "stdout",
     "output_type": "stream",
     "text": [
      "a[0] = t\n",
      "a[1] = e\n",
      "a[2] = s\n",
      "a[3] = t\n"
     ]
    }
   ],
   "source": [
    "# Anwendung auf Zeichenketten\n",
    "\n",
    "for index, wert in enumerate(\"test\"):\n",
    "    print(f\"a[{index}] = {wert}\")"
   ]
  },
  {
   "cell_type": "code",
   "execution_count": 21,
   "metadata": {},
   "outputs": [
    {
     "name": "stdout",
     "output_type": "stream",
     "text": [
      "a[0] = 0\n",
      "a[1] = 5\n",
      "a[2] = 7\n",
      "a[3] = 10\n"
     ]
    }
   ],
   "source": [
    "# Anwendung auf Listen\n",
    "\n",
    "for index, wert in enumerate([0, 5, 7, 10]):\n",
    "    print(f\"a[{index}] = {wert}\")"
   ]
  },
  {
   "cell_type": "code",
   "execution_count": 20,
   "metadata": {},
   "outputs": [
    {
     "name": "stdout",
     "output_type": "stream",
     "text": [
      "a[0] = 0\n",
      "a[1] = 6\n",
      "a[2] = 7\n"
     ]
    }
   ],
   "source": [
    "# Anwendung auf Tupel\n",
    "\n",
    "for index, wert in enumerate((0, 6, 7)):\n",
    "    print(f\"a[{index}] = {wert}\")"
   ]
  },
  {
   "cell_type": "code",
   "execution_count": 23,
   "metadata": {},
   "outputs": [
    {
     "name": "stdout",
     "output_type": "stream",
     "text": [
      "a[0] = -5\n",
      "a[1] = -2\n",
      "a[2] = 1\n",
      "a[3] = 4\n"
     ]
    }
   ],
   "source": [
    "# Anwendung auf Ranges\n",
    "\n",
    "for index, wert in enumerate(range(-5, 5, 3)):\n",
    "    print(f\"a[{index}] = {wert}\")"
   ]
  }
 ],
 "metadata": {
  "kernelspec": {
   "display_name": "Python 3",
   "language": "python",
   "name": "python3"
  },
  "language_info": {
   "codemirror_mode": {
    "name": "ipython",
    "version": 3
   },
   "file_extension": ".py",
   "mimetype": "text/x-python",
   "name": "python",
   "nbconvert_exporter": "python",
   "pygments_lexer": "ipython3",
   "version": "3.12.2"
  }
 },
 "nbformat": 4,
 "nbformat_minor": 2
}
