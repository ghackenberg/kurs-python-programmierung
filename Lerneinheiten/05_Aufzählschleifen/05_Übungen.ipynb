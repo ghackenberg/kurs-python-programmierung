{
 "cells": [
  {
   "cell_type": "markdown",
   "metadata": {},
   "source": [
    "# Übungen zu Aufzählschleifen"
   ]
  },
  {
   "cell_type": "markdown",
   "metadata": {},
   "source": [
    "## Übung 1: **Sortierung einer Liste mit Zahlen** mittels `for`-Schleife\n",
    "\n",
    "Schreiben Sie den Algorithmus zur Sortierung einer Liste von Zahlen so um, dass er statt einer `while`-Schleife eine `for`-Schleife verwendet.\n",
    "\n",
    "*Tip: Nutzen Sie die Funktion `range` mit negativer Schrittweite dazu.*"
   ]
  },
  {
   "cell_type": "code",
   "execution_count": null,
   "metadata": {},
   "outputs": [],
   "source": [
    "# TODO"
   ]
  },
  {
   "cell_type": "markdown",
   "metadata": {},
   "source": [
    "(siehe Dauerschleifen)"
   ]
  }
 ],
 "metadata": {
  "language_info": {
   "name": "python"
  }
 },
 "nbformat": 4,
 "nbformat_minor": 2
}
