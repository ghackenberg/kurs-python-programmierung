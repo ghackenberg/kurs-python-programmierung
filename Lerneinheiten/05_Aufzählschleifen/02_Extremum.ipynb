{
 "cells": [
  {
   "cell_type": "markdown",
   "metadata": {},
   "source": [
    "# Anwendungen mit Aufzählschleifen - Extremum"
   ]
  },
  {
   "cell_type": "markdown",
   "metadata": {},
   "source": [
    "## 1. Maximum ohne Position"
   ]
  },
  {
   "cell_type": "code",
   "execution_count": 1,
   "metadata": {},
   "outputs": [
    {
     "name": "stdout",
     "output_type": "stream",
     "text": [
      "maximum = 10\n"
     ]
    }
   ],
   "source": [
    "liste = [1, 5, -3, 10, -20, 0, 7]\n",
    "\n",
    "maximum = liste[0]\n",
    "\n",
    "for zahl in liste:\n",
    "    if zahl > maximum:\n",
    "        maximum = zahl\n",
    "\n",
    "print(f\"maximum = {maximum}\")"
   ]
  },
  {
   "cell_type": "markdown",
   "metadata": {},
   "source": [
    "## 2. Minimum ohne Position"
   ]
  },
  {
   "cell_type": "code",
   "execution_count": null,
   "metadata": {},
   "outputs": [
    {
     "name": "stdout",
     "output_type": "stream",
     "text": [
      "minimum = -20\n"
     ]
    }
   ],
   "source": [
    "liste = [1, 5, -3, 10, -20, 0, 7]\n",
    "\n",
    "minimum = liste[0]\n",
    "\n",
    "for zahl in liste:\n",
    "    if zahl < minimum:\n",
    "        minimum = zahl\n",
    "\n",
    "print(f\"minimum = {minimum}\")"
   ]
  },
  {
   "cell_type": "markdown",
   "metadata": {},
   "source": [
    "## 3. Extremum ohne Position"
   ]
  },
  {
   "cell_type": "code",
   "execution_count": null,
   "metadata": {},
   "outputs": [],
   "source": [
    "liste = [1, 5, -3, 10, -20, 0, 7]\n",
    "\n",
    "maximum = liste[0]\n",
    "minimum = liste[0]\n",
    "\n",
    "for zahl in liste:\n",
    "    if zahl > maximum:\n",
    "        maximum = zahl\n",
    "    if zahl < minimum:\n",
    "        minimum = zahl\n",
    "\n",
    "print(f\"maximum = {maximum}\")\n",
    "print(f\"minimum = {minimum}\")"
   ]
  },
  {
   "cell_type": "markdown",
   "metadata": {},
   "source": [
    "## 4. Maximum mit Position"
   ]
  },
  {
   "cell_type": "code",
   "execution_count": 1,
   "metadata": {},
   "outputs": [
    {
     "name": "stdout",
     "output_type": "stream",
     "text": [
      "a[3] = 10\n"
     ]
    }
   ],
   "source": [
    "liste = [1, 5, -3, 10, -20, 0, 7]\n",
    "\n",
    "maximum_wert = liste[0]\n",
    "maximum_index = 0\n",
    "\n",
    "for index, wert in enumerate(liste):\n",
    "    if wert > maximum_wert:\n",
    "        maximum_wert = wert\n",
    "        maximum_index = index\n",
    "\n",
    "print(f\"a[{maximum_index}] = {maximum_wert}\")"
   ]
  },
  {
   "cell_type": "markdown",
   "metadata": {},
   "source": [
    "## 5. Minimum mit Position"
   ]
  },
  {
   "cell_type": "code",
   "execution_count": null,
   "metadata": {},
   "outputs": [
    {
     "name": "stdout",
     "output_type": "stream",
     "text": [
      "a[4] = -20\n"
     ]
    }
   ],
   "source": [
    "liste = [1, 5, -3, 10, -20, 0, 7]\n",
    "\n",
    "minimum_wert = liste[0]\n",
    "minimum_index = 0\n",
    "\n",
    "for index, wert in enumerate(liste):\n",
    "    if wert < minimum_wert:\n",
    "        minimum_wert = wert\n",
    "        minimum_index = index\n",
    "\n",
    "print(f\"a[{minimum_index}] = {minimum_wert}\")"
   ]
  },
  {
   "cell_type": "markdown",
   "metadata": {},
   "source": [
    "## 6. Extremum mit Position"
   ]
  },
  {
   "cell_type": "code",
   "execution_count": null,
   "metadata": {},
   "outputs": [],
   "source": [
    "liste = [1, 5, -3, 10, -20, 0, 7]\n",
    "\n",
    "maximum_wert = liste[0]\n",
    "maximum_index = 0\n",
    "\n",
    "minimum_wert = liste[0]\n",
    "minimum_index = 0\n",
    "\n",
    "for index, wert in enumerate(liste):\n",
    "    if wert > maximum_wert:\n",
    "        maximum_wert = wert\n",
    "        maximum_index = index\n",
    "    if wert < minimum_wert:\n",
    "        minimum_wert = wert\n",
    "        minimum_index = index\n",
    "\n",
    "print(f\"a[{maximum_index}] = {maximum_wert}\")\n",
    "print(f\"a[{minimum_index}] = {minimum_wert}\")"
   ]
  }
 ],
 "metadata": {
  "kernelspec": {
   "display_name": "Python 3",
   "language": "python",
   "name": "python3"
  },
  "language_info": {
   "codemirror_mode": {
    "name": "ipython",
    "version": 3
   },
   "file_extension": ".py",
   "mimetype": "text/x-python",
   "name": "python",
   "nbconvert_exporter": "python",
   "pygments_lexer": "ipython3",
   "version": "3.12.2"
  }
 },
 "nbformat": 4,
 "nbformat_minor": 2
}
