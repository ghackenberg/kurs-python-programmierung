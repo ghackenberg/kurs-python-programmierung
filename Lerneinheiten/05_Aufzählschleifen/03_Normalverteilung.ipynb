{
 "cells": [
  {
   "cell_type": "markdown",
   "metadata": {},
   "source": [
    "# Anwendungen mit Aufzählschleifen - Normalverteilung"
   ]
  },
  {
   "cell_type": "markdown",
   "metadata": {},
   "source": [
    "## 1. Mittelwert\n",
    "\n",
    "Beachte: Für die Berechnung des Mittelwerts verwenden wir die Funktion `len`."
   ]
  },
  {
   "cell_type": "code",
   "execution_count": 203,
   "metadata": {},
   "outputs": [
    {
     "name": "stdout",
     "output_type": "stream",
     "text": [
      "mittelwert = 13.125\n"
     ]
    }
   ],
   "source": [
    "liste = [0, 7, 9, -4, -10, 3, 95, 5]\n",
    "\n",
    "mittelwert = 0\n",
    "\n",
    "for listen_wert in liste:\n",
    "    mittelwert += listen_wert / len(liste)\n",
    "\n",
    "print(f\"mittelwert = {mittelwert}\")"
   ]
  },
  {
   "cell_type": "markdown",
   "metadata": {},
   "source": [
    "## 2. Standardabweichung\n",
    "\n",
    "Beachte: Für die Berechnung der Standardabweichung verwenden wir die Funktion `pow` sowie die Funktion `sqrt` aus dem Modul `math`."
   ]
  },
  {
   "cell_type": "code",
   "execution_count": 204,
   "metadata": {},
   "outputs": [
    {
     "name": "stdout",
     "output_type": "stream",
     "text": [
      "mittelwert = 13.125\n",
      "standardabweichung = 31.47791884797977\n"
     ]
    }
   ],
   "source": [
    "import math\n",
    "\n",
    "liste = [0, 7, 9, -4, -10, 3, 95, 5]\n",
    "\n",
    "# Schritt 1: Mittelwert berechnen\n",
    "\n",
    "mittelwert = 0\n",
    "\n",
    "for listen_wert in liste:\n",
    "    mittelwert += listen_wert / len(liste)\n",
    "\n",
    "print(f\"mittelwert = {mittelwert}\")\n",
    "\n",
    "# Schritt 2: Standardabweichung berechnen\n",
    "\n",
    "standardabweichung = 0\n",
    "\n",
    "for listen_wert in liste:\n",
    "    standardabweichung += pow(listen_wert - mittelwert, 2) / len(liste)\n",
    "\n",
    "standardabweichung = math.sqrt(standardabweichung)\n",
    "\n",
    "print(f\"standardabweichung = {standardabweichung}\")"
   ]
  }
 ],
 "metadata": {
  "kernelspec": {
   "display_name": "Python 3",
   "language": "python",
   "name": "python3"
  },
  "language_info": {
   "codemirror_mode": {
    "name": "ipython",
    "version": 3
   },
   "file_extension": ".py",
   "mimetype": "text/x-python",
   "name": "python",
   "nbconvert_exporter": "python",
   "pygments_lexer": "ipython3",
   "version": "3.12.2"
  }
 },
 "nbformat": 4,
 "nbformat_minor": 2
}
