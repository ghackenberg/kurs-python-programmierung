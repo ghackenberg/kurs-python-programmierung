{
 "cells": [
  {
   "cell_type": "markdown",
   "metadata": {},
   "source": [
    "# 5. Variablen\n",
    "\n",
    "Literale und Operatoren ermöglichen uns nun schon, interessante Berechnungen mit der Programmiersprache Python durchzuführen. Was wir jedoch noch nicht können, ist die Zwischenspeicherung der Berechnugsergebnisse. Die Zwischenspeicherung ist aber in komplexeren Rechnungen durchaus sinnvoll und notwendig. Python bietet zur **Zwischenspeicherung von Berechnungsergebnissen** des Konzept von Variablen an. Variablen haben grundsätzlich einen Namen (bestehen aus einer zusammenhängenden Kette von alphanumerischen Symbolen) und einen Wert. Der Wert einer Variable kann durch den sogenannten **Zuweisungsoperator** `=` gesetzt und überschrieben werden. Nachdem eine Variable definiert wurde, kann sie anstelle von Literalen in Berechnungen verwendet werden. Das folgende Beispiel zeigt die Definition der Variable `a` mit einem boolschen Wahrheitswert sowie die Nutzung der Variable in einer Berechnung mit dem Operator `not`."
   ]
  },
  {
   "cell_type": "code",
   "execution_count": null,
   "metadata": {},
   "outputs": [
    {
     "data": {
      "text/plain": [
       "False"
      ]
     },
     "metadata": {},
     "output_type": "display_data"
    }
   ],
   "source": [
    "a = True # Definition der Variable mit dem Zuweisungsoperator\n",
    "\n",
    "not a # Nutzung der Variable in einer Berechnung mit dem Operator NOT"
   ]
  },
  {
   "cell_type": "markdown",
   "metadata": {},
   "source": [
    "Das vorige Beispiel zeigt die Nutzung von Variablen einer Berechnung mit dem unären Operator `not`. *Unär* heißt in diesem Zusammenhang, dass der Operator `not` nur einen Operanden hat, der in diesem Fall die Variable `a` war. Im Folgenden zeigen wir die Verwendung von Variablen in Berechnungen mit binären Operatoren. *Binäre* Operatoren sind Operatoren, die genau zwei Operanden haben. Zu den binären Operatoren zählen beispielsweise der Operator `and` für boolsche Wahrheitswerte, der Operator `*` für Zahlen, und der Operator `+` für Zeichenketten. Wir betrachten dabei zunächst nur den Fall, dass **einer der beiden Operanden** eine Variable ist und der andere Operand ein Literal ist."
   ]
  },
  {
   "cell_type": "code",
   "execution_count": null,
   "metadata": {},
   "outputs": [],
   "source": [
    "a = True # Variable mit boolschem Wahrheitswert\n",
    "\n",
    "a and False # Nutzung der Variable in Berechnung mit Operator AND"
   ]
  },
  {
   "cell_type": "code",
   "execution_count": null,
   "metadata": {},
   "outputs": [],
   "source": [
    "a = 1 # Variable mit numerischem Zahlenwert\n",
    "\n",
    "a * 2.5 # Nutzung der Variable in Berechnung mit Operator MAL"
   ]
  },
  {
   "cell_type": "code",
   "execution_count": null,
   "metadata": {},
   "outputs": [],
   "source": [
    "a = \"Zeichenkette 1\" # Variable mit Zeichenkettenwert\n",
    "\n",
    "a + \"Zeichenkette 2\" # Nutzung der Variable in Berechnung mit Operator PLUS"
   ]
  },
  {
   "cell_type": "markdown",
   "metadata": {},
   "source": [
    "Es können jedoch auch **beide Operanden** eines binären Operators auf eine Variable verweisen. Im Folgenden betrachten wir wieder den binären boolschen Operator `and` sowie den numerischen Operator `*` und den Zeichenkettenoperator `+`. In allen Fällen werden zunächst zwei Variablen `a` und `b` definiert bzw. initialisiert, bevor die beiden Variablen in einer Berechnung mit einem binären Operator verwendet werden."
   ]
  },
  {
   "cell_type": "code",
   "execution_count": null,
   "metadata": {},
   "outputs": [
    {
     "data": {
      "text/plain": [
       "False"
      ]
     },
     "metadata": {},
     "output_type": "display_data"
    }
   ],
   "source": [
    "a = True # Erste Variable mit boolschen Wahrheitswert\n",
    "b = False # Zweite Variable mit boolschen Wahrheitswert\n",
    "\n",
    "a and b # Nutzung der beiden Variablen in Berechnung mit dem Operator AND"
   ]
  },
  {
   "cell_type": "code",
   "execution_count": null,
   "metadata": {},
   "outputs": [
    {
     "data": {
      "text/plain": [
       "10"
      ]
     },
     "metadata": {},
     "output_type": "display_data"
    }
   ],
   "source": [
    "a = 2 # Erste Variable mit numerischem Zahlenwert\n",
    "b = 5 # Zweite Variable mit numerischem Zahlenwert\n",
    "\n",
    "a * b # Nutzung der beiden Variablen in Berechnung mit dem Operator MAL"
   ]
  },
  {
   "cell_type": "code",
   "execution_count": null,
   "metadata": {},
   "outputs": [],
   "source": [
    "a = \"Zeichenkette 1\" # Erste Variable mit Zeichenkettenwert\n",
    "b = \"Zeichenkette 2\" # Zweite Variable mit Zeichenkettenwert\n",
    "\n",
    "a + b # Nutzung der beiden Variablen in Berechnung mit dem Operator PLUS"
   ]
  },
  {
   "cell_type": "markdown",
   "metadata": {},
   "source": [
    "Schließlich können auch die Einträge von Listen und Abbildungen als Variablen betrachtet werden (nicht jedoch von Zeichenketten, Tupeln und Ganzzahlenbereichen). Wie bereits besprochen können die Einträge über den Operator `[]` gelesen werden. Genauso können die Einträge aber auch über den Operator `[]` geschrieben werden. Die folgenden beiden Beispiele zeigt, wie man einzelne Einträge von Listen und Abbildungen nachträglich verändert."
   ]
  },
  {
   "cell_type": "code",
   "execution_count": 2,
   "metadata": {},
   "outputs": [
    {
     "data": {
      "text/plain": [
       "[1, 7, 3]"
      ]
     },
     "execution_count": 2,
     "metadata": {},
     "output_type": "execute_result"
    }
   ],
   "source": [
    "# Liste\n",
    "\n",
    "a = [1, 2, 3]\n",
    "\n",
    "a[1] = 7 # <===== !!\n",
    "\n",
    "a"
   ]
  },
  {
   "cell_type": "code",
   "execution_count": 3,
   "metadata": {},
   "outputs": [
    {
     "data": {
      "text/plain": [
       "{'a': 1, 'b': 7, 'c': 3}"
      ]
     },
     "execution_count": 3,
     "metadata": {},
     "output_type": "execute_result"
    }
   ],
   "source": [
    "# Abbildung\n",
    "\n",
    "a = { \"a\": 1, \"b\": 2, \"c\": 3 }\n",
    "\n",
    "a[\"b\"] = 7 # <===== !!\n",
    "\n",
    "a"
   ]
  }
 ],
 "metadata": {
  "kernelspec": {
   "display_name": "Python 3",
   "language": "python",
   "name": "python3"
  },
  "language_info": {
   "codemirror_mode": {
    "name": "ipython",
    "version": 3
   },
   "file_extension": ".py",
   "mimetype": "text/x-python",
   "name": "python",
   "nbconvert_exporter": "python",
   "pygments_lexer": "ipython3",
   "version": "3.12.2"
  }
 },
 "nbformat": 4,
 "nbformat_minor": 2
}
