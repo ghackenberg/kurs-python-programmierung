{
 "cells": [
  {
   "cell_type": "markdown",
   "metadata": {},
   "source": [
    "# 3. `try-raise-except-finally` Verzweigung\n",
    "\n",
    "Grundlegender Aufbau eines `try-raise-except-finally` Blocks:\n",
    "\n",
    "- Ausführung des `try` Blocks wird abgebrochen, wenn eine Ausnahme ausgelöst wird.\n",
    "- Die Ausführung springt dann zum nächsten übergeordneten `except` Block.\n",
    "- Mehrere `except` Blöcke können anhand des Datentyps der Ausnahme unterschieden werden.\n",
    "- Der `finally` Block kann schließlich für Aufräumarbeiten verwendet werden (Dateien, Sockets, ...)"
   ]
  },
  {
   "cell_type": "code",
   "execution_count": 55,
   "metadata": {},
   "outputs": [
    {
     "name": "stdout",
     "output_type": "stream",
     "text": [
      "a\n",
      "c\n",
      "g\n"
     ]
    }
   ],
   "source": [
    "try:\n",
    "    print(\"a\")\n",
    "    a = 5,6\n",
    "    \n",
    "    # Ausnahmen werden durch Operator ausgelöst\n",
    "    a[2] # -> IndexError!\n",
    "    a[0] = 7 # -> TypeError!\n",
    "\n",
    "    # Ausnahme wird manuell ausgelöst\n",
    "    raise TypeError() # -> TypeError!\n",
    "    \n",
    "    print(\"b\")\n",
    "except IndexError:\n",
    "    print(\"c\")\n",
    "except TypeError:\n",
    "    print(\"d\")\n",
    "except int:\n",
    "    print(\"e\")\n",
    "except str:\n",
    "    print(\"f\")\n",
    "finally:\n",
    "    print(\"g\")"
   ]
  },
  {
   "cell_type": "code",
   "execution_count": 56,
   "metadata": {},
   "outputs": [
    {
     "name": "stdout",
     "output_type": "stream",
     "text": [
      "Fehler!\n"
     ]
    }
   ],
   "source": [
    "# Operatoren können auch Ausnahmen auslösen (1)\n",
    "\n",
    "try:\n",
    "    \"a\" + 1\n",
    "except:\n",
    "    print(\"Fehler!\")"
   ]
  },
  {
   "cell_type": "code",
   "execution_count": 57,
   "metadata": {},
   "outputs": [
    {
     "name": "stdout",
     "output_type": "stream",
     "text": [
      "Fehler!\n"
     ]
    }
   ],
   "source": [
    "# Operatoren können auch Ausnahmen auslösen (2)\n",
    "\n",
    "try:\n",
    "    [1, 2][5]\n",
    "except:\n",
    "    print(\"Fehler!\")"
   ]
  },
  {
   "cell_type": "code",
   "execution_count": 58,
   "metadata": {},
   "outputs": [
    {
     "name": "stdout",
     "output_type": "stream",
     "text": [
      "Fehler!\n"
     ]
    }
   ],
   "source": [
    "\n",
    "# Funktionen lösen meistens auch Ausnahmen aus\n",
    "\n",
    "def summe(a, b):\n",
    "    if type(a) is int and type(b) is int:\n",
    "        return a + b\n",
    "    else:\n",
    "        raise Exception(\"Fehler!\")\n",
    "\n",
    "try:\n",
    "    summe(1, \"a\")\n",
    "except:\n",
    "    print(\"Fehler!\")"
   ]
  }
 ],
 "metadata": {
  "kernelspec": {
   "display_name": "Python 3",
   "language": "python",
   "name": "python3"
  },
  "language_info": {
   "codemirror_mode": {
    "name": "ipython",
    "version": 3
   },
   "file_extension": ".py",
   "mimetype": "text/x-python",
   "name": "python",
   "nbconvert_exporter": "python",
   "pygments_lexer": "ipython3",
   "version": "3.12.2"
  }
 },
 "nbformat": 4,
 "nbformat_minor": 2
}
