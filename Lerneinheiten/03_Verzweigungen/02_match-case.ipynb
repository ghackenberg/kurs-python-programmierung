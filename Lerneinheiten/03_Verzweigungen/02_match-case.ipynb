{
 "cells": [
  {
   "cell_type": "markdown",
   "metadata": {},
   "source": [
    "# 2. `match-case` Verzweigung"
   ]
  },
  {
   "cell_type": "code",
   "execution_count": 54,
   "metadata": {},
   "outputs": [
    {
     "name": "stdout",
     "output_type": "stream",
     "text": [
      "a\n"
     ]
    }
   ],
   "source": [
    "Wert = 1, 2 # -> Tupel! Unveränderliche Liste\n",
    "\n",
    "Wert[0]\n",
    "Wert[1]\n",
    "\n",
    "match Wert:\n",
    "    case 1, 2:\n",
    "        print(\"a\")\n",
    "    case 2:\n",
    "        print(\"b\")\n",
    "    case 3:\n",
    "        print(\"c\")\n",
    "    case _:\n",
    "        print(\"d\")"
   ]
  }
 ],
 "metadata": {
  "kernelspec": {
   "display_name": "Python 3",
   "language": "python",
   "name": "python3"
  },
  "language_info": {
   "codemirror_mode": {
    "name": "ipython",
    "version": 3
   },
   "file_extension": ".py",
   "mimetype": "text/x-python",
   "name": "python",
   "nbconvert_exporter": "python",
   "pygments_lexer": "ipython3",
   "version": "3.12.2"
  }
 },
 "nbformat": 4,
 "nbformat_minor": 2
}
