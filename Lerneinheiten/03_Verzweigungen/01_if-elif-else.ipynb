{
 "cells": [
  {
   "cell_type": "markdown",
   "metadata": {},
   "source": [
    "# 1. `if-elif-else` Verzweigung"
   ]
  },
  {
   "cell_type": "code",
   "execution_count": 48,
   "metadata": {},
   "outputs": [],
   "source": [
    "Bedingung1 = False # Ein boolscher Wert, kann Ergebnis einer Berechnung sein\n",
    "Bedingung2 = True\n",
    "Bedingung3 = True"
   ]
  },
  {
   "cell_type": "code",
   "execution_count": 49,
   "metadata": {},
   "outputs": [],
   "source": [
    "# Einfache bedingte Ausführung\n",
    "\n",
    "if Bedingung1:\n",
    "    print(\"test\")"
   ]
  },
  {
   "cell_type": "code",
   "execution_count": 50,
   "metadata": {},
   "outputs": [
    {
     "name": "stdout",
     "output_type": "stream",
     "text": [
      "b\n"
     ]
    }
   ],
   "source": [
    "# Bedingte Ausführung mit einem alternativen Zweig\n",
    "\n",
    "if Bedingung1:\n",
    "    print(\"a\")\n",
    "elif Bedingung2:\n",
    "    print(\"b\")"
   ]
  },
  {
   "cell_type": "code",
   "execution_count": 51,
   "metadata": {},
   "outputs": [
    {
     "name": "stdout",
     "output_type": "stream",
     "text": [
      "b\n"
     ]
    }
   ],
   "source": [
    "# Bedingte Ausführung mit einem universellen Ausweichzweig\n",
    "\n",
    "if Bedingung1:\n",
    "    print(\"a\")\n",
    "else:\n",
    "    print(\"b\")"
   ]
  },
  {
   "cell_type": "code",
   "execution_count": 52,
   "metadata": {},
   "outputs": [
    {
     "name": "stdout",
     "output_type": "stream",
     "text": [
      "b\n"
     ]
    }
   ],
   "source": [
    "# Mischung der obigen Varianten (und komplexe Bedingungen)\n",
    "\n",
    "if Bedingung1 and type(Bedingung1) is bool:\n",
    "    print(\"a\")\n",
    "elif Bedingung2:\n",
    "\n",
    "    # Unterverzweigung, die unabhängig von der übergeordneten Verzweigung ist\n",
    "\n",
    "    if Bedingung1 or Bedingung2:\n",
    "        print(\"b\")\n",
    "    elif Bedingung3 or 5 > 2:\n",
    "        print(\"c\")\n",
    "    else:\n",
    "        print(\"d\")\n",
    "\n",
    "elif Bedingung3:\n",
    "    print(\"e\")\n",
    "else:\n",
    "    print(\"f\")"
   ]
  },
  {
   "cell_type": "code",
   "execution_count": 53,
   "metadata": {},
   "outputs": [
    {
     "name": "stdout",
     "output_type": "stream",
     "text": [
      "x\n",
      "ja!\n"
     ]
    }
   ],
   "source": [
    "# Abdeckung größerer Wertebereiche in einem Zweig\n",
    "\n",
    "i = 5\n",
    "\n",
    "if i > 0 and i < 10:\n",
    "    print(\"x\")\n",
    "\n",
    "if \"ab\" in \"itrjzhefjhdflhg  dfghdfgh  ab fegthzidfh\":\n",
    "    print(\"ja!\")"
   ]
  }
 ],
 "metadata": {
  "kernelspec": {
   "display_name": "Python 3",
   "language": "python",
   "name": "python3"
  },
  "language_info": {
   "codemirror_mode": {
    "name": "ipython",
    "version": 3
   },
   "file_extension": ".py",
   "mimetype": "text/x-python",
   "name": "python",
   "nbconvert_exporter": "python",
   "pygments_lexer": "ipython3",
   "version": "3.12.2"
  }
 },
 "nbformat": 4,
 "nbformat_minor": 2
}
